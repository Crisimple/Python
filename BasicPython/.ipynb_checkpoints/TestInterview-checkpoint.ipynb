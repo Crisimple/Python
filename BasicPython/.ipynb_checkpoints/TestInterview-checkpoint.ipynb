{
 "cells": [
  {
   "cell_type": "markdown",
   "metadata": {
    "collapsed": true
   },
   "source": [
    "# Python篇\n",
    "作为一个测试开发工程师，写代码是必备的技能，这也是很多大厂面试必备的环节。下面对这些常考的问题梳理下，做一下归类：\n",
    "\n",
    "https://www.cnblogs.com/uncleyong/\n",
    "\n",
    "https://www.cnblogs.com/yoyoketang/"
   ]
  },
  {
   "cell_type": "markdown",
   "metadata": {},
   "source": [
    "## 数据统计"
   ]
  },
  {
   "cell_type": "markdown",
   "metadata": {},
   "source": [
    "**统计一个字符串中每个字符元素出现的次数。**\n",
    "\n",
    "例如：str_sample = \"1122abcdas\", 1 出现了 2 次，2 出现了 2 次......\n",
    "\n",
    "**思路一：** 字典思路，利用字典的键天然去重特性。定义空字典，遍历字符元素并统计元素的个数赋值给字段，字符串元素做key，统计个数做value\n",
    "\n",
    "**思路二：** 利用 Python 的 collections 中的 Counter 方法，进行个数的统计，还可以进行指定文件中某个单词出现的个数的统计"
   ]
  },
  {
   "cell_type": "code",
   "execution_count": 124,
   "metadata": {},
   "outputs": [
    {
     "name": "stdout",
     "output_type": "stream",
     "text": [
      "思路一：\n",
      "{'w': 1, 'e': 3, 'a': 2, 'r': 2, 'h': 1, 'p': 2, 'y': 1, 'j': 1, 'o': 1, 'b': 1, '.': 1}\n",
      "\n",
      "思路二：\n",
      "Counter({'e': 3, 'a': 2, 'r': 2, 'p': 2, 'w': 1, 'h': 1, 'y': 1, 'j': 1, 'o': 1, 'b': 1, '.': 1})\n",
      "各个单词出现的次数：Counter({'are': 2, 'a': 2, 'we': 1, 'happy': 1, 'jober.\\nI': 1, 'want': 1, 'girl': 1, \"friend.\\nI'am\": 1, 'good': 1, 'boy.\\nDo': 1, 'you': 1, 'like': 1, 'me.\\nThere': 1, 'bad': 1, 'people.\\nThe': 1, 'weather': 1, 'looks': 1, 'good.': 1})\n",
      "字母 are 出现的次数：2\n"
     ]
    }
   ],
   "source": [
    "str_sample = \"we are happy jober.\"\n",
    "str_sample = str_sample.replace(\" \", \"\")\n",
    "\n",
    "print(\"思路一：\")\n",
    "dict_str = {}\n",
    "for i in str_sample:\n",
    "    dict_str[i] = str_sample.count(i)\n",
    "print(dict_str)\n",
    "\n",
    "print(\"\\n思路二：\")\n",
    "from collections import Counter\n",
    "counts = Counter(str_sample)\n",
    "print(counts)\n",
    "# -------------\n",
    "# ---> 改变成统计某段文章中a字母出现的次数\n",
    "with open(\"data/count.txt\", 'r', encoding=\"utf-8\") as fr:\n",
    "    text = fr.read().split(\" \")\n",
    "count_text = Counter(text)\n",
    "print(\"各个单词出现的次数：%s\" % (count_text))\n",
    "print(\"字母 %s 出现的次数：%s\" % (\"are\", count_text[\"are\"]))"
   ]
  },
  {
   "cell_type": "markdown",
   "metadata": {},
   "source": [
    "**统计在一个队列中的数字，有多少个正数，多少个负数**\n",
    "\n",
    "如[1, 3, 5, 7, 0, -1, -9, -4, -5, 8]\n",
    "\n",
    "**思路一**：遍历列表，根据与0的比较，生成正数列表和负数列表，然后分别求两个列表的长度。\n",
    "\n",
    "**思路二**：遍历列表，判断每个元素与0比较，用变量进行数据统计"
   ]
  },
  {
   "cell_type": "code",
   "execution_count": 125,
   "metadata": {},
   "outputs": [
    {
     "name": "stdout",
     "output_type": "stream",
     "text": [
      "正数的个数有：5\n",
      "负数的个数有：4\n",
      "正数的个数有：5\n",
      "正数的个数有：4\n"
     ]
    }
   ],
   "source": [
    "list_sample = [1, 3, 5, 7, 0, -1, -9, -4, -5, 8]\n",
    "\n",
    "# 思路一：\n",
    "list_1 = [i for i in list_sample if i > 0]\n",
    "print(\"正数的个数有：%s\" % len(list_1))\n",
    "list_2 = [i for i in list_sample if i < 0]\n",
    "print(\"负数的个数有：%s\" % len(list_2))\n",
    "\n",
    "\n",
    "# 思路二：\n",
    "positive_num = 0\n",
    "negative_num = 0\n",
    "for i in list_sample:\n",
    "    if i > 0:\n",
    "        positive_num += 1\n",
    "    elif i < 0:\n",
    "        negative_num += 1\n",
    "    else:\n",
    "        pass\n",
    "print(\"正数的个数有：%s\" % positive_num)\n",
    "print(\"正数的个数有：%s\" % negative_num)"
   ]
  },
  {
   "cell_type": "markdown",
   "metadata": {},
   "source": [
    "## 切片"
   ]
  },
  {
   "cell_type": "markdown",
   "metadata": {},
   "source": [
    "**字符串切片**\n",
    "\n",
    "用字符串 \"axbyczdj\"，得到 “abcd“ 字符串"
   ]
  },
  {
   "cell_type": "code",
   "execution_count": 126,
   "metadata": {},
   "outputs": [
    {
     "name": "stdout",
     "output_type": "stream",
     "text": [
      "新字符串为：abcd\n",
      "新字符串为： abcd\n"
     ]
    }
   ],
   "source": [
    "str_sample = \"axbyczdj\"\n",
    "print(\"新字符串为：%s\" % str_sample[::2])\n",
    "\n",
    "c = []\n",
    "for i in range(len(str_sample)):\n",
    "    if i % 2 == 0:\n",
    "        c.append(str_sample[i])\n",
    "print(\"新字符串为：\", \"\".join(c))"
   ]
  },
  {
   "cell_type": "markdown",
   "metadata": {},
   "source": [
    "字符串为“hello_world_yoyo”, 如何得到一个队列 [\"hello\",\"world\",\"yoyo\"]"
   ]
  },
  {
   "cell_type": "code",
   "execution_count": 127,
   "metadata": {},
   "outputs": [
    {
     "name": "stdout",
     "output_type": "stream",
     "text": [
      "['Hello', 'Jupyter', 'Notebook']\n",
      "<class 'list'>\n",
      "HelloJupyterNotebook\n"
     ]
    }
   ],
   "source": [
    "str_sample = \"Hello_Jupyter_Notebook\"\n",
    "new_sample = str_sample.split(\"_\")\n",
    "print(new_sample)\n",
    "print(type(new_sample))\n",
    "print(\"\".join(new_sample))"
   ]
  },
  {
   "cell_type": "markdown",
   "metadata": {},
   "source": [
    "## 排序\n",
    "排序问题是面试中经常遇到的经典问题，一共有 7 种排序的方法；这里介绍常见的排序方法、时间复杂度及空间复杂度。\n",
    "https://blog.csdn.net/m1090760001/article/details/103217052\n",
    "\n",
    "https://www.cnblogs.com/fwl8888/p/9315730.html"
   ]
  },
  {
   "cell_type": "markdown",
   "metadata": {},
   "source": [
    "**冒泡排序（Bubble Sort）**\n",
    "\n",
    "\n",
    "重复地遍历要排序的数列，一次比较两个元素，如果他们的顺序错误就交换他们的顺序，直到没有需要交换的排序完成。为什么叫冒泡排序呢？越小的元素交换后会慢慢地”浮“到数列的订单。\n",
    "\n",
    "**排序过程**：\n",
    "\n",
    "    （1）比较相邻的元素，如果第一个比第二个大（升序），就交换他们两个；\n",
    "    （2）对每一对相邻的元素做同样的操作，从开第一对到结尾最后一对。做完后，最后的元素会是最大的数；\n",
    "    （3）持续每次对越来越少的元素重复上面的步骤，直到没有任何一对数字需要比较。\n",
    "    \n",
    "**时间复杂度O**:\n",
    "\n",
    "    （1）最优时间复杂度：O(n)\n",
    "    （2）最坏时间复杂度：O(n**2)\n",
    "    （3）稳定性：稳定"
   ]
  },
  {
   "cell_type": "code",
   "execution_count": 128,
   "metadata": {},
   "outputs": [
    {
     "data": {
      "image/png": "[encoded data removed]",
      "text/plain": [
       "<Figure size 432x288 with 1 Axes>"
      ]
     },
     "metadata": {
      "needs_background": "light"
     },
     "output_type": "display_data"
    },
    {
     "data": {
      "image/png": "[encoded data removed]",
      "text/plain": [
       "<Figure size 432x288 with 1 Axes>"
      ]
     },
     "metadata": {
      "needs_background": "light"
     },
     "output_type": "display_data"
    },
    {
     "data": {
      "image/png": "[encoded data removed]",
      "text/plain": [
       "<Figure size 432x288 with 1 Axes>"
      ]
     },
     "metadata": {
      "needs_background": "light"
     },
     "output_type": "display_data"
    },
    {
     "data": {
      "image/png": "[encoded data removed]",
      "text/plain": [
       "<Figure size 432x288 with 1 Axes>"
      ]
     },
     "metadata": {
      "needs_background": "light"
     },
     "output_type": "display_data"
    },
    {
     "data": {
      "image/png": "[encoded data removed]",
      "text/plain": [
       "<Figure size 432x288 with 1 Axes>"
      ]
     },
     "metadata": {
      "needs_background": "light"
     },
     "output_type": "display_data"
    },
    {
     "data": {
      "image/png": "[encoded data removed]",
      "text/plain": [
       "<Figure size 432x288 with 1 Axes>"
      ]
     },
     "metadata": {
      "needs_background": "light"
     },
     "output_type": "display_data"
    },
    {
     "data": {
      "image/png": "[encoded data removed]",
      "text/plain": [
       "<Figure size 432x288 with 1 Axes>"
      ]
     },
     "metadata": {
      "needs_background": "light"
     },
     "output_type": "display_data"
    },
    {
     "data": {
      "image/png": "[encoded data removed]",
      "text/plain": [
       "<Figure size 432x288 with 1 Axes>"
      ]
     },
     "metadata": {
      "needs_background": "light"
     },
     "output_type": "display_data"
    },
    {
     "data": {
      "image/png": "[encoded data removed]",
      "text/plain": [
       "<Figure size 432x288 with 1 Axes>"
      ]
     },
     "metadata": {
      "needs_background": "light"
     },
     "output_type": "display_data"
    },
    {
     "data": {
      "image/png": "[encoded data removed]",
      "text/plain": [
       "<Figure size 432x288 with 1 Axes>"
      ]
     },
     "metadata": {
      "needs_background": "light"
     },
     "output_type": "display_data"
    },
    {
     "data": {
      "image/png": "[encoded data removed]",
      "text/plain": [
       "<Figure size 432x288 with 1 Axes>"
      ]
     },
     "metadata": {
      "needs_background": "light"
     },
     "output_type": "display_data"
    },
    {
     "data": {
      "image/png": "[encoded data removed]",
      "text/plain": [
       "<Figure size 432x288 with 1 Axes>"
      ]
     },
     "metadata": {
      "needs_background": "light"
     },
     "output_type": "display_data"
    },
    {
     "data": {
      "image/png": "[encoded data removed]",
      "text/plain": [
       "<Figure size 432x288 with 1 Axes>"
      ]
     },
     "metadata": {
      "needs_background": "light"
     },
     "output_type": "display_data"
    },
    {
     "data": {
      "image/png": "[encoded data removed]",
      "text/plain": [
       "<Figure size 432x288 with 1 Axes>"
      ]
     },
     "metadata": {
      "needs_background": "light"
     },
     "output_type": "display_data"
    },
    {
     "data": {
      "image/png": "[encoded data removed]",
      "text/plain": [
       "<Figure size 432x288 with 1 Axes>"
      ]
     },
     "metadata": {
      "needs_background": "light"
     },
     "output_type": "display_data"
    },
    {
     "data": {
      "image/png": "[encoded data removed]",
      "text/plain": [
       "<Figure size 432x288 with 1 Axes>"
      ]
     },
     "metadata": {
      "needs_background": "light"
     },
     "output_type": "display_data"
    },
    {
     "data": {
      "image/png": "[encoded data removed]",
      "text/plain": [
       "<Figure size 432x288 with 1 Axes>"
      ]
     },
     "metadata": {
      "needs_background": "light"
     },
     "output_type": "display_data"
    },
    {
     "data": {
      "image/png": "[encoded data removed]",
      "text/plain": [
       "<Figure size 432x288 with 1 Axes>"
      ]
     },
     "metadata": {
      "needs_background": "light"
     },
     "output_type": "display_data"
    },
    {
     "data": {
      "image/png": "[encoded data removed]",
      "text/plain": [
       "<Figure size 432x288 with 1 Axes>"
      ]
     },
     "metadata": {
      "needs_background": "light"
     },
     "output_type": "display_data"
    },
    {
     "data": {
      "image/png": "[encoded data removed]",
      "text/plain": [
       "<Figure size 432x288 with 1 Axes>"
      ]
     },
     "metadata": {
      "needs_background": "light"
     },
     "output_type": "display_data"
    },
    {
     "data": {
      "image/png": "[encoded data removed]",
      "text/plain": [
       "<Figure size 432x288 with 1 Axes>"
      ]
     },
     "metadata": {
      "needs_background": "light"
     },
     "output_type": "display_data"
    },
    {
     "data": {
      "image/png": "[encoded data removed]",
      "text/plain": [
       "<Figure size 432x288 with 1 Axes>"
      ]
     },
     "metadata": {
      "needs_background": "light"
     },
     "output_type": "display_data"
    },
    {
     "data": {
      "image/png": "[encoded data removed]",
      "text/plain": [
       "<Figure size 432x288 with 1 Axes>"
      ]
     },
     "metadata": {
      "needs_background": "light"
     },
     "output_type": "display_data"
    },
    {
     "data": {
      "image/png": "[encoded data removed]",
      "text/plain": [
       "<Figure size 432x288 with 1 Axes>"
      ]
     },
     "metadata": {
      "needs_background": "light"
     },
     "output_type": "display_data"
    },
    {
     "data": {
      "image/png": "[encoded data removed]",
      "text/plain": [
       "<Figure size 432x288 with 1 Axes>"
      ]
     },
     "metadata": {
      "needs_background": "light"
     },
     "output_type": "display_data"
    },
    {
     "data": {
      "image/png": "[encoded data removed]",
      "text/plain": [
       "<Figure size 432x288 with 1 Axes>"
      ]
     },
     "metadata": {
      "needs_background": "light"
     },
     "output_type": "display_data"
    },
    {
     "data": {
      "image/png": "[encoded data removed]",
      "text/plain": [
       "<Figure size 432x288 with 1 Axes>"
      ]
     },
     "metadata": {
      "needs_background": "light"
     },
     "output_type": "display_data"
    },
    {
     "data": {
      "image/png": "[encoded data removed]",
      "text/plain": [
       "<Figure size 432x288 with 1 Axes>"
      ]
     },
     "metadata": {
      "needs_background": "light"
     },
     "output_type": "display_data"
    },
    {
     "data": {
      "image/png": "[encoded data removed]",
      "text/plain": [
       "<Figure size 432x288 with 1 Axes>"
      ]
     },
     "metadata": {
      "needs_background": "light"
     },
     "output_type": "display_data"
    },
    {
     "data": {
      "image/png": "[encoded data removed]",
      "text/plain": [
       "<Figure size 432x288 with 1 Axes>"
      ]
     },
     "metadata": {
      "needs_background": "light"
     },
     "output_type": "display_data"
    },
    {
     "data": {
      "image/png": "[encoded data removed]",
      "text/plain": [
       "<Figure size 432x288 with 1 Axes>"
      ]
     },
     "metadata": {
      "needs_background": "light"
     },
     "output_type": "display_data"
    },
    {
     "data": {
      "image/png": "[encoded data removed]",
      "text/plain": [
       "<Figure size 432x288 with 1 Axes>"
      ]
     },
     "metadata": {
      "needs_background": "light"
     },
     "output_type": "display_data"
    },
    {
     "data": {
      "image/png": "[encoded data removed]",
      "text/plain": [
       "<Figure size 432x288 with 1 Axes>"
      ]
     },
     "metadata": {
      "needs_background": "light"
     },
     "output_type": "display_data"
    },
    {
     "data": {
      "image/png": "[encoded data removed]",
      "text/plain": [
       "<Figure size 432x288 with 1 Axes>"
      ]
     },
     "metadata": {
      "needs_background": "light"
     },
     "output_type": "display_data"
    },
    {
     "data": {
      "image/png": "[encoded data removed]",
      "text/plain": [
       "<Figure size 432x288 with 1 Axes>"
      ]
     },
     "metadata": {
      "needs_background": "light"
     },
     "output_type": "display_data"
    },
    {
     "data": {
      "image/png": "[encoded data removed]",
      "text/plain": [
       "<Figure size 432x288 with 1 Axes>"
      ]
     },
     "metadata": {
      "needs_background": "light"
     },
     "output_type": "display_data"
    },
    {
     "name": "stdout",
     "output_type": "stream",
     "text": [
      "[17, 20, 26, 31, 44, 54, 55, 77, 93]\n"
     ]
    }
   ],
   "source": [
    "from matplotlib import pyplot as plt \n",
    "\n",
    "LIST_SIZE = 40\n",
    "PAUSE_TIME = 4 / LIST_SIZE\n",
    "\n",
    "def bubble_sort(alist):\n",
    "    for i in range(len(alist)-1):\n",
    "        for j in range(len(alist)-i-1):\n",
    "            if alist[j] > alist[j+1]:\n",
    "                alist[j], alist[j+1] = alist[j+1], alist[j]\n",
    "            # 清除内容\n",
    "            plt.cla()\n",
    "            plt.bar(range(len(alist)), alist, align='center')\n",
    "            plt.bar(j, alist[j], color=\"r\", align=\"center\")\n",
    "            plt.bar(j + 1, alist[j + 1], color=\"r\", align=\"center\")\n",
    "            plt.pause(PAUSE_TIME)\n",
    "    plt.show()\n",
    "\n",
    "\n",
    "if __name__ == \"__main__\":\n",
    "    list_bubble = [54,26,93,17,77,31,44,55,20]\n",
    "    bubble_sort(list_bubble)\n",
    "    print(list_bubble)"
   ]
  },
  {
   "cell_type": "markdown",
   "metadata": {},
   "source": [
    "**选择排序（SelectSort）**\n",
    "\n",
    "首先在未排序序列中找到最小（或最大）元素，存放到排序序列的起始位置，然后再从剩余的未排序元素中继续寻找最小（最大）元素，然后放到已排序序列的末尾。\n",
    "\n",
    "**排序过程**：\n",
    "    \n",
    "    主要优点与数据移动有关。如果某个元素位于正确的最终位置上，则它不会被移动。选择排序每次交换一对元素，它们当中至少有一个将被移到其最终位置上，因此对n个元素的表进行排序总共进行至多n-1次交换。在所有的完全依靠交换去移动元素的排序方法中，选择排序属于非常好的一种。\n",
    "\n",
    "**时间复杂度**：\n",
    "    \n",
    "    （1）最优时间复杂度：O(n^2)\n",
    "    （2）最坏时间复杂度：O(n^2)\n",
    "    （3）稳定性：不稳定（考虑升序每次选择最大的情况）"
   ]
  },
  {
   "cell_type": "code",
   "execution_count": 129,
   "metadata": {},
   "outputs": [
    {
     "data": {
      "image/png": "[encoded data removed]",
      "text/plain": [
       "<Figure size 432x288 with 1 Axes>"
      ]
     },
     "metadata": {
      "needs_background": "light"
     },
     "output_type": "display_data"
    },
    {
     "data": {
      "image/png": "[encoded data removed]",
      "text/plain": [
       "<Figure size 432x288 with 1 Axes>"
      ]
     },
     "metadata": {
      "needs_background": "light"
     },
     "output_type": "display_data"
    },
    {
     "data": {
      "image/png": "[encoded data removed]",
      "text/plain": [
       "<Figure size 432x288 with 1 Axes>"
      ]
     },
     "metadata": {
      "needs_background": "light"
     },
     "output_type": "display_data"
    },
    {
     "data": {
      "image/png": "[encoded data removed]",
      "text/plain": [
       "<Figure size 432x288 with 1 Axes>"
      ]
     },
     "metadata": {
      "needs_background": "light"
     },
     "output_type": "display_data"
    },
    {
     "data": {
      "image/png": "[encoded data removed]",
      "text/plain": [
       "<Figure size 432x288 with 1 Axes>"
      ]
     },
     "metadata": {
      "needs_background": "light"
     },
     "output_type": "display_data"
    },
    {
     "data": {
      "image/png": "[encoded data removed]",
      "text/plain": [
       "<Figure size 432x288 with 1 Axes>"
      ]
     },
     "metadata": {
      "needs_background": "light"
     },
     "output_type": "display_data"
    },
    {
     "data": {
      "image/png": "[encoded data removed]",
      "text/plain": [
       "<Figure size 432x288 with 1 Axes>"
      ]
     },
     "metadata": {
      "needs_background": "light"
     },
     "output_type": "display_data"
    },
    {
     "data": {
      "image/png": "[encoded data removed]",
      "text/plain": [
       "<Figure size 432x288 with 1 Axes>"
      ]
     },
     "metadata": {
      "needs_background": "light"
     },
     "output_type": "display_data"
    },
    {
     "data": {
      "image/png": "[encoded data removed]",
      "text/plain": [
       "<Figure size 432x288 with 1 Axes>"
      ]
     },
     "metadata": {
      "needs_background": "light"
     },
     "output_type": "display_data"
    },
    {
     "data": {
      "image/png": "[encoded data removed]",
      "text/plain": [
       "<Figure size 432x288 with 1 Axes>"
      ]
     },
     "metadata": {
      "needs_background": "light"
     },
     "output_type": "display_data"
    },
    {
     "data": {
      "image/png": "[encoded data removed]",
      "text/plain": [
       "<Figure size 432x288 with 1 Axes>"
      ]
     },
     "metadata": {
      "needs_background": "light"
     },
     "output_type": "display_data"
    },
    {
     "data": {
      "image/png": "[encoded data removed]",
      "text/plain": [
       "<Figure size 432x288 with 1 Axes>"
      ]
     },
     "metadata": {
      "needs_background": "light"
     },
     "output_type": "display_data"
    },
    {
     "data": {
      "image/png": "[encoded data removed]",
      "text/plain": [
       "<Figure size 432x288 with 1 Axes>"
      ]
     },
     "metadata": {
      "needs_background": "light"
     },
     "output_type": "display_data"
    },
    {
     "data": {
      "image/png": "[encoded data removed]",
      "text/plain": [
       "<Figure size 432x288 with 1 Axes>"
      ]
     },
     "metadata": {
      "needs_background": "light"
     },
     "output_type": "display_data"
    },
    {
     "data": {
      "image/png": "[encoded data removed]",
      "text/plain": [
       "<Figure size 432x288 with 1 Axes>"
      ]
     },
     "metadata": {
      "needs_background": "light"
     },
     "output_type": "display_data"
    },
    {
     "data": {
      "image/png": "[encoded data removed]",
      "text/plain": [
       "<Figure size 432x288 with 1 Axes>"
      ]
     },
     "metadata": {
      "needs_background": "light"
     },
     "output_type": "display_data"
    },
    {
     "data": {
      "image/png": "[encoded data removed]",
      "text/plain": [
       "<Figure size 432x288 with 1 Axes>"
      ]
     },
     "metadata": {
      "needs_background": "light"
     },
     "output_type": "display_data"
    },
    {
     "data": {
      "image/png": "[encoded data removed]",
      "text/plain": [
       "<Figure size 432x288 with 1 Axes>"
      ]
     },
     "metadata": {
      "needs_background": "light"
     },
     "output_type": "display_data"
    },
    {
     "data": {
      "image/png": "[encoded data removed]",
      "text/plain": [
       "<Figure size 432x288 with 1 Axes>"
      ]
     },
     "metadata": {
      "needs_background": "light"
     },
     "output_type": "display_data"
    },
    {
     "data": {
      "image/png": "[encoded data removed]",
      "text/plain": [
       "<Figure size 432x288 with 1 Axes>"
      ]
     },
     "metadata": {
      "needs_background": "light"
     },
     "output_type": "display_data"
    },
    {
     "data": {
      "image/png": "[encoded data removed]",
      "text/plain": [
       "<Figure size 432x288 with 1 Axes>"
      ]
     },
     "metadata": {
      "needs_background": "light"
     },
     "output_type": "display_data"
    },
    {
     "data": {
      "image/png": "[encoded data removed]",
      "text/plain": [
       "<Figure size 432x288 with 1 Axes>"
      ]
     },
     "metadata": {
      "needs_background": "light"
     },
     "output_type": "display_data"
    },
    {
     "data": {
      "image/png": "[encoded data removed]",
      "text/plain": [
       "<Figure size 432x288 with 1 Axes>"
      ]
     },
     "metadata": {
      "needs_background": "light"
     },
     "output_type": "display_data"
    },
    {
     "data": {
      "image/png": "[encoded data removed]",
      "text/plain": [
       "<Figure size 432x288 with 1 Axes>"
      ]
     },
     "metadata": {
      "needs_background": "light"
     },
     "output_type": "display_data"
    },
    {
     "data": {
      "image/png": "[encoded data removed]",
      "text/plain": [
       "<Figure size 432x288 with 1 Axes>"
      ]
     },
     "metadata": {
      "needs_background": "light"
     },
     "output_type": "display_data"
    },
    {
     "data": {
      "image/png": "[encoded data removed]",
      "text/plain": [
       "<Figure size 432x288 with 1 Axes>"
      ]
     },
     "metadata": {
      "needs_background": "light"
     },
     "output_type": "display_data"
    },
    {
     "data": {
      "image/png": "[encoded data removed]",
      "text/plain": [
       "<Figure size 432x288 with 1 Axes>"
      ]
     },
     "metadata": {
      "needs_background": "light"
     },
     "output_type": "display_data"
    },
    {
     "data": {
      "image/png": "[encoded data removed]",
      "text/plain": [
       "<Figure size 432x288 with 1 Axes>"
      ]
     },
     "metadata": {
      "needs_background": "light"
     },
     "output_type": "display_data"
    },
    {
     "data": {
      "image/png": "[encoded data removed]",
      "text/plain": [
       "<Figure size 432x288 with 1 Axes>"
      ]
     },
     "metadata": {
      "needs_background": "light"
     },
     "output_type": "display_data"
    },
    {
     "data": {
      "image/png": "[encoded data removed]",
      "text/plain": [
       "<Figure size 432x288 with 1 Axes>"
      ]
     },
     "metadata": {
      "needs_background": "light"
     },
     "output_type": "display_data"
    },
    {
     "data": {
      "image/png": "[encoded data removed]",
      "text/plain": [
       "<Figure size 432x288 with 1 Axes>"
      ]
     },
     "metadata": {
      "needs_background": "light"
     },
     "output_type": "display_data"
    },
    {
     "data": {
      "image/png": "[encoded data removed]",
      "text/plain": [
       "<Figure size 432x288 with 1 Axes>"
      ]
     },
     "metadata": {
      "needs_background": "light"
     },
     "output_type": "display_data"
    },
    {
     "data": {
      "image/png": "[encoded data removed]",
      "text/plain": [
       "<Figure size 432x288 with 1 Axes>"
      ]
     },
     "metadata": {
      "needs_background": "light"
     },
     "output_type": "display_data"
    },
    {
     "data": {
      "image/png": "[encoded data removed]",
      "text/plain": [
       "<Figure size 432x288 with 1 Axes>"
      ]
     },
     "metadata": {
      "needs_background": "light"
     },
     "output_type": "display_data"
    },
    {
     "data": {
      "image/png": "[encoded data removed]",
      "text/plain": [
       "<Figure size 432x288 with 1 Axes>"
      ]
     },
     "metadata": {
      "needs_background": "light"
     },
     "output_type": "display_data"
    },
    {
     "data": {
      "image/png": "[encoded data removed]",
      "text/plain": [
       "<Figure size 432x288 with 1 Axes>"
      ]
     },
     "metadata": {
      "needs_background": "light"
     },
     "output_type": "display_data"
    },
    {
     "name": "stdout",
     "output_type": "stream",
     "text": [
      "[17, 20, 31, 44, 54, 55, 77, 93, 226]\n"
     ]
    }
   ],
   "source": [
    "from matplotlib import pyplot as plt\n",
    "\n",
    "LIST_SIZE = 40\n",
    "PAUSE_TIME = 4 / LIST_SIZE\n",
    "\n",
    "def selection_sort(nums):\n",
    "    for i in range(0, len(nums)):\n",
    "        min = i\n",
    "        for j in range(i + 1, len(nums)):\n",
    "            if nums[j] < nums[min]:\n",
    "                min = j\n",
    "            plt.cla()  # 清除内容\n",
    "            plt.bar(range(len(nums)), nums, align='center')\n",
    "            plt.bar(i, nums[i], color=\"r\", align=\"center\")\n",
    "            plt.bar(j, nums[j], color=\"r\", align=\"center\")\n",
    "            plt.pause(PAUSE_TIME)\n",
    "        nums[i], nums[min] = nums[min], nums[i]\n",
    "    plt.show()\n",
    "            \n",
    "\n",
    "if __name__ == \"__main__\":\n",
    "    list_sample = [54, 226, 93, 17, 77, 31, 44, 55, 20]\n",
    "    selection_sort(list_sample)\n",
    "    print(list_sample)"
   ]
  },
  {
   "cell_type": "markdown",
   "metadata": {},
   "source": [
    "## 数据判断"
   ]
  },
  {
   "cell_type": "markdown",
   "metadata": {},
   "source": [
    "**水仙花数**：\n",
    "打印 100 - 999 之间所有的 “水仙花数”（水仙花数，是指一个三位数其各位数字立方和等于该数本身）。例如：153 = 1^3 + 5^3 + 3^3 "
   ]
  },
  {
   "cell_type": "code",
   "execution_count": 130,
   "metadata": {},
   "outputs": [
    {
     "name": "stdout",
     "output_type": "stream",
     "text": [
      "100-999之间所有的水仙花数有： [153, 370, 371, 407]\n"
     ]
    }
   ],
   "source": [
    "def judge_sxh(num):\n",
    "    m = list(str(num))\n",
    "    s = 0\n",
    "    for i in m:\n",
    "        s += int(i) ** len(m)\n",
    "    if num == s:\n",
    "        return num\n",
    "    else:\n",
    "        pass\n",
    "    \n",
    "\n",
    "if __name__ == \"__main__\":\n",
    "    sxh = []\n",
    "    for i in range(100, 1000):\n",
    "        j = judge_sxh(i)\n",
    "        if j is not None:\n",
    "            sxh.append(j)\n",
    "    print(\"100-999之间所有的水仙花数有：\", sxh)"
   ]
  },
  {
   "cell_type": "markdown",
   "metadata": {},
   "source": [
    "**完全数**：如果一个数恰好等于它的因子之和，则称该数为“完全数”，又称为完备数或完美数。例如：6的完备数：1、2、3、6，6 = 1 + 2 + 3.\n",
    "\n",
    "求 1000 以内的完全数有哪些？"
   ]
  },
  {
   "cell_type": "code",
   "execution_count": 131,
   "metadata": {},
   "outputs": [
    {
     "name": "stdout",
     "output_type": "stream",
     "text": [
      "1000以内的完全数数有： [6, 28, 496]\n"
     ]
    }
   ],
   "source": [
    "def judge_perfect_num(num):\n",
    "    s = 0\n",
    "    for i in range(1, num):\n",
    "        if num % i == 0  and i < num:\n",
    "            s += i\n",
    "    if s == num:\n",
    "        return num\n",
    "    else:\n",
    "        pass\n",
    "    \n",
    "\n",
    "if __name__ == \"__main__\":\n",
    "    perfect_num = []\n",
    "    for i in range(1, 1000):\n",
    "        j = judge_perfect_num(i)\n",
    "        if j is not None:\n",
    "            perfect_num.append(j)\n",
    "    print(\"1000以内的完全数数有：\", perfect_num)"
   ]
  },
  {
   "cell_type": "markdown",
   "metadata": {},
   "source": [
    "## 递归"
   ]
  },
  {
   "cell_type": "markdown",
   "metadata": {},
   "source": [
    "**计算 n 的阶乘**"
   ]
  },
  {
   "cell_type": "code",
   "execution_count": 132,
   "metadata": {},
   "outputs": [
    {
     "name": "stdout",
     "output_type": "stream",
     "text": [
      "b_1:  3628800\n",
      "b_2:  3628800\n",
      "b_3:  3628800\n",
      "b_4:  3628800\n"
     ]
    }
   ],
   "source": [
    "from functools import reduce\n",
    "\n",
    "a = 10\n",
    "\n",
    "b_1 = reduce(lambda x, y: x * y, range(1, a+1))\n",
    "print(\"b_1: \", b_1)\n",
    "\n",
    "def multiplicate(x, y):\n",
    "    return x * y\n",
    "    \n",
    "b_2 = reduce(multiplicate, range(1, a+1))\n",
    "print(\"b_2: \", b_2)\n",
    "\n",
    "def digui(n):\n",
    "    if n == 1:\n",
    "        return 1\n",
    "    else:\n",
    "        return n*digui(n-1)\n",
    "b_3 = digui(a)\n",
    "print(\"b_3: \", b_3)\n",
    "\n",
    "s = 1\n",
    "for i in range(1, a+1):\n",
    "    s = s * i\n",
    "b_4 = s\n",
    "print(\"b_4: \", b_4)"
   ]
  },
  {
   "cell_type": "markdown",
   "metadata": {},
   "source": [
    "**斐波拉契数列**:"
   ]
  },
  {
   "cell_type": "code",
   "execution_count": 133,
   "metadata": {},
   "outputs": [
    {
     "name": "stdout",
     "output_type": "stream",
     "text": [
      "1,1,2,3,5,8,13,21,34,55,89,"
     ]
    }
   ],
   "source": [
    "def fibo(n):\n",
    "    a = 0 \n",
    "    b = 1\n",
    "    while b < 100:\n",
    "        print(b, end=\",\")\n",
    "        a, b = b, a+b\n",
    "        \n",
    "if __name__ == \"__main__\":\n",
    "    n = 10\n",
    "    fibo(n)"
   ]
  },
  {
   "cell_type": "markdown",
   "metadata": {},
   "source": [
    "**幂的递归**：计算 x ** n 次方"
   ]
  },
  {
   "cell_type": "code",
   "execution_count": 134,
   "metadata": {},
   "outputs": [
    {
     "name": "stdout",
     "output_type": "stream",
     "text": [
      "2 的 3 次方的值为：8\n"
     ]
    }
   ],
   "source": [
    "def mi(x, n):\n",
    "    if n == 0:\n",
    "        return 1\n",
    "    else:\n",
    "        return x * mi(x, n-1)\n",
    "\n",
    "if __name__ == \"__main__\":\n",
    "    a = 2\n",
    "    b = 3\n",
    "    print(\"%s 的 %s 次方的值为：%s\" % (a, b, mi(a, b)))"
   ]
  },
  {
   "cell_type": "markdown",
   "metadata": {},
   "source": [
    "汉诺塔"
   ]
  },
  {
   "cell_type": "code",
   "execution_count": 136,
   "metadata": {},
   "outputs": [],
   "source": [
    "pass"
   ]
  },
  {
   "cell_type": "markdown",
   "metadata": {},
   "source": [
    "# 接口篇"
   ]
  },
  {
   "cell_type": "markdown",
   "metadata": {},
   "source": [
    "## 网络基础"
   ]
  },
  {
   "cell_type": "markdown",
   "metadata": {},
   "source": [
    "### 浏览器输入 url 按回车背后经历了什么？"
   ]
  },
  {
   "cell_type": "markdown",
   "metadata": {},
   "source": [
    "    （1）检查输入url的合法性：浏览器地址栏输入 url，先解析 url，检测 url 地址是否合法；\n",
    "    \n",
    "    （2）浏览器检查缓存（先查看浏览器缓存-系统缓存-路由器缓存），如果有缓存，会直接在浏览器中显示。\n",
    "        浏览器缓存：浏览器会记录 DNS 记录一段时间，只是第一个地方解析 DNS 请求；\n",
    "        操作系统缓存：如果浏览器缓存中不存在该记录，则会调用操作系统最近的 DNS 查询缓存\n",
    "        浏览器缓存：上述两个步骤未获取到缓存记录，继续进行路由器缓存；\n",
    "        ISP 缓存：若上述均失败，继续向 ISP 搜索。\n",
    "        \n",
    "        【注】缓存相关的知识：https://www.cnblogs.com/slly/p/6732749.html\n",
    "        \n",
    "    （3）对域名进行DNS解析，获取到对应的IP地址；\n",
    "    \n",
    "    （4）浏览器向服务器发起 TCP 连接，建立 TCP 三次握手。\n",
    "        TCP三次握手：SYN：同步序列编号(Synchronize Sequence Numbers)\n",
    "            第一次握手：建立连接，客户端发送 SYN （SYN=j）包到服务端，并进入 SYN_SEND 状态，等待服务端确认；\n",
    "            第二次握手：服务端收到 SYN 包，确认客户端的 SYN（ack=j+1）,同时自己也发送一个 SYN 包（SYN=k），即发送 SYN+ACK 包，服务端进入 SYN_RECV 状态；\n",
    "            第三次握手：客户端收到服务端的 SYN+ACK 包，向服务端发送确认包 ACK（ACK=K+1），此包发送完毕，客户端和服务端进入 ESTABLISHED状态，完成三次握手。\n",
    "    \n",
    "    （5）握手成功后，浏览器向服务器发送 http 请求，请求数据包。\n",
    "    \n",
    "    （6）服务器收到客户端的请求后，将数据返回到浏览器\n",
    "    \n",
    "    （7）浏览器收到 HTTP 响应；\n",
    "    \n",
    "    （8）浏览器解码响应，如果响应可以缓存，则存入缓存；\n",
    "    \n",
    "    （9）浏览器发送请求获取嵌入在HTML中的资源（HTML、CSS、JavaScript、图片、音乐......），对于未知类型，会弹出对话框；\n",
    "    \n",
    "    （10）浏览器发送异步请求。\n",
    "    \n",
    "    （11）页面全部渲染结束。"
   ]
  },
  {
   "cell_type": "markdown",
   "metadata": {},
   "source": [
    "### 浏览器缓存"
   ]
  },
  {
   "cell_type": "markdown",
   "metadata": {},
   "source": [
    "**浏览器缓存资源**：HTML页面、图片、js、数据等；\n",
    "*当再次访问这个URL地址的时候，如果网页没有更新，就不会再次下载网页，而是直接使用本地缓存的网页。只有当网站明确标识资源已经更新，浏览器才会再次下载网页。*"
   ]
  },
  {
   "cell_type": "markdown",
   "metadata": {},
   "source": [
    "**缓存优点**：\n",
    "    \n",
    "    （1）减少网络带宽消耗。当Web缓存副本被使用的时候，只会产生极小的网络流量，可以有效的降低运营成本。\n",
    "    （2）降低服务器压力。对缓存资源设定有效期后，用户可以重复的使用本地缓存，较少对服务器资源的请求，间接降低服务器的压力；同时搜索引擎的爬虫机器人根据过期机制降低爬取的频率，有效降低服务器的压力；\n",
    "    （3）减少网络延迟，加快页面打开速度。加快页面打开速度，达到更好的体验。"
   ]
  },
  {
   "cell_type": "markdown",
   "metadata": {},
   "source": [
    "**缓存机制**：\n",
    "\n",
    "    （1）新鲜度（过期机制）：\n",
    "            A、含有完整的过期时间控制头信息（HTTP协议报头），并且仍在有效期内，浏览器直接从缓存中获取到副本并渲染。\n",
    "            B、浏览器已经使用过这个缓存副本，并且在一个会话中已经检查过新鲜度，浏览器直接从缓存中获取到副本并渲染。\n",
    "    （2）校验值（验证机制）：\n",
    "            服务器返回资源的时候有时在控制头信息带上这个资源的实体标签Etag（Entity Tag），它可以用来作为浏览器再次请求过程的校验标识。如过发现校验标识不匹配，说明资源已经被修改或过期，浏览器需求重新获取资源内容。"
   ]
  },
  {
   "cell_type": "markdown",
   "metadata": {},
   "source": [
    "**缓存实现**：\n",
    "\n",
    "    使用HTML Meta 标签：在HTML页面的<head>节点中加入<meta>标签\n",
    "    `<meta http-equiv=\"Pragma\" content=\"no-cache\">  <!- Pragma是http1.0版本中给客户端设定缓存方式之一 -->`"
   ]
  },
  {
   "cell_type": "markdown",
   "metadata": {},
   "source": [
    "### GET 和 POST 的区别"
   ]
  },
  {
   "cell_type": "markdown",
   "metadata": {},
   "source": [
    "**本质区别**：\n",
    "\n",
    "    GTE 请求产生一个 TCP 数据包，浏览器会把 http header 和 data 一并发出去，服务器响应 200 返回数据；\n",
    "    POST 请求产生两个 TCP 数据包，浏览器先发送 header ，服务器响应 100 continue，浏览器再发送 data，服务器响应 200 返回数据。"
   ]
  },
  {
   "cell_type": "markdown",
   "metadata": {},
   "source": [
    "### cookies 和 session"
   ]
  },
  {
   "cell_type": "markdown",
   "metadata": {},
   "source": [
    "区别：\n",
    "\n",
    "+ cookies 数据保存在客户端，session 数据保存在服务器端；\n",
    "+ cookies 可以减轻服务器压力， 但是不安全，容易进行 cookies 欺骗；\n",
    "+ session 较安全，但占用服务器资源"
   ]
  },
  {
   "cell_type": "markdown",
   "metadata": {},
   "source": [
    "### HTTP 状态码"
   ]
  },
  {
   "cell_type": "markdown",
   "metadata": {},
   "source": [
    "+ 2xx\n",
    "    - 200 请求已成功，请求所希望的响应头或数据体将随此响应返回。\n",
    "    - 201 请求已经被实现，而且有一个新的资源已经依据请求的需要而建立，且其 URI 已经随 Location 头信息返回\n",
    "    - 202 服务器已接受请求，但尚未处理\n",
    "\n",
    "+ 3xx\n",
    "    - 301 （永久移动） 请求的网页已永久移动到新位置。 服务器返回此响应（对 GET 或 HEAD 请求的响应）时，会自动将请求者转到新位置。\n",
    "    - 302 （临时移动） 服务器目前从不同位置的网页响应请求，但请求者应继续使用原有位置来进行以后的请求。\n",
    "    - 303 （查看其他位置） 请求者应当对不同的位置使用单独的 GET 请求来检索响应时，服务器返回此代码。\n",
    "    - 304 （未修改） 自从上次请求后，请求的网页未修改过。 服务器返回此响应时，不会返回网页内容。\n",
    "    - 305 （使用代理） 请求者只能使用代理访问请求的网页。 如果服务器返回此响应，还表示请求者应使用代理。\n",
    "    - 307 （临时重定向） 服务器目前从不同位置的网页响应请求，但请求者应继续使用原有位置来进行以后的请求。\n",
    "    \n",
    "+ 4xx\n",
    "    - 401 当前请求需要用户验证。如果当前请求已经包含了 Authorization 证书，那么 401 响应代表着服务器验证已经拒绝了那些证书\n",
    "    - 403 服务器已经理解请求，但是拒绝执行它。与 401 响应不同的是，身份验证并不能提供任何帮助，而且这个请求也不应该被重复提交\n",
    "    - 404 请求失败，请求所希望得到的资源未被在服务器上发现\n",
    "\n",
    "+ 5xx\n",
    "    - 500 服务器遇到了一个未曾预料的状况，导致了它无法完成对请求的处理。一般来说，这个问题都会在服务器的程序码出错时出现。\n",
    "    - 502 作为网关或者代理工作的服务器尝试执行请求时，从上游服务器接收到无效的响应。\n",
    "    - 503 由于临时的服务器维护或者过载，服务器当前无法处理请求。这个状况是临时的，并且将在一段时间以后恢复。\n"
   ]
  },
  {
   "cell_type": "markdown",
   "metadata": {},
   "source": [
    "### HTTP 和 HTTPS"
   ]
  },
  {
   "cell_type": "markdown",
   "metadata": {},
   "source": [
    "http 协议有哪几种请求方式？\n",
    "    \n",
    "    GET, POST 和 HEAD 方、OPTIONS, PUT, DELETE, TRACE 和 CONNECT 方法。\n",
    "    \n",
    "HTTPS=SSL+HTTP\n",
    "\n",
    "    1、https 协议需要到 ca 申请证书，一般免费证书较少，因而需要一定费用。\n",
    "    2、http 是超文本传输协议，信息是明文传输，https 则是具有安全性的 ssl 加密传输协议。\n",
    "    3、http 和 https 使用的是完全不同的连接方式，用的端口也不一样，前者是 80，后者是 443。\n",
    "    4、http 的连接很简单，是无状态的；HTTPS 协议是由 SSL+HTTP 协议构建的可进行加密传输、身份认证的网络协议，比 http 协议安全。\n",
    "    \n",
    "注：什么是无状态呢？\n",
    "+ 无状态就是对于事务处理没有记忆能力，意味着如果后续处理需要前面的信息无状态协议无法进行处理；\n",
    "+ 不过，集合其他技术可以解决\n",
    "    - cookies 会话保存\n",
    "    - session 会话保存"
   ]
  },
  {
   "cell_type": "markdown",
   "metadata": {},
   "source": [
    "### 报文"
   ]
  },
  {
   "cell_type": "markdown",
   "metadata": {},
   "source": [
    "+ 请求报文\n",
    "    - 请求行：包含请求方法、URL、HTTP版本信息\n",
    "    - 请求头部（headers）字段\n",
    "    - 请求内容实体（body）\n",
    "    \n",
    "+ 响应报文\n",
    "    - 转态行：HTTP版本、状态码、状态码原因信息\n",
    "    - 响应头部（headers）字段\n",
    "    - 响应内容实体（body）\n",
    "    \n",
    "POST请求方式：\n",
    "    - application/x-www-form-urlencoded\n",
    "    - multipart/form-data\n",
    "    - application/json\n",
    "    - text/xml"
   ]
  },
  {
   "cell_type": "markdown",
   "metadata": {},
   "source": [
    "### DNS"
   ]
  },
  {
   "cell_type": "markdown",
   "metadata": {},
   "source": [
    "域名解析服务。将主机名转换为 IP 地址。"
   ]
  },
  {
   "cell_type": "markdown",
   "metadata": {},
   "source": [
    "## 接口基础"
   ]
  },
  {
   "cell_type": "markdown",
   "metadata": {},
   "source": [
    "### 为什么做接口测试？"
   ]
  },
  {
   "cell_type": "markdown",
   "metadata": {},
   "source": [
    "**例子**\n",
    "\n",
    "电子钱包 ：\n",
    "    可提现金额：100元<br>\n",
    "    提现金额：【】元<br>\n",
    "    【提交】\n",
    "\n",
    "-----------\n",
    "**接口测试优势**\n",
    "    \n",
    "    （1）可以发现很多页面上操作发现不了的 bug\n",
    "    （2）检查系统的异常处理能力\n",
    "    （3）检查系统的安全性、稳定性\n",
    "    （4）前端随便变，接口测好了，后端不用变\n",
    "    （5）可以测试并发情况，一个账号，同时（大于 2 个请求）对最后一个商品下单，或不同账号，对最后一个商品下单\n",
    "    （6）可以修改请求参数，突破前端页面输入限制（如金额）"
   ]
  },
  {
   "cell_type": "markdown",
   "metadata": {},
   "source": [
    "### 接口怎么测？"
   ]
  },
  {
   "cell_type": "markdown",
   "metadata": {},
   "source": [
    "+ **业务功能测试**:\n",
    "    - **通过性验证**：按需求和接口文档上的参数正常传入，看是否能返回正确结果。\n",
    "    - **业务相关异常测试**:必传参数+非必传参数、异常参数类型、入参长度不符合规定\n",
    "+ **异常测试**:\n",
    "    - **重复提交**\n",
    "    - **并发测试**\n",
    "    - **事务测试**\n",
    "    - **分布式测试**\n",
    "    - **环境异常测试**\n",
    "    - **大数据量测试**\n",
    "        + **同时处理大批量数据的测试**\n",
    "        + **DB数据量很大时，测试 DB 操作**\n",
    "+ **参数组合**：接口中某些参数的多种选择值的组合传参\n",
    "+ **接口安全**：\n",
    "    - **绕过验证**：比如商品价格改为负数（或其他值），看后端是否有验证；\n",
    "    - **敏感信息是否加密**\n",
    "        - 绕过身份授权：比如商品信息修改接口，本来只能卖家进行修改，传入普通用户后，看是否有验证；\n",
    "        - 参数是否加密：登录接口，用户名和密码是否均加密，如果不加密的话，被拦截到请求；\n",
    "        - 密码安全规则：密码规则的验证（弱口令）\n",
    "    - **SQL注入**\n",
    "+ **异常验证**：必传非必传、参数类型、入参长度\n",
    "+ **性能测试**：\n",
    "    - **接口并发**\n",
    "    - **响应时间**\n",
    "    - **吞吐量**\n",
    "    - **服务器资源使用率**：CPU、IO、内存、NetWork\n",
    "----\n",
    "+ **接口中数据依赖怎么处理**：\n",
    "    - 在手工接口测试或者自动化接口测试的过程中，上下游接口有数据依赖如何处理？\n",
    "    - 用一个全局变量来处理依赖的数据，比如登录后返回 token,其它接口都需要这个 token,那就用全局变量来传 token 参数"
   ]
  },
  {
   "cell_type": "markdown",
   "metadata": {},
   "source": [
    "### 没有接口文档怎么测接口？"
   ]
  },
  {
   "cell_type": "markdown",
   "metadata": {},
   "source": [
    "（**情商题**）\n",
    "+ 1.没有接口文档，那就需要先跟开发沟通，然后整理接口文档（本来是开发写的，没办法，自己整理了）\n",
    "\n",
    "+ 2.没有接口文档，可以抓包看接口请求参数，然后不懂的跟开发沟通\n",
    "\n",
    "-- 在做漏洞扫描器的工作时......"
   ]
  },
  {
   "cell_type": "markdown",
   "metadata": {},
   "source": [
    "### 如何判断是前端还是后端bug？"
   ]
  },
  {
   "cell_type": "markdown",
   "metadata": {},
   "source": [
    "先抓包看请求报文，对照接口文档，看请求报文有无问题，有问题就是前端发的数据不对，前端的问题；<br>\n",
    "请求报文没问题的话，看返回报文，返回的数据不对，那就是后端的问题"
   ]
  },
  {
   "cell_type": "markdown",
   "metadata": {},
   "source": [
    "## 接口自动化"
   ]
  },
  {
   "cell_type": "markdown",
   "metadata": {},
   "source": [
    "### json和dict的区别"
   ]
  },
  {
   "cell_type": "markdown",
   "metadata": {},
   "source": [
    "Python 中的基础数据类型有：int、str、float、list、tuple、dict、set、bool、complex几种数据类型，所以dict是Python的基本数据类型；<br>\n",
    "Json（JavaScript Object Notation，JS对象简谱），是一种轻量级、完全独立于编程语言的文本形式存储的数据交换格式。Json 的本质上是按key:value键值对形式的字符串。"
   ]
  },
  {
   "cell_type": "code",
   "execution_count": 151,
   "metadata": {},
   "outputs": [
    {
     "name": "stdout",
     "output_type": "stream",
     "text": [
      "dict_sample type is:  <class 'dict'>\n",
      "json_sample type is:  <class 'str'>\n"
     ]
    }
   ],
   "source": [
    "dict_sample = {\n",
    "    \"a\":1,\n",
    "    \"b\":{\n",
    "        'b1':21,\n",
    "        'b2':22\n",
    "    },\n",
    "    \"c\":3\n",
    "}\n",
    "print(\"dict_sample type is: \", type(dict_sample))\n",
    "\n",
    "json_sample = \"\"\"{\n",
    "    \"a\":1,\n",
    "    \"b\":{\n",
    "        'b1':21,\n",
    "        'b2':22\n",
    "    },\n",
    "    \"c\":3\n",
    "}\"\"\"\n",
    "print(\"json_sample type is: \", type(json_sample))"
   ]
  },
  {
   "cell_type": "markdown",
   "metadata": {},
   "source": [
    "### 测试数据放在哪？"
   ]
  },
  {
   "cell_type": "markdown",
   "metadata": {},
   "source": [
    "+ 对于账号密码这类全局参数，可以单独抽出来写在配置文件中（如ini）\n",
    "+ 对于一些一次性消耗的数据，比如注册，每次注册不一样的数，可以用随机函数生成\n",
    "+ 对于一个接口有多组测试的参数，可以参数化，数据方yaml，text，json，excel都可以\n",
    "+ 对于可以反复使用的数据，如订单的各种状态需要造数据，可以放在数据库中，每次进行数据初始化，用完后再进行清理\n",
    "+ 对于邮箱配置的一些参数，可以用ini配置文件\n",
    "+ 对于全是独立的接口项目，可以用数据驱动方式，用excel、csv管理测试的接口数据\n",
    "+ 对于少量的静态数据，这些数据长期不会变的，可以写在py脚本的开头\n",
    "\n",
    "总之不同的测试数据，可以用不同的文件管理"
   ]
  },
  {
   "cell_type": "markdown",
   "metadata": {},
   "source": []
  },
  {
   "cell_type": "markdown",
   "metadata": {},
   "source": [
    "# SQL篇"
   ]
  },
  {
   "cell_type": "markdown",
   "metadata": {},
   "source": [
    "## 索引\n",
    "在关系型数据库中，索引是一种单独的、物理的对数据库表中一列或多列的值进行预排序的数据存储结构（相当于图书目录）；通过索引，可以让数据系统不必扫描全表，而直接定位到符合条件的标记，加速了查询速度。"
   ]
  },
  {
   "cell_type": "markdown",
   "metadata": {},
   "source": [
    "### 普通索引\n",
    "最基本的索引，没有任何限制，直接创建"
   ]
  },
  {
   "cell_type": "markdown",
   "metadata": {},
   "source": [
    "`CREATE INDEX index_name ON table(coulumn(length))`"
   ]
  },
  {
   "cell_type": "markdown",
   "metadata": {},
   "source": [
    "### 唯一索引\n",
    "相比普通索引，唯一索引不允许具有相同索引值的行（禁止重复的索引或键值），必须是唯一的，但允许可以有空值。"
   ]
  },
  {
   "cell_type": "markdown",
   "metadata": {},
   "source": [
    "# Linux篇"
   ]
  },
  {
   "cell_type": "markdown",
   "metadata": {},
   "source": [
    "# Git篇"
   ]
  },
  {
   "cell_type": "code",
   "execution_count": null,
   "metadata": {},
   "outputs": [],
   "source": []
  }
 ],
 "metadata": {
  "kernelspec": {
   "display_name": "Python 3",
   "language": "python",
   "name": "python3"
  },
  "language_info": {
   "codemirror_mode": {
    "name": "ipython",
    "version": 3
   },
   "file_extension": ".py",
   "mimetype": "text/x-python",
   "name": "python",
   "nbconvert_exporter": "python",
   "pygments_lexer": "ipython3",
   "version": "3.6.9"
  },
  "latex_envs": {
   "LaTeX_envs_menu_present": true,
   "autoclose": false,
   "autocomplete": true,
   "bibliofile": "biblio.bib",
   "cite_by": "apalike",
   "current_citInitial": 1,
   "eqLabelWithNumbers": true,
   "eqNumInitial": 1,
   "hotkeys": {
    "equation": "Ctrl-E",
    "itemize": "Ctrl-I"
   },
   "labels_anchors": false,
   "latex_user_defs": false,
   "report_style_numbering": false,
   "user_envs_cfg": false
  },
  "toc": {
   "base_numbering": 1,
   "nav_menu": {
    "height": "99.9866px",
    "width": "487.967px"
   },
   "number_sections": true,
   "sideBar": true,
   "skip_h1_title": false,
   "title_cell": "Table of Contents",
   "title_sidebar": "测开常用题",
   "toc_cell": false,
   "toc_position": {
    "height": "calc(100% - 180px)",
    "left": "10px",
    "top": "150px",
    "width": "277.668px"
   },
   "toc_section_display": true,
   "toc_window_display": true
  },
  "varInspector": {
   "cols": {
    "lenName": 16,
    "lenType": 16,
    "lenVar": 40
   },
   "kernels_config": {
    "python": {
     "delete_cmd_postfix": "",
     "delete_cmd_prefix": "del ",
     "library": "var_list.py",
     "varRefreshCmd": "print(var_dic_list())"
    },
    "r": {
     "delete_cmd_postfix": ") ",
     "delete_cmd_prefix": "rm(",
     "library": "var_list.r",
     "varRefreshCmd": "cat(var_dic_list()) "
    }
   },
   "types_to_exclude": [
    "module",
    "function",
    "builtin_function_or_method",
    "instance",
    "_Feature"
   ],
   "window_display": false
  }
 },
 "nbformat": 4,
 "nbformat_minor": 1
}
