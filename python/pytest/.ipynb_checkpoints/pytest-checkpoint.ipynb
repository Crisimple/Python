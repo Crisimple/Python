{
 "cells": [
  {
   "cell_type": "markdown",
   "metadata": {},
   "source": [
    "# Pytest vs Unittest"
   ]
  },
  {
   "cell_type": "markdown",
   "metadata": {},
   "source": [
    "+ 测试用例设计\n",
    "    - Unitest\n",
    "        + 测试类必须继承 unittest.TestCase\n",
    "        + 测试函数必须以 test_ 开头\n",
    "        + 测试类必须有 unittest.main() 方法\n",
    "    - Pytest\n",
    "        + 测试文件必须以 test_ 开头，或者以 _test 结尾\n",
    "        + 测试类必须以 Test 开头\n",
    "        + 测试函数必须以 test 开头\n",
    "        + 测试类里不能使用 \"______init__\" 方法\n",
    "        + Pytest 兼容 Unittest 测试用例，但 Unittest 不兼容 Pytest\n",
    "        \n",
    "+ 断言比较\n",
    "    - Unittest\n",
    "        + assertEqual(a, b)    # 判断a和b是否相等\n",
    "        + assertNotEqual(a, b)     # 判断a不等于b\n",
    "        + assertTrue(a)    # 判断a是否为Ture\n",
    "        + assertFalse(a)    #判断a是否为False\n",
    "        + assertIn(a, b)     # a 包含在b里面\n",
    "        + asserNotIn(a, b)    # a 不包含在b里面\n",
    "    - Pytest\n",
    "        + assert 后面加需要断言的条件就可以了，例如：\n",
    "        + assert  a = = b  # 判断a是否等于b\n",
    "        + assert a != b  # 判断a不等于b、\n",
    "        + assert a in b   # 判断b包含a\n",
    "+ 用例前置和后置\n",
    "    - Unittest\n",
    "        + 通过setup每个用例执行前执行，teardown每个用例执行后执行\n",
    "        + 通过setupclass类里面所有用例执行前执行，teardownclass类里面所有用例执行后执行\n",
    "    - Pytest\n",
    "        + 模块级别：setup_module/teardown_module，整个.py全部用例开始前执行/全部用例执行完后执行\n",
    "        + 函数级别：setup_function/teardown_function，只对函数级别生效，每个用例开始前和结束后执行一次\n",
    "        + 类级别：setup_class/teardown_function,只对类级别生效，类里面所有用例开始前执行一次，所有用例执行完执行一次\n",
    "        + 方法级别：setup_method/teardown_method,只是类里面方法级别生效，方法开始前执行一致，方法结束后执行一次\n",
    "        + 方法级别：setup/teardown，这个与setup_method/teardown_method用法很类似，但是级别比method级别要低，也就是说在同一个方法中会先执行setup_method再执行setup，方法结束后先执行teardown再执行teardown_method\n",
    "        +  通过firture可以自定义pytest的前置和后置，格式fixture(scope=”function”, params=None, autouse=False, ids=None, name=None)\n",
    "            - scope:有四个级别，function（默认）,class, module, session\n",
    "            - params:参数列表\n",
    "            - autouse:False为默认值，意思代表需要根据设置的条件（scope级别）来激活fixture，如果为Ture，则表示所有function级别的都被激活fixture\n",
    "            - ids：每个字符串id的列表，感觉没啥实质性作用\n",
    "            - name：fixture的名字\n",
    "+ 参数化\n",
    "    - Unittest：可以通过nose_parameterized来实现，格式：@nose_parameterized.parameterized.expand(data), ‘data’为list格式的参数化的数据\n",
    "    - Pytest：通过装饰器@pytest.mark.parametrize来实现\n",
    "+ 生成报告方式\n",
    "    - Unittest：通过HTMLTestRunner生成\n",
    "    - Pytest：通过pytest-html生成html格式报告；结合 Allure 可以生成更漂亮的测试报告\n",
    "\n"
   ]
  },
  {
   "cell_type": "markdown",
   "metadata": {},
   "source": [
    "# 环境配置"
   ]
  },
  {
   "cell_type": "markdown",
   "metadata": {},
   "source": [
    "## 介绍"
   ]
  },
  {
   "cell_type": "markdown",
   "metadata": {},
   "source": [
    "pytest 是一个非常成熟的 Python 测试框架，可以做到做个场景的测试工作，如：单元测试、接口测试、web测试等。\n",
    "\n",
    "+ pytest-selenium（集成 selenium）\n",
    "+ pytest-html（完美html测试报告生成）\n",
    "+ pytest-rerunfailures（失败 case 重复执行）\n",
    "+ pytest-xdist（多CPU分发）\n",
    "+ 测试用例的 skip 和 xfail 处理\n",
    "+ 可以很好的和 jenkins 集成\n",
    "\n",
    "pytest 是一个插件化平台，这就是它比 unittest 强大的原因，丰富的插件扩展增强了它的功能，也可以根据自己的需要定制化开发自己的插件，非常的灵活。"
   ]
  },
  {
   "cell_type": "markdown",
   "metadata": {},
   "source": [
    "## 安装"
   ]
  },
  {
   "cell_type": "code",
   "execution_count": 1,
   "metadata": {},
   "outputs": [
    {
     "name": "stdout",
     "output_type": "stream",
     "text": [
      "Collecting pytest\n",
      "  Downloading http://mirrors.tencentyun.com/pypi/packages/c7/e2/c19c667f42f72716a7d03e8dd4d6f63f47d39feadd44cc1ee7ca3089862c/pytest-5.4.1-py3-none-any.whl (246kB)\n",
      "\u001b[K    100% |████████████████████████████████| 256kB 1.6MB/s ta 0:00:01\n",
      "\u001b[?25hCollecting more-itertools>=4.0.0 (from pytest)\n",
      "  Downloading http://mirrors.tencentyun.com/pypi/packages/72/96/4297306cc270eef1e3461da034a3bebe7c84eff052326b130824e98fc3fb/more_itertools-8.2.0-py3-none-any.whl (43kB)\n",
      "\u001b[K    100% |████████████████████████████████| 51kB 48.1MB/s ta 0:00:01\n",
      "\u001b[?25hCollecting packaging (from pytest)\n",
      "  Downloading http://mirrors.tencentyun.com/pypi/packages/62/0a/34641d2bf5c917c96db0ded85ae4da25b6cd922d6b794648d4e7e07c88e5/packaging-20.3-py2.py3-none-any.whl\n",
      "Collecting py>=1.5.0 (from pytest)\n",
      "  Downloading http://mirrors.tencentyun.com/pypi/packages/99/8d/21e1767c009211a62a8e3067280bfce76e89c9f876180308515942304d2d/py-1.8.1-py2.py3-none-any.whl (83kB)\n",
      "\u001b[K    100% |████████████████████████████████| 92kB 2.8MB/s ta 0:00:011\n",
      "\u001b[?25hCollecting pluggy<1.0,>=0.12 (from pytest)\n",
      "  Downloading http://mirrors.tencentyun.com/pypi/packages/a0/28/85c7aa31b80d150b772fbe4a229487bc6644da9ccb7e427dd8cc60cb8a62/pluggy-0.13.1-py2.py3-none-any.whl\n",
      "Collecting attrs>=17.4.0 (from pytest)\n",
      "  Downloading http://mirrors.tencentyun.com/pypi/packages/a2/db/4313ab3be961f7a763066401fb77f7748373b6094076ae2bda2806988af6/attrs-19.3.0-py2.py3-none-any.whl\n",
      "Collecting wcwidth (from pytest)\n",
      "  Downloading http://mirrors.tencentyun.com/pypi/packages/f6/d5/1ecdac957e3ea12c1b319fcdee8b6917ffaff8b4644d673c4d72d2f20b49/wcwidth-0.1.9-py2.py3-none-any.whl\n",
      "Collecting importlib-metadata>=0.12; python_version < \"3.8\" (from pytest)\n",
      "  Downloading http://mirrors.tencentyun.com/pypi/packages/ad/e4/891bfcaf868ccabc619942f27940c77a8a4b45fd8367098955bb7e152fb1/importlib_metadata-1.6.0-py2.py3-none-any.whl\n",
      "Collecting pyparsing>=2.0.2 (from packaging->pytest)\n",
      "  Downloading http://mirrors.tencentyun.com/pypi/packages/8a/bb/488841f56197b13700afd5658fc279a2025a39e22449b7cf29864669b15d/pyparsing-2.4.7-py2.py3-none-any.whl (67kB)\n",
      "\u001b[K    100% |████████████████████████████████| 71kB 2.2MB/s eta 0:00:01\n",
      "\u001b[?25hCollecting six (from packaging->pytest)\n",
      "  Downloading http://mirrors.tencentyun.com/pypi/packages/65/eb/1f97cb97bfc2390a276969c6fae16075da282f5058082d4cb10c6c5c1dba/six-1.14.0-py2.py3-none-any.whl\n",
      "Collecting zipp>=0.5 (from importlib-metadata>=0.12; python_version < \"3.8\"->pytest)\n",
      "  Downloading http://mirrors.tencentyun.com/pypi/packages/b2/34/bfcb43cc0ba81f527bc4f40ef41ba2ff4080e047acb0586b56b3d017ace4/zipp-3.1.0-py3-none-any.whl\n",
      "Installing collected packages: more-itertools, pyparsing, six, packaging, py, zipp, importlib-metadata, pluggy, attrs, wcwidth, pytest\n",
      "Successfully installed attrs-19.3.0 importlib-metadata-1.6.0 more-itertools-8.2.0 packaging-20.3 pluggy-0.13.1 py-1.8.1 pyparsing-2.4.7 pytest-5.4.1 six-1.14.0 wcwidth-0.1.9 zipp-3.1.0\n"
     ]
    }
   ],
   "source": [
    "# 安装 pytest \n",
    "# !pip3 install pytest"
   ]
  },
  {
   "cell_type": "code",
   "execution_count": 3,
   "metadata": {},
   "outputs": [
    {
     "name": "stdout",
     "output_type": "stream",
     "text": [
      "This is pytest version 5.4.1, imported from /home/ubuntu/.local/lib/python3.6/site-packages/pytest/__init__.py\r\n"
     ]
    }
   ],
   "source": [
    "# 查看 pytest 是否安装成功\n",
    "# !pytest --version"
   ]
  },
  {
   "cell_type": "code",
   "execution_count": 4,
   "metadata": {},
   "outputs": [
    {
     "name": "stdout",
     "output_type": "stream",
     "text": [
      "\u001b[1m============================= test session starts ==============================\u001b[0m\n",
      "platform linux -- Python 3.6.9, pytest-5.4.1, py-1.8.1, pluggy-0.13.1\n",
      "rootdir: /home/ubuntu/MySpace/Python/pytest\n",
      "collected 0 items                                                              \u001b[0m\u001b[1m\n",
      "\u001b[32mcache\u001b[0m\n",
      "    Return a cache object that can persist state between testing sessions.\n",
      "    \n",
      "    cache.get(key, default)\n",
      "    cache.set(key, value)\n",
      "    \n",
      "    Keys must be a ``/`` separated value, where the first part is usually the\n",
      "    name of your plugin or application to avoid clashes with other cache users.\n",
      "    \n",
      "    Values can be any object handled by the json stdlib module.\n",
      "\n",
      "\u001b[32mcapsys\u001b[0m\n",
      "    Enable text capturing of writes to ``sys.stdout`` and ``sys.stderr``.\n",
      "    \n",
      "    The captured output is made available via ``capsys.readouterr()`` method\n",
      "    calls, which return a ``(out, err)`` namedtuple.\n",
      "    ``out`` and ``err`` will be ``text`` objects.\n",
      "\n",
      "\u001b[32mcapsysbinary\u001b[0m\n",
      "    Enable bytes capturing of writes to ``sys.stdout`` and ``sys.stderr``.\n",
      "    \n",
      "    The captured output is made available via ``capsysbinary.readouterr()``\n",
      "    method calls, which return a ``(out, err)`` namedtuple.\n",
      "    ``out`` and ``err`` will be ``bytes`` objects.\n",
      "\n",
      "\u001b[32mcapfd\u001b[0m\n",
      "    Enable text capturing of writes to file descriptors ``1`` and ``2``.\n",
      "    \n",
      "    The captured output is made available via ``capfd.readouterr()`` method\n",
      "    calls, which return a ``(out, err)`` namedtuple.\n",
      "    ``out`` and ``err`` will be ``text`` objects.\n",
      "\n",
      "\u001b[32mcapfdbinary\u001b[0m\n",
      "    Enable bytes capturing of writes to file descriptors ``1`` and ``2``.\n",
      "    \n",
      "    The captured output is made available via ``capfd.readouterr()`` method\n",
      "    calls, which return a ``(out, err)`` namedtuple.\n",
      "    ``out`` and ``err`` will be ``byte`` objects.\n",
      "\n",
      "\u001b[32mdoctest_namespace\u001b[0m\u001b[36m [session scope]\u001b[0m\n",
      "    Fixture that returns a :py:class:`dict` that will be injected into the namespace of doctests.\n",
      "\n",
      "\u001b[32mpytestconfig\u001b[0m\u001b[36m [session scope]\u001b[0m\n",
      "    Session-scoped fixture that returns the :class:`_pytest.config.Config` object.\n",
      "    \n",
      "    Example::\n",
      "    \n",
      "        def test_foo(pytestconfig):\n",
      "            if pytestconfig.getoption(\"verbose\") > 0:\n",
      "                ...\n",
      "\n",
      "\u001b[32mrecord_property\u001b[0m\n",
      "    Add an extra properties the calling test.\n",
      "    User properties become part of the test report and are available to the\n",
      "    configured reporters, like JUnit XML.\n",
      "    The fixture is callable with ``(name, value)``, with value being automatically\n",
      "    xml-encoded.\n",
      "    \n",
      "    Example::\n",
      "    \n",
      "        def test_function(record_property):\n",
      "            record_property(\"example_key\", 1)\n",
      "\n",
      "\u001b[32mrecord_xml_attribute\u001b[0m\n",
      "    Add extra xml attributes to the tag for the calling test.\n",
      "    The fixture is callable with ``(name, value)``, with value being\n",
      "    automatically xml-encoded\n",
      "\n",
      "\u001b[32mrecord_testsuite_property\u001b[0m\u001b[36m [session scope]\u001b[0m\n",
      "    Records a new ``<property>`` tag as child of the root ``<testsuite>``. This is suitable to\n",
      "    writing global information regarding the entire test suite, and is compatible with ``xunit2`` JUnit family.\n",
      "    \n",
      "    This is a ``session``-scoped fixture which is called with ``(name, value)``. Example:\n",
      "    \n",
      "    .. code-block:: python\n",
      "    \n",
      "        def test_foo(record_testsuite_property):\n",
      "            record_testsuite_property(\"ARCH\", \"PPC\")\n",
      "            record_testsuite_property(\"STORAGE_TYPE\", \"CEPH\")\n",
      "    \n",
      "    ``name`` must be a string, ``value`` will be converted to a string and properly xml-escaped.\n",
      "\n",
      "\u001b[32mcaplog\u001b[0m\n",
      "    Access and control log capturing.\n",
      "    \n",
      "    Captured logs are available through the following properties/methods::\n",
      "    \n",
      "    * caplog.messages        -> list of format-interpolated log messages\n",
      "    * caplog.text            -> string containing formatted log output\n",
      "    * caplog.records         -> list of logging.LogRecord instances\n",
      "    * caplog.record_tuples   -> list of (logger_name, level, message) tuples\n",
      "    * caplog.clear()         -> clear captured records and formatted log output string\n",
      "\n",
      "\u001b[32mmonkeypatch\u001b[0m\n",
      "    The returned ``monkeypatch`` fixture provides these\n",
      "    helper methods to modify objects, dictionaries or os.environ::\n",
      "    \n",
      "        monkeypatch.setattr(obj, name, value, raising=True)\n",
      "        monkeypatch.delattr(obj, name, raising=True)\n",
      "        monkeypatch.setitem(mapping, name, value)\n",
      "        monkeypatch.delitem(obj, name, raising=True)\n",
      "        monkeypatch.setenv(name, value, prepend=False)\n",
      "        monkeypatch.delenv(name, raising=True)\n",
      "        monkeypatch.syspath_prepend(path)\n",
      "        monkeypatch.chdir(path)\n",
      "    \n",
      "    All modifications will be undone after the requesting\n",
      "    test function or fixture has finished. The ``raising``\n",
      "    parameter determines if a KeyError or AttributeError\n",
      "    will be raised if the set/deletion operation has no target.\n",
      "\n",
      "\u001b[32mrecwarn\u001b[0m\n",
      "    Return a :class:`WarningsRecorder` instance that records all warnings emitted by test functions.\n",
      "    \n",
      "    See http://docs.python.org/library/warnings.html for information\n",
      "    on warning categories.\n",
      "\n",
      "\u001b[32mtmpdir_factory\u001b[0m\u001b[36m [session scope]\u001b[0m\n",
      "    Return a :class:`_pytest.tmpdir.TempdirFactory` instance for the test session.\n",
      "        \n",
      "\n",
      "\u001b[32mtmp_path_factory\u001b[0m\u001b[36m [session scope]\u001b[0m\n",
      "    Return a :class:`_pytest.tmpdir.TempPathFactory` instance for the test session.\n",
      "        \n",
      "\n",
      "\u001b[32mtmpdir\u001b[0m\n",
      "    Return a temporary directory path object\n",
      "    which is unique to each test function invocation,\n",
      "    created as a sub directory of the base temporary\n",
      "    directory.  The returned object is a `py.path.local`_\n",
      "    path object.\n",
      "    \n",
      "    .. _`py.path.local`: https://py.readthedocs.io/en/latest/path.html\n",
      "\n",
      "\u001b[32mtmp_path\u001b[0m\n",
      "    Return a temporary directory path object\n",
      "    which is unique to each test function invocation,\n",
      "    created as a sub directory of the base temporary\n",
      "    directory.  The returned object is a :class:`pathlib.Path`\n",
      "    object.\n",
      "    \n",
      "    .. note::\n",
      "    \n",
      "        in python < 3.6 this is a pathlib2.Path\n",
      "\n",
      "\n",
      "\u001b[33m============================ \u001b[33mno tests ran\u001b[0m\u001b[33m in 0.03s\u001b[0m\u001b[33m =============================\u001b[0m\n"
     ]
    }
   ],
   "source": [
    "# 显示可用的内置参数\n",
    "# !pytest --fixtures"
   ]
  },
  {
   "cell_type": "markdown",
   "metadata": {},
   "source": [
    "# 执行用例"
   ]
  },
  {
   "cell_type": "markdown",
   "metadata": {},
   "source": [
    "## 执行退出码"
   ]
  },
  {
   "cell_type": "markdown",
   "metadata": {},
   "source": [
    "0 -- 成功地收集并传递了所有测试    \n",
    "1 -- 测试被收集和运行但一些测试失败\n",
    "\n",
    "2 -- 测试执行被用户中断        \n",
    "3 -- 执行测试时发生内部错误      \n",
    "4 -- pytest 命令行使用错误   \n",
    "5 -- 未收集任何测试  "
   ]
  },
  {
   "cell_type": "markdown",
   "metadata": {},
   "source": [
    "## 执行测试文件"
   ]
  },
  {
   "cell_type": "code",
   "execution_count": 4,
   "metadata": {},
   "outputs": [],
   "source": [
    "\"\"\"\n",
    "示例文件\n",
    "@FileName: test_start.py\n",
    "\"\"\"\n",
    "\n",
    "def func(x):\n",
    "    return x + 1\n",
    "\n",
    "def test_func():\n",
    "    assert func(3) == 5\n",
    "    \n",
    "class TestClass:\n",
    "    def test_one(self):\n",
    "        x = \"This\"\n",
    "        assert \"h\" in x\n",
    "        \n",
    "    def test_two(self):\n",
    "        x = \"hello\"\n",
    "        assert hasattr(x, \"check\")"
   ]
  },
  {
   "cell_type": "markdown",
   "metadata": {},
   "source": [
    "### 执行某个目录下所有的用例"
   ]
  },
  {
   "cell_type": "code",
   "execution_count": 5,
   "metadata": {},
   "outputs": [
    {
     "name": "stdout",
     "output_type": "stream",
     "text": [
      "\u001b[1m============================= test session starts ==============================\u001b[0m\n",
      "platform linux -- Python 3.6.9, pytest-5.4.1, py-1.8.1, pluggy-0.13.1\n",
      "rootdir: /home/ubuntu/MySpace/Python/pytest\n",
      "collected 3 items                                                              \u001b[0m\n",
      "\n",
      "test_start.py \u001b[31mF\u001b[0m\u001b[32m.\u001b[0m\u001b[31mF\u001b[0m\u001b[31m                                                        [100%]\u001b[0m\n",
      "\n",
      "=================================== FAILURES ===================================\n",
      "\u001b[31m\u001b[1m__________________________________ test_func ___________________________________\u001b[0m\n",
      "\n",
      "    \u001b[94mdef\u001b[39;49;00m \u001b[92mtest_func\u001b[39;49;00m():\n",
      ">       \u001b[94massert\u001b[39;49;00m func(\u001b[94m3\u001b[39;49;00m) == \u001b[94m5\u001b[39;49;00m\n",
      "\u001b[1m\u001b[31mE       assert 4 == 5\u001b[0m\n",
      "\u001b[1m\u001b[31mE        +  where 4 = func(3)\u001b[0m\n",
      "\n",
      "\u001b[1m\u001b[31mtest_start.py\u001b[0m:8: AssertionError\n",
      "\u001b[31m\u001b[1m______________________________ TestClass.test_two ______________________________\u001b[0m\n",
      "\n",
      "self = <test_start.TestClass object at 0x7f384557fc18>\n",
      "\n",
      "    \u001b[94mdef\u001b[39;49;00m \u001b[92mtest_two\u001b[39;49;00m(\u001b[96mself\u001b[39;49;00m):\n",
      "        x = \u001b[33m\"\u001b[39;49;00m\u001b[33mhello\u001b[39;49;00m\u001b[33m\"\u001b[39;49;00m\n",
      ">       \u001b[94massert\u001b[39;49;00m \u001b[96mhasattr\u001b[39;49;00m(x, \u001b[33m\"\u001b[39;49;00m\u001b[33mcheck\u001b[39;49;00m\u001b[33m\"\u001b[39;49;00m)\n",
      "\u001b[1m\u001b[31mE       AssertionError: assert False\u001b[0m\n",
      "\u001b[1m\u001b[31mE        +  where False = hasattr('hello', 'check')\u001b[0m\n",
      "\n",
      "\u001b[1m\u001b[31mtest_start.py\u001b[0m:17: AssertionError\n",
      "=========================== short test summary info ============================\n",
      "FAILED test_start.py::test_func - assert 4 == 5\n",
      "FAILED test_start.py::TestClass::test_two - AssertionError: assert False\n",
      "\u001b[31m========================= \u001b[31m\u001b[1m2 failed\u001b[0m, \u001b[32m1 passed\u001b[0m\u001b[31m in 0.12s\u001b[0m\u001b[31m ==========================\u001b[0m\n"
     ]
    }
   ],
   "source": [
    "!pytest "
   ]
  },
  {
   "cell_type": "markdown",
   "metadata": {},
   "source": [
    "### 执行某个 py 文件下用例"
   ]
  },
  {
   "cell_type": "code",
   "execution_count": 7,
   "metadata": {},
   "outputs": [
    {
     "name": "stdout",
     "output_type": "stream",
     "text": [
      "\u001b[1m============================= test session starts ==============================\u001b[0m\n",
      "platform linux -- Python 3.6.9, pytest-5.4.1, py-1.8.1, pluggy-0.13.1\n",
      "rootdir: /home/ubuntu/MySpace/Python/pytest\n",
      "collected 3 items                                                              \u001b[0m\n",
      "\n",
      "start.py \u001b[31mF\u001b[0m\u001b[32m.\u001b[0m\u001b[31mF\u001b[0m\u001b[31m                                                             [100%]\u001b[0m\n",
      "\n",
      "=================================== FAILURES ===================================\n",
      "\u001b[31m\u001b[1m__________________________________ test_func ___________________________________\u001b[0m\n",
      "\n",
      "    \u001b[94mdef\u001b[39;49;00m \u001b[92mtest_func\u001b[39;49;00m():\n",
      ">       \u001b[94massert\u001b[39;49;00m func(\u001b[94m3\u001b[39;49;00m) == \u001b[94m5\u001b[39;49;00m\n",
      "\u001b[1m\u001b[31mE       assert 4 == 5\u001b[0m\n",
      "\u001b[1m\u001b[31mE        +  where 4 = func(3)\u001b[0m\n",
      "\n",
      "\u001b[1m\u001b[31mstart.py\u001b[0m:8: AssertionError\n",
      "\u001b[31m\u001b[1m______________________________ TestClass.test_two ______________________________\u001b[0m\n",
      "\n",
      "self = <start.TestClass object at 0x7f0d00651278>\n",
      "\n",
      "    \u001b[94mdef\u001b[39;49;00m \u001b[92mtest_two\u001b[39;49;00m(\u001b[96mself\u001b[39;49;00m):\n",
      "        x = \u001b[33m\"\u001b[39;49;00m\u001b[33mhello\u001b[39;49;00m\u001b[33m\"\u001b[39;49;00m\n",
      ">       \u001b[94massert\u001b[39;49;00m \u001b[96mhasattr\u001b[39;49;00m(x, \u001b[33m\"\u001b[39;49;00m\u001b[33mcheck\u001b[39;49;00m\u001b[33m\"\u001b[39;49;00m)\n",
      "\u001b[1m\u001b[31mE       AssertionError: assert False\u001b[0m\n",
      "\u001b[1m\u001b[31mE        +  where False = hasattr('hello', 'check')\u001b[0m\n",
      "\n",
      "\u001b[1m\u001b[31mstart.py\u001b[0m:17: AssertionError\n",
      "=========================== short test summary info ============================\n",
      "FAILED start.py::test_func - assert 4 == 5\n",
      "FAILED start.py::TestClass::test_two - AssertionError: assert False\n",
      "\u001b[31m========================= \u001b[31m\u001b[1m2 failed\u001b[0m, \u001b[32m1 passed\u001b[0m\u001b[31m in 0.12s\u001b[0m\u001b[31m ==========================\u001b[0m\n"
     ]
    }
   ],
   "source": [
    "!pytest start.py"
   ]
  },
  {
   "cell_type": "markdown",
   "metadata": {},
   "source": [
    "### 执行 py 文件中的某个函数"
   ]
  },
  {
   "cell_type": "code",
   "execution_count": 8,
   "metadata": {},
   "outputs": [
    {
     "name": "stdout",
     "output_type": "stream",
     "text": [
      "\u001b[1m============================= test session starts ==============================\u001b[0m\n",
      "platform linux -- Python 3.6.9, pytest-5.4.1, py-1.8.1, pluggy-0.13.1\n",
      "rootdir: /home/ubuntu/MySpace/Python/pytest\n",
      "collected 1 item                                                               \u001b[0m\n",
      "\n",
      "start.py \u001b[31mF\u001b[0m\u001b[31m                                                               [100%]\u001b[0m\n",
      "\n",
      "=================================== FAILURES ===================================\n",
      "\u001b[31m\u001b[1m__________________________________ test_func ___________________________________\u001b[0m\n",
      "\n",
      "    \u001b[94mdef\u001b[39;49;00m \u001b[92mtest_func\u001b[39;49;00m():\n",
      ">       \u001b[94massert\u001b[39;49;00m func(\u001b[94m3\u001b[39;49;00m) == \u001b[94m5\u001b[39;49;00m\n",
      "\u001b[1m\u001b[31mE       assert 4 == 5\u001b[0m\n",
      "\u001b[1m\u001b[31mE        +  where 4 = func(3)\u001b[0m\n",
      "\n",
      "\u001b[1m\u001b[31mstart.py\u001b[0m:8: AssertionError\n",
      "=========================== short test summary info ============================\n",
      "FAILED start.py::test_func - assert 4 == 5\n",
      "\u001b[31m============================== \u001b[31m\u001b[1m1 failed\u001b[0m\u001b[31m in 0.10s\u001b[0m\u001b[31m ===============================\u001b[0m\n"
     ]
    }
   ],
   "source": [
    "!pytest start.py::test_func"
   ]
  },
  {
   "cell_type": "markdown",
   "metadata": {},
   "source": [
    "### 执行 py 文件中的某个类"
   ]
  },
  {
   "cell_type": "code",
   "execution_count": 9,
   "metadata": {},
   "outputs": [
    {
     "name": "stdout",
     "output_type": "stream",
     "text": [
      "\u001b[1m============================= test session starts ==============================\u001b[0m\n",
      "platform linux -- Python 3.6.9, pytest-5.4.1, py-1.8.1, pluggy-0.13.1\n",
      "rootdir: /home/ubuntu/MySpace/Python/pytest\n",
      "collected 2 items                                                              \u001b[0m\n",
      "\n",
      "start.py \u001b[32m.\u001b[0m\u001b[31mF\u001b[0m\u001b[31m                                                              [100%]\u001b[0m\n",
      "\n",
      "=================================== FAILURES ===================================\n",
      "\u001b[31m\u001b[1m______________________________ TestClass.test_two ______________________________\u001b[0m\n",
      "\n",
      "self = <start.TestClass object at 0x7f5fc75cb160>\n",
      "\n",
      "    \u001b[94mdef\u001b[39;49;00m \u001b[92mtest_two\u001b[39;49;00m(\u001b[96mself\u001b[39;49;00m):\n",
      "        x = \u001b[33m\"\u001b[39;49;00m\u001b[33mhello\u001b[39;49;00m\u001b[33m\"\u001b[39;49;00m\n",
      ">       \u001b[94massert\u001b[39;49;00m \u001b[96mhasattr\u001b[39;49;00m(x, \u001b[33m\"\u001b[39;49;00m\u001b[33mcheck\u001b[39;49;00m\u001b[33m\"\u001b[39;49;00m)\n",
      "\u001b[1m\u001b[31mE       AssertionError: assert False\u001b[0m\n",
      "\u001b[1m\u001b[31mE        +  where False = hasattr('hello', 'check')\u001b[0m\n",
      "\n",
      "\u001b[1m\u001b[31mstart.py\u001b[0m:17: AssertionError\n",
      "=========================== short test summary info ============================\n",
      "FAILED start.py::TestClass::test_two - AssertionError: assert False\n",
      "\u001b[31m========================= \u001b[31m\u001b[1m1 failed\u001b[0m, \u001b[32m1 passed\u001b[0m\u001b[31m in 0.13s\u001b[0m\u001b[31m ==========================\u001b[0m\n"
     ]
    }
   ],
   "source": [
    "!pytest start.py::TestClass"
   ]
  },
  {
   "cell_type": "markdown",
   "metadata": {},
   "source": [
    "### 执行 py 文件中类里的某个方法"
   ]
  },
  {
   "cell_type": "code",
   "execution_count": 11,
   "metadata": {},
   "outputs": [
    {
     "name": "stdout",
     "output_type": "stream",
     "text": [
      "\u001b[1m============================= test session starts ==============================\u001b[0m\r\n",
      "platform linux -- Python 3.6.9, pytest-5.4.1, py-1.8.1, pluggy-0.13.1\r\n",
      "rootdir: /home/ubuntu/MySpace/Python/pytest\r\n",
      "\u001b[1mcollecting ... \u001b[0m\u001b[1m\r",
      "collected 1 item                                                               \u001b[0m\r\n",
      "\r\n",
      "start.py \u001b[32m.\u001b[0m\u001b[32m                                                               [100%]\u001b[0m\r\n",
      "\r\n",
      "\u001b[32m============================== \u001b[32m\u001b[1m1 passed\u001b[0m\u001b[32m in 0.01s\u001b[0m\u001b[32m ===============================\u001b[0m\r\n"
     ]
    }
   ],
   "source": [
    "!pytest start.py::TestClass::test_one"
   ]
  },
  {
   "cell_type": "markdown",
   "metadata": {},
   "source": [
    "### -v 显示每个测试函数结果"
   ]
  },
  {
   "cell_type": "code",
   "execution_count": 142,
   "metadata": {},
   "outputs": [
    {
     "name": "stdout",
     "output_type": "stream",
     "text": [
      "\u001b[1m============================= test session starts ==============================\u001b[0m\n",
      "platform linux -- Python 3.6.9, pytest-5.4.1, py-1.8.1, pluggy-0.13.1 -- /usr/bin/python3\n",
      "cachedir: .pytest_cache\n",
      "rootdir: /home/ubuntu/MySpace/Python/pytest\n",
      "collected 3 items                                                              \u001b[0m\n",
      "\n",
      "start.py::test_func \u001b[31mFAILED\u001b[0m\u001b[31m                                               [ 33%]\u001b[0m\n",
      "start.py::TestClass::test_one \u001b[32mPASSED\u001b[0m\u001b[31m                                     [ 66%]\u001b[0m\n",
      "start.py::TestClass::test_two \u001b[31mFAILED\u001b[0m\u001b[31m                                     [100%]\u001b[0m\n",
      "\n",
      "=================================== FAILURES ===================================\n",
      "\u001b[31m\u001b[1m__________________________________ test_func ___________________________________\u001b[0m\n",
      "\n",
      "    \u001b[94mdef\u001b[39;49;00m \u001b[92mtest_func\u001b[39;49;00m():\n",
      ">       \u001b[94massert\u001b[39;49;00m func(\u001b[94m3\u001b[39;49;00m) == \u001b[94m5\u001b[39;49;00m\n",
      "\u001b[1m\u001b[31mE       assert 4 == 5\u001b[0m\n",
      "\u001b[1m\u001b[31mE         +4\u001b[0m\n",
      "\u001b[1m\u001b[31mE         -5\u001b[0m\n",
      "\n",
      "\u001b[1m\u001b[31mstart.py\u001b[0m:8: AssertionError\n",
      "\u001b[31m\u001b[1m______________________________ TestClass.test_two ______________________________\u001b[0m\n",
      "\n",
      "self = <start.TestClass object at 0x7fc060a955c0>\n",
      "\n",
      "    \u001b[94mdef\u001b[39;49;00m \u001b[92mtest_two\u001b[39;49;00m(\u001b[96mself\u001b[39;49;00m):\n",
      "        x = \u001b[33m\"\u001b[39;49;00m\u001b[33mhello\u001b[39;49;00m\u001b[33m\"\u001b[39;49;00m\n",
      ">       \u001b[94massert\u001b[39;49;00m \u001b[96mhasattr\u001b[39;49;00m(x, \u001b[33m\"\u001b[39;49;00m\u001b[33mcheck\u001b[39;49;00m\u001b[33m\"\u001b[39;49;00m)\n",
      "\u001b[1m\u001b[31mE       AssertionError: assert False\u001b[0m\n",
      "\u001b[1m\u001b[31mE        +  where False = hasattr('hello', 'check')\u001b[0m\n",
      "\n",
      "\u001b[1m\u001b[31mstart.py\u001b[0m:17: AssertionError\n",
      "=========================== short test summary info ============================\n",
      "FAILED start.py::test_func - assert 4 == 5\n",
      "FAILED start.py::TestClass::test_two - AssertionError: assert False\n",
      "\u001b[31m========================= \u001b[31m\u001b[1m2 failed\u001b[0m, \u001b[32m1 passed\u001b[0m\u001b[31m in 0.16s\u001b[0m\u001b[31m ==========================\u001b[0m\n"
     ]
    }
   ],
   "source": [
    "\"\"\"显示每一个测试函数的执行结果\"\"\"\n",
    "!pytest -v start.py"
   ]
  },
  {
   "cell_type": "markdown",
   "metadata": {},
   "source": [
    "### -m 标记表达式"
   ]
  },
  {
   "cell_type": "code",
   "execution_count": 143,
   "metadata": {},
   "outputs": [
    {
     "name": "stdout",
     "output_type": "stream",
     "text": [
      "\u001b[1m============================= test session starts ==============================\u001b[0m\n",
      "platform linux -- Python 3.6.9, pytest-5.4.1, py-1.8.1, pluggy-0.13.1\n",
      "rootdir: /home/ubuntu/MySpace/Python/pytest\n",
      "collected 4 items / 4 deselected                                               \u001b[0m\n",
      "\n",
      "\u001b[33m============================ \u001b[33m\u001b[1m4 deselected\u001b[0m\u001b[33m in 0.04s\u001b[0m\u001b[33m =============================\u001b[0m\n"
     ]
    }
   ],
   "source": [
    "# 将运行用 @pytest.mark.login 装饰器修饰的所有测试\n",
    "!pytest -m login "
   ]
  },
  {
   "cell_type": "markdown",
   "metadata": {},
   "source": [
    "### -q 简单但因，只打印测试用例的执行结果"
   ]
  },
  {
   "cell_type": "code",
   "execution_count": 12,
   "metadata": {},
   "outputs": [
    {
     "name": "stdout",
     "output_type": "stream",
     "text": [
      "\u001b[31mF\u001b[0m\u001b[32m.\u001b[0m\u001b[31mF\u001b[0m\u001b[31m                                                                      [100%]\u001b[0m\n",
      "=================================== FAILURES ===================================\n",
      "\u001b[31m\u001b[1m__________________________________ test_func ___________________________________\u001b[0m\n",
      "\n",
      "    \u001b[94mdef\u001b[39;49;00m \u001b[92mtest_func\u001b[39;49;00m():\n",
      ">       \u001b[94massert\u001b[39;49;00m func(\u001b[94m3\u001b[39;49;00m) == \u001b[94m5\u001b[39;49;00m\n",
      "\u001b[1m\u001b[31mE       assert 4 == 5\u001b[0m\n",
      "\u001b[1m\u001b[31mE        +  where 4 = func(3)\u001b[0m\n",
      "\n",
      "\u001b[1m\u001b[31mstart.py\u001b[0m:8: AssertionError\n",
      "\u001b[31m\u001b[1m______________________________ TestClass.test_two ______________________________\u001b[0m\n",
      "\n",
      "self = <start.TestClass object at 0x7fa6e310a4a8>\n",
      "\n",
      "    \u001b[94mdef\u001b[39;49;00m \u001b[92mtest_two\u001b[39;49;00m(\u001b[96mself\u001b[39;49;00m):\n",
      "        x = \u001b[33m\"\u001b[39;49;00m\u001b[33mhello\u001b[39;49;00m\u001b[33m\"\u001b[39;49;00m\n",
      ">       \u001b[94massert\u001b[39;49;00m \u001b[96mhasattr\u001b[39;49;00m(x, \u001b[33m\"\u001b[39;49;00m\u001b[33mcheck\u001b[39;49;00m\u001b[33m\"\u001b[39;49;00m)\n",
      "\u001b[1m\u001b[31mE       AssertionError: assert False\u001b[0m\n",
      "\u001b[1m\u001b[31mE        +  where False = hasattr('hello', 'check')\u001b[0m\n",
      "\n",
      "\u001b[1m\u001b[31mstart.py\u001b[0m:17: AssertionError\n",
      "=========================== short test summary info ============================\n",
      "FAILED start.py::test_func - assert 4 == 5\n",
      "FAILED start.py::TestClass::test_two - AssertionError: assert False\n",
      "\u001b[31m\u001b[31m\u001b[1m2 failed\u001b[0m, \u001b[32m1 passed\u001b[0m\u001b[31m in 0.16s\u001b[0m\u001b[0m\n"
     ]
    }
   ],
   "source": [
    "!pytest -q start.py"
   ]
  },
  {
   "cell_type": "markdown",
   "metadata": {},
   "source": [
    "### -s 详细打印"
   ]
  },
  {
   "cell_type": "code",
   "execution_count": 13,
   "metadata": {},
   "outputs": [
    {
     "name": "stdout",
     "output_type": "stream",
     "text": [
      "\u001b[1m============================= test session starts ==============================\u001b[0m\n",
      "platform linux -- Python 3.6.9, pytest-5.4.1, py-1.8.1, pluggy-0.13.1\n",
      "rootdir: /home/ubuntu/MySpace/Python/pytest\n",
      "collected 3 items                                                              \u001b[0m\n",
      "\n",
      "start.py \u001b[31mF\u001b[0m\u001b[32m.\u001b[0m\u001b[31mF\u001b[0m\n",
      "\n",
      "=================================== FAILURES ===================================\n",
      "\u001b[31m\u001b[1m__________________________________ test_func ___________________________________\u001b[0m\n",
      "\n",
      "    \u001b[94mdef\u001b[39;49;00m \u001b[92mtest_func\u001b[39;49;00m():\n",
      ">       \u001b[94massert\u001b[39;49;00m func(\u001b[94m3\u001b[39;49;00m) == \u001b[94m5\u001b[39;49;00m\n",
      "\u001b[1m\u001b[31mE       assert 4 == 5\u001b[0m\n",
      "\u001b[1m\u001b[31mE        +  where 4 = func(3)\u001b[0m\n",
      "\n",
      "\u001b[1m\u001b[31mstart.py\u001b[0m:8: AssertionError\n",
      "\u001b[31m\u001b[1m______________________________ TestClass.test_two ______________________________\u001b[0m\n",
      "\n",
      "self = <start.TestClass object at 0x7f087090bd30>\n",
      "\n",
      "    \u001b[94mdef\u001b[39;49;00m \u001b[92mtest_two\u001b[39;49;00m(\u001b[96mself\u001b[39;49;00m):\n",
      "        x = \u001b[33m\"\u001b[39;49;00m\u001b[33mhello\u001b[39;49;00m\u001b[33m\"\u001b[39;49;00m\n",
      ">       \u001b[94massert\u001b[39;49;00m \u001b[96mhasattr\u001b[39;49;00m(x, \u001b[33m\"\u001b[39;49;00m\u001b[33mcheck\u001b[39;49;00m\u001b[33m\"\u001b[39;49;00m)\n",
      "\u001b[1m\u001b[31mE       AssertionError: assert False\u001b[0m\n",
      "\u001b[1m\u001b[31mE        +  where False = hasattr('hello', 'check')\u001b[0m\n",
      "\n",
      "\u001b[1m\u001b[31mstart.py\u001b[0m:17: AssertionError\n",
      "=========================== short test summary info ============================\n",
      "FAILED start.py::test_func - assert 4 == 5\n",
      "FAILED start.py::TestClass::test_two - AssertionError: assert False\n",
      "\u001b[31m========================= \u001b[31m\u001b[1m2 failed\u001b[0m, \u001b[32m1 passed\u001b[0m\u001b[31m in 0.12s\u001b[0m\u001b[31m ==========================\u001b[0m\n"
     ]
    }
   ],
   "source": [
    "!pytest -s start.py"
   ]
  },
  {
   "cell_type": "markdown",
   "metadata": {},
   "source": [
    "### -x 遇到错误时停止测试"
   ]
  },
  {
   "cell_type": "code",
   "execution_count": 14,
   "metadata": {},
   "outputs": [
    {
     "name": "stdout",
     "output_type": "stream",
     "text": [
      "\u001b[1m============================= test session starts ==============================\u001b[0m\n",
      "platform linux -- Python 3.6.9, pytest-5.4.1, py-1.8.1, pluggy-0.13.1\n",
      "rootdir: /home/ubuntu/MySpace/Python/pytest\n",
      "collected 3 items                                                              \u001b[0m\n",
      "\n",
      "start.py \u001b[31mF\u001b[0m\n",
      "\n",
      "=================================== FAILURES ===================================\n",
      "\u001b[31m\u001b[1m__________________________________ test_func ___________________________________\u001b[0m\n",
      "\n",
      "    \u001b[94mdef\u001b[39;49;00m \u001b[92mtest_func\u001b[39;49;00m():\n",
      ">       \u001b[94massert\u001b[39;49;00m func(\u001b[94m3\u001b[39;49;00m) == \u001b[94m5\u001b[39;49;00m\n",
      "\u001b[1m\u001b[31mE       assert 4 == 5\u001b[0m\n",
      "\u001b[1m\u001b[31mE        +  where 4 = func(3)\u001b[0m\n",
      "\n",
      "\u001b[1m\u001b[31mstart.py\u001b[0m:8: AssertionError\n",
      "=========================== short test summary info ============================\n",
      "FAILED start.py::test_func - assert 4 == 5\n",
      "\u001b[31m!!!!!!!!!!!!!!!!!!!!!!!!!! stopping after 1 failures !!!!!!!!!!!!!!!!!!!!!!!!!!!\u001b[0m\n",
      "\u001b[31m============================== \u001b[31m\u001b[1m1 failed\u001b[0m\u001b[31m in 0.11s\u001b[0m\u001b[31m ===============================\u001b[0m\n"
     ]
    }
   ],
   "source": [
    "!pytest start.py -x"
   ]
  },
  {
   "cell_type": "markdown",
   "metadata": {},
   "source": [
    "### --maxfail=num，当用例错误个数达到指定数量是，停止测试"
   ]
  },
  {
   "cell_type": "code",
   "execution_count": 15,
   "metadata": {},
   "outputs": [
    {
     "name": "stdout",
     "output_type": "stream",
     "text": [
      "\u001b[1m============================= test session starts ==============================\u001b[0m\n",
      "platform linux -- Python 3.6.9, pytest-5.4.1, py-1.8.1, pluggy-0.13.1\n",
      "rootdir: /home/ubuntu/MySpace/Python/pytest\n",
      "collected 3 items                                                              \u001b[0m\n",
      "\n",
      "start.py \u001b[31mF\u001b[0m\n",
      "\n",
      "=================================== FAILURES ===================================\n",
      "\u001b[31m\u001b[1m__________________________________ test_func ___________________________________\u001b[0m\n",
      "\n",
      "    \u001b[94mdef\u001b[39;49;00m \u001b[92mtest_func\u001b[39;49;00m():\n",
      ">       \u001b[94massert\u001b[39;49;00m func(\u001b[94m3\u001b[39;49;00m) == \u001b[94m5\u001b[39;49;00m\n",
      "\u001b[1m\u001b[31mE       assert 4 == 5\u001b[0m\n",
      "\u001b[1m\u001b[31mE        +  where 4 = func(3)\u001b[0m\n",
      "\n",
      "\u001b[1m\u001b[31mstart.py\u001b[0m:8: AssertionError\n",
      "=========================== short test summary info ============================\n",
      "FAILED start.py::test_func - assert 4 == 5\n",
      "\u001b[31m!!!!!!!!!!!!!!!!!!!!!!!!!! stopping after 1 failures !!!!!!!!!!!!!!!!!!!!!!!!!!!\u001b[0m\n",
      "\u001b[31m============================== \u001b[31m\u001b[1m1 failed\u001b[0m\u001b[31m in 0.12s\u001b[0m\u001b[31m ===============================\u001b[0m\n"
     ]
    }
   ],
   "source": [
    "!pytest start.py --maxfail=1"
   ]
  },
  {
   "cell_type": "markdown",
   "metadata": {},
   "source": [
    "### -k 匹配用例名称"
   ]
  },
  {
   "cell_type": "code",
   "execution_count": 17,
   "metadata": {},
   "outputs": [
    {
     "name": "stdout",
     "output_type": "stream",
     "text": [
      "\u001b[1m============================= test session starts ==============================\u001b[0m\r\n",
      "platform linux -- Python 3.6.9, pytest-5.4.1, py-1.8.1, pluggy-0.13.1\r\n",
      "rootdir: /home/ubuntu/MySpace/Python/pytest\r\n",
      "\u001b[1mcollecting ... \u001b[0m\u001b[1m\r",
      "collected 3 items / 3 deselected                                               \u001b[0m\r\n",
      "\r\n",
      "\u001b[33m============================ \u001b[33m\u001b[1m3 deselected\u001b[0m\u001b[33m in 0.01s\u001b[0m\u001b[33m =============================\u001b[0m\r\n"
     ]
    }
   ],
   "source": [
    "# 执行测试用例名称包含http的所有用例\n",
    "!pytest -s -k http start.py"
   ]
  },
  {
   "cell_type": "markdown",
   "metadata": {},
   "source": [
    "### -k 根据用例名称排除某些用例"
   ]
  },
  {
   "cell_type": "code",
   "execution_count": 18,
   "metadata": {},
   "outputs": [
    {
     "name": "stdout",
     "output_type": "stream",
     "text": [
      "\u001b[1m============================= test session starts ==============================\u001b[0m\n",
      "platform linux -- Python 3.6.9, pytest-5.4.1, py-1.8.1, pluggy-0.13.1\n",
      "rootdir: /home/ubuntu/MySpace/Python/pytest\n",
      "collected 3 items                                                              \u001b[0m\n",
      "\n",
      "start.py \u001b[31mF\u001b[0m\u001b[32m.\u001b[0m\u001b[31mF\u001b[0m\n",
      "\n",
      "=================================== FAILURES ===================================\n",
      "\u001b[31m\u001b[1m__________________________________ test_func ___________________________________\u001b[0m\n",
      "\n",
      "    \u001b[94mdef\u001b[39;49;00m \u001b[92mtest_func\u001b[39;49;00m():\n",
      ">       \u001b[94massert\u001b[39;49;00m func(\u001b[94m3\u001b[39;49;00m) == \u001b[94m5\u001b[39;49;00m\n",
      "\u001b[1m\u001b[31mE       assert 4 == 5\u001b[0m\n",
      "\u001b[1m\u001b[31mE        +  where 4 = func(3)\u001b[0m\n",
      "\n",
      "\u001b[1m\u001b[31mstart.py\u001b[0m:8: AssertionError\n",
      "\u001b[31m\u001b[1m______________________________ TestClass.test_two ______________________________\u001b[0m\n",
      "\n",
      "self = <start.TestClass object at 0x7f946a3cfe80>\n",
      "\n",
      "    \u001b[94mdef\u001b[39;49;00m \u001b[92mtest_two\u001b[39;49;00m(\u001b[96mself\u001b[39;49;00m):\n",
      "        x = \u001b[33m\"\u001b[39;49;00m\u001b[33mhello\u001b[39;49;00m\u001b[33m\"\u001b[39;49;00m\n",
      ">       \u001b[94massert\u001b[39;49;00m \u001b[96mhasattr\u001b[39;49;00m(x, \u001b[33m\"\u001b[39;49;00m\u001b[33mcheck\u001b[39;49;00m\u001b[33m\"\u001b[39;49;00m)\n",
      "\u001b[1m\u001b[31mE       AssertionError: assert False\u001b[0m\n",
      "\u001b[1m\u001b[31mE        +  where False = hasattr('hello', 'check')\u001b[0m\n",
      "\n",
      "\u001b[1m\u001b[31mstart.py\u001b[0m:17: AssertionError\n",
      "=========================== short test summary info ============================\n",
      "FAILED start.py::test_func - assert 4 == 5\n",
      "FAILED start.py::TestClass::test_two - AssertionError: assert False\n",
      "\u001b[31m========================= \u001b[31m\u001b[1m2 failed\u001b[0m, \u001b[32m1 passed\u001b[0m\u001b[31m in 0.12s\u001b[0m\u001b[31m ==========================\u001b[0m\n"
     ]
    }
   ],
   "source": [
    "!pytest -s -k \"not http\" start.py"
   ]
  },
  {
   "cell_type": "markdown",
   "metadata": {},
   "source": [
    "### -k 同时匹配不同的用例名称"
   ]
  },
  {
   "cell_type": "code",
   "execution_count": 19,
   "metadata": {},
   "outputs": [
    {
     "name": "stdout",
     "output_type": "stream",
     "text": [
      "\u001b[1m============================= test session starts ==============================\u001b[0m\r\n",
      "platform linux -- Python 3.6.9, pytest-5.4.1, py-1.8.1, pluggy-0.13.1\r\n",
      "rootdir: /home/ubuntu/MySpace/Python/pytest\r\n",
      "\u001b[1mcollecting ... \u001b[0m\u001b[1m\r",
      "collected 3 items / 3 deselected                                               \u001b[0m\r\n",
      "\r\n",
      "\u001b[33m============================ \u001b[33m\u001b[1m3 deselected\u001b[0m\u001b[33m in 0.01s\u001b[0m\u001b[33m =============================\u001b[0m\r\n"
     ]
    }
   ],
   "source": [
    "!pytest -s -k \"method or weibo\" start.py"
   ]
  },
  {
   "cell_type": "markdown",
   "metadata": {},
   "source": [
    "# 断言 assert"
   ]
  },
  {
   "cell_type": "markdown",
   "metadata": {},
   "source": [
    "## 常用断言"
   ]
  },
  {
   "cell_type": "markdown",
   "metadata": {},
   "source": [
    "+ 与unittest不同，pytest使用的是python自带的assert关键字来进行断言\n",
    "\n",
    "+ assert关键字后面可以接一个表达式，只要表达式的最终结果为True，那么断言通过，用例执行成功，否则用例执行失败\n",
    "\n",
    "常用断言方法:  \n",
    "+ assert xx        --- 判断 xx 为真\n",
    "+ assert not xx    --- 判断 xx 不为真\n",
    "+ assert a in b    --- 判断 b 包含 a\n",
    "+ assert a == b    --- 判断 a 等于 b\n",
    "+ assert a != b    --- 判断 a 不等于 b"
   ]
  },
  {
   "cell_type": "code",
   "execution_count": 18,
   "metadata": {},
   "outputs": [
    {
     "name": "stdout",
     "output_type": "stream",
     "text": [
      "\u001b[1m============================= test session starts ==============================\u001b[0m\n",
      "platform linux -- Python 3.6.9, pytest-5.4.1, py-1.8.1, pluggy-0.13.1\n",
      "rootdir: /home/ubuntu/MySpace/Python/pytest\n",
      "collected 2 items                                                              \u001b[0m\n",
      "\n",
      "assert.py \u001b[31mF\u001b[0m\u001b[32m.\u001b[0m\u001b[31m                                                             [100%]\u001b[0m\n",
      "\n",
      "=================================== FAILURES ===================================\n",
      "\u001b[31m\u001b[1m________________________________ test_function _________________________________\u001b[0m\n",
      "\n",
      "    \u001b[94mdef\u001b[39;49;00m \u001b[92mtest_function\u001b[39;49;00m():\n",
      "        a = f()\n",
      ">       \u001b[94massert\u001b[39;49;00m a % \u001b[94m2\u001b[39;49;00m == \u001b[94m0\u001b[39;49;00m, \u001b[33m\"\u001b[39;49;00m\u001b[33m判断 a 为偶数，当前 a 的值为：\u001b[39;49;00m\u001b[33m%s\u001b[39;49;00m\u001b[33m\"\u001b[39;49;00m % a\n",
      "\u001b[1m\u001b[31mE       AssertionError: 判断 a 为偶数，当前 a 的值为：3\u001b[0m\n",
      "\u001b[1m\u001b[31mE       assert (3 % 2) == 0\u001b[0m\n",
      "\n",
      "\u001b[1m\u001b[31massert.py\u001b[0m:8: AssertionError\n",
      "=========================== short test summary info ============================\n",
      "FAILED assert.py::test_function - AssertionError: 判断 a 为偶数，当前 a 的值...\n",
      "\u001b[31m========================= \u001b[31m\u001b[1m1 failed\u001b[0m, \u001b[32m1 passed\u001b[0m\u001b[31m in 0.11s\u001b[0m\u001b[31m ==========================\u001b[0m\n"
     ]
    }
   ],
   "source": [
    "import pytest\n",
    "\n",
    "def f():\n",
    "    return 3\n",
    "\n",
    "def test_function():\n",
    "    a = f()\n",
    "    assert a % 2 == 0, \"判断 a 为偶数，当前 a 的值为：%s\" % a\n",
    "    \n",
    "def test_zero_division():\n",
    "    with pytest.raises(ZeroDivisionError):\n",
    "        1 / 0\n",
    "        \n",
    "!pytest assert.py"
   ]
  },
  {
   "cell_type": "markdown",
   "metadata": {},
   "source": [
    "## 异常断言\n",
    "\n",
    "可以使用 pytest.raises 作为上下文管理器，当抛出异常时可以获取到对应的异常实例\n",
    "\n",
    "+ excinfo ：是一个异常信息实例\n",
    "+ 主要属性： .type 、  .value 、 .traceback \n",
    "+ 注意：断言 type 的时候，异常类型是不需要加引号的，断言 value值的时候需转 str"
   ]
  },
  {
   "cell_type": "code",
   "execution_count": 24,
   "metadata": {},
   "outputs": [
    {
     "name": "stdout",
     "output_type": "stream",
     "text": [
      "\u001b[1m============================= test session starts ==============================\u001b[0m\n",
      "platform linux -- Python 3.6.9, pytest-5.4.1, py-1.8.1, pluggy-0.13.1\n",
      "rootdir: /home/ubuntu/MySpace/Python/pytest\n",
      "collected 2 items                                                              \u001b[0m\n",
      "\n",
      "assert_except.py \u001b[32m.\u001b[0m\u001b[31mF\u001b[0m\u001b[31m                                                      [100%]\u001b[0m\n",
      "\n",
      "=================================== FAILURES ===================================\n",
      "\u001b[31m\u001b[1m_________________________ test_zero_division_long_info _________________________\u001b[0m\n",
      "\n",
      "    \u001b[94mdef\u001b[39;49;00m \u001b[92mtest_zero_division_long_info\u001b[39;49;00m():\n",
      "        \u001b[94mwith\u001b[39;49;00m pytest.raises(\u001b[96mZeroDivisionError\u001b[39;49;00m) \u001b[94mas\u001b[39;49;00m excinfo:\n",
      "            \u001b[94m1\u001b[39;49;00m / \u001b[94m0\u001b[39;49;00m\n",
      "    \n",
      "        \u001b[33m\"\"\"断言异常类型\"\"\"\u001b[39;49;00m\n",
      "        \u001b[94massert\u001b[39;49;00m excinfo.type == \u001b[96mZeroDivisionError\u001b[39;49;00m\n",
      "    \n",
      "        \u001b[33m\"\"\"断言异常 value 的值\"\"\"\u001b[39;49;00m\n",
      ">       \u001b[94massert\u001b[39;49;00m \u001b[33m\"\u001b[39;49;00m\u001b[33mDivision by Zero\u001b[39;49;00m\u001b[33m\"\u001b[39;49;00m \u001b[95min\u001b[39;49;00m \u001b[96mstr\u001b[39;49;00m(excinfo.value)\n",
      "\u001b[1m\u001b[31mE       AssertionError: assert 'Division by Zero' in 'division by zero'\u001b[0m\n",
      "\u001b[1m\u001b[31mE        +  where 'division by zero' = str(ZeroDivisionError('division by zero',))\u001b[0m\n",
      "\u001b[1m\u001b[31mE        +    where ZeroDivisionError('division by zero',) = <ExceptionInfo ZeroDivisionError('division by zero',) tblen=1>.value\u001b[0m\n",
      "\n",
      "\u001b[1m\u001b[31massert_except.py\u001b[0m:17: AssertionError\n",
      "=========================== short test summary info ============================\n",
      "FAILED assert_except.py::test_zero_division_long_info - AssertionError: asser...\n",
      "\u001b[31m========================= \u001b[31m\u001b[1m1 failed\u001b[0m, \u001b[32m1 passed\u001b[0m\u001b[31m in 0.11s\u001b[0m\u001b[31m ==========================\u001b[0m\n"
     ]
    }
   ],
   "source": [
    "\"\"\"异常断言\"\"\"\n",
    "import pytest\n",
    "\n",
    "def test_zero_division():\n",
    "    with pytest.raises(ZeroDivisionError):\n",
    "        1 / 0\n",
    "  \n",
    "\"\"\"详细断言异常\"\"\"\n",
    "def test_zero_division_long_info():\n",
    "    with pytest.raises(ZeroDivisionError) as excinfo:\n",
    "        1 / 0\n",
    "        \n",
    "    \"\"\"断言异常类型\"\"\"\n",
    "    assert excinfo.type == ZeroDivisionError\n",
    "    \n",
    "    \"\"\"断言异常 value 的值\"\"\"\n",
    "    assert \"Division by Zero\" in str(excinfo.value)\n",
    "        \n",
    "\n",
    "!pytest assert_except.py"
   ]
  },
  {
   "cell_type": "markdown",
   "metadata": {},
   "source": [
    "### match\n",
    "\n",
    "+ 可以将 match 关键字参数传递给上下文管理器，以测试正则表达式与异常的字符串表示形式是否匹配\n",
    "+ <font color=\"red\">注意：这种方法只能断言value，不能断言type</font>"
   ]
  },
  {
   "cell_type": "code",
   "execution_count": 29,
   "metadata": {},
   "outputs": [
    {
     "name": "stdout",
     "output_type": "stream",
     "text": [
      "\u001b[1m============================= test session starts ==============================\u001b[0m\n",
      "platform linux -- Python 3.6.9, pytest-5.4.1, py-1.8.1, pluggy-0.13.1\n",
      "rootdir: /home/ubuntu/MySpace/Python/pytest\n",
      "collected 1 item                                                               \u001b[0m\n",
      "\n",
      "assert_except.py \u001b[31mF\u001b[0m\u001b[31m                                                       [100%]\u001b[0m\n",
      "\n",
      "=================================== FAILURES ===================================\n",
      "\u001b[31m\u001b[1m______________________ test_zero_division_custom_incinfo _______________________\u001b[0m\n",
      "\n",
      "    \u001b[94mdef\u001b[39;49;00m \u001b[92mtest_zero_division_custom_incinfo\u001b[39;49;00m():\n",
      "        \u001b[94mwith\u001b[39;49;00m pytest.raises(\u001b[96mZeroDivisionError\u001b[39;49;00m, match=\u001b[33m\"\u001b[39;49;00m\u001b[33m*.zero.*\u001b[39;49;00m\u001b[33m\"\u001b[39;49;00m) \u001b[94mas\u001b[39;49;00m excinfo:\n",
      ">           \u001b[94m1\u001b[39;49;00m / \u001b[94m0\u001b[39;49;00m\n",
      "\u001b[1m\u001b[31mE           ZeroDivisionError: division by zero\u001b[0m\n",
      "\n",
      "\u001b[1m\u001b[31massert_except.py\u001b[0m:23: ZeroDivisionError\n",
      "\n",
      "\u001b[33mDuring handling of the above exception, another exception occurred:\u001b[0m\n",
      "\n",
      "    \u001b[94mdef\u001b[39;49;00m \u001b[92mtest_zero_division_custom_incinfo\u001b[39;49;00m():\n",
      "        \u001b[94mwith\u001b[39;49;00m pytest.raises(\u001b[96mZeroDivisionError\u001b[39;49;00m, match=\u001b[33m\"\u001b[39;49;00m\u001b[33m*.zero.*\u001b[39;49;00m\u001b[33m\"\u001b[39;49;00m) \u001b[94mas\u001b[39;49;00m excinfo:\n",
      ">           \u001b[94m1\u001b[39;49;00m / \u001b[94m0\u001b[39;49;00m\n",
      "\n",
      "\u001b[1m\u001b[31massert_except.py\u001b[0m:23: \n",
      "_ _ _ _ _ _ _ _ _ _ _ _ _ _ _ _ _ _ _ _ _ _ _ _ _ _ _ _ _ _ _ _ _ _ _ _ _ _ _ _ \n",
      "\u001b[1m\u001b[31m/usr/lib/python3.6/re.py\u001b[0m:182: in search\n",
      "    \u001b[94mreturn\u001b[39;49;00m _compile(pattern, flags).search(string)\n",
      "\u001b[1m\u001b[31m/usr/lib/python3.6/re.py\u001b[0m:301: in _compile\n",
      "    p = sre_compile.compile(pattern, flags)\n",
      "\u001b[1m\u001b[31m/usr/lib/python3.6/sre_compile.py\u001b[0m:562: in compile\n",
      "    p = sre_parse.parse(p, flags)\n",
      "\u001b[1m\u001b[31m/usr/lib/python3.6/sre_parse.py\u001b[0m:855: in parse\n",
      "    p = _parse_sub(source, pattern, flags & SRE_FLAG_VERBOSE, \u001b[94m0\u001b[39;49;00m)\n",
      "\u001b[1m\u001b[31m/usr/lib/python3.6/sre_parse.py\u001b[0m:416: in _parse_sub\n",
      "    \u001b[95mnot\u001b[39;49;00m nested \u001b[95mand\u001b[39;49;00m \u001b[95mnot\u001b[39;49;00m items))\n",
      "_ _ _ _ _ _ _ _ _ _ _ _ _ _ _ _ _ _ _ _ _ _ _ _ _ _ _ _ _ _ _ _ _ _ _ _ _ _ _ _ \n",
      "\n",
      "source = <sre_parse.Tokenizer object at 0x7f7aac6d9630>\n",
      "state = <sre_parse.Pattern object at 0x7f7aac663390>, verbose = 0, nested = 1\n",
      "first = True\n",
      "\n",
      "    \u001b[94mdef\u001b[39;49;00m \u001b[92m_parse\u001b[39;49;00m(source, state, verbose, nested, first=\u001b[94mFalse\u001b[39;49;00m):\n",
      "        \u001b[90m# parse a simple pattern\u001b[39;49;00m\n",
      "        subpattern = SubPattern(state)\n",
      "    \n",
      "        \u001b[90m# precompute constants into local variables\u001b[39;49;00m\n",
      "        subpatternappend = subpattern.append\n",
      "        sourceget = source.get\n",
      "        sourcematch = source.match\n",
      "        _len = \u001b[96mlen\u001b[39;49;00m\n",
      "        _ord = \u001b[96mord\u001b[39;49;00m\n",
      "    \n",
      "        \u001b[94mwhile\u001b[39;49;00m \u001b[94mTrue\u001b[39;49;00m:\n",
      "    \n",
      "            this = source.next\n",
      "            \u001b[94mif\u001b[39;49;00m this \u001b[95mis\u001b[39;49;00m \u001b[94mNone\u001b[39;49;00m:\n",
      "                \u001b[94mbreak\u001b[39;49;00m \u001b[90m# end of pattern\u001b[39;49;00m\n",
      "            \u001b[94mif\u001b[39;49;00m this \u001b[95min\u001b[39;49;00m \u001b[33m\"\u001b[39;49;00m\u001b[33m|)\u001b[39;49;00m\u001b[33m\"\u001b[39;49;00m:\n",
      "                \u001b[94mbreak\u001b[39;49;00m \u001b[90m# end of subpattern\u001b[39;49;00m\n",
      "            sourceget()\n",
      "    \n",
      "            \u001b[94mif\u001b[39;49;00m verbose:\n",
      "                \u001b[90m# skip whitespace and comments\u001b[39;49;00m\n",
      "                \u001b[94mif\u001b[39;49;00m this \u001b[95min\u001b[39;49;00m WHITESPACE:\n",
      "                    \u001b[94mcontinue\u001b[39;49;00m\n",
      "                \u001b[94mif\u001b[39;49;00m this == \u001b[33m\"\u001b[39;49;00m\u001b[33m#\u001b[39;49;00m\u001b[33m\"\u001b[39;49;00m:\n",
      "                    \u001b[94mwhile\u001b[39;49;00m \u001b[94mTrue\u001b[39;49;00m:\n",
      "                        this = sourceget()\n",
      "                        \u001b[94mif\u001b[39;49;00m this \u001b[95mis\u001b[39;49;00m \u001b[94mNone\u001b[39;49;00m \u001b[95mor\u001b[39;49;00m this == \u001b[33m\"\u001b[39;49;00m\u001b[33m\\n\u001b[39;49;00m\u001b[33m\"\u001b[39;49;00m:\n",
      "                            \u001b[94mbreak\u001b[39;49;00m\n",
      "                    \u001b[94mcontinue\u001b[39;49;00m\n",
      "    \n",
      "            \u001b[94mif\u001b[39;49;00m this[\u001b[94m0\u001b[39;49;00m] == \u001b[33m\"\u001b[39;49;00m\u001b[33m\\\\\u001b[39;49;00m\u001b[33m\"\u001b[39;49;00m:\n",
      "                code = _escape(source, this, state)\n",
      "                subpatternappend(code)\n",
      "    \n",
      "            \u001b[94melif\u001b[39;49;00m this \u001b[95mnot\u001b[39;49;00m \u001b[95min\u001b[39;49;00m SPECIAL_CHARS:\n",
      "                subpatternappend((LITERAL, _ord(this)))\n",
      "    \n",
      "            \u001b[94melif\u001b[39;49;00m this == \u001b[33m\"\u001b[39;49;00m\u001b[33m[\u001b[39;49;00m\u001b[33m\"\u001b[39;49;00m:\n",
      "                here = source.tell() - \u001b[94m1\u001b[39;49;00m\n",
      "                \u001b[90m# character set\u001b[39;49;00m\n",
      "                \u001b[96mset\u001b[39;49;00m = []\n",
      "                setappend = \u001b[96mset\u001b[39;49;00m.append\n",
      "    \u001b[90m##          if sourcematch(\":\"):\u001b[39;49;00m\n",
      "    \u001b[90m##              pass # handle character classes\u001b[39;49;00m\n",
      "                \u001b[94mif\u001b[39;49;00m sourcematch(\u001b[33m\"\u001b[39;49;00m\u001b[33m^\u001b[39;49;00m\u001b[33m\"\u001b[39;49;00m):\n",
      "                    setappend((NEGATE, \u001b[94mNone\u001b[39;49;00m))\n",
      "                \u001b[90m# check remaining characters\u001b[39;49;00m\n",
      "                start = \u001b[96mset\u001b[39;49;00m[:]\n",
      "                \u001b[94mwhile\u001b[39;49;00m \u001b[94mTrue\u001b[39;49;00m:\n",
      "                    this = sourceget()\n",
      "                    \u001b[94mif\u001b[39;49;00m this \u001b[95mis\u001b[39;49;00m \u001b[94mNone\u001b[39;49;00m:\n",
      "                        \u001b[94mraise\u001b[39;49;00m source.error(\u001b[33m\"\u001b[39;49;00m\u001b[33munterminated character set\u001b[39;49;00m\u001b[33m\"\u001b[39;49;00m,\n",
      "                                           source.tell() - here)\n",
      "                    \u001b[94mif\u001b[39;49;00m this == \u001b[33m\"\u001b[39;49;00m\u001b[33m]\u001b[39;49;00m\u001b[33m\"\u001b[39;49;00m \u001b[95mand\u001b[39;49;00m \u001b[96mset\u001b[39;49;00m != start:\n",
      "                        \u001b[94mbreak\u001b[39;49;00m\n",
      "                    \u001b[94melif\u001b[39;49;00m this[\u001b[94m0\u001b[39;49;00m] == \u001b[33m\"\u001b[39;49;00m\u001b[33m\\\\\u001b[39;49;00m\u001b[33m\"\u001b[39;49;00m:\n",
      "                        code1 = _class_escape(source, this)\n",
      "                    \u001b[94melse\u001b[39;49;00m:\n",
      "                        code1 = LITERAL, _ord(this)\n",
      "                    \u001b[94mif\u001b[39;49;00m sourcematch(\u001b[33m\"\u001b[39;49;00m\u001b[33m-\u001b[39;49;00m\u001b[33m\"\u001b[39;49;00m):\n",
      "                        \u001b[90m# potential range\u001b[39;49;00m\n",
      "                        that = sourceget()\n",
      "                        \u001b[94mif\u001b[39;49;00m that \u001b[95mis\u001b[39;49;00m \u001b[94mNone\u001b[39;49;00m:\n",
      "                            \u001b[94mraise\u001b[39;49;00m source.error(\u001b[33m\"\u001b[39;49;00m\u001b[33munterminated character set\u001b[39;49;00m\u001b[33m\"\u001b[39;49;00m,\n",
      "                                               source.tell() - here)\n",
      "                        \u001b[94mif\u001b[39;49;00m that == \u001b[33m\"\u001b[39;49;00m\u001b[33m]\u001b[39;49;00m\u001b[33m\"\u001b[39;49;00m:\n",
      "                            \u001b[94mif\u001b[39;49;00m code1[\u001b[94m0\u001b[39;49;00m] \u001b[95mis\u001b[39;49;00m IN:\n",
      "                                code1 = code1[\u001b[94m1\u001b[39;49;00m][\u001b[94m0\u001b[39;49;00m]\n",
      "                            setappend(code1)\n",
      "                            setappend((LITERAL, _ord(\u001b[33m\"\u001b[39;49;00m\u001b[33m-\u001b[39;49;00m\u001b[33m\"\u001b[39;49;00m)))\n",
      "                            \u001b[94mbreak\u001b[39;49;00m\n",
      "                        \u001b[94mif\u001b[39;49;00m that[\u001b[94m0\u001b[39;49;00m] == \u001b[33m\"\u001b[39;49;00m\u001b[33m\\\\\u001b[39;49;00m\u001b[33m\"\u001b[39;49;00m:\n",
      "                            code2 = _class_escape(source, that)\n",
      "                        \u001b[94melse\u001b[39;49;00m:\n",
      "                            code2 = LITERAL, _ord(that)\n",
      "                        \u001b[94mif\u001b[39;49;00m code1[\u001b[94m0\u001b[39;49;00m] != LITERAL \u001b[95mor\u001b[39;49;00m code2[\u001b[94m0\u001b[39;49;00m] != LITERAL:\n",
      "                            msg = \u001b[33m\"\u001b[39;49;00m\u001b[33mbad character range \u001b[39;49;00m\u001b[33m%s\u001b[39;49;00m\u001b[33m-\u001b[39;49;00m\u001b[33m%s\u001b[39;49;00m\u001b[33m\"\u001b[39;49;00m % (this, that)\n",
      "                            \u001b[94mraise\u001b[39;49;00m source.error(msg, \u001b[96mlen\u001b[39;49;00m(this) + \u001b[94m1\u001b[39;49;00m + \u001b[96mlen\u001b[39;49;00m(that))\n",
      "                        lo = code1[\u001b[94m1\u001b[39;49;00m]\n",
      "                        hi = code2[\u001b[94m1\u001b[39;49;00m]\n",
      "                        \u001b[94mif\u001b[39;49;00m hi < lo:\n",
      "                            msg = \u001b[33m\"\u001b[39;49;00m\u001b[33mbad character range \u001b[39;49;00m\u001b[33m%s\u001b[39;49;00m\u001b[33m-\u001b[39;49;00m\u001b[33m%s\u001b[39;49;00m\u001b[33m\"\u001b[39;49;00m % (this, that)\n",
      "                            \u001b[94mraise\u001b[39;49;00m source.error(msg, \u001b[96mlen\u001b[39;49;00m(this) + \u001b[94m1\u001b[39;49;00m + \u001b[96mlen\u001b[39;49;00m(that))\n",
      "                        setappend((RANGE, (lo, hi)))\n",
      "                    \u001b[94melse\u001b[39;49;00m:\n",
      "                        \u001b[94mif\u001b[39;49;00m code1[\u001b[94m0\u001b[39;49;00m] \u001b[95mis\u001b[39;49;00m IN:\n",
      "                            code1 = code1[\u001b[94m1\u001b[39;49;00m][\u001b[94m0\u001b[39;49;00m]\n",
      "                        setappend(code1)\n",
      "    \n",
      "                \u001b[90m# XXX: <fl> should move set optimization to compiler!\u001b[39;49;00m\n",
      "                \u001b[94mif\u001b[39;49;00m _len(\u001b[96mset\u001b[39;49;00m)==\u001b[94m1\u001b[39;49;00m \u001b[95mand\u001b[39;49;00m \u001b[96mset\u001b[39;49;00m[\u001b[94m0\u001b[39;49;00m][\u001b[94m0\u001b[39;49;00m] \u001b[95mis\u001b[39;49;00m LITERAL:\n",
      "                    subpatternappend(\u001b[96mset\u001b[39;49;00m[\u001b[94m0\u001b[39;49;00m]) \u001b[90m# optimization\u001b[39;49;00m\n",
      "                \u001b[94melif\u001b[39;49;00m _len(\u001b[96mset\u001b[39;49;00m)==\u001b[94m2\u001b[39;49;00m \u001b[95mand\u001b[39;49;00m \u001b[96mset\u001b[39;49;00m[\u001b[94m0\u001b[39;49;00m][\u001b[94m0\u001b[39;49;00m] \u001b[95mis\u001b[39;49;00m NEGATE \u001b[95mand\u001b[39;49;00m \u001b[96mset\u001b[39;49;00m[\u001b[94m1\u001b[39;49;00m][\u001b[94m0\u001b[39;49;00m] \u001b[95mis\u001b[39;49;00m LITERAL:\n",
      "                    subpatternappend((NOT_LITERAL, \u001b[96mset\u001b[39;49;00m[\u001b[94m1\u001b[39;49;00m][\u001b[94m1\u001b[39;49;00m])) \u001b[90m# optimization\u001b[39;49;00m\n",
      "                \u001b[94melse\u001b[39;49;00m:\n",
      "                    \u001b[90m# XXX: <fl> should add charmap optimization here\u001b[39;49;00m\n",
      "                    subpatternappend((IN, \u001b[96mset\u001b[39;49;00m))\n",
      "    \n",
      "            \u001b[94melif\u001b[39;49;00m this \u001b[95min\u001b[39;49;00m REPEAT_CHARS:\n",
      "                \u001b[90m# repeat previous item\u001b[39;49;00m\n",
      "                here = source.tell()\n",
      "                \u001b[94mif\u001b[39;49;00m this == \u001b[33m\"\u001b[39;49;00m\u001b[33m?\u001b[39;49;00m\u001b[33m\"\u001b[39;49;00m:\n",
      "                    \u001b[96mmin\u001b[39;49;00m, \u001b[96mmax\u001b[39;49;00m = \u001b[94m0\u001b[39;49;00m, \u001b[94m1\u001b[39;49;00m\n",
      "                \u001b[94melif\u001b[39;49;00m this == \u001b[33m\"\u001b[39;49;00m\u001b[33m*\u001b[39;49;00m\u001b[33m\"\u001b[39;49;00m:\n",
      "                    \u001b[96mmin\u001b[39;49;00m, \u001b[96mmax\u001b[39;49;00m = \u001b[94m0\u001b[39;49;00m, MAXREPEAT\n",
      "    \n",
      "                \u001b[94melif\u001b[39;49;00m this == \u001b[33m\"\u001b[39;49;00m\u001b[33m+\u001b[39;49;00m\u001b[33m\"\u001b[39;49;00m:\n",
      "                    \u001b[96mmin\u001b[39;49;00m, \u001b[96mmax\u001b[39;49;00m = \u001b[94m1\u001b[39;49;00m, MAXREPEAT\n",
      "                \u001b[94melif\u001b[39;49;00m this == \u001b[33m\"\u001b[39;49;00m\u001b[33m{\u001b[39;49;00m\u001b[33m\"\u001b[39;49;00m:\n",
      "                    \u001b[94mif\u001b[39;49;00m source.next == \u001b[33m\"\u001b[39;49;00m\u001b[33m}\u001b[39;49;00m\u001b[33m\"\u001b[39;49;00m:\n",
      "                        subpatternappend((LITERAL, _ord(this)))\n",
      "                        \u001b[94mcontinue\u001b[39;49;00m\n",
      "                    \u001b[96mmin\u001b[39;49;00m, \u001b[96mmax\u001b[39;49;00m = \u001b[94m0\u001b[39;49;00m, MAXREPEAT\n",
      "                    lo = hi = \u001b[33m\"\u001b[39;49;00m\u001b[33m\"\u001b[39;49;00m\n",
      "                    \u001b[94mwhile\u001b[39;49;00m source.next \u001b[95min\u001b[39;49;00m DIGITS:\n",
      "                        lo += sourceget()\n",
      "                    \u001b[94mif\u001b[39;49;00m sourcematch(\u001b[33m\"\u001b[39;49;00m\u001b[33m,\u001b[39;49;00m\u001b[33m\"\u001b[39;49;00m):\n",
      "                        \u001b[94mwhile\u001b[39;49;00m source.next \u001b[95min\u001b[39;49;00m DIGITS:\n",
      "                            hi += sourceget()\n",
      "                    \u001b[94melse\u001b[39;49;00m:\n",
      "                        hi = lo\n",
      "                    \u001b[94mif\u001b[39;49;00m \u001b[95mnot\u001b[39;49;00m sourcematch(\u001b[33m\"\u001b[39;49;00m\u001b[33m}\u001b[39;49;00m\u001b[33m\"\u001b[39;49;00m):\n",
      "                        subpatternappend((LITERAL, _ord(this)))\n",
      "                        source.seek(here)\n",
      "                        \u001b[94mcontinue\u001b[39;49;00m\n",
      "                    \u001b[94mif\u001b[39;49;00m lo:\n",
      "                        \u001b[96mmin\u001b[39;49;00m = \u001b[96mint\u001b[39;49;00m(lo)\n",
      "                        \u001b[94mif\u001b[39;49;00m \u001b[96mmin\u001b[39;49;00m >= MAXREPEAT:\n",
      "                            \u001b[94mraise\u001b[39;49;00m \u001b[96mOverflowError\u001b[39;49;00m(\u001b[33m\"\u001b[39;49;00m\u001b[33mthe repetition number is too large\u001b[39;49;00m\u001b[33m\"\u001b[39;49;00m)\n",
      "                    \u001b[94mif\u001b[39;49;00m hi:\n",
      "                        \u001b[96mmax\u001b[39;49;00m = \u001b[96mint\u001b[39;49;00m(hi)\n",
      "                        \u001b[94mif\u001b[39;49;00m \u001b[96mmax\u001b[39;49;00m >= MAXREPEAT:\n",
      "                            \u001b[94mraise\u001b[39;49;00m \u001b[96mOverflowError\u001b[39;49;00m(\u001b[33m\"\u001b[39;49;00m\u001b[33mthe repetition number is too large\u001b[39;49;00m\u001b[33m\"\u001b[39;49;00m)\n",
      "                        \u001b[94mif\u001b[39;49;00m \u001b[96mmax\u001b[39;49;00m < \u001b[96mmin\u001b[39;49;00m:\n",
      "                            \u001b[94mraise\u001b[39;49;00m source.error(\u001b[33m\"\u001b[39;49;00m\u001b[33mmin repeat greater than max repeat\u001b[39;49;00m\u001b[33m\"\u001b[39;49;00m,\n",
      "                                               source.tell() - here)\n",
      "                \u001b[94melse\u001b[39;49;00m:\n",
      "                    \u001b[94mraise\u001b[39;49;00m \u001b[96mAssertionError\u001b[39;49;00m(\u001b[33m\"\u001b[39;49;00m\u001b[33munsupported quantifier \u001b[39;49;00m\u001b[33m%r\u001b[39;49;00m\u001b[33m\"\u001b[39;49;00m % (char,))\n",
      "                \u001b[90m# figure out which item to repeat\u001b[39;49;00m\n",
      "                \u001b[94mif\u001b[39;49;00m subpattern:\n",
      "                    item = subpattern[-\u001b[94m1\u001b[39;49;00m:]\n",
      "                \u001b[94melse\u001b[39;49;00m:\n",
      "                    item = \u001b[94mNone\u001b[39;49;00m\n",
      "                \u001b[94mif\u001b[39;49;00m \u001b[95mnot\u001b[39;49;00m item \u001b[95mor\u001b[39;49;00m (_len(item) == \u001b[94m1\u001b[39;49;00m \u001b[95mand\u001b[39;49;00m item[\u001b[94m0\u001b[39;49;00m][\u001b[94m0\u001b[39;49;00m] \u001b[95mis\u001b[39;49;00m AT):\n",
      "                    \u001b[94mraise\u001b[39;49;00m source.error(\u001b[33m\"\u001b[39;49;00m\u001b[33mnothing to repeat\u001b[39;49;00m\u001b[33m\"\u001b[39;49;00m,\n",
      ">                                      source.tell() - here + \u001b[96mlen\u001b[39;49;00m(this))\n",
      "\u001b[1m\u001b[31mE                   sre_constants.error: nothing to repeat at position 0\u001b[0m\n",
      "\n",
      "\u001b[1m\u001b[31m/usr/lib/python3.6/sre_parse.py\u001b[0m:616: error\n",
      "=========================== short test summary info ============================\n",
      "FAILED assert_except.py::test_zero_division_custom_incinfo - sre_constants.er...\n",
      "\u001b[31m============================== \u001b[31m\u001b[1m1 failed\u001b[0m\u001b[31m in 0.26s\u001b[0m\u001b[31m ===============================\u001b[0m\n"
     ]
    }
   ],
   "source": [
    "\"\"\"自定义消息\"\"\"\n",
    "def test_zero_division_custom_incinfo():\n",
    "    with pytest.raises(ZeroDivisionError, match=\"*.zero.*\") as excinfo:\n",
    "        1 / 0\n",
    "        \n",
    "\n",
    "!pytest assert_except.py::test_zero_division_custom_incinfo"
   ]
  },
  {
   "cell_type": "markdown",
   "metadata": {},
   "source": [
    "### 检查断言装饰器\n",
    "\n",
    "+ 代码抛出异常，但是和raises指定的异常类相匹配，所以不会断言失败\n",
    "+ 它相当于一个检查异常装饰器，功能：检查是否有异常，不确定是否有异常\n",
    "+ with pytest.raise(ZeroDivisionError)  对于故意测试异常代码的情况，使用可能会更好\n",
    "+ 而@pytest.mark.xfail(raises=ZeroDivisionError) 对于检查未修复的错误（即，可能会发生异常），使用检查断言可能会更好"
   ]
  },
  {
   "cell_type": "code",
   "execution_count": 31,
   "metadata": {},
   "outputs": [
    {
     "name": "stdout",
     "output_type": "stream",
     "text": [
      "\u001b[1m============================= test session starts ==============================\u001b[0m\n",
      "platform linux -- Python 3.6.9, pytest-5.4.1, py-1.8.1, pluggy-0.13.1\n",
      "rootdir: /home/ubuntu/MySpace/Python/pytest\n",
      "collected 1 item                                                               \u001b[0m\n",
      "\n",
      "assert_except.py \u001b[33mx\u001b[0m\u001b[33m                                                       [100%]\u001b[0m\n",
      "\n",
      "\u001b[33m============================== \u001b[33m\u001b[1m1 xfailed\u001b[0m\u001b[33m in 0.03s\u001b[0m\u001b[33m ==============================\u001b[0m\n"
     ]
    }
   ],
   "source": [
    "\"\"\"异常装饰器\"\"\"\n",
    "@pytest.mark.xfail(raises=ZeroDivisionError)\n",
    "def test_except_decorate():\n",
    "    1 / 0\n",
    "    \n",
    "\n",
    "!pytest assert_except.py::test_except_decorate"
   ]
  },
  {
   "cell_type": "markdown",
   "metadata": {},
   "source": [
    "# setup 和 teardown"
   ]
  },
  {
   "cell_type": "markdown",
   "metadata": {},
   "source": [
    "+ unittest的前置后置\n",
    "    - 每个测试方法前后都会执行:setup() teardown()\n",
    "    - 代码运行前后执行:setupClass() teardownClass()\n",
    "    \n",
    "+ pytest的前置后置\n",
    "    - 模块级别：setup_module、teardown_module\n",
    "    - 函数级别：setup_function、teardown_function，不在类中的方法\n",
    "    - 类级别：setup_class、teardown_class\n",
    "    - 方法级别：setup_method、teardown_method\n",
    "    - 方法细化级别：setup、teardown\n",
    "    \n",
    "<font color=\"red\">注意：setup、teardown可以实现在执行用例前或结束后加入一些操作，但这种都是针对整个脚本全局生效的</font>"
   ]
  },
  {
   "cell_type": "code",
   "execution_count": 36,
   "metadata": {},
   "outputs": [
    {
     "name": "stdout",
     "output_type": "stream",
     "text": [
      "=====整个.py模块开始前只执行一次:打开浏览器=====\n",
      "===每个函数级别用例开始前都执行setup_function===\n",
      "one\n",
      ".===每个函数级别用例结束后都执行teardown_function====\n",
      "===每个函数级别用例开始前都执行setup_function===\n",
      "two\n",
      ".===每个函数级别用例结束后都执行teardown_function====\n",
      "====整个测试类开始前只执行一次setup_class====\n",
      "==类里面每个用例执行前都会执行setup_method==\n",
      "=类里面每个用例执行前都会执行setup=\n",
      "three\n",
      ".=类里面每个用例结束后都会执行teardown=\n",
      "==类里面每个用例结束后都会执行teardown_method==\n",
      "====整个测试类结束后只执行一次teardown_class====\n",
      "===每个函数级别用例开始前都执行setup_function===\n",
      "E===每个函数级别用例结束后都执行teardown_function====\n",
      "=====整个.py模块结束后只执行一次:关闭浏览器=====\n",
      "\n",
      "==================================== ERRORS ====================================\n",
      "_________________________ ERROR at setup of test_four __________________________\n",
      "file /home/ubuntu/MySpace/Python/pytest/setup_teardown.py, line 48\n",
      "  def test_four(self):\n",
      "E       fixture 'self' not found\n",
      ">       available fixtures: _Module__pytest_setup_function, _Module__pytest_setup_module, cache, capfd, capfdbinary, caplog, capsys, capsysbinary, doctest_namespace, monkeypatch, pytestconfig, record_property, record_testsuite_property, record_xml_attribute, recwarn, tmp_path, tmp_path_factory, tmpdir, tmpdir_factory\n",
      ">       use 'pytest --fixtures [testpath]' for help on them.\n",
      "\n",
      "/home/ubuntu/MySpace/Python/pytest/setup_teardown.py:48\n",
      "=========================== short test summary info ============================\n",
      "ERROR setup_teardown.py::test_four\n",
      "3 passed, 1 error in 0.05s\n",
      "\u001b[1m============================= test session starts ==============================\u001b[0m\n",
      "platform linux -- Python 3.6.9, pytest-5.4.1, py-1.8.1, pluggy-0.13.1\n",
      "rootdir: /home/ubuntu/MySpace/Python/pytest\n",
      "collected 4 items                                                              \u001b[0m\n",
      "\n",
      "setup_teardown.py \u001b[32m.\u001b[0m\u001b[32m.\u001b[0m\u001b[32m.\u001b[0m\u001b[31mE\u001b[0m\u001b[31m                                                   [100%]\u001b[0m\n",
      "\n",
      "==================================== ERRORS ====================================\n",
      "\u001b[31m\u001b[1m_________________________ ERROR at setup of test_four __________________________\u001b[0m\n",
      "file /home/ubuntu/MySpace/Python/pytest/setup_teardown.py, line 48\n",
      "  def test_four(self):\n",
      "\u001b[31mE       fixture 'self' not found\u001b[0m\n",
      "\u001b[31m>       available fixtures: _Module__pytest_setup_function, _Module__pytest_setup_module, cache, capfd, capfdbinary, caplog, capsys, capsysbinary, doctest_namespace, monkeypatch, pytestconfig, record_property, record_testsuite_property, record_xml_attribute, recwarn, tmp_path, tmp_path_factory, tmpdir, tmpdir_factory\u001b[0m\n",
      "\u001b[31m>       use 'pytest --fixtures [testpath]' for help on them.\u001b[0m\n",
      "\n",
      "/home/ubuntu/MySpace/Python/pytest/setup_teardown.py:48\n",
      "---------------------------- Captured stdout setup -----------------------------\n",
      "===每个函数级别用例开始前都执行setup_function===\n",
      "=========================== short test summary info ============================\n",
      "ERROR setup_teardown.py::test_four\n",
      "\u001b[31m========================== \u001b[32m3 passed\u001b[0m, \u001b[31m\u001b[1m1 error\u001b[0m\u001b[31m in 0.04s\u001b[0m\u001b[31m ==========================\u001b[0m\n"
     ]
    }
   ],
   "source": [
    "\"\"\"前置后置条件\"\"\"\n",
    "\n",
    "import pytest\n",
    "\n",
    "def setup_module():\n",
    "    print(\"=====整个.py模块开始前只执行一次:打开浏览器=====\")\n",
    "    \n",
    "def teardown_module():\n",
    "    print(\"=====整个.py模块结束后只执行一次:关闭浏览器=====\")\n",
    " \n",
    "\n",
    "def setup_function():\n",
    "    print(\"===每个函数级别用例开始前都执行setup_function===\")\n",
    "\n",
    "def teardown_function():\n",
    "    print(\"===每个函数级别用例结束后都执行teardown_function====\")\n",
    "    \n",
    "    \n",
    "def test_one():\n",
    "    print(\"one\")\n",
    "\n",
    "def test_two():\n",
    "    print(\"two\")\n",
    "    \n",
    "    \n",
    "class TestCase():\n",
    "    def setup_class(self):\n",
    "        print(\"====整个测试类开始前只执行一次setup_class====\")\n",
    "\n",
    "    def teardown_class(self):\n",
    "        print(\"====整个测试类结束后只执行一次teardown_class====\")\n",
    "\n",
    "    def setup_method(self):\n",
    "        print(\"==类里面每个用例执行前都会执行setup_method==\")\n",
    "\n",
    "    def teardown_method(self):\n",
    "        print(\"==类里面每个用例结束后都会执行teardown_method==\")\n",
    "\n",
    "    def setup(self):\n",
    "        print(\"=类里面每个用例执行前都会执行setup=\")\n",
    "\n",
    "    def teardown(self):\n",
    "        print(\"=类里面每个用例结束后都会执行teardown=\")\n",
    "\n",
    "    def test_three(self):\n",
    "        print(\"three\")\n",
    "        \n",
    "def test_four(self):\n",
    "        print(\"four\")\n",
    "        \n",
    "\n",
    "if __name__ == '__main__':\n",
    "    pytest.main([\"-q\", \"-s\", \"-ra\", \"setup_teardown.py\"])\n",
    "    \n",
    "    \n",
    "!pytest setup_teardown.py"
   ]
  },
  {
   "cell_type": "markdown",
   "metadata": {},
   "source": [
    "# fixture\n",
    "\n",
    "如果有以下场景：用例 1 需要先登录，用例 2 不需要登录，用例 3 需要先登录。很显然无法用 setup 和 teardown 来实现了\n",
    "\n",
    "fixture可以让我们自定义测试用例的前置条件"
   ]
  },
  {
   "cell_type": "markdown",
   "metadata": {},
   "source": [
    "## fixture基础"
   ]
  },
  {
   "cell_type": "markdown",
   "metadata": {},
   "source": [
    "### fixture的优势"
   ]
  },
  {
   "cell_type": "markdown",
   "metadata": {},
   "source": [
    "+ 命名方式灵活，不局限于 `setup` 和 `teardown` 这几个命名\n",
    "+ `conftest.py` 配置里可以实现数据共享，不需要 `import` 就能自动找到 `fixture`\n",
    "+ `scope=\"module\"` 可以实现多个 `.py` 跨文件共享前置\n",
    "+ `scope=\"session\"` 以实现多个 `.py` 跨文件使用一个 `session` 来完成多个用例"
   ]
  },
  {
   "cell_type": "markdown",
   "metadata": {},
   "source": [
    "### fixture参数列表"
   ]
  },
  {
   "cell_type": "markdown",
   "metadata": {},
   "source": [
    "```python\n",
    "@pytest.fixture(scope=\"function\", params=None, autouse=False, ids=None, name=None)\n",
    "def test():\n",
    "    print(\"fixture初始化的参数列表\")\n",
    "```\n",
    "\n",
    "+ 参数列表\n",
    "    - scope：可以理解成fixture的作用域，默认：function，还有class、module、package、session四个【常用】\n",
    "    - autouse：默认：False，需要用例手动调用该fixture；如果是True，所有作用域内的测试用例都会自动调用该fixture\n",
    "    - name：默认：装饰器的名称，同一模块的fixture相互调用建议写个不同的name\n",
    "    \n",
    "+ 注意\n",
    "    - session的作用域：是整个测试会话，即开始执行pytest到结束测试"
   ]
  },
  {
   "cell_type": "markdown",
   "metadata": {},
   "source": [
    "### 调用 fixture"
   ]
  },
  {
   "cell_type": "markdown",
   "metadata": {},
   "source": [
    "方法一：将fixture名称作为测试用例函数的输入参数"
   ]
  },
  {
   "cell_type": "code",
   "execution_count": 42,
   "metadata": {},
   "outputs": [
    {
     "name": "stdout",
     "output_type": "stream",
     "text": [
      "\u001b[1m============================= test session starts ==============================\u001b[0m\n",
      "platform linux -- Python 3.6.9, pytest-5.4.1, py-1.8.1, pluggy-0.13.1\n",
      "rootdir: /home/ubuntu/MySpace/Python/pytest\n",
      "collected 1 item                                                               \u001b[0m\n",
      "\n",
      "fixture.py \u001b[32m.\u001b[0m\u001b[32m                                                             [100%]\u001b[0m\n",
      "\n",
      "\u001b[32m============================== \u001b[32m\u001b[1m1 passed\u001b[0m\u001b[32m in 0.01s\u001b[0m\u001b[32m ===============================\u001b[0m\n",
      "\u001b[1m============================= test session starts ==============================\u001b[0m\n",
      "platform linux -- Python 3.6.9, pytest-5.4.1, py-1.8.1, pluggy-0.13.1\n",
      "rootdir: /home/ubuntu/MySpace/Python/pytest\n",
      "collected 1 item                                                               \u001b[0m\n",
      "\n",
      "fixture.py \u001b[32m.\u001b[0m\u001b[32m                                                             [100%]\u001b[0m\n",
      "\n",
      "\u001b[32m============================== \u001b[32m\u001b[1m1 passed\u001b[0m\u001b[32m in 0.01s\u001b[0m\u001b[32m ===============================\u001b[0m\n"
     ]
    }
   ],
   "source": [
    "import pytest\n",
    "\n",
    "@pytest.fixture\n",
    "def login():\n",
    "    print(\"请输入帐号和密码\")\n",
    "    \n",
    "def test_s1(login):\n",
    "    print(\"用例1,登录后进行的，操作 111\")\n",
    "    \n",
    "\"\"\"不穿login\"\"\"\n",
    "def test_s2():\n",
    "    print(\"用例2，不需要登录，操作 222\")\n",
    "    \n",
    "    \n",
    "!pytest fixture.py::test_s1\n",
    "!pytest fixture.py::test_s2"
   ]
  },
  {
   "cell_type": "markdown",
   "metadata": {},
   "source": [
    "方法二：测试用例加上装饰器：@pytest.mark.usefixtures(fixture_name)"
   ]
  },
  {
   "cell_type": "code",
   "execution_count": 47,
   "metadata": {},
   "outputs": [
    {
     "name": "stdout",
     "output_type": "stream",
     "text": [
      "\u001b[1m============================= test session starts ==============================\u001b[0m\r\n",
      "platform linux -- Python 3.6.9, pytest-5.4.1, py-1.8.1, pluggy-0.13.1\r\n",
      "rootdir: /home/ubuntu/MySpace/Python/pytest\r\n",
      "\u001b[1mcollecting ... \u001b[0m\u001b[1m\r",
      "collected 1 item                                                               \u001b[0m\r\n",
      "\r\n",
      "fixture.py \u001b[32m.\u001b[0m\u001b[32m                                                             [100%]\u001b[0m\r\n",
      "\r\n",
      "\u001b[32m============================== \u001b[32m\u001b[1m1 passed\u001b[0m\u001b[32m in 0.01s\u001b[0m\u001b[32m ===============================\u001b[0m\r\n"
     ]
    }
   ],
   "source": [
    "import pytest\n",
    "\n",
    "@pytest.fixture\n",
    "def login():\n",
    "    print(\"请输入帐号和密码\")\n",
    "\n",
    "@pytest.fixture\n",
    "def login2():\n",
    "    print(\"please输入账号，密码先登录\")\n",
    "\n",
    "\n",
    "@pytest.mark.usefixtures(\"login2\", \"login\")\n",
    "def test_s11():\n",
    "    print(\"用例 11：登录之后其它动作 111\")\n",
    "\n",
    "!pytest fixture.py::test_s11"
   ]
  },
  {
   "cell_type": "markdown",
   "metadata": {},
   "source": [
    "方法三：fixture设置autouse=True\n",
    "\n",
    "+ 在类声明上面加 @pytest.mark.usefixtures() ，代表这个类里面所有测试用例都会调用该fixture\n",
    "+ 可以叠加多个 @pytest.mark.usefixtures() ，先执行的放底层，后执行的放上层\n",
    "+ 可以传多个fixture参数，先执行的放前面，后执行的放后面\n",
    "+ 如果fixture有返回值，用 @pytest.mark.usefixtures() 是无法获取到返回值的，必须用传参的方式"
   ]
  },
  {
   "cell_type": "code",
   "execution_count": 52,
   "metadata": {},
   "outputs": [
    {
     "name": "stdout",
     "output_type": "stream",
     "text": [
      "\u001b[1m============================= test session starts ==============================\u001b[0m\r\n",
      "platform linux -- Python 3.6.9, pytest-5.4.1, py-1.8.1, pluggy-0.13.1\r\n",
      "rootdir: /home/ubuntu/MySpace/Python/pytest\r\n",
      "\u001b[1mcollecting ... \u001b[0m\u001b[1m\r",
      "collected 1 item                                                               \u001b[0m\r\n",
      "\r\n",
      "fixture.py \u001b[32m.\u001b[0m\u001b[32m                                                             [100%]\u001b[0m\r\n",
      "\r\n",
      "\u001b[32m============================== \u001b[32m\u001b[1m1 passed\u001b[0m\u001b[32m in 0.01s\u001b[0m\u001b[32m ===============================\u001b[0m\r\n"
     ]
    }
   ],
   "source": [
    "@pytest.fixture(autouse=True)\n",
    "def login3():\n",
    "    print(\"====auto===\")\n",
    "\n",
    "\n",
    "\"\"\"不是test开头，加了装饰器也不会执行fixture\"\"\"\n",
    "@pytest.mark.usefixtures(\"login2\")\n",
    "def test_loginss():\n",
    "    print(123)\n",
    "    \n",
    "    \n",
    "!pytest fixture.py::test_loginss"
   ]
  },
  {
   "cell_type": "markdown",
   "metadata": {},
   "source": [
    "### fixture实例化顺序"
   ]
  },
  {
   "cell_type": "markdown",
   "metadata": {},
   "source": [
    "+ 实例化【session > package > module > class > function】\n",
    "+ 具有相同作用域的fixture遵循测试函数中声明的顺序，并遵循fixture之间的依赖关系【在fixture_A里面依赖的fixture_B优先实例化，然后到fixture_A实例化】\n",
    "+ 自动使用（autouse=True）的fixture将在显式使用（传参或装饰器）的fixture之前实例化"
   ]
  },
  {
   "cell_type": "code",
   "execution_count": 55,
   "metadata": {},
   "outputs": [
    {
     "name": "stdout",
     "output_type": "stream",
     "text": [
      "\u001b[1m============================= test session starts ==============================\u001b[0m\r\n",
      "platform linux -- Python 3.6.9, pytest-5.4.1, py-1.8.1, pluggy-0.13.1\r\n",
      "rootdir: /home/ubuntu/MySpace/Python/pytest\r\n",
      "\u001b[1mcollecting ... \u001b[0m\u001b[1m\r",
      "collected 1 item                                                               \u001b[0m\r\n",
      "\r\n",
      "fixture_order.py \u001b[32m.\u001b[0m\u001b[32m                                                       [100%]\u001b[0m\r\n",
      "\r\n",
      "\u001b[32m============================== \u001b[32m\u001b[1m1 passed\u001b[0m\u001b[32m in 0.01s\u001b[0m\u001b[32m ===============================\u001b[0m\r\n"
     ]
    }
   ],
   "source": [
    "import pytest\n",
    "\n",
    "order = []\n",
    "\n",
    "@pytest.fixture(scope=\"session\")\n",
    "def s1():\n",
    "    order.append(\"s1\")\n",
    "\n",
    "\n",
    "@pytest.fixture(scope=\"module\")\n",
    "def m1():\n",
    "    order.append(\"m1\")\n",
    "    \n",
    "@pytest.fixture\n",
    "def f1(f3, a1):\n",
    "    # 先实例化f3, 再实例化a1, 最后实例化f1\n",
    "    order.append(\"f1\")\n",
    "    assert f3 == 123\n",
    "\n",
    "\n",
    "@pytest.fixture\n",
    "def f3():\n",
    "    order.append(\"f3\")\n",
    "    a = 123\n",
    "    yield a\n",
    "\n",
    "\n",
    "@pytest.fixture\n",
    "def a1():\n",
    "    order.append(\"a1\")\n",
    "\n",
    "\n",
    "@pytest.fixture\n",
    "def f2():\n",
    "    order.append(\"f2\")\n",
    "\n",
    "\n",
    "def test_order(f1, m1, f2, s1):\n",
    "    # m1、s1在f1后，但因为scope范围大，所以会优先实例化\n",
    "    assert order == [\"s1\", \"m1\", \"f3\", \"a1\", \"f1\", \"f2\"]\n",
    "    \n",
    "    \n",
    "!pytest fixture_order.py::test_order"
   ]
  },
  {
   "cell_type": "markdown",
   "metadata": {},
   "source": [
    "### fixture注意点\n",
    "\n",
    "添加了 @pytest.fixture ，如果fixture还想依赖其他fixture，需要用函数传参的方式，不能用 @pytest.mark.usefixtures() 的方式，否则会不生效"
   ]
  },
  {
   "cell_type": "code",
   "execution_count": 148,
   "metadata": {},
   "outputs": [
    {
     "name": "stdout",
     "output_type": "stream",
     "text": [
      "\u001b[1m============================= test session starts ==============================\u001b[0m\r\n",
      "platform linux -- Python 3.6.9, pytest-5.4.1, py-1.8.1, pluggy-0.13.1\r\n",
      "rootdir: /home/ubuntu/MySpace/Python/pytest\r\n",
      "\u001b[1mcollecting ... \u001b[0m\u001b[1m\r",
      "collected 0 items                                                              \u001b[0m\r\n",
      "\r\n",
      "\u001b[33m============================ \u001b[33mno tests ran\u001b[0m\u001b[33m in 0.01s\u001b[0m\u001b[33m =============================\u001b[0m\r\n",
      "\u001b[31mERROR: not found: /home/ubuntu/MySpace/Python/pytest/fixture_attention.py::test_login\r\n",
      "(no name '/home/ubuntu/MySpace/Python/pytest/fixture_attention.py::test_login' in any of [<Module fixture_attention.py>])\r\n",
      "\u001b[0m\r\n"
     ]
    }
   ],
   "source": [
    "import pytest\n",
    "\n",
    "@pytest.fixture(scope=\"session\")\n",
    "def open():\n",
    "    print(\"===打开浏览器===\")\n",
    "\n",
    "@pytest.fixture\n",
    "# @pytest.mark.usefixtures(\"open\") 不可取！！！不生效！！！\n",
    "def test_login(open):\n",
    "    # 方法级别前置操作setup\n",
    "    print(f\"输入账号，密码先登录{open}\")\n",
    "    \n",
    "    \n",
    "!pytest fixture_attention.py::test_login"
   ]
  },
  {
   "cell_type": "markdown",
   "metadata": {},
   "source": [
    "## fixture实现前置和后置"
   ]
  },
  {
   "cell_type": "markdown",
   "metadata": {},
   "source": [
    "### fixture之yield实现teardown\n",
    "\n",
    "用fixture实现teardown并不是一个独立的函数，而是用 yield 关键字来开启teardown操作\n",
    "\n",
    "+ yield注意事项\n",
    "    - 如果yield前面的代码，即setup部分已经抛出异常了，则不会执行yield后面的teardown内容\n",
    "    - 如果测试用例抛出异常，yield后面的teardown内容还是会正常执行"
   ]
  },
  {
   "cell_type": "code",
   "execution_count": 64,
   "metadata": {},
   "outputs": [
    {
     "name": "stdout",
     "output_type": "stream",
     "text": [
      "\u001b[1m============================= test session starts ==============================\u001b[0m\r\n",
      "platform linux -- Python 3.6.9, pytest-5.4.1, py-1.8.1, pluggy-0.13.1\r\n",
      "rootdir: /home/ubuntu/MySpace/Python/pytest\r\n",
      "\u001b[1mcollecting ... \u001b[0m\u001b[1m\r",
      "collected 2 items                                                              \u001b[0m\r\n",
      "\r\n",
      "fixture_teardown.py \u001b[32m.\u001b[0m\u001b[32m.\u001b[0m\u001b[32m                                                   [100%]\u001b[0m\r\n",
      "\r\n",
      "\u001b[32m============================== \u001b[32m\u001b[1m2 passed\u001b[0m\u001b[32m in 0.01s\u001b[0m\u001b[32m ===============================\u001b[0m\r\n"
     ]
    }
   ],
   "source": [
    "import pytest\n",
    "\n",
    "\n",
    "@pytest.fixture(scope=\"session\")\n",
    "def open():\n",
    "    # 会话前置操作setup\n",
    "    print(\"===打开浏览器===\")\n",
    "    test = \"测试变量是否返回\"\n",
    "    yield test\n",
    "    # 会话后置操作teardown\n",
    "    print(\"==关闭浏览器==\")\n",
    "\n",
    "\n",
    "@pytest.fixture\n",
    "def login(open):\n",
    "    # 方法级别前置操作setup\n",
    "    print(f\"输入账号，密码先登录{open}\")\n",
    "    name = \"==我是账号==\"\n",
    "    pwd = \"==我是密码==\"\n",
    "    age = \"==我是年龄==\"\n",
    "    # 返回变量\n",
    "    yield name, pwd, age\n",
    "    # 方法级别后置操作teardown\n",
    "    print(\"登录成功\")\n",
    "\n",
    "\n",
    "def test_s1(login):\n",
    "    print(\"==用例1==\")\n",
    "    # 返回的是一个元组\n",
    "    print(login)\n",
    "    # 分别赋值给不同变量\n",
    "    name, pwd, age = login\n",
    "    print(name, pwd, age)\n",
    "    assert \"账号\" in name\n",
    "    assert \"密码\" in pwd\n",
    "    assert \"年龄\" in age\n",
    "\n",
    "\n",
    "def test_s2(login):\n",
    "    print(\"==用例2==\")\n",
    "    print(login)\n",
    "    \n",
    "    \n",
    "!pytest fixture_teardown.py"
   ]
  },
  {
   "cell_type": "markdown",
   "metadata": {},
   "source": [
    "### with和yeild"
   ]
  },
  {
   "cell_type": "code",
   "execution_count": 66,
   "metadata": {},
   "outputs": [
    {
     "name": "stdout",
     "output_type": "stream",
     "text": [
      "\u001b[1m============================= test session starts ==============================\u001b[0m\r\n",
      "platform linux -- Python 3.6.9, pytest-5.4.1, py-1.8.1, pluggy-0.13.1\r\n",
      "rootdir: /home/ubuntu/MySpace/Python/pytest\r\n",
      "\u001b[1mcollecting ... \u001b[0m\u001b[1m\r",
      "collected 0 items                                                              \u001b[0m\r\n",
      "\r\n",
      "\u001b[33m============================ \u001b[33mno tests ran\u001b[0m\u001b[33m in 0.00s\u001b[0m\u001b[33m =============================\u001b[0m\r\n"
     ]
    }
   ],
   "source": [
    "import pytest\n",
    "\n",
    "@pytest.fixture(scope=\"module\")\n",
    "def smtp_connection():\n",
    "    with smtp.SMTP(\"smtp.gmail.com\", 587, timeout=5) as smtp_connection:\n",
    "        yield smtp_connection  # provide the fixture value\n",
    "        \n",
    "        \n",
    "!pytest fixture_yeild_with.py"
   ]
  },
  {
   "cell_type": "markdown",
   "metadata": {},
   "source": [
    "## addfinalizer函数\n",
    "\n",
    "+ 如果 request.addfinalizer() 前面的代码，即setup部分已经抛出异常了，则不会执行 request.addfinalizer() 的teardown内容（和yield相似，应该是最近新版本改成一致了）\n",
    "+ 可以声明多个终结函数并调用"
   ]
  },
  {
   "cell_type": "code",
   "execution_count": 67,
   "metadata": {},
   "outputs": [],
   "source": [
    "@pytest.fixture(scope=\"module\")\n",
    "def test_addfinalizer(request):\n",
    "    # 前置操作setup\n",
    "    print(\"==再次打开浏览器==\")\n",
    "    test = \"test_addfinalizer\"\n",
    "\n",
    "    def fin():\n",
    "        # 后置操作teardown\n",
    "        print(\"==再次关闭浏览器==\")\n",
    "\n",
    "    request.addfinalizer(fin)\n",
    "    # 返回前置操作的变量\n",
    "    return test\n",
    "\n",
    "\n",
    "def test_anthor(test_addfinalizer):\n",
    "    print(\"==最新用例==\", test_addfinalizer)"
   ]
  },
  {
   "cell_type": "markdown",
   "metadata": {},
   "source": [
    "## conftest.py"
   ]
  },
  {
   "cell_type": "markdown",
   "metadata": {},
   "source": [
    "+ conftest.py    --- 一个专门存放 fixture 的配置文件，多个测试用例文件（test_*.py）的所有用例都需要用登录功能来作为前置操作，那就不能把登录功能写到某个用例文件中去了\n",
    "+ conftest.py的出现，就是为了解决上述问题，单独管理一些全局的fixture\n",
    "\n",
    "\n",
    "+ conftest.py配置fixture注意事项\n",
    "    - pytest会默认读取conftest.py里面的所有fixture\n",
    "    - conftest.py 文件名称是固定的，不能改动\n",
    "    - conftest.py只对同一个package下的所有测试用例生效\n",
    "    - 不同目录可以有自己的conftest.py，一个项目中可以有多个conftest.py\n",
    "    - 测试用例文件中不需要手动import conftest.py，pytest会自动查找"
   ]
  },
  {
   "cell_type": "code",
   "execution_count": 70,
   "metadata": {},
   "outputs": [
    {
     "name": "stdout",
     "output_type": "stream",
     "text": [
      "\u001b[01;34m./conftest/\u001b[00m\n",
      "├── confest.py\n",
      "├── \u001b[01;34m__pycache__\u001b[00m\n",
      "│   └── test_1.cpython-36-pytest-5.4.1.pyc\n",
      "├── run.py\n",
      "└── test_1.py\n",
      "\n",
      "1 directory, 4 files\n",
      "\u001b[1m============================= test session starts ==============================\u001b[0m\n",
      "platform linux -- Python 3.6.9, pytest-5.4.1, py-1.8.1, pluggy-0.13.1\n",
      "rootdir: /home/ubuntu/MySpace/Python/pytest\n",
      "collected 0 items                                                              \u001b[0m\n",
      "\n",
      "\u001b[33m============================ \u001b[33mno tests ran\u001b[0m\u001b[33m in 0.00s\u001b[0m\u001b[33m =============================\u001b[0m\n"
     ]
    }
   ],
   "source": [
    "!tree ./conftest/\n",
    "\n",
    "!pytest ./conftest/run.py"
   ]
  },
  {
   "cell_type": "markdown",
   "metadata": {},
   "source": [
    "## fixture传参request\n",
    "\n",
    "+ 为了提高复用性，我们在写测试用例的时候，会用到不同的fixture，比如：最常见的登录操作，大部分的用例的前置条件都是登录\n",
    "+ 假设不同的用例想登录不同的测试账号，那么登录fixture就不能把账号写死，需要通过传参的方式来完成登录操作"
   ]
  },
  {
   "cell_type": "markdown",
   "metadata": {},
   "source": [
    "### 一个参数"
   ]
  },
  {
   "cell_type": "code",
   "execution_count": 155,
   "metadata": {},
   "outputs": [
    {
     "name": "stdout",
     "output_type": "stream",
     "text": [
      "\u001b[1m============================= test session starts ==============================\u001b[0m\n",
      "platform linux -- Python 3.6.9, pytest-5.4.1, py-1.8.1, pluggy-0.13.1\n",
      "rootdir: /home/ubuntu/MySpace/Python/pytest\n",
      "collected 2 items                                                              \u001b[0m\n",
      "\n",
      "fixture/fixture_request_one.py == 账号是：pyy1 ==\n",
      " 测试用例的登录账号是：pyy1 \n",
      "\u001b[32m.\u001b[0m== 账号是：polo ==\n",
      " 测试用例的登录账号是：polo \n",
      "\u001b[32m.\u001b[0m\n",
      "\n",
      "\u001b[32m============================== \u001b[32m\u001b[1m2 passed\u001b[0m\u001b[32m in 0.01s\u001b[0m\u001b[32m ===============================\u001b[0m\n"
     ]
    }
   ],
   "source": [
    "import pytest\n",
    "\n",
    "\n",
    "@pytest.fixture()\n",
    "def login(request):\n",
    "    name = request.param\n",
    "    print(f\"== 账号是：{name} ==\")\n",
    "    return name\n",
    "\n",
    "\n",
    "data = [\"pyy1\", \"polo\"]\n",
    "ids = [f\"login_test_name is:{name}\" for name in data]\n",
    "\n",
    "\"\"\"\n",
    "（1）添加  indirect=True  参数是为了把 login 当成一个函数去执行，而不是一个参数，并且将data当做参数传入函数\n",
    "（2）def test_name(login) ，这里的login是获取fixture返回的值\n",
    "\"\"\"\n",
    "@pytest.mark.parametrize(\"login\", data, ids=ids, indirect=True)\n",
    "def test_name(login):\n",
    "    print(f\" 测试用例的登录账号是：{login} \")\n",
    "    \n",
    "    \n",
    "!pytest -s fixture/fixture_request_one.py"
   ]
  },
  {
   "cell_type": "markdown",
   "metadata": {},
   "source": [
    "### 多个参数\n",
    "\n",
    "需要传多个参数，需要通过字典去传"
   ]
  },
  {
   "cell_type": "code",
   "execution_count": 161,
   "metadata": {},
   "outputs": [
    {
     "name": "stdout",
     "output_type": "stream",
     "text": [
      "\u001b[1m============================= test session starts ==============================\u001b[0m\r\n",
      "platform linux -- Python 3.6.9, pytest-5.4.1, py-1.8.1, pluggy-0.13.1 -- /usr/bin/python3\r\n",
      "cachedir: .pytest_cache\r\n",
      "rootdir: /home/ubuntu/MySpace/Python/pytest\r\n",
      "\u001b[1mcollecting ... \u001b[0m\u001b[1m\r",
      "collected 2 items                                                              \u001b[0m\r\n",
      "\r\n",
      "fixture/fixture_request_more.py::test_login[login0] 账号是：crisimple1, 密码是：123456\r\n",
      "账号是：crisimple1，密码是：123456\r\n",
      "\u001b[32mPASSED\u001b[0m\r\n",
      "fixture/fixture_request_more.py::test_login[login1] 账号是：crisimple2, 密码是：654321\r\n",
      "账号是：crisimple2，密码是：654321\r\n",
      "\u001b[32mPASSED\u001b[0m\r\n",
      "\r\n",
      "\u001b[32m============================== \u001b[32m\u001b[1m2 passed\u001b[0m\u001b[32m in 0.01s\u001b[0m\u001b[32m ===============================\u001b[0m\r\n"
     ]
    }
   ],
   "source": [
    "\"\"\"多个参数\"\"\"\n",
    "import pytest\n",
    "\n",
    "\n",
    "@pytest.fixture()\n",
    "def login(request):\n",
    "    param = request.param\n",
    "    print(f\"账号是：{param['username']}, 密码是：{param['passwd']}\")\n",
    "    return param\n",
    "\n",
    "data = [\n",
    "    {\"username\": \"crisimple1\", \"passwd\": \"123456\"},\n",
    "    {\"username\": \"crisimple2\", \"passwd\": \"654321\"},\n",
    "]\n",
    "\n",
    "@pytest.mark.parametrize(\"login\", data, indirect=True)\n",
    "def test_login(login):\n",
    "    print(f\"账号是：{login['username']}，密码是：{login['passwd']}\")\n",
    "    \n",
    "    \n",
    "!pytest -v -s fixture/fixture_request_more.py"
   ]
  },
  {
   "cell_type": "markdown",
   "metadata": {},
   "source": [
    "### 多个fixture（只加一个装饰器）"
   ]
  },
  {
   "cell_type": "code",
   "execution_count": 165,
   "metadata": {},
   "outputs": [
    {
     "name": "stdout",
     "output_type": "stream",
     "text": [
      "\u001b[1m============================= test session starts ==============================\u001b[0m\r\n",
      "platform linux -- Python 3.6.9, pytest-5.4.1, py-1.8.1, pluggy-0.13.1 -- /usr/bin/python3\r\n",
      "cachedir: .pytest_cache\r\n",
      "rootdir: /home/ubuntu/MySpace/Python/pytest\r\n",
      "\u001b[1mcollecting ... \u001b[0m\u001b[1m\r",
      "collected 2 items                                                              \u001b[0m\r\n",
      "\r\n",
      "fixture/fixture_one_fixture.py::test_more_fixture[name1-pwd1] 登录账号为：name1\r\n",
      "登录密码为：pwd1\r\n",
      "fixture返回的内容: name1 pwd1\r\n",
      "\u001b[32mPASSED\u001b[0m\r\n",
      "fixture/fixture_one_fixture.py::test_more_fixture[name2-pwd2] 登录账号为：name2\r\n",
      "登录密码为：pwd2\r\n",
      "fixture返回的内容: name2 pwd2\r\n",
      "\u001b[32mPASSED\u001b[0m\r\n",
      "\r\n",
      "\u001b[32m============================== \u001b[32m\u001b[1m2 passed\u001b[0m\u001b[32m in 0.01s\u001b[0m\u001b[32m ===============================\u001b[0m\r\n"
     ]
    }
   ],
   "source": [
    "\"\"\"多个fixture，只加一个装饰器\"\"\"\n",
    "import pytest\n",
    "\n",
    "@pytest.fixture(scope=\"function\")\n",
    "def input_user(request):\n",
    "    user = request.param\n",
    "    print(\"登录账号为：%s\" % user)\n",
    "    return user\n",
    "\n",
    "@pytest.fixture(scope=\"function\")\n",
    "def input_pwd(request):\n",
    "    pwd = request.param\n",
    "    print(\"登录密码为：%s\" % pwd)\n",
    "    return pwd\n",
    "\n",
    "data = [\n",
    "    (\"name1\", \"pwd1\"),\n",
    "    (\"name2\", \"pwd2\")\n",
    "]\n",
    "\n",
    "@pytest.mark.parametrize(\"input_user, input_pwd\", data, indirect=True)\n",
    "def test_more_fixture(input_user, input_pwd):\n",
    "    print(\"fixture返回的内容:\", input_user, input_pwd)\n",
    "    \n",
    "\n",
    "!pytest -v -s fixture/fixture_one_fixture.py"
   ]
  },
  {
   "cell_type": "markdown",
   "metadata": {},
   "source": [
    "### 多个fixture（叠加装饰器）"
   ]
  },
  {
   "cell_type": "code",
   "execution_count": 163,
   "metadata": {},
   "outputs": [
    {
     "name": "stdout",
     "output_type": "stream",
     "text": [
      "\u001b[1m============================= test session starts ==============================\u001b[0m\n",
      "platform linux -- Python 3.6.9, pytest-5.4.1, py-1.8.1, pluggy-0.13.1 -- /usr/bin/python3\n",
      "cachedir: .pytest_cache\n",
      "rootdir: /home/ubuntu/MySpace/Python/pytest\n",
      "collected 4 items                                                              \u001b[0m\n",
      "\n",
      "fixture/fixture_more_fixture.py::test_more_fixture[pwd1-name1] 登录账号为：name1\n",
      "登录密码为：pwd1\n",
      "fixture返回的内容: name1 pwd1\n",
      "\u001b[32mPASSED\u001b[0m\n",
      "fixture/fixture_more_fixture.py::test_more_fixture[pwd1-name2] 登录账号为：name2\n",
      "登录密码为：pwd1\n",
      "fixture返回的内容: name2 pwd1\n",
      "\u001b[32mPASSED\u001b[0m\n",
      "fixture/fixture_more_fixture.py::test_more_fixture[pwd2-name1] 登录账号为：name1\n",
      "登录密码为：pwd2\n",
      "fixture返回的内容: name1 pwd2\n",
      "\u001b[32mPASSED\u001b[0m\n",
      "fixture/fixture_more_fixture.py::test_more_fixture[pwd2-name2] 登录账号为：name2\n",
      "登录密码为：pwd2\n",
      "fixture返回的内容: name2 pwd2\n",
      "\u001b[32mPASSED\u001b[0m\n",
      "\n",
      "\u001b[32m============================== \u001b[32m\u001b[1m4 passed\u001b[0m\u001b[32m in 0.02s\u001b[0m\u001b[32m ===============================\u001b[0m\n"
     ]
    }
   ],
   "source": [
    "\"\"\"多个fixture\"\"\"\n",
    "import pytest\n",
    "\n",
    "@pytest.fixture(scope=\"function\")\n",
    "def input_user(request):\n",
    "    user = request.param\n",
    "    print(\"登录账号为：%s\" % user)\n",
    "    return user\n",
    "\n",
    "@pytest.fixture(scope=\"function\")\n",
    "def input_pwd(request):\n",
    "    pwd = request.param\n",
    "    print(\"登录密码为：%s\" % pwd)\n",
    "    return pwd\n",
    "\n",
    "name = [\"name1\", \"name2\"]\n",
    "passwd = [\"pwd1\", \"pwd2\"]\n",
    "\n",
    "@pytest.mark.parametrize(\"input_user\", name, indirect=True)\n",
    "@pytest.mark.parametrize(\"input_pwd\", passwd, indirect=True)\n",
    "def test_more_fixture(input_user, input_pwd):\n",
    "    print(\"fixture返回的内容:\", input_user, input_pwd)\n",
    "    \n",
    "    \n",
    "!pytest  -v -s fixture/fixture_more_fixture.py"
   ]
  },
  {
   "cell_type": "markdown",
   "metadata": {},
   "source": [
    "# skip、skipif跳过用例\n",
    "\n",
    "+ pytest.mark.skip 开标记那些用例可以运行\n",
    "+ 希望满足某些条件才执行某些测试用例，否则 pytest 会跳过运行该测试用例"
   ]
  },
  {
   "cell_type": "markdown",
   "metadata": {},
   "source": [
    "## pytest.mark.skip\n",
    "\n",
    "跳过执行测试用例，有可选参数 reason：跳过的原因，会在执行结果中打印\n",
    "+ @pytest.mark.skip 可以加在函数上、类上、方法上\n",
    "+ 如果加在类上，类里面的 所有测试用例都不会执行 "
   ]
  },
  {
   "cell_type": "code",
   "execution_count": 73,
   "metadata": {},
   "outputs": [
    {
     "name": "stdout",
     "output_type": "stream",
     "text": [
      "\u001b[1m============================= test session starts ==============================\u001b[0m\r\n",
      "platform linux -- Python 3.6.9, pytest-5.4.1, py-1.8.1, pluggy-0.13.1\r\n",
      "rootdir: /home/ubuntu/MySpace/Python/pytest\r\n",
      "\u001b[1mcollecting ... \u001b[0m\u001b[1m\r",
      "collected 5 items                                                              \u001b[0m\r\n",
      "\r\n",
      "skip_skipif.py \u001b[32m.\u001b[0m\u001b[33ms\u001b[0m\u001b[32m.\u001b[0m\u001b[33ms\u001b[0m\u001b[33ms\u001b[0m\u001b[32m                                                     [100%]\u001b[0m\r\n",
      "\r\n",
      "\u001b[32m========================= \u001b[32m\u001b[1m2 passed\u001b[0m, \u001b[33m3 skipped\u001b[0m\u001b[32m in 0.02s\u001b[0m\u001b[32m =========================\u001b[0m\r\n"
     ]
    }
   ],
   "source": [
    "import pytest\n",
    "\n",
    "\n",
    "@pytest.fixture(autouse=True)\n",
    "def login():\n",
    "    print(\"====登录====\")\n",
    "\n",
    "\n",
    "def test_case01():\n",
    "    print(\"我是测试用例11111\")\n",
    "\n",
    "\n",
    "@pytest.mark.skip(reason=\"不执行该用例！！因为没写好！！\")\n",
    "def test_case02():\n",
    "    print(\"我是测试用例22222\")\n",
    "\n",
    "\n",
    "class Test1:\n",
    "\n",
    "    def test_1(self):\n",
    "        print(\"%% 我是类测试用例1111 %%\")\n",
    "\n",
    "    @pytest.mark.skip(reason=\"不想执行\")\n",
    "    def test_2(self):\n",
    "        print(\"%% 我是类测试用例2222 %%\")\n",
    "\n",
    "\n",
    "@pytest.mark.skip(reason=\"类也可以跳过不执行\")\n",
    "class TestSkip:\n",
    "    def test_1(self):\n",
    "        print(\"%% 不会执行 %%\")\n",
    "\n",
    "!pytest skip_skipif.py"
   ]
  },
  {
   "cell_type": "markdown",
   "metadata": {},
   "source": [
    "## pytest.mark() \n",
    "\n",
    "+ 作用：在测试用例执行期间强制跳过不再执行剩余内容\n",
    "+ 类似于在python循环中，满足某些条件则 break 跳出循环"
   ]
  },
  {
   "cell_type": "code",
   "execution_count": 76,
   "metadata": {},
   "outputs": [
    {
     "name": "stdout",
     "output_type": "stream",
     "text": [
      "这是我第1条用例\n",
      "这是我第2条用例\n",
      "这是我第3条用例\n",
      "这是我第4条用例\n"
     ]
    },
    {
     "ename": "Skipped",
     "evalue": "我跑五次了不跑了",
     "output_type": "error",
     "traceback": [
      "\u001b[0;31m---------------------------------------------------------------------------\u001b[0m",
      "\u001b[0;31mSkipped\u001b[0m                                   Traceback (most recent call last)",
      "\u001b[0;32m<ipython-input-76-4408d6b29e56>\u001b[0m in \u001b[0;36m<module>\u001b[0;34m\u001b[0m\n\u001b[1;32m      7\u001b[0m             \u001b[0mpytest\u001b[0m\u001b[0;34m.\u001b[0m\u001b[0mskip\u001b[0m\u001b[0;34m(\u001b[0m\u001b[0;34m\"我跑五次了不跑了\"\u001b[0m\u001b[0;34m)\u001b[0m\u001b[0;34m\u001b[0m\u001b[0;34m\u001b[0m\u001b[0m\n\u001b[1;32m      8\u001b[0m \u001b[0;34m\u001b[0m\u001b[0m\n\u001b[0;32m----> 9\u001b[0;31m \u001b[0mtest_function\u001b[0m\u001b[0;34m(\u001b[0m\u001b[0;34m)\u001b[0m\u001b[0;34m\u001b[0m\u001b[0;34m\u001b[0m\u001b[0m\n\u001b[0m",
      "\u001b[0;32m<ipython-input-76-4408d6b29e56>\u001b[0m in \u001b[0;36mtest_function\u001b[0;34m()\u001b[0m\n\u001b[1;32m      5\u001b[0m         \u001b[0mn\u001b[0m \u001b[0;34m+=\u001b[0m \u001b[0;36m1\u001b[0m\u001b[0;34m\u001b[0m\u001b[0;34m\u001b[0m\u001b[0m\n\u001b[1;32m      6\u001b[0m         \u001b[0;32mif\u001b[0m \u001b[0mn\u001b[0m \u001b[0;34m==\u001b[0m \u001b[0;36m5\u001b[0m\u001b[0;34m:\u001b[0m\u001b[0;34m\u001b[0m\u001b[0;34m\u001b[0m\u001b[0m\n\u001b[0;32m----> 7\u001b[0;31m             \u001b[0mpytest\u001b[0m\u001b[0;34m.\u001b[0m\u001b[0mskip\u001b[0m\u001b[0;34m(\u001b[0m\u001b[0;34m\"我跑五次了不跑了\"\u001b[0m\u001b[0;34m)\u001b[0m\u001b[0;34m\u001b[0m\u001b[0;34m\u001b[0m\u001b[0m\n\u001b[0m\u001b[1;32m      8\u001b[0m \u001b[0;34m\u001b[0m\u001b[0m\n\u001b[1;32m      9\u001b[0m \u001b[0mtest_function\u001b[0m\u001b[0;34m(\u001b[0m\u001b[0;34m)\u001b[0m\u001b[0;34m\u001b[0m\u001b[0;34m\u001b[0m\u001b[0m\n",
      "\u001b[0;32m~/.local/lib/python3.6/site-packages/_pytest/outcomes.py\u001b[0m in \u001b[0;36mskip\u001b[0;34m(msg, allow_module_level)\u001b[0m\n\u001b[1;32m    143\u001b[0m     \"\"\"\n\u001b[1;32m    144\u001b[0m     \u001b[0m__tracebackhide__\u001b[0m \u001b[0;34m=\u001b[0m \u001b[0;32mTrue\u001b[0m\u001b[0;34m\u001b[0m\u001b[0;34m\u001b[0m\u001b[0m\n\u001b[0;32m--> 145\u001b[0;31m     \u001b[0;32mraise\u001b[0m \u001b[0mSkipped\u001b[0m\u001b[0;34m(\u001b[0m\u001b[0mmsg\u001b[0m\u001b[0;34m=\u001b[0m\u001b[0mmsg\u001b[0m\u001b[0;34m,\u001b[0m \u001b[0mallow_module_level\u001b[0m\u001b[0;34m=\u001b[0m\u001b[0mallow_module_level\u001b[0m\u001b[0;34m)\u001b[0m\u001b[0;34m\u001b[0m\u001b[0;34m\u001b[0m\u001b[0m\n\u001b[0m\u001b[1;32m    146\u001b[0m \u001b[0;34m\u001b[0m\u001b[0m\n\u001b[1;32m    147\u001b[0m \u001b[0;34m\u001b[0m\u001b[0m\n",
      "\u001b[0;31mSkipped\u001b[0m: 我跑五次了不跑了"
     ]
    }
   ],
   "source": [
    "def test_function():\n",
    "    n = 1\n",
    "    while True:\n",
    "        print(f\"这是我第{n}条用例\")\n",
    "        n += 1\n",
    "        if n == 5:\n",
    "            pytest.skip(\"我跑五次了不跑了\")\n",
    "            \n",
    "test_function()"
   ]
  },
  {
   "cell_type": "markdown",
   "metadata": {},
   "source": [
    "## pytest.skip(msg=\"\", allow_module_level=False)\n",
    "\n",
    "当 allow_module_level=True，可以设置在模块级别跳过整个模块"
   ]
  },
  {
   "cell_type": "code",
   "execution_count": 78,
   "metadata": {},
   "outputs": [
    {
     "name": "stdout",
     "output_type": "stream",
     "text": [
      "\u001b[1m============================= test session starts ==============================\u001b[0m\r\n",
      "platform linux -- Python 3.6.9, pytest-5.4.1, py-1.8.1, pluggy-0.13.1\r\n",
      "rootdir: /home/ubuntu/MySpace/Python/pytest\r\n",
      "\u001b[1mcollecting ... \u001b[0m\u001b[1m\r",
      "collected 1 item                                                               \u001b[0m\r\n",
      "\r\n",
      "skip_allow_module_level.py \u001b[32m.\u001b[0m\u001b[32m                                             [100%]\u001b[0m\r\n",
      "\r\n",
      "\u001b[32m============================== \u001b[32m\u001b[1m1 passed\u001b[0m\u001b[32m in 0.01s\u001b[0m\u001b[32m ===============================\u001b[0m\r\n"
     ]
    }
   ],
   "source": [
    "import sys\n",
    "import pytest\n",
    "\n",
    "if sys.platform.startswith(\"win\"):\n",
    "    pytest.skip(\"skipping windows-only tests\", allow_module_level=True)\n",
    "\n",
    "\n",
    "@pytest.fixture(autouse=True)\n",
    "def login():\n",
    "    print(\"====登录====\")\n",
    "\n",
    "\n",
    "def test_case01():\n",
    "    print(\"我是测试用例11111\")\n",
    "    \n",
    "\n",
    "!pytest skip_allow_module_level.py"
   ]
  },
  {
   "cell_type": "markdown",
   "metadata": {},
   "source": [
    "## pytest.mark.skipif(condition, reason=\"\")\n",
    "\n",
    "+ 作用：希望有条件地跳过某些测试用例\n",
    "+ condition返回True 才会跳过"
   ]
  },
  {
   "cell_type": "code",
   "execution_count": 83,
   "metadata": {
    "scrolled": false
   },
   "outputs": [
    {
     "name": "stdout",
     "output_type": "stream",
     "text": [
      "\u001b[1m============================= test session starts ==============================\u001b[0m\r\n",
      "platform linux -- Python 3.6.9, pytest-5.4.1, py-1.8.1, pluggy-0.13.1\r\n",
      "rootdir: /home/ubuntu/MySpace/Python/pytest\r\n",
      "\u001b[1mcollecting ... \u001b[0m\u001b[1m\r",
      "collected 1 item                                                               \u001b[0m\r\n",
      "\r\n",
      "skip_makr_skipif.py \u001b[32m.\u001b[0m\u001b[32m                                                    [100%]\u001b[0m\r\n",
      "\r\n",
      "\u001b[32m============================== \u001b[32m\u001b[1m1 passed\u001b[0m\u001b[32m in 0.01s\u001b[0m\u001b[32m ===============================\u001b[0m\r\n"
     ]
    }
   ],
   "source": [
    "@pytest.mark.skipif(sys.platform == 'linux', reason=\"does not run on windows\")\n",
    "class TestSkipIf(object):\n",
    "    def test_function(self):\n",
    "        print(\"不能在window上运行\")\n",
    "        \n",
    "\n",
    "\n",
    "!pytest skip_makr_skipif.py"
   ]
  },
  {
   "cell_type": "markdown",
   "metadata": {},
   "source": [
    "## 跳过标记\n",
    "\n",
    "+ 可以将 pytest.mark.skip 和 pytest.mark.skipif 赋值给一个标记变量\n",
    "+ 在不同模块之间共享这个标记变量\n",
    "+ 若有多个模块的测试用例需要用到相同的 skip 或 skipif ，可以用一个单独的文件去管理这些通用标记，然后适用于整个测试用例集"
   ]
  },
  {
   "cell_type": "code",
   "execution_count": 86,
   "metadata": {
    "scrolled": true
   },
   "outputs": [
    {
     "name": "stdout",
     "output_type": "stream",
     "text": [
      "\u001b[1m============================= test session starts ==============================\u001b[0m\n",
      "platform linux -- Python 3.6.9, pytest-5.4.1, py-1.8.1, pluggy-0.13.1\n",
      "rootdir: /home/ubuntu/MySpace/Python/pytest\n",
      "collected 3 items                                                              \u001b[0m\n",
      "\n",
      "skip_variable.py \u001b[33ms\u001b[0m\u001b[33ms\u001b[0m\u001b[33ms\u001b[0m\u001b[33m                                                     [100%]\u001b[0m\n",
      "\n",
      "\u001b[33m============================== \u001b[33m\u001b[1m3 skipped\u001b[0m\u001b[33m in 0.01s\u001b[0m\u001b[33m ==============================\u001b[0m\n"
     ]
    }
   ],
   "source": [
    "# 标记\n",
    "skipmark = pytest.mark.skip(reason=\"不能在window上运行=====\")\n",
    "skipifmark = pytest.mark.skipif(sys.platform == 'win32', reason=\"不能在window上运行啦啦啦=====\")\n",
    "\n",
    "\n",
    "@skipmark\n",
    "class TestSkip_Mark(object):\n",
    "\n",
    "    @skipifmark\n",
    "    def test_function(self):\n",
    "        print(\"测试标记\")\n",
    "\n",
    "    def test_def(self):\n",
    "        print(\"测试标记\")\n",
    "\n",
    "\n",
    "@skipmark\n",
    "def test_skip():\n",
    "    print(\"测试标记\")\n",
    "    \n",
    "\n",
    "!pytest skip_variable.py"
   ]
  },
  {
   "cell_type": "markdown",
   "metadata": {},
   "source": [
    "## pytest.importtoskip(modname:str, minversion:Optional[str]=None,reason:Optional[str]=None)\n",
    "\n",
    "+ 作用：如果缺少某些导入，则跳过模块中的所有测试\n",
    "\n",
    "+ 参数列表\n",
    "    - modname：模块名\n",
    "    - minversion：版本号\n",
    "    - reasone：跳过原因，默认不给也行"
   ]
  },
  {
   "cell_type": "code",
   "execution_count": 88,
   "metadata": {},
   "outputs": [
    {
     "ename": "TypeError",
     "evalue": "'module' object is not callable",
     "output_type": "error",
     "traceback": [
      "\u001b[0;31m---------------------------------------------------------------------------\u001b[0m",
      "\u001b[0;31mTypeError\u001b[0m                                 Traceback (most recent call last)",
      "\u001b[0;32m<ipython-input-88-05d178e742c2>\u001b[0m in \u001b[0;36m<module>\u001b[0;34m\u001b[0m\n\u001b[1;32m      2\u001b[0m \u001b[0;34m\u001b[0m\u001b[0m\n\u001b[1;32m      3\u001b[0m \u001b[0;34m\u001b[0m\u001b[0m\n\u001b[0;32m----> 4\u001b[0;31m \u001b[0;34m@\u001b[0m\u001b[0mpexpect\u001b[0m\u001b[0;34m\u001b[0m\u001b[0;34m\u001b[0m\u001b[0m\n\u001b[0m\u001b[1;32m      5\u001b[0m \u001b[0;32mdef\u001b[0m \u001b[0mtest_import\u001b[0m\u001b[0;34m(\u001b[0m\u001b[0;34m)\u001b[0m\u001b[0;34m:\u001b[0m\u001b[0;34m\u001b[0m\u001b[0;34m\u001b[0m\u001b[0m\n\u001b[1;32m      6\u001b[0m     \u001b[0mprint\u001b[0m\u001b[0;34m(\u001b[0m\u001b[0;34m\"test\"\u001b[0m\u001b[0;34m)\u001b[0m\u001b[0;34m\u001b[0m\u001b[0;34m\u001b[0m\u001b[0m\n",
      "\u001b[0;31mTypeError\u001b[0m: 'module' object is not callable"
     ]
    }
   ],
   "source": [
    "pexpect = pytest.importorskip(\"pexpect\", minversion=\"0.3\")\n",
    "\n",
    "\n",
    "@pexpect\n",
    "def test_import():\n",
    "    print(\"test\")\n",
    "    \n",
    "\n",
    "!pytest skip_importtoskip.py"
   ]
  },
  {
   "cell_type": "markdown",
   "metadata": {},
   "source": [
    "# 自定义标记mark\n",
    "\n",
    "pytest 可以支持自定义标记，自定义标记可以把一个 web 项目划分多个模块，然后指定模块名称执行"
   ]
  },
  {
   "cell_type": "markdown",
   "metadata": {},
   "source": [
    "## mark的基本用法\n",
    "\n",
    "+ 执行特定标记的用例\n",
    "+ 执行不包含某一类标记的用例\n",
    "+ 解决warning问题"
   ]
  },
  {
   "cell_type": "code",
   "execution_count": 94,
   "metadata": {},
   "outputs": [
    {
     "name": "stdout",
     "output_type": "stream",
     "text": [
      "\u001b[1m============================= test session starts ==============================\u001b[0m\n",
      "platform linux -- Python 3.6.9, pytest-5.4.1, py-1.8.1, pluggy-0.13.1\n",
      "rootdir: /home/ubuntu/MySpace/Python/pytest/mark, inifile: pytest.ini\n",
      "collected 5 items / 4 deselected / 1 selected                                  \u001b[0m\n",
      "\n",
      "mark/mark.py 测试微博\n",
      "\u001b[32m.\u001b[0m\n",
      "\n",
      "\u001b[33m=============================== warnings summary ===============================\u001b[0m\n",
      "mark/mark.py:4\n",
      "  /home/ubuntu/MySpace/Python/pytest/mark/mark.py:4: PytestUnknownMarkWarning: Unknown pytest.mark.toutiao - is this a typo?  base.You can register custom marks to avoid this warning - for details, see https://docs.pytest.org/en/latest/mark.html\n",
      "    @pytest.mark.toutiao\n",
      "\n",
      "mark/mark.py:12\n",
      "  /home/ubuntu/MySpace/Python/pytest/mark/mark.py:12: PytestUnknownMarkWarning: Unknown pytest.mark.toutiao - is this a typo?  base.You can register custom marks to avoid this warning - for details, see https://docs.pytest.org/en/latest/mark.html\n",
      "    @pytest.mark.toutiao\n",
      "\n",
      "mark/mark.py:16\n",
      "  /home/ubuntu/MySpace/Python/pytest/mark/mark.py:16: PytestUnknownMarkWarning: Unknown pytest.mark.xinlang - is this a typo?  base.You can register custom marks to avoid this warning - for details, see https://docs.pytest.org/en/latest/mark.html\n",
      "    @pytest.mark.xinlang\n",
      "\n",
      "-- Docs: https://docs.pytest.org/en/latest/warnings.html\n",
      "\u001b[33m================= \u001b[32m1 passed\u001b[0m, \u001b[33m\u001b[1m4 deselected\u001b[0m, \u001b[33m\u001b[1m3 warnings\u001b[0m\u001b[33m in 0.02s\u001b[0m\u001b[33m ==================\u001b[0m\n"
     ]
    }
   ],
   "source": [
    "import pytest\n",
    "\n",
    "\n",
    "@pytest.mark.toutiao\n",
    "def test_toutiao():\n",
    "    print(\"测试头条\")\n",
    "    \n",
    "@pytest.mark.weibo\n",
    "def test_weibo():\n",
    "    print(\"测试微博\")\n",
    "    \n",
    "@pytest.mark.toutiao\n",
    "def test_toutiao1():\n",
    "    print(\"再次测试头条\")\n",
    "    \n",
    "@pytest.mark.xinlang\n",
    "class TestClass:\n",
    "    def test_method(self):\n",
    "        print(\"测试新浪\")\n",
    "        \n",
    "\"\"\"没有标记测试\"\"\"\n",
    "def test_nomark():\n",
    "    print(\"没有标记测试\")\n",
    "\n",
    "\n",
    "!pytest -s -m weibo mark/mark.py"
   ]
  },
  {
   "cell_type": "code",
   "execution_count": 96,
   "metadata": {},
   "outputs": [
    {
     "name": "stdout",
     "output_type": "stream",
     "text": [
      "\u001b[1m============================= test session starts ==============================\u001b[0m\r\n",
      "platform linux -- Python 3.6.9, pytest-5.4.1, py-1.8.1, pluggy-0.13.1\r\n",
      "rootdir: /home/ubuntu/MySpace/Python/pytest/mark, inifile: pytest.ini\r\n",
      "\u001b[1mcollecting ... \u001b[0m\u001b[1m\r",
      "collected 5 items / 4 deselected / 1 selected                                  \u001b[0m\r\n",
      "\r\n",
      "mark/mark.py 测试微博\r\n",
      "\u001b[32m.\u001b[0m\r\n",
      "\r\n",
      "\u001b[33m=============================== warnings summary ===============================\u001b[0m\r\n",
      "mark/mark.py:4\r\n",
      "  /home/ubuntu/MySpace/Python/pytest/mark/mark.py:4: PytestUnknownMarkWarning: Unknown pytest.mark.toutiao - is this a typo?  base.You can register custom marks to avoid this warning - for details, see https://docs.pytest.org/en/latest/mark.html\r\n",
      "    @pytest.mark.toutiao\r\n",
      "\r\n",
      "mark/mark.py:12\r\n",
      "  /home/ubuntu/MySpace/Python/pytest/mark/mark.py:12: PytestUnknownMarkWarning: Unknown pytest.mark.toutiao - is this a typo?  base.You can register custom marks to avoid this warning - for details, see https://docs.pytest.org/en/latest/mark.html\r\n",
      "    @pytest.mark.toutiao\r\n",
      "\r\n",
      "mark/mark.py:16\r\n",
      "  /home/ubuntu/MySpace/Python/pytest/mark/mark.py:16: PytestUnknownMarkWarning: Unknown pytest.mark.xinlang - is this a typo?  base.You can register custom marks to avoid this warning - for details, see https://docs.pytest.org/en/latest/mark.html\r\n",
      "    @pytest.mark.xinlang\r\n",
      "\r\n",
      "-- Docs: https://docs.pytest.org/en/latest/warnings.html\r\n",
      "\u001b[33m================= \u001b[32m1 passed\u001b[0m, \u001b[33m\u001b[1m4 deselected\u001b[0m, \u001b[33m\u001b[1m3 warnings\u001b[0m\u001b[33m in 0.01s\u001b[0m\u001b[33m ==================\u001b[0m\r\n"
     ]
    }
   ],
   "source": [
    "\"\"\"\n",
    "问题：上面的执行结果是有 warning 的\n",
    "解决方案：在 同级目录 下添加 pytest.ini 配置文件，加上自定义mark\n",
    "注意：pytest.ini需要和运行的测试用例同一个目录，或在根目录下作用于全局\n",
    "\"\"\"\n",
    "\n",
    "!pytest -s -m weibo mark/mark.py"
   ]
  },
  {
   "cell_type": "code",
   "execution_count": 102,
   "metadata": {},
   "outputs": [
    {
     "name": "stdout",
     "output_type": "stream",
     "text": [
      "\u001b[1m============================= test session starts ==============================\u001b[0m\r\n",
      "platform linux -- Python 3.6.9, pytest-5.4.1, py-1.8.1, pluggy-0.13.1\r\n",
      "rootdir: /home/ubuntu/MySpace/Python/pytest/mark, inifile: pytest.ini\r\n",
      "\u001b[1mcollecting ... \u001b[0m\u001b[1m\r",
      "collected 5 items                                                              \u001b[0m\r\n",
      "INTERNALERROR> Traceback (most recent call last):\r\n",
      "INTERNALERROR>   File \"/home/ubuntu/.local/lib/python3.6/site-packages/_pytest/mark/legacy.py\", line 86, in matchmark\r\n",
      "INTERNALERROR>     return eval(markexpr, {}, MarkMapping.from_item(colitem))\r\n",
      "INTERNALERROR>   File \"<string>\", line 1\r\n",
      "INTERNALERROR>     no weibo\r\n",
      "INTERNALERROR>            ^\r\n",
      "INTERNALERROR> SyntaxError: unexpected EOF while parsing\r\n",
      "INTERNALERROR> \r\n",
      "INTERNALERROR> During handling of the above exception, another exception occurred:\r\n",
      "INTERNALERROR> \r\n",
      "INTERNALERROR> Traceback (most recent call last):\r\n",
      "INTERNALERROR>   File \"/home/ubuntu/.local/lib/python3.6/site-packages/_pytest/main.py\", line 191, in wrap_session\r\n",
      "INTERNALERROR>     session.exitstatus = doit(config, session) or 0\r\n",
      "INTERNALERROR>   File \"/home/ubuntu/.local/lib/python3.6/site-packages/_pytest/main.py\", line 246, in _main\r\n",
      "INTERNALERROR>     config.hook.pytest_collection(session=session)\r\n",
      "INTERNALERROR>   File \"/home/ubuntu/.local/lib/python3.6/site-packages/pluggy/hooks.py\", line 286, in __call__\r\n",
      "INTERNALERROR>     return self._hookexec(self, self.get_hookimpls(), kwargs)\r\n",
      "INTERNALERROR>   File \"/home/ubuntu/.local/lib/python3.6/site-packages/pluggy/manager.py\", line 93, in _hookexec\r\n",
      "INTERNALERROR>     return self._inner_hookexec(hook, methods, kwargs)\r\n",
      "INTERNALERROR>   File \"/home/ubuntu/.local/lib/python3.6/site-packages/pluggy/manager.py\", line 87, in <lambda>\r\n",
      "INTERNALERROR>     firstresult=hook.spec.opts.get(\"firstresult\") if hook.spec else False,\r\n",
      "INTERNALERROR>   File \"/home/ubuntu/.local/lib/python3.6/site-packages/pluggy/callers.py\", line 208, in _multicall\r\n",
      "INTERNALERROR>     return outcome.get_result()\r\n",
      "INTERNALERROR>   File \"/home/ubuntu/.local/lib/python3.6/site-packages/pluggy/callers.py\", line 80, in get_result\r\n",
      "INTERNALERROR>     raise ex[1].with_traceback(ex[2])\r\n",
      "INTERNALERROR>   File \"/home/ubuntu/.local/lib/python3.6/site-packages/pluggy/callers.py\", line 187, in _multicall\r\n",
      "INTERNALERROR>     res = hook_impl.function(*args)\r\n",
      "INTERNALERROR>   File \"/home/ubuntu/.local/lib/python3.6/site-packages/_pytest/main.py\", line 257, in pytest_collection\r\n",
      "INTERNALERROR>     return session.perform_collect()\r\n",
      "INTERNALERROR>   File \"/home/ubuntu/.local/lib/python3.6/site-packages/_pytest/main.py\", line 455, in perform_collect\r\n",
      "INTERNALERROR>     session=self, config=self.config, items=items\r\n",
      "INTERNALERROR>   File \"/home/ubuntu/.local/lib/python3.6/site-packages/pluggy/hooks.py\", line 286, in __call__\r\n",
      "INTERNALERROR>     return self._hookexec(self, self.get_hookimpls(), kwargs)\r\n",
      "INTERNALERROR>   File \"/home/ubuntu/.local/lib/python3.6/site-packages/pluggy/manager.py\", line 93, in _hookexec\r\n",
      "INTERNALERROR>     return self._inner_hookexec(hook, methods, kwargs)\r\n",
      "INTERNALERROR>   File \"/home/ubuntu/.local/lib/python3.6/site-packages/pluggy/manager.py\", line 87, in <lambda>\r\n",
      "INTERNALERROR>     firstresult=hook.spec.opts.get(\"firstresult\") if hook.spec else False,\r\n",
      "INTERNALERROR>   File \"/home/ubuntu/.local/lib/python3.6/site-packages/pluggy/callers.py\", line 208, in _multicall\r\n",
      "INTERNALERROR>     return outcome.get_result()\r\n",
      "INTERNALERROR>   File \"/home/ubuntu/.local/lib/python3.6/site-packages/pluggy/callers.py\", line 80, in get_result\r\n",
      "INTERNALERROR>     raise ex[1].with_traceback(ex[2])\r\n",
      "INTERNALERROR>   File \"/home/ubuntu/.local/lib/python3.6/site-packages/pluggy/callers.py\", line 187, in _multicall\r\n",
      "INTERNALERROR>     res = hook_impl.function(*args)\r\n",
      "INTERNALERROR>   File \"/home/ubuntu/.local/lib/python3.6/site-packages/_pytest/mark/__init__.py\", line 151, in pytest_collection_modifyitems\r\n",
      "INTERNALERROR>     deselect_by_mark(items, config)\r\n",
      "INTERNALERROR>   File \"/home/ubuntu/.local/lib/python3.6/site-packages/_pytest/mark/__init__.py\", line 139, in deselect_by_mark\r\n",
      "INTERNALERROR>     if matchmark(item, matchexpr):\r\n",
      "INTERNALERROR>   File \"/home/ubuntu/.local/lib/python3.6/site-packages/_pytest/mark/legacy.py\", line 88, in matchmark\r\n",
      "INTERNALERROR>     raise SyntaxError(str(e) + \"\\nMarker expression must be valid Python!\")\r\n",
      "INTERNALERROR>   File \"<string>\", line None\r\n",
      "INTERNALERROR> SyntaxError: unexpected EOF while parsing (<string>, line 1)\r\n",
      "INTERNALERROR> Marker expression must be valid Python!\r\n",
      "\r\n",
      "\u001b[33m============================= \u001b[33m\u001b[1m3 warnings\u001b[0m\u001b[33m in 0.02s\u001b[0m\u001b[33m ==============================\u001b[0m\r\n"
     ]
    }
   ],
   "source": [
    "\"\"\"如果不想执行标记 weibo 的用例，取反即可\"\"\"\n",
    "!pytest -s -m \"no weibo\" mark/mark.py"
   ]
  },
  {
   "cell_type": "code",
   "execution_count": 104,
   "metadata": {},
   "outputs": [
    {
     "name": "stdout",
     "output_type": "stream",
     "text": [
      "\u001b[1m============================= test session starts ==============================\u001b[0m\n",
      "platform linux -- Python 3.6.9, pytest-5.4.1, py-1.8.1, pluggy-0.13.1\n",
      "rootdir: /home/ubuntu/MySpace/Python/pytest/mark, inifile: pytest.ini\n",
      "collected 5 items / 2 deselected / 3 selected                                  \u001b[0m\n",
      "\n",
      "mark/mark.py 测试头条\n",
      "\u001b[32m.\u001b[0m测试微博\n",
      "\u001b[32m.\u001b[0m再次测试头条\n",
      "\u001b[32m.\u001b[0m\n",
      "\n",
      "\u001b[33m=============================== warnings summary ===============================\u001b[0m\n",
      "mark/mark.py:4\n",
      "  /home/ubuntu/MySpace/Python/pytest/mark/mark.py:4: PytestUnknownMarkWarning: Unknown pytest.mark.toutiao - is this a typo?  base.You can register custom marks to avoid this warning - for details, see https://docs.pytest.org/en/latest/mark.html\n",
      "    @pytest.mark.toutiao\n",
      "\n",
      "mark/mark.py:12\n",
      "  /home/ubuntu/MySpace/Python/pytest/mark/mark.py:12: PytestUnknownMarkWarning: Unknown pytest.mark.toutiao - is this a typo?  base.You can register custom marks to avoid this warning - for details, see https://docs.pytest.org/en/latest/mark.html\n",
      "    @pytest.mark.toutiao\n",
      "\n",
      "mark/mark.py:16\n",
      "  /home/ubuntu/MySpace/Python/pytest/mark/mark.py:16: PytestUnknownMarkWarning: Unknown pytest.mark.xinlang - is this a typo?  base.You can register custom marks to avoid this warning - for details, see https://docs.pytest.org/en/latest/mark.html\n",
      "    @pytest.mark.xinlang\n",
      "\n",
      "-- Docs: https://docs.pytest.org/en/latest/warnings.html\n",
      "\u001b[33m================= \u001b[32m3 passed\u001b[0m, \u001b[33m\u001b[1m2 deselected\u001b[0m, \u001b[33m\u001b[1m3 warnings\u001b[0m\u001b[33m in 0.02s\u001b[0m\u001b[33m ==================\u001b[0m\n"
     ]
    }
   ],
   "source": [
    "\"\"\"执行多个自定义标记的用例\"\"\"\n",
    "!pytest -s -m \"toutiao or weibo\" mark/mark.py"
   ]
  },
  {
   "cell_type": "markdown",
   "metadata": {},
   "source": [
    "## 参数化@pytest.mark.parametrize\n",
    "\n",
    "+ pytest允许在多个级别启用测试参数化：\n",
    "    - pytest.fixture() 允许fixture有参数化功能（后面讲解）\n",
    "    - @pytest.mark.parametrize 允许在测试函数或类中定义多组参数和fixtures\n",
    "    - pytest_generate_tests 允许定义自定义参数化方案或扩展（拓展）\n",
    "    \n",
    "\n",
    "+ **那么什么情况下可以使用参数化呢？**\n",
    "——只有测试数据和期望结果不一样，但操作步骤是一样的测试用例可以用上参数化，例如下面的例子\n",
    "\n",
    "```python\n",
    "def add_sample(a, b):\n",
    "    return a + b\n",
    "\n",
    "def test_1():\n",
    "    assert 3 + 5 == 9\n",
    "\n",
    "\n",
    "def test_2():\n",
    "    assert 2 + 4 == 6\n",
    "\n",
    "\n",
    "def test_3():\n",
    "    assert 6 * 9 == 42\n",
    "```\n",
    "\n",
    "**实际应用场景**：实际Web UI自动化中的开发场景，比如是一个登录框\n",
    "+ 你肯定需要测试账号空、密码空、账号密码都为空、账号不存在、密码错误、账号密码正确等情况\n",
    "+ 这些用例的区别就在于输入的测试数据和对应的交互结果\n",
    "+ 所以我们可以只写一条登录测试用例，然后把多组测试数据和期望结果参数化，节省很多代码量"
   ]
  },
  {
   "cell_type": "code",
   "execution_count": 106,
   "metadata": {},
   "outputs": [
    {
     "name": "stdout",
     "output_type": "stream",
     "text": [
      "\u001b[1m============================= test session starts ==============================\u001b[0m\n",
      "platform linux -- Python 3.6.9, pytest-5.4.1, py-1.8.1, pluggy-0.13.1\n",
      "rootdir: /home/ubuntu/MySpace/Python/pytest/mark, inifile: pytest.ini\n",
      "collected 3 items                                                              \u001b[0m\n",
      "\n",
      "mark/mark_parametrize.py \u001b[32m.\u001b[0m\u001b[32m.\u001b[0m\u001b[31mF\u001b[0m\u001b[31m                                             [100%]\u001b[0m\n",
      "\n",
      "=================================== FAILURES ===================================\n",
      "\u001b[31m\u001b[1m______________________________ test_eval[6*9-42] _______________________________\u001b[0m\n",
      "\n",
      "test_input = '6*9', excepted = 42\n",
      "\n",
      "    \u001b[37m@pytest\u001b[39;49;00m.mark.parametrize(\u001b[33m\"\u001b[39;49;00m\u001b[33mtest_input, excepted\u001b[39;49;00m\u001b[33m\"\u001b[39;49;00m, [(\u001b[33m\"\u001b[39;49;00m\u001b[33m3+5\u001b[39;49;00m\u001b[33m\"\u001b[39;49;00m, \u001b[94m8\u001b[39;49;00m), (\u001b[33m\"\u001b[39;49;00m\u001b[33m2+4\u001b[39;49;00m\u001b[33m\"\u001b[39;49;00m, \u001b[94m6\u001b[39;49;00m), (\u001b[33m\"\u001b[39;49;00m\u001b[33m6*9\u001b[39;49;00m\u001b[33m\"\u001b[39;49;00m, \u001b[94m42\u001b[39;49;00m)])\n",
      "    \u001b[94mdef\u001b[39;49;00m \u001b[92mtest_eval\u001b[39;49;00m(test_input, excepted):\n",
      "        \u001b[96mprint\u001b[39;49;00m(\u001b[33mf\u001b[39;49;00m\u001b[33m\"\u001b[39;49;00m\u001b[33m测试数据\u001b[39;49;00m\u001b[33m{\u001b[39;49;00mtest_input\u001b[33m}\u001b[39;49;00m\u001b[33m, 期望结果\u001b[39;49;00m\u001b[33m{\u001b[39;49;00mexcepted\u001b[33m}\u001b[39;49;00m\u001b[33m\"\u001b[39;49;00m)\n",
      ">       \u001b[94massert\u001b[39;49;00m \u001b[96meval\u001b[39;49;00m(test_input) == excepted\n",
      "\u001b[1m\u001b[31mE       AssertionError: assert 54 == 42\u001b[0m\n",
      "\u001b[1m\u001b[31mE        +  where 54 = eval('6*9')\u001b[0m\n",
      "\n",
      "\u001b[1m\u001b[31mmark/mark_parametrize.py\u001b[0m:6: AssertionError\n",
      "----------------------------- Captured stdout call -----------------------------\n",
      "测试数据6*9, 期望结果42\n",
      "=========================== short test summary info ============================\n",
      "FAILED mark/mark_parametrize.py::test_eval[6*9-42] - AssertionError: assert 5...\n",
      "\u001b[31m========================= \u001b[31m\u001b[1m1 failed\u001b[0m, \u001b[32m2 passed\u001b[0m\u001b[31m in 0.11s\u001b[0m\u001b[31m ==========================\u001b[0m\n"
     ]
    }
   ],
   "source": [
    "\"\"\"将上面重复的代码参数化\"\"\"\n",
    "import pytest\n",
    "\n",
    "@pytest.mark.parametrize(\"test_input, excepted\", [(\"3+5\", 8), (\"2+4\", 6), (\"6*9\", 42)])\n",
    "def test_eval(test_input, excepted):\n",
    "    print(f\"测试数据{test_input}, 期望结果{excepted}\")\n",
    "    assert eval(test_input) == excepted\n",
    "    \n",
    "    \n",
    "!pytest mark/mark_parametrize.py"
   ]
  },
  {
   "cell_type": "markdown",
   "metadata": {},
   "source": [
    "### 源码解读 \n",
    "\n",
    "```python\n",
    "def parametrize(self,argnames, argvalues, indirect=False, ids=None, scope=None): \n",
    "    pass\n",
    "```\n",
    "\n",
    "+ argnames\n",
    "    - 源码解析：a comma-separated string denoting one or more argument names, or a list/tuple of argument strings.\n",
    "    - 含义：参数名字\n",
    "    - 格式：字符串\"arg1,arg2,arg3\"【需要用逗号分隔】\n",
    "    - 备注：源码中写了可以是参数字符串的list或者tuple\n",
    "```python\n",
    "@pytest.mark.parametrize([\"name\", \"pwd\"], [(\"yy1\", \"123\"), (\"yy2\", \"123\")])  # 错的\n",
    "@pytest.mark.parametrize((\"name\", \"pwd\"), [(\"yy1\", \"123\"), (\"yy2\", \"123\")])  # 错的\n",
    "@pytest.mark.parametrize(\"name,pwd\", [(\"yy1\", \"123\"), (\"yy2\", \"123\")])\n",
    "```\n",
    "\n",
    "+ argvalues\n",
    "    - 源码解析：\n",
    "        + The list of argvalues determines how often a test is invoked with different argument values.\n",
    "        + If only one argname was specified argvalues is a list of values.【只有一个参数，则是值列表】\n",
    "        + If N argnames were specified, argvalues must be a list of N-tuples, where each tuple-element specifies a value for its respective argname.【如果有多个参数，则用元组来存每一组值】\n",
    "    - 含义：参数值列表\n",
    "    - 格式：必须是列表，如：[ val1,val2,val3 ]\n",
    "        - 如果只有一个参数，里面则是值的列表如：@pytest.mark.parametrize(\"username\", [\"yy\", \"yy2\", \"yy3\"])\n",
    "        - 如果有多个参数例，则需要用元组来存放值，一个元组对应一组参数的值，如：@pytest.mark.parametrize(\"name,pwd\", [(\"yy1\", \"123\"), (\"yy2\", \"123\"), (\"yy3\", \"123\")])\n",
    "    - 备注：虽然源码说需要list包含tuple，但我试了下，tuple包含list，list包含list也是可以的........ \n",
    "    \n",
    "    \n",
    "+ ids\n",
    "    - 含义：用例的ID\n",
    "    - 格式：传一个字符串列表\n",
    "    - 作用：可以标识每一个测试用例，自定义测试数据结果的显示，为了增加可读性\n",
    "    - 强调：ids的长度需要与测试数据列表的长度一致\n",
    "+ indirect\n",
    "    - 作用：如果设置成True，则把传进来的参数当函数执行，而不是一个参数（下一篇博文即讲解）"
   ]
  },
  {
   "cell_type": "markdown",
   "metadata": {},
   "source": [
    "### 装饰测试类\n",
    "\n",
    "当装饰器 @pytest.mark.parametrize 装饰测试类时，会将数据集合传递给类的所有测试用例方法"
   ]
  },
  {
   "cell_type": "code",
   "execution_count": 131,
   "metadata": {},
   "outputs": [
    {
     "name": "stdout",
     "output_type": "stream",
     "text": [
      "\u001b[1m============================= test session starts ==============================\u001b[0m\n",
      "platform linux -- Python 3.6.9, pytest-5.4.1, py-1.8.1, pluggy-0.13.1 -- /usr/bin/python3\n",
      "cachedir: .pytest_cache\n",
      "rootdir: /home/ubuntu/MySpace/Python/pytest/mark, inifile: pytest.ini\n",
      "collected 0 items / 1 error                                                    \u001b[0m\n",
      "\n",
      "==================================== ERRORS ====================================\n",
      "\u001b[31m\u001b[1m__________________ ERROR collecting mark_class_parametrize.py __________________\u001b[0m\n",
      "\u001b[1m\u001b[31m../../../.local/lib/python3.6/site-packages/pluggy/hooks.py\u001b[0m:286: in __call__\n",
      "    \u001b[94mreturn\u001b[39;49;00m \u001b[96mself\u001b[39;49;00m._hookexec(\u001b[96mself\u001b[39;49;00m, \u001b[96mself\u001b[39;49;00m.get_hookimpls(), kwargs)\n",
      "\u001b[1m\u001b[31m../../../.local/lib/python3.6/site-packages/pluggy/manager.py\u001b[0m:93: in _hookexec\n",
      "    \u001b[94mreturn\u001b[39;49;00m \u001b[96mself\u001b[39;49;00m._inner_hookexec(hook, methods, kwargs)\n",
      "\u001b[1m\u001b[31m../../../.local/lib/python3.6/site-packages/pluggy/manager.py\u001b[0m:87: in <lambda>\n",
      "    firstresult=hook.spec.opts.get(\u001b[33m\"\u001b[39;49;00m\u001b[33mfirstresult\u001b[39;49;00m\u001b[33m\"\u001b[39;49;00m) \u001b[94mif\u001b[39;49;00m hook.spec \u001b[94melse\u001b[39;49;00m \u001b[94mFalse\u001b[39;49;00m,\n",
      "\u001b[1m\u001b[31m../../../.local/lib/python3.6/site-packages/_pytest/python.py\u001b[0m:248: in pytest_pycollect_makeitem\n",
      "    res = \u001b[96mlist\u001b[39;49;00m(collector._genfunctions(name, obj))\n",
      "\u001b[1m\u001b[31m../../../.local/lib/python3.6/site-packages/_pytest/python.py\u001b[0m:415: in _genfunctions\n",
      "    \u001b[96mself\u001b[39;49;00m.ihook.pytest_generate_tests.call_extra(methods, \u001b[96mdict\u001b[39;49;00m(metafunc=metafunc))\n",
      "\u001b[1m\u001b[31m../../../.local/lib/python3.6/site-packages/pluggy/hooks.py\u001b[0m:324: in call_extra\n",
      "    \u001b[94mreturn\u001b[39;49;00m \u001b[96mself\u001b[39;49;00m(**kwargs)\n",
      "\u001b[1m\u001b[31m../../../.local/lib/python3.6/site-packages/pluggy/hooks.py\u001b[0m:286: in __call__\n",
      "    \u001b[94mreturn\u001b[39;49;00m \u001b[96mself\u001b[39;49;00m._hookexec(\u001b[96mself\u001b[39;49;00m, \u001b[96mself\u001b[39;49;00m.get_hookimpls(), kwargs)\n",
      "\u001b[1m\u001b[31m../../../.local/lib/python3.6/site-packages/pluggy/manager.py\u001b[0m:93: in _hookexec\n",
      "    \u001b[94mreturn\u001b[39;49;00m \u001b[96mself\u001b[39;49;00m._inner_hookexec(hook, methods, kwargs)\n",
      "\u001b[1m\u001b[31m../../../.local/lib/python3.6/site-packages/pluggy/manager.py\u001b[0m:87: in <lambda>\n",
      "    firstresult=hook.spec.opts.get(\u001b[33m\"\u001b[39;49;00m\u001b[33mfirstresult\u001b[39;49;00m\u001b[33m\"\u001b[39;49;00m) \u001b[94mif\u001b[39;49;00m hook.spec \u001b[94melse\u001b[39;49;00m \u001b[94mFalse\u001b[39;49;00m,\n",
      "\u001b[1m\u001b[31m../../../.local/lib/python3.6/site-packages/_pytest/python.py\u001b[0m:139: in pytest_generate_tests\n",
      "    metafunc.parametrize(*marker.args, **marker.kwargs, _param_mark=marker)  \u001b[90m# type: ignore[misc] # noqa: F821\u001b[39;49;00m\n",
      "\u001b[1m\u001b[31m../../../.local/lib/python3.6/site-packages/_pytest/python.py\u001b[0m:922: in parametrize\n",
      "    function_definition=\u001b[96mself\u001b[39;49;00m.definition,\n",
      "\u001b[1m\u001b[31m../../../.local/lib/python3.6/site-packages/_pytest/mark/structures.py\u001b[0m:114: in _for_parametrize\n",
      "    \u001b[94mif\u001b[39;49;00m \u001b[96mlen\u001b[39;49;00m(param.values) != \u001b[96mlen\u001b[39;49;00m(argnames):\n",
      "\u001b[1m\u001b[31mE   TypeError: object of type 'int' has no len()\u001b[0m\n",
      "=========================== short test summary info ============================\n",
      "ERROR mark/mark_class_parametrize.py::TestParametrize - TypeError: object of ...\n",
      "!!!!!!!!!!!!!!!!!!!! Interrupted: 1 error during collection !!!!!!!!!!!!!!!!!!!!\n",
      "\u001b[31m=============================== \u001b[31m\u001b[1m1 error\u001b[0m\u001b[31m in 0.37s\u001b[0m\u001b[31m ===============================\u001b[0m\n"
     ]
    }
   ],
   "source": [
    "import pytest\n",
    "\n",
    "data_1 = [1, 2, 3]\n",
    "\n",
    "@pytest.mark.parametrize('a, b, expect', data_1)\n",
    "class TestParametrize:\n",
    "    def test_parametrize_1(self, a, b, expect):\n",
    "        print('\\n测试函数11111 测试数据为\\n{}-{}'.format(a, b))\n",
    "        assert a + b == expect\n",
    "\n",
    "    def test_parametrize_2(self, a, b, expect):\n",
    "        print('\\n测试函数22222 测试数据为\\n{}-{}'.format(a, b))\n",
    "        assert a + b == expect\n",
    "        \n",
    "        \n",
    "!pytest -v mark/mark_class_parametrize.py"
   ]
  },
  {
   "cell_type": "markdown",
   "metadata": {},
   "source": [
    "### \"笛卡尔积\"-多个参数化装饰器\n",
    "\n",
    "+ **重点知识**\n",
    "    - 一个函数或一个类可以装饰多个 @pytest.mark.parametrize \n",
    "    - 这种方式，最终生成的用例数是n×m，比如上面的代码就是：参数a的数据有3个，参数b的数据有2个，所以最终的用例数有3*2=6条\n",
    "    - 当参数化装饰器有很多个的时候，用例数都等于n×n×n×n×...."
   ]
  },
  {
   "cell_type": "code",
   "execution_count": 132,
   "metadata": {},
   "outputs": [
    {
     "name": "stdout",
     "output_type": "stream",
     "text": [
      "\u001b[1m============================= test session starts ==============================\u001b[0m\r\n",
      "platform linux -- Python 3.6.9, pytest-5.4.1, py-1.8.1, pluggy-0.13.1 -- /usr/bin/python3\r\n",
      "cachedir: .pytest_cache\r\n",
      "rootdir: /home/ubuntu/MySpace/Python/pytest/mark, inifile: pytest.ini\r\n",
      "\u001b[1mcollecting ... \u001b[0m\u001b[1m\r",
      "collected 6 items                                                              \u001b[0m\r\n",
      "\r\n",
      "mark/mark_many_parametrize.py::test_parametrize_1[a-1] \u001b[32mPASSED\u001b[0m\u001b[32m            [ 16%]\u001b[0m\r\n",
      "mark/mark_many_parametrize.py::test_parametrize_1[a-2] \u001b[32mPASSED\u001b[0m\u001b[32m            [ 33%]\u001b[0m\r\n",
      "mark/mark_many_parametrize.py::test_parametrize_1[a-3] \u001b[32mPASSED\u001b[0m\u001b[32m            [ 50%]\u001b[0m\r\n",
      "mark/mark_many_parametrize.py::test_parametrize_1[b-1] \u001b[32mPASSED\u001b[0m\u001b[32m            [ 66%]\u001b[0m\r\n",
      "mark/mark_many_parametrize.py::test_parametrize_1[b-2] \u001b[32mPASSED\u001b[0m\u001b[32m            [ 83%]\u001b[0m\r\n",
      "mark/mark_many_parametrize.py::test_parametrize_1[b-3] \u001b[32mPASSED\u001b[0m\u001b[32m            [100%]\u001b[0m\r\n",
      "\r\n",
      "\u001b[32m============================== \u001b[32m\u001b[1m6 passed\u001b[0m\u001b[32m in 0.03s\u001b[0m\u001b[32m ===============================\u001b[0m\r\n"
     ]
    }
   ],
   "source": [
    "\"\"\"笛卡尔积，组合数据\"\"\"\n",
    "import pytest\n",
    "\n",
    "data_1 = [1, 2, 3]\n",
    "data_2 = ['a', 'b']\n",
    "\n",
    "\n",
    "@pytest.mark.parametrize('a', data_1)\n",
    "@pytest.mark.parametrize('b', data_2)\n",
    "def test_parametrize_1(a, b):\n",
    "    print(f'笛卡尔积 测试数据为 ： {a}，{b}')\n",
    "    \n",
    "    \n",
    "!pytest -v mark/mark_many_parametrize.py"
   ]
  },
  {
   "cell_type": "markdown",
   "metadata": {},
   "source": [
    "### 参数化-传入字典数据"
   ]
  },
  {
   "cell_type": "code",
   "execution_count": 136,
   "metadata": {},
   "outputs": [
    {
     "name": "stdout",
     "output_type": "stream",
     "text": [
      "\u001b[1m============================= test session starts ==============================\u001b[0m\n",
      "platform linux -- Python 3.6.9, pytest-5.4.1, py-1.8.1, pluggy-0.13.1\n",
      "rootdir: /home/ubuntu/MySpace/Python/pytest/mark, inifile: pytest.ini\n",
      "collected 2 items                                                              \u001b[0m\n",
      "\n",
      "mark/mark_dict_parametrize.py 测试数据为\n",
      "{'user': 1, 'pwd': 2}\n",
      "user:1,pwd2\n",
      "\u001b[32m.\u001b[0m测试数据为\n",
      "{'user': 3, 'pwd': 4}\n",
      "user:3,pwd4\n",
      "\u001b[32m.\u001b[0m\n",
      "\n",
      "\u001b[32m============================== \u001b[32m\u001b[1m2 passed\u001b[0m\u001b[32m in 0.01s\u001b[0m\u001b[32m ===============================\u001b[0m\n"
     ]
    }
   ],
   "source": [
    "\"\"\"字典\"\"\"\n",
    "import pytest\n",
    "\n",
    "data_1 = (\n",
    "    {\n",
    "        'user': 1,\n",
    "        'pwd': 2\n",
    "    },\n",
    "    {\n",
    "        'user': 3,\n",
    "        'pwd': 4\n",
    "    }\n",
    ")\n",
    "\n",
    "\n",
    "@pytest.mark.parametrize('dic', data_1)\n",
    "def test_parametrize_1(dic):\n",
    "    print(f'测试数据为\\n{dic}')\n",
    "    print(f'user:{dic[\"user\"]},pwd{dic[\"pwd\"]}')\n",
    "    \n",
    "    \n",
    "!pytest -s mark/mark_dict_parametrize.py"
   ]
  },
  {
   "cell_type": "markdown",
   "metadata": {},
   "source": [
    "### 参数化-标记数据"
   ]
  },
  {
   "cell_type": "code",
   "execution_count": 194,
   "metadata": {},
   "outputs": [
    {
     "name": "stdout",
     "output_type": "stream",
     "text": [
      "\u001b[1m============================= test session starts ==============================\u001b[0m\n",
      "platform linux -- Python 3.6.9, pytest-5.4.1, py-1.8.1, pluggy-0.13.1 -- /usr/bin/python3\n",
      "cachedir: .pytest_cache\n",
      "rootdir: /home/ubuntu/MySpace/Python/pytest/mark, inifile: pytest.ini\n",
      "plugins: rerunfailures-9.0, repeat-0.8.0\n",
      "collected 4 items                                                              \u001b[0m\n",
      "\n",
      "mark/mark_mark_data.py::test_mark[3+5-8] \u001b[32mPASSED\u001b[0m\u001b[32m                          [ 25%]\u001b[0m\n",
      "mark/mark_mark_data.py::test_mark[2+4-6] \u001b[32mPASSED\u001b[0m\u001b[32m                          [ 50%]\u001b[0m\n",
      "mark/mark_mark_data.py::test_mark[6 * 9-42] \u001b[33mXFAIL\u001b[0m\u001b[32m                        [ 75%]\u001b[0m\n",
      "mark/mark_mark_data.py::test_mark[6*6-42] \u001b[33mSKIPPED\u001b[0m\u001b[32m                        [100%]\u001b[0m\n",
      "\n",
      "\u001b[32m=================== \u001b[32m\u001b[1m2 passed\u001b[0m, \u001b[33m1 skipped\u001b[0m, \u001b[33m1 xfailed\u001b[0m\u001b[32m in 0.04s\u001b[0m\u001b[32m ====================\u001b[0m\n"
     ]
    }
   ],
   "source": [
    "\"\"\"标记参数化\"\"\"\n",
    "import pytest\n",
    "\n",
    "@pytest.mark.parametrize(\"test_input,expected\", [\n",
    "    (\"3+5\", 8),\n",
    "    (\"2+4\", 6),\n",
    "    pytest.param(\"6 * 9\", 42, marks=pytest.mark.xfail),\n",
    "    pytest.param(\"6*6\", 42, marks=pytest.mark.skip)\n",
    "])\n",
    "\n",
    "def test_mark(test_input, expected):\n",
    "    assert eval(test_input) == expected\n",
    "    \n",
    "    \n",
    "!pytest -v mark/mark_mark_data.py"
   ]
  },
  {
   "cell_type": "code",
   "execution_count": null,
   "metadata": {},
   "outputs": [],
   "source": [
    "\"\"\"增加可读性\"\"\"\n",
    "import pytest\n",
    "\n",
    "data_1 = [\n",
    "    (1, 2, 3),\n",
    "    (4, 5, 9)\n",
    "]\n",
    "\n",
    "ids = [\"a:{} + b:{} = expect:{}\".format(a, b, expect) for a, b, expect in data_1]\n",
    "\n",
    "@pytest.mark.parametrize('a, b, expect', data_1, ids=ids)\n",
    "class TestParametrize(object):\n",
    "\n",
    "    def test_parametrize_1(self, a, b, expect):\n",
    "        print('测试函数1测试数据为{}-{}'.format(a, b))\n",
    "        assert a + b == expect\n",
    "\n",
    "    def test_parametrize_2(self, a, b, expect):\n",
    "        print('测试函数2数据为{}-{}'.format(a, b))\n",
    "        assert a + b == expect\n",
    "        \n",
    "\n",
    "!pytest -v mark/mark_read.py"
   ]
  },
  {
   "cell_type": "markdown",
   "metadata": {},
   "source": [
    "### 参数化-增加可读性\n",
    "\n",
    "多少组数据，就要有多少个id，然后组成一个id的列表\n",
    "\n",
    "作用：主要是为了更加清晰看到用例的含义"
   ]
  },
  {
   "cell_type": "markdown",
   "metadata": {},
   "source": [
    "# pytest.ini\n",
    "\n",
    "pytest配置文件可以改变pytest的运行方式，它是一个固定的文件pytest.ini文件，读取配置信息，按指定的方式去运行"
   ]
  },
  {
   "cell_type": "markdown",
   "metadata": {},
   "source": [
    "## 非test文件"
   ]
  },
  {
   "cell_type": "markdown",
   "metadata": {},
   "source": [
    "pytest里面有些文件是非test文件\n",
    "\n",
    "+ pytest.ini：pytest的主配置文件，可以改变pytest的默认行为\n",
    "+ conftest.py：测试用例的一些fixture配置\n",
    "+ _init_.py：识别该文件夹为python的package包\n"
   ]
  },
  {
   "cell_type": "code",
   "execution_count": 196,
   "metadata": {},
   "outputs": [
    {
     "name": "stdout",
     "output_type": "stream",
     "text": [
      "usage: pytest [options] [file_or_dir] [file_or_dir] [...]\r\n",
      "\r\n",
      "positional arguments:\r\n",
      "  file_or_dir\r\n",
      "\r\n",
      "general:\r\n",
      "  -k EXPRESSION         only run tests which match the given substring\r\n",
      "                        expression. An expression is a python evaluatable\r\n",
      "                        expression where all names are substring-matched against\r\n",
      "                        test names and their parent classes. Example: -k\r\n",
      "                        'test_method or test_other' matches all test functions\r\n",
      "                        and classes whose name contains 'test_method' or\r\n",
      "                        'test_other', while -k 'not test_method' matches those\r\n",
      "                        that don't contain 'test_method' in their names. -k 'not\r\n",
      "                        test_method and not test_other' will eliminate the\r\n",
      "                        matches. Additionally keywords are matched to classes\r\n",
      "                        and functions containing extra names in their\r\n",
      "                        'extra_keyword_matches' set, as well as functions which\r\n",
      "                        have names assigned directly to them. The matching is\r\n",
      "                        case-insensitive.\r\n",
      "  -m MARKEXPR           only run tests matching given mark expression. example:\r\n",
      "                        -m 'mark1 and not mark2'.\r\n",
      "  --markers             show markers (builtin, plugin and per-project ones).\r\n",
      "  -x, --exitfirst       exit instantly on first error or failed test.\r\n",
      "  --maxfail=num         exit after first num failures or errors.\r\n",
      "  --strict-markers, --strict\r\n",
      "                        markers not registered in the `markers` section of the\r\n",
      "                        configuration file raise errors.\r\n",
      "  -c file               load configuration from `file` instead of trying to\r\n",
      "                        locate one of the implicit configuration files.\r\n",
      "  --continue-on-collection-errors\r\n",
      "                        Force test execution even if collection errors occur.\r\n",
      "  --rootdir=ROOTDIR     Define root directory for tests. Can be relative path:\r\n",
      "                        'root_dir', './root_dir', 'root_dir/another_dir/';\r\n",
      "                        absolute path: '/home/user/root_dir'; path with\r\n",
      "                        variables: '$HOME/root_dir'.\r\n",
      "  --fixtures, --funcargs\r\n",
      "                        show available fixtures, sorted by plugin appearance\r\n",
      "                        (fixtures with leading '_' are only shown with '-v')\r\n",
      "  --fixtures-per-test   show fixtures per test\r\n",
      "  --import-mode={prepend,append}\r\n",
      "                        prepend/append to sys.path when importing test modules,\r\n",
      "                        default is to prepend.\r\n",
      "  --pdb                 start the interactive Python debugger on errors or\r\n",
      "                        KeyboardInterrupt.\r\n",
      "  --pdbcls=modulename:classname\r\n",
      "                        start a custom interactive Python debugger on errors.\r\n",
      "                        For example:\r\n",
      "                        --pdbcls=IPython.terminal.debugger:TerminalPdb\r\n",
      "  --trace               Immediately break when running each test.\r\n",
      "  --capture=method      per-test capturing method: one of fd|sys|no|tee-sys.\r\n",
      "  -s                    shortcut for --capture=no.\r\n",
      "  --runxfail            report the results of xfail tests as if they were not\r\n",
      "                        marked\r\n",
      "  --lf, --last-failed   rerun only the tests that failed at the last run (or all\r\n",
      "                        if none failed)\r\n",
      "  --ff, --failed-first  run all tests but run the last failures first. This may\r\n",
      "                        re-order tests and thus lead to repeated fixture\r\n",
      "                        setup/teardown\r\n",
      "  --nf, --new-first     run tests from new files first, then the rest of the\r\n",
      "                        tests sorted by file mtime\r\n",
      "  --cache-show=[CACHESHOW]\r\n",
      "                        show cache contents, don't perform collection or tests.\r\n",
      "                        Optional argument: glob (default: '*').\r\n",
      "  --cache-clear         remove all cache contents at start of test run.\r\n",
      "  --lfnf={all,none}, --last-failed-no-failures={all,none}\r\n",
      "                        which tests to run with no previously (known) failures.\r\n",
      "  --sw, --stepwise      exit on test failure and continue from last failing test\r\n",
      "                        next time\r\n",
      "  --stepwise-skip       ignore the first failing test but stop on the next\r\n",
      "                        failing test\r\n",
      "\r\n",
      "reporting:\r\n",
      "  --durations=N         show N slowest setup/test durations (N=0 for all).\r\n",
      "  -v, --verbose         increase verbosity.\r\n",
      "  -q, --quiet           decrease verbosity.\r\n",
      "  --verbosity=VERBOSE   set verbosity. Default is 0.\r\n",
      "  -r chars              show extra test summary info as specified by chars:\r\n",
      "                        (f)ailed, (E)rror, (s)kipped, (x)failed, (X)passed,\r\n",
      "                        (p)assed, (P)assed with output, (a)ll except passed\r\n",
      "                        (p/P), or (A)ll. (w)arnings are enabled by default (see\r\n",
      "                        --disable-warnings), 'N' can be used to reset the list.\r\n",
      "                        (default: 'fE').\r\n",
      "  --disable-warnings, --disable-pytest-warnings\r\n",
      "                        disable warnings summary\r\n",
      "  -l, --showlocals      show locals in tracebacks (disabled by default).\r\n",
      "  --tb=style            traceback print mode (auto/long/short/line/native/no).\r\n",
      "  --show-capture={no,stdout,stderr,log,all}\r\n",
      "                        Controls how captured stdout/stderr/log is shown on\r\n",
      "                        failed tests. Default is 'all'.\r\n",
      "  --full-trace          don't cut any tracebacks (default is to cut).\r\n",
      "  --color=color         color terminal output (yes/no/auto).\r\n",
      "  --pastebin=mode       send failed|all info to bpaste.net pastebin service.\r\n",
      "  --junit-xml=path      create junit-xml style report file at given path.\r\n",
      "  --junit-prefix=str    prepend prefix to classnames in junit-xml output\r\n",
      "  --result-log=path     DEPRECATED path for machine-readable result log.\r\n",
      "\r\n",
      "collection:\r\n",
      "  --collect-only, --co  only collect tests, don't execute them.\r\n",
      "  --pyargs              try to interpret all arguments as python packages.\r\n",
      "  --ignore=path         ignore path during collection (multi-allowed).\r\n",
      "  --ignore-glob=path    ignore path pattern during collection (multi-allowed).\r\n",
      "  --deselect=nodeid_prefix\r\n",
      "                        deselect item (via node id prefix) during collection\r\n",
      "                        (multi-allowed).\r\n",
      "  --confcutdir=dir      only load conftest.py's relative to specified dir.\r\n",
      "  --noconftest          Don't load any conftest.py files.\r\n",
      "  --keep-duplicates     Keep duplicate tests.\r\n",
      "  --collect-in-virtualenv\r\n",
      "                        Don't ignore tests in a local virtualenv directory\r\n",
      "  --doctest-modules     run doctests in all .py modules\r\n",
      "  --doctest-report={none,cdiff,ndiff,udiff,only_first_failure}\r\n",
      "                        choose another output format for diffs on doctest\r\n",
      "                        failure\r\n",
      "  --doctest-glob=pat    doctests file matching pattern, default: test*.txt\r\n",
      "  --doctest-ignore-import-errors\r\n",
      "                        ignore doctest ImportErrors\r\n",
      "  --doctest-continue-on-failure\r\n",
      "                        for a given doctest, continue to run after the first\r\n",
      "                        failure\r\n",
      "\r\n",
      "test session debugging and configuration:\r\n",
      "  --basetemp=dir        base temporary directory for this test run.(warning:\r\n",
      "                        this directory is removed if it exists)\r\n",
      "  -V, --version         display pytest version and information about plugins.\r\n",
      "  -h, --help            show help message and configuration info\r\n",
      "  -p name               early-load given plugin module name or entry point\r\n",
      "                        (multi-allowed). To avoid loading of plugins, use the\r\n",
      "                        `no:` prefix, e.g. `no:doctest`.\r\n",
      "  --trace-config        trace considerations of conftest.py files.\r\n",
      "  --debug               store internal tracing debug information in\r\n",
      "                        'pytestdebug.log'.\r\n",
      "  -o OVERRIDE_INI, --override-ini=OVERRIDE_INI\r\n",
      "                        override ini option with \"option=value\" style, e.g. `-o\r\n",
      "                        xfail_strict=True -o cache_dir=cache`.\r\n",
      "  --assert=MODE         Control assertion debugging tools. 'plain' performs no\r\n",
      "                        assertion debugging. 'rewrite' (the default) rewrites\r\n",
      "                        assert statements in test modules on import to provide\r\n",
      "                        assert expression information.\r\n",
      "  --setup-only          only setup fixtures, do not execute tests.\r\n",
      "  --setup-show          show setup of fixtures while executing tests.\r\n",
      "  --setup-plan          show what fixtures and tests would be executed but don't\r\n",
      "                        execute anything.\r\n",
      "\r\n",
      "pytest-warnings:\r\n",
      "  -W PYTHONWARNINGS, --pythonwarnings=PYTHONWARNINGS\r\n",
      "                        set which warnings to report, see -W option of python\r\n",
      "                        itself.\r\n",
      "\r\n",
      "logging:\r\n",
      "  --no-print-logs       disable printing caught logs on failed tests.\r\n",
      "  --log-level=LEVEL     level of messages to catch/display. Not set by default,\r\n",
      "                        so it depends on the root/parent log handler's effective\r\n",
      "                        level, where it is \"WARNING\" by default.\r\n",
      "  --log-format=LOG_FORMAT\r\n",
      "                        log format as used by the logging module.\r\n",
      "  --log-date-format=LOG_DATE_FORMAT\r\n",
      "                        log date format as used by the logging module.\r\n",
      "  --log-cli-level=LOG_CLI_LEVEL\r\n",
      "                        cli logging level.\r\n",
      "  --log-cli-format=LOG_CLI_FORMAT\r\n",
      "                        log format as used by the logging module.\r\n",
      "  --log-cli-date-format=LOG_CLI_DATE_FORMAT\r\n",
      "                        log date format as used by the logging module.\r\n",
      "  --log-file=LOG_FILE   path to a file when logging will be written to.\r\n",
      "  --log-file-level=LOG_FILE_LEVEL\r\n",
      "                        log file logging level.\r\n",
      "  --log-file-format=LOG_FILE_FORMAT\r\n",
      "                        log format as used by the logging module.\r\n",
      "  --log-file-date-format=LOG_FILE_DATE_FORMAT\r\n",
      "                        log date format as used by the logging module.\r\n",
      "  --log-auto-indent=LOG_AUTO_INDENT\r\n",
      "                        Auto-indent multiline messages passed to the logging\r\n",
      "                        module. Accepts true|on, false|off or an integer.\r\n",
      "\r\n",
      "re-run failing tests to eliminate flaky failures:\r\n",
      "  --reruns=RERUNS       number of times to re-run failed tests. defaults to 0.\r\n",
      "  --reruns-delay=RERUNS_DELAY\r\n",
      "                        add time (seconds) delay between reruns.\r\n",
      "\r\n",
      "custom options:\r\n",
      "  --count=COUNT         Number of times to repeat each test\r\n",
      "  --repeat-scope={function,class,module,session}\r\n",
      "                        Scope for repeating tests\r\n",
      "\r\n",
      "[pytest] ini-options in the first pytest.ini|tox.ini|setup.cfg file found:\r\n",
      "\r\n",
      "  markers (linelist):   markers for test functions\r\n",
      "  empty_parameter_set_mark (string):\r\n",
      "                        default marker for empty parametersets\r\n",
      "  norecursedirs (args): directory patterns to avoid for recursion\r\n",
      "  testpaths (args):     directories to search for tests when no files or\r\n",
      "                        directories are given in the command line.\r\n",
      "  usefixtures (args):   list of default fixtures to be used with this project\r\n",
      "  python_files (args):  glob-style file patterns for Python test module\r\n",
      "                        discovery\r\n",
      "  python_classes (args):\r\n",
      "                        prefixes or glob names for Python test class discovery\r\n",
      "  python_functions (args):\r\n",
      "                        prefixes or glob names for Python test function and\r\n",
      "                        method discovery\r\n",
      "  disable_test_id_escaping_and_forfeit_all_rights_to_community_support (bool):\r\n",
      "                        disable string escape non-ascii characters, might cause\r\n",
      "                        unwanted side effects(use at your own risk)\r\n",
      "  console_output_style (string):\r\n",
      "                        console output: \"classic\", or with additional progress\r\n",
      "                        information (\"progress\" (percentage) | \"count\").\r\n",
      "  xfail_strict (bool):  default for the strict parameter of xfail markers when\r\n",
      "                        not given explicitly (default: False)\r\n",
      "  enable_assertion_pass_hook (bool):\r\n",
      "                        Enables the pytest_assertion_pass hook.Make sure to\r\n",
      "                        delete any previously generated pyc cache files.\r\n",
      "  junit_suite_name (string):\r\n",
      "                        Test suite name for JUnit report\r\n",
      "  junit_logging (string):\r\n",
      "                        Write captured log messages to JUnit report: one of\r\n",
      "                        no|log|system-out|system-err|out-err|all\r\n",
      "  junit_log_passing_tests (bool):\r\n",
      "                        Capture log information for passing tests to JUnit\r\n",
      "                        report:\r\n",
      "  junit_duration_report (string):\r\n",
      "                        Duration time to report: one of total|call\r\n",
      "  junit_family (string):\r\n",
      "                        Emit XML for schema: one of legacy|xunit1|xunit2\r\n",
      "  doctest_optionflags (args):\r\n",
      "                        option flags for doctests\r\n",
      "  doctest_encoding (string):\r\n",
      "                        encoding used for doctest files\r\n",
      "  cache_dir (string):   cache directory path.\r\n",
      "  filterwarnings (linelist):\r\n",
      "                        Each line specifies a pattern for\r\n",
      "                        warnings.filterwarnings. Processed after\r\n",
      "                        -W/--pythonwarnings.\r\n",
      "  log_print (bool):     default value for --no-print-logs\r\n",
      "  log_level (string):   default value for --log-level\r\n",
      "  log_format (string):  default value for --log-format\r\n",
      "  log_date_format (string):\r\n",
      "                        default value for --log-date-format\r\n",
      "  log_cli (bool):       enable log display during test run (also known as \"live\r\n",
      "                        logging\").\r\n",
      "  log_cli_level (string):\r\n",
      "                        default value for --log-cli-level\r\n",
      "  log_cli_format (string):\r\n",
      "                        default value for --log-cli-format\r\n",
      "  log_cli_date_format (string):\r\n",
      "                        default value for --log-cli-date-format\r\n",
      "  log_file (string):    default value for --log-file\r\n",
      "  log_file_level (string):\r\n",
      "                        default value for --log-file-level\r\n",
      "  log_file_format (string):\r\n",
      "                        default value for --log-file-format\r\n",
      "  log_file_date_format (string):\r\n",
      "                        default value for --log-file-date-format\r\n",
      "  log_auto_indent (string):\r\n",
      "                        default value for --log-auto-indent\r\n",
      "  faulthandler_timeout (string):\r\n",
      "                        Dump the traceback of all threads if a test takes more\r\n",
      "                        than TIMEOUT seconds to finish. Not available on\r\n",
      "                        Windows.\r\n",
      "  addopts (args):       extra command line options\r\n",
      "  minversion (string):  minimally required pytest version\r\n",
      "\r\n",
      "environment variables:\r\n",
      "  PYTEST_ADDOPTS           extra command line options\r\n",
      "  PYTEST_PLUGINS           comma-separated plugins to load during startup\r\n",
      "  PYTEST_DISABLE_PLUGIN_AUTOLOAD set to disable plugin auto-loading\r\n",
      "  PYTEST_DEBUG             set to enable debug tracing of pytest's internals\r\n",
      "\r\n",
      "\r\n",
      "to see available markers type: pytest --markers\r\n",
      "to see available fixtures type: pytest --fixtures\r\n",
      "(shown according to specified file_or_dir or current dir if not specified; fixtures with leading '_' are only shown with the '-v' option\r\n"
     ]
    }
   ],
   "source": [
    "\"\"\"查看pytest.ini的配置选项\"\"\"\n",
    "!pytest --help"
   ]
  },
  {
   "cell_type": "markdown",
   "metadata": {},
   "source": [
    "## pytest.ini常用配置"
   ]
  },
  {
   "cell_type": "markdown",
   "metadata": {
    "heading_collapsed": true
   },
   "source": [
    "### marks "
   ]
  },
  {
   "cell_type": "markdown",
   "metadata": {
    "hidden": true
   },
   "source": [
    "+ **作用**：测试用例中添加了 @pytest.mark.webtest 装饰器，如果不添加marks选项的话，就会报warnings\n",
    "+ **格式**：list列表类型\n",
    "+ **写法**：\n",
    "```ini\n",
    "[pytest]\n",
    "markers =\n",
    "    weibo: this is weibo page\n",
    "    toutiao: toutiao\n",
    "    xinlang: xinlang\n",
    "```"
   ]
  },
  {
   "cell_type": "markdown",
   "metadata": {},
   "source": [
    "### xfail_strict"
   ]
  },
  {
   "cell_type": "markdown",
   "metadata": {},
   "source": [
    "+ **作用**：设置xfail_strict = True可以让那些标记为@pytest.mark.xfail但实际通过显示XPASS的测试用例被报告为失败\n",
    "+ **格式**：True 、False（默认），1、0\n",
    "+ **写法**：\n",
    "\n",
    "```ini\n",
    "[pytest]\n",
    "\n",
    "# mark标记说明\n",
    "markers =\n",
    "    weibo: this is weibo page\n",
    "    toutiao: toutiao\n",
    "    xinlang: xinlang\n",
    "\n",
    "xfail_strict = True\n",
    "```"
   ]
  },
  {
   "cell_type": "markdown",
   "metadata": {},
   "source": [
    "### addopts"
   ]
  },
  {
   "cell_type": "markdown",
   "metadata": {},
   "source": [
    "+ **作用**：addopts参数可以更改默认命令行选项，这个当我们在cmd输入一堆指令去执行用例的时候，就可以用该参数代替了，省去重复性的敲命令工作\n",
    "+ **比如**：想测试完生成报告，失败重跑两次，一共运行两次，通过分布式去测试，如果在cmd中写的话，命令会很长`pytest -v --rerun=2 --count=2 --html=report.html --self-contained-html -n=auto`\n",
    "\n",
    "```ini\n",
    "[pytest]\n",
    "\n",
    "# mark\n",
    "markers =\n",
    "    weibo: this is weibo page\n",
    "    toutiao: toutiao\n",
    "    xinlang: xinlang\n",
    "\n",
    "xfail_strict = True\n",
    "\n",
    "# 命令行参数\n",
    "addopts = -v --reruns=1 --count=2 --html=reports.html --self-contained-html -n=auto\n",
    "```\n",
    "**加了addopts之后，我们在cmd中只需要敲pytest就可以生效了！！**"
   ]
  },
  {
   "cell_type": "markdown",
   "metadata": {},
   "source": [
    "### log_cli"
   ]
  },
  {
   "cell_type": "markdown",
   "metadata": {},
   "source": [
    "+ **作用**：控制台实时输出日志\n",
    "\n",
    "+ **格式**：log_cli=True 或False（默认），或者log_cli=1 或 0\n",
    "\n",
    "log_cli=0的运行结果\n",
    "log_cli=1的运行结果\n",
    "\n",
    "**很明显，加了log_cli=1之后，可以清晰看到哪个package下的哪个module下的哪个测试用例是否passed还是failed；**\n",
    "\n",
    "所以平时测试代码是否有问题的情况下推荐加！！！但如果拿去批量跑测试用例的话不建议加，谁知道会不会影响运行性能呢？\n"
   ]
  },
  {
   "cell_type": "markdown",
   "metadata": {},
   "source": [
    "### norecursedirs "
   ]
  },
  {
   "cell_type": "markdown",
   "metadata": {},
   "source": [
    "+ **作用**：pytest 收集测试用例时，会递归遍历所有子目录，包括某些你明知道没必要遍历的目录，遇到这种情况，可以使用 norecursedirs 参数简化 pytest 的搜索工作【还是挺有用的！！！】\n",
    "+ **默认设置**： norecursedirs = .* build dist CVS _darcs {arch} *.egg \n",
    "+ **正确写法**：多个路径用空格隔开\n",
    "\n",
    "```ini\n",
    "[pytest]\n",
    "\n",
    "norecursedirs = .* build dist CVS _darcs {arch} *.egg venv src resources log report util\n",
    "```"
   ]
  },
  {
   "cell_type": "markdown",
   "metadata": {},
   "source": [
    "## 更改测试用例收集规则"
   ]
  },
  {
   "cell_type": "markdown",
   "metadata": {},
   "source": [
    "pytest默认的测试用例收集规则\n",
    "\n",
    "+ 文件名以 test_*.py 文件和 *_test.py\n",
    "+ 以  test_ 开头的函数\n",
    "+ 以  Test 开头的类，不能包含 \\__init__ 方法\n",
    "+ 以  test_ 开头的类里面的方法\n",
    "\n",
    "我们是可以修改或者添加这个用例收集规则的；当然啦，是建议在原有的规则上添加的，如下配置\n",
    "\n",
    "```ini\n",
    "[pytest]\n",
    "\n",
    "python_files =     test_*  *_test  test*\n",
    "python_classes =   Test*   test*\n",
    "python_functions = test_*  test*\n",
    "```"
   ]
  },
  {
   "cell_type": "markdown",
   "metadata": {},
   "source": [
    "# pytest高频插件"
   ]
  },
  {
   "cell_type": "markdown",
   "metadata": {},
   "source": [
    "## 失败重跑pytest-rerunfailures"
   ]
  },
  {
   "cell_type": "markdown",
   "metadata": {},
   "source": [
    "### 环境配置\n",
    "\n",
    "**环境要求**：\n",
    "+ Python 3.5, 最高 3.8, or PyPy3\n",
    "+ pytest 5.0或更高版本\n",
    "\n",
    "**安装插件**"
   ]
  },
  {
   "cell_type": "code",
   "execution_count": 167,
   "metadata": {},
   "outputs": [
    {
     "name": "stdout",
     "output_type": "stream",
     "text": [
      "Collecting pytest-rerunfailures\n",
      "  Downloading http://pypi.doubanio.com/packages/25/91/a0d1ff828e6da1915e4972d76ea2b5f9a1b520f078b4197ef93eb8427b65/pytest_rerunfailures-9.0-py3-none-any.whl\n",
      "Collecting pytest>=5.0 (from pytest-rerunfailures)\n",
      "  Downloading http://pypi.doubanio.com/packages/c7/e2/c19c667f42f72716a7d03e8dd4d6f63f47d39feadd44cc1ee7ca3089862c/pytest-5.4.1-py3-none-any.whl (246kB)\n",
      "\u001b[K    100% |████████████████████████████████| 256kB 23.5MB/s ta 0:00:01\n",
      "\u001b[?25hCollecting setuptools>=40.0 (from pytest-rerunfailures)\n",
      "  Downloading http://pypi.doubanio.com/packages/a0/df/635cdb901ee4a8a42ec68e480c49f85f4c59e8816effbf57d9e6ee8b3588/setuptools-46.1.3-py3-none-any.whl (582kB)\n",
      "\u001b[K    100% |████████████████████████████████| 583kB 18.0MB/s ta 0:00:01\n",
      "\u001b[?25hCollecting attrs>=17.4.0 (from pytest>=5.0->pytest-rerunfailures)\n",
      "  Downloading http://pypi.doubanio.com/packages/a2/db/4313ab3be961f7a763066401fb77f7748373b6094076ae2bda2806988af6/attrs-19.3.0-py2.py3-none-any.whl\n",
      "Collecting pluggy<1.0,>=0.12 (from pytest>=5.0->pytest-rerunfailures)\n",
      "  Downloading http://pypi.doubanio.com/packages/a0/28/85c7aa31b80d150b772fbe4a229487bc6644da9ccb7e427dd8cc60cb8a62/pluggy-0.13.1-py2.py3-none-any.whl\n",
      "Collecting packaging (from pytest>=5.0->pytest-rerunfailures)\n",
      "  Downloading http://pypi.doubanio.com/packages/62/0a/34641d2bf5c917c96db0ded85ae4da25b6cd922d6b794648d4e7e07c88e5/packaging-20.3-py2.py3-none-any.whl\n",
      "Collecting py>=1.5.0 (from pytest>=5.0->pytest-rerunfailures)\n",
      "  Downloading http://pypi.doubanio.com/packages/99/8d/21e1767c009211a62a8e3067280bfce76e89c9f876180308515942304d2d/py-1.8.1-py2.py3-none-any.whl (83kB)\n",
      "\u001b[K    100% |████████████████████████████████| 92kB 48.5MB/s ta 0:00:01\n",
      "\u001b[?25hCollecting more-itertools>=4.0.0 (from pytest>=5.0->pytest-rerunfailures)\n",
      "  Downloading http://pypi.doubanio.com/packages/72/96/4297306cc270eef1e3461da034a3bebe7c84eff052326b130824e98fc3fb/more_itertools-8.2.0-py3-none-any.whl (43kB)\n",
      "\u001b[K    100% |████████████████████████████████| 51kB 46.9MB/s ta 0:00:01\n",
      "\u001b[?25hCollecting wcwidth (from pytest>=5.0->pytest-rerunfailures)\n",
      "  Downloading http://pypi.doubanio.com/packages/f6/d5/1ecdac957e3ea12c1b319fcdee8b6917ffaff8b4644d673c4d72d2f20b49/wcwidth-0.1.9-py2.py3-none-any.whl\n",
      "Collecting importlib-metadata>=0.12; python_version < \"3.8\" (from pytest>=5.0->pytest-rerunfailures)\n",
      "  Downloading http://pypi.doubanio.com/packages/ad/e4/891bfcaf868ccabc619942f27940c77a8a4b45fd8367098955bb7e152fb1/importlib_metadata-1.6.0-py2.py3-none-any.whl\n",
      "Collecting pyparsing>=2.0.2 (from packaging->pytest>=5.0->pytest-rerunfailures)\n",
      "  Downloading http://pypi.doubanio.com/packages/8a/bb/488841f56197b13700afd5658fc279a2025a39e22449b7cf29864669b15d/pyparsing-2.4.7-py2.py3-none-any.whl (67kB)\n",
      "\u001b[K    100% |████████████████████████████████| 71kB 49.6MB/s ta 0:00:01\n",
      "\u001b[?25hCollecting six (from packaging->pytest>=5.0->pytest-rerunfailures)\n",
      "  Downloading http://pypi.doubanio.com/packages/65/eb/1f97cb97bfc2390a276969c6fae16075da282f5058082d4cb10c6c5c1dba/six-1.14.0-py2.py3-none-any.whl\n",
      "Collecting zipp>=0.5 (from importlib-metadata>=0.12; python_version < \"3.8\"->pytest>=5.0->pytest-rerunfailures)\n",
      "  Downloading http://pypi.doubanio.com/packages/b2/34/bfcb43cc0ba81f527bc4f40ef41ba2ff4080e047acb0586b56b3d017ace4/zipp-3.1.0-py3-none-any.whl\n",
      "Installing collected packages: attrs, zipp, importlib-metadata, pluggy, pyparsing, six, packaging, py, more-itertools, wcwidth, pytest, setuptools, pytest-rerunfailures\n",
      "Successfully installed attrs-19.3.0 importlib-metadata-1.6.0 more-itertools-8.2.0 packaging-20.3 pluggy-0.13.1 py-1.8.1 pyparsing-2.4.7 pytest-5.4.1 pytest-rerunfailures-9.0 setuptools-46.1.3 six-1.14.0 wcwidth-0.1.9 zipp-3.1.0\n"
     ]
    }
   ],
   "source": [
    "#!pip3 install pytest-rerunfailures -i http://pypi.douban.com/simple/ --trusted-host pypi.douban.com"
   ]
  },
  {
   "cell_type": "markdown",
   "metadata": {},
   "source": [
    "### 配置参数"
   ]
  },
  {
   "cell_type": "markdown",
   "metadata": {},
   "source": [
    "**命令行参数**：--reruns n（重新运行次数），--reruns-delay m（等待运行秒数）\n",
    "\n",
    "**装饰器参数**：reruns=n（重新运行次数），reruns_delay=m（等待运行秒数）"
   ]
  },
  {
   "cell_type": "markdown",
   "metadata": {},
   "source": [
    "### 重新运行所有失败用例\n",
    "\n",
    "要重新运行所有测试失败，使用 --reruns 命令行选项，并指定要运行测试的最大次数：`pytest --rerun 5 -s`\n",
    "\n",
    "运行失败的fixture或setup_class也将重新执行\n",
    "\n",
    "要在两次重试之间增加延迟时间，使用 --reruns-delay 命令行选项，指定下次测试重新开始之前等待的秒数：`pytest --reruns 5 --reruns-delay 10 -s`"
   ]
  },
  {
   "cell_type": "markdown",
   "metadata": {},
   "source": [
    "### 重新运行指定的测试用例\n",
    "\n",
    "要将单个测试用例添加flaky装饰器 @pytest.mark.flaky(reruns=5) ，并在测试失败时自动重新运行，需要指定最大重新运行的次数"
   ]
  },
  {
   "cell_type": "code",
   "execution_count": 174,
   "metadata": {},
   "outputs": [
    {
     "name": "stdout",
     "output_type": "stream",
     "text": [
      "\u001b[1m============================= test session starts ==============================\u001b[0m\n",
      "platform linux -- Python 3.6.9, pytest-5.4.1, py-1.8.1, pluggy-0.13.1 -- /usr/bin/python3\n",
      "cachedir: .pytest_cache\n",
      "rootdir: /home/ubuntu/MySpace/Python/pytest\n",
      "plugins: rerunfailures-9.0\n",
      "collected 0 items / 1 error                                                    \u001b[0m\n",
      "\n",
      "==================================== ERRORS ====================================\n",
      "\u001b[31m\u001b[1m________________ ERROR collecting plug/pytest_rerunfailures.py _________________\u001b[0m\n",
      "\u001b[31mimport file mismatch:\n",
      "imported module 'pytest_rerunfailures' has this __file__ attribute:\n",
      "  /home/ubuntu/.local/lib/python3.6/site-packages/pytest_rerunfailures.py\n",
      "which is not the same as the test file we want to collect:\n",
      "  /home/ubuntu/MySpace/Python/pytest/plug/pytest_rerunfailures.py\n",
      "HINT: remove __pycache__ / .pyc files and/or use a unique basename for your test file modules\u001b[0m\n",
      "=========================== short test summary info ============================\n",
      "ERROR plug/pytest_rerunfailures.py\n",
      "!!!!!!!!!!!!!!!!!!!! Interrupted: 1 error during collection !!!!!!!!!!!!!!!!!!!!\n",
      "\u001b[31m=============================== \u001b[31m\u001b[1m1 error\u001b[0m\u001b[31m in 0.09s\u001b[0m\u001b[31m ===============================\u001b[0m\n"
     ]
    }
   ],
   "source": [
    "\"\"\"重新运行指定的测试用例\"\"\"\n",
    "import pytest\n",
    "import random\n",
    "\n",
    "@pytest.mark.flasky(reruns=5, reruns_delay=2)\n",
    "def test_example():\n",
    "    assert random.choice([True, False, False])\n",
    "    \n",
    "!pytest -v -s plug/pytest_rerunfailures.py"
   ]
  },
  {
   "cell_type": "markdown",
   "metadata": {},
   "source": [
    "### 注意事项\n",
    "\n",
    "+ 如果指定了用例的重新运行次数，则在命令行添加--reruns对这些用例是不会生效的\n",
    "+ 不可以和fixture装饰器一起使用： @pytest.fixture() \n",
    "+ 该插件与pytest-xdist的 --looponfail 标志不兼容\n",
    "+ 该插件与核心--pdb标志不兼容"
   ]
  },
  {
   "cell_type": "markdown",
   "metadata": {},
   "source": [
    "## 重复执行pytest-repeat\n",
    "\n",
    "+ 平常在做功能测试的时候，经常会遇到某个模块不稳定，偶然会出现一些bug，对于这种问题我们会针对此用例反复执行多次，最终复现出问题来\n",
    "+ 自动化运行用例时候，也会出现偶然的bug，可以针对单个用例，或者针对某个模块的用例重复执行多次"
   ]
  },
  {
   "cell_type": "markdown",
   "metadata": {},
   "source": [
    "### 环境配置\n",
    "\n",
    "**环境要求**：\n",
    "+ Python 2.7、3.4+或PyPy\n",
    "+ py.test 2.8或更高版本\n",
    "\n",
    "**插件安装**："
   ]
  },
  {
   "cell_type": "code",
   "execution_count": 176,
   "metadata": {},
   "outputs": [
    {
     "name": "stdout",
     "output_type": "stream",
     "text": [
      "Collecting pytest-repeat\n",
      "  Downloading http://pypi.doubanio.com/packages/2e/de/c1d69002db74a99b3df0463e95066c03d82d9d2a53be738c140207134e0f/pytest_repeat-0.8.0-py2.py3-none-any.whl\n",
      "Collecting pytest>=3.6 (from pytest-repeat)\n",
      "  Downloading http://pypi.doubanio.com/packages/c7/e2/c19c667f42f72716a7d03e8dd4d6f63f47d39feadd44cc1ee7ca3089862c/pytest-5.4.1-py3-none-any.whl (246kB)\n",
      "\u001b[K    100% |████████████████████████████████| 256kB 3.8MB/s ta 0:00:011\n",
      "\u001b[?25hCollecting more-itertools>=4.0.0 (from pytest>=3.6->pytest-repeat)\n",
      "  Downloading http://pypi.doubanio.com/packages/72/96/4297306cc270eef1e3461da034a3bebe7c84eff052326b130824e98fc3fb/more_itertools-8.2.0-py3-none-any.whl (43kB)\n",
      "\u001b[K    100% |████████████████████████████████| 51kB 1.8MB/s ta 0:00:011\n",
      "\u001b[?25hCollecting pluggy<1.0,>=0.12 (from pytest>=3.6->pytest-repeat)\n",
      "  Downloading http://pypi.doubanio.com/packages/a0/28/85c7aa31b80d150b772fbe4a229487bc6644da9ccb7e427dd8cc60cb8a62/pluggy-0.13.1-py2.py3-none-any.whl\n",
      "Collecting attrs>=17.4.0 (from pytest>=3.6->pytest-repeat)\n",
      "  Downloading http://pypi.doubanio.com/packages/a2/db/4313ab3be961f7a763066401fb77f7748373b6094076ae2bda2806988af6/attrs-19.3.0-py2.py3-none-any.whl\n",
      "Collecting importlib-metadata>=0.12; python_version < \"3.8\" (from pytest>=3.6->pytest-repeat)\n",
      "  Downloading http://pypi.doubanio.com/packages/ad/e4/891bfcaf868ccabc619942f27940c77a8a4b45fd8367098955bb7e152fb1/importlib_metadata-1.6.0-py2.py3-none-any.whl\n",
      "Collecting py>=1.5.0 (from pytest>=3.6->pytest-repeat)\n",
      "  Downloading http://pypi.doubanio.com/packages/99/8d/21e1767c009211a62a8e3067280bfce76e89c9f876180308515942304d2d/py-1.8.1-py2.py3-none-any.whl (83kB)\n",
      "\u001b[K    100% |████████████████████████████████| 92kB 843kB/s ta 0:00:011\n",
      "\u001b[?25hCollecting wcwidth (from pytest>=3.6->pytest-repeat)\n",
      "  Downloading http://pypi.doubanio.com/packages/f6/d5/1ecdac957e3ea12c1b319fcdee8b6917ffaff8b4644d673c4d72d2f20b49/wcwidth-0.1.9-py2.py3-none-any.whl\n",
      "Collecting packaging (from pytest>=3.6->pytest-repeat)\n",
      "  Downloading http://pypi.doubanio.com/packages/62/0a/34641d2bf5c917c96db0ded85ae4da25b6cd922d6b794648d4e7e07c88e5/packaging-20.3-py2.py3-none-any.whl\n",
      "Collecting zipp>=0.5 (from importlib-metadata>=0.12; python_version < \"3.8\"->pytest>=3.6->pytest-repeat)\n",
      "  Downloading http://pypi.doubanio.com/packages/b2/34/bfcb43cc0ba81f527bc4f40ef41ba2ff4080e047acb0586b56b3d017ace4/zipp-3.1.0-py3-none-any.whl\n",
      "Collecting six (from packaging->pytest>=3.6->pytest-repeat)\n",
      "  Downloading http://pypi.doubanio.com/packages/65/eb/1f97cb97bfc2390a276969c6fae16075da282f5058082d4cb10c6c5c1dba/six-1.14.0-py2.py3-none-any.whl\n",
      "Collecting pyparsing>=2.0.2 (from packaging->pytest>=3.6->pytest-repeat)\n",
      "  Downloading http://pypi.doubanio.com/packages/8a/bb/488841f56197b13700afd5658fc279a2025a39e22449b7cf29864669b15d/pyparsing-2.4.7-py2.py3-none-any.whl (67kB)\n",
      "\u001b[K    100% |████████████████████████████████| 71kB 40.3MB/s ta 0:00:01\n",
      "\u001b[?25hInstalling collected packages: more-itertools, zipp, importlib-metadata, pluggy, attrs, py, wcwidth, six, pyparsing, packaging, pytest, pytest-repeat\n",
      "Successfully installed attrs-19.3.0 importlib-metadata-1.6.0 more-itertools-8.2.0 packaging-20.3 pluggy-0.13.1 py-1.8.1 pyparsing-2.4.7 pytest-5.4.1 pytest-repeat-0.8.0 six-1.14.0 wcwidth-0.1.9 zipp-3.1.0\n"
     ]
    }
   ],
   "source": [
    "# !pip3 install pytest-repeat -i http://pypi.douban.com/simple/ --trusted-host pypi.douban.com"
   ]
  },
  {
   "cell_type": "markdown",
   "metadata": {},
   "source": [
    "### 重复测试直到失败\n",
    "\n",
    "+ 如果需要验证偶现问题，可以一次又一次地运行相同的测试直到失败，这个插件将很有用\n",
    "+ 可以将pytest的 -x 选项与pytest-repeat结合使用，以强制测试运行程序在第一次失败时停止"
   ]
  },
  {
   "cell_type": "code",
   "execution_count": 185,
   "metadata": {},
   "outputs": [
    {
     "name": "stdout",
     "output_type": "stream",
     "text": [
      "\u001b[31mERROR: /home/ubuntu/MySpace/Python/pytest/plug/pytest.ini:1: no section header defined\r\n",
      "\u001b[0m\r\n"
     ]
    }
   ],
   "source": [
    "import pytest\n",
    "import random\n",
    "\n",
    "def test_flag():\n",
    "    flag = random.choice([True, False])\n",
    "    print(flag)\n",
    "    assert flag\n",
    "    \n",
    "!pytest -s --count 5 -x plug/test_pytest_repeat.py"
   ]
  },
  {
   "cell_type": "markdown",
   "metadata": {},
   "source": [
    "### ptytest.mark.repeat(count)\n",
    "\n",
    "如果要在代码中将某些测试用例标记为执行重复多次，可以使用 `@pytest.mark.repeat(count) `"
   ]
  },
  {
   "cell_type": "code",
   "execution_count": 187,
   "metadata": {},
   "outputs": [
    {
     "name": "stdout",
     "output_type": "stream",
     "text": [
      "\u001b[31mERROR: /home/ubuntu/MySpace/Python/pytest/plug/pytest.ini:1: no section header defined\r\n",
      "\u001b[0m\r\n"
     ]
    }
   ],
   "source": [
    "@pytest.mark.repeat(5)\n",
    "def test_repeat():\n",
    "    print(\"测试用例执行\")\n",
    "    \n",
    "    \n",
    "!pytest plug/test_pytest_repeat.py::test_repeat"
   ]
  },
  {
   "cell_type": "markdown",
   "metadata": {},
   "source": [
    "### --repeat-scope\n",
    "\n",
    "作用：可以覆盖默认的测试用例执行顺序，类似fixture的scope参数\n",
    "\n",
    "+ function：默认，范围针对每个用例重复执行，再执行下一个用例\n",
    "+ class：以class为用例集合单位，重复执行class里面的用例，再执行下一个\n",
    "+ module：以模块为单位，重复执行模块里面的用例，再执行下一个\n",
    "+ session：重复整个测试会话，即所有测试用例的执行一次，然后再执行第二次"
   ]
  },
  {
   "cell_type": "code",
   "execution_count": 188,
   "metadata": {},
   "outputs": [
    {
     "name": "stdout",
     "output_type": "stream",
     "text": [
      "import pytest\r\n",
      "\r\n",
      "class Test_repeat:\r\n",
      "    def test_repeat3(self):\r\n",
      "        print(\"测试用例执行333\")\r\n",
      "\r\n",
      "class Test_repeat2:\r\n",
      "    def test_repeat3(self):\r\n",
      "        print(\"测试用例执行444\")\r\n",
      "        \r\n",
      "        \r\n",
      "def test_repeat1():\r\n",
      "    print(\"测试用例执行111\")\r\n",
      "\r\n",
      "\r\n",
      "def test_repeat2():\r\n",
      "    print(\"测试用例执行222\")\r\n",
      "\r\n",
      "\r\n",
      "class Test_repeat:\r\n",
      "    def test_repeat3(self):\r\n",
      "        print(\"测试用例执行333\")"
     ]
    }
   ],
   "source": [
    "!cat plug/test_pytest_repeat_scope.py"
   ]
  },
  {
   "cell_type": "code",
   "execution_count": 190,
   "metadata": {},
   "outputs": [
    {
     "name": "stdout",
     "output_type": "stream",
     "text": [
      "\u001b[31mERROR: /home/ubuntu/MySpace/Python/pytest/plug/pytest.ini:1: no section header defined\r\n",
      "\u001b[0m\r\n"
     ]
    }
   ],
   "source": [
    "!pytest -s --count=2 --repeat-scope=class plug/test_pytest_repeat_scope.py"
   ]
  },
  {
   "cell_type": "code",
   "execution_count": 193,
   "metadata": {},
   "outputs": [
    {
     "name": "stdout",
     "output_type": "stream",
     "text": [
      "\u001b[31mERROR: /home/ubuntu/MySpace/Python/pytest/plug/pytest.ini:1: no section header defined\r\n",
      "\u001b[0m\r\n"
     ]
    }
   ],
   "source": [
    "!pytest -s --count=2 --repeat-scope=module plug/test_pytest_repeat_scope.py"
   ]
  },
  {
   "cell_type": "markdown",
   "metadata": {},
   "source": [
    "### 注意事项\n",
    "\n",
    "pytest-repeat不能与unittest.TestCase测试类一起使用。无论--count设置多少，这些测试始终仅运行一次，并显示警告"
   ]
  },
  {
   "cell_type": "markdown",
   "metadata": {},
   "source": [
    "## 多重校验pytest-assume"
   ]
  },
  {
   "cell_type": "markdown",
   "metadata": {},
   "source": [
    "pytest中可以用python的assert断言，也可以写多个断言，但一个失败，后面的断言将不再执行\n",
    "\n",
    "而 pytest-assume即使中间的断言失败了，还是会执行后面的断言：\n",
    "+ 即使断言失败，后面的断言还是会继续执行\n",
    "+ 有助于我们分析和查看到底一共有哪些断言是失败的\n",
    "+ 最后的代码也还会正常执行，比直接用assert更高效"
   ]
  },
  {
   "cell_type": "markdown",
   "metadata": {},
   "source": [
    "### 环境配置"
   ]
  },
  {
   "cell_type": "code",
   "execution_count": 197,
   "metadata": {},
   "outputs": [
    {
     "name": "stdout",
     "output_type": "stream",
     "text": [
      "Collecting pytest-assume\n",
      "  Downloading http://pypi.doubanio.com/packages/9a/a7/bd0f0289c2978082296936c3899c77b3e738c89fa56ecbaaafd826ec2f52/pytest_assume-2.2.1-py3-none-any.whl\n",
      "Collecting pytest>=2.7 (from pytest-assume)\n",
      "  Downloading http://pypi.doubanio.com/packages/c7/e2/c19c667f42f72716a7d03e8dd4d6f63f47d39feadd44cc1ee7ca3089862c/pytest-5.4.1-py3-none-any.whl (246kB)\n",
      "\u001b[K    100% |████████████████████████████████| 256kB 56.4MB/s ta 0:00:01\n",
      "\u001b[?25hCollecting more-itertools>=4.0.0 (from pytest>=2.7->pytest-assume)\n",
      "  Downloading http://pypi.doubanio.com/packages/72/96/4297306cc270eef1e3461da034a3bebe7c84eff052326b130824e98fc3fb/more_itertools-8.2.0-py3-none-any.whl (43kB)\n",
      "\u001b[K    100% |████████████████████████████████| 51kB 43.4MB/s ta 0:00:01\n",
      "\u001b[?25hCollecting wcwidth (from pytest>=2.7->pytest-assume)\n",
      "  Downloading http://pypi.doubanio.com/packages/f6/d5/1ecdac957e3ea12c1b319fcdee8b6917ffaff8b4644d673c4d72d2f20b49/wcwidth-0.1.9-py2.py3-none-any.whl\n",
      "Collecting py>=1.5.0 (from pytest>=2.7->pytest-assume)\n",
      "  Downloading http://pypi.doubanio.com/packages/99/8d/21e1767c009211a62a8e3067280bfce76e89c9f876180308515942304d2d/py-1.8.1-py2.py3-none-any.whl (83kB)\n",
      "\u001b[K    100% |████████████████████████████████| 92kB 48.0MB/s ta 0:00:01\n",
      "\u001b[?25hCollecting importlib-metadata>=0.12; python_version < \"3.8\" (from pytest>=2.7->pytest-assume)\n",
      "  Downloading http://pypi.doubanio.com/packages/ad/e4/891bfcaf868ccabc619942f27940c77a8a4b45fd8367098955bb7e152fb1/importlib_metadata-1.6.0-py2.py3-none-any.whl\n",
      "Collecting attrs>=17.4.0 (from pytest>=2.7->pytest-assume)\n",
      "  Downloading http://pypi.doubanio.com/packages/a2/db/4313ab3be961f7a763066401fb77f7748373b6094076ae2bda2806988af6/attrs-19.3.0-py2.py3-none-any.whl\n",
      "Collecting packaging (from pytest>=2.7->pytest-assume)\n",
      "  Downloading http://pypi.doubanio.com/packages/62/0a/34641d2bf5c917c96db0ded85ae4da25b6cd922d6b794648d4e7e07c88e5/packaging-20.3-py2.py3-none-any.whl\n",
      "Collecting pluggy<1.0,>=0.12 (from pytest>=2.7->pytest-assume)\n",
      "  Downloading http://pypi.doubanio.com/packages/a0/28/85c7aa31b80d150b772fbe4a229487bc6644da9ccb7e427dd8cc60cb8a62/pluggy-0.13.1-py2.py3-none-any.whl\n",
      "Collecting zipp>=0.5 (from importlib-metadata>=0.12; python_version < \"3.8\"->pytest>=2.7->pytest-assume)\n",
      "  Downloading http://pypi.doubanio.com/packages/b2/34/bfcb43cc0ba81f527bc4f40ef41ba2ff4080e047acb0586b56b3d017ace4/zipp-3.1.0-py3-none-any.whl\n",
      "Collecting pyparsing>=2.0.2 (from packaging->pytest>=2.7->pytest-assume)\n",
      "  Downloading http://pypi.doubanio.com/packages/8a/bb/488841f56197b13700afd5658fc279a2025a39e22449b7cf29864669b15d/pyparsing-2.4.7-py2.py3-none-any.whl (67kB)\n",
      "\u001b[K    100% |████████████████████████████████| 71kB 35.7MB/s ta 0:00:01\n",
      "\u001b[?25hCollecting six (from packaging->pytest>=2.7->pytest-assume)\n",
      "  Downloading http://pypi.doubanio.com/packages/65/eb/1f97cb97bfc2390a276969c6fae16075da282f5058082d4cb10c6c5c1dba/six-1.14.0-py2.py3-none-any.whl\n",
      "Installing collected packages: more-itertools, wcwidth, py, zipp, importlib-metadata, attrs, pyparsing, six, packaging, pluggy, pytest, pytest-assume\n",
      "Successfully installed attrs-19.3.0 importlib-metadata-1.6.0 more-itertools-8.2.0 packaging-20.3 pluggy-0.13.1 py-1.8.1 pyparsing-2.4.7 pytest-5.4.1 pytest-assume-2.2.1 six-1.14.0 wcwidth-0.1.9 zipp-3.1.0\n"
     ]
    }
   ],
   "source": [
    "# !pip3 install pytest-assume -i http://pypi.douban.com/simple/ --trusted-host pypi.douban.com"
   ]
  },
  {
   "cell_type": "markdown",
   "metadata": {},
   "source": [
    "### assert 多重断言"
   ]
  },
  {
   "cell_type": "code",
   "execution_count": 202,
   "metadata": {},
   "outputs": [
    {
     "name": "stdout",
     "output_type": "stream",
     "text": [
      "\u001b[1m============================= test session starts ==============================\u001b[0m\n",
      "platform linux -- Python 3.6.9, pytest-5.4.1, py-1.8.1, pluggy-0.13.1 -- /usr/bin/python3\n",
      "cachedir: .pytest_cache\n",
      "rootdir: /home/ubuntu/MySpace/Python/pytest\n",
      "plugins: rerunfailures-9.0, assume-2.2.1, repeat-0.8.0\n",
      "collected 1 item                                                               \u001b[0m\n",
      "\n",
      "plug/more_assert.py::test_add1 \u001b[31mFAILED\u001b[0m\n",
      "\n",
      "=================================== FAILURES ===================================\n",
      "\u001b[31m\u001b[1m__________________________________ test_add1 ___________________________________\u001b[0m\n",
      "\n",
      "    \u001b[94mdef\u001b[39;49;00m \u001b[92mtest_add1\u001b[39;49;00m():\n",
      "        \u001b[94massert\u001b[39;49;00m \u001b[94m1\u001b[39;49;00m + \u001b[94m4\u001b[39;49;00m == \u001b[94m5\u001b[39;49;00m\n",
      ">       \u001b[94massert\u001b[39;49;00m \u001b[94m1\u001b[39;49;00m + \u001b[94m3\u001b[39;49;00m == \u001b[94m3\u001b[39;49;00m\n",
      "\u001b[1m\u001b[31mE       assert 4 == 3\u001b[0m\n",
      "\u001b[1m\u001b[31mE         +4\u001b[0m\n",
      "\u001b[1m\u001b[31mE         -3\u001b[0m\n",
      "\n",
      "\u001b[1m\u001b[31mplug/more_assert.py\u001b[0m:3: AssertionError\n",
      "=========================== short test summary info ============================\n",
      "FAILED plug/more_assert.py::test_add1 - assert 4 == 3\n",
      "\u001b[31m============================== \u001b[31m\u001b[1m1 failed\u001b[0m\u001b[31m in 0.11s\u001b[0m\u001b[31m ===============================\u001b[0m\n"
     ]
    }
   ],
   "source": [
    "def test_add1():\n",
    "    assert 1 + 4 == 5\n",
    "    assert 1 + 3 == 3\n",
    "    assert 2 + 5 == 7\n",
    "    assert 2 + 5 == 9\n",
    "    print(\"测试完成\")\n",
    "    \n",
    "!pytest -v -s plug/more_assert.py"
   ]
  },
  {
   "cell_type": "markdown",
   "metadata": {},
   "source": [
    "### pytest.assume多重断言"
   ]
  },
  {
   "cell_type": "code",
   "execution_count": 206,
   "metadata": {},
   "outputs": [
    {
     "name": "stdout",
     "output_type": "stream",
     "text": [
      "\u001b[1m============================= test session starts ==============================\u001b[0m\n",
      "platform linux -- Python 3.6.9, pytest-5.4.1, py-1.8.1, pluggy-0.13.1 -- /usr/bin/python3\n",
      "cachedir: .pytest_cache\n",
      "rootdir: /home/ubuntu/MySpace/Python/pytest\n",
      "plugins: rerunfailures-9.0, assume-2.2.1, repeat-0.8.0\n",
      "collected 1 item                                                               \u001b[0m\n",
      "\n",
      "plug/more_pytest_assume.py::test_add2 测试完成\n",
      "\u001b[31mFAILED\u001b[0m\n",
      "\n",
      "=================================== FAILURES ===================================\n",
      "\u001b[31m\u001b[1m__________________________________ test_add2 ___________________________________\u001b[0m\n",
      "\n",
      "tp = <class 'pytest_assume.plugin.FailedAssumption'>, value = None, tb = None\n",
      "\n",
      "    \u001b[94mdef\u001b[39;49;00m \u001b[92mreraise\u001b[39;49;00m(tp, value, tb=\u001b[94mNone\u001b[39;49;00m):\n",
      "        \u001b[94mtry\u001b[39;49;00m:\n",
      "            \u001b[94mif\u001b[39;49;00m value \u001b[95mis\u001b[39;49;00m \u001b[94mNone\u001b[39;49;00m:\n",
      "                value = tp()\n",
      "            \u001b[94mif\u001b[39;49;00m value.__traceback__ \u001b[95mis\u001b[39;49;00m \u001b[95mnot\u001b[39;49;00m tb:\n",
      ">               \u001b[94mraise\u001b[39;49;00m value.with_traceback(tb)\n",
      "\u001b[1m\u001b[31mE               pytest_assume.plugin.FailedAssumption: \u001b[0m\n",
      "\u001b[1m\u001b[31mE               2 Failed Assumptions:\u001b[0m\n",
      "\u001b[1m\u001b[31mE               \u001b[0m\n",
      "\u001b[1m\u001b[31mE               plug/more_pytest_assume.py:5: AssumptionFailure\u001b[0m\n",
      "\u001b[1m\u001b[31mE               >>\tpytest.assume(1 + 3 == 3)\u001b[0m\n",
      "\u001b[1m\u001b[31mE               AssertionError: assert False\u001b[0m\n",
      "\u001b[1m\u001b[31mE               \u001b[0m\n",
      "\u001b[1m\u001b[31mE               plug/more_pytest_assume.py:7: AssumptionFailure\u001b[0m\n",
      "\u001b[1m\u001b[31mE               >>\tpytest.assume(2 + 5 == 9)\u001b[0m\n",
      "\u001b[1m\u001b[31mE               AssertionError: assert False\u001b[0m\n",
      "\n",
      "\u001b[1m\u001b[31m../../../.local/lib/python3.6/site-packages/six.py\u001b[0m:702: FailedAssumption\n",
      "=========================== short test summary info ============================\n",
      "FAILED plug/more_pytest_assume.py::test_add2 - pytest_assume.plugin.FailedAss...\n",
      "\u001b[31m============================== \u001b[31m\u001b[1m1 failed\u001b[0m\u001b[31m in 0.14s\u001b[0m\u001b[31m ===============================\u001b[0m\n"
     ]
    }
   ],
   "source": [
    "import pytest\n",
    "\n",
    "def test_add2():\n",
    "    pytest.assume(1 + 4 == 5)\n",
    "    pytest.assume(1 + 3 == 3)\n",
    "    pytest.assume(2 + 5 == 7)\n",
    "    pytest.assume(2 + 5 == 9)\n",
    "    print(\"测试完成\")\n",
    "    \n",
    "!pytest -v -s plug/more_pytest_assume.py"
   ]
  },
  {
   "cell_type": "markdown",
   "metadata": {},
   "source": [
    "## 分布式测试pytest-xdist"
   ]
  },
  {
   "cell_type": "markdown",
   "metadata": {},
   "source": [
    "**应用场景**\n",
    "+ 平常我们功能测试用例非常多时，比如有1千条用例，假设每个用例执行需要1分钟，如果单个测试人员执行需要1000分钟才能跑完\n",
    "+ 当项目非常紧急时，会需要协调多个测试资源来把任务分成两部分，于是执行时间缩短一半，如果有10个小伙伴，那么执行时间就会变成十分之一，大大节省了测试时间\n",
    "+ 为了节省项目测试时间，10个测试同时并行测试，这就是一种分布式场景\n",
    "+ 同样道理，当我们自动化测试用例排常多的时候， 一条条按顺序执行会非常慢，pytest-xdist的出现就是为了让自动化测试用例可以分布式执行，从而节省自动化测试时间\n",
    "+ pytest-xdist是属于进程级别的并发\n",
    "\n",
    "**分布式执行用例设计原则**\n",
    "+ 用例之间是独立的，用例之间没有依赖关系，用例可以完全独立运行【独立运行】\n",
    "+ 用例执行没有顺序，随机顺序都能正常执行【随机执行】\n",
    "+ 每个用例都能重复运行，运行结果不会影响其他用例【不影响其他用例】"
   ]
  },
  {
   "cell_type": "markdown",
   "metadata": {},
   "source": [
    "### 环境配置"
   ]
  },
  {
   "cell_type": "code",
   "execution_count": 207,
   "metadata": {},
   "outputs": [
    {
     "name": "stdout",
     "output_type": "stream",
     "text": [
      "Collecting pytest-xdist\n",
      "  Downloading http://pypi.doubanio.com/packages/7c/8c/7f93c1d82f25a69a1c6e68189b9cf5ddce08dcaefdbd913d328b0234e13b/pytest_xdist-1.31.0-py2.py3-none-any.whl\n",
      "Collecting pytest>=4.4.0 (from pytest-xdist)\n",
      "  Downloading http://pypi.doubanio.com/packages/c7/e2/c19c667f42f72716a7d03e8dd4d6f63f47d39feadd44cc1ee7ca3089862c/pytest-5.4.1-py3-none-any.whl (246kB)\n",
      "\u001b[K    100% |████████████████████████████████| 256kB 25.6MB/s ta 0:00:01\n",
      "\u001b[?25hCollecting execnet>=1.1 (from pytest-xdist)\n",
      "  Downloading http://pypi.doubanio.com/packages/d3/2e/c63af07fa471e0a02d05793c7a56a9f7d274a8489442a5dc4fb3b2b3c705/execnet-1.7.1-py2.py3-none-any.whl\n",
      "Collecting pytest-forked (from pytest-xdist)\n",
      "  Downloading http://pypi.doubanio.com/packages/03/1e/81235e1fcfed57a4e679d34794d60c01a1e9a29ef5b9844d797716111d80/pytest_forked-1.1.3-py2.py3-none-any.whl\n",
      "Collecting six (from pytest-xdist)\n",
      "  Downloading http://pypi.doubanio.com/packages/65/eb/1f97cb97bfc2390a276969c6fae16075da282f5058082d4cb10c6c5c1dba/six-1.14.0-py2.py3-none-any.whl\n",
      "Collecting more-itertools>=4.0.0 (from pytest>=4.4.0->pytest-xdist)\n",
      "  Downloading http://pypi.doubanio.com/packages/72/96/4297306cc270eef1e3461da034a3bebe7c84eff052326b130824e98fc3fb/more_itertools-8.2.0-py3-none-any.whl (43kB)\n",
      "\u001b[K    100% |████████████████████████████████| 51kB 49.0MB/s ta 0:00:01\n",
      "\u001b[?25hCollecting pluggy<1.0,>=0.12 (from pytest>=4.4.0->pytest-xdist)\n",
      "  Downloading http://pypi.doubanio.com/packages/a0/28/85c7aa31b80d150b772fbe4a229487bc6644da9ccb7e427dd8cc60cb8a62/pluggy-0.13.1-py2.py3-none-any.whl\n",
      "Collecting wcwidth (from pytest>=4.4.0->pytest-xdist)\n",
      "  Downloading http://pypi.doubanio.com/packages/f6/d5/1ecdac957e3ea12c1b319fcdee8b6917ffaff8b4644d673c4d72d2f20b49/wcwidth-0.1.9-py2.py3-none-any.whl\n",
      "Collecting importlib-metadata>=0.12; python_version < \"3.8\" (from pytest>=4.4.0->pytest-xdist)\n",
      "  Downloading http://pypi.doubanio.com/packages/ad/e4/891bfcaf868ccabc619942f27940c77a8a4b45fd8367098955bb7e152fb1/importlib_metadata-1.6.0-py2.py3-none-any.whl\n",
      "Collecting packaging (from pytest>=4.4.0->pytest-xdist)\n",
      "  Downloading http://pypi.doubanio.com/packages/62/0a/34641d2bf5c917c96db0ded85ae4da25b6cd922d6b794648d4e7e07c88e5/packaging-20.3-py2.py3-none-any.whl\n",
      "Collecting py>=1.5.0 (from pytest>=4.4.0->pytest-xdist)\n",
      "  Downloading http://pypi.doubanio.com/packages/99/8d/21e1767c009211a62a8e3067280bfce76e89c9f876180308515942304d2d/py-1.8.1-py2.py3-none-any.whl (83kB)\n",
      "\u001b[K    100% |████████████████████████████████| 92kB 15.7MB/s ta 0:00:01    73% |███████████████████████▌        | 61kB 30.9MB/s eta 0:00:01\n",
      "\u001b[?25hCollecting attrs>=17.4.0 (from pytest>=4.4.0->pytest-xdist)\n",
      "  Downloading http://pypi.doubanio.com/packages/a2/db/4313ab3be961f7a763066401fb77f7748373b6094076ae2bda2806988af6/attrs-19.3.0-py2.py3-none-any.whl\n",
      "Collecting apipkg>=1.4 (from execnet>=1.1->pytest-xdist)\n",
      "  Downloading http://pypi.doubanio.com/packages/67/08/4815a09603fc800209431bec5b8bd2acf2f95abdfb558a44a42507fb94da/apipkg-1.5-py2.py3-none-any.whl\n",
      "Collecting zipp>=0.5 (from importlib-metadata>=0.12; python_version < \"3.8\"->pytest>=4.4.0->pytest-xdist)\n",
      "  Downloading http://pypi.doubanio.com/packages/b2/34/bfcb43cc0ba81f527bc4f40ef41ba2ff4080e047acb0586b56b3d017ace4/zipp-3.1.0-py3-none-any.whl\n",
      "Collecting pyparsing>=2.0.2 (from packaging->pytest>=4.4.0->pytest-xdist)\n",
      "  Downloading http://pypi.doubanio.com/packages/8a/bb/488841f56197b13700afd5658fc279a2025a39e22449b7cf29864669b15d/pyparsing-2.4.7-py2.py3-none-any.whl (67kB)\n",
      "\u001b[K    100% |████████████████████████████████| 71kB 33.0MB/s ta 0:00:01\n",
      "\u001b[?25hInstalling collected packages: more-itertools, zipp, importlib-metadata, pluggy, wcwidth, pyparsing, six, packaging, py, attrs, pytest, apipkg, execnet, pytest-forked, pytest-xdist\n",
      "Successfully installed apipkg-1.5 attrs-19.3.0 execnet-1.7.1 importlib-metadata-1.6.0 more-itertools-8.2.0 packaging-20.3 pluggy-0.13.1 py-1.8.1 pyparsing-2.4.7 pytest-5.4.1 pytest-forked-1.1.3 pytest-xdist-1.31.0 six-1.14.0 wcwidth-0.1.9 zipp-3.1.0\n"
     ]
    }
   ],
   "source": [
    "# !pip3 install pytest-xdist -i http://pypi.douban.com/simple/ --trusted-host pypi.douban.com"
   ]
  },
  {
   "cell_type": "markdown",
   "metadata": {},
   "source": [
    "### pytest-xdist分布式测试原理"
   ]
  },
  {
   "cell_type": "markdown",
   "metadata": {},
   "source": [
    "xdist的分布式类似于一主多从的结构，master机负责下发命令，控制slave机；slave机根据master机的命令执行特定测试任务\n",
    "在xdist中，主是master，从是workers\n",
    "\n",
    "**大致原理**：\n",
    "+ xdist会产生一个或多个workers，workers都通过master来控制\n",
    "+ 每个worker负责执行完整的测试用例集，然后按照master的要求运行测试，而master机不执行测试任务"
   ]
  },
  {
   "cell_type": "markdown",
   "metadata": {},
   "source": [
    "### pytest-xdist分布式测试流程"
   ]
  },
  {
   "cell_type": "markdown",
   "metadata": {},
   "source": [
    "#### 创建worker"
   ]
  },
  {
   "cell_type": "markdown",
   "metadata": {},
   "source": [
    "+ master会在总测试会话（test session）开始前产生一个或多个worker\n",
    "+ master和worker之间是通过execnet和网关来通信的\n",
    "+ 实际编译执行测试代码的worker可能是本地机器也可能是远程机器"
   ]
  },
  {
   "cell_type": "markdown",
   "metadata": {},
   "source": [
    "#### 收集测试项用例"
   ]
  },
  {
   "cell_type": "markdown",
   "metadata": {},
   "source": [
    "+ 每个worker类似一个迷你型的pytest执行器\n",
    "+ worker会执行一个完整的test collection过程【收集所有测试用例的过程】\n",
    "+ 然后把测试用例的ids返回给master\n",
    "+ master是不会执行任何测试用例集的\n",
    "\n",
    "**注意**：所以为什么上面通过分布式测试的结果截图是没有输出用例的print内容，因为主机并不执行测试用例，pycharm相当于一个master\n",
    "\n"
   ]
  },
  {
   "cell_type": "markdown",
   "metadata": {},
   "source": [
    "#### master 检查 workers 收集到的测试用例集"
   ]
  },
  {
   "cell_type": "markdown",
   "metadata": {},
   "source": [
    "+ master接收到所有worker收集的测试用例集之后，master会进行一些完整性检查，以确保所有worker都收集到一样的测试用例集（包括顺序）\n",
    "+ 如果检查通过，会将测试用例的ids列表转换成简单的索引列表，每个索引对应一个测试用例的在原来测试集中的位置\n",
    "+ 这个方案可行的原因是：所有的节点都保存着相同的测试用例集\n",
    "+ 并且使用这种方式可以节省带宽，因为master只需要告知workers需要执行的测试用例对应的索引，而不用告知完整的测试用例信息"
   ]
  },
  {
   "cell_type": "markdown",
   "metadata": {},
   "source": [
    "#### 测试用例分发"
   ]
  },
  {
   "cell_type": "markdown",
   "metadata": {},
   "source": [
    "--dist-mode选项\n",
    "\n",
    "+ each：master将完整的测试索引列表分发到每个worker\n",
    "\n",
    "+ load：master将大约25%的测试用例以轮询的方式分发到各个worker，剩余的测试用例则会等待workers执行完测试用例以后再分发\n",
    "\n",
    "**注意**：可以使用  pytest_xdist_make_scheduler  这个hook来实现自定义测试分发逻辑。"
   ]
  },
  {
   "cell_type": "markdown",
   "metadata": {},
   "source": [
    "#### 测试用例的执行"
   ]
  },
  {
   "cell_type": "markdown",
   "metadata": {},
   "source": [
    "+ workers 重写了   pytest_runtestloop  ：pytest的默认实现是循环执行所有在test session这个对象里面收集到的测试用例\n",
    "+ 但是在xdist里, workers实际上是等待master为其发送需要执行的测试用例\n",
    "+ 当worker收到测试任务, 就顺序执行  pytest_runtest_protocol \n",
    "+ 值得注意的一个细节是：workers 必须始终保持至少一个测试用例在的任务队列里, 以兼容  pytest_runtest_protocol(item, nextitem)   hook的参数要求，为了将 nextitem传给hook\n",
    "+ worker会在执行最后一个测试项前等待master的更多指令\n",
    "+ 如果它收到了更多测试项, 那么就可以安全的执行   pytest_runtest_protocol  , 因为这时nextitem参数已经可以确定\n",
    "+ 如果它收到一个 \"shutdown\"信号, 那么就将 nextitem 参数设为 None, 然后执行 pytest_runtest_protocol\n",
    " "
   ]
  },
  {
   "cell_type": "markdown",
   "metadata": {},
   "source": [
    "#### 测试用例再分发（--dist-mode=load）"
   ]
  },
  {
   "cell_type": "markdown",
   "metadata": {},
   "source": [
    "+ 当workers开始/结束执行时，会把测试结果返回给master，这样其他pytest hook比如：  pytest_runtest_protocol  和  pytest_runtest_protocol  就可以正常执行\n",
    "+ master在worker执行完一个测试后，基于测试执行时长以及每个work剩余测试用例综合决定是否向这个worker发送更多的测试用例"
   ]
  },
  {
   "cell_type": "markdown",
   "metadata": {},
   "source": [
    "#### 测试结束"
   ]
  },
  {
   "cell_type": "markdown",
   "metadata": {},
   "source": [
    "+ 当master没有更多执行测试任务时，它会发送一个“shutdown”信号给所有worker\n",
    "+ 当worker将剩余测试用例执行完后退出进程\n",
    "+ master等待所有worker全部退出\n",
    "+ 然此时仍需要处理诸如  pytest_runtest_logreport  等事件"
   ]
  },
  {
   "cell_type": "markdown",
   "metadata": {},
   "source": [
    "### pytest-xdist通过独特的测试模式扩展pytest"
   ]
  },
  {
   "cell_type": "markdown",
   "metadata": {},
   "source": [
    "+ **测试运行并行化**：如果有多个CPU或主机，则可以将它们用于组合的测试运行。 这样可以加快开发速度或使用远程计算机的特殊资源。\n",
    "+ **--looponfail**：在子进程中重复运行测试。 每次运行之后，pytest都会等到项目中的文件更改后再运行之前失败的测试。 重复此过程，直到所有测试通过，然后再次执行完整运行。\n",
    "+ **跨平台覆盖**：您可以指定不同的Python解释程序或不同的平台，并在所有这些平台上并行运行测试。\n",
    "  "
   ]
  },
  {
   "cell_type": "markdown",
   "metadata": {},
   "source": [
    "### pytest-xdist按照一定的顺序执行"
   ]
  },
  {
   "cell_type": "markdown",
   "metadata": {},
   "source": [
    "pytest-xdist默认是无序执行的，可以通过 --dist 参数来控制顺序\n",
    "\n",
    " --dist=loadscope \n",
    "\n",
    "+ 将按照同一个模块module下的函数和同一个测试类class下的方法来分组，然后将每个测试组发给可以执行的worker，确保同一个组的测试用例在同一个进程中执行\n",
    "+ 目前无法自定义分组，按类class分组优先于按模块module分组\n",
    "\n",
    "--dist=loadfile \n",
    "\n",
    "按照同一个文件名来分组，然后将每个测试组发给可以执行的worker，确保同一个组的测试用例在同一个进程中执行"
   ]
  },
  {
   "cell_type": "markdown",
   "metadata": {},
   "source": [
    "### 如何让scope=session的fixture在test session中仅仅执行一次"
   ]
  },
  {
   "cell_type": "markdown",
   "metadata": {},
   "source": [
    "pytest-xdist是让每个worker进程执行属于自己的测试用例集下的所有测试用例\n",
    "\n",
    "这意味着在不同进程中，不同的测试用例可能会调用同一个scope范围级别较高（例如session）的fixture，该fixture则会被执行多次，这不符合scope=session的预期\n",
    "\n",
    "**解决方案**:虽然pytest-xdist没有内置的支持来确保会话范围的夹具仅执行一次，但是可以通过使用锁定文件进行进程间通信来实现。\n",
    "\n",
    "```python\n",
    "import pytest\n",
    "from filelock import FileLock\n",
    "\n",
    "@pytest.fixture(scope=\"session\")\n",
    "def login():\n",
    "    print(\"====登录功能，返回账号，token===\")\n",
    "    with FileLock(\"session.lock\"):\n",
    "        name = \"testyy\"\n",
    "        token = \"npoi213bn4\"\n",
    "        # web ui自动化\n",
    "        # 声明一个driver，再返回\n",
    "\n",
    "        # 接口自动化\n",
    "        # 发起一个登录请求，将token返回都可以这样写\n",
    "\n",
    "    yield name, token\n",
    "    print(\"====退出登录！！！====\")\n",
    "```\n",
    "\n",
    "+ 下面的示例只需要执行一次login（因为它是只需要执行一次来定义配置选项，等等）\n",
    "+ 当第一次请求这个fixture时，则会利用FileLock仅产生一次fixture数据\n",
    "+ 当其他进程再次请求这个fixture时，则会从文件中读取数据"
   ]
  },
  {
   "cell_type": "markdown",
   "metadata": {},
   "source": [
    "### 实例"
   ]
  },
  {
   "cell_type": "code",
   "execution_count": 210,
   "metadata": {},
   "outputs": [
    {
     "name": "stdout",
     "output_type": "stream",
     "text": [
      "\u001b[01;34mplug/pytest_xdist/\u001b[00m\r\n",
      "├── conftest.py\r\n",
      "├── test_1.py\r\n",
      "├── \u001b[01;34mtest_job\u001b[00m\r\n",
      "│   ├── conftest.py\r\n",
      "│   └── test_case1.py\r\n",
      "├── \u001b[01;34mtest_toutiao\u001b[00m\r\n",
      "│   └── test_case2.py\r\n",
      "├── \u001b[01;34mtest_weibo\u001b[00m\r\n",
      "│   ├── conftest.py\r\n",
      "│   └── test_case3.py\r\n",
      "└── untitled.txt\r\n",
      "\r\n",
      "3 directories, 8 files\r\n"
     ]
    }
   ],
   "source": [
    "\"\"\"测试项目架构\"\"\"\n",
    "!tree plug/pytest_xdist/"
   ]
  },
  {
   "cell_type": "code",
   "execution_count": 211,
   "metadata": {},
   "outputs": [
    {
     "name": "stdout",
     "output_type": "stream",
     "text": [
      "\u001b[1m============================= test session starts ==============================\u001b[0m\n",
      "platform linux -- Python 3.6.9, pytest-5.4.1, py-1.8.1, pluggy-0.13.1\n",
      "rootdir: /home/ubuntu/MySpace/Python/pytest\n",
      "plugins: xdist-1.31.0, rerunfailures-9.0, assume-2.2.1, forked-1.1.3, repeat-0.8.0\n",
      "collected 30 items                                                             \u001b[0m\n",
      "\n",
      "plug/pytest_xdist/test_1.py ====登录功能，返回账号，token===\n",
      "\u001b[31mF\u001b[0m\u001b[31mF\u001b[0m\u001b[31mF\u001b[0m\u001b[31mF\u001b[0m\u001b[31mF\u001b[0m\n",
      "plug/pytest_xdist/test_job/test_case1.py \u001b[31mE\u001b[0m\u001b[31mE\u001b[0m\u001b[31mE\u001b[0m\u001b[31mE\u001b[0m\u001b[31mE\u001b[0m\u001b[31mE\u001b[0m\u001b[31mE\u001b[0m\u001b[31mE\u001b[0m\u001b[31mE\u001b[0m\u001b[31mE\u001b[0m\n",
      "plug/pytest_xdist/test_toutiao/test_case2.py ==没有__init__测试用例，我进入头条了== ('testyy', 'npoi213bn4')\n",
      "\u001b[32m.\u001b[0m==没有__init__测试用例，我进入头条了== ('testyy', 'npoi213bn4')\n",
      "\u001b[32m.\u001b[0m==没有__init__测试用例，我进入头条了== ('testyy', 'npoi213bn4')\n",
      "\u001b[32m.\u001b[0m==没有__init__测试用例，我进入头条了== ('testyy', 'npoi213bn4')\n",
      "\u001b[32m.\u001b[0m==没有__init__测试用例，我进入头条了== ('testyy', 'npoi213bn4')\n",
      "\u001b[32m.\u001b[0m\n",
      "plug/pytest_xdist/test_weibo/test_case3.py &&& 用户 testyy 返回微博首页 &&&\n",
      "查看微博热搜 0\n",
      "\u001b[32m.\u001b[0m&&& 用户 testyy 返回微博首页 &&&\n",
      "查看微博热搜 1\n",
      "\u001b[32m.\u001b[0m&&& 用户 testyy 返回微博首页 &&&\n",
      "查看微博热搜 2\n",
      "\u001b[32m.\u001b[0m&&& 用户 testyy 返回微博首页 &&&\n",
      "查看微博热搜 3\n",
      "\u001b[32m.\u001b[0m&&& 用户 testyy 返回微博首页 &&&\n",
      "查看微博热搜 4\n",
      "\u001b[32m.\u001b[0m&&& 用户 testyy 返回微博首页 &&&\n",
      "查看微博范冰冰 0\n",
      "\u001b[32m.\u001b[0m&&& 用户 testyy 返回微博首页 &&&\n",
      "查看微博范冰冰 1\n",
      "\u001b[32m.\u001b[0m&&& 用户 testyy 返回微博首页 &&&\n",
      "查看微博范冰冰 2\n",
      "\u001b[32m.\u001b[0m&&& 用户 testyy 返回微博首页 &&&\n",
      "查看微博范冰冰 3\n",
      "\u001b[32m.\u001b[0m&&& 用户 testyy 返回微博首页 &&&\n",
      "查看微博范冰冰 4\n",
      "\u001b[32m.\u001b[0m====退出登录！！！====\n",
      "\n",
      "\n",
      "==================================== ERRORS ====================================\n",
      "\u001b[31m\u001b[1m______________________ ERROR at setup of test_case2_01[0] ______________________\u001b[0m\n",
      "file /home/ubuntu/MySpace/Python/pytest/plug/pytest_xdist/test_job/test_case1.py, line 6\n",
      "  @pytest.mark.parametrize(\"n\", list(range(5)))\n",
      "  def test_case2_01(open_51, n):\n",
      "\u001b[31mE       fixture 'open_51' not found\u001b[0m\n",
      "\u001b[31m>       available fixtures: __pytest_repeat_step_number, cache, capfd, capfdbinary, caplog, capsys, capsysbinary, doctest_namespace, login, monkeypatch, pytestconfig, record_property, record_testsuite_property, record_xml_attribute, recwarn, tmp_path, tmp_path_factory, tmpdir, tmpdir_factory, worker_id\u001b[0m\n",
      "\u001b[31m>       use 'pytest --fixtures [testpath]' for help on them.\u001b[0m\n",
      "\n",
      "/home/ubuntu/MySpace/Python/pytest/plug/pytest_xdist/test_job/test_case1.py:6\n",
      "\u001b[31m\u001b[1m______________________ ERROR at setup of test_case2_01[1] ______________________\u001b[0m\n",
      "file /home/ubuntu/MySpace/Python/pytest/plug/pytest_xdist/test_job/test_case1.py, line 6\n",
      "  @pytest.mark.parametrize(\"n\", list(range(5)))\n",
      "  def test_case2_01(open_51, n):\n",
      "\u001b[31mE       fixture 'open_51' not found\u001b[0m\n",
      "\u001b[31m>       available fixtures: __pytest_repeat_step_number, cache, capfd, capfdbinary, caplog, capsys, capsysbinary, doctest_namespace, login, monkeypatch, pytestconfig, record_property, record_testsuite_property, record_xml_attribute, recwarn, tmp_path, tmp_path_factory, tmpdir, tmpdir_factory, worker_id\u001b[0m\n",
      "\u001b[31m>       use 'pytest --fixtures [testpath]' for help on them.\u001b[0m\n",
      "\n",
      "/home/ubuntu/MySpace/Python/pytest/plug/pytest_xdist/test_job/test_case1.py:6\n",
      "\u001b[31m\u001b[1m______________________ ERROR at setup of test_case2_01[2] ______________________\u001b[0m\n",
      "file /home/ubuntu/MySpace/Python/pytest/plug/pytest_xdist/test_job/test_case1.py, line 6\n",
      "  @pytest.mark.parametrize(\"n\", list(range(5)))\n",
      "  def test_case2_01(open_51, n):\n",
      "\u001b[31mE       fixture 'open_51' not found\u001b[0m\n",
      "\u001b[31m>       available fixtures: __pytest_repeat_step_number, cache, capfd, capfdbinary, caplog, capsys, capsysbinary, doctest_namespace, login, monkeypatch, pytestconfig, record_property, record_testsuite_property, record_xml_attribute, recwarn, tmp_path, tmp_path_factory, tmpdir, tmpdir_factory, worker_id\u001b[0m\n",
      "\u001b[31m>       use 'pytest --fixtures [testpath]' for help on them.\u001b[0m\n",
      "\n",
      "/home/ubuntu/MySpace/Python/pytest/plug/pytest_xdist/test_job/test_case1.py:6\n",
      "\u001b[31m\u001b[1m______________________ ERROR at setup of test_case2_01[3] ______________________\u001b[0m\n",
      "file /home/ubuntu/MySpace/Python/pytest/plug/pytest_xdist/test_job/test_case1.py, line 6\n",
      "  @pytest.mark.parametrize(\"n\", list(range(5)))\n",
      "  def test_case2_01(open_51, n):\n",
      "\u001b[31mE       fixture 'open_51' not found\u001b[0m\n",
      "\u001b[31m>       available fixtures: __pytest_repeat_step_number, cache, capfd, capfdbinary, caplog, capsys, capsysbinary, doctest_namespace, login, monkeypatch, pytestconfig, record_property, record_testsuite_property, record_xml_attribute, recwarn, tmp_path, tmp_path_factory, tmpdir, tmpdir_factory, worker_id\u001b[0m\n",
      "\u001b[31m>       use 'pytest --fixtures [testpath]' for help on them.\u001b[0m\n",
      "\n",
      "/home/ubuntu/MySpace/Python/pytest/plug/pytest_xdist/test_job/test_case1.py:6\n",
      "\u001b[31m\u001b[1m______________________ ERROR at setup of test_case2_01[4] ______________________\u001b[0m\n",
      "file /home/ubuntu/MySpace/Python/pytest/plug/pytest_xdist/test_job/test_case1.py, line 6\n",
      "  @pytest.mark.parametrize(\"n\", list(range(5)))\n",
      "  def test_case2_01(open_51, n):\n",
      "\u001b[31mE       fixture 'open_51' not found\u001b[0m\n",
      "\u001b[31m>       available fixtures: __pytest_repeat_step_number, cache, capfd, capfdbinary, caplog, capsys, capsysbinary, doctest_namespace, login, monkeypatch, pytestconfig, record_property, record_testsuite_property, record_xml_attribute, recwarn, tmp_path, tmp_path_factory, tmpdir, tmpdir_factory, worker_id\u001b[0m\n",
      "\u001b[31m>       use 'pytest --fixtures [testpath]' for help on them.\u001b[0m\n",
      "\n",
      "/home/ubuntu/MySpace/Python/pytest/plug/pytest_xdist/test_job/test_case1.py:6\n",
      "\u001b[31m\u001b[1m______________________ ERROR at setup of test_case2_02[0] ______________________\u001b[0m\n",
      "file /home/ubuntu/MySpace/Python/pytest/plug/pytest_xdist/test_job/test_case1.py, line 12\n",
      "  @pytest.mark.parametrize(\"n\", list(range(5)))\n",
      "  def test_case2_02(open_51, n):\n",
      "\u001b[31mE       fixture 'open_51' not found\u001b[0m\n",
      "\u001b[31m>       available fixtures: __pytest_repeat_step_number, cache, capfd, capfdbinary, caplog, capsys, capsysbinary, doctest_namespace, login, monkeypatch, pytestconfig, record_property, record_testsuite_property, record_xml_attribute, recwarn, tmp_path, tmp_path_factory, tmpdir, tmpdir_factory, worker_id\u001b[0m\n",
      "\u001b[31m>       use 'pytest --fixtures [testpath]' for help on them.\u001b[0m\n",
      "\n",
      "/home/ubuntu/MySpace/Python/pytest/plug/pytest_xdist/test_job/test_case1.py:12\n",
      "\u001b[31m\u001b[1m______________________ ERROR at setup of test_case2_02[1] ______________________\u001b[0m\n",
      "file /home/ubuntu/MySpace/Python/pytest/plug/pytest_xdist/test_job/test_case1.py, line 12\n",
      "  @pytest.mark.parametrize(\"n\", list(range(5)))\n",
      "  def test_case2_02(open_51, n):\n",
      "\u001b[31mE       fixture 'open_51' not found\u001b[0m\n",
      "\u001b[31m>       available fixtures: __pytest_repeat_step_number, cache, capfd, capfdbinary, caplog, capsys, capsysbinary, doctest_namespace, login, monkeypatch, pytestconfig, record_property, record_testsuite_property, record_xml_attribute, recwarn, tmp_path, tmp_path_factory, tmpdir, tmpdir_factory, worker_id\u001b[0m\n",
      "\u001b[31m>       use 'pytest --fixtures [testpath]' for help on them.\u001b[0m\n",
      "\n",
      "/home/ubuntu/MySpace/Python/pytest/plug/pytest_xdist/test_job/test_case1.py:12\n",
      "\u001b[31m\u001b[1m______________________ ERROR at setup of test_case2_02[2] ______________________\u001b[0m\n",
      "file /home/ubuntu/MySpace/Python/pytest/plug/pytest_xdist/test_job/test_case1.py, line 12\n",
      "  @pytest.mark.parametrize(\"n\", list(range(5)))\n",
      "  def test_case2_02(open_51, n):\n",
      "\u001b[31mE       fixture 'open_51' not found\u001b[0m\n",
      "\u001b[31m>       available fixtures: __pytest_repeat_step_number, cache, capfd, capfdbinary, caplog, capsys, capsysbinary, doctest_namespace, login, monkeypatch, pytestconfig, record_property, record_testsuite_property, record_xml_attribute, recwarn, tmp_path, tmp_path_factory, tmpdir, tmpdir_factory, worker_id\u001b[0m\n",
      "\u001b[31m>       use 'pytest --fixtures [testpath]' for help on them.\u001b[0m\n",
      "\n",
      "/home/ubuntu/MySpace/Python/pytest/plug/pytest_xdist/test_job/test_case1.py:12\n",
      "\u001b[31m\u001b[1m______________________ ERROR at setup of test_case2_02[3] ______________________\u001b[0m\n",
      "file /home/ubuntu/MySpace/Python/pytest/plug/pytest_xdist/test_job/test_case1.py, line 12\n",
      "  @pytest.mark.parametrize(\"n\", list(range(5)))\n",
      "  def test_case2_02(open_51, n):\n",
      "\u001b[31mE       fixture 'open_51' not found\u001b[0m\n",
      "\u001b[31m>       available fixtures: __pytest_repeat_step_number, cache, capfd, capfdbinary, caplog, capsys, capsysbinary, doctest_namespace, login, monkeypatch, pytestconfig, record_property, record_testsuite_property, record_xml_attribute, recwarn, tmp_path, tmp_path_factory, tmpdir, tmpdir_factory, worker_id\u001b[0m\n",
      "\u001b[31m>       use 'pytest --fixtures [testpath]' for help on them.\u001b[0m\n",
      "\n",
      "/home/ubuntu/MySpace/Python/pytest/plug/pytest_xdist/test_job/test_case1.py:12\n",
      "\u001b[31m\u001b[1m______________________ ERROR at setup of test_case2_02[4] ______________________\u001b[0m\n",
      "file /home/ubuntu/MySpace/Python/pytest/plug/pytest_xdist/test_job/test_case1.py, line 12\n",
      "  @pytest.mark.parametrize(\"n\", list(range(5)))\n",
      "  def test_case2_02(open_51, n):\n",
      "\u001b[31mE       fixture 'open_51' not found\u001b[0m\n",
      "\u001b[31m>       available fixtures: __pytest_repeat_step_number, cache, capfd, capfdbinary, caplog, capsys, capsysbinary, doctest_namespace, login, monkeypatch, pytestconfig, record_property, record_testsuite_property, record_xml_attribute, recwarn, tmp_path, tmp_path_factory, tmpdir, tmpdir_factory, worker_id\u001b[0m\n",
      "\u001b[31m>       use 'pytest --fixtures [testpath]' for help on them.\u001b[0m\n",
      "\n",
      "/home/ubuntu/MySpace/Python/pytest/plug/pytest_xdist/test_job/test_case1.py:12\n",
      "=================================== FAILURES ===================================\n",
      "\u001b[31m\u001b[1m_______________________________ test_get_info[0] _______________________________\u001b[0m\n",
      "\n",
      "login = ('testyy', 'npoi213bn4'), n = 0\n",
      "\n"
     ]
    },
    {
     "name": "stdout",
     "output_type": "stream",
     "text": [
      "    \u001b[37m@pytest\u001b[39;49;00m.mark.parametrize(\u001b[33m\"\u001b[39;49;00m\u001b[33mn\u001b[39;49;00m\u001b[33m\"\u001b[39;49;00m, \u001b[96mlist\u001b[39;49;00m(\u001b[96mrange\u001b[39;49;00m(\u001b[94m5\u001b[39;49;00m)))\n",
      "    \u001b[94mdef\u001b[39;49;00m \u001b[92mtest_get_info\u001b[39;49;00m(login, n):\n",
      ">       sleep(\u001b[94m1\u001b[39;49;00m)\n",
      "\u001b[1m\u001b[31mE       NameError: name 'sleep' is not defined\u001b[0m\n",
      "\n",
      "\u001b[1m\u001b[31mplug/pytest_xdist/test_1.py\u001b[0m:6: NameError\n",
      "\u001b[31m\u001b[1m_______________________________ test_get_info[1] _______________________________\u001b[0m\n",
      "\n",
      "login = ('testyy', 'npoi213bn4'), n = 1\n",
      "\n",
      "    \u001b[37m@pytest\u001b[39;49;00m.mark.parametrize(\u001b[33m\"\u001b[39;49;00m\u001b[33mn\u001b[39;49;00m\u001b[33m\"\u001b[39;49;00m, \u001b[96mlist\u001b[39;49;00m(\u001b[96mrange\u001b[39;49;00m(\u001b[94m5\u001b[39;49;00m)))\n",
      "    \u001b[94mdef\u001b[39;49;00m \u001b[92mtest_get_info\u001b[39;49;00m(login, n):\n",
      ">       sleep(\u001b[94m1\u001b[39;49;00m)\n",
      "\u001b[1m\u001b[31mE       NameError: name 'sleep' is not defined\u001b[0m\n",
      "\n",
      "\u001b[1m\u001b[31mplug/pytest_xdist/test_1.py\u001b[0m:6: NameError\n",
      "\u001b[31m\u001b[1m_______________________________ test_get_info[2] _______________________________\u001b[0m\n",
      "\n",
      "login = ('testyy', 'npoi213bn4'), n = 2\n",
      "\n",
      "    \u001b[37m@pytest\u001b[39;49;00m.mark.parametrize(\u001b[33m\"\u001b[39;49;00m\u001b[33mn\u001b[39;49;00m\u001b[33m\"\u001b[39;49;00m, \u001b[96mlist\u001b[39;49;00m(\u001b[96mrange\u001b[39;49;00m(\u001b[94m5\u001b[39;49;00m)))\n",
      "    \u001b[94mdef\u001b[39;49;00m \u001b[92mtest_get_info\u001b[39;49;00m(login, n):\n",
      ">       sleep(\u001b[94m1\u001b[39;49;00m)\n",
      "\u001b[1m\u001b[31mE       NameError: name 'sleep' is not defined\u001b[0m\n",
      "\n",
      "\u001b[1m\u001b[31mplug/pytest_xdist/test_1.py\u001b[0m:6: NameError\n",
      "\u001b[31m\u001b[1m_______________________________ test_get_info[3] _______________________________\u001b[0m\n",
      "\n",
      "login = ('testyy', 'npoi213bn4'), n = 3\n",
      "\n",
      "    \u001b[37m@pytest\u001b[39;49;00m.mark.parametrize(\u001b[33m\"\u001b[39;49;00m\u001b[33mn\u001b[39;49;00m\u001b[33m\"\u001b[39;49;00m, \u001b[96mlist\u001b[39;49;00m(\u001b[96mrange\u001b[39;49;00m(\u001b[94m5\u001b[39;49;00m)))\n",
      "    \u001b[94mdef\u001b[39;49;00m \u001b[92mtest_get_info\u001b[39;49;00m(login, n):\n",
      ">       sleep(\u001b[94m1\u001b[39;49;00m)\n",
      "\u001b[1m\u001b[31mE       NameError: name 'sleep' is not defined\u001b[0m\n",
      "\n",
      "\u001b[1m\u001b[31mplug/pytest_xdist/test_1.py\u001b[0m:6: NameError\n",
      "\u001b[31m\u001b[1m_______________________________ test_get_info[4] _______________________________\u001b[0m\n",
      "\n",
      "login = ('testyy', 'npoi213bn4'), n = 4\n",
      "\n",
      "    \u001b[37m@pytest\u001b[39;49;00m.mark.parametrize(\u001b[33m\"\u001b[39;49;00m\u001b[33mn\u001b[39;49;00m\u001b[33m\"\u001b[39;49;00m, \u001b[96mlist\u001b[39;49;00m(\u001b[96mrange\u001b[39;49;00m(\u001b[94m5\u001b[39;49;00m)))\n",
      "    \u001b[94mdef\u001b[39;49;00m \u001b[92mtest_get_info\u001b[39;49;00m(login, n):\n",
      ">       sleep(\u001b[94m1\u001b[39;49;00m)\n",
      "\u001b[1m\u001b[31mE       NameError: name 'sleep' is not defined\u001b[0m\n",
      "\n",
      "\u001b[1m\u001b[31mplug/pytest_xdist/test_1.py\u001b[0m:6: NameError\n",
      "=========================== short test summary info ============================\n",
      "FAILED plug/pytest_xdist/test_1.py::test_get_info[0] - NameError: name 'sleep...\n",
      "FAILED plug/pytest_xdist/test_1.py::test_get_info[1] - NameError: name 'sleep...\n",
      "FAILED plug/pytest_xdist/test_1.py::test_get_info[2] - NameError: name 'sleep...\n",
      "FAILED plug/pytest_xdist/test_1.py::test_get_info[3] - NameError: name 'sleep...\n",
      "FAILED plug/pytest_xdist/test_1.py::test_get_info[4] - NameError: name 'sleep...\n",
      "ERROR plug/pytest_xdist/test_job/test_case1.py::test_case2_01[0]\n",
      "ERROR plug/pytest_xdist/test_job/test_case1.py::test_case2_01[1]\n",
      "ERROR plug/pytest_xdist/test_job/test_case1.py::test_case2_01[2]\n",
      "ERROR plug/pytest_xdist/test_job/test_case1.py::test_case2_01[3]\n",
      "ERROR plug/pytest_xdist/test_job/test_case1.py::test_case2_01[4]\n",
      "ERROR plug/pytest_xdist/test_job/test_case1.py::test_case2_02[0]\n",
      "ERROR plug/pytest_xdist/test_job/test_case1.py::test_case2_02[1]\n",
      "ERROR plug/pytest_xdist/test_job/test_case1.py::test_case2_02[2]\n",
      "ERROR plug/pytest_xdist/test_job/test_case1.py::test_case2_02[3]\n",
      "ERROR plug/pytest_xdist/test_job/test_case1.py::test_case2_02[4]\n",
      "\u001b[31m=================== \u001b[31m\u001b[1m5 failed\u001b[0m, \u001b[32m15 passed\u001b[0m, \u001b[31m\u001b[1m10 errors\u001b[0m\u001b[31m in 15.27s\u001b[0m\u001b[31m ===================\u001b[0m\n"
     ]
    }
   ],
   "source": [
    "\"\"\"不使用分布式执行测试用例\"\"\"\n",
    "!pytest -s plug/pytest_xdist/"
   ]
  },
  {
   "cell_type": "code",
   "execution_count": 213,
   "metadata": {},
   "outputs": [
    {
     "name": "stdout",
     "output_type": "stream",
     "text": [
      "\u001b[1m============================= test session starts ==============================\u001b[0m\n",
      "platform linux -- Python 3.6.9, pytest-5.4.1, py-1.8.1, pluggy-0.13.1\n",
      "rootdir: /home/ubuntu/MySpace/Python/pytest\n",
      "plugins: xdist-1.31.0, rerunfailures-9.0, assume-2.2.1, forked-1.1.3, repeat-0.8.0\n",
      "gw0 [30]\u001b[0mm\u001b[1m\u001b[1m\n",
      "\u001b[31mF\u001b[0m\u001b[31mF\u001b[0m\u001b[31mF\u001b[0m\u001b[31mF\u001b[0m\u001b[31mF\u001b[0m\u001b[31mE\u001b[0m\u001b[31mE\u001b[0m\u001b[31mE\u001b[0m\u001b[31mE\u001b[0m\u001b[31mE\u001b[0m\u001b[31mE\u001b[0m\u001b[31mE\u001b[0m\u001b[31mE\u001b[0m\u001b[31mE\u001b[0m\u001b[31mE\u001b[0m\u001b[32m.\u001b[0m\u001b[32m.\u001b[0m\u001b[32m.\u001b[0m\u001b[32m.\u001b[0m\u001b[32m.\u001b[0m\u001b[32m.\u001b[0m\u001b[32m.\u001b[0m\u001b[32m.\u001b[0m\u001b[32m.\u001b[0m\u001b[32m.\u001b[0m\u001b[32m.\u001b[0m\u001b[32m.\u001b[0m\u001b[32m.\u001b[0m\u001b[32m.\u001b[0m\u001b[32m.\u001b[0m\n",
      "==================================== ERRORS ====================================\n",
      "\u001b[31m\u001b[1m______________________ ERROR at setup of test_case2_01[0] ______________________\u001b[0m\n",
      "[gw0] linux -- Python 3.6.9 /usr/bin/python3\n",
      "file /home/ubuntu/MySpace/Python/pytest/plug/pytest_xdist/test_job/test_case1.py, line 6\n",
      "  @pytest.mark.parametrize(\"n\", list(range(5)))\n",
      "  def test_case2_01(open_51, n):\n",
      "E       fixture 'open_51' not found\n",
      ">       available fixtures: __pytest_repeat_step_number, cache, capfd, capfdbinary, caplog, capsys, capsysbinary, doctest_namespace, login, monkeypatch, pytestconfig, record_property, record_testsuite_property, record_xml_attribute, recwarn, tmp_path, tmp_path_factory, tmpdir, tmpdir_factory, worker_id\n",
      ">       use 'pytest --fixtures [testpath]' for help on them.\n",
      "\n",
      "/home/ubuntu/MySpace/Python/pytest/plug/pytest_xdist/test_job/test_case1.py:6\n",
      "\u001b[31m\u001b[1m______________________ ERROR at setup of test_case2_01[1] ______________________\u001b[0m\n",
      "[gw0] linux -- Python 3.6.9 /usr/bin/python3\n",
      "file /home/ubuntu/MySpace/Python/pytest/plug/pytest_xdist/test_job/test_case1.py, line 6\n",
      "  @pytest.mark.parametrize(\"n\", list(range(5)))\n",
      "  def test_case2_01(open_51, n):\n",
      "E       fixture 'open_51' not found\n",
      ">       available fixtures: __pytest_repeat_step_number, cache, capfd, capfdbinary, caplog, capsys, capsysbinary, doctest_namespace, login, monkeypatch, pytestconfig, record_property, record_testsuite_property, record_xml_attribute, recwarn, tmp_path, tmp_path_factory, tmpdir, tmpdir_factory, worker_id\n",
      ">       use 'pytest --fixtures [testpath]' for help on them.\n",
      "\n",
      "/home/ubuntu/MySpace/Python/pytest/plug/pytest_xdist/test_job/test_case1.py:6\n",
      "\u001b[31m\u001b[1m______________________ ERROR at setup of test_case2_01[2] ______________________\u001b[0m\n",
      "[gw0] linux -- Python 3.6.9 /usr/bin/python3\n",
      "file /home/ubuntu/MySpace/Python/pytest/plug/pytest_xdist/test_job/test_case1.py, line 6\n",
      "  @pytest.mark.parametrize(\"n\", list(range(5)))\n",
      "  def test_case2_01(open_51, n):\n",
      "E       fixture 'open_51' not found\n",
      ">       available fixtures: __pytest_repeat_step_number, cache, capfd, capfdbinary, caplog, capsys, capsysbinary, doctest_namespace, login, monkeypatch, pytestconfig, record_property, record_testsuite_property, record_xml_attribute, recwarn, tmp_path, tmp_path_factory, tmpdir, tmpdir_factory, worker_id\n",
      ">       use 'pytest --fixtures [testpath]' for help on them.\n",
      "\n",
      "/home/ubuntu/MySpace/Python/pytest/plug/pytest_xdist/test_job/test_case1.py:6\n",
      "\u001b[31m\u001b[1m______________________ ERROR at setup of test_case2_01[3] ______________________\u001b[0m\n",
      "[gw0] linux -- Python 3.6.9 /usr/bin/python3\n",
      "file /home/ubuntu/MySpace/Python/pytest/plug/pytest_xdist/test_job/test_case1.py, line 6\n",
      "  @pytest.mark.parametrize(\"n\", list(range(5)))\n",
      "  def test_case2_01(open_51, n):\n",
      "E       fixture 'open_51' not found\n",
      ">       available fixtures: __pytest_repeat_step_number, cache, capfd, capfdbinary, caplog, capsys, capsysbinary, doctest_namespace, login, monkeypatch, pytestconfig, record_property, record_testsuite_property, record_xml_attribute, recwarn, tmp_path, tmp_path_factory, tmpdir, tmpdir_factory, worker_id\n",
      ">       use 'pytest --fixtures [testpath]' for help on them.\n",
      "\n",
      "/home/ubuntu/MySpace/Python/pytest/plug/pytest_xdist/test_job/test_case1.py:6\n",
      "\u001b[31m\u001b[1m______________________ ERROR at setup of test_case2_01[4] ______________________\u001b[0m\n",
      "[gw0] linux -- Python 3.6.9 /usr/bin/python3\n",
      "file /home/ubuntu/MySpace/Python/pytest/plug/pytest_xdist/test_job/test_case1.py, line 6\n",
      "  @pytest.mark.parametrize(\"n\", list(range(5)))\n",
      "  def test_case2_01(open_51, n):\n",
      "E       fixture 'open_51' not found\n",
      ">       available fixtures: __pytest_repeat_step_number, cache, capfd, capfdbinary, caplog, capsys, capsysbinary, doctest_namespace, login, monkeypatch, pytestconfig, record_property, record_testsuite_property, record_xml_attribute, recwarn, tmp_path, tmp_path_factory, tmpdir, tmpdir_factory, worker_id\n",
      ">       use 'pytest --fixtures [testpath]' for help on them.\n",
      "\n",
      "/home/ubuntu/MySpace/Python/pytest/plug/pytest_xdist/test_job/test_case1.py:6\n",
      "\u001b[31m\u001b[1m______________________ ERROR at setup of test_case2_02[0] ______________________\u001b[0m\n",
      "[gw0] linux -- Python 3.6.9 /usr/bin/python3\n",
      "file /home/ubuntu/MySpace/Python/pytest/plug/pytest_xdist/test_job/test_case1.py, line 12\n",
      "  @pytest.mark.parametrize(\"n\", list(range(5)))\n",
      "  def test_case2_02(open_51, n):\n",
      "E       fixture 'open_51' not found\n",
      ">       available fixtures: __pytest_repeat_step_number, cache, capfd, capfdbinary, caplog, capsys, capsysbinary, doctest_namespace, login, monkeypatch, pytestconfig, record_property, record_testsuite_property, record_xml_attribute, recwarn, tmp_path, tmp_path_factory, tmpdir, tmpdir_factory, worker_id\n",
      ">       use 'pytest --fixtures [testpath]' for help on them.\n",
      "\n",
      "/home/ubuntu/MySpace/Python/pytest/plug/pytest_xdist/test_job/test_case1.py:12\n",
      "\u001b[31m\u001b[1m______________________ ERROR at setup of test_case2_02[1] ______________________\u001b[0m\n",
      "[gw0] linux -- Python 3.6.9 /usr/bin/python3\n",
      "file /home/ubuntu/MySpace/Python/pytest/plug/pytest_xdist/test_job/test_case1.py, line 12\n",
      "  @pytest.mark.parametrize(\"n\", list(range(5)))\n",
      "  def test_case2_02(open_51, n):\n",
      "E       fixture 'open_51' not found\n",
      ">       available fixtures: __pytest_repeat_step_number, cache, capfd, capfdbinary, caplog, capsys, capsysbinary, doctest_namespace, login, monkeypatch, pytestconfig, record_property, record_testsuite_property, record_xml_attribute, recwarn, tmp_path, tmp_path_factory, tmpdir, tmpdir_factory, worker_id\n",
      ">       use 'pytest --fixtures [testpath]' for help on them.\n",
      "\n",
      "/home/ubuntu/MySpace/Python/pytest/plug/pytest_xdist/test_job/test_case1.py:12\n",
      "\u001b[31m\u001b[1m______________________ ERROR at setup of test_case2_02[2] ______________________\u001b[0m\n",
      "[gw0] linux -- Python 3.6.9 /usr/bin/python3\n",
      "file /home/ubuntu/MySpace/Python/pytest/plug/pytest_xdist/test_job/test_case1.py, line 12\n",
      "  @pytest.mark.parametrize(\"n\", list(range(5)))\n",
      "  def test_case2_02(open_51, n):\n",
      "E       fixture 'open_51' not found\n",
      ">       available fixtures: __pytest_repeat_step_number, cache, capfd, capfdbinary, caplog, capsys, capsysbinary, doctest_namespace, login, monkeypatch, pytestconfig, record_property, record_testsuite_property, record_xml_attribute, recwarn, tmp_path, tmp_path_factory, tmpdir, tmpdir_factory, worker_id\n",
      ">       use 'pytest --fixtures [testpath]' for help on them.\n",
      "\n",
      "/home/ubuntu/MySpace/Python/pytest/plug/pytest_xdist/test_job/test_case1.py:12\n",
      "\u001b[31m\u001b[1m______________________ ERROR at setup of test_case2_02[3] ______________________\u001b[0m\n",
      "[gw0] linux -- Python 3.6.9 /usr/bin/python3\n",
      "file /home/ubuntu/MySpace/Python/pytest/plug/pytest_xdist/test_job/test_case1.py, line 12\n",
      "  @pytest.mark.parametrize(\"n\", list(range(5)))\n",
      "  def test_case2_02(open_51, n):\n",
      "E       fixture 'open_51' not found\n",
      ">       available fixtures: __pytest_repeat_step_number, cache, capfd, capfdbinary, caplog, capsys, capsysbinary, doctest_namespace, login, monkeypatch, pytestconfig, record_property, record_testsuite_property, record_xml_attribute, recwarn, tmp_path, tmp_path_factory, tmpdir, tmpdir_factory, worker_id\n",
      ">       use 'pytest --fixtures [testpath]' for help on them.\n",
      "\n",
      "/home/ubuntu/MySpace/Python/pytest/plug/pytest_xdist/test_job/test_case1.py:12\n",
      "\u001b[31m\u001b[1m______________________ ERROR at setup of test_case2_02[4] ______________________\u001b[0m\n",
      "[gw0] linux -- Python 3.6.9 /usr/bin/python3\n",
      "file /home/ubuntu/MySpace/Python/pytest/plug/pytest_xdist/test_job/test_case1.py, line 12\n",
      "  @pytest.mark.parametrize(\"n\", list(range(5)))\n",
      "  def test_case2_02(open_51, n):\n",
      "E       fixture 'open_51' not found\n",
      ">       available fixtures: __pytest_repeat_step_number, cache, capfd, capfdbinary, caplog, capsys, capsysbinary, doctest_namespace, login, monkeypatch, pytestconfig, record_property, record_testsuite_property, record_xml_attribute, recwarn, tmp_path, tmp_path_factory, tmpdir, tmpdir_factory, worker_id\n",
      ">       use 'pytest --fixtures [testpath]' for help on them.\n",
      "\n",
      "/home/ubuntu/MySpace/Python/pytest/plug/pytest_xdist/test_job/test_case1.py:12\n",
      "=================================== FAILURES ===================================\n",
      "\u001b[31m\u001b[1m_______________________________ test_get_info[0] _______________________________\u001b[0m\n",
      "[gw0] linux -- Python 3.6.9 /usr/bin/python3\n",
      "\n",
      "login = ('testyy', 'npoi213bn4'), n = 0\n",
      "\n"
     ]
    },
    {
     "name": "stdout",
     "output_type": "stream",
     "text": [
      "    \u001b[37m@pytest\u001b[39;49;00m.mark.parametrize(\u001b[33m\"\u001b[39;49;00m\u001b[33mn\u001b[39;49;00m\u001b[33m\"\u001b[39;49;00m, \u001b[96mlist\u001b[39;49;00m(\u001b[96mrange\u001b[39;49;00m(\u001b[94m5\u001b[39;49;00m)))\r\n",
      "    \u001b[94mdef\u001b[39;49;00m \u001b[92mtest_get_info\u001b[39;49;00m(login, n):\r\n",
      ">       sleep(\u001b[94m1\u001b[39;49;00m)\r\n",
      "\u001b[1m\u001b[31mE       NameError: name 'sleep' is not defined\u001b[0m\r\n",
      "\r\n",
      "\u001b[1m\u001b[31mplug/pytest_xdist/test_1.py\u001b[0m:6: NameError\r\n",
      "\u001b[31m\u001b[1m_______________________________ test_get_info[1] _______________________________\u001b[0m\r\n",
      "[gw0] linux -- Python 3.6.9 /usr/bin/python3\r\n",
      "\r\n",
      "login = ('testyy', 'npoi213bn4'), n = 1\r\n",
      "\r\n",
      "    \u001b[37m@pytest\u001b[39;49;00m.mark.parametrize(\u001b[33m\"\u001b[39;49;00m\u001b[33mn\u001b[39;49;00m\u001b[33m\"\u001b[39;49;00m, \u001b[96mlist\u001b[39;49;00m(\u001b[96mrange\u001b[39;49;00m(\u001b[94m5\u001b[39;49;00m)))\r\n",
      "    \u001b[94mdef\u001b[39;49;00m \u001b[92mtest_get_info\u001b[39;49;00m(login, n):\r\n",
      ">       sleep(\u001b[94m1\u001b[39;49;00m)\r\n",
      "\u001b[1m\u001b[31mE       NameError: name 'sleep' is not defined\u001b[0m\r\n",
      "\r\n",
      "\u001b[1m\u001b[31mplug/pytest_xdist/test_1.py\u001b[0m:6: NameError\r\n",
      "\u001b[31m\u001b[1m_______________________________ test_get_info[2] _______________________________\u001b[0m\r\n",
      "[gw0] linux -- Python 3.6.9 /usr/bin/python3\r\n",
      "\r\n",
      "login = ('testyy', 'npoi213bn4'), n = 2\r\n",
      "\r\n",
      "    \u001b[37m@pytest\u001b[39;49;00m.mark.parametrize(\u001b[33m\"\u001b[39;49;00m\u001b[33mn\u001b[39;49;00m\u001b[33m\"\u001b[39;49;00m, \u001b[96mlist\u001b[39;49;00m(\u001b[96mrange\u001b[39;49;00m(\u001b[94m5\u001b[39;49;00m)))\r\n",
      "    \u001b[94mdef\u001b[39;49;00m \u001b[92mtest_get_info\u001b[39;49;00m(login, n):\r\n",
      ">       sleep(\u001b[94m1\u001b[39;49;00m)\r\n",
      "\u001b[1m\u001b[31mE       NameError: name 'sleep' is not defined\u001b[0m\r\n",
      "\r\n",
      "\u001b[1m\u001b[31mplug/pytest_xdist/test_1.py\u001b[0m:6: NameError\r\n",
      "\u001b[31m\u001b[1m_______________________________ test_get_info[3] _______________________________\u001b[0m\r\n",
      "[gw0] linux -- Python 3.6.9 /usr/bin/python3\r\n",
      "\r\n",
      "login = ('testyy', 'npoi213bn4'), n = 3\r\n",
      "\r\n",
      "    \u001b[37m@pytest\u001b[39;49;00m.mark.parametrize(\u001b[33m\"\u001b[39;49;00m\u001b[33mn\u001b[39;49;00m\u001b[33m\"\u001b[39;49;00m, \u001b[96mlist\u001b[39;49;00m(\u001b[96mrange\u001b[39;49;00m(\u001b[94m5\u001b[39;49;00m)))\r\n",
      "    \u001b[94mdef\u001b[39;49;00m \u001b[92mtest_get_info\u001b[39;49;00m(login, n):\r\n",
      ">       sleep(\u001b[94m1\u001b[39;49;00m)\r\n",
      "\u001b[1m\u001b[31mE       NameError: name 'sleep' is not defined\u001b[0m\r\n",
      "\r\n",
      "\u001b[1m\u001b[31mplug/pytest_xdist/test_1.py\u001b[0m:6: NameError\r\n",
      "\u001b[31m\u001b[1m_______________________________ test_get_info[4] _______________________________\u001b[0m\r\n",
      "[gw0] linux -- Python 3.6.9 /usr/bin/python3\r\n",
      "\r\n",
      "login = ('testyy', 'npoi213bn4'), n = 4\r\n",
      "\r\n",
      "    \u001b[37m@pytest\u001b[39;49;00m.mark.parametrize(\u001b[33m\"\u001b[39;49;00m\u001b[33mn\u001b[39;49;00m\u001b[33m\"\u001b[39;49;00m, \u001b[96mlist\u001b[39;49;00m(\u001b[96mrange\u001b[39;49;00m(\u001b[94m5\u001b[39;49;00m)))\r\n",
      "    \u001b[94mdef\u001b[39;49;00m \u001b[92mtest_get_info\u001b[39;49;00m(login, n):\r\n",
      ">       sleep(\u001b[94m1\u001b[39;49;00m)\r\n",
      "\u001b[1m\u001b[31mE       NameError: name 'sleep' is not defined\u001b[0m\r\n",
      "\r\n",
      "\u001b[1m\u001b[31mplug/pytest_xdist/test_1.py\u001b[0m:6: NameError\r\n",
      "=========================== short test summary info ============================\r\n",
      "FAILED plug/pytest_xdist/test_1.py::test_get_info[0] - NameError: name 'sleep...\r\n",
      "FAILED plug/pytest_xdist/test_1.py::test_get_info[1] - NameError: name 'sleep...\r\n",
      "FAILED plug/pytest_xdist/test_1.py::test_get_info[2] - NameError: name 'sleep...\r\n",
      "FAILED plug/pytest_xdist/test_1.py::test_get_info[3] - NameError: name 'sleep...\r\n",
      "FAILED plug/pytest_xdist/test_1.py::test_get_info[4] - NameError: name 'sleep...\r\n",
      "ERROR plug/pytest_xdist/test_job/test_case1.py::test_case2_01[0]\r\n",
      "ERROR plug/pytest_xdist/test_job/test_case1.py::test_case2_01[1]\r\n",
      "ERROR plug/pytest_xdist/test_job/test_case1.py::test_case2_01[2]\r\n",
      "ERROR plug/pytest_xdist/test_job/test_case1.py::test_case2_01[3]\r\n",
      "ERROR plug/pytest_xdist/test_job/test_case1.py::test_case2_01[4]\r\n",
      "ERROR plug/pytest_xdist/test_job/test_case1.py::test_case2_02[0]\r\n",
      "ERROR plug/pytest_xdist/test_job/test_case1.py::test_case2_02[1]\r\n",
      "ERROR plug/pytest_xdist/test_job/test_case1.py::test_case2_02[2]\r\n",
      "ERROR plug/pytest_xdist/test_job/test_case1.py::test_case2_02[3]\r\n",
      "ERROR plug/pytest_xdist/test_job/test_case1.py::test_case2_02[4]\r\n",
      "\u001b[31m=================== \u001b[31m\u001b[1m5 failed\u001b[0m, \u001b[32m15 passed\u001b[0m, \u001b[31m\u001b[1m10 errors\u001b[0m\u001b[31m in 15.96s\u001b[0m\u001b[31m ===================\u001b[0m\r\n"
     ]
    }
   ],
   "source": [
    "\"\"\"分布式用例执行\"\"\"\n",
    "!pytest -s -n auto plug/pytest_xdist/"
   ]
  },
  {
   "cell_type": "code",
   "execution_count": 215,
   "metadata": {},
   "outputs": [
    {
     "name": "stdout",
     "output_type": "stream",
     "text": [
      "\u001b[1m============================= test session starts ==============================\u001b[0m\n",
      "platform linux -- Python 3.6.9, pytest-5.4.1, py-1.8.1, pluggy-0.13.1\n",
      "rootdir: /home/ubuntu/MySpace/Python/pytest\n",
      "plugins: xdist-1.31.0, rerunfailures-9.0, assume-2.2.1, forked-1.1.3, repeat-0.8.0\n",
      "gw0 [30] / gw1 [30]\u001b[0m1m\u001b[1m\u001b[1m\u001b[1m\n",
      "\u001b[31mF\u001b[0m\u001b[31mF\u001b[0m\u001b[31mF\u001b[0m\u001b[31mF\u001b[0m\u001b[31mF\u001b[0m\u001b[31mE\u001b[0m\u001b[31mE\u001b[0m\u001b[31mE\u001b[0m\u001b[31mE\u001b[0m\u001b[31mE\u001b[0m\u001b[31mE\u001b[0m\u001b[31mE\u001b[0m\u001b[31mE\u001b[0m\u001b[31mE\u001b[0m\u001b[31mE\u001b[0m\u001b[32m.\u001b[0m\u001b[32m.\u001b[0m\u001b[32m.\u001b[0m\u001b[32m.\u001b[0m\u001b[32m.\u001b[0m\u001b[32m.\u001b[0m\u001b[32m.\u001b[0m\u001b[32m.\u001b[0m\u001b[32m.\u001b[0m\u001b[32m.\u001b[0m\u001b[32m.\u001b[0m\u001b[32m.\u001b[0m\u001b[32m.\u001b[0m\u001b[32m.\u001b[0m\u001b[32m.\u001b[0m\n",
      "==================================== ERRORS ====================================\n",
      "\u001b[31m\u001b[1m______________________ ERROR at setup of test_case2_01[0] ______________________\u001b[0m\n",
      "[gw1] linux -- Python 3.6.9 /usr/bin/python3\n",
      "file /home/ubuntu/MySpace/Python/pytest/plug/pytest_xdist/test_job/test_case1.py, line 6\n",
      "  @pytest.mark.parametrize(\"n\", list(range(5)))\n",
      "  def test_case2_01(open_51, n):\n",
      "E       fixture 'open_51' not found\n",
      ">       available fixtures: __pytest_repeat_step_number, cache, capfd, capfdbinary, caplog, capsys, capsysbinary, doctest_namespace, login, monkeypatch, pytestconfig, record_property, record_testsuite_property, record_xml_attribute, recwarn, tmp_path, tmp_path_factory, tmpdir, tmpdir_factory, worker_id\n",
      ">       use 'pytest --fixtures [testpath]' for help on them.\n",
      "\n",
      "/home/ubuntu/MySpace/Python/pytest/plug/pytest_xdist/test_job/test_case1.py:6\n",
      "\u001b[31m\u001b[1m______________________ ERROR at setup of test_case2_01[1] ______________________\u001b[0m\n",
      "[gw0] linux -- Python 3.6.9 /usr/bin/python3\n",
      "file /home/ubuntu/MySpace/Python/pytest/plug/pytest_xdist/test_job/test_case1.py, line 6\n",
      "  @pytest.mark.parametrize(\"n\", list(range(5)))\n",
      "  def test_case2_01(open_51, n):\n",
      "E       fixture 'open_51' not found\n",
      ">       available fixtures: __pytest_repeat_step_number, cache, capfd, capfdbinary, caplog, capsys, capsysbinary, doctest_namespace, login, monkeypatch, pytestconfig, record_property, record_testsuite_property, record_xml_attribute, recwarn, tmp_path, tmp_path_factory, tmpdir, tmpdir_factory, worker_id\n",
      ">       use 'pytest --fixtures [testpath]' for help on them.\n",
      "\n",
      "/home/ubuntu/MySpace/Python/pytest/plug/pytest_xdist/test_job/test_case1.py:6\n",
      "\u001b[31m\u001b[1m______________________ ERROR at setup of test_case2_01[2] ______________________\u001b[0m\n",
      "[gw1] linux -- Python 3.6.9 /usr/bin/python3\n",
      "file /home/ubuntu/MySpace/Python/pytest/plug/pytest_xdist/test_job/test_case1.py, line 6\n",
      "  @pytest.mark.parametrize(\"n\", list(range(5)))\n",
      "  def test_case2_01(open_51, n):\n",
      "E       fixture 'open_51' not found\n",
      ">       available fixtures: __pytest_repeat_step_number, cache, capfd, capfdbinary, caplog, capsys, capsysbinary, doctest_namespace, login, monkeypatch, pytestconfig, record_property, record_testsuite_property, record_xml_attribute, recwarn, tmp_path, tmp_path_factory, tmpdir, tmpdir_factory, worker_id\n",
      ">       use 'pytest --fixtures [testpath]' for help on them.\n",
      "\n",
      "/home/ubuntu/MySpace/Python/pytest/plug/pytest_xdist/test_job/test_case1.py:6\n",
      "\u001b[31m\u001b[1m______________________ ERROR at setup of test_case2_02[1] ______________________\u001b[0m\n",
      "[gw0] linux -- Python 3.6.9 /usr/bin/python3\n",
      "file /home/ubuntu/MySpace/Python/pytest/plug/pytest_xdist/test_job/test_case1.py, line 12\n",
      "  @pytest.mark.parametrize(\"n\", list(range(5)))\n",
      "  def test_case2_02(open_51, n):\n",
      "E       fixture 'open_51' not found\n",
      ">       available fixtures: __pytest_repeat_step_number, cache, capfd, capfdbinary, caplog, capsys, capsysbinary, doctest_namespace, login, monkeypatch, pytestconfig, record_property, record_testsuite_property, record_xml_attribute, recwarn, tmp_path, tmp_path_factory, tmpdir, tmpdir_factory, worker_id\n",
      ">       use 'pytest --fixtures [testpath]' for help on them.\n",
      "\n",
      "/home/ubuntu/MySpace/Python/pytest/plug/pytest_xdist/test_job/test_case1.py:12\n",
      "\u001b[31m\u001b[1m______________________ ERROR at setup of test_case2_01[3] ______________________\u001b[0m\n",
      "[gw1] linux -- Python 3.6.9 /usr/bin/python3\n",
      "file /home/ubuntu/MySpace/Python/pytest/plug/pytest_xdist/test_job/test_case1.py, line 6\n",
      "  @pytest.mark.parametrize(\"n\", list(range(5)))\n",
      "  def test_case2_01(open_51, n):\n",
      "E       fixture 'open_51' not found\n",
      ">       available fixtures: __pytest_repeat_step_number, cache, capfd, capfdbinary, caplog, capsys, capsysbinary, doctest_namespace, login, monkeypatch, pytestconfig, record_property, record_testsuite_property, record_xml_attribute, recwarn, tmp_path, tmp_path_factory, tmpdir, tmpdir_factory, worker_id\n",
      ">       use 'pytest --fixtures [testpath]' for help on them.\n",
      "\n",
      "/home/ubuntu/MySpace/Python/pytest/plug/pytest_xdist/test_job/test_case1.py:6\n",
      "\u001b[31m\u001b[1m______________________ ERROR at setup of test_case2_02[2] ______________________\u001b[0m\n",
      "[gw0] linux -- Python 3.6.9 /usr/bin/python3\n",
      "file /home/ubuntu/MySpace/Python/pytest/plug/pytest_xdist/test_job/test_case1.py, line 12\n",
      "  @pytest.mark.parametrize(\"n\", list(range(5)))\n",
      "  def test_case2_02(open_51, n):\n",
      "E       fixture 'open_51' not found\n",
      ">       available fixtures: __pytest_repeat_step_number, cache, capfd, capfdbinary, caplog, capsys, capsysbinary, doctest_namespace, login, monkeypatch, pytestconfig, record_property, record_testsuite_property, record_xml_attribute, recwarn, tmp_path, tmp_path_factory, tmpdir, tmpdir_factory, worker_id\n",
      ">       use 'pytest --fixtures [testpath]' for help on them.\n",
      "\n",
      "/home/ubuntu/MySpace/Python/pytest/plug/pytest_xdist/test_job/test_case1.py:12\n",
      "\u001b[31m\u001b[1m______________________ ERROR at setup of test_case2_01[4] ______________________\u001b[0m\n",
      "[gw1] linux -- Python 3.6.9 /usr/bin/python3\n",
      "file /home/ubuntu/MySpace/Python/pytest/plug/pytest_xdist/test_job/test_case1.py, line 6\n",
      "  @pytest.mark.parametrize(\"n\", list(range(5)))\n",
      "  def test_case2_01(open_51, n):\n",
      "E       fixture 'open_51' not found\n",
      ">       available fixtures: __pytest_repeat_step_number, cache, capfd, capfdbinary, caplog, capsys, capsysbinary, doctest_namespace, login, monkeypatch, pytestconfig, record_property, record_testsuite_property, record_xml_attribute, recwarn, tmp_path, tmp_path_factory, tmpdir, tmpdir_factory, worker_id\n",
      ">       use 'pytest --fixtures [testpath]' for help on them.\n",
      "\n",
      "/home/ubuntu/MySpace/Python/pytest/plug/pytest_xdist/test_job/test_case1.py:6\n",
      "\u001b[31m\u001b[1m______________________ ERROR at setup of test_case2_02[3] ______________________\u001b[0m\n",
      "[gw0] linux -- Python 3.6.9 /usr/bin/python3\n",
      "file /home/ubuntu/MySpace/Python/pytest/plug/pytest_xdist/test_job/test_case1.py, line 12\n",
      "  @pytest.mark.parametrize(\"n\", list(range(5)))\n",
      "  def test_case2_02(open_51, n):\n",
      "E       fixture 'open_51' not found\n",
      ">       available fixtures: __pytest_repeat_step_number, cache, capfd, capfdbinary, caplog, capsys, capsysbinary, doctest_namespace, login, monkeypatch, pytestconfig, record_property, record_testsuite_property, record_xml_attribute, recwarn, tmp_path, tmp_path_factory, tmpdir, tmpdir_factory, worker_id\n",
      ">       use 'pytest --fixtures [testpath]' for help on them.\n",
      "\n",
      "/home/ubuntu/MySpace/Python/pytest/plug/pytest_xdist/test_job/test_case1.py:12\n",
      "\u001b[31m\u001b[1m______________________ ERROR at setup of test_case2_02[4] ______________________\u001b[0m\n",
      "[gw0] linux -- Python 3.6.9 /usr/bin/python3\n",
      "file /home/ubuntu/MySpace/Python/pytest/plug/pytest_xdist/test_job/test_case1.py, line 12\n",
      "  @pytest.mark.parametrize(\"n\", list(range(5)))\n",
      "  def test_case2_02(open_51, n):\n",
      "E       fixture 'open_51' not found\n",
      ">       available fixtures: __pytest_repeat_step_number, cache, capfd, capfdbinary, caplog, capsys, capsysbinary, doctest_namespace, login, monkeypatch, pytestconfig, record_property, record_testsuite_property, record_xml_attribute, recwarn, tmp_path, tmp_path_factory, tmpdir, tmpdir_factory, worker_id\n",
      ">       use 'pytest --fixtures [testpath]' for help on them.\n",
      "\n",
      "/home/ubuntu/MySpace/Python/pytest/plug/pytest_xdist/test_job/test_case1.py:12\n",
      "\u001b[31m\u001b[1m______________________ ERROR at setup of test_case2_02[0] ______________________\u001b[0m\n",
      "[gw1] linux -- Python 3.6.9 /usr/bin/python3\n",
      "file /home/ubuntu/MySpace/Python/pytest/plug/pytest_xdist/test_job/test_case1.py, line 12\n",
      "  @pytest.mark.parametrize(\"n\", list(range(5)))\n",
      "  def test_case2_02(open_51, n):\n",
      "E       fixture 'open_51' not found\n",
      ">       available fixtures: __pytest_repeat_step_number, cache, capfd, capfdbinary, caplog, capsys, capsysbinary, doctest_namespace, login, monkeypatch, pytestconfig, record_property, record_testsuite_property, record_xml_attribute, recwarn, tmp_path, tmp_path_factory, tmpdir, tmpdir_factory, worker_id\n",
      ">       use 'pytest --fixtures [testpath]' for help on them.\n",
      "\n",
      "/home/ubuntu/MySpace/Python/pytest/plug/pytest_xdist/test_job/test_case1.py:12\n",
      "=================================== FAILURES ===================================\n",
      "\u001b[31m\u001b[1m_______________________________ test_get_info[0] _______________________________\u001b[0m\n",
      "[gw0] linux -- Python 3.6.9 /usr/bin/python3\n",
      "\n",
      "login = ('testyy', 'npoi213bn4'), n = 0\n",
      "\n"
     ]
    },
    {
     "name": "stdout",
     "output_type": "stream",
     "text": [
      "    \u001b[37m@pytest\u001b[39;49;00m.mark.parametrize(\u001b[33m\"\u001b[39;49;00m\u001b[33mn\u001b[39;49;00m\u001b[33m\"\u001b[39;49;00m, \u001b[96mlist\u001b[39;49;00m(\u001b[96mrange\u001b[39;49;00m(\u001b[94m5\u001b[39;49;00m)))\r\n",
      "    \u001b[94mdef\u001b[39;49;00m \u001b[92mtest_get_info\u001b[39;49;00m(login, n):\r\n",
      ">       sleep(\u001b[94m1\u001b[39;49;00m)\r\n",
      "\u001b[1m\u001b[31mE       NameError: name 'sleep' is not defined\u001b[0m\r\n",
      "\r\n",
      "\u001b[1m\u001b[31mplug/pytest_xdist/test_1.py\u001b[0m:6: NameError\r\n",
      "\u001b[31m\u001b[1m_______________________________ test_get_info[1] _______________________________\u001b[0m\r\n",
      "[gw1] linux -- Python 3.6.9 /usr/bin/python3\r\n",
      "\r\n",
      "login = ('testyy', 'npoi213bn4'), n = 1\r\n",
      "\r\n",
      "    \u001b[37m@pytest\u001b[39;49;00m.mark.parametrize(\u001b[33m\"\u001b[39;49;00m\u001b[33mn\u001b[39;49;00m\u001b[33m\"\u001b[39;49;00m, \u001b[96mlist\u001b[39;49;00m(\u001b[96mrange\u001b[39;49;00m(\u001b[94m5\u001b[39;49;00m)))\r\n",
      "    \u001b[94mdef\u001b[39;49;00m \u001b[92mtest_get_info\u001b[39;49;00m(login, n):\r\n",
      ">       sleep(\u001b[94m1\u001b[39;49;00m)\r\n",
      "\u001b[1m\u001b[31mE       NameError: name 'sleep' is not defined\u001b[0m\r\n",
      "\r\n",
      "\u001b[1m\u001b[31mplug/pytest_xdist/test_1.py\u001b[0m:6: NameError\r\n",
      "\u001b[31m\u001b[1m_______________________________ test_get_info[2] _______________________________\u001b[0m\r\n",
      "[gw0] linux -- Python 3.6.9 /usr/bin/python3\r\n",
      "\r\n",
      "login = ('testyy', 'npoi213bn4'), n = 2\r\n",
      "\r\n",
      "    \u001b[37m@pytest\u001b[39;49;00m.mark.parametrize(\u001b[33m\"\u001b[39;49;00m\u001b[33mn\u001b[39;49;00m\u001b[33m\"\u001b[39;49;00m, \u001b[96mlist\u001b[39;49;00m(\u001b[96mrange\u001b[39;49;00m(\u001b[94m5\u001b[39;49;00m)))\r\n",
      "    \u001b[94mdef\u001b[39;49;00m \u001b[92mtest_get_info\u001b[39;49;00m(login, n):\r\n",
      ">       sleep(\u001b[94m1\u001b[39;49;00m)\r\n",
      "\u001b[1m\u001b[31mE       NameError: name 'sleep' is not defined\u001b[0m\r\n",
      "\r\n",
      "\u001b[1m\u001b[31mplug/pytest_xdist/test_1.py\u001b[0m:6: NameError\r\n",
      "\u001b[31m\u001b[1m_______________________________ test_get_info[3] _______________________________\u001b[0m\r\n",
      "[gw1] linux -- Python 3.6.9 /usr/bin/python3\r\n",
      "\r\n",
      "login = ('testyy', 'npoi213bn4'), n = 3\r\n",
      "\r\n",
      "    \u001b[37m@pytest\u001b[39;49;00m.mark.parametrize(\u001b[33m\"\u001b[39;49;00m\u001b[33mn\u001b[39;49;00m\u001b[33m\"\u001b[39;49;00m, \u001b[96mlist\u001b[39;49;00m(\u001b[96mrange\u001b[39;49;00m(\u001b[94m5\u001b[39;49;00m)))\r\n",
      "    \u001b[94mdef\u001b[39;49;00m \u001b[92mtest_get_info\u001b[39;49;00m(login, n):\r\n",
      ">       sleep(\u001b[94m1\u001b[39;49;00m)\r\n",
      "\u001b[1m\u001b[31mE       NameError: name 'sleep' is not defined\u001b[0m\r\n",
      "\r\n",
      "\u001b[1m\u001b[31mplug/pytest_xdist/test_1.py\u001b[0m:6: NameError\r\n",
      "\u001b[31m\u001b[1m_______________________________ test_get_info[4] _______________________________\u001b[0m\r\n",
      "[gw0] linux -- Python 3.6.9 /usr/bin/python3\r\n",
      "\r\n",
      "login = ('testyy', 'npoi213bn4'), n = 4\r\n",
      "\r\n",
      "    \u001b[37m@pytest\u001b[39;49;00m.mark.parametrize(\u001b[33m\"\u001b[39;49;00m\u001b[33mn\u001b[39;49;00m\u001b[33m\"\u001b[39;49;00m, \u001b[96mlist\u001b[39;49;00m(\u001b[96mrange\u001b[39;49;00m(\u001b[94m5\u001b[39;49;00m)))\r\n",
      "    \u001b[94mdef\u001b[39;49;00m \u001b[92mtest_get_info\u001b[39;49;00m(login, n):\r\n",
      ">       sleep(\u001b[94m1\u001b[39;49;00m)\r\n",
      "\u001b[1m\u001b[31mE       NameError: name 'sleep' is not defined\u001b[0m\r\n",
      "\r\n",
      "\u001b[1m\u001b[31mplug/pytest_xdist/test_1.py\u001b[0m:6: NameError\r\n",
      "=========================== short test summary info ============================\r\n",
      "FAILED plug/pytest_xdist/test_1.py::test_get_info[0] - NameError: name 'sleep...\r\n",
      "FAILED plug/pytest_xdist/test_1.py::test_get_info[1] - NameError: name 'sleep...\r\n",
      "FAILED plug/pytest_xdist/test_1.py::test_get_info[2] - NameError: name 'sleep...\r\n",
      "FAILED plug/pytest_xdist/test_1.py::test_get_info[3] - NameError: name 'sleep...\r\n",
      "FAILED plug/pytest_xdist/test_1.py::test_get_info[4] - NameError: name 'sleep...\r\n",
      "ERROR plug/pytest_xdist/test_job/test_case1.py::test_case2_01[0]\r\n",
      "ERROR plug/pytest_xdist/test_job/test_case1.py::test_case2_01[1]\r\n",
      "ERROR plug/pytest_xdist/test_job/test_case1.py::test_case2_01[2]\r\n",
      "ERROR plug/pytest_xdist/test_job/test_case1.py::test_case2_02[1]\r\n",
      "ERROR plug/pytest_xdist/test_job/test_case1.py::test_case2_01[3]\r\n",
      "ERROR plug/pytest_xdist/test_job/test_case1.py::test_case2_02[2]\r\n",
      "ERROR plug/pytest_xdist/test_job/test_case1.py::test_case2_01[4]\r\n",
      "ERROR plug/pytest_xdist/test_job/test_case1.py::test_case2_02[3]\r\n",
      "ERROR plug/pytest_xdist/test_job/test_case1.py::test_case2_02[4]\r\n",
      "ERROR plug/pytest_xdist/test_job/test_case1.py::test_case2_02[0]\r\n",
      "\u001b[31m=================== \u001b[31m\u001b[1m5 failed\u001b[0m, \u001b[32m15 passed\u001b[0m, \u001b[31m\u001b[1m10 errors\u001b[0m\u001b[31m in 9.64s\u001b[0m\u001b[31m ====================\u001b[0m\r\n"
     ]
    }
   ],
   "source": [
    "\"\"\"指定需要多少个CPU来跑用例\"\"\"\n",
    "!pytest -s -n 2 plug/pytest_xdist/"
   ]
  },
  {
   "cell_type": "code",
   "execution_count": 221,
   "metadata": {},
   "outputs": [
    {
     "name": "stdout",
     "output_type": "stream",
     "text": [
      "\u001b[31mERROR: usage: pytest [options] [file_or_dir] [file_or_dir] [...]\r\n",
      "pytest: error: unrecognized arguments: --html=plug/pytest_xdist/report.html --self-contained-html\r\n",
      "  inifile: None\r\n",
      "  rootdir: /home/ubuntu/MySpace/Python/pytest\r\n",
      "\u001b[0m\r\n"
     ]
    }
   ],
   "source": [
    "\"\"\"pytest-xdist和pytest-html很好的相结合\"\"\"\n",
    "!pytest -s -n auto plug/pytest_xdist/ --html=plug/pytest_xdist/report.html --self-contained-html"
   ]
  },
  {
   "cell_type": "markdown",
   "metadata": {},
   "source": [
    "## 生成HTML报告pytest-html"
   ]
  },
  {
   "cell_type": "markdown",
   "metadata": {},
   "source": [
    "### 环境配置"
   ]
  },
  {
   "cell_type": "code",
   "execution_count": 223,
   "metadata": {},
   "outputs": [
    {
     "name": "stdout",
     "output_type": "stream",
     "text": [
      "Collecting pytest-html\n",
      "  Downloading http://pypi.doubanio.com/packages/00/a7/34f195c514d39b4453619b3eb284989e5adb09a2a68ac09ce3779f9b9478/pytest_html-2.1.1-py2.py3-none-any.whl\n",
      "Collecting pytest>=5.0 (from pytest-html)\n",
      "  Downloading http://pypi.doubanio.com/packages/c7/e2/c19c667f42f72716a7d03e8dd4d6f63f47d39feadd44cc1ee7ca3089862c/pytest-5.4.1-py3-none-any.whl (246kB)\n",
      "\u001b[K    100% |████████████████████████████████| 256kB 49.7MB/s ta 0:00:01\n",
      "\u001b[?25hCollecting pytest-metadata (from pytest-html)\n",
      "  Downloading http://pypi.doubanio.com/packages/ce/8f/d0542e1aa0e23d902ce6acce2790736473da94453a36bdc7829f25734199/pytest_metadata-1.8.0-py2.py3-none-any.whl\n",
      "Collecting py>=1.5.0 (from pytest>=5.0->pytest-html)\n",
      "  Downloading http://pypi.doubanio.com/packages/99/8d/21e1767c009211a62a8e3067280bfce76e89c9f876180308515942304d2d/py-1.8.1-py2.py3-none-any.whl (83kB)\n",
      "\u001b[K    100% |████████████████████████████████| 92kB 51.3MB/s ta 0:00:01\n",
      "\u001b[?25hCollecting attrs>=17.4.0 (from pytest>=5.0->pytest-html)\n",
      "  Downloading http://pypi.doubanio.com/packages/a2/db/4313ab3be961f7a763066401fb77f7748373b6094076ae2bda2806988af6/attrs-19.3.0-py2.py3-none-any.whl\n",
      "Collecting importlib-metadata>=0.12; python_version < \"3.8\" (from pytest>=5.0->pytest-html)\n",
      "  Downloading http://pypi.doubanio.com/packages/ad/e4/891bfcaf868ccabc619942f27940c77a8a4b45fd8367098955bb7e152fb1/importlib_metadata-1.6.0-py2.py3-none-any.whl\n",
      "Collecting wcwidth (from pytest>=5.0->pytest-html)\n",
      "  Downloading http://pypi.doubanio.com/packages/f6/d5/1ecdac957e3ea12c1b319fcdee8b6917ffaff8b4644d673c4d72d2f20b49/wcwidth-0.1.9-py2.py3-none-any.whl\n",
      "Collecting pluggy<1.0,>=0.12 (from pytest>=5.0->pytest-html)\n",
      "  Downloading http://pypi.doubanio.com/packages/a0/28/85c7aa31b80d150b772fbe4a229487bc6644da9ccb7e427dd8cc60cb8a62/pluggy-0.13.1-py2.py3-none-any.whl\n",
      "Collecting more-itertools>=4.0.0 (from pytest>=5.0->pytest-html)\n",
      "  Downloading http://pypi.doubanio.com/packages/72/96/4297306cc270eef1e3461da034a3bebe7c84eff052326b130824e98fc3fb/more_itertools-8.2.0-py3-none-any.whl (43kB)\n",
      "\u001b[K    100% |████████████████████████████████| 51kB 40.3MB/s ta 0:00:01\n",
      "\u001b[?25hCollecting packaging (from pytest>=5.0->pytest-html)\n",
      "  Downloading http://pypi.doubanio.com/packages/62/0a/34641d2bf5c917c96db0ded85ae4da25b6cd922d6b794648d4e7e07c88e5/packaging-20.3-py2.py3-none-any.whl\n",
      "Collecting zipp>=0.5 (from importlib-metadata>=0.12; python_version < \"3.8\"->pytest>=5.0->pytest-html)\n",
      "  Downloading http://pypi.doubanio.com/packages/b2/34/bfcb43cc0ba81f527bc4f40ef41ba2ff4080e047acb0586b56b3d017ace4/zipp-3.1.0-py3-none-any.whl\n",
      "Collecting six (from packaging->pytest>=5.0->pytest-html)\n",
      "  Downloading http://pypi.doubanio.com/packages/65/eb/1f97cb97bfc2390a276969c6fae16075da282f5058082d4cb10c6c5c1dba/six-1.14.0-py2.py3-none-any.whl\n",
      "Collecting pyparsing>=2.0.2 (from packaging->pytest>=5.0->pytest-html)\n",
      "  Downloading http://pypi.doubanio.com/packages/8a/bb/488841f56197b13700afd5658fc279a2025a39e22449b7cf29864669b15d/pyparsing-2.4.7-py2.py3-none-any.whl (67kB)\n",
      "\u001b[K    100% |████████████████████████████████| 71kB 39.9MB/s ta 0:00:01\n",
      "\u001b[?25hInstalling collected packages: py, attrs, zipp, importlib-metadata, wcwidth, pluggy, more-itertools, six, pyparsing, packaging, pytest, pytest-metadata, pytest-html\n",
      "Successfully installed attrs-19.3.0 importlib-metadata-1.6.0 more-itertools-8.2.0 packaging-20.3 pluggy-0.13.1 py-1.8.1 pyparsing-2.4.7 pytest-5.4.1 pytest-html-2.1.1 pytest-metadata-1.8.0 six-1.14.0 wcwidth-0.1.9 zipp-3.1.0\n"
     ]
    }
   ],
   "source": [
    "\"\"\"安装插件\"\"\"\n",
    "# !pip3 install pytest-html -i http://pypi.douban.com/simple/ --trusted-host pypi.douban.com"
   ]
  },
  {
   "cell_type": "markdown",
   "metadata": {},
   "source": [
    "### 快速入门"
   ]
  },
  {
   "cell_type": "markdown",
   "metadata": {},
   "source": [
    "**注意事项**:\n",
    "+ 在将文件或链接添加到独立报告时，插件会发出warnings；\n",
    "+ 在html测试报告中可能无法按预期显示文件或链接"
   ]
  },
  {
   "cell_type": "code",
   "execution_count": 224,
   "metadata": {},
   "outputs": [
    {
     "name": "stdout",
     "output_type": "stream",
     "text": [
      "\u001b[1m============================= test session starts ==============================\u001b[0m\n",
      "platform linux -- Python 3.6.9, pytest-5.4.1, py-1.8.1, pluggy-0.13.1\n",
      "rootdir: /home/ubuntu/MySpace/Python/pytest\n",
      "plugins: xdist-1.31.0, rerunfailures-9.0, html-2.1.1, assume-2.2.1, forked-1.1.3, metadata-1.8.0, repeat-0.8.0\n",
      "collected 39 items / 1 error / 38 selected                                     \u001b[0m\n",
      "\n",
      "==================================== ERRORS ====================================\n",
      "\u001b[31m\u001b[1m_________________ ERROR collecting plug/pytest_xdist/test_1.py _________________\u001b[0m\n",
      "\u001b[31mimport file mismatch:\n",
      "imported module 'test_1' has this __file__ attribute:\n",
      "  /home/ubuntu/MySpace/Python/pytest/conftest/test_1.py\n",
      "which is not the same as the test file we want to collect:\n",
      "  /home/ubuntu/MySpace/Python/pytest/plug/pytest_xdist/test_1.py\n",
      "HINT: remove __pycache__ / .pyc files and/or use a unique basename for your test file modules\u001b[0m\n",
      "-- generated html file: file:///home/ubuntu/MySpace/Python/pytest/report.html --\n",
      "=========================== short test summary info ============================\n",
      "ERROR plug/pytest_xdist/test_1.py\n",
      "!!!!!!!!!!!!!!!!!!!! Interrupted: 1 error during collection !!!!!!!!!!!!!!!!!!!!\n",
      "\u001b[31m=============================== \u001b[31m\u001b[1m1 error\u001b[0m\u001b[31m in 0.23s\u001b[0m\u001b[31m ===============================\u001b[0m\n"
     ]
    }
   ],
   "source": [
    "\"\"\"在当前目录下创建一个report.html的测试报告\"\"\"\n",
    "!pytest --html=report.html"
   ]
  },
  {
   "cell_type": "code",
   "execution_count": 225,
   "metadata": {},
   "outputs": [
    {
     "name": "stdout",
     "output_type": "stream",
     "text": [
      "\u001b[1m============================= test session starts ==============================\u001b[0m\n",
      "platform linux -- Python 3.6.9, pytest-5.4.1, py-1.8.1, pluggy-0.13.1\n",
      "rootdir: /home/ubuntu/MySpace/Python/pytest\n",
      "plugins: xdist-1.31.0, rerunfailures-9.0, html-2.1.1, assume-2.2.1, forked-1.1.3, metadata-1.8.0, repeat-0.8.0\n",
      "collected 39 items / 1 error / 38 selected                                     \u001b[0m\n",
      "\n",
      "==================================== ERRORS ====================================\n",
      "\u001b[31m\u001b[1m_________________ ERROR collecting plug/pytest_xdist/test_1.py _________________\u001b[0m\n",
      "\u001b[31mimport file mismatch:\n",
      "imported module 'test_1' has this __file__ attribute:\n",
      "  /home/ubuntu/MySpace/Python/pytest/conftest/test_1.py\n",
      "which is not the same as the test file we want to collect:\n",
      "  /home/ubuntu/MySpace/Python/pytest/plug/pytest_xdist/test_1.py\n",
      "HINT: remove __pycache__ / .pyc files and/or use a unique basename for your test file modules\u001b[0m\n",
      "-- generated html file: file:///home/ubuntu/MySpace/Python/pytest/report.html --\n",
      "=========================== short test summary info ============================\n",
      "ERROR plug/pytest_xdist/test_1.py\n",
      "!!!!!!!!!!!!!!!!!!!! Interrupted: 1 error during collection !!!!!!!!!!!!!!!!!!!!\n",
      "\u001b[31m=============================== \u001b[31m\u001b[1m1 error\u001b[0m\u001b[31m in 0.17s\u001b[0m\u001b[31m ===============================\u001b[0m\n"
     ]
    }
   ],
   "source": [
    "\"\"\"css是独立的，分享报告的时候样式会丢失，为了更好的分享发邮件展示报告，把css样式合并到html里\"\"\"\n",
    "!pytest --html=report.html --self-contained-html"
   ]
  }
 ],
 "metadata": {
  "kernelspec": {
   "display_name": "Python 3",
   "language": "python",
   "name": "python3"
  },
  "language_info": {
   "codemirror_mode": {
    "name": "ipython",
    "version": 3
   },
   "file_extension": ".py",
   "mimetype": "text/x-python",
   "name": "python",
   "nbconvert_exporter": "python",
   "pygments_lexer": "ipython3",
   "version": "3.6.9"
  },
  "toc": {
   "base_numbering": 1,
   "nav_menu": {},
   "number_sections": true,
   "sideBar": true,
   "skip_h1_title": false,
   "title_cell": "Table of Contents",
   "title_sidebar": "测开框架Pytest",
   "toc_cell": false,
   "toc_position": {
    "height": "calc(100% - 180px)",
    "left": "10px",
    "top": "150px",
    "width": "324px"
   },
   "toc_section_display": true,
   "toc_window_display": true
  }
 },
 "nbformat": 4,
 "nbformat_minor": 1
}
