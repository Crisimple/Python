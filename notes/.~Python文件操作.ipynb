{
 "cells": [
  {
   "cell_type": "markdown",
   "metadata": {},
   "source": [
    "在我们日常工作中我们会处理不同类型（Excel、CSV、TXT等）文件，或读或写或读写。掌握文件操作对我们工作来说十分有用。"
   ]
  },
  {
   "cell_type": "markdown",
   "metadata": {},
   "source": [
    "# 文件夹\n",
    "对文件的操作离不开对文件夹的操作。\n",
    "\n",
    "在Python开发中会定义很多自动以模块，在导入包时，在一些情况下往往会提示`No xxxx Moudle`之类的错误，磨刀不误砍柴工嘛，好好梳理下Python的工作路径，《[参考博客](https://www.cnblogs.com/dianel/p/10073718.html)》\n",
    "\n",
    "Python中对于文件夹的处理有三大模块：\n",
    "\n",
    "    os.path --- 返回的是字符串\n",
    "    pathlib --- 返回的是一个Path对象\n",
    "    shutil  --- 更多的是对文件的复制或移动操作"
   ]
  },
  {
   "cell_type": "markdown",
   "metadata": {},
   "source": [
    "## os.path\n",
    "\n",
    "处理结果返回的是字符串形式"
   ]
  },
  {
   "cell_type": "code",
   "execution_count": 32,
   "metadata": {},
   "outputs": [
    {
     "name": "stdout",
     "output_type": "stream",
     "text": [
      "去掉文件名返回工作目录： /home/ubuntu/MySpace/Python/notes\n"
     ]
    }
   ],
   "source": [
    "import os\n",
    "import datetime\n",
    "\n",
    "print(\"去掉文件名返回工作目录：\", os.path.dirname('/home/ubuntu/MySpace/Python/notes/Python文件操作.ipynb'))"
   ]
  },
  {
   "cell_type": "code",
   "execution_count": 33,
   "metadata": {},
   "outputs": [
    {
     "name": "stdout",
     "output_type": "stream",
     "text": [
      "返回上一层的工作目录 /home/ubuntu/MySpace/Python\n"
     ]
    }
   ],
   "source": [
    "print(\"返回上一层的工作目录全路径：\", os.path.dirname(os.path.dirname('/home/ubuntu/MySpace/Python/notes/Python文件操作.ipynb')))"
   ]
  },
  {
   "cell_type": "code",
   "execution_count": 34,
   "metadata": {},
   "outputs": [
    {
     "name": "stdout",
     "output_type": "stream",
     "text": [
      "返回当前工作目录 /home/ubuntu/MySpace/Python/notes\n"
     ]
    }
   ],
   "source": [
    "print(\"返回当前工作目录：\", os.getcwd())"
   ]
  },
  {
   "cell_type": "code",
   "execution_count": 41,
   "metadata": {},
   "outputs": [
    {
     "name": "stdout",
     "output_type": "stream",
     "text": [
      "path 存在，值为： True\n",
      "path 不存在，值为： False\n"
     ]
    }
   ],
   "source": [
    "pwd_1 = \"/home/ubuntu/MySpace/Python/notes/\"\n",
    "pwd_2 = \"/home/ubuntu/MySpace/Python/xxx/\"\n",
    "\n",
    "path_1 = os.path.exists(pwd_1)\n",
    "path_2 = os.path.exists(pwd_2)\n",
    "\n",
    "def judge_path(path):\n",
    "    if path:\n",
    "        print(\"path 存在，值为：\", path)\n",
    "    else:\n",
    "        print(\"path 不存在，值为：\", path)\n",
    "        \n",
    "if __name__ == \"__main__\":\n",
    "    judge_path(path_1)\n",
    "    judge_path(path_2)"
   ]
  },
  {
   "cell_type": "code",
   "execution_count": 50,
   "metadata": {},
   "outputs": [
    {
     "name": "stdout",
     "output_type": "stream",
     "text": [
      "返回绝对路径： /home/ubuntu/MySpace/Python/notes/Python文件操作.ipynb\n"
     ]
    }
   ],
   "source": [
    "print(\"返回绝对路径：\", os.path.abspath(\"/home/ubuntu/MySpace/Python/notes/Python文件操作.ipynb\"))"
   ]
  },
  {
   "cell_type": "code",
   "execution_count": 54,
   "metadata": {},
   "outputs": [
    {
     "name": "stdout",
     "output_type": "stream",
     "text": [
      "返回路径的最后一部分： Python文件操作.ipynb\n",
      "返回路径的最后一部分： notes\n"
     ]
    }
   ],
   "source": [
    "print(\"返回路径的最后一部分：\", os.path.basename(\"/home/ubuntu/MySpace/Python/notes/Python文件操作.ipynb\"))\n",
    "print(\"返回路径的最后一部分：\", os.path.basename(\"/home/ubuntu/MySpace/Python/notes\"))"
   ]
  },
  {
   "cell_type": "code",
   "execution_count": 56,
   "metadata": {},
   "outputs": [
    {
     "name": "stdout",
     "output_type": "stream",
     "text": [
      "返回文件名： Python文件操作.ipynb\n"
     ]
    }
   ],
   "source": [
    "print(\"返回文件名：\", os.path.basename(\"/home/ubuntu/MySpace/Python/notes/Python文件操作.ipynb\"))"
   ]
  },
  {
   "cell_type": "code",
   "execution_count": 59,
   "metadata": {},
   "outputs": [
    {
     "name": "stdout",
     "output_type": "stream",
     "text": [
      "将路径切割成头和尾的元组： ('/home/ubuntu/MySpace/Python/notes', 'Python文件操作.ipynb')\n",
      "将路径切割成头和尾的元组： ('/home/ubuntu/MySpace/Python', 'notes')\n"
     ]
    }
   ],
   "source": [
    "print(\"将路径切割成头和尾的元组：\", os.path.split(\"/home/ubuntu/MySpace/Python/notes/Python文件操作.ipynb\"))\n",
    "print(\"将路径切割成头和尾的元组：\", os.path.split(\"/home/ubuntu/MySpace/Python/notes\"))"
   ]
  },
  {
   "cell_type": "code",
   "execution_count": 67,
   "metadata": {},
   "outputs": [
    {
     "name": "stdout",
     "output_type": "stream",
     "text": [
      "路径拼接： /home/ubuntu/MySpace/Python/notes/拼接路径\n"
     ]
    }
   ],
   "source": [
    "print(\"路径拼接：\", os.path.join(\"/home/ubuntu/MySpace/Python/notes/\", \"拼接路径\"))"
   ]
  },
  {
   "cell_type": "code",
   "execution_count": 78,
   "metadata": {},
   "outputs": [
    {
     "name": "stdout",
     "output_type": "stream",
     "text": [
      "返回当前目录下的所有内容： ['校招生面试.ipynb', 'BasicPythonMind.mmd', 'Python文件操作.ipynb', '.ipynb_checkpoints', '测试开发.mmd', '测试开发面试.ipynb', 'Python基础知识.ipynb', '__init__.py', 'data']\n",
      "\n",
      "返回当前目录下的所有内容： ['read.txt', 'count.txt', 'write.txt']\n"
     ]
    }
   ],
   "source": [
    "print(\"返回当前目录下的所有内容：\", os.listdir('./'))\n",
    "\n",
    "print(\"\\n返回当前目录下的所有内容：\", os.listdir('./data/'))"
   ]
  },
  {
   "cell_type": "code",
   "execution_count": 63,
   "metadata": {},
   "outputs": [
    {
     "name": "stdout",
     "output_type": "stream",
     "text": [
      "返回操作系统名称： posix\n"
     ]
    }
   ],
   "source": [
    "print(\"返回操作系统名称：\", os.name)"
   ]
  },
  {
   "cell_type": "code",
   "execution_count": 65,
   "metadata": {},
   "outputs": [
    {
     "name": "stdout",
     "output_type": "stream",
     "text": [
      "返回当前操作系统的详细信息： posix.uname_result(sysname='Linux', nodename='VM-0-8-ubuntu', release='4.15.0-54-generic', version='#58-Ubuntu SMP Mon Jun 24 10:55:24 UTC 2019', machine='x86_64')\n"
     ]
    }
   ],
   "source": [
    "print(\"返回当前操作系统的详细信息：\", os.uname())"
   ]
  }
 ],
 "metadata": {
  "kernelspec": {
   "display_name": "Python 3",
   "language": "python",
   "name": "python3"
  },
  "language_info": {
   "codemirror_mode": {
    "name": "ipython",
    "version": 3
   },
   "file_extension": ".py",
   "mimetype": "text/x-python",
   "name": "python",
   "nbconvert_exporter": "python",
   "pygments_lexer": "ipython3",
   "version": "3.6.9"
  },
  "toc": {
   "base_numbering": 1,
   "nav_menu": {},
   "number_sections": true,
   "sideBar": true,
   "skip_h1_title": false,
   "title_cell": "Table of Contents",
   "title_sidebar": "Python文件操作",
   "toc_cell": false,
   "toc_position": {
    "height": "calc(100% - 180px)",
    "left": "10px",
    "top": "150px",
    "width": "290.445px"
   },
   "toc_section_display": true,
   "toc_window_display": true
  }
 },
 "nbformat": 4,
 "nbformat_minor": 1
}
