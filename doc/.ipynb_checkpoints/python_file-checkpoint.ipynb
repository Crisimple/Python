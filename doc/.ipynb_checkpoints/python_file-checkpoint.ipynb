{
 "cells": [
  {
   "cell_type": "markdown",
   "metadata": {},
   "source": [
    "在我们日常工作中我们会处理不同类型（Excel、CSV、TXT等）文件，或读或写或读写。掌握文件操作对我们工作来说十分有用。"
   ]
  },
  {
   "cell_type": "markdown",
   "metadata": {},
   "source": [
    "# 文件夹\n",
    "对文件的操作离不开对文件夹的操作。\n",
    "\n",
    "在Python开发中会定义很多自动以模块，在导入包时，在一些情况下往往会提示`No xxxx Moudle`之类的错误，磨刀不误砍柴工嘛，好好梳理下Python的工作路径，《[参考博客](https://www.cnblogs.com/dianel/p/10073718.html)》\n",
    "\n",
    "Python中对于文件夹的处理有三大模块：\n",
    "\n",
    "    os.path --- 返回的是字符串\n",
    "    pathlib --- 返回的是一个Path对象\n",
    "    shutil  --- 更多的是对文件的复制或移动操作\n",
    "    xx"
   ]
  },
  {
   "cell_type": "markdown",
   "metadata": {},
   "source": [
    "## os.path\n",
    "\n",
    "处理结果返回的是字符串形式"
   ]
  },
  {
   "cell_type": "code",
   "execution_count": 3,
   "metadata": {},
   "outputs": [
    {
     "name": "stdout",
     "output_type": "stream",
     "text": [
      "去掉文件名返回工作目录： /home/ubuntu/MySpace/Python/notes\n"
     ]
    }
   ],
   "source": [
    "import os\n",
    "import datetime\n",
    "\n",
    "print(\"去掉文件名返回工作目录：\", os.path.dirname('/home/ubuntu/MySpace/Python/notes/Python文件操作.ipynb'))"
   ]
  },
  {
   "cell_type": "code",
   "execution_count": 4,
   "metadata": {},
   "outputs": [
    {
     "name": "stdout",
     "output_type": "stream",
     "text": [
      "返回上一层的工作目录全路径： /home/ubuntu/MySpace/Python\n"
     ]
    }
   ],
   "source": [
    "print(\"返回上一层的工作目录全路径：\", os.path.dirname(os.path.dirname('/home/ubuntu/MySpace/Python/notes/Python文件操作.ipynb')))"
   ]
  },
  {
   "cell_type": "code",
   "execution_count": 5,
   "metadata": {},
   "outputs": [
    {
     "name": "stdout",
     "output_type": "stream",
     "text": [
      "返回当前工作目录： /home/ubuntu/MySpace/Python/notes\n"
     ]
    }
   ],
   "source": [
    "print(\"返回当前工作目录：\", os.getcwd())"
   ]
  },
  {
   "cell_type": "code",
   "execution_count": 6,
   "metadata": {},
   "outputs": [
    {
     "name": "stdout",
     "output_type": "stream",
     "text": [
      "path 存在，值为： True\n",
      "path 不存在，值为： False\n"
     ]
    }
   ],
   "source": [
    "pwd_1 = \"/home/ubuntu/MySpace/Python/notes/\"\n",
    "pwd_2 = \"/home/ubuntu/MySpace/Python/xxx/\"\n",
    "\n",
    "path_1 = os.path.exists(pwd_1)\n",
    "path_2 = os.path.exists(pwd_2)\n",
    "\n",
    "def judge_path(path):\n",
    "    if path:\n",
    "        print(\"path 存在，值为：\", path)\n",
    "    else:\n",
    "        print(\"path 不存在，值为：\", path)\n",
    "        \n",
    "if __name__ == \"__main__\":\n",
    "    judge_path(path_1)\n",
    "    judge_path(path_2)"
   ]
  },
  {
   "cell_type": "code",
   "execution_count": 7,
   "metadata": {},
   "outputs": [
    {
     "name": "stdout",
     "output_type": "stream",
     "text": [
      "返回绝对路径： /home/ubuntu/MySpace/Python/notes/Python文件操作.ipynb\n"
     ]
    }
   ],
   "source": [
    "print(\"返回绝对路径：\", os.path.abspath(\"/home/ubuntu/MySpace/Python/notes/Python文件操作.ipynb\"))"
   ]
  },
  {
   "cell_type": "code",
   "execution_count": 8,
   "metadata": {},
   "outputs": [
    {
     "name": "stdout",
     "output_type": "stream",
     "text": [
      "返回路径的最后一部分： Python文件操作.ipynb\n",
      "返回路径的最后一部分： notes\n"
     ]
    }
   ],
   "source": [
    "print(\"返回路径的最后一部分：\", os.path.basename(\"/home/ubuntu/MySpace/Python/notes/Python文件操作.ipynb\"))\n",
    "print(\"返回路径的最后一部分：\", os.path.basename(\"/home/ubuntu/MySpace/Python/notes\"))"
   ]
  },
  {
   "cell_type": "code",
   "execution_count": 9,
   "metadata": {},
   "outputs": [
    {
     "name": "stdout",
     "output_type": "stream",
     "text": [
      "返回文件名： Python文件操作.ipynb\n"
     ]
    }
   ],
   "source": [
    "print(\"返回文件名：\", os.path.basename(\"/home/ubuntu/MySpace/Python/notes/Python文件操作.ipynb\"))"
   ]
  },
  {
   "cell_type": "code",
   "execution_count": 10,
   "metadata": {},
   "outputs": [
    {
     "name": "stdout",
     "output_type": "stream",
     "text": [
      "将路径切割成头和尾的元组： ('/home/ubuntu/MySpace/Python/notes', 'Python文件操作.ipynb')\n",
      "将路径切割成头和尾的元组： ('/home/ubuntu/MySpace/Python', 'notes')\n"
     ]
    }
   ],
   "source": [
    "print(\"将路径切割成头和尾的元组：\", os.path.split(\"/home/ubuntu/MySpace/Python/notes/Python文件操作.ipynb\"))\n",
    "print(\"将路径切割成头和尾的元组：\", os.path.split(\"/home/ubuntu/MySpace/Python/notes\"))"
   ]
  },
  {
   "cell_type": "code",
   "execution_count": 11,
   "metadata": {},
   "outputs": [
    {
     "name": "stdout",
     "output_type": "stream",
     "text": [
      "路径拼接： /home/ubuntu/MySpace/Python/notes/拼接路径\n"
     ]
    }
   ],
   "source": [
    "print(\"路径拼接：\", os.path.join(\"/home/ubuntu/MySpace/Python/notes/\", \"拼接路径\"))"
   ]
  },
  {
   "cell_type": "code",
   "execution_count": 15,
   "metadata": {},
   "outputs": [
    {
     "name": "stdout",
     "output_type": "stream",
     "text": [
      "返回当前目录下的所有内容： ['校招生面试.ipynb', 'BasicPythonMind.mmd', 'Python文件操作.ipynb', '.~Python文件操作.ipynb', '.ipynb_checkpoints', 'Python文件.ipynb', '测试开发.mmd', '测试开发面试.ipynb', 'Python基础知识.ipynb', '__init__.py', 'data']\n",
      "\n",
      "返回当前目录下的所有内容： ['read.txt', '.ipynb_checkpoints', 'count.txt', 'dst', 'src', 'write.txt']\n"
     ]
    }
   ],
   "source": [
    "print(\"返回当前目录下的所有内容：\", os.listdir('./'))\n",
    "\n",
    "print(\"\\n返回当前目录下的所有内容：\", os.listdir('./data/'))"
   ]
  },
  {
   "cell_type": "code",
   "execution_count": 16,
   "metadata": {},
   "outputs": [],
   "source": [
    "# print(\"修改文件权限：\", os.chmod(\"文件名\", 665))"
   ]
  },
  {
   "cell_type": "code",
   "execution_count": 13,
   "metadata": {},
   "outputs": [
    {
     "name": "stdout",
     "output_type": "stream",
     "text": [
      "返回操作系统名称： posix\n"
     ]
    }
   ],
   "source": [
    "print(\"返回操作系统名称：\", os.name)"
   ]
  },
  {
   "cell_type": "code",
   "execution_count": 14,
   "metadata": {},
   "outputs": [
    {
     "name": "stdout",
     "output_type": "stream",
     "text": [
      "返回当前操作系统的详细信息： posix.uname_result(sysname='Linux', nodename='VM-0-8-ubuntu', release='4.15.0-54-generic', version='#58-Ubuntu SMP Mon Jun 24 10:55:24 UTC 2019', machine='x86_64')\n"
     ]
    }
   ],
   "source": [
    "print(\"返回当前操作系统的详细信息：\", os.uname())"
   ]
  },
  {
   "cell_type": "markdown",
   "metadata": {},
   "source": [
    "## pathlib"
   ]
  },
  {
   "cell_type": "code",
   "execution_count": 17,
   "metadata": {},
   "outputs": [],
   "source": [
    "from pathlib import Path\n",
    "import os\n",
    "\n",
    "p = Path()"
   ]
  },
  {
   "cell_type": "code",
   "execution_count": 18,
   "metadata": {},
   "outputs": [
    {
     "name": "stdout",
     "output_type": "stream",
     "text": [
      "返回当前目录相对路径：.\n"
     ]
    }
   ],
   "source": [
    "print(\"返回当前目录相对路径：%s\" % p)"
   ]
  },
  {
   "cell_type": "code",
   "execution_count": 19,
   "metadata": {},
   "outputs": [
    {
     "name": "stdout",
     "output_type": "stream",
     "text": [
      "返回当前目录绝对路径：/home/ubuntu/MySpace/Python/notes\n"
     ]
    }
   ],
   "source": [
    "print(\"返回当前目录绝对路径：%s\" % p.cwd())"
   ]
  },
  {
   "cell_type": "code",
   "execution_count": 20,
   "metadata": {},
   "outputs": [
    {
     "name": "stdout",
     "output_type": "stream",
     "text": [
      "返回当前家目录：/home/ubuntu\n"
     ]
    }
   ],
   "source": [
    "print(\"返回当前家目录：%s\" % p.home())"
   ]
  },
  {
   "cell_type": "code",
   "execution_count": 21,
   "metadata": {},
   "outputs": [
    {
     "name": "stdout",
     "output_type": "stream",
     "text": [
      "是否是软链接：False\n"
     ]
    }
   ],
   "source": [
    "print(\"是否是软链接：%s\" % p.is_symlink())"
   ]
  },
  {
   "cell_type": "code",
   "execution_count": 22,
   "metadata": {},
   "outputs": [
    {
     "name": "stdout",
     "output_type": "stream",
     "text": [
      "是否是块设备：False\n"
     ]
    }
   ],
   "source": [
    "print(\"是否是块设备：%s\" % p.is_block_device())"
   ]
  },
  {
   "cell_type": "code",
   "execution_count": 23,
   "metadata": {},
   "outputs": [
    {
     "name": "stdout",
     "output_type": "stream",
     "text": [
      "是否是socket文件：False\n"
     ]
    }
   ],
   "source": [
    "print(\"是否是socket文件：%s\" % p.is_socket())"
   ]
  },
  {
   "cell_type": "code",
   "execution_count": 24,
   "metadata": {},
   "outputs": [
    {
     "name": "stdout",
     "output_type": "stream",
     "text": [
      "是否是绝对路径：False\n"
     ]
    }
   ],
   "source": [
    "print(\"是否是绝对路径：%s\" % p.is_absolute())"
   ]
  },
  {
   "cell_type": "code",
   "execution_count": 25,
   "metadata": {},
   "outputs": [
    {
     "name": "stdout",
     "output_type": "stream",
     "text": [
      "返回一个新的路径，该路径是当前Path的绝对路径，如果是软连接则被解析：False\n"
     ]
    }
   ],
   "source": [
    "print(\"返回一个新的路径，该路径是当前Path的绝对路径，如果是软连接则被解析：%s\" % p.is_absolute())"
   ]
  },
  {
   "cell_type": "code",
   "execution_count": 26,
   "metadata": {},
   "outputs": [
    {
     "name": "stdout",
     "output_type": "stream",
     "text": [
      "获取绝对路径：/home/ubuntu/MySpace/Python/notes\n"
     ]
    }
   ],
   "source": [
    "print(\"获取绝对路径：%s\" % p.absolute())"
   ]
  },
  {
   "cell_type": "code",
   "execution_count": 27,
   "metadata": {},
   "outputs": [
    {
     "name": "stdout",
     "output_type": "stream",
     "text": [
      "获取绝对路径：/home/ubuntu/MySpace/Python/notes\n"
     ]
    }
   ],
   "source": [
    "# 获取绝对路径，推荐使用resolve()\n",
    "print(\"获取绝对路径：%s\" % p.resolve())"
   ]
  },
  {
   "cell_type": "code",
   "execution_count": 28,
   "metadata": {},
   "outputs": [
    {
     "name": "stdout",
     "output_type": "stream",
     "text": [
      "判断目录或者文件是否存在：True\n"
     ]
    }
   ],
   "source": [
    "print(\"判断目录或者文件是否存在：%s\" % p.exists())"
   ]
  },
  {
   "cell_type": "code",
   "execution_count": 29,
   "metadata": {},
   "outputs": [],
   "source": [
    "# print(\"删除空目录\", p.rmdir())"
   ]
  },
  {
   "cell_type": "code",
   "execution_count": 30,
   "metadata": {},
   "outputs": [],
   "source": [
    "p_u = Path(\"../usr/local/sbin\")\n",
    "# print(\"将路径解析成url：%s\" % p_u.as_uri())"
   ]
  },
  {
   "cell_type": "code",
   "execution_count": 32,
   "metadata": {},
   "outputs": [
    {
     "name": "stdout",
     "output_type": "stream",
     "text": [
      "目录的最后一个部分，没有后缀p1.name：httpd.conf\n",
      "连接多个字符串到Path对象中-p1.joinpath：/usr/local/httpd/httpd.conf/test\n",
      "目录的逻辑父目录-p1.parent：/usr/local/httpd\n",
      "父目录序列，索引0是直接的父-p1.parents：/usr/local/httpd\n",
      "父目录序列，索引0是直接的父-p1.parents：/usr/local\n",
      "父目录序列，索引0是直接的父-p1.parents：/usr\n",
      "父目录序列，索引0是直接的父-p1.parents：/\n",
      "目录中的最后一部分-p1.stem：httpd\n",
      "目录中的最后一部分的扩展名-p1.suffix：.conf\n",
      "返回多个扩展名列表-p1.suffixes：['.conf']\n",
      "返回路径中的每一个部分-p1.parts：(/, usr, local, httpd, httpd.conf)\n",
      "补充扩展名到路径的尾部，返回新的路径，扩展名存在则无效-p1.with_suffix(suffix)：/usr/local/httpd/httpd.txt\n",
      "替换目录最后一个部分并返回一个新的路径-p1.with_name(name)：/usr/local/httpd/httpd.txt\n"
     ]
    }
   ],
   "source": [
    "# 返回 p1 下目录的相关信息\n",
    "p1 = Path(\"/usr/local/httpd/httpd.conf\")\n",
    "print(\"目录的最后一个部分，没有后缀p1.name：%s\" % p1.name)\n",
    "print(\"连接多个字符串到Path对象中-p1.joinpath：%s\" % p1.joinpath('test'))\n",
    "print(\"目录的逻辑父目录-p1.parent：%s\" % p1.parent)\n",
    "print(\"父目录序列，索引0是直接的父-p1.parents：%s\" % p1.parents[0])\n",
    "print(\"父目录序列，索引0是直接的父-p1.parents：%s\" % p1.parents[1])\n",
    "print(\"父目录序列，索引0是直接的父-p1.parents：%s\" % p1.parents[2])\n",
    "print(\"父目录序列，索引0是直接的父-p1.parents：%s\" % p1.parents[3])\n",
    "print(\"目录中的最后一部分-p1.stem：%s\" % p1.stem)\n",
    "print(\"目录中的最后一部分的扩展名-p1.suffix：%s\" % p1.suffix)\n",
    "print(\"返回多个扩展名列表-p1.suffixes：%s\" % p1.suffixes)\n",
    "print(\"返回路径中的每一个部分-p1.parts：(%s, %s, %s, %s, %s)\" % p1.parts)\n",
    "print(\"补充扩展名到路径的尾部，返回新的路径，扩展名存在则无效-p1.with_suffix(suffix)：%s\" % p1.with_suffix('.txt'))\n",
    "print(\"替换目录最后一个部分并返回一个新的路径-p1.with_name(name)：%s\" % p1.with_name(\"httpd.txt\"))"
   ]
  },
  {
   "cell_type": "markdown",
   "metadata": {},
   "source": [
    "## shutil\n",
    "\n",
    "shutil --- 更多的是对文件的复制或移动操作"
   ]
  },
  {
   "cell_type": "markdown",
   "metadata": {},
   "source": [
    "# 文件操作"
   ]
  },
  {
   "cell_type": "markdown",
   "metadata": {},
   "source": [
    "## Excel文件"
   ]
  },
  {
   "cell_type": "code",
   "execution_count": 5,
   "metadata": {},
   "outputs": [
    {
     "name": "stdout",
     "output_type": "stream",
     "text": [
      "Collecting xlrd\n",
      "  Downloading http://mirrors.tencentyun.com/pypi/packages/b0/16/63576a1a001752e34bf8ea62e367997530dc553b689356b9879339cf45a4/xlrd-1.2.0-py2.py3-none-any.whl (103kB)\n",
      "\u001b[K    100% |████████████████████████████████| 112kB 577kB/s ta 0:00:01\n",
      "\u001b[?25hInstalling collected packages: xlrd\n",
      "Successfully installed xlrd-1.2.0\n",
      "Collecting xlutils\n",
      "  Downloading http://mirrors.tencentyun.com/pypi/packages/c7/55/e22ac73dbb316cabb5db28bef6c87044a95914f713a6e81b593f8a0d2f79/xlutils-2.0.0-py2.py3-none-any.whl (55kB)\n",
      "\u001b[K    100% |████████████████████████████████| 61kB 589kB/s ta 0:00:011\n",
      "\u001b[?25hCollecting xlrd>=0.7.2 (from xlutils)\n",
      "  Downloading http://mirrors.tencentyun.com/pypi/packages/b0/16/63576a1a001752e34bf8ea62e367997530dc553b689356b9879339cf45a4/xlrd-1.2.0-py2.py3-none-any.whl (103kB)\n",
      "\u001b[K    100% |████████████████████████████████| 112kB 982kB/s ta 0:00:01\n",
      "\u001b[?25hCollecting xlwt>=0.7.4 (from xlutils)\n",
      "  Downloading http://mirrors.tencentyun.com/pypi/packages/44/48/def306413b25c3d01753603b1a222a011b8621aed27cd7f89cbc27e6b0f4/xlwt-1.3.0-py2.py3-none-any.whl (99kB)\n",
      "\u001b[K    100% |████████████████████████████████| 102kB 1.5MB/s a 0:00:011\n",
      "\u001b[?25hInstalling collected packages: xlrd, xlwt, xlutils\n",
      "Successfully installed xlrd-1.2.0 xlutils-2.0.0 xlwt-1.3.0\n"
     ]
    }
   ],
   "source": [
    "# !pip3 install xlrd\n",
    "# !pip3 install xlutils"
   ]
  },
  {
   "cell_type": "code",
   "execution_count": 10,
   "metadata": {},
   "outputs": [
    {
     "name": "stdout",
     "output_type": "stream",
     "text": [
      "BASE_DIR: .\n",
      "获取Excel对象：<xlrd.sheet.Sheet object at 0x7f1f9c19a588>\n",
      "Excel有：(12, 6)\n",
      "Excel有：12 行\n",
      "Excel有：6 列\n",
      "Excel的第 2 行 2 列的值为： B \n"
     ]
    }
   ],
   "source": [
    "import xlrd\n",
    "from xlutils.copy import copy\n",
    "import os\n",
    "import sys\n",
    "\n",
    "BASE_DIR = os.path.dirname(os.path.dirname(\"./data/excel.xls\"))\n",
    "sys.path.append(BASE_DIR)\n",
    "print(\"BASE_DIR: %s\" % BASE_DIR)\n",
    "\n",
    "class OperateExcel(object):\n",
    "\n",
    "    def __init__(self, file_name=None, sheet_id=None):\n",
    "        \"\"\"\n",
    "        获取要读取的excel文件\n",
    "        :param file_name: 文件名称\n",
    "        :param sheet_id: 文件的sheet页\n",
    "        \"\"\"\n",
    "        if file_name:\n",
    "            self.file_name = file_name\n",
    "        else:\n",
    "            self.file_name = \"./data/excel.xls\"\n",
    "\n",
    "        if sheet_id:\n",
    "            self.sheet_id = sheet_id\n",
    "        else:\n",
    "            self.sheet_id = 0\n",
    "\n",
    "        self.sheet_table = self.get_sheet()\n",
    "\n",
    "    # 获取 sheet 页的操作对象\n",
    "    def get_sheet(self):\n",
    "        data = xlrd.open_workbook(self.file_name)\n",
    "        sheet_table = data.sheets()[self.sheet_id]\n",
    "        return sheet_table\n",
    "\n",
    "    # 获取 sheet 页的行数和列数，返回的是一个元祖\n",
    "    def get_sheet_nrows_ncols(self):\n",
    "        return self.sheet_table.nrows, self.sheet_table.ncols\n",
    "\n",
    "    # 获取 sheet 页的行数（Excel中常用到）\n",
    "    def get_sheet_nrows(self):\n",
    "        return self.sheet_table.nrows\n",
    "\n",
    "    # 获取 sheet 页的列数\n",
    "    def get_sheet_ncols(self):\n",
    "        return self.sheet_table.ncols\n",
    "\n",
    "    # 获取单元格中的数据\n",
    "    def get_sheet_cell(self, row, col):\n",
    "        \"\"\"\n",
    "        :param row: 单元格的第几行\n",
    "        :param col: 单元格的第几列\n",
    "        :return: 单元格的值\n",
    "        \"\"\"\n",
    "        cell_data = self.sheet_table.cell_value(row, col)\n",
    "        return cell_data\n",
    "\n",
    "    # 写数据到 Excel 文件中\n",
    "    def write_to_excel(self, row, col, value):\n",
    "        # 获取操作Excel的操作句柄\n",
    "        data = xlrd.open_workbook(self.file_name)\n",
    "        # 拷贝数据\n",
    "        copy_data = copy(data)\n",
    "        # 选择要写入的Excel sheet页\n",
    "        copy_data_sheet = copy_data.get_sheet(self.sheet_id)\n",
    "        # 写入数据\n",
    "        copy_data_sheet.write(row, col, value)\n",
    "        # 保存数据到excel\n",
    "        copy_data.save(self.file_name)\n",
    "\n",
    "\n",
    "if __name__ == \"__main__\":\n",
    "    oe = OperateExcel()\n",
    "    print(\"获取Excel对象：%s\" % oe.get_sheet())\n",
    "    print(\"Excel有：(%s, %s)\" % oe.get_sheet_nrows_ncols())\n",
    "    print(\"Excel有：%s 行\" % oe.get_sheet_nrows())\n",
    "    print(\"Excel有：%s 列\" % oe.get_sheet_ncols())\n",
    "    print(\"Excel的第 %s 行 %s 列的值为： %s\" % (2, 2, oe.get_sheet_cell(2, 2)))\n",
    "    oe.write_to_excel(11, 5, \"Values\")"
   ]
  },
  {
   "cell_type": "markdown",
   "metadata": {},
   "source": [
    "## CSV文件\n",
    "\n",
    "CSV（Comma-Separated Values）格式的文件是指以纯文本形式存储的表格数据。会用到 pandas 模块来处理 csv 文件，Pandas 是一个强大的分析结构化数据的工具集；它的使用基础是Numpy（提供高性能的矩阵运算）；用于数据挖掘和数据分析，同时也提供数据清洗功能。"
   ]
  },
  {
   "cell_type": "code",
   "execution_count": 11,
   "metadata": {},
   "outputs": [
    {
     "name": "stdout",
     "output_type": "stream",
     "text": [
      "Collecting numpy\n",
      "  Downloading http://mirrors.tencentyun.com/pypi/packages/07/08/a549ba8b061005bb629b76adc000f3caaaf881028b963c2e18f811c6edc1/numpy-1.18.2-cp36-cp36m-manylinux1_x86_64.whl (20.2MB)\n",
      "\u001b[K    100% |████████████████████████████████| 20.2MB 6.6MB/s ta 0:00:011   12% |████                            | 2.5MB 3.9MB/s eta 0:00:05    23% |███████▋                        | 4.8MB 7.6MB/s eta 0:00:03    41% |█████████████▎                  | 8.4MB 26.8MB/s eta 0:00:01    95% |██████████████████████████████▋ | 19.3MB 11.3MB/s eta 0:00:01\n",
      "\u001b[?25hInstalling collected packages: numpy\n",
      "Successfully installed numpy-1.18.2\n",
      "Collecting pandas\n",
      "  Downloading http://mirrors.tencentyun.com/pypi/packages/bb/71/8f53bdbcbc67c912b888b40def255767e475402e9df64050019149b1a943/pandas-1.0.3-cp36-cp36m-manylinux1_x86_64.whl (10.0MB)\n",
      "\u001b[K    100% |████████████████████████████████| 10.0MB 4.1MB/s ta 0:00:011\n",
      "\u001b[?25hCollecting python-dateutil>=2.6.1 (from pandas)\n",
      "  Downloading http://mirrors.tencentyun.com/pypi/packages/d4/70/d60450c3dd48ef87586924207ae8907090de0b306af2bce5d134d78615cb/python_dateutil-2.8.1-py2.py3-none-any.whl (227kB)\n",
      "\u001b[K    100% |████████████████████████████████| 235kB 32.6MB/s ta 0:00:01\n",
      "\u001b[?25hCollecting numpy>=1.13.3 (from pandas)\n",
      "  Downloading http://mirrors.tencentyun.com/pypi/packages/07/08/a549ba8b061005bb629b76adc000f3caaaf881028b963c2e18f811c6edc1/numpy-1.18.2-cp36-cp36m-manylinux1_x86_64.whl (20.2MB)\n",
      "\u001b[K    100% |████████████████████████████████| 20.2MB 3.1MB/s ta 0:00:01    12% |████▏                           | 2.6MB 3.7MB/s eta 0:00:05    46% |███████████████                 | 9.4MB 2.9MB/s eta 0:00:04    47% |███████████████▏                | 9.6MB 3.2MB/s eta 0:00:04    77% |█████████████████████████       | 15.7MB 3.3MB/s eta 0:00:02\n",
      "\u001b[?25hCollecting pytz>=2017.2 (from pandas)\n",
      "  Downloading http://mirrors.tencentyun.com/pypi/packages/e7/f9/f0b53f88060247251bf481fa6ea62cd0d25bf1b11a87888e53ce5b7c8ad2/pytz-2019.3-py2.py3-none-any.whl (509kB)\n",
      "\u001b[K    100% |████████████████████████████████| 512kB 2.9MB/s ta 0:00:01\n",
      "\u001b[?25hCollecting six>=1.5 (from python-dateutil>=2.6.1->pandas)\n",
      "  Downloading http://mirrors.tencentyun.com/pypi/packages/65/eb/1f97cb97bfc2390a276969c6fae16075da282f5058082d4cb10c6c5c1dba/six-1.14.0-py2.py3-none-any.whl\n",
      "Installing collected packages: six, python-dateutil, numpy, pytz, pandas\n",
      "Successfully installed numpy-1.18.2 pandas-1.0.3 python-dateutil-2.8.1 pytz-2019.3 six-1.14.0\n"
     ]
    }
   ],
   "source": [
    "# !pip3 install numpy\n",
    "# !pip3 install pandas"
   ]
  },
  {
   "cell_type": "code",
   "execution_count": 15,
   "metadata": {},
   "outputs": [
    {
     "name": "stdout",
     "output_type": "stream",
     "text": [
      "BASE_DIR: .\n",
      "获取csv的所有数据：     0       1     2                  3                  4\n",
      "0   id  is_run  name         start_time           end_time\n",
      "1    1    TRUE    A   2020/4/12 0:00:00  2020/5/12 0:00:00\n",
      "2    2    TRUE    B   2020/4/12 0:00:00  2020/5/12 0:00:00\n",
      "3    3    TRUE     C  2020/4/12 0:00:00  2020/5/12 0:00:00\n",
      "4    4    TRUE    D   2020/4/12 0:00:00  2020/5/12 0:00:00\n",
      "5    5    TRUE     E  2020/4/12 0:00:00  2020/5/12 0:00:00\n",
      "6    6    TRUE     F  2020/4/12 0:00:00  2020/5/12 0:00:00\n",
      "7    7    TRUE     G  2020/4/12 0:00:00  2020/5/12 0:00:00\n",
      "8    8    TRUE     H  2020/4/12 0:00:00  2020/5/12 0:00:00\n",
      "9    9    TRUE     I  2020/4/12 0:00:00  2020/5/12 0:00:00\n",
      "10  10    TRUE     J  2020/4/12 0:00:00  2020/5/12 0:00:00\n"
     ]
    }
   ],
   "source": [
    "import os\n",
    "import sys\n",
    "import numpy as np\n",
    "import pandas as pd\n",
    "\n",
    "BASE_DIR = os.path.dirname(os.path.dirname(\"./data/csv.csv\"))\n",
    "print(\"BASE_DIR: %s\" % BASE_DIR)\n",
    "sys.path.append(BASE_DIR)\n",
    "\n",
    "\n",
    "class OperateCsv(object):\n",
    "    \n",
    "    def __init__(self, file_name=None):\n",
    "        if file_name:\n",
    "            self.file_name = file_name\n",
    "        else:\n",
    "            self.file_name = \"./data/csv.csv\"      \n",
    "        self.df = self.read_csv()\n",
    "        \n",
    "    def read_csv(self):\n",
    "        \"\"\"\n",
    "        filename可以直接从盘符开始，标明每一级的文件夹直到csv文件，\n",
    "        header=None表示头部为空，\n",
    "        sep=' '表示数据间使用空格作为分隔符，如果分隔符是逗号，只需换成 ‘，’即可\n",
    "        @return: 返回CSV中的所有数据\n",
    "        \"\"\"\n",
    "        df = pd.read_csv(\n",
    "            self.file_name,\n",
    "            header=None\n",
    "        )\n",
    "        return df\n",
    "        \n",
    "    def read_front_rows(self, n):\n",
    "        \"\"\"\n",
    "        会包含表头的返回前n行的CSV数据\n",
    "        @param n: 要返回的行数\n",
    "        @return: 返回的 n 行数据\n",
    "        \"\"\"\n",
    "        return self.df.head(n)\n",
    "    \n",
    "    def read_tail_rows(self, n):\n",
    "        \"\"\"\n",
    "        返回CSV文件的最后 n 行数据\n",
    "        @param n: 要返回的行数\n",
    "        @return: 返回的后 n 行数据\n",
    "        \"\"\"\n",
    "        return self.df.tail(n)\n",
    "    \n",
    "    def read_skiprows(self, *args):\n",
    "        return pd.read_table(self.file_name, header=None, skiprows=args)\n",
    "    \n",
    "    def read_rows_cols(self, *args):\n",
    "        drc = pd.read_csv(\n",
    "            self.file_name,\n",
    "            header=None,\n",
    "            names=args\n",
    "        )\n",
    "        return drc\n",
    "    \n",
    "    def drop_col(self, *args):\n",
    "        return self.df.drop(args)\n",
    "\n",
    "\n",
    "if __name__ == \"__main__\":\n",
    "    oc = OperateCsv()\n",
    "    print(\"获取csv的所有数据：%s\" % oc.read_csv())\n",
    "    # print(\"获取前 %s 的数据: %s\" % (4, oc.read_front_rows(4)))\n",
    "    # print(\"获取后 %s 的数据: %s\" % (3, oc.read_tail_rows(3)))\n",
    "    # print(\"获取数据跳过某些行: %s\" % (oc.read_skiprows(0, 1, 2)))\n",
    "    # print(\"获取指定列\" % oc.read_rows_cols('start_time', 'id'))\n",
    "    # print(\"删除指定列\", oc.drop_col(['id']))\n"
   ]
  },
  {
   "cell_type": "markdown",
   "metadata": {},
   "source": [
    "## json文件\n",
    "\n",
    "JSON(JavaScript Object Notation, JS 对象简谱) 是一种轻量级的数据交换格式。它基于 ECMAScript 的一个子集，采用完全独立于编程语言的文本格式来存储和表示数据。简洁和清晰的层次结构使得 JSON 成为理想的数据交换语言。 易于人阅读和编写，同时也易于机器解析和生成，并有效地提升网络传输效率。"
   ]
  },
  {
   "cell_type": "code",
   "execution_count": 18,
   "metadata": {},
   "outputs": [
    {
     "name": "stdout",
     "output_type": "stream",
     "text": [
      "将字符串转换为json：\"\\\"foo\\bar\"\n",
      "数据类型为：<class 'str'>\n",
      "将列表转换为json：[\n",
      "    \"foo\",\n",
      "    {\n",
      "        \"bar\": [\n",
      "            \"baz\",\n",
      "            null,\n",
      "            1.0,\n",
      "            2\n",
      "        ]\n",
      "    }\n",
      "]\n",
      "数据类型为：<class 'str'>\n",
      "将字段转换为json：[\n",
      "    \"foo\",\n",
      "    {\n",
      "        \"bar\": [\n",
      "            \"baz\",\n",
      "            null,\n",
      "            1.0,\n",
      "            2\n",
      "        ]\n",
      "    }\n",
      "]\n",
      "数据类型为：<class 'str'>\n"
     ]
    }
   ],
   "source": [
    "\"\"\"\n",
    "    json.loads针对内存对象，即将Python内置数据序列化为字串\n",
    "    json.load针对文件句柄，主要是针对读取文件\n",
    "\n",
    "\"\"\"\n",
    "\n",
    "import os\n",
    "import sys\n",
    "import json\n",
    "\n",
    "file_name = \"./data/json.json\"\n",
    "\n",
    "json_list = '[\"foo\", {\"bar\":[\"baz\", null, 1.0, 2]}]'\n",
    "json_dict = '{\"a\": 0, \"b\": 0, \"c\": 0}'\n",
    "\n",
    "def loads_json(args):\n",
    "    \"\"\"\n",
    "    :param args: 要解析的的数据，可以是\n",
    "    :return:\n",
    "    \"\"\"\n",
    "    result = json.loads(args)\n",
    "    return result\n",
    "    \n",
    "\n",
    "def load_json(file_path=None):\n",
    "    \"\"\"\n",
    "    :param file_path: 要加载解析的文件\n",
    "    :return: 解析后的数据\n",
    "    \"\"\"\n",
    "    my_json = open(file_path, 'r', encoding=\"utf-8\")\n",
    "    result = json.load(my_json)\n",
    "    return result\n",
    "\n",
    "def dumps_file_json(file_path=None):\n",
    "    \"\"\"\n",
    "    现将文件中的数据读取到内存中，再从内存中读取，输出到控制台显示\n",
    "    :param file_path: 要加载解析的文件\n",
    "    :return: 解析后的格式化数据\n",
    "    \"\"\"\n",
    "    my_json = open(file_path, 'r', encoding=\"utf-8\")\n",
    "    result = json.load(my_json)\n",
    "    format_result = json.dumps(result, indent=4, ensure_ascii=False)\n",
    "    return format_result\n",
    "\n",
    "def dumps_args_json(args=None):\n",
    "    \"\"\"\n",
    "    将内存中的数据转换为json格式，并排序\n",
    "    :param args: 内存中的数据，数据类型可以是字符串、列表、字典\n",
    "    :return: json数据\n",
    "    \"\"\"\n",
    "    format_result = json.dumps(args, indent=4, ensure_ascii=False, sort_keys=True)\n",
    "    return format_result\n",
    "\n",
    "def dump_json(args_info=None, file_path=None):\n",
    "    \"\"\"\n",
    "    将内存中的数据解析成json输出到文件中去\n",
    "    :param args_info: 内存的数据，可以是字符串、列表、字典\n",
    "    :param file_path: json要输出到的文件名称\n",
    "    :return: 输出json数据文件\n",
    "    \"\"\"\n",
    "    my_file = open(file_path, 'w')\n",
    "    json.dump(args_info, my_file, indent=4)\n",
    " \n",
    " \n",
    "    \n",
    "if __name__ == \"__main__\":\n",
    "    \n",
    "    # 从内存中读取将json解析\n",
    "    # print(\"将json解析成列表：%s\" % loads_json(json_list))\n",
    "    # print(\"数据类型为：%s\" % type(loads_json(json_list)))\n",
    "    # print(\"将json解析成字典：%s\" % loads_json(json_dict))\n",
    "    # print(\"数据类型为：%s\" % type(loads_json(json_dict)))\n",
    "    #\n",
    "    # 从文件中读取解析json\n",
    "    # print(\"读取文件中的json数据：%s\" % load_json(file_path=file_name))\n",
    "    # print(\"读取文件中的json数据的数据类型为：%s\" % type(load_json(file_path=file_name)))\n",
    "\n",
    "    # 将数据格式化成json数据格式\n",
    "    # print(\"读取文件中的json数据：%s\" % dumps_file_json(file_path=file_name))\n",
    "    # print(\"数据类型为：%s\" % type(dumps_file_json(file_path=file_name)))\n",
    "    data_str = \"\\\"foo\\bar\"\n",
    "    data_list = ['foo', {'bar': ('baz', None, 1.0, 2)}]\n",
    "    data_dict = {\"c\": 0, \"b\": 0, \"a\": 0}\n",
    "    print(\"将字符串转换为json：%s\" % dumps_args_json(data_str))\n",
    "    print(\"数据类型为：%s\" % type(dumps_args_json(data_str)))\n",
    "    print(\"将列表转换为json：%s\" % dumps_args_json(data_list))\n",
    "    print(\"数据类型为：%s\" % type(dumps_args_json(data_list)))\n",
    "    print(\"将字段转换为json：%s\" % dumps_args_json(data_list))\n",
    "    print(\"数据类型为：%s\" % type(dumps_args_json(data_list)))\n",
    "    \n",
    "    \n",
    "    # args = [1, 2, 3, {'4': 5, '6': 7}]\n",
    "    # file_name = \"../OperateFile/data/dump_json.json\"\n",
    "    # dump_json(args, file_name)"
   ]
  },
  {
   "cell_type": "markdown",
   "metadata": {},
   "source": [
    "## log文件\n",
    "\n",
    "日志（Log）是指系统所指定对象的某些操作和其操作结果按时间有序的集合。log文件就是日志文件，log文件记录了系统和系统的用户之间交互的信息，是自动捕获人与系统终端之间交互的类型、内容或时间的数据收集方法；对网络搜索而言，日志是利用网络搜索引擎搜索信息的用户在搜索信息期间与该网络搜索引擎发生互动的电子记录。"
   ]
  },
  {
   "cell_type": "code",
   "execution_count": 22,
   "metadata": {},
   "outputs": [],
   "source": [
    "import os\n",
    "import sys\n",
    "import logging\n",
    "import datetime\n",
    "\n",
    "BASE_DIR = os.path.dirname(os.path.dirname(\"./data/\"))\n",
    "sys.path.append(BASE_DIR)\n",
    "LOG_FORMAT = \"%(asctime)s=====%(levelname)s+++++%(message)s\"\n",
    "\n",
    "class OperateLog():\n",
    "    def __int__(self, file_name=None):\n",
    "        if file_name:\n",
    "            self.file_name = file_name\n",
    "        else:\n",
    "            self.file_name = \"./data/\"\n",
    "            \n",
    "    def write_log1(self, file_name=None, message=None):\n",
    "        logging.basicConfig(\n",
    "            filename=file_name,\n",
    "            level=logging.DEBUG,\n",
    "            format=LOG_FORMAT\n",
    "        )\n",
    "        logging.debug(message)\n",
    "        logging.info(message)\n",
    "        logging.warning(message)\n",
    "        logging.error(message)\n",
    "        logging.critical(message)\n",
    "        \n",
    "    def write_log2(self, file_name=None, message=None):\n",
    "        \"\"\"\n",
    "        :param file_name: 日志路径\n",
    "        :param message: 要写入的日志信息\n",
    "        :return:\n",
    "        \"\"\"\n",
    "        logging.basicConfig(\n",
    "            filename=file_name,\n",
    "            level=logging.DEBUG,\n",
    "            format=LOG_FORMAT\n",
    "        )\n",
    "        logging.log(logging.DEBUG, message)\n",
    "        logging.log(logging.INFO, message)\n",
    "        logging.log(logging.WARNING, message)\n",
    "        logging.log(logging.ERROR, message)\n",
    "        logging.log(logging.CRITICAL, message)\n",
    "        \n",
    "        \n",
    "if __name__ == \"__main__\":\n",
    "    ol = OperateLog()\n",
    "    log_times = datetime.datetime.now().strftime(\"%Y-%m-%d_%H-%M-%S\")\n",
    "    \n",
    "    file_name_1 = \"./data/%s_log.log\" % log_times\n",
    "    # ol.write_log1(file_name_1)\n",
    "    \n",
    "    file_name_2 = \"./data/%s_log.log\" % log_times\n",
    "    # ol.write_log2(file_name_2, message=\"[test......]\")\n"
   ]
  },
  {
   "cell_type": "markdown",
   "metadata": {},
   "source": [
    "## ini文件\n",
    "\n",
    "*.ini文件是Initialization file的缩写，即为初始化文件，是Windows系统配置文件所采用的存储格式，统管Windows的各项配置， ini配置文件由节、键、值组成。"
   ]
  },
  {
   "cell_type": "code",
   "execution_count": 26,
   "metadata": {},
   "outputs": [
    {
     "name": "stdout",
     "output_type": "stream",
     "text": [
      "id 2\n",
      "获取节点 Second 的 second_id 参数的值为：id>2\n"
     ]
    }
   ],
   "source": [
    "import os\n",
    "import sys\n",
    "import configparser\n",
    "\n",
    "BASE_DIR = os.path.dirname(os.path.dirname(\"./data/ini.ini\"))\n",
    "sys.path.append(BASE_DIR)\n",
    "\n",
    "\n",
    "class OperateIni(object):\n",
    "    \n",
    "    def __init__(self, file_name=None, node=None):\n",
    "        if file_name:\n",
    "            self.file_name = file_name\n",
    "        else:\n",
    "            self.file_name = \"./data/ini.ini\"\n",
    "        \n",
    "        if node:\n",
    "            self.node = node\n",
    "        else:\n",
    "            self.node = \"First\"\n",
    "            \n",
    "        self.cf = self.read_ini()\n",
    "        \n",
    "    def read_ini(self):\n",
    "        cf = configparser.ConfigParser()\n",
    "        cf.read(self.file_name)\n",
    "        return cf\n",
    "    \n",
    "    def get_value(self, node, key):\n",
    "        value = self.cf.get(node, key)\n",
    "        return value\n",
    "    \n",
    "\n",
    "if __name__ == \"__main__\":\n",
    "    oi = OperateIni()\n",
    "    data = oi.get_value(node=\"Second\", key='second_id')\n",
    "    key = data.split(\">\")[0]\n",
    "    value = data.split(\">\")[1]\n",
    "    print(key, value)\n",
    "    print(\"获取节点 %s 的 %s 参数的值为：%s\" % (\"Second\", \"second_id\", oi.get_value(node=\"Second\", key='second_id')))\n"
   ]
  },
  {
   "cell_type": "markdown",
   "metadata": {},
   "source": [
    "## xml文件\n",
    "\n",
    "可扩展标记语言，标准通用标记语言的子集，简称XML。是一种用于标记电子文件使其具有结构性的标记语言。"
   ]
  },
  {
   "cell_type": "code",
   "execution_count": 28,
   "metadata": {},
   "outputs": [
    {
     "name": "stdout",
     "output_type": "stream",
     "text": [
      "获取xml文件对象：<xml.dom.minidom.Document object at 0x7f1f84ab9b88>\n",
      "获取文档根元素: Poeple\n",
      "请检查你的节点是否存在\n",
      "请检查你的节点是否存在\n",
      "请检查你的节点是否存在\n",
      "请检查你的节点是否存在\n",
      "请检查你的节点是否存在\n"
     ]
    }
   ],
   "source": [
    "#!/usr/bin/env python\n",
    "# -*- encoding: utf-8 -*-\n",
    "\"\"\"\n",
    "@File    :   32_text_xml.py\n",
    "@Time    :   2019/12/2214:07\n",
    "@Author  :   Crisimple\n",
    "@Github :    https://crisimple.github.io/\n",
    "@Contact :   Crisimple@foxmail.com\n",
    "@License :   (C)Copyright 2017-2019, Micro-Circle\n",
    "@Desc    :   None\n",
    "\"\"\"\n",
    "\n",
    "import os\n",
    "import sys\n",
    "from xml.etree.ElementTree import ElementTree, Element\n",
    "from xml.dom.minidom import parse\n",
    "\n",
    "BASE_DIR = os.path.dirname(os.path.dirname(\"./data/xml.xml\"))\n",
    "sys.path.append(BASE_DIR)\n",
    "\n",
    "\n",
    "class OperateXml(object):\n",
    "    \n",
    "    def __init__(self, file_name=None):\n",
    "        if file_name:\n",
    "            self.file_name = file_name\n",
    "        else:\n",
    "            self.file_name = \"./data/xml.xml\"\n",
    "            \n",
    "        self.dom = self.read_xml()\n",
    "        \n",
    "    def read_xml(self):\n",
    "        \"\"\"\n",
    "        :return: 获取xml文件对象\n",
    "        \"\"\"\n",
    "        dom = parse(self.file_name)\n",
    "        return dom\n",
    "    \n",
    "    def get_document_element(self):\n",
    "        \"\"\"\n",
    "        :return: rootNode---获取跟元素对象\n",
    "        :return: 获取文档根元素\n",
    "        \"\"\"\n",
    "        rootNode = self.dom.documentElement\n",
    "        return rootNode.nodeName\n",
    "    \n",
    "    def get_root_next_info(self):\n",
    "        \"\"\"\n",
    "        :return:\n",
    "        \"\"\"\n",
    "        rootNode = self.dom.documentElement\n",
    "        persons = rootNode.getElementsByTagName(\"person\")\n",
    "        for person in persons:\n",
    "            if person.hasAttribute(\"ID\"):\n",
    "                print(\"ID: %s\" % person.getAttribute(\"ID\"))\n",
    "                # id 参数\n",
    "                id = person.getElementsByTagName(\"id\")[0]\n",
    "                print(id.nodeName, \":\", id.childNodes[0].data)\n",
    "                # name 参数\n",
    "                name = person.getElementsByTagName(\"name\")[0]\n",
    "                print(name.nodeName, \":\", name.childNodes[0].data)\n",
    "                # sex 参数\n",
    "                sex = person.getElementsByTagName(\"sex\")[0]\n",
    "                print(sex.nodeName, \":\", sex.childNodes[0].data)\n",
    "                # comments 参数---xml不解析\n",
    "                comments = person.getElementsByTagName(\"comments\")[0]\n",
    "                print(comments.nodeName, \":\", comments.childNodes[0].data)\n",
    "            else:\n",
    "                print(\"......\")\n",
    "    \n",
    "    def write_xml(self):\n",
    "        # 获取文档根元素\n",
    "        rootNode = self.dom.documentElement\n",
    "        \n",
    "        # 新建一个person节点\n",
    "        person_node = self.dom.createElement(\"person\")\n",
    "        person_node.setAttribute(\"ID\", \"p004\")\n",
    "        \n",
    "        # 创建id节点，并设置textValue\n",
    "        id_node = self.dom.createElement(\"id\")\n",
    "        id_text_value = self.dom.createTextNode(\"4\")\n",
    "        # 把文本节点挂到id_node节点上，即赋予值\n",
    "        id_node.appendChild(id_text_value)\n",
    "        # 把id_node挂在到person节点上，认亲\n",
    "        person_node.appendChild(id_node)\n",
    "\n",
    "        # 创建name节点，并设置textValue\n",
    "        name_node = self.dom.createElement(\"name\")\n",
    "        name_text_value = self.dom.createTextNode(\"D\")\n",
    "        # 把文本节点挂到name_node节点上，即赋予值\n",
    "        name_node.appendChild(name_text_value)\n",
    "        # 把name_node挂在到person节点上，认亲\n",
    "        person_node.appendChild(name_node)\n",
    "\n",
    "        # 创建age节点，并设置textValue\n",
    "        age_node = self.dom.createElement(\"age\")\n",
    "        age_text_value = self.dom.createTextNode(\"23\")\n",
    "        # 把文本节点挂到age_node节点上，即赋予值\n",
    "        age_node.appendChild(age_text_value)\n",
    "        # 把age_node挂在到person节点上，认亲\n",
    "        person_node.appendChild(age_node)\n",
    "\n",
    "        # 创建sex节点，并设置textValue\n",
    "        sex_node = self.dom.createElement(\"sex\")\n",
    "        sex_text_value = self.dom.createTextNode(\"male\")\n",
    "        # 把文本节点挂到sex_node节点上，即赋予值\n",
    "        sex_node.appendChild(sex_text_value)\n",
    "        # 把sex_node挂在到person节点上，认亲\n",
    "        person_node.appendChild(sex_node)\n",
    "\n",
    "        # 创建comments节点，并设置textValue\n",
    "        comments_node = self.dom.createElement(\"comments\")\n",
    "        comments_text_value = self.dom.createCDATASection(\"create success\")\n",
    "        # 把文本节点挂到comments_node节点上，即赋予值\n",
    "        comments_node.appendChild(comments_text_value)\n",
    "        # 把comments_node挂在到person节点上，认亲\n",
    "        person_node.appendChild(comments_node)\n",
    "        \n",
    "        # 将上面创建的子节点挂在到根节点\n",
    "        rootNode.appendChild(person_node)\n",
    "        \n",
    "        # 调整格式\n",
    "        with open(self.file_name, 'w') as f:\n",
    "            self.dom.writexml(f, addindent=\"\", encoding=\"utf-8\")\n",
    "            \n",
    "    def update_xml(self):\n",
    "        # 文档根元素\n",
    "        rootNode = self.dom.documentElement\n",
    "        \n",
    "        # 找到自己要更新的节点\n",
    "        persons = rootNode.getElementsByTagName(\"person\")\n",
    "        for person in persons:\n",
    "            name = person.getElementsByTagName(\"name\")[0]\n",
    "            # print(name.childNodes[0].data)\n",
    "            if name.childNodes[0].data == \"A1\":\n",
    "                # 获取到name节点的父节点\n",
    "                pn = name.parentNode\n",
    "                print(\"pn: %s\" % pn)\n",
    "                # 父节点的age节点，就是name的兄弟节点\n",
    "                age = pn.getElementsByTagName(\"age\")[0]\n",
    "                print(\"age: %s\" % age)\n",
    "                # 更新想要更新节点的值\n",
    "                name.childNodes[0].data = \"A11\"\n",
    "                age.childNodes[0].data = \"9999\"\n",
    "            else:\n",
    "                print(\"请检查你的节点是否存在\")\n",
    "\n",
    "        with open(self.file_name, 'w') as f:\n",
    "            self.dom.writexml(f, addindent='', encoding=\"utf-8\")\n",
    "        \n",
    "\n",
    "if __name__ == \"__main__\":\n",
    "    ox = OperateXml()\n",
    "    print(\"获取xml文件对象：%s\" % ox.read_xml())\n",
    "    print(\"获取文档根元素: %s\" % ox.get_document_element())\n",
    "    # 获取xml各个节点信息\n",
    "    # ox.get_root_next_info()\n",
    "    # 向xml文件中写数据\n",
    "    # ox.write_xml()\n",
    "    # 更新xml文件数据\n",
    "    ox.update_xml()"
   ]
  },
  {
   "cell_type": "markdown",
   "metadata": {},
   "source": [
    "## txt文件"
   ]
  },
  {
   "cell_type": "code",
   "execution_count": 33,
   "metadata": {},
   "outputs": [
    {
     "name": "stdout",
     "output_type": "stream",
     "text": [
      "None\n"
     ]
    }
   ],
   "source": [
    "import os\n",
    "import sys\n",
    "\n",
    "BASE_DIR = os.path.dirname(os.path.dirname(\"./data/txt.txt\"))\n",
    "sys.path.append(BASE_DIR)\n",
    "\n",
    "file_name = \"./data/txt.txt\"\n",
    "fr = open(file_name, 'r', encoding=\"utf-8\")\n",
    "fw = open(file_name, 'w', encoding=\"utf-8\")\n",
    "fa = open(file_name, 'a', encoding=\"utf-8\")\n",
    "\n",
    "\n",
    "def load_txt():\n",
    "    print(fr.read())\n",
    "\n",
    "\n",
    "def read_txt_byte(n):\n",
    "    print(fr.read(n))\n",
    "\n",
    "\n",
    "def read_line():\n",
    "    print(fr.readline())\n",
    "\n",
    "def read_lines():\n",
    "    print(fr.readlines())\n",
    "    \n",
    "def write_txt(message):\n",
    "    \"\"\"\n",
    "    :param message: 写入的数据\n",
    "    :return: 返回写入的字符的长度\n",
    "    \"\"\"\n",
    "    print(fw.write(message))\n",
    "    \n",
    "def write_lines(*args):\n",
    "    print(fa.writelines(args))\n",
    "\n",
    "\n",
    "def close_txt(self):\n",
    "    fr.close()\n",
    "    print(\"关闭读取文件句柄\")\n",
    "\n",
    "if __name__ == \"__main__\":\n",
    "    file_name_1 = './data/txt.txt'\n",
    "    # write_txt(\"sjkjk\")\n",
    "    text_lists = \"[1, 2, 3]\"\n",
    "    write_lines(text_lists)\n",
    "    # print(ot.close_txt())\n"
   ]
  },
  {
   "cell_type": "markdown",
   "metadata": {},
   "source": [
    "# 实用模板"
   ]
  },
  {
   "cell_type": "markdown",
   "metadata": {},
   "source": [
    "## 创建动态日志目录"
   ]
  },
  {
   "cell_type": "code",
   "execution_count": 36,
   "metadata": {},
   "outputs": [
    {
     "name": "stdout",
     "output_type": "stream",
     "text": [
      "当前程序的工作目录：.\n",
      "程序执行的当前时间戳：2020-04-12_14-17-41\n",
      "../data/2020-04-12_14-17-41/\n"
     ]
    },
    {
     "ename": "FileNotFoundError",
     "evalue": "[Errno 2] No such file or directory: '../data/2020-04-12_14-17-41/'",
     "output_type": "error",
     "traceback": [
      "\u001b[0;31m---------------------------------------------------------------------------\u001b[0m",
      "\u001b[0;31mFileNotFoundError\u001b[0m                         Traceback (most recent call last)",
      "\u001b[0;32m<ipython-input-36-3bbe55d41cd3>\u001b[0m in \u001b[0;36m<module>\u001b[0;34m\u001b[0m\n\u001b[1;32m     12\u001b[0m \u001b[0misExists\u001b[0m \u001b[0;34m=\u001b[0m \u001b[0mos\u001b[0m\u001b[0;34m.\u001b[0m\u001b[0mpath\u001b[0m\u001b[0;34m.\u001b[0m\u001b[0mexists\u001b[0m\u001b[0;34m(\u001b[0m\u001b[0mLOG_PATH\u001b[0m\u001b[0;34m)\u001b[0m\u001b[0;34m\u001b[0m\u001b[0;34m\u001b[0m\u001b[0m\n\u001b[1;32m     13\u001b[0m \u001b[0;32mif\u001b[0m \u001b[0;32mnot\u001b[0m \u001b[0misExists\u001b[0m\u001b[0;34m:\u001b[0m\u001b[0;34m\u001b[0m\u001b[0;34m\u001b[0m\u001b[0m\n\u001b[0;32m---> 14\u001b[0;31m     \u001b[0mos\u001b[0m\u001b[0;34m.\u001b[0m\u001b[0mmkdir\u001b[0m\u001b[0;34m(\u001b[0m\u001b[0mLOG_PATH\u001b[0m\u001b[0;34m)\u001b[0m\u001b[0;34m\u001b[0m\u001b[0;34m\u001b[0m\u001b[0m\n\u001b[0m",
      "\u001b[0;31mFileNotFoundError\u001b[0m: [Errno 2] No such file or directory: '../data/2020-04-12_14-17-41/'"
     ]
    }
   ],
   "source": [
    "# 如果想要动态创建一个时间戳目录，来动态存放程序日志\n",
    "# 1.为了避免程序找不到目录尴尬, 首先确定当前程序的工作空间\n",
    "CURRENT_DIR = os.path.dirname(os.path.dirname(\"./data/text.txt\"))\n",
    "print(\"当前程序的工作目录：%s\" % CURRENT_DIR)\n",
    "# 2.生成时间戳\n",
    "nowTime = datetime.datetime.now().strftime(\"%Y-%m-%d_%H-%M-%S\")\n",
    "print(\"程序执行的当前时间戳：%s\" % nowTime)\n",
    "# 3.拼接存放日志的目录\n",
    "LOG_PATH = CURRENT_DIR + \"./data/\" + nowTime + \"/\"\n",
    "print(LOG_PATH)\n",
    "# 4.判断存放日志的目录LOG_PATH是否存在，不存在的话就就创建该目录\n",
    "isExists = os.path.exists(LOG_PATH)\n",
    "if not isExists:\n",
    "    os.mkdir(LOG_PATH)"
   ]
  }
 ],
 "metadata": {
  "kernelspec": {
   "display_name": "Python 3",
   "language": "python",
   "name": "python3"
  },
  "language_info": {
   "codemirror_mode": {
    "name": "ipython",
    "version": 3
   },
   "file_extension": ".py",
   "mimetype": "text/x-python",
   "name": "python",
   "nbconvert_exporter": "python",
   "pygments_lexer": "ipython3",
   "version": "3.6.9"
  },
  "toc": {
   "base_numbering": 1,
   "nav_menu": {},
   "number_sections": true,
   "sideBar": true,
   "skip_h1_title": false,
   "title_cell": "Table of Contents",
   "title_sidebar": "Contents",
   "toc_cell": false,
   "toc_position": {
    "height": "calc(100% - 180px)",
    "left": "10px",
    "top": "150px",
    "width": "213px"
   },
   "toc_section_display": true,
   "toc_window_display": true
  }
 },
 "nbformat": 4,
 "nbformat_minor": 1
}
