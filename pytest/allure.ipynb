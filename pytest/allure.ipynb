{
 "cells": [
  {
   "cell_type": "markdown",
   "metadata": {},
   "source": [
    "# allure初识"
   ]
  },
  {
   "cell_type": "markdown",
   "metadata": {},
   "source": [
    "## 什么是allure"
   ]
  },
  {
   "cell_type": "markdown",
   "metadata": {},
   "source": [
    " Allure 是由Qameta Software团队开源的一款旨在于解决让每个人能更容易生成并更简洁阅读的测试报告框架。它支持大多数的测试框架，如：Pytest、TestNG等，简单易用便于集成。[ [allure官方文档](http://allure.qatools.ru/) ]\n",
    " \n",
    "+ Allure Framework是一种灵活的轻量级多语言测试报告工具，不仅可以以简洁的Web报告形式非常简洁地显示已测试的内容，也允许参与开发过程的每个人从日常测试中提取最大程度的有用信息\n",
    "+ 从开发/质量保证的角度来看，Allure报告可以缩短常见缺陷的生命周期：可以将测试失败划分为bug和损坏的测试，还可以配置log，step，fixture，attachments，timings，历史记录以及与TMS的集成以及Bug跟踪系统，因此负责任的开发人员和测试人员将掌握所有信息\n",
    "+ 从管理人员的角度来看，Allure提供了一个清晰的“全局”，涵盖了已涵盖的功能，缺陷聚集的位置，执行时间表的外观以及许多其他方便的事情\n",
    "+ Allure的模块化和可扩展性确保您始终能够微调某些东西，以使Allure更适合您\n",
    "+ 唯一不足的就是，拓展功能需要在测试用例集上加装饰器"
   ]
  },
  {
   "cell_type": "markdown",
   "metadata": {},
   "source": [
    "## 环境配置"
   ]
  },
  {
   "cell_type": "code",
   "execution_count": 1,
   "metadata": {},
   "outputs": [
    {
     "name": "stdout",
     "output_type": "stream",
     "text": [
      "Collecting allure-pytest\n",
      "  Downloading http://pypi.doubanio.com/packages/9a/e3/9cea2cf25d8822752f55c9df16f0d0ef54ca6b369e3ccd0f51737f5288d3/allure_pytest-2.8.13-py3-none-any.whl\n",
      "Collecting allure-python-commons==2.8.13 (from allure-pytest)\n",
      "  Downloading http://pypi.doubanio.com/packages/21/4c/3fd196d82a31487d8cfc50a423de1dd0fb20128709a9b74e1e3d462dfb19/allure_python_commons-2.8.13-py3-none-any.whl\n",
      "Collecting six>=1.9.0 (from allure-pytest)\n",
      "  Downloading http://pypi.doubanio.com/packages/65/eb/1f97cb97bfc2390a276969c6fae16075da282f5058082d4cb10c6c5c1dba/six-1.14.0-py2.py3-none-any.whl\n",
      "Collecting pytest>=4.5.0 (from allure-pytest)\n",
      "  Downloading http://pypi.doubanio.com/packages/c7/e2/c19c667f42f72716a7d03e8dd4d6f63f47d39feadd44cc1ee7ca3089862c/pytest-5.4.1-py3-none-any.whl (246kB)\n",
      "\u001b[K    100% |████████████████████████████████| 256kB 3.4MB/s ta 0:00:01\n",
      "\u001b[?25hCollecting attrs>=16.0.0 (from allure-python-commons==2.8.13->allure-pytest)\n",
      "  Downloading http://pypi.doubanio.com/packages/a2/db/4313ab3be961f7a763066401fb77f7748373b6094076ae2bda2806988af6/attrs-19.3.0-py2.py3-none-any.whl\n",
      "Collecting pluggy>=0.4.0 (from allure-python-commons==2.8.13->allure-pytest)\n",
      "  Downloading http://pypi.doubanio.com/packages/a0/28/85c7aa31b80d150b772fbe4a229487bc6644da9ccb7e427dd8cc60cb8a62/pluggy-0.13.1-py2.py3-none-any.whl\n",
      "Collecting more-itertools>=4.0.0 (from pytest>=4.5.0->allure-pytest)\n",
      "  Downloading http://pypi.doubanio.com/packages/72/96/4297306cc270eef1e3461da034a3bebe7c84eff052326b130824e98fc3fb/more_itertools-8.2.0-py3-none-any.whl (43kB)\n",
      "\u001b[K    100% |████████████████████████████████| 51kB 1.8MB/s ta 0:00:011\n",
      "\u001b[?25hCollecting py>=1.5.0 (from pytest>=4.5.0->allure-pytest)\n",
      "  Downloading http://pypi.doubanio.com/packages/99/8d/21e1767c009211a62a8e3067280bfce76e89c9f876180308515942304d2d/py-1.8.1-py2.py3-none-any.whl (83kB)\n",
      "\u001b[K    100% |████████████████████████████████| 92kB 1.5MB/s ta 0:00:011\n",
      "\u001b[?25hCollecting wcwidth (from pytest>=4.5.0->allure-pytest)\n",
      "  Downloading http://pypi.doubanio.com/packages/f6/d5/1ecdac957e3ea12c1b319fcdee8b6917ffaff8b4644d673c4d72d2f20b49/wcwidth-0.1.9-py2.py3-none-any.whl\n",
      "Collecting importlib-metadata>=0.12; python_version < \"3.8\" (from pytest>=4.5.0->allure-pytest)\n",
      "  Downloading http://pypi.doubanio.com/packages/ad/e4/891bfcaf868ccabc619942f27940c77a8a4b45fd8367098955bb7e152fb1/importlib_metadata-1.6.0-py2.py3-none-any.whl\n",
      "Collecting packaging (from pytest>=4.5.0->allure-pytest)\n",
      "  Downloading http://pypi.doubanio.com/packages/62/0a/34641d2bf5c917c96db0ded85ae4da25b6cd922d6b794648d4e7e07c88e5/packaging-20.3-py2.py3-none-any.whl\n",
      "Collecting zipp>=0.5 (from importlib-metadata>=0.12; python_version < \"3.8\"->pytest>=4.5.0->allure-pytest)\n",
      "  Downloading http://pypi.doubanio.com/packages/b2/34/bfcb43cc0ba81f527bc4f40ef41ba2ff4080e047acb0586b56b3d017ace4/zipp-3.1.0-py3-none-any.whl\n",
      "Collecting pyparsing>=2.0.2 (from packaging->pytest>=4.5.0->allure-pytest)\n",
      "  Downloading http://pypi.doubanio.com/packages/8a/bb/488841f56197b13700afd5658fc279a2025a39e22449b7cf29864669b15d/pyparsing-2.4.7-py2.py3-none-any.whl (67kB)\n",
      "\u001b[K    100% |████████████████████████████████| 71kB 1.3MB/s ta 0:00:011\n",
      "\u001b[?25hInstalling collected packages: attrs, six, zipp, importlib-metadata, pluggy, allure-python-commons, more-itertools, py, wcwidth, pyparsing, packaging, pytest, allure-pytest\n",
      "Successfully installed allure-pytest-2.8.13 allure-python-commons-2.8.13 attrs-19.3.0 importlib-metadata-1.6.0 more-itertools-8.2.0 packaging-20.3 pluggy-0.13.1 py-1.8.1 pyparsing-2.4.7 pytest-5.4.1 six-1.14.0 wcwidth-0.1.9 zipp-3.1.0\n"
     ]
    }
   ],
   "source": [
    "!pip3 install allure-pytest -i http://pypi.douban.com/simple/ --trusted-host pypi.douban.com"
   ]
  },
  {
   "cell_type": "markdown",
   "metadata": {},
   "source": [
    "## 生成报告"
   ]
  },
  {
   "cell_type": "markdown",
   "metadata": {},
   "source": [
    "+ 要使Allure能够在测试执行期间收集测试结果，只需添加 --alluredir 选项，并提供指向应存储结果的文件夹的路径\n",
    "```bash\n",
    "pytest -n auto --alluredir=allure\n",
    "```\n",
    "+ 要在测试完成后查看实际报告，需要使用Allure命令行来让测试结果生成报告\n",
    "```bash\n",
    "allure serve allure\n",
    "```"
   ]
  },
  {
   "cell_type": "markdown",
   "metadata": {},
   "source": [
    "## allure 报告结构"
   ]
  },
  {
   "cell_type": "markdown",
   "metadata": {},
   "source": [
    "+ **Overview**：总览\n",
    "+ **Categories**：类别，默认是分了failed和error，凡是执行结果是其中一个的都会被归到类里面，可以通过这里快捷查看哪些用例是failed和error的\n",
    "+ **Suites**：测试套件，就是所有用例的层级关系，可以根据package、module、类、方法来查找用例\n",
    "+ **Graphs**：测试结果图形化，包括用例执行结果的分布图，优先级，耗时等\n",
    "+ **Timeline**：可以看到测试用例精确的测试时序（执行顺序），包括执行时间\n",
    "+ **Behaviors**：行为驱动，根据epic、feature、story来分组测试用例（后面会讲到）\n",
    "+ **Packages**：这就是按照package、module来分组测试用例了"
   ]
  },
  {
   "cell_type": "markdown",
   "metadata": {},
   "source": [
    "# allure特性"
   ]
  },
  {
   "cell_type": "markdown",
   "metadata": {},
   "source": [
    "## environment"
   ]
  },
  {
   "cell_type": "markdown",
   "metadata": {},
   "source": [
    "可以理解成环境变量参数，没有什么实际作用，个人觉得只是为了让别人知道本次测试的运行环境参数而已，显示啥都是自己定的；注意！！默认是没有的\n",
    "\n",
    "**如何添加enviroment**:\n",
    "\n",
    "通过创建environment.properties或者environment.xml文件，并把文件存放到allure-results(这个目录是生成最后的html报告之前，生成依赖文件的目录)目录下，就是 --alluredir  后面跟的目录\n",
    "\n",
    "```enviroment.properties\n",
    "# enviroment.properties\n",
    "Browser=Chrome\n",
    "Browser.Version=81.0.4044.92\n",
    "Stand=Production\n",
    "ApiUrl=127.0.0.1/login\n",
    "python.Version=3.7.2\n",
    "```\n",
    "或\n",
    "```xml\n",
    "# enviroment.xml\n",
    "<environment>\n",
    "    <parameter>\n",
    "        <key>Browser</key>\n",
    "        <value>Chrome</value>\n",
    "    </parameter>\n",
    "    <parameter>\n",
    "        <key>Browser.Version</key>\n",
    "        <value>81.0.4044.92</value>\n",
    "    </parameter>\n",
    "    <parameter>\n",
    "        <key>Stand</key>\n",
    "        <value>Production</value>\n",
    "    </parameter>\n",
    "        <parameter>\n",
    "        <key>ApiUrl</key>\n",
    "        <value>127.0.0.1/login</value>\n",
    "    </parameter>\n",
    "        <parameter>\n",
    "        <key>python.Version</key>\n",
    "        <value>3.7.2</value>\n",
    "    </parameter>\n",
    "</environment>\n",
    "```"
   ]
  },
  {
   "cell_type": "markdown",
   "metadata": {},
   "source": [
    "## Categories"
   ]
  },
  {
   "cell_type": "markdown",
   "metadata": {},
   "source": [
    "**直译**：分类\n",
    "\n",
    "**通俗理解**：测试用例结果的分类\n",
    "\n",
    "有两类缺陷：\n",
    "+ Product defects 产品缺陷（测试结果：failed）\n",
    "+ Test defects 测试缺陷（测试结果：error/broken）\n",
    "我们是可以创建自定义缺陷分类的，将 categories.json 文件添加到allure-results目录即可（和上面environment.properties放同一个目录）\n",
    "\n",
    "**参数含义**:\n",
    "+ **name**：分类名称\n",
    "+ **matchedStatuses**：测试用例的运行状态，默认[\"failed\", \"broken\", \"passed\", \"skipped\", \"unknown\"]\n",
    "+ **messageRegex**：测试用例运行的错误信息，默认是 .* ，是通过正则去匹配的哦！\n",
    "+ **traceRegex**：测试用例运行的错误堆栈信息，默认是  .*  ，也是通过正则去匹配的哦！\n",
    "\n",
    "\n",
    "```json\n",
    "# categories.json\n",
    "[\n",
    "  {\n",
    "    \"name\": \"Ignored tests\", \n",
    "    \"matchedStatuses\": [\"skipped\"] \n",
    "  },\n",
    "  {\n",
    "    \"name\": \"Infrastructure problems\",\n",
    "    \"matchedStatuses\": [\"broken\", \"failed\"],\n",
    "    \"messageRegex\": \".*bye-bye.*\" \n",
    "  },\n",
    "  {\n",
    "    \"name\": \"Outdated tests\",\n",
    "    \"matchedStatuses\": [\"broken\"],\n",
    "    \"traceRegex\": \".*FileNotFoundException.*\" \n",
    "  },\n",
    "  {\n",
    "    \"name\": \"Product defects\",\n",
    "    \"matchedStatuses\": [\"failed\"]\n",
    "  },\n",
    "  {\n",
    "    \"name\": \"Test defects\",\n",
    "    \"matchedStatuses\": [\"broken\"]\n",
    "  }\n",
    "]\n",
    "```"
   ]
  },
  {
   "cell_type": "markdown",
   "metadata": {},
   "source": [
    "## Flaky test"
   ]
  },
  {
   "cell_type": "markdown",
   "metadata": {},
   "source": [
    "**用法**：在类或者方法上直接加 @Flaky ;官方也说了：可以将整个测试类标记为Flaky\n",
    "\n",
    "**含义**:\n",
    "+ 简单来说就是，不够稳定的测试用例集，有可能前阵子还运行成功，过阵子就运行失败，理解成“闪烁”\n",
    "+ 标记成Flaky的好处就是：当用例失败的情况下，我们能获取足够详细的信息，毕竟有可能某些测试用例是非常重要的\n",
    "+ 如果不标记为Flaky的话，可能就要禁用这些测试"
   ]
  },
  {
   "cell_type": "markdown",
   "metadata": {},
   "source": [
    "## allure.step()"
   ]
  },
  {
   "cell_type": "markdown",
   "metadata": {},
   "source": [
    "allure除了支持pytest自带的特性之外（fixture、parametrize、xfail、skip），自己本身也有强大的特性可以在pytest中使用\n",
    "\n",
    "@allure.step\n",
    "+ allure报告最重要的一点是，它允许对每个测试用例进行非常详细的步骤说明\n",
    "+ 通过 @allure.step() 装饰器，可以让测试用例在allure报告中显示更详细的测试过程\n",
    "\n",
    "**注意点**：\n",
    "+ step() 只有一个参数，就是title，你传什么，在allure上就显示什么\n",
    "+ 可以像python字符串一样，支持位置参数和关键字参数 {0}，{arg2}，可看第四步那里，如果函数的参数没有匹配成功就会报错哦\n",
    "+  step() 的使用场景，给我感觉就是，当方法之间嵌套会比较有用，否则的话只会显示一个步骤，类似下面图"
   ]
  },
  {
   "cell_type": "code",
   "execution_count": 3,
   "metadata": {},
   "outputs": [
    {
     "name": "stdout",
     "output_type": "stream",
     "text": [
      "\u001b[1m============================= test session starts ==============================\u001b[0m\n",
      "platform linux -- Python 3.6.9, pytest-5.4.1, py-1.8.1, pluggy-0.13.1\n",
      "rootdir: /home/ubuntu/MySpace/Python/pytest\n",
      "plugins: allure-pytest-2.8.13, xdist-1.31.0, rerunfailures-9.0, html-2.1.1, assume-2.2.1, forked-1.1.3, metadata-1.8.0, repeat-0.8.0\n",
      "gw0 [1]\u001b[0m[1m[1m\n",
      "\u001b[32m.\u001b[0m\u001b[32m                                                                        [100%]\u001b[0m\n",
      "\u001b[32m============================== \u001b[32m\u001b[1m1 passed\u001b[0m\u001b[32m in 0.64s\u001b[0m\u001b[32m ===============================\u001b[0m\n"
     ]
    }
   ],
   "source": [
    "\"\"\"要使Allure能够在测试执行期间收集测试结果，只需添加 --alluredir 选项，并提供指向应存储结果的文件夹的路径\"\"\"\n",
    "!pytest allure/allure_step.py -n auto --alluredir=allure/allure_json"
   ]
  },
  {
   "cell_type": "code",
   "execution_count": null,
   "metadata": {},
   "outputs": [],
   "source": [
    "\"\"\"生成报告\"\"\"\n",
    "!allure serve allure/allure_json/"
   ]
  },
  {
   "cell_type": "markdown",
   "metadata": {},
   "source": [
    "## allure.attach"
   ]
  },
  {
   "cell_type": "markdown",
   "metadata": {},
   "source": [
    "**作用**：allure报告还支持显示许多不同类型的附件，可以补充测试结果；自己想输出啥就输出啥，挺好的\n",
    "\n",
    "**========================语法一===================**\n",
    "\n",
    "**语法**： allure.attach(body, name, attachment_type, extension) \n",
    "\n",
    "**参数列表**:\n",
    "+ body：要显示的内容（附件）\n",
    "+ name：附件名字\n",
    "+ attachment_type：附件类型，是 allure.attachment_type 里面的其中一种\n",
    "+ extension：附件的扩展名（比较少用）\n",
    "\n",
    "allure.attachment_type提供了哪些附件类型？\n",
    "```text\n",
    "    TEXT = (\"text/plain\", \"txt\")\n",
    "    CSV = (\"text/csv\", \"csv\")\n",
    "    TSV = (\"text/tab-separated-values\", \"tsv\")\n",
    "    URI_LIST = (\"text/uri-list\", \"uri\")\n",
    "    HTML = (\"text/html\", \"html\")\n",
    "    \n",
    "    XML = (\"application/xml\", \"xml\")\n",
    "    JSON = (\"application/json\", \"json\")\n",
    "    YAML = (\"application/yaml\", \"yaml\")\n",
    "    PCAP = (\"application/vnd.tcpdump.pcap\", \"pacp\")\n",
    "    PDF = (\"application/pdf\", \"pdf\")\n",
    "    \n",
    "    PNG = (\"image/png\", \"png\")\n",
    "    JPG = (\"image/jpg\", \"jpg\")\n",
    "    SVG = (\"image/svg-xml\", \"svg\")\n",
    "    GIF = (\"image/gif\", \"gif\")\n",
    "    BMP = (\"image/bmp\", \"bmp\")\n",
    "    TIFF = (\"image/tiff\", \"tiff\")\n",
    "    \n",
    "    MP4 = (\"image/mp4\", \"mp4\")\n",
    "    OGG = (\"image/ogg\", \"ogg\")\n",
    "    WEBM = (\"image/webm\", \"webm\")\n",
    "```\n",
    "    \n",
    "    \n",
    "\n"
   ]
  },
  {
   "cell_type": "markdown",
   "metadata": {},
   "source": [
    "**==================语法二================**\n",
    "\n",
    "**语法二**： `allure.attach.file(source, name, attachment_type, extension) `\n"
   ]
  }
 ],
 "metadata": {
  "kernelspec": {
   "display_name": "Python 3",
   "language": "python",
   "name": "python3"
  },
  "language_info": {
   "codemirror_mode": {
    "name": "ipython",
    "version": 3
   },
   "file_extension": ".py",
   "mimetype": "text/x-python",
   "name": "python",
   "nbconvert_exporter": "python",
   "pygments_lexer": "ipython3",
   "version": "3.6.9"
  },
  "toc": {
   "base_numbering": 1,
   "nav_menu": {},
   "number_sections": true,
   "sideBar": true,
   "skip_h1_title": false,
   "title_cell": "Table of Contents",
   "title_sidebar": "allure",
   "toc_cell": false,
   "toc_position": {
    "height": "calc(100% - 180px)",
    "left": "10px",
    "top": "150px",
    "width": "165px"
   },
   "toc_section_display": true,
   "toc_window_display": true
  }
 },
 "nbformat": 4,
 "nbformat_minor": 1
}
