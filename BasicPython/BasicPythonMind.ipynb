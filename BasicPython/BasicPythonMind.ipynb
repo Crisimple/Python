{
 "cells": [
  {
   "cell_type": "markdown",
   "metadata": {
    "heading_collapsed": true
   },
   "source": [
    "# 数据类型"
   ]
  },
  {
   "cell_type": "markdown",
   "metadata": {
    "heading_collapsed": true,
    "hidden": true
   },
   "source": [
    "##  数字类型\n",
    "\n",
    "数字类型包括 int类型、float类型、complex类型"
   ]
  },
  {
   "cell_type": "markdown",
   "metadata": {
    "heading_collapsed": true,
    "hidden": true
   },
   "source": [
    "### int\n",
    "Python 的 int 不同于 Java 的 int，Python 中无论整数的大小长度为多少，统称为 int。"
   ]
  },
  {
   "cell_type": "code",
   "execution_count": 25,
   "metadata": {
    "ExecuteTime": {
     "end_time": "2020-03-20T03:04:27.169133Z",
     "start_time": "2020-03-20T03:04:27.160702Z"
    },
    "hidden": true,
    "run_control": {
     "marked": false
    }
   },
   "outputs": [
    {
     "name": "stdout",
     "output_type": "stream",
     "text": [
      "1125899906842624 的类型为：<class 'int'>\n",
      "123 的类型为：<class 'int'>\n"
     ]
    }
   ],
   "source": [
    "int_sample = 2 ** 50\n",
    "print(\"%s 的类型为：%s\" % (int_sample, type(int_sample)))\n",
    "str_int = int(\"123\")\n",
    "print(\"%s 的类型为：%s\" % (str_int, type(str_int)))"
   ]
  },
  {
   "cell_type": "markdown",
   "metadata": {
    "ExecuteTime": {
     "end_time": "2020-03-20T03:04:27.194925Z",
     "start_time": "2020-03-20T03:04:27.189470Z"
    },
    "heading_collapsed": true,
    "hidden": true
   },
   "source": [
    "### float\n",
    "float 等会补充"
   ]
  },
  {
   "cell_type": "markdown",
   "metadata": {
    "heading_collapsed": true,
    "hidden": true
   },
   "source": [
    "### complex\n",
    "主要用于高级数学计算"
   ]
  },
  {
   "cell_type": "markdown",
   "metadata": {
    "heading_collapsed": true,
    "hidden": true
   },
   "source": [
    "## 布尔（bool）\n",
    "\n",
    "对于 bool 型来说，只存在两种值 True 和 False，对应二进制分别为 0 和 1。值为 False 的数有：None、空、[]、{}、()、0。 "
   ]
  },
  {
   "cell_type": "code",
   "execution_count": 26,
   "metadata": {
    "hidden": true,
    "run_control": {
     "marked": false
    }
   },
   "outputs": [
    {
     "name": "stdout",
     "output_type": "stream",
     "text": [
      "False 的类型为：<class 'bool'>\n",
      "False 的类型为：<class 'bool'>\n",
      "False 的类型为：<class 'bool'>\n",
      "False 的类型为：<class 'bool'>\n"
     ]
    }
   ],
   "source": [
    "bl_none = bool(None)\n",
    "bl_blank = bool()\n",
    "bl_brackets = bool(())\n",
    "bl_0 = bool(0)\n",
    "print(\"%s 的类型为：%s\" %(bl_none, type(bl_none)))\n",
    "print(\"%s 的类型为：%s\" %(bl_blank, type(bl_blank)))\n",
    "print(\"%s 的类型为：%s\" %(bl_brackets, type(bl_brackets)))\n",
    "print(\"%s 的类型为：%s\" %(bl_0, type(bl_0)))"
   ]
  },
  {
   "cell_type": "markdown",
   "metadata": {
    "heading_collapsed": true,
    "hidden": true
   },
   "source": [
    "## 字符串（str）\n",
    "字符串可由单引号或双引号（没区别）来创建，字符串是不可修改的。\n",
    "\n",
    "索引：index 和 find\n",
    "\n",
    "区别：index 和 find 都可以进行字符串的索引，区别在于索引的数据不存在的时候，index 返回的是 ValueError 错误；而 find 返回的是 -1。"
   ]
  },
  {
   "cell_type": "code",
   "execution_count": 29,
   "metadata": {
    "hidden": true,
    "run_control": {
     "marked": false
    }
   },
   "outputs": [
    {
     "name": "stdout",
     "output_type": "stream",
     "text": [
      "1234cabdef 的 index 索引是 5\n",
      "1234cabdef 的 index 索引是不存在返回 'str' object is not callable\n",
      ".............................\n",
      "\n",
      "1234cabdef 的 index 索引是 5\n",
      "1234cabdef 的 index 索引是 -1\n"
     ]
    }
   ],
   "source": [
    "str_sample = \"1234cabdef\"\n",
    "index_str1 = str_sample.index(\"a\")\n",
    "print(\"%s 的 index 索引是 %s\" % (str_sample, index_str1))\n",
    "try:\n",
    "    index_str2 = str_sample(\"x\")\n",
    "except Exception as e:\n",
    "    print(\"%s 的 index 索引是不存在返回 %s\" % (str_sample, e))\n",
    "    \n",
    "print(\".............................\\n\")\n",
    "\n",
    "find_str1 = str_sample.find(\"ab\")\n",
    "print(\"%s 的 index 索引是 %s\" % (str_sample, find_str1))\n",
    "find_str2 =  str_sample.find(\"x\")\n",
    "print(\"%s 的 index 索引是 %s\" % (str_sample, find_str2))"
   ]
  },
  {
   "cell_type": "markdown",
   "metadata": {
    "hidden": true
   },
   "source": [
    "### 切片 - [start: end: step]"
   ]
  },
  {
   "cell_type": "code",
   "execution_count": 44,
   "metadata": {
    "hidden": true,
    "run_control": {
     "marked": false
    }
   },
   "outputs": [
    {
     "name": "stdout",
     "output_type": "stream",
     "text": [
      "1234567890abcdef 的切片是：1234\n",
      "1234567890abcdef 的切片是：135\n"
     ]
    }
   ],
   "source": [
    "str_sample = \"1234567890abcdef\"\n",
    "section_str_1 = str_sample[0: 4]\n",
    "section_str_2 = str_sample[0: 6: 2]\n",
    "print(\"%s 的切片是：%s\" % (str_sample, section_str_1))\n",
    "print(\"%s 的切片是：%s\" % (str_sample, section_str_2))"
   ]
  },
  {
   "cell_type": "markdown",
   "metadata": {
    "hidden": true
   },
   "source": [
    "### 遍历 - for"
   ]
  },
  {
   "cell_type": "code",
   "execution_count": 53,
   "metadata": {
    "hidden": true,
    "run_control": {
     "marked": false
    }
   },
   "outputs": [
    {
     "name": "stdout",
     "output_type": "stream",
     "text": [
      "字符串的元素有：1\n",
      "字符串的元素有：2\n",
      "字符串的元素有：3\n",
      "字符串的元素有：4\n",
      "字符串的元素有：5\n",
      "字符串的元素有：6\n",
      "字符串的元素有：7\n",
      "字符串的元素有：8\n",
      "字符串的元素有：9\n",
      "字符串的元素有：0\n",
      "字符串的元素有：a\n",
      "字符串的元素有：b\n",
      "字符串的元素有：c\n",
      "字符串的元素有：d\n",
      "字符串的元素有：e\n",
      "字符串的元素有：f\n"
     ]
    }
   ],
   "source": [
    "str_sample = \"1234567890abcdef\"\n",
    "for i in str_sample:\n",
    "    print(\"字符串的元素有：%s\" % i)\n",
    "# for i in range(len(str_sample)):\n",
    "#    print(\"字符串的元素有：%s\" % str_sample[i])"
   ]
  },
  {
   "cell_type": "markdown",
   "metadata": {
    "hidden": true
   },
   "source": [
    "### 删除 - del\n"
   ]
  },
  {
   "cell_type": "code",
   "execution_count": 55,
   "metadata": {
    "hidden": true,
    "run_control": {
     "marked": false
    }
   },
   "outputs": [
    {
     "name": "stdout",
     "output_type": "stream",
     "text": [
      "del_str: name 'del_str' is not defined\n"
     ]
    }
   ],
   "source": [
    "del_str = \"del none\"\n",
    "del del_str\n",
    "try:\n",
    "    print(\"del_str: \", del_str)\n",
    "except Exception as e:\n",
    "    print(\"del_str: %s\" % e)"
   ]
  },
  {
   "cell_type": "markdown",
   "metadata": {
    "hidden": true
   },
   "source": [
    "### 分割 - split + partition\n",
    "partition 指定分隔符，split 指定分隔符分割"
   ]
  },
  {
   "cell_type": "code",
   "execution_count": 65,
   "metadata": {
    "hidden": true,
    "run_control": {
     "marked": false
    }
   },
   "outputs": [
    {
     "name": "stdout",
     "output_type": "stream",
     "text": [
      "partition str is:   ('This', '-', 'is-a-good work tool.')\n",
      "split str is:  ['This-is-a-good', 'work', 'tool.']\n"
     ]
    }
   ],
   "source": [
    "par_spl_str = \"This-is-a-good work tool.\"\n",
    "par = par_spl_str.partition(\"-\")\n",
    "print(\"partition str is:  \", par)\n",
    "spl = par_spl_str.split(\" \", 2)\n",
    "print(\"split str is:  %s\" % spl)"
   ]
  },
  {
   "cell_type": "markdown",
   "metadata": {
    "hidden": true
   },
   "source": [
    "### 替换 - replace、strip、lstrip、rstrip"
   ]
  },
  {
   "cell_type": "code",
   "execution_count": 70,
   "metadata": {
    "hidden": true,
    "run_control": {
     "marked": false
    }
   },
   "outputs": [
    {
     "name": "stdout",
     "output_type": "stream",
     "text": [
      "replace str is:   This is a bad boy. \n",
      "strip str(去掉字符串两端的空格) is:  This is a good boy.\n",
      "lstrip str(去掉字符串左端的空格) is:  This is a good boy. \n",
      "rstrip str(去掉字符串左端的空格) is:   This is a good boy.\n"
     ]
    }
   ],
   "source": [
    "str_sample = \" This is a good boy. \"\n",
    "print(\"replace str is: \", str_sample.replace(\"good\", \"bad\"))\n",
    "print(\"strip str(去掉字符串两端的空格) is: \", str_sample.strip())\n",
    "print(\"lstrip str(去掉字符串左端的空格) is: \", str_sample.lstrip())\n",
    "print(\"rstrip str(去掉字符串左端的空格) is: \", str_sample.rstrip())"
   ]
  },
  {
   "cell_type": "markdown",
   "metadata": {
    "hidden": true
   },
   "source": [
    "### 连接 - join"
   ]
  },
  {
   "cell_type": "code",
   "execution_count": 71,
   "metadata": {
    "hidden": true,
    "run_control": {
     "marked": false
    }
   },
   "outputs": [
    {
     "name": "stdout",
     "output_type": "stream",
     "text": [
      "a-->b-->c-->d-->e-->f-->g-->h\n"
     ]
    }
   ],
   "source": [
    "str_sample = \"abcdefgh\"\n",
    "print(\"-->\".join(str_sample))"
   ]
  },
  {
   "cell_type": "markdown",
   "metadata": {
    "hidden": true
   },
   "source": [
    "### 大小写转化 \n",
    "    capitalize - 第一个单词首字母大写\n",
    "    lower - 所有字符转换为小写字母\n",
    "    upper - 所有字符转换为大写字母\n",
    "    title - 将字符串转换为标题形式\n",
    "    swapcase - 字符串大小写相互转换"
   ]
  },
  {
   "cell_type": "code",
   "execution_count": 20,
   "metadata": {
    "hidden": true,
    "run_control": {
     "marked": false
    }
   },
   "outputs": [
    {
     "name": "stdout",
     "output_type": "stream",
     "text": [
      "capitalize str is: I am boy.\n",
      "lower str is: i am a boy.\n",
      "upper str is: I AM A BOY.\n",
      "title str is: I Am A Boy.\n",
      "swapcase str is: i aM a bOY.\n"
     ]
    }
   ],
   "source": [
    "capitalize_str = \"i am boy.\"\n",
    "print(\"capitalize str is: %s\" % capitalize_str.capitalize())\n",
    "lower_str = \"I AM A BOY.\"\n",
    "print(\"lower str is: %s\" % lower_str.lower())\n",
    "upper_str = \"i am a boy.\"\n",
    "print(\"upper str is: %s\" % upper_str.upper())\n",
    "title_str = \"i am a boy.\"\n",
    "print(\"title str is: %s\" % title_str.title())\n",
    "swapcase_str = \"I Am A Boy.\"\n",
    "print(\"swapcase str is: %s\" % swapcase_str.swapcase())"
   ]
  },
  {
   "cell_type": "markdown",
   "metadata": {
    "heading_collapsed": true,
    "hidden": true
   },
   "source": [
    "### 字符串始末 - startswith、endswith"
   ]
  },
  {
   "cell_type": "code",
   "execution_count": 27,
   "metadata": {
    "hidden": true,
    "run_control": {
     "marked": false
    }
   },
   "outputs": [
    {
     "name": "stdout",
     "output_type": "stream",
     "text": [
      "str_sample startswith is: True\n",
      "str_sample startswith is: False\n",
      "str_sample endswith is: True\n",
      "str_sample endswith is: False\n"
     ]
    }
   ],
   "source": [
    "str_sample = \"We are lovely person.\"\n",
    "print(\"str_sample startswith is: %s\" % str_sample.startswith(\"We\"))\n",
    "print(\"str_sample startswith is: %s\" % str_sample.startswith(\"we\"))\n",
    "print(\"str_sample endswith is: %s\" % str_sample.endswith(\"n.\"))\n",
    "print(\"str_sample endswith is: %s\" % str_sample.endswith(\"n\"))"
   ]
  },
  {
   "cell_type": "markdown",
   "metadata": {
    "heading_collapsed": true,
    "hidden": true
   },
   "source": [
    "### 判断字符串\n",
    "    isalnum - 字符串是数字或字母的组合\n",
    "    isalpha - 字符串是字母组合\n",
    "    isdigit - 字符串是数字组合"
   ]
  },
  {
   "cell_type": "code",
   "execution_count": 43,
   "metadata": {
    "code_folding": [],
    "hidden": true,
    "run_control": {
     "marked": false
    }
   },
   "outputs": [
    {
     "name": "stdout",
     "output_type": "stream",
     "text": [
      "数字或字母组合\n",
      "字母组合\n",
      "数字组合\n",
      "数字或字母组合\n"
     ]
    }
   ],
   "source": [
    "def judge_str(str_sample):\n",
    "    if str_sample.isdigit() == True:\n",
    "        print(\"数字组合\")\n",
    "    elif str_sample.isalpha() == True:\n",
    "        print(\"字母组合\")\n",
    "    elif str_sample.isalnum() == True:\n",
    "        print(\"数字或字母组合\")\n",
    "    else:\n",
    "        print(\"混杂组合\")\n",
    "        \n",
    "if __name__ == \"__main__\":\n",
    "    str_sample_1 = \"abc123\"\n",
    "    str_sample_2 = \"abc\"\n",
    "    str_sample_3 = \"123\"\n",
    "    str_sample_4 = \"abc123字符串\"\n",
    "    judge_str(str_sample_1)\n",
    "    judge_str(str_sample_2)\n",
    "    judge_str(str_sample_3)\n",
    "    judge_str(str_sample_4)\n"
   ]
  },
  {
   "cell_type": "markdown",
   "metadata": {
    "heading_collapsed": true,
    "hidden": true
   },
   "source": [
    "### 格式化输出 - %、format、format_map"
   ]
  },
  {
   "cell_type": "code",
   "execution_count": 51,
   "metadata": {
    "hidden": true,
    "run_control": {
     "marked": false
    }
   },
   "outputs": [
    {
     "name": "stdout",
     "output_type": "stream",
     "text": [
      "My name is A, i am 26 years old.\n",
      "My name is B, i am 25 years old.\n",
      "My name is c, i am 27 years old.\n"
     ]
    }
   ],
   "source": [
    "str_sample = \"My name is {name}, i am {age} years old.\"\n",
    "print(str_sample.format(name=\"A\", age=26))\n",
    "print(str_sample.format_map({\"name\": \"B\", \"age\": 25}))\n",
    "print(\"My name is %s, i am %s years old.\" % (\"c\", 27))"
   ]
  },
  {
   "cell_type": "markdown",
   "metadata": {
    "heading_collapsed": true,
    "hidden": true
   },
   "source": [
    "### 扩展 - expandtabs"
   ]
  },
  {
   "cell_type": "code",
   "execution_count": 52,
   "metadata": {
    "hidden": true,
    "run_control": {
     "marked": false
    }
   },
   "outputs": [
    {
     "name": "stdout",
     "output_type": "stream",
     "text": [
      "str_sample expandtabs str is: name    age     sex     A       22      '男'     B       23      '女'\n"
     ]
    }
   ],
   "source": [
    "str_sample = \"name\\tage\\tsex\\tA\\t22\\t'男'\\tB\\t23\\t'女'\"\n",
    "print(\"str_sample expandtabs str is: %s\" % str_sample.expandtabs())"
   ]
  },
  {
   "cell_type": "markdown",
   "metadata": {
    "heading_collapsed": true,
    "hidden": true
   },
   "source": [
    "## 列表（list）\n",
    "是由一系列特定元素顺序排列的元素组成，组成元素组成可以是：数字、字符串、列表、元组、布尔值、字典，列表是可以修改的。"
   ]
  },
  {
   "cell_type": "markdown",
   "metadata": {
    "heading_collapsed": true,
    "hidden": true
   },
   "source": [
    "### 取值（索引+切片）\n",
    "    索引 - 根据特定位置取值\n",
    "    切片 - 根据指定范围位置取值"
   ]
  },
  {
   "cell_type": "code",
   "execution_count": 10,
   "metadata": {
    "hidden": true
   },
   "outputs": [
    {
     "name": "stdout",
     "output_type": "stream",
     "text": [
      "5 位置上索引的值是：[1, 2, 3]\n",
      "0:4之间的切片值是：[123, 'sample', [1, 2, 3], (1, 2, 3)]\n",
      "反向输出列表方法一：[{'a': 1.0, 'b': 2}, True, (1, 2, 3), [1, 2, 3], 'sample', 123]\n",
      "反向输出列表方法二：[{'a': 1.0, 'b': 2}, True, (1, 2, 3), [1, 2, 3], 'sample', 123]\n"
     ]
    }
   ],
   "source": [
    "list_sample = [123, \"sample\", [1,2,3], (1,2,3), True, {\"a\": 1., \"b\": 2}]\n",
    "print(\"%s 位置上索引的值是：%s\" % (5, list_sample[2]))\n",
    "print(\"%s:%s之间的切片值是：%s\" % (0,4, list_sample[0:4]))\n",
    "print(\"反向输出列表方法一：%s\" % list_sample[::-1])\n",
    "list_sample.reverse()\n",
    "print(\"反向输出列表方法二：%s\" % list_sample)"
   ]
  },
  {
   "cell_type": "markdown",
   "metadata": {
    "heading_collapsed": true,
    "hidden": true
   },
   "source": [
    "### 修改（追加、拓展、插入、取出、删除）\n",
    "\n",
    "    append([列表元素1, 列表元素2]) - 将元素整体添加\n",
    "    extend([列表元素1, 列表元素2]) - 将元素分解添加\n",
    "    insert(插入的位置, 插入的元素)  - 插入元素\n",
    "    pop() - 取出元素，pop一次就取出最后一个元素\n",
    "    remove(要移除的元素) - 删除指定的元素\n",
    "    del list_sample[元素索引位置] - 删除指定位置上的元素"
   ]
  },
  {
   "cell_type": "code",
   "execution_count": 25,
   "metadata": {
    "hidden": true
   },
   "outputs": [
    {
     "name": "stdout",
     "output_type": "stream",
     "text": [
      "**append** list is: [123, 'sample', [1, 2, 3], (1, 2, 3), True, {'a': 1.0, 'b': 2}, [11, 22]]\n",
      "**extend** list is: [123, 'sample', [1, 2, 3], (1, 2, 3), True, {'a': 1.0, 'b': 2}, [11, 22], 33, 44]\n",
      "**insert** list is: [123, 'sample', 'list replace', [1, 2, 3], (1, 2, 3), True, {'a': 1.0, 'b': 2}, [11, 22], 33, 44]\n",
      "**pop** list is: [123, 'sample', 'list replace', [1, 2, 3], (1, 2, 3), True, {'a': 1.0, 'b': 2}, [11, 22], 33]\n",
      "**remove** list is: ['sample', 'list replace', [1, 2, 3], (1, 2, 3), True, {'a': 1.0, 'b': 2}, [11, 22], 33]\n",
      "**del** list is: ['list replace', [1, 2, 3], (1, 2, 3), True, {'a': 1.0, 'b': 2}, [11, 22], 33]\n"
     ]
    }
   ],
   "source": [
    "list_sample = [123, \"sample\", [1,2,3], (1,2,3), True, {\"a\": 1., \"b\": 2}]\n",
    "list_sample.append([11,22])\n",
    "print(\"**append** list is: %s\" % list_sample)\n",
    "list_sample.extend([33, 44])\n",
    "print(\"**extend** list is: %s\" % list_sample)\n",
    "list_sample.insert(2, \"list replace\")\n",
    "print(\"**insert** list is: %s\" % list_sample)\n",
    "list_sample.pop()\n",
    "print(\"**pop** list is: %s\" % list_sample)\n",
    "list_sample.remove(123)\n",
    "print(\"**remove** list is: %s\" % list_sample)\n",
    "del list_sample[0]\n",
    "print(\"**del** list is: %s\" % list_sample)"
   ]
  },
  {
   "cell_type": "markdown",
   "metadata": {
    "heading_collapsed": true,
    "hidden": true
   },
   "source": [
    "### 排序 - sorted\n",
    "    list_sample.sorte() - 排序后原list_sample就变成了一个新的list\n",
    "    sorted(list_sample) - 排序后不改变原list的顺序"
   ]
  },
  {
   "cell_type": "code",
   "execution_count": 31,
   "metadata": {
    "hidden": true
   },
   "outputs": [
    {
     "name": "stdout",
     "output_type": "stream",
     "text": [
      "sorted list is: [11, 35, 42, 55, 66, 88]\n",
      "list is: [11, 55, 88, 66, 35, 42]\n",
      "sorted reverse list is: [88, 66, 55, 42, 35, 11]\n"
     ]
    }
   ],
   "source": [
    "list_sample = [11,55,88,66,35,42]\n",
    "# list_sample.sort()\n",
    "# print(\"sort list is: %s\" % list_sample)\n",
    "print(\"sorted list is: %s\" % sorted(list_sample))\n",
    "print(\"list is: %s\" % list_sample)\n",
    "print(\"sorted reverse list is: %s\" % sorted(list_sample, reverse=True))"
   ]
  },
  {
   "cell_type": "markdown",
   "metadata": {
    "hidden": true
   },
   "source": [
    "## 元组（tuple）\n",
    "与list相似，即为不可修改的list。"
   ]
  },
  {
   "cell_type": "code",
   "execution_count": null,
   "metadata": {
    "hidden": true
   },
   "outputs": [],
   "source": [
    "tuple_sample = (1,2,3,4,5)\n",
    "print(\"tuple 切片是: %s\" % tuple_sample[0])"
   ]
  },
  {
   "cell_type": "markdown",
   "metadata": {
    "hidden": true
   },
   "source": [
    "## 字典\n",
    "    字典是一系列键值对，每个键值对通过逗号分割。特点：\n",
    "        键必须是不可变的，可以是数字、字符串、元组、布尔值；\n",
    "        键是唯一的"
   ]
  },
  {
   "cell_type": "markdown",
   "metadata": {
    "cell_style": "center",
    "deletable": false,
    "editable": false,
    "hidden": true,
    "run_control": {
     "frozen": true
    }
   },
   "source": [
    "### "
   ]
  },
  {
   "cell_type": "code",
   "execution_count": 42,
   "metadata": {
    "code_folding": [],
    "hidden": true
   },
   "outputs": [
    {
     "name": "stdout",
     "output_type": "stream",
     "text": [
      "dict is {('ok',): 1, 'abc': '中文', True: ['abc']}\n",
      "dict 获取字典的键为： dict_keys([('ok',), 'abc', True])\n",
      "dict 获取字典的值为： dict_values([1, '中文', ['abc']])\n",
      "('ok',) 的值为：1\n",
      "abc 的值为：中文\n",
      "True 的值为：['abc']\n"
     ]
    }
   ],
   "source": [
    "dict_sample = {\n",
    "    ('ok', ): 1,\n",
    "    \"abc\": \"中文\",\n",
    "    True: ['abc']\n",
    "}\n",
    "print(\"dict is %s\" % dict_sample)\n",
    "print(\"dict 获取字典的键为：\", dict_sample.keys())\n",
    "print(\"dict 获取字典的值为：\", dict_sample.values())\n",
    "# 遍历字典元素\n",
    "for i in dict_sample:\n",
    "    print(\"%s 的值为：%s\" % (i, dict_sample[i]))"
   ]
  },
  {
   "cell_type": "markdown",
   "metadata": {
    "hidden": true
   },
   "source": [
    "## 集合（set）\n",
    "集合是一个无序不重复的元素集，由于集合是不重复的元素，所以可以对字符串、列表、元组进行去重。"
   ]
  },
  {
   "cell_type": "markdown",
   "metadata": {
    "hidden": true
   },
   "source": [
    "### 创建\n",
    "    set - 创建一个可变的集合\n",
    "    frozenset - 创建一个不可变的集合"
   ]
  },
  {
   "cell_type": "code",
   "execution_count": 54,
   "metadata": {
    "hidden": true
   },
   "outputs": [
    {
     "name": "stdout",
     "output_type": "stream",
     "text": [
      "set_sample_1 is: {True, 'abc', 'ABC', 'test', (12, 3)}\n",
      "set_sample_set is: {True, 'ABC', 'test', 'abc', (12, 3)}\n",
      "frozen_sample is frozenset({True, 'ABC', 'test', 'abc', (12, 3)})\n",
      "{True, 'abc', 'ABC', 'test', (12, 3)} equal {True, 'ABC', 'test', 'abc', (12, 3)} \n",
      "\n",
      "{True, 'ABC', 'test', 'abc', (12, 3)} equal frozenset({True, 'ABC', 'test', 'abc', (12, 3)}) \n",
      "\n"
     ]
    }
   ],
   "source": [
    "# set_sample_error = {\"ABC\", \"abc\", 1, 2, [1,2,3]}\n",
    "# print(\"set_sample_1 is: %s\" % sett_sample_error)\n",
    "set_sample_1 = {\"ABC\", 'abc', \"test\", \"test\", (12, 3), True}\n",
    "print(\"set_sample_1 is: %s\" % set_sample_1)\n",
    "set_sample_set = set({\"ABC\", 'abc', \"test\", \"test\", (12, 3), True})\n",
    "print(\"set_sample_set is: %s\" % set_sample_set)\n",
    "frozenset_sample = frozenset({\"ABC\", 'abc', \"test\", \"test\", (12, 3), True})\n",
    "print(\"frozen_sample is %s\" % frozenset_sample)\n",
    "\n",
    "def compare_set(set_1, set_2):\n",
    "    if set_1 == set_2:\n",
    "        print(\"%s equal %s \\n\" % (set_1, set_2))\n",
    "    else:\n",
    "        print(\"%s not equal %s \\ng\" % (set_1, set_2))\n",
    "compare_set(set_sample_1, set_sample_set)\n",
    "compare_set(set_sample_set, frozenset_sample)"
   ]
  },
  {
   "cell_type": "markdown",
   "metadata": {
    "hidden": true
   },
   "source": [
    "### 修改（add、update）\n",
    "    add(添加元素) - 添加元素作为整体修改\n",
    "    update(添加元素) - 添加元素分解成单个元素修改"
   ]
  },
  {
   "cell_type": "code",
   "execution_count": 66,
   "metadata": {
    "hidden": true
   },
   "outputs": [
    {
     "name": "stdout",
     "output_type": "stream",
     "text": [
      "set add is: {(1, 2), 'c', 'Hello', 'a', 'b'}\n",
      "set update is: {'D', 'A', 2, 1, 'H', 'B', 'l', 'e', 'o'}\n"
     ]
    }
   ],
   "source": [
    "set_sample = {\"a\", \"b\", \"c\"}\n",
    "set_sample.add(\"Hello\")\n",
    "set_sample.add((1,2))\n",
    "print(\"set add is: %s\" % (set_sample))\n",
    "set_sample_update = {\"A\", \"B\", 1, 2}\n",
    "set_sample_update.update(\"D\")\n",
    "set_sample_update.update(\"Hello\")\n",
    "print(\"set update is: %s\" % set_sample_update)"
   ]
  },
  {
   "cell_type": "markdown",
   "metadata": {
    "hidden": true
   },
   "source": [
    "### 删除（remove、pop、discard）\n",
    "    remove(要移除的元素) - 删除传入要移除的元素，如果元素不存则报错\n",
    "    pop() - 删除集合中任意一个元素\n",
    "    discard(要移除的元素) - 删除传入要移除的元素，如果元素不存在无视不会保存 "
   ]
  },
  {
   "cell_type": "code",
   "execution_count": 77,
   "metadata": {
    "hidden": true
   },
   "outputs": [
    {
     "name": "stdout",
     "output_type": "stream",
     "text": [
      "set remove is: {'C', 'A', 1, (1, 2, 'C')}\n",
      "e error is: <built-in method with_traceback of KeyError object at 0x7ff9c1c29888>\n",
      "set pop is: {'A', 1, (1, 2, 'C')}\n",
      "set discard is: {'A', 1, (1, 2, 'C')}\n"
     ]
    }
   ],
   "source": [
    "set_sample = set({\"A\", \"B\", \"C\", 1, (1,2,\"C\")})\n",
    "set_sample.remove(\"B\")\n",
    "print(\"set remove is: %s\" % set_sample)\n",
    "try:\n",
    "    set_sample.remove(\"E\")\n",
    "    print(\"set remove is: %s\" % set_sample)\n",
    "except Exception as e:\n",
    "    print(\"e error is: %s\" % e.with_traceback)\n",
    "set_sample.pop()\n",
    "print(\"set pop is: %s\" % set_sample)\n",
    "set_sample.discard(\"E\")\n",
    "print(\"set discard is: %s\" % set_sample)"
   ]
  },
  {
   "cell_type": "markdown",
   "metadata": {
    "hidden": true
   },
   "source": [
    "### 关系运算（&、|、-、^、子集、父集）\n",
    "    A & B           - 交集，A 和 B 共同有的元素的集合\n",
    "    A | B           - 并集，A 和 B 集合去重后的合集的集合\n",
    "    A - B           - 差集，A 相比 B 中 A 独有的元素\n",
    "    A ^ B           - 补集，A 和 B 中独有的元素\n",
    "    A.issubset(B)   - A 是否是 B 的子集\n",
    "    A.isupperset(B) - A 是否是 B 的父集"
   ]
  },
  {
   "cell_type": "code",
   "execution_count": 96,
   "metadata": {
    "hidden": true
   },
   "outputs": [
    {
     "name": "stdout",
     "output_type": "stream",
     "text": [
      "{(1, 2), True, 'a', 'c', 'E'} & {(1, 2), True, 'a', 'c', 'B', 123} is: {(1, 2), True, 'a', 'c'}\n",
      "{(1, 2), True, 'a', 'c', 'E'} | {(1, 2), True, 'a', 'c', 'B', 123} is: {(1, 2), True, 'c', 'E', 'B', 'a', 123}\n",
      "{(1, 2), True, 'a', 'c', 'E'} - {(1, 2), True, 'a', 'c', 'B', 123} is: {'E'}\n",
      "{(1, 2), True, 'a', 'c', 'B', 123} - {(1, 2), True, 'a', 'c', 'E'} is: {123, 'B'}\n",
      "{(1, 2), True, 'a', 'c', 'E'} ^ {(1, 2), True, 'a', 'c', 'B', 123} is: {'E', 'B', 123}\n",
      "{(1, 2), True, 'a', 'c', 'B', 123} ^ {(1, 2), True, 'a', 'c', 'E'} is: {'E', 'B', 123}\n",
      "{(1, 2), True, 'a', 'c', 'E'} issubset {(1, 2), True, 'a', 'c', 'B', 123} is: False\n",
      "{'a', True, 'c', (1, 2)} issubset {(1, 2), True, 'a', 'c', 'B', 123} is: True\n",
      "{(1, 2), True, 'a', 'c', 'B', 123} isupperset {(1, 2), True, 'a', 'c', 'E'} is: False\n",
      "{(1, 2), True, 'a', 'c', 'B', 123} isupperset {'a', True, 'c', (1, 2)} is: True\n"
     ]
    }
   ],
   "source": [
    "set_sample_1 = set({\"a\", \"c\", (1, 2), True, \"E\"})\n",
    "set_sample_11 = set({\"a\", \"c\", (1, 2), True})\n",
    "set_sample_2 = set({\"a\", \"c\", (1, 2), True, 123, \"a\", \"B\"})\n",
    "print(\"%s & %s is: %s\" % (set_sample_1, set_sample_2, set_sample_1 & set_sample_2))\n",
    "print(\"%s | %s is: %s\" % (set_sample_1, set_sample_2, set_sample_1 | set_sample_2))\n",
    "print(\"%s - %s is: %s\" % (set_sample_1, set_sample_2, set_sample_1 - set_sample_2))\n",
    "print(\"%s - %s is: %s\" % (set_sample_2, set_sample_1, set_sample_2 - set_sample_1))\n",
    "print(\"%s ^ %s is: %s\" % (set_sample_1, set_sample_2, set_sample_1 ^ set_sample_2))\n",
    "print(\"%s ^ %s is: %s\" % (set_sample_2, set_sample_1, set_sample_2 ^ set_sample_1))\n",
    "print(\"%s issubset %s is: %s\" % (set_sample_1, set_sample_2,  set_sample_1.issubset(set_sample_2)))\n",
    "print(\"%s issubset %s is: %s\" % (set_sample_11, set_sample_2,  set_sample_11.issubset(set_sample_2)))\n",
    "print(\"%s isupperset %s is: %s\" % (set_sample_2, set_sample_1,  set_sample_2.issuperset(set_sample_1)))\n",
    "print(\"%s isupperset %s is: %s\" % (set_sample_2, set_sample_11,  set_sample_2.issuperset(set_sample_11)))"
   ]
  },
  {
   "cell_type": "markdown",
   "metadata": {
    "heading_collapsed": true,
    "hidden": true
   },
   "source": [
    "### 栈（stack）"
   ]
  },
  {
   "cell_type": "code",
   "execution_count": 97,
   "metadata": {
    "hidden": true
   },
   "outputs": [],
   "source": [
    "# 稍后"
   ]
  },
  {
   "cell_type": "markdown",
   "metadata": {
    "heading_collapsed": true,
    "hidden": true
   },
   "source": [
    "### 堆（queue）"
   ]
  },
  {
   "cell_type": "code",
   "execution_count": 98,
   "metadata": {
    "hidden": true
   },
   "outputs": [],
   "source": [
    "# 稍后"
   ]
  },
  {
   "cell_type": "markdown",
   "metadata": {
    "heading_collapsed": true
   },
   "source": [
    "# 逻辑控制\n",
    "常用的逻辑控制结构有：顺序结构、选择结构 和 循环结构\n",
    "    \n",
    "    顺序结构：就是按照代码的编写顺序，一行一行进行顺序执行。\n",
    "           "
   ]
  },
  {
   "cell_type": "markdown",
   "metadata": {
    "heading_collapsed": true,
    "hidden": true
   },
   "source": [
    "## 选择结构\n",
    "     选择结构：根据条件判断进行选择性的执行代码分支。\n",
    "        if...elif...else..."
   ]
  },
  {
   "cell_type": "code",
   "execution_count": 104,
   "metadata": {
    "hidden": true
   },
   "outputs": [
    {
     "name": "stdout",
     "output_type": "stream",
     "text": [
      "crisimple is in service, he is a outstanding soldier.\n",
      "17 is not a soldier.\n"
     ]
    }
   ],
   "source": [
    "def judge_people(name, age, score):\n",
    "    if age >= 18:\n",
    "        if name == \"crisimple\":\n",
    "            if score == 100:\n",
    "                print(\"%s is in service, he is a outstanding soldier.\" % name)\n",
    "            else:\n",
    "                print(\"He should go on.\")\n",
    "        else:\n",
    "            print(\"%s is not in service.\" % name)\n",
    "    else:\n",
    "        print(\"%s is not a soldier.\" % age)\n",
    "\n",
    "if __name__ == \"__main__\":\n",
    "    judge_people(\"crisimple\", 25, 100)\n",
    "    judge_people(\"crisimple\", 17, 100)"
   ]
  },
  {
   "cell_type": "markdown",
   "metadata": {
    "hidden": true
   },
   "source": [
    "## 循环结构\n",
    "    循环结构：满足一定条件，重复执行某段代码的一种编码结构。\n",
    "        while循环\n",
    "        for循环 - 常用于遍历字符串、列表、字典等数据结构"
   ]
  },
  {
   "cell_type": "code",
   "execution_count": 133,
   "metadata": {
    "hidden": true
   },
   "outputs": [
    {
     "name": "stdout",
     "output_type": "stream",
     "text": [
      "1*1=1   \n",
      "\n",
      "1*2=2   2*2=4   \n",
      "\n",
      "1*3=3   2*3=6   3*3=9   \n",
      "\n",
      "1*4=4   2*4=8   3*4=12   4*4=16   \n",
      "\n",
      "1*5=5   2*5=10   3*5=15   4*5=20   5*5=25   \n",
      "\n",
      "1*6=6   2*6=12   3*6=18   4*6=24   5*6=30   6*6=36   \n",
      "\n",
      "1*7=7   2*7=14   3*7=21   4*7=28   5*7=35   6*7=42   7*7=49   \n",
      "\n",
      "1*8=8   2*8=16   3*8=24   4*8=32   5*8=40   6*8=48   7*8=56   8*8=64   \n",
      "\n",
      "1*9=9   2*9=18   3*9=27   4*9=36   5*9=45   6*9=54   7*9=63   8*9=72   9*9=81   \n",
      "\n"
     ]
    }
   ],
   "source": [
    "for i in range(1, 10):\n",
    "    for j in range(1, i+1):\n",
    "        print(\"%s*%s=%s\" % (j, i, (i*j)), end=\"   \")\n",
    "    print(\"\\n\")"
   ]
  },
  {
   "cell_type": "markdown",
   "metadata": {},
   "source": [
    "# IO操作\n",
    "读写文件是最常见的IO操作，现代操作系统不允许普通程序直接操作磁盘，读写文件就是请求操作系统打开一个文件操作对象，通过操作系统提供的接口进行对文件的读写操作。"
   ]
  },
  {
   "cell_type": "markdown",
   "metadata": {},
   "source": [
    "## 文件读取"
   ]
  },
  {
   "cell_type": "code",
   "execution_count": null,
   "metadata": {},
   "outputs": [],
   "source": []
  },
  {
   "cell_type": "markdown",
   "metadata": {},
   "source": [
    "## 文件写入"
   ]
  },
  {
   "cell_type": "code",
   "execution_count": null,
   "metadata": {},
   "outputs": [],
   "source": []
  }
 ],
 "metadata": {
  "hide_input": false,
  "kernelspec": {
   "display_name": "Python 3",
   "language": "python",
   "name": "python3"
  },
  "language_info": {
   "codemirror_mode": {
    "name": "ipython",
    "version": 3
   },
   "file_extension": ".py",
   "mimetype": "text/x-python",
   "name": "python",
   "nbconvert_exporter": "python",
   "pygments_lexer": "ipython3",
   "version": "3.6.9"
  },
  "latex_envs": {
   "LaTeX_envs_menu_present": true,
   "autoclose": false,
   "autocomplete": true,
   "bibliofile": "biblio.bib",
   "cite_by": "apalike",
   "current_citInitial": 1,
   "eqLabelWithNumbers": true,
   "eqNumInitial": 1,
   "hotkeys": {
    "equation": "Ctrl-E",
    "itemize": "Ctrl-I"
   },
   "labels_anchors": false,
   "latex_user_defs": false,
   "report_style_numbering": false,
   "user_envs_cfg": false
  },
  "nbTranslate": {
   "displayLangs": [
    "*"
   ],
   "hotkey": "alt-t",
   "langInMainMenu": true,
   "sourceLang": "en",
   "targetLang": "fr",
   "useGoogleTranslate": true
  },
  "toc": {
   "base_numbering": 1,
   "nav_menu": {
    "height": "369.988px",
    "width": "758.99px"
   },
   "number_sections": true,
   "sideBar": true,
   "skip_h1_title": false,
   "title_cell": "XXXXXX",
   "title_sidebar": "BasicPython",
   "toc_cell": false,
   "toc_position": {
    "height": "calc(100% - 180px)",
    "left": "10px",
    "top": "150px",
    "width": "274.199px"
   },
   "toc_section_display": true,
   "toc_window_display": true
  },
  "varInspector": {
   "cols": {
    "lenName": 16,
    "lenType": 16,
    "lenVar": 40
   },
   "kernels_config": {
    "python": {
     "delete_cmd_postfix": "",
     "delete_cmd_prefix": "del ",
     "library": "var_list.py",
     "varRefreshCmd": "print(var_dic_list())"
    },
    "r": {
     "delete_cmd_postfix": ") ",
     "delete_cmd_prefix": "rm(",
     "library": "var_list.r",
     "varRefreshCmd": "cat(var_dic_list()) "
    }
   },
   "types_to_exclude": [
    "module",
    "function",
    "builtin_function_or_method",
    "instance",
    "_Feature"
   ],
   "window_display": false
  }
 },
 "nbformat": 4,
 "nbformat_minor": 1
}
