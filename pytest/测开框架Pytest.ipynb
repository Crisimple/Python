{
 "cells": [
  {
   "cell_type": "markdown",
   "metadata": {},
   "source": [
    "# Pytest vs Unittest"
   ]
  },
  {
   "cell_type": "markdown",
   "metadata": {},
   "source": [
    "+ 测试用例设计\n",
    "    - Unitest\n",
    "        + 测试类必须继承 unittest.TestCase\n",
    "        + 测试函数必须以 test_ 开头\n",
    "        + 测试类必须有 unittest.main() 方法\n",
    "    - Pytest\n",
    "        + 测试文件必须以 test_ 开头，或者以 _test 结尾\n",
    "        + 测试类必须以 Test 开头\n",
    "        + 测试函数必须以 test 开头\n",
    "        + 测试类里不能使用 \"______init__\" 方法\n",
    "        + Pytest 兼容 Unittest 测试用例，但 Unittest 不兼容 Pytest\n",
    "        \n",
    "+ 断言比较\n",
    "    - Unittest\n",
    "        + assertEqual(a, b)    # 判断a和b是否相等\n",
    "        + assertNotEqual(a, b)     # 判断a不等于b\n",
    "        + assertTrue(a)    # 判断a是否为Ture\n",
    "        + assertFalse(a)    #判断a是否为False\n",
    "        + assertIn(a, b)     # a 包含在b里面\n",
    "        + asserNotIn(a, b)    # a 不包含在b里面\n",
    "    - Pytest\n",
    "        + assert 后面加需要断言的条件就可以了，例如：\n",
    "        + assert  a = = b  # 判断a是否等于b\n",
    "        + assert a != b  # 判断a不等于b、\n",
    "        + assert a in b   # 判断b包含a\n",
    "+ 用例前置和后置\n",
    "    - Unittest\n",
    "        + 通过setup每个用例执行前执行，teardown每个用例执行后执行\n",
    "        + 通过setupclass类里面所有用例执行前执行，teardownclass类里面所有用例执行后执行\n",
    "    - Pytest\n",
    "        + 模块级别：setup_module/teardown_module，整个.py全部用例开始前执行/全部用例执行完后执行\n",
    "        + 函数级别：setup_function/teardown_function，只对函数级别生效，每个用例开始前和结束后执行一次\n",
    "        + 类级别：setup_class/teardown_function,只对类级别生效，类里面所有用例开始前执行一次，所有用例执行完执行一次\n",
    "        + 方法级别：setup_method/teardown_method,只是类里面方法级别生效，方法开始前执行一致，方法结束后执行一次\n",
    "        + 方法级别：setup/teardown，这个与setup_method/teardown_method用法很类似，但是级别比method级别要低，也就是说在同一个方法中会先执行setup_method再执行setup，方法结束后先执行teardown再执行teardown_method\n",
    "        +  通过firture可以自定义pytest的前置和后置，格式fixture(scope=”function”, params=None, autouse=False, ids=None, name=None)\n",
    "            - scope:有四个级别，function（默认）,class, module, session\n",
    "            - params:参数列表\n",
    "            - autouse:False为默认值，意思代表需要根据设置的条件（scope级别）来激活fixture，如果为Ture，则表示所有function级别的都被激活fixture\n",
    "            - ids：每个字符串id的列表，感觉没啥实质性作用\n",
    "            - name：fixture的名字\n",
    "+ 参数化\n",
    "    - Unittest：可以通过nose_parameterized来实现，格式：@nose_parameterized.parameterized.expand(data), ‘data’为list格式的参数化的数据\n",
    "    - Pytest：通过装饰器@pytest.mark.parametrize来实现\n",
    "+ 生成报告方式\n",
    "    - Unittest：通过HTMLTestRunner生成\n",
    "    - Pytest：通过pytest-html生成html格式报告；结合 Allure 可以生成更漂亮的测试报告\n",
    "\n"
   ]
  },
  {
   "cell_type": "markdown",
   "metadata": {},
   "source": [
    "# 环境配置"
   ]
  },
  {
   "cell_type": "markdown",
   "metadata": {},
   "source": [
    "## 介绍"
   ]
  },
  {
   "cell_type": "markdown",
   "metadata": {},
   "source": [
    "pytest 是一个非常成熟的 Python 测试框架，可以做到做个场景的测试工作，如：单元测试、接口测试、web测试等。\n",
    "\n",
    "+ pytest-selenium（集成 selenium）\n",
    "+ pytest-html（完美html测试报告生成）\n",
    "+ pytest-rerunfailures（失败 case 重复执行）\n",
    "+ pytest-xdist（多CPU分发）\n",
    "+ 测试用例的 skip 和 xfail 处理\n",
    "+ 可以很好的和 jenkins 集成\n",
    "\n",
    "pytest 是一个插件化平台，这就是它比 unittest 强大的原因，丰富的插件扩展增强了它的功能，也可以根据自己的需要定制化开发自己的插件，非常的灵活。"
   ]
  },
  {
   "cell_type": "markdown",
   "metadata": {},
   "source": [
    "## 安装"
   ]
  },
  {
   "cell_type": "code",
   "execution_count": 1,
   "metadata": {},
   "outputs": [
    {
     "name": "stdout",
     "output_type": "stream",
     "text": [
      "Collecting pytest\n",
      "  Downloading http://mirrors.tencentyun.com/pypi/packages/c7/e2/c19c667f42f72716a7d03e8dd4d6f63f47d39feadd44cc1ee7ca3089862c/pytest-5.4.1-py3-none-any.whl (246kB)\n",
      "\u001b[K    100% |████████████████████████████████| 256kB 1.6MB/s ta 0:00:01\n",
      "\u001b[?25hCollecting more-itertools>=4.0.0 (from pytest)\n",
      "  Downloading http://mirrors.tencentyun.com/pypi/packages/72/96/4297306cc270eef1e3461da034a3bebe7c84eff052326b130824e98fc3fb/more_itertools-8.2.0-py3-none-any.whl (43kB)\n",
      "\u001b[K    100% |████████████████████████████████| 51kB 48.1MB/s ta 0:00:01\n",
      "\u001b[?25hCollecting packaging (from pytest)\n",
      "  Downloading http://mirrors.tencentyun.com/pypi/packages/62/0a/34641d2bf5c917c96db0ded85ae4da25b6cd922d6b794648d4e7e07c88e5/packaging-20.3-py2.py3-none-any.whl\n",
      "Collecting py>=1.5.0 (from pytest)\n",
      "  Downloading http://mirrors.tencentyun.com/pypi/packages/99/8d/21e1767c009211a62a8e3067280bfce76e89c9f876180308515942304d2d/py-1.8.1-py2.py3-none-any.whl (83kB)\n",
      "\u001b[K    100% |████████████████████████████████| 92kB 2.8MB/s ta 0:00:011\n",
      "\u001b[?25hCollecting pluggy<1.0,>=0.12 (from pytest)\n",
      "  Downloading http://mirrors.tencentyun.com/pypi/packages/a0/28/85c7aa31b80d150b772fbe4a229487bc6644da9ccb7e427dd8cc60cb8a62/pluggy-0.13.1-py2.py3-none-any.whl\n",
      "Collecting attrs>=17.4.0 (from pytest)\n",
      "  Downloading http://mirrors.tencentyun.com/pypi/packages/a2/db/4313ab3be961f7a763066401fb77f7748373b6094076ae2bda2806988af6/attrs-19.3.0-py2.py3-none-any.whl\n",
      "Collecting wcwidth (from pytest)\n",
      "  Downloading http://mirrors.tencentyun.com/pypi/packages/f6/d5/1ecdac957e3ea12c1b319fcdee8b6917ffaff8b4644d673c4d72d2f20b49/wcwidth-0.1.9-py2.py3-none-any.whl\n",
      "Collecting importlib-metadata>=0.12; python_version < \"3.8\" (from pytest)\n",
      "  Downloading http://mirrors.tencentyun.com/pypi/packages/ad/e4/891bfcaf868ccabc619942f27940c77a8a4b45fd8367098955bb7e152fb1/importlib_metadata-1.6.0-py2.py3-none-any.whl\n",
      "Collecting pyparsing>=2.0.2 (from packaging->pytest)\n",
      "  Downloading http://mirrors.tencentyun.com/pypi/packages/8a/bb/488841f56197b13700afd5658fc279a2025a39e22449b7cf29864669b15d/pyparsing-2.4.7-py2.py3-none-any.whl (67kB)\n",
      "\u001b[K    100% |████████████████████████████████| 71kB 2.2MB/s eta 0:00:01\n",
      "\u001b[?25hCollecting six (from packaging->pytest)\n",
      "  Downloading http://mirrors.tencentyun.com/pypi/packages/65/eb/1f97cb97bfc2390a276969c6fae16075da282f5058082d4cb10c6c5c1dba/six-1.14.0-py2.py3-none-any.whl\n",
      "Collecting zipp>=0.5 (from importlib-metadata>=0.12; python_version < \"3.8\"->pytest)\n",
      "  Downloading http://mirrors.tencentyun.com/pypi/packages/b2/34/bfcb43cc0ba81f527bc4f40ef41ba2ff4080e047acb0586b56b3d017ace4/zipp-3.1.0-py3-none-any.whl\n",
      "Installing collected packages: more-itertools, pyparsing, six, packaging, py, zipp, importlib-metadata, pluggy, attrs, wcwidth, pytest\n",
      "Successfully installed attrs-19.3.0 importlib-metadata-1.6.0 more-itertools-8.2.0 packaging-20.3 pluggy-0.13.1 py-1.8.1 pyparsing-2.4.7 pytest-5.4.1 six-1.14.0 wcwidth-0.1.9 zipp-3.1.0\n"
     ]
    }
   ],
   "source": [
    "# 安装 pytest \n",
    "# !pip3 install pytest"
   ]
  },
  {
   "cell_type": "code",
   "execution_count": 3,
   "metadata": {},
   "outputs": [
    {
     "name": "stdout",
     "output_type": "stream",
     "text": [
      "This is pytest version 5.4.1, imported from /home/ubuntu/.local/lib/python3.6/site-packages/pytest/__init__.py\r\n"
     ]
    }
   ],
   "source": [
    "# 查看 pytest 是否安装成功\n",
    "# !pytest --version"
   ]
  },
  {
   "cell_type": "code",
   "execution_count": 4,
   "metadata": {},
   "outputs": [
    {
     "name": "stdout",
     "output_type": "stream",
     "text": [
      "\u001b[1m============================= test session starts ==============================\u001b[0m\n",
      "platform linux -- Python 3.6.9, pytest-5.4.1, py-1.8.1, pluggy-0.13.1\n",
      "rootdir: /home/ubuntu/MySpace/Python/pytest\n",
      "collected 0 items                                                              \u001b[0m\u001b[1m\n",
      "\u001b[32mcache\u001b[0m\n",
      "    Return a cache object that can persist state between testing sessions.\n",
      "    \n",
      "    cache.get(key, default)\n",
      "    cache.set(key, value)\n",
      "    \n",
      "    Keys must be a ``/`` separated value, where the first part is usually the\n",
      "    name of your plugin or application to avoid clashes with other cache users.\n",
      "    \n",
      "    Values can be any object handled by the json stdlib module.\n",
      "\n",
      "\u001b[32mcapsys\u001b[0m\n",
      "    Enable text capturing of writes to ``sys.stdout`` and ``sys.stderr``.\n",
      "    \n",
      "    The captured output is made available via ``capsys.readouterr()`` method\n",
      "    calls, which return a ``(out, err)`` namedtuple.\n",
      "    ``out`` and ``err`` will be ``text`` objects.\n",
      "\n",
      "\u001b[32mcapsysbinary\u001b[0m\n",
      "    Enable bytes capturing of writes to ``sys.stdout`` and ``sys.stderr``.\n",
      "    \n",
      "    The captured output is made available via ``capsysbinary.readouterr()``\n",
      "    method calls, which return a ``(out, err)`` namedtuple.\n",
      "    ``out`` and ``err`` will be ``bytes`` objects.\n",
      "\n",
      "\u001b[32mcapfd\u001b[0m\n",
      "    Enable text capturing of writes to file descriptors ``1`` and ``2``.\n",
      "    \n",
      "    The captured output is made available via ``capfd.readouterr()`` method\n",
      "    calls, which return a ``(out, err)`` namedtuple.\n",
      "    ``out`` and ``err`` will be ``text`` objects.\n",
      "\n",
      "\u001b[32mcapfdbinary\u001b[0m\n",
      "    Enable bytes capturing of writes to file descriptors ``1`` and ``2``.\n",
      "    \n",
      "    The captured output is made available via ``capfd.readouterr()`` method\n",
      "    calls, which return a ``(out, err)`` namedtuple.\n",
      "    ``out`` and ``err`` will be ``byte`` objects.\n",
      "\n",
      "\u001b[32mdoctest_namespace\u001b[0m\u001b[36m [session scope]\u001b[0m\n",
      "    Fixture that returns a :py:class:`dict` that will be injected into the namespace of doctests.\n",
      "\n",
      "\u001b[32mpytestconfig\u001b[0m\u001b[36m [session scope]\u001b[0m\n",
      "    Session-scoped fixture that returns the :class:`_pytest.config.Config` object.\n",
      "    \n",
      "    Example::\n",
      "    \n",
      "        def test_foo(pytestconfig):\n",
      "            if pytestconfig.getoption(\"verbose\") > 0:\n",
      "                ...\n",
      "\n",
      "\u001b[32mrecord_property\u001b[0m\n",
      "    Add an extra properties the calling test.\n",
      "    User properties become part of the test report and are available to the\n",
      "    configured reporters, like JUnit XML.\n",
      "    The fixture is callable with ``(name, value)``, with value being automatically\n",
      "    xml-encoded.\n",
      "    \n",
      "    Example::\n",
      "    \n",
      "        def test_function(record_property):\n",
      "            record_property(\"example_key\", 1)\n",
      "\n",
      "\u001b[32mrecord_xml_attribute\u001b[0m\n",
      "    Add extra xml attributes to the tag for the calling test.\n",
      "    The fixture is callable with ``(name, value)``, with value being\n",
      "    automatically xml-encoded\n",
      "\n",
      "\u001b[32mrecord_testsuite_property\u001b[0m\u001b[36m [session scope]\u001b[0m\n",
      "    Records a new ``<property>`` tag as child of the root ``<testsuite>``. This is suitable to\n",
      "    writing global information regarding the entire test suite, and is compatible with ``xunit2`` JUnit family.\n",
      "    \n",
      "    This is a ``session``-scoped fixture which is called with ``(name, value)``. Example:\n",
      "    \n",
      "    .. code-block:: python\n",
      "    \n",
      "        def test_foo(record_testsuite_property):\n",
      "            record_testsuite_property(\"ARCH\", \"PPC\")\n",
      "            record_testsuite_property(\"STORAGE_TYPE\", \"CEPH\")\n",
      "    \n",
      "    ``name`` must be a string, ``value`` will be converted to a string and properly xml-escaped.\n",
      "\n",
      "\u001b[32mcaplog\u001b[0m\n",
      "    Access and control log capturing.\n",
      "    \n",
      "    Captured logs are available through the following properties/methods::\n",
      "    \n",
      "    * caplog.messages        -> list of format-interpolated log messages\n",
      "    * caplog.text            -> string containing formatted log output\n",
      "    * caplog.records         -> list of logging.LogRecord instances\n",
      "    * caplog.record_tuples   -> list of (logger_name, level, message) tuples\n",
      "    * caplog.clear()         -> clear captured records and formatted log output string\n",
      "\n",
      "\u001b[32mmonkeypatch\u001b[0m\n",
      "    The returned ``monkeypatch`` fixture provides these\n",
      "    helper methods to modify objects, dictionaries or os.environ::\n",
      "    \n",
      "        monkeypatch.setattr(obj, name, value, raising=True)\n",
      "        monkeypatch.delattr(obj, name, raising=True)\n",
      "        monkeypatch.setitem(mapping, name, value)\n",
      "        monkeypatch.delitem(obj, name, raising=True)\n",
      "        monkeypatch.setenv(name, value, prepend=False)\n",
      "        monkeypatch.delenv(name, raising=True)\n",
      "        monkeypatch.syspath_prepend(path)\n",
      "        monkeypatch.chdir(path)\n",
      "    \n",
      "    All modifications will be undone after the requesting\n",
      "    test function or fixture has finished. The ``raising``\n",
      "    parameter determines if a KeyError or AttributeError\n",
      "    will be raised if the set/deletion operation has no target.\n",
      "\n",
      "\u001b[32mrecwarn\u001b[0m\n",
      "    Return a :class:`WarningsRecorder` instance that records all warnings emitted by test functions.\n",
      "    \n",
      "    See http://docs.python.org/library/warnings.html for information\n",
      "    on warning categories.\n",
      "\n",
      "\u001b[32mtmpdir_factory\u001b[0m\u001b[36m [session scope]\u001b[0m\n",
      "    Return a :class:`_pytest.tmpdir.TempdirFactory` instance for the test session.\n",
      "        \n",
      "\n",
      "\u001b[32mtmp_path_factory\u001b[0m\u001b[36m [session scope]\u001b[0m\n",
      "    Return a :class:`_pytest.tmpdir.TempPathFactory` instance for the test session.\n",
      "        \n",
      "\n",
      "\u001b[32mtmpdir\u001b[0m\n",
      "    Return a temporary directory path object\n",
      "    which is unique to each test function invocation,\n",
      "    created as a sub directory of the base temporary\n",
      "    directory.  The returned object is a `py.path.local`_\n",
      "    path object.\n",
      "    \n",
      "    .. _`py.path.local`: https://py.readthedocs.io/en/latest/path.html\n",
      "\n",
      "\u001b[32mtmp_path\u001b[0m\n",
      "    Return a temporary directory path object\n",
      "    which is unique to each test function invocation,\n",
      "    created as a sub directory of the base temporary\n",
      "    directory.  The returned object is a :class:`pathlib.Path`\n",
      "    object.\n",
      "    \n",
      "    .. note::\n",
      "    \n",
      "        in python < 3.6 this is a pathlib2.Path\n",
      "\n",
      "\n",
      "\u001b[33m============================ \u001b[33mno tests ran\u001b[0m\u001b[33m in 0.03s\u001b[0m\u001b[33m =============================\u001b[0m\n"
     ]
    }
   ],
   "source": [
    "# 显示可用的内置参数\n",
    "# !pytest --fixtures"
   ]
  },
  {
   "cell_type": "markdown",
   "metadata": {},
   "source": [
    "# 执行用例"
   ]
  },
  {
   "cell_type": "markdown",
   "metadata": {},
   "source": [
    "## 执行退出码"
   ]
  },
  {
   "cell_type": "markdown",
   "metadata": {},
   "source": [
    "0 -- 成功地收集并传递了所有测试    \n",
    "1 -- 测试被收集和运行但一些测试失败\n",
    "\n",
    "2 -- 测试执行被用户中断        \n",
    "3 -- 执行测试时发生内部错误      \n",
    "4 -- pytest 命令行使用错误   \n",
    "5 -- 未收集任何测试  "
   ]
  },
  {
   "cell_type": "markdown",
   "metadata": {},
   "source": [
    "## 执行测试文件"
   ]
  },
  {
   "cell_type": "code",
   "execution_count": 4,
   "metadata": {},
   "outputs": [],
   "source": [
    "\"\"\"\n",
    "示例文件\n",
    "@FileName: test_start.py\n",
    "\"\"\"\n",
    "\n",
    "def func(x):\n",
    "    return x + 1\n",
    "\n",
    "def test_func():\n",
    "    assert func(3) == 5\n",
    "    \n",
    "class TestClass:\n",
    "    def test_one(self):\n",
    "        x = \"This\"\n",
    "        assert \"h\" in x\n",
    "        \n",
    "    def test_two(self):\n",
    "        x = \"hello\"\n",
    "        assert hasattr(x, \"check\")"
   ]
  },
  {
   "cell_type": "markdown",
   "metadata": {},
   "source": [
    "### 执行某个目录下所有的用例"
   ]
  },
  {
   "cell_type": "code",
   "execution_count": 5,
   "metadata": {},
   "outputs": [
    {
     "name": "stdout",
     "output_type": "stream",
     "text": [
      "\u001b[1m============================= test session starts ==============================\u001b[0m\n",
      "platform linux -- Python 3.6.9, pytest-5.4.1, py-1.8.1, pluggy-0.13.1\n",
      "rootdir: /home/ubuntu/MySpace/Python/pytest\n",
      "collected 3 items                                                              \u001b[0m\n",
      "\n",
      "test_start.py \u001b[31mF\u001b[0m\u001b[32m.\u001b[0m\u001b[31mF\u001b[0m\u001b[31m                                                        [100%]\u001b[0m\n",
      "\n",
      "=================================== FAILURES ===================================\n",
      "\u001b[31m\u001b[1m__________________________________ test_func ___________________________________\u001b[0m\n",
      "\n",
      "    \u001b[94mdef\u001b[39;49;00m \u001b[92mtest_func\u001b[39;49;00m():\n",
      ">       \u001b[94massert\u001b[39;49;00m func(\u001b[94m3\u001b[39;49;00m) == \u001b[94m5\u001b[39;49;00m\n",
      "\u001b[1m\u001b[31mE       assert 4 == 5\u001b[0m\n",
      "\u001b[1m\u001b[31mE        +  where 4 = func(3)\u001b[0m\n",
      "\n",
      "\u001b[1m\u001b[31mtest_start.py\u001b[0m:8: AssertionError\n",
      "\u001b[31m\u001b[1m______________________________ TestClass.test_two ______________________________\u001b[0m\n",
      "\n",
      "self = <test_start.TestClass object at 0x7f384557fc18>\n",
      "\n",
      "    \u001b[94mdef\u001b[39;49;00m \u001b[92mtest_two\u001b[39;49;00m(\u001b[96mself\u001b[39;49;00m):\n",
      "        x = \u001b[33m\"\u001b[39;49;00m\u001b[33mhello\u001b[39;49;00m\u001b[33m\"\u001b[39;49;00m\n",
      ">       \u001b[94massert\u001b[39;49;00m \u001b[96mhasattr\u001b[39;49;00m(x, \u001b[33m\"\u001b[39;49;00m\u001b[33mcheck\u001b[39;49;00m\u001b[33m\"\u001b[39;49;00m)\n",
      "\u001b[1m\u001b[31mE       AssertionError: assert False\u001b[0m\n",
      "\u001b[1m\u001b[31mE        +  where False = hasattr('hello', 'check')\u001b[0m\n",
      "\n",
      "\u001b[1m\u001b[31mtest_start.py\u001b[0m:17: AssertionError\n",
      "=========================== short test summary info ============================\n",
      "FAILED test_start.py::test_func - assert 4 == 5\n",
      "FAILED test_start.py::TestClass::test_two - AssertionError: assert False\n",
      "\u001b[31m========================= \u001b[31m\u001b[1m2 failed\u001b[0m, \u001b[32m1 passed\u001b[0m\u001b[31m in 0.12s\u001b[0m\u001b[31m ==========================\u001b[0m\n"
     ]
    }
   ],
   "source": [
    "!pytest "
   ]
  },
  {
   "cell_type": "markdown",
   "metadata": {},
   "source": [
    "### 执行某个 py 文件下用例"
   ]
  },
  {
   "cell_type": "code",
   "execution_count": 7,
   "metadata": {},
   "outputs": [
    {
     "name": "stdout",
     "output_type": "stream",
     "text": [
      "\u001b[1m============================= test session starts ==============================\u001b[0m\n",
      "platform linux -- Python 3.6.9, pytest-5.4.1, py-1.8.1, pluggy-0.13.1\n",
      "rootdir: /home/ubuntu/MySpace/Python/pytest\n",
      "collected 3 items                                                              \u001b[0m\n",
      "\n",
      "start.py \u001b[31mF\u001b[0m\u001b[32m.\u001b[0m\u001b[31mF\u001b[0m\u001b[31m                                                             [100%]\u001b[0m\n",
      "\n",
      "=================================== FAILURES ===================================\n",
      "\u001b[31m\u001b[1m__________________________________ test_func ___________________________________\u001b[0m\n",
      "\n",
      "    \u001b[94mdef\u001b[39;49;00m \u001b[92mtest_func\u001b[39;49;00m():\n",
      ">       \u001b[94massert\u001b[39;49;00m func(\u001b[94m3\u001b[39;49;00m) == \u001b[94m5\u001b[39;49;00m\n",
      "\u001b[1m\u001b[31mE       assert 4 == 5\u001b[0m\n",
      "\u001b[1m\u001b[31mE        +  where 4 = func(3)\u001b[0m\n",
      "\n",
      "\u001b[1m\u001b[31mstart.py\u001b[0m:8: AssertionError\n",
      "\u001b[31m\u001b[1m______________________________ TestClass.test_two ______________________________\u001b[0m\n",
      "\n",
      "self = <start.TestClass object at 0x7f0d00651278>\n",
      "\n",
      "    \u001b[94mdef\u001b[39;49;00m \u001b[92mtest_two\u001b[39;49;00m(\u001b[96mself\u001b[39;49;00m):\n",
      "        x = \u001b[33m\"\u001b[39;49;00m\u001b[33mhello\u001b[39;49;00m\u001b[33m\"\u001b[39;49;00m\n",
      ">       \u001b[94massert\u001b[39;49;00m \u001b[96mhasattr\u001b[39;49;00m(x, \u001b[33m\"\u001b[39;49;00m\u001b[33mcheck\u001b[39;49;00m\u001b[33m\"\u001b[39;49;00m)\n",
      "\u001b[1m\u001b[31mE       AssertionError: assert False\u001b[0m\n",
      "\u001b[1m\u001b[31mE        +  where False = hasattr('hello', 'check')\u001b[0m\n",
      "\n",
      "\u001b[1m\u001b[31mstart.py\u001b[0m:17: AssertionError\n",
      "=========================== short test summary info ============================\n",
      "FAILED start.py::test_func - assert 4 == 5\n",
      "FAILED start.py::TestClass::test_two - AssertionError: assert False\n",
      "\u001b[31m========================= \u001b[31m\u001b[1m2 failed\u001b[0m, \u001b[32m1 passed\u001b[0m\u001b[31m in 0.12s\u001b[0m\u001b[31m ==========================\u001b[0m\n"
     ]
    }
   ],
   "source": [
    "!pytest start.py"
   ]
  },
  {
   "cell_type": "markdown",
   "metadata": {},
   "source": [
    "### 执行 py 文件中的某个函数"
   ]
  },
  {
   "cell_type": "code",
   "execution_count": 8,
   "metadata": {},
   "outputs": [
    {
     "name": "stdout",
     "output_type": "stream",
     "text": [
      "\u001b[1m============================= test session starts ==============================\u001b[0m\n",
      "platform linux -- Python 3.6.9, pytest-5.4.1, py-1.8.1, pluggy-0.13.1\n",
      "rootdir: /home/ubuntu/MySpace/Python/pytest\n",
      "collected 1 item                                                               \u001b[0m\n",
      "\n",
      "start.py \u001b[31mF\u001b[0m\u001b[31m                                                               [100%]\u001b[0m\n",
      "\n",
      "=================================== FAILURES ===================================\n",
      "\u001b[31m\u001b[1m__________________________________ test_func ___________________________________\u001b[0m\n",
      "\n",
      "    \u001b[94mdef\u001b[39;49;00m \u001b[92mtest_func\u001b[39;49;00m():\n",
      ">       \u001b[94massert\u001b[39;49;00m func(\u001b[94m3\u001b[39;49;00m) == \u001b[94m5\u001b[39;49;00m\n",
      "\u001b[1m\u001b[31mE       assert 4 == 5\u001b[0m\n",
      "\u001b[1m\u001b[31mE        +  where 4 = func(3)\u001b[0m\n",
      "\n",
      "\u001b[1m\u001b[31mstart.py\u001b[0m:8: AssertionError\n",
      "=========================== short test summary info ============================\n",
      "FAILED start.py::test_func - assert 4 == 5\n",
      "\u001b[31m============================== \u001b[31m\u001b[1m1 failed\u001b[0m\u001b[31m in 0.10s\u001b[0m\u001b[31m ===============================\u001b[0m\n"
     ]
    }
   ],
   "source": [
    "!pytest start.py::test_func"
   ]
  },
  {
   "cell_type": "markdown",
   "metadata": {},
   "source": [
    "### 执行 py 文件中的某个类"
   ]
  },
  {
   "cell_type": "code",
   "execution_count": 9,
   "metadata": {},
   "outputs": [
    {
     "name": "stdout",
     "output_type": "stream",
     "text": [
      "\u001b[1m============================= test session starts ==============================\u001b[0m\n",
      "platform linux -- Python 3.6.9, pytest-5.4.1, py-1.8.1, pluggy-0.13.1\n",
      "rootdir: /home/ubuntu/MySpace/Python/pytest\n",
      "collected 2 items                                                              \u001b[0m\n",
      "\n",
      "start.py \u001b[32m.\u001b[0m\u001b[31mF\u001b[0m\u001b[31m                                                              [100%]\u001b[0m\n",
      "\n",
      "=================================== FAILURES ===================================\n",
      "\u001b[31m\u001b[1m______________________________ TestClass.test_two ______________________________\u001b[0m\n",
      "\n",
      "self = <start.TestClass object at 0x7f5fc75cb160>\n",
      "\n",
      "    \u001b[94mdef\u001b[39;49;00m \u001b[92mtest_two\u001b[39;49;00m(\u001b[96mself\u001b[39;49;00m):\n",
      "        x = \u001b[33m\"\u001b[39;49;00m\u001b[33mhello\u001b[39;49;00m\u001b[33m\"\u001b[39;49;00m\n",
      ">       \u001b[94massert\u001b[39;49;00m \u001b[96mhasattr\u001b[39;49;00m(x, \u001b[33m\"\u001b[39;49;00m\u001b[33mcheck\u001b[39;49;00m\u001b[33m\"\u001b[39;49;00m)\n",
      "\u001b[1m\u001b[31mE       AssertionError: assert False\u001b[0m\n",
      "\u001b[1m\u001b[31mE        +  where False = hasattr('hello', 'check')\u001b[0m\n",
      "\n",
      "\u001b[1m\u001b[31mstart.py\u001b[0m:17: AssertionError\n",
      "=========================== short test summary info ============================\n",
      "FAILED start.py::TestClass::test_two - AssertionError: assert False\n",
      "\u001b[31m========================= \u001b[31m\u001b[1m1 failed\u001b[0m, \u001b[32m1 passed\u001b[0m\u001b[31m in 0.13s\u001b[0m\u001b[31m ==========================\u001b[0m\n"
     ]
    }
   ],
   "source": [
    "!pytest start.py::TestClass"
   ]
  },
  {
   "cell_type": "markdown",
   "metadata": {},
   "source": [
    "### 执行 py 文件中类里的某个方法"
   ]
  },
  {
   "cell_type": "code",
   "execution_count": 11,
   "metadata": {},
   "outputs": [
    {
     "name": "stdout",
     "output_type": "stream",
     "text": [
      "\u001b[1m============================= test session starts ==============================\u001b[0m\r\n",
      "platform linux -- Python 3.6.9, pytest-5.4.1, py-1.8.1, pluggy-0.13.1\r\n",
      "rootdir: /home/ubuntu/MySpace/Python/pytest\r\n",
      "\u001b[1mcollecting ... \u001b[0m\u001b[1m\r",
      "collected 1 item                                                               \u001b[0m\r\n",
      "\r\n",
      "start.py \u001b[32m.\u001b[0m\u001b[32m                                                               [100%]\u001b[0m\r\n",
      "\r\n",
      "\u001b[32m============================== \u001b[32m\u001b[1m1 passed\u001b[0m\u001b[32m in 0.01s\u001b[0m\u001b[32m ===============================\u001b[0m\r\n"
     ]
    }
   ],
   "source": [
    "!pytest start.py::TestClass::test_one"
   ]
  },
  {
   "cell_type": "markdown",
   "metadata": {},
   "source": [
    "### -m 标记表达式"
   ]
  },
  {
   "cell_type": "code",
   "execution_count": null,
   "metadata": {},
   "outputs": [],
   "source": [
    "# 将运行用 @pytest.mark.login 装饰器修饰的所有测试\n",
    "!pytest -m login "
   ]
  },
  {
   "cell_type": "markdown",
   "metadata": {},
   "source": [
    "### -q 简单但因，只打印测试用例的执行结果"
   ]
  },
  {
   "cell_type": "code",
   "execution_count": 12,
   "metadata": {},
   "outputs": [
    {
     "name": "stdout",
     "output_type": "stream",
     "text": [
      "\u001b[31mF\u001b[0m\u001b[32m.\u001b[0m\u001b[31mF\u001b[0m\u001b[31m                                                                      [100%]\u001b[0m\n",
      "=================================== FAILURES ===================================\n",
      "\u001b[31m\u001b[1m__________________________________ test_func ___________________________________\u001b[0m\n",
      "\n",
      "    \u001b[94mdef\u001b[39;49;00m \u001b[92mtest_func\u001b[39;49;00m():\n",
      ">       \u001b[94massert\u001b[39;49;00m func(\u001b[94m3\u001b[39;49;00m) == \u001b[94m5\u001b[39;49;00m\n",
      "\u001b[1m\u001b[31mE       assert 4 == 5\u001b[0m\n",
      "\u001b[1m\u001b[31mE        +  where 4 = func(3)\u001b[0m\n",
      "\n",
      "\u001b[1m\u001b[31mstart.py\u001b[0m:8: AssertionError\n",
      "\u001b[31m\u001b[1m______________________________ TestClass.test_two ______________________________\u001b[0m\n",
      "\n",
      "self = <start.TestClass object at 0x7fa6e310a4a8>\n",
      "\n",
      "    \u001b[94mdef\u001b[39;49;00m \u001b[92mtest_two\u001b[39;49;00m(\u001b[96mself\u001b[39;49;00m):\n",
      "        x = \u001b[33m\"\u001b[39;49;00m\u001b[33mhello\u001b[39;49;00m\u001b[33m\"\u001b[39;49;00m\n",
      ">       \u001b[94massert\u001b[39;49;00m \u001b[96mhasattr\u001b[39;49;00m(x, \u001b[33m\"\u001b[39;49;00m\u001b[33mcheck\u001b[39;49;00m\u001b[33m\"\u001b[39;49;00m)\n",
      "\u001b[1m\u001b[31mE       AssertionError: assert False\u001b[0m\n",
      "\u001b[1m\u001b[31mE        +  where False = hasattr('hello', 'check')\u001b[0m\n",
      "\n",
      "\u001b[1m\u001b[31mstart.py\u001b[0m:17: AssertionError\n",
      "=========================== short test summary info ============================\n",
      "FAILED start.py::test_func - assert 4 == 5\n",
      "FAILED start.py::TestClass::test_two - AssertionError: assert False\n",
      "\u001b[31m\u001b[31m\u001b[1m2 failed\u001b[0m, \u001b[32m1 passed\u001b[0m\u001b[31m in 0.16s\u001b[0m\u001b[0m\n"
     ]
    }
   ],
   "source": [
    "!pytest -q start.py"
   ]
  },
  {
   "cell_type": "markdown",
   "metadata": {},
   "source": [
    "### -s 详细打印"
   ]
  },
  {
   "cell_type": "code",
   "execution_count": 13,
   "metadata": {},
   "outputs": [
    {
     "name": "stdout",
     "output_type": "stream",
     "text": [
      "\u001b[1m============================= test session starts ==============================\u001b[0m\n",
      "platform linux -- Python 3.6.9, pytest-5.4.1, py-1.8.1, pluggy-0.13.1\n",
      "rootdir: /home/ubuntu/MySpace/Python/pytest\n",
      "collected 3 items                                                              \u001b[0m\n",
      "\n",
      "start.py \u001b[31mF\u001b[0m\u001b[32m.\u001b[0m\u001b[31mF\u001b[0m\n",
      "\n",
      "=================================== FAILURES ===================================\n",
      "\u001b[31m\u001b[1m__________________________________ test_func ___________________________________\u001b[0m\n",
      "\n",
      "    \u001b[94mdef\u001b[39;49;00m \u001b[92mtest_func\u001b[39;49;00m():\n",
      ">       \u001b[94massert\u001b[39;49;00m func(\u001b[94m3\u001b[39;49;00m) == \u001b[94m5\u001b[39;49;00m\n",
      "\u001b[1m\u001b[31mE       assert 4 == 5\u001b[0m\n",
      "\u001b[1m\u001b[31mE        +  where 4 = func(3)\u001b[0m\n",
      "\n",
      "\u001b[1m\u001b[31mstart.py\u001b[0m:8: AssertionError\n",
      "\u001b[31m\u001b[1m______________________________ TestClass.test_two ______________________________\u001b[0m\n",
      "\n",
      "self = <start.TestClass object at 0x7f087090bd30>\n",
      "\n",
      "    \u001b[94mdef\u001b[39;49;00m \u001b[92mtest_two\u001b[39;49;00m(\u001b[96mself\u001b[39;49;00m):\n",
      "        x = \u001b[33m\"\u001b[39;49;00m\u001b[33mhello\u001b[39;49;00m\u001b[33m\"\u001b[39;49;00m\n",
      ">       \u001b[94massert\u001b[39;49;00m \u001b[96mhasattr\u001b[39;49;00m(x, \u001b[33m\"\u001b[39;49;00m\u001b[33mcheck\u001b[39;49;00m\u001b[33m\"\u001b[39;49;00m)\n",
      "\u001b[1m\u001b[31mE       AssertionError: assert False\u001b[0m\n",
      "\u001b[1m\u001b[31mE        +  where False = hasattr('hello', 'check')\u001b[0m\n",
      "\n",
      "\u001b[1m\u001b[31mstart.py\u001b[0m:17: AssertionError\n",
      "=========================== short test summary info ============================\n",
      "FAILED start.py::test_func - assert 4 == 5\n",
      "FAILED start.py::TestClass::test_two - AssertionError: assert False\n",
      "\u001b[31m========================= \u001b[31m\u001b[1m2 failed\u001b[0m, \u001b[32m1 passed\u001b[0m\u001b[31m in 0.12s\u001b[0m\u001b[31m ==========================\u001b[0m\n"
     ]
    }
   ],
   "source": [
    "!pytest -s start.py"
   ]
  },
  {
   "cell_type": "markdown",
   "metadata": {},
   "source": [
    "### -x 遇到错误时停止测试"
   ]
  },
  {
   "cell_type": "code",
   "execution_count": 14,
   "metadata": {},
   "outputs": [
    {
     "name": "stdout",
     "output_type": "stream",
     "text": [
      "\u001b[1m============================= test session starts ==============================\u001b[0m\n",
      "platform linux -- Python 3.6.9, pytest-5.4.1, py-1.8.1, pluggy-0.13.1\n",
      "rootdir: /home/ubuntu/MySpace/Python/pytest\n",
      "collected 3 items                                                              \u001b[0m\n",
      "\n",
      "start.py \u001b[31mF\u001b[0m\n",
      "\n",
      "=================================== FAILURES ===================================\n",
      "\u001b[31m\u001b[1m__________________________________ test_func ___________________________________\u001b[0m\n",
      "\n",
      "    \u001b[94mdef\u001b[39;49;00m \u001b[92mtest_func\u001b[39;49;00m():\n",
      ">       \u001b[94massert\u001b[39;49;00m func(\u001b[94m3\u001b[39;49;00m) == \u001b[94m5\u001b[39;49;00m\n",
      "\u001b[1m\u001b[31mE       assert 4 == 5\u001b[0m\n",
      "\u001b[1m\u001b[31mE        +  where 4 = func(3)\u001b[0m\n",
      "\n",
      "\u001b[1m\u001b[31mstart.py\u001b[0m:8: AssertionError\n",
      "=========================== short test summary info ============================\n",
      "FAILED start.py::test_func - assert 4 == 5\n",
      "\u001b[31m!!!!!!!!!!!!!!!!!!!!!!!!!! stopping after 1 failures !!!!!!!!!!!!!!!!!!!!!!!!!!!\u001b[0m\n",
      "\u001b[31m============================== \u001b[31m\u001b[1m1 failed\u001b[0m\u001b[31m in 0.11s\u001b[0m\u001b[31m ===============================\u001b[0m\n"
     ]
    }
   ],
   "source": [
    "!pytest start.py -x"
   ]
  },
  {
   "cell_type": "markdown",
   "metadata": {},
   "source": [
    "### --maxfail=num，当用例错误个数达到指定数量是，停止测试"
   ]
  },
  {
   "cell_type": "code",
   "execution_count": 15,
   "metadata": {},
   "outputs": [
    {
     "name": "stdout",
     "output_type": "stream",
     "text": [
      "\u001b[1m============================= test session starts ==============================\u001b[0m\n",
      "platform linux -- Python 3.6.9, pytest-5.4.1, py-1.8.1, pluggy-0.13.1\n",
      "rootdir: /home/ubuntu/MySpace/Python/pytest\n",
      "collected 3 items                                                              \u001b[0m\n",
      "\n",
      "start.py \u001b[31mF\u001b[0m\n",
      "\n",
      "=================================== FAILURES ===================================\n",
      "\u001b[31m\u001b[1m__________________________________ test_func ___________________________________\u001b[0m\n",
      "\n",
      "    \u001b[94mdef\u001b[39;49;00m \u001b[92mtest_func\u001b[39;49;00m():\n",
      ">       \u001b[94massert\u001b[39;49;00m func(\u001b[94m3\u001b[39;49;00m) == \u001b[94m5\u001b[39;49;00m\n",
      "\u001b[1m\u001b[31mE       assert 4 == 5\u001b[0m\n",
      "\u001b[1m\u001b[31mE        +  where 4 = func(3)\u001b[0m\n",
      "\n",
      "\u001b[1m\u001b[31mstart.py\u001b[0m:8: AssertionError\n",
      "=========================== short test summary info ============================\n",
      "FAILED start.py::test_func - assert 4 == 5\n",
      "\u001b[31m!!!!!!!!!!!!!!!!!!!!!!!!!! stopping after 1 failures !!!!!!!!!!!!!!!!!!!!!!!!!!!\u001b[0m\n",
      "\u001b[31m============================== \u001b[31m\u001b[1m1 failed\u001b[0m\u001b[31m in 0.12s\u001b[0m\u001b[31m ===============================\u001b[0m\n"
     ]
    }
   ],
   "source": [
    "!pytest start.py --maxfail=1"
   ]
  },
  {
   "cell_type": "markdown",
   "metadata": {},
   "source": [
    "### -k 匹配用例名称"
   ]
  },
  {
   "cell_type": "code",
   "execution_count": 17,
   "metadata": {},
   "outputs": [
    {
     "name": "stdout",
     "output_type": "stream",
     "text": [
      "\u001b[1m============================= test session starts ==============================\u001b[0m\r\n",
      "platform linux -- Python 3.6.9, pytest-5.4.1, py-1.8.1, pluggy-0.13.1\r\n",
      "rootdir: /home/ubuntu/MySpace/Python/pytest\r\n",
      "\u001b[1mcollecting ... \u001b[0m\u001b[1m\r",
      "collected 3 items / 3 deselected                                               \u001b[0m\r\n",
      "\r\n",
      "\u001b[33m============================ \u001b[33m\u001b[1m3 deselected\u001b[0m\u001b[33m in 0.01s\u001b[0m\u001b[33m =============================\u001b[0m\r\n"
     ]
    }
   ],
   "source": [
    "# 执行测试用例名称包含http的所有用例\n",
    "!pytest -s -k http start.py"
   ]
  },
  {
   "cell_type": "markdown",
   "metadata": {},
   "source": [
    "### -k 根据用例名称排除某些用例"
   ]
  },
  {
   "cell_type": "code",
   "execution_count": 18,
   "metadata": {},
   "outputs": [
    {
     "name": "stdout",
     "output_type": "stream",
     "text": [
      "\u001b[1m============================= test session starts ==============================\u001b[0m\n",
      "platform linux -- Python 3.6.9, pytest-5.4.1, py-1.8.1, pluggy-0.13.1\n",
      "rootdir: /home/ubuntu/MySpace/Python/pytest\n",
      "collected 3 items                                                              \u001b[0m\n",
      "\n",
      "start.py \u001b[31mF\u001b[0m\u001b[32m.\u001b[0m\u001b[31mF\u001b[0m\n",
      "\n",
      "=================================== FAILURES ===================================\n",
      "\u001b[31m\u001b[1m__________________________________ test_func ___________________________________\u001b[0m\n",
      "\n",
      "    \u001b[94mdef\u001b[39;49;00m \u001b[92mtest_func\u001b[39;49;00m():\n",
      ">       \u001b[94massert\u001b[39;49;00m func(\u001b[94m3\u001b[39;49;00m) == \u001b[94m5\u001b[39;49;00m\n",
      "\u001b[1m\u001b[31mE       assert 4 == 5\u001b[0m\n",
      "\u001b[1m\u001b[31mE        +  where 4 = func(3)\u001b[0m\n",
      "\n",
      "\u001b[1m\u001b[31mstart.py\u001b[0m:8: AssertionError\n",
      "\u001b[31m\u001b[1m______________________________ TestClass.test_two ______________________________\u001b[0m\n",
      "\n",
      "self = <start.TestClass object at 0x7f946a3cfe80>\n",
      "\n",
      "    \u001b[94mdef\u001b[39;49;00m \u001b[92mtest_two\u001b[39;49;00m(\u001b[96mself\u001b[39;49;00m):\n",
      "        x = \u001b[33m\"\u001b[39;49;00m\u001b[33mhello\u001b[39;49;00m\u001b[33m\"\u001b[39;49;00m\n",
      ">       \u001b[94massert\u001b[39;49;00m \u001b[96mhasattr\u001b[39;49;00m(x, \u001b[33m\"\u001b[39;49;00m\u001b[33mcheck\u001b[39;49;00m\u001b[33m\"\u001b[39;49;00m)\n",
      "\u001b[1m\u001b[31mE       AssertionError: assert False\u001b[0m\n",
      "\u001b[1m\u001b[31mE        +  where False = hasattr('hello', 'check')\u001b[0m\n",
      "\n",
      "\u001b[1m\u001b[31mstart.py\u001b[0m:17: AssertionError\n",
      "=========================== short test summary info ============================\n",
      "FAILED start.py::test_func - assert 4 == 5\n",
      "FAILED start.py::TestClass::test_two - AssertionError: assert False\n",
      "\u001b[31m========================= \u001b[31m\u001b[1m2 failed\u001b[0m, \u001b[32m1 passed\u001b[0m\u001b[31m in 0.12s\u001b[0m\u001b[31m ==========================\u001b[0m\n"
     ]
    }
   ],
   "source": [
    "!pytest -s -k \"not http\" start.py"
   ]
  },
  {
   "cell_type": "markdown",
   "metadata": {},
   "source": [
    "### -k 同时匹配不同的用例名称"
   ]
  },
  {
   "cell_type": "code",
   "execution_count": 19,
   "metadata": {},
   "outputs": [
    {
     "name": "stdout",
     "output_type": "stream",
     "text": [
      "\u001b[1m============================= test session starts ==============================\u001b[0m\r\n",
      "platform linux -- Python 3.6.9, pytest-5.4.1, py-1.8.1, pluggy-0.13.1\r\n",
      "rootdir: /home/ubuntu/MySpace/Python/pytest\r\n",
      "\u001b[1mcollecting ... \u001b[0m\u001b[1m\r",
      "collected 3 items / 3 deselected                                               \u001b[0m\r\n",
      "\r\n",
      "\u001b[33m============================ \u001b[33m\u001b[1m3 deselected\u001b[0m\u001b[33m in 0.01s\u001b[0m\u001b[33m =============================\u001b[0m\r\n"
     ]
    }
   ],
   "source": [
    "!pytest -s -k \"method or weibo\" start.py"
   ]
  },
  {
   "cell_type": "markdown",
   "metadata": {},
   "source": [
    "## 断言 assert"
   ]
  },
  {
   "cell_type": "markdown",
   "metadata": {},
   "source": [
    "+ 与unittest不同，pytest使用的是python自带的assert关键字来进行断言\n",
    "\n",
    "+ assert关键字后面可以接一个表达式，只要表达式的最终结果为True，那么断言通过，用例执行成功，否则用例执行失败"
   ]
  }
 ],
 "metadata": {
  "kernelspec": {
   "display_name": "Python 3",
   "language": "python",
   "name": "python3"
  },
  "language_info": {
   "codemirror_mode": {
    "name": "ipython",
    "version": 3
   },
   "file_extension": ".py",
   "mimetype": "text/x-python",
   "name": "python",
   "nbconvert_exporter": "python",
   "pygments_lexer": "ipython3",
   "version": "3.6.9"
  },
  "toc": {
   "base_numbering": 1,
   "nav_menu": {},
   "number_sections": true,
   "sideBar": true,
   "skip_h1_title": false,
   "title_cell": "Table of Contents",
   "title_sidebar": "测开框架Pytest",
   "toc_cell": false,
   "toc_position": {
    "height": "calc(100% - 180px)",
    "left": "10px",
    "top": "150px",
    "width": "324px"
   },
   "toc_section_display": true,
   "toc_window_display": true
  }
 },
 "nbformat": 4,
 "nbformat_minor": 1
}
