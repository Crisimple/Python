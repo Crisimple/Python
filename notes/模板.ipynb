{
 "cells": [
  {
   "cell_type": "markdown",
   "metadata": {},
   "source": [
    "## 模板\n"
   ]
  },
  {
   "cell_type": "markdown",
   "metadata": {},
   "source": [
    "@(示例笔记本)[马克飞象|帮助|Markdown]\n",
    "\n",
    "- [ ] jjjjjjj\n",
    "- [x] jjjjjjj\n",
    "\n",
    "Markdown语法：https://maxiang.io/\n",
    "\n",
    "简历模板：https://www.cnblogs.com/uncleyong/p/12620020.html\n",
    "\n",
    "虫师博客：https://www.cnblogs.com/fnng/p/3625752.html\n",
    "\n",
    "简历logo：http://www.fontawesome.com.cn/icons/bookmark-o/"
   ]
  }
 ],
 "metadata": {
  "kernelspec": {
   "display_name": "Python 3",
   "language": "python",
   "name": "python3"
  },
  "language_info": {
   "codemirror_mode": {
    "name": "ipython",
    "version": 3
   },
   "file_extension": ".py",
   "mimetype": "text/x-python",
   "name": "python",
   "nbconvert_exporter": "python",
   "pygments_lexer": "ipython3",
   "version": "3.6.9"
  },
  "toc": {
   "base_numbering": 1,
   "nav_menu": {},
   "number_sections": true,
   "sideBar": true,
   "skip_h1_title": false,
   "title_cell": "Table of Contents",
   "title_sidebar": "Contents",
   "toc_cell": false,
   "toc_position": {
    "height": "calc(100% - 180px)",
    "left": "10px",
    "top": "150px",
    "width": "213px"
   },
   "toc_section_display": true,
   "toc_window_display": true
  }
 },
 "nbformat": 4,
 "nbformat_minor": 1
}
