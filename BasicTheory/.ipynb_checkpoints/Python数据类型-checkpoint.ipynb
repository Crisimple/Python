{
 "cells": [
  {
   "cell_type": "markdown",
   "metadata": {},
   "source": [
    "# 数据类型\n",
    "\n",
    "##  数字类型\n",
    "\n",
    "### int 类型\n",
    "\n",
    "&emsp;&emsp; Python 的 int 不同于 Java 的 int，Python 中无论整数的大小长度为多少，统称为 int。"
   ]
  },
  {
   "cell_type": "code",
   "execution_count": 25,
   "metadata": {
    "ExecuteTime": {
     "end_time": "2020-03-20T03:04:27.169133Z",
     "start_time": "2020-03-20T03:04:27.160702Z"
    }
   },
   "outputs": [
    {
     "name": "stdout",
     "output_type": "stream",
     "text": [
      "1125899906842624 的类型为：<class 'int'>\n",
      "123 的类型为：<class 'int'>\n"
     ]
    }
   ],
   "source": [
    "int_sample = 2 ** 50\n",
    "print(\"%s 的类型为：%s\" % (int_sample, type(int_sample)))\n",
    "str_int = int(\"123\")\n",
    "print(\"%s 的类型为：%s\" % (str_int, type(str_int)))"
   ]
  },
  {
   "cell_type": "markdown",
   "metadata": {
    "ExecuteTime": {
     "end_time": "2020-03-20T03:04:27.194925Z",
     "start_time": "2020-03-20T03:04:27.189470Z"
    }
   },
   "source": [
    "### float 类型\n",
    "&emsp;&emsp; float 等会补充"
   ]
  },
  {
   "cell_type": "markdown",
   "metadata": {},
   "source": [
    "### complex 类型\n",
    "&emsp;&emsp;主要用于高级数学计算"
   ]
  },
  {
   "cell_type": "markdown",
   "metadata": {},
   "source": [
    "## 布尔（bool）类型\n",
    "\n",
    "&emsp;&emsp; 对于 bool 型来说，只存在两种值 True 和 False，对应二进制分别为 0 和 1。值为 False 的数有：None、空、[]、{}、()、0。 "
   ]
  },
  {
   "cell_type": "code",
   "execution_count": 26,
   "metadata": {},
   "outputs": [
    {
     "name": "stdout",
     "output_type": "stream",
     "text": [
      "False 的类型为：<class 'bool'>\n",
      "False 的类型为：<class 'bool'>\n",
      "False 的类型为：<class 'bool'>\n",
      "False 的类型为：<class 'bool'>\n"
     ]
    }
   ],
   "source": [
    "bl_none = bool(None)\n",
    "bl_blank = bool()\n",
    "bl_brackets = bool(())\n",
    "bl_0 = bool(0)\n",
    "print(\"%s 的类型为：%s\" %(bl_none, type(bl_none)))\n",
    "print(\"%s 的类型为：%s\" %(bl_blank, type(bl_blank)))\n",
    "print(\"%s 的类型为：%s\" %(bl_brackets, type(bl_brackets)))\n",
    "print(\"%s 的类型为：%s\" %(bl_0, type(bl_0)))"
   ]
  },
  {
   "cell_type": "markdown",
   "metadata": {},
   "source": [
    "## 字符串（str）类型\n",
    "字符串可由单引号或双引号（没区别）来创建，字符串是不可修改的。\n",
    "\n",
    "索引 - index 和 find\n",
    "\n",
    "index 和 find 都可以进行字符串的索引，区别在于索引的数据不存在的时候，index 返回的是 ValueError 错误；而 find 返回的是 -1。"
   ]
  },
  {
   "cell_type": "code",
   "execution_count": 29,
   "metadata": {},
   "outputs": [
    {
     "name": "stdout",
     "output_type": "stream",
     "text": [
      "1234cabdef 的 index 索引是 5\n",
      "1234cabdef 的 index 索引是不存在返回 'str' object is not callable\n",
      ".............................\n",
      "\n",
      "1234cabdef 的 index 索引是 5\n",
      "1234cabdef 的 index 索引是 -1\n"
     ]
    }
   ],
   "source": [
    "str_sample = \"1234cabdef\"\n",
    "index_str1 = str_sample.index(\"a\")\n",
    "print(\"%s 的 index 索引是 %s\" % (str_sample, index_str1))\n",
    "try:\n",
    "    index_str2 = str_sample(\"x\")\n",
    "except Exception as e:\n",
    "    print(\"%s 的 index 索引是不存在返回 %s\" % (str_sample, e))\n",
    "    \n",
    "print(\".............................\\n\")\n",
    "\n",
    "find_str1 = str_sample.find(\"ab\")\n",
    "print(\"%s 的 index 索引是 %s\" % (str_sample, find_str1))\n",
    "find_str2 =  str_sample.find(\"x\")\n",
    "print(\"%s 的 index 索引是 %s\" % (str_sample, find_str2))"
   ]
  },
  {
   "cell_type": "markdown",
   "metadata": {},
   "source": [
    "### 切片 - [start: end: step]"
   ]
  },
  {
   "cell_type": "code",
   "execution_count": 44,
   "metadata": {},
   "outputs": [
    {
     "name": "stdout",
     "output_type": "stream",
     "text": [
      "1234567890abcdef 的切片是：1234\n",
      "1234567890abcdef 的切片是：135\n"
     ]
    }
   ],
   "source": [
    "str_sample = \"1234567890abcdef\"\n",
    "section_str_1 = str_sample[0: 4]\n",
    "section_str_2 = str_sample[0: 6: 2]\n",
    "print(\"%s 的切片是：%s\" % (str_sample, section_str_1))\n",
    "print(\"%s 的切片是：%s\" % (str_sample, section_str_2))"
   ]
  },
  {
   "cell_type": "markdown",
   "metadata": {},
   "source": [
    "### 遍历 - for"
   ]
  },
  {
   "cell_type": "code",
   "execution_count": 53,
   "metadata": {},
   "outputs": [
    {
     "name": "stdout",
     "output_type": "stream",
     "text": [
      "字符串的元素有：1\n",
      "字符串的元素有：2\n",
      "字符串的元素有：3\n",
      "字符串的元素有：4\n",
      "字符串的元素有：5\n",
      "字符串的元素有：6\n",
      "字符串的元素有：7\n",
      "字符串的元素有：8\n",
      "字符串的元素有：9\n",
      "字符串的元素有：0\n",
      "字符串的元素有：a\n",
      "字符串的元素有：b\n",
      "字符串的元素有：c\n",
      "字符串的元素有：d\n",
      "字符串的元素有：e\n",
      "字符串的元素有：f\n"
     ]
    }
   ],
   "source": [
    "str_sample = \"1234567890abcdef\"\n",
    "for i in str_sample:\n",
    "    print(\"字符串的元素有：%s\" % i)\n",
    "# for i in range(len(str_sample)):\n",
    "#    print(\"字符串的元素有：%s\" % str_sample[i])"
   ]
  },
  {
   "cell_type": "markdown",
   "metadata": {},
   "source": [
    "### 删除 - del\n"
   ]
  },
  {
   "cell_type": "code",
   "execution_count": 55,
   "metadata": {},
   "outputs": [
    {
     "name": "stdout",
     "output_type": "stream",
     "text": [
      "del_str: name 'del_str' is not defined\n"
     ]
    }
   ],
   "source": [
    "del_str = \"del none\"\n",
    "del del_str\n",
    "try:\n",
    "    print(\"del_str: \", del_str)\n",
    "except Exception as e:\n",
    "    print(\"del_str: %s\" % e)"
   ]
  },
  {
   "cell_type": "markdown",
   "metadata": {},
   "source": [
    "### 分割 - split + partition\n",
    "partition 指定分隔符，split 指定分隔符分割"
   ]
  },
  {
   "cell_type": "code",
   "execution_count": 65,
   "metadata": {},
   "outputs": [
    {
     "name": "stdout",
     "output_type": "stream",
     "text": [
      "partition str is:   ('This', '-', 'is-a-good work tool.')\n",
      "split str is:  ['This-is-a-good', 'work', 'tool.']\n"
     ]
    }
   ],
   "source": [
    "par_spl_str = \"This-is-a-good work tool.\"\n",
    "par = par_spl_str.partition(\"-\")\n",
    "print(\"partition str is:  \", par)\n",
    "spl = par_spl_str.split(\" \", 2)\n",
    "print(\"split str is:  %s\" % spl)"
   ]
  },
  {
   "cell_type": "markdown",
   "metadata": {},
   "source": [
    "### 替换 - replace、strip、lstrip、rstrip"
   ]
  },
  {
   "cell_type": "code",
   "execution_count": 70,
   "metadata": {},
   "outputs": [
    {
     "name": "stdout",
     "output_type": "stream",
     "text": [
      "replace str is:   This is a bad boy. \n",
      "strip str(去掉字符串两端的空格) is:  This is a good boy.\n",
      "lstrip str(去掉字符串左端的空格) is:  This is a good boy. \n",
      "rstrip str(去掉字符串左端的空格) is:   This is a good boy.\n"
     ]
    }
   ],
   "source": [
    "str_sample = \" This is a good boy. \"\n",
    "print(\"replace str is: \", str_sample.replace(\"good\", \"bad\"))\n",
    "print(\"strip str(去掉字符串两端的空格) is: \", str_sample.strip())\n",
    "print(\"lstrip str(去掉字符串左端的空格) is: \", str_sample.lstrip())\n",
    "print(\"rstrip str(去掉字符串左端的空格) is: \", str_sample.rstrip())"
   ]
  },
  {
   "cell_type": "markdown",
   "metadata": {},
   "source": [
    "### 连接 - join"
   ]
  },
  {
   "cell_type": "code",
   "execution_count": 71,
   "metadata": {},
   "outputs": [
    {
     "name": "stdout",
     "output_type": "stream",
     "text": [
      "a-->b-->c-->d-->e-->f-->g-->h\n"
     ]
    }
   ],
   "source": [
    "str_sample = \"abcdefgh\"\n",
    "print(\"-->\".join(str_sample))"
   ]
  },
  {
   "cell_type": "code",
   "execution_count": null,
   "metadata": {},
   "outputs": [],
   "source": []
  }
 ],
 "metadata": {
  "kernelspec": {
   "display_name": "Python 3",
   "language": "python",
   "name": "python3"
  },
  "language_info": {
   "codemirror_mode": {
    "name": "ipython",
    "version": 3
   },
   "file_extension": ".py",
   "mimetype": "text/x-python",
   "name": "python",
   "nbconvert_exporter": "python",
   "pygments_lexer": "ipython3",
   "version": "3.8.0rc1"
  },
  "toc": {
   "base_numbering": 1,
   "nav_menu": {},
   "number_sections": true,
   "sideBar": true,
   "skip_h1_title": false,
   "title_cell": "XXXXXX",
   "title_sidebar": "Python理论基础",
   "toc_cell": false,
   "toc_position": {
    "height": "calc(100% - 180px)",
    "left": "10px",
    "top": "150px",
    "width": "249.188px"
   },
   "toc_section_display": true,
   "toc_window_display": true
  }
 },
 "nbformat": 4,
 "nbformat_minor": 1
}
