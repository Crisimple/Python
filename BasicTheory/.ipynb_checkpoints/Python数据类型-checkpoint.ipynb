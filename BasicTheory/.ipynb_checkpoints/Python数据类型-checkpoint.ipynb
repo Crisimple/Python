{
 "cells": [
  {
   "cell_type": "markdown",
   "metadata": {
    "collapsed": true
   },
   "source": [
    "## 数据类型\n",
    "\n",
    "### 数字类型\n",
    "\n",
    "#### int 型\n",
    "&nbsp;&nbsp;python中无论整数的大小长度为多少，统称为整型 int。"
   ]
  },
  {
   "cell_type": "code",
   "execution_count": 5,
   "metadata": {},
   "outputs": [
    {
     "name": "stdout",
     "output_type": "stream",
     "text": [
      "type of 1099511627776 is <class 'int'>\n"
     ]
    }
   ],
   "source": [
    "int_sample = 2 ** 40\n",
    "print(\"type of %s is %s\" % (int_sample, type(int_sample)))"
   ]
  },
  {
   "cell_type": "markdown",
   "metadata": {},
   "source": [
    "### 布尔（bool）类型\n",
    "    对于 bool 类型，只存在两种值：False（0） 和 True（1）。常见的 False 值有：None、空、[]、0、{}、()"
   ]
  },
  {
   "cell_type": "code",
   "execution_count": null,
   "metadata": {},
   "outputs": [],
   "source": []
  }
 ],
 "metadata": {
  "kernelspec": {
   "display_name": "Python 3",
   "language": "python",
   "name": "python3"
  },
  "language_info": {
   "codemirror_mode": {
    "name": "ipython",
    "version": 3
   },
   "file_extension": ".py",
   "mimetype": "text/x-python",
   "name": "python",
   "nbconvert_exporter": "python",
   "pygments_lexer": "ipython3",
   "version": "3.8.0rc1"
  }
 },
 "nbformat": 4,
 "nbformat_minor": 1
}
