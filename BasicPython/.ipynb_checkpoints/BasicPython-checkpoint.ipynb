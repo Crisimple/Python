{
 "cells": [
  {
   "cell_type": "markdown",
   "metadata": {},
   "source": [
    "# 数据类型"
   ]
  },
  {
   "cell_type": "markdown",
   "metadata": {},
   "source": [
    "##  数字类型\n",
    "\n",
    "数字类型包括 int类型、float类型、complex类型"
   ]
  },
  {
   "cell_type": "markdown",
   "metadata": {},
   "source": [
    "### int\n",
    "Python 的 int 不同于 Java 的 int，Python 中无论整数的大小长度为多少，统称为 int。"
   ]
  },
  {
   "cell_type": "code",
   "execution_count": 25,
   "metadata": {
    "ExecuteTime": {
     "end_time": "2020-03-20T03:04:27.169133Z",
     "start_time": "2020-03-20T03:04:27.160702Z"
    },
    "run_control": {
     "marked": false
    }
   },
   "outputs": [
    {
     "name": "stdout",
     "output_type": "stream",
     "text": [
      "1125899906842624 的类型为：<class 'int'>\n",
      "123 的类型为：<class 'int'>\n"
     ]
    }
   ],
   "source": [
    "int_sample = 2 ** 50\n",
    "print(\"%s 的类型为：%s\" % (int_sample, type(int_sample)))\n",
    "str_int = int(\"123\")\n",
    "print(\"%s 的类型为：%s\" % (str_int, type(str_int)))"
   ]
  },
  {
   "cell_type": "markdown",
   "metadata": {
    "ExecuteTime": {
     "end_time": "2020-03-20T03:04:27.194925Z",
     "start_time": "2020-03-20T03:04:27.189470Z"
    },
    "heading_collapsed": true
   },
   "source": [
    "### float\n",
    "float 等会补充"
   ]
  },
  {
   "cell_type": "markdown",
   "metadata": {
    "heading_collapsed": true
   },
   "source": [
    "### complex\n",
    "主要用于高级数学计算"
   ]
  },
  {
   "cell_type": "markdown",
   "metadata": {},
   "source": [
    "## 布尔（bool）\n",
    "\n",
    "对于 bool 型来说，只存在两种值 True 和 False，对应二进制分别为 0 和 1。值为 False 的数有：None、空、[]、{}、()、0。 "
   ]
  },
  {
   "cell_type": "code",
   "execution_count": 26,
   "metadata": {
    "run_control": {
     "marked": false
    }
   },
   "outputs": [
    {
     "name": "stdout",
     "output_type": "stream",
     "text": [
      "False 的类型为：<class 'bool'>\n",
      "False 的类型为：<class 'bool'>\n",
      "False 的类型为：<class 'bool'>\n",
      "False 的类型为：<class 'bool'>\n"
     ]
    }
   ],
   "source": [
    "bl_none = bool(None)\n",
    "bl_blank = bool()\n",
    "bl_brackets = bool(())\n",
    "bl_0 = bool(0)\n",
    "print(\"%s 的类型为：%s\" %(bl_none, type(bl_none)))\n",
    "print(\"%s 的类型为：%s\" %(bl_blank, type(bl_blank)))\n",
    "print(\"%s 的类型为：%s\" %(bl_brackets, type(bl_brackets)))\n",
    "print(\"%s 的类型为：%s\" %(bl_0, type(bl_0)))"
   ]
  },
  {
   "cell_type": "markdown",
   "metadata": {},
   "source": [
    "## 字符串（str）\n",
    "字符串可由单引号或双引号（没区别）来创建，字符串是不可修改的。\n",
    "\n",
    "索引：index 和 find\n",
    "\n",
    "区别：index 和 find 都可以进行字符串的索引，区别在于索引的数据不存在的时候，index 返回的是 ValueError 错误；而 find 返回的是 -1。\n",
    "\n",
    "字符串转换：str(object)"
   ]
  },
  {
   "cell_type": "code",
   "execution_count": 102,
   "metadata": {
    "run_control": {
     "marked": false
    }
   },
   "outputs": [
    {
     "name": "stdout",
     "output_type": "stream",
     "text": [
      "str dict is:  <class 'str'>\n",
      "1234cabdef 的 index 索引是 5\n",
      "1234cabdef 的 index 索引是不存在返回 'str' object is not callable\n",
      ".............................\n",
      "\n",
      "1234cabdef 的 index 索引是 5\n",
      "1234cabdef 的 index 索引是 -1\n"
     ]
    }
   ],
   "source": [
    "print(\"str dict is: \", type(str({\"a\":1, \"b\":2})))\n",
    "\n",
    "str_sample = \"1234cabdef\"\n",
    "index_str1 = str_sample.index(\"a\")\n",
    "print(\"%s 的 index 索引是 %s\" % (str_sample, index_str1))\n",
    "try:\n",
    "    index_str2 = str_sample(\"x\")\n",
    "except Exception as e:\n",
    "    print(\"%s 的 index 索引是不存在返回 %s\" % (str_sample, e))\n",
    "    \n",
    "print(\".............................\\n\")\n",
    "\n",
    "find_str1 = str_sample.find(\"ab\")\n",
    "print(\"%s 的 index 索引是 %s\" % (str_sample, find_str1))\n",
    "find_str2 =  str_sample.find(\"x\")\n",
    "print(\"%s 的 index 索引是 %s\" % (str_sample, find_str2))"
   ]
  },
  {
   "cell_type": "markdown",
   "metadata": {},
   "source": [
    "### 切片 - [start: end: step]"
   ]
  },
  {
   "cell_type": "code",
   "execution_count": 44,
   "metadata": {
    "run_control": {
     "marked": false
    }
   },
   "outputs": [
    {
     "name": "stdout",
     "output_type": "stream",
     "text": [
      "1234567890abcdef 的切片是：1234\n",
      "1234567890abcdef 的切片是：135\n"
     ]
    }
   ],
   "source": [
    "str_sample = \"1234567890abcdef\"\n",
    "section_str_1 = str_sample[0: 4]\n",
    "section_str_2 = str_sample[0: 6: 2]\n",
    "print(\"%s 的切片是：%s\" % (str_sample, section_str_1))\n",
    "print(\"%s 的切片是：%s\" % (str_sample, section_str_2))"
   ]
  },
  {
   "cell_type": "markdown",
   "metadata": {},
   "source": [
    "### 遍历 - for"
   ]
  },
  {
   "cell_type": "code",
   "execution_count": 53,
   "metadata": {
    "run_control": {
     "marked": false
    }
   },
   "outputs": [
    {
     "name": "stdout",
     "output_type": "stream",
     "text": [
      "字符串的元素有：1\n",
      "字符串的元素有：2\n",
      "字符串的元素有：3\n",
      "字符串的元素有：4\n",
      "字符串的元素有：5\n",
      "字符串的元素有：6\n",
      "字符串的元素有：7\n",
      "字符串的元素有：8\n",
      "字符串的元素有：9\n",
      "字符串的元素有：0\n",
      "字符串的元素有：a\n",
      "字符串的元素有：b\n",
      "字符串的元素有：c\n",
      "字符串的元素有：d\n",
      "字符串的元素有：e\n",
      "字符串的元素有：f\n"
     ]
    }
   ],
   "source": [
    "str_sample = \"1234567890abcdef\"\n",
    "for i in str_sample:\n",
    "    print(\"字符串的元素有：%s\" % i)\n",
    "# for i in range(len(str_sample)):\n",
    "#    print(\"字符串的元素有：%s\" % str_sample[i])"
   ]
  },
  {
   "cell_type": "markdown",
   "metadata": {},
   "source": [
    "### 删除 - del\n"
   ]
  },
  {
   "cell_type": "code",
   "execution_count": 55,
   "metadata": {
    "run_control": {
     "marked": false
    }
   },
   "outputs": [
    {
     "name": "stdout",
     "output_type": "stream",
     "text": [
      "del_str: name 'del_str' is not defined\n"
     ]
    }
   ],
   "source": [
    "del_str = \"del none\"\n",
    "del del_str\n",
    "try:\n",
    "    print(\"del_str: \", del_str)\n",
    "except Exception as e:\n",
    "    print(\"del_str: %s\" % e)"
   ]
  },
  {
   "cell_type": "markdown",
   "metadata": {},
   "source": [
    "### 分割 - split + partition\n",
    "partition 指定分隔符，split 指定分隔符分割"
   ]
  },
  {
   "cell_type": "code",
   "execution_count": 65,
   "metadata": {
    "run_control": {
     "marked": false
    }
   },
   "outputs": [
    {
     "name": "stdout",
     "output_type": "stream",
     "text": [
      "partition str is:   ('This', '-', 'is-a-good work tool.')\n",
      "split str is:  ['This-is-a-good', 'work', 'tool.']\n"
     ]
    }
   ],
   "source": [
    "par_spl_str = \"This-is-a-good work tool.\"\n",
    "par = par_spl_str.partition(\"-\")\n",
    "print(\"partition str is:  \", par)\n",
    "spl = par_spl_str.split(\" \", 2)\n",
    "print(\"split str is:  %s\" % spl)"
   ]
  },
  {
   "cell_type": "markdown",
   "metadata": {},
   "source": [
    "### 替换 - replace、strip、lstrip、rstrip"
   ]
  },
  {
   "cell_type": "code",
   "execution_count": 70,
   "metadata": {
    "run_control": {
     "marked": false
    }
   },
   "outputs": [
    {
     "name": "stdout",
     "output_type": "stream",
     "text": [
      "replace str is:   This is a bad boy. \n",
      "strip str(去掉字符串两端的空格) is:  This is a good boy.\n",
      "lstrip str(去掉字符串左端的空格) is:  This is a good boy. \n",
      "rstrip str(去掉字符串左端的空格) is:   This is a good boy.\n"
     ]
    }
   ],
   "source": [
    "str_sample = \" This is a good boy. \"\n",
    "print(\"replace str is: \", str_sample.replace(\"good\", \"bad\"))\n",
    "print(\"strip str(去掉字符串两端的空格) is: \", str_sample.strip())\n",
    "print(\"lstrip str(去掉字符串左端的空格) is: \", str_sample.lstrip())\n",
    "print(\"rstrip str(去掉字符串左端的空格) is: \", str_sample.rstrip())"
   ]
  },
  {
   "cell_type": "markdown",
   "metadata": {},
   "source": [
    "### 连接 - join"
   ]
  },
  {
   "cell_type": "code",
   "execution_count": 71,
   "metadata": {
    "run_control": {
     "marked": false
    }
   },
   "outputs": [
    {
     "name": "stdout",
     "output_type": "stream",
     "text": [
      "a-->b-->c-->d-->e-->f-->g-->h\n"
     ]
    }
   ],
   "source": [
    "str_sample = \"abcdefgh\"\n",
    "print(\"-->\".join(str_sample))"
   ]
  },
  {
   "cell_type": "markdown",
   "metadata": {},
   "source": [
    "### 大小写转化 \n",
    "    capitalize - 第一个单词首字母大写\n",
    "    lower - 所有字符转换为小写字母\n",
    "    upper - 所有字符转换为大写字母\n",
    "    title - 将字符串转换为标题形式\n",
    "    swapcase - 字符串大小写相互转换"
   ]
  },
  {
   "cell_type": "code",
   "execution_count": 20,
   "metadata": {
    "run_control": {
     "marked": false
    }
   },
   "outputs": [
    {
     "name": "stdout",
     "output_type": "stream",
     "text": [
      "capitalize str is: I am boy.\n",
      "lower str is: i am a boy.\n",
      "upper str is: I AM A BOY.\n",
      "title str is: I Am A Boy.\n",
      "swapcase str is: i aM a bOY.\n"
     ]
    }
   ],
   "source": [
    "capitalize_str = \"i am boy.\"\n",
    "print(\"capitalize str is: %s\" % capitalize_str.capitalize())\n",
    "lower_str = \"I AM A BOY.\"\n",
    "print(\"lower str is: %s\" % lower_str.lower())\n",
    "upper_str = \"i am a boy.\"\n",
    "print(\"upper str is: %s\" % upper_str.upper())\n",
    "title_str = \"i am a boy.\"\n",
    "print(\"title str is: %s\" % title_str.title())\n",
    "swapcase_str = \"I Am A Boy.\"\n",
    "print(\"swapcase str is: %s\" % swapcase_str.swapcase())"
   ]
  },
  {
   "cell_type": "markdown",
   "metadata": {},
   "source": [
    "### 字符串始末 - startswith、endswith"
   ]
  },
  {
   "cell_type": "code",
   "execution_count": 107,
   "metadata": {
    "run_control": {
     "marked": false
    }
   },
   "outputs": [
    {
     "name": "stdout",
     "output_type": "stream",
     "text": [
      "str_sample startswith is: True\n",
      "str_sample startswith is: False\n",
      "str_sample endswith is: True\n",
      "str_sample endswith is: False\n"
     ]
    }
   ],
   "source": [
    "str_sample = \"We are lovely person.\"\n",
    "print(\"str_sample startswith is: %s\" % str_sample.startswith(\"We\"))\n",
    "print(\"str_sample startswith is: %s\" % str_sample.startswith(\"we\"))\n",
    "print(\"str_sample endswith is: %s\" % str_sample.endswith(\"n.\"))\n",
    "print(\"str_sample endswith is: %s\" % str_sample.endswith(\"n\"))"
   ]
  },
  {
   "cell_type": "markdown",
   "metadata": {},
   "source": [
    "### 判断字符串\n",
    "    isalnum - 字符串是数字或字母的组合\n",
    "    isalpha - 字符串是字母组合\n",
    "    isdigit - 字符串是数字组合"
   ]
  },
  {
   "cell_type": "code",
   "execution_count": 108,
   "metadata": {
    "code_folding": [],
    "run_control": {
     "marked": false
    }
   },
   "outputs": [
    {
     "name": "stdout",
     "output_type": "stream",
     "text": [
      "数字或字母组合\n",
      "字母组合\n",
      "数字组合\n",
      "数字或字母组合\n"
     ]
    }
   ],
   "source": [
    "def judge_str(str_sample):\n",
    "    if str_sample.isdigit() == True:\n",
    "        print(\"数字组合\")\n",
    "    elif str_sample.isalpha() == True:\n",
    "        print(\"字母组合\")\n",
    "    elif str_sample.isalnum() == True:\n",
    "        print(\"数字或字母组合\")\n",
    "    else:\n",
    "        print(\"混杂组合\")\n",
    "        \n",
    "if __name__ == \"__main__\":\n",
    "    str_sample_1 = \"abc123\"\n",
    "    str_sample_2 = \"abc\"\n",
    "    str_sample_3 = \"123\"\n",
    "    str_sample_4 = \"abc123字符串\"\n",
    "    judge_str(str_sample_1)\n",
    "    judge_str(str_sample_2)\n",
    "    judge_str(str_sample_3)\n",
    "    judge_str(str_sample_4)\n"
   ]
  },
  {
   "cell_type": "markdown",
   "metadata": {},
   "source": [
    "### 格式化输出 - %、format、format_map"
   ]
  },
  {
   "cell_type": "code",
   "execution_count": 51,
   "metadata": {
    "run_control": {
     "marked": false
    }
   },
   "outputs": [
    {
     "name": "stdout",
     "output_type": "stream",
     "text": [
      "My name is A, i am 26 years old.\n",
      "My name is B, i am 25 years old.\n",
      "My name is c, i am 27 years old.\n"
     ]
    }
   ],
   "source": [
    "str_sample = \"My name is {name}, i am {age} years old.\"\n",
    "print(str_sample.format(name=\"A\", age=26))\n",
    "print(str_sample.format_map({\"name\": \"B\", \"age\": 25}))\n",
    "print(\"My name is %s, i am %s years old.\" % (\"c\", 27))"
   ]
  },
  {
   "cell_type": "markdown",
   "metadata": {},
   "source": [
    "### 扩展 - expandtabs"
   ]
  },
  {
   "cell_type": "code",
   "execution_count": 52,
   "metadata": {
    "run_control": {
     "marked": false
    }
   },
   "outputs": [
    {
     "name": "stdout",
     "output_type": "stream",
     "text": [
      "str_sample expandtabs str is: name    age     sex     A       22      '男'     B       23      '女'\n"
     ]
    }
   ],
   "source": [
    "str_sample = \"name\\tage\\tsex\\tA\\t22\\t'男'\\tB\\t23\\t'女'\"\n",
    "print(\"str_sample expandtabs str is: %s\" % str_sample.expandtabs())"
   ]
  },
  {
   "cell_type": "markdown",
   "metadata": {},
   "source": [
    "## 列表（list）\n",
    "是由一系列特定元素顺序排列的元素组成，组成元素组成可以是：数字、字符串、列表、元组、布尔值、字典，列表是可以修改的。"
   ]
  },
  {
   "cell_type": "markdown",
   "metadata": {},
   "source": [
    "### 取值（索引+切片）\n",
    "    索引 - 根据特定位置取值\n",
    "    切片 - 根据指定范围位置取值"
   ]
  },
  {
   "cell_type": "code",
   "execution_count": 10,
   "metadata": {},
   "outputs": [
    {
     "name": "stdout",
     "output_type": "stream",
     "text": [
      "5 位置上索引的值是：[1, 2, 3]\n",
      "0:4之间的切片值是：[123, 'sample', [1, 2, 3], (1, 2, 3)]\n",
      "反向输出列表方法一：[{'a': 1.0, 'b': 2}, True, (1, 2, 3), [1, 2, 3], 'sample', 123]\n",
      "反向输出列表方法二：[{'a': 1.0, 'b': 2}, True, (1, 2, 3), [1, 2, 3], 'sample', 123]\n"
     ]
    }
   ],
   "source": [
    "list_sample = [123, \"sample\", [1,2,3], (1,2,3), True, {\"a\": 1., \"b\": 2}]\n",
    "print(\"%s 位置上索引的值是：%s\" % (5, list_sample[2]))\n",
    "print(\"%s:%s之间的切片值是：%s\" % (0,4, list_sample[0:4]))\n",
    "print(\"反向输出列表方法一：%s\" % list_sample[::-1])\n",
    "list_sample.reverse()\n",
    "print(\"反向输出列表方法二：%s\" % list_sample)"
   ]
  },
  {
   "cell_type": "markdown",
   "metadata": {},
   "source": [
    "### 修改（追加、拓展、插入、取出、删除）\n",
    "\n",
    "    append([列表元素1, 列表元素2]) - 将元素整体添加\n",
    "    extend([列表元素1, 列表元素2]) - 将元素分解添加\n",
    "    insert(插入的位置, 插入的元素)  - 插入元素\n",
    "    pop() - 取出元素，pop一次就取出最后一个元素\n",
    "    remove(要移除的元素) - 删除指定的元素\n",
    "    del list_sample[元素索引位置] - 删除指定位置上的元素"
   ]
  },
  {
   "cell_type": "code",
   "execution_count": 25,
   "metadata": {},
   "outputs": [
    {
     "name": "stdout",
     "output_type": "stream",
     "text": [
      "**append** list is: [123, 'sample', [1, 2, 3], (1, 2, 3), True, {'a': 1.0, 'b': 2}, [11, 22]]\n",
      "**extend** list is: [123, 'sample', [1, 2, 3], (1, 2, 3), True, {'a': 1.0, 'b': 2}, [11, 22], 33, 44]\n",
      "**insert** list is: [123, 'sample', 'list replace', [1, 2, 3], (1, 2, 3), True, {'a': 1.0, 'b': 2}, [11, 22], 33, 44]\n",
      "**pop** list is: [123, 'sample', 'list replace', [1, 2, 3], (1, 2, 3), True, {'a': 1.0, 'b': 2}, [11, 22], 33]\n",
      "**remove** list is: ['sample', 'list replace', [1, 2, 3], (1, 2, 3), True, {'a': 1.0, 'b': 2}, [11, 22], 33]\n",
      "**del** list is: ['list replace', [1, 2, 3], (1, 2, 3), True, {'a': 1.0, 'b': 2}, [11, 22], 33]\n"
     ]
    }
   ],
   "source": [
    "list_sample = [123, \"sample\", [1,2,3], (1,2,3), True, {\"a\": 1., \"b\": 2}]\n",
    "list_sample.append([11,22])\n",
    "print(\"**append** list is: %s\" % list_sample)\n",
    "list_sample.extend([33, 44])\n",
    "print(\"**extend** list is: %s\" % list_sample)\n",
    "list_sample.insert(2, \"list replace\")\n",
    "print(\"**insert** list is: %s\" % list_sample)\n",
    "list_sample.pop()\n",
    "print(\"**pop** list is: %s\" % list_sample)\n",
    "list_sample.remove(123)\n",
    "print(\"**remove** list is: %s\" % list_sample)\n",
    "del list_sample[0]\n",
    "print(\"**del** list is: %s\" % list_sample)"
   ]
  },
  {
   "cell_type": "markdown",
   "metadata": {},
   "source": [
    "### 排序 - sorted\n",
    "    list_sample.sorte() - 排序后原list_sample就变成了一个新的list\n",
    "    sorted(list_sample) - 排序后不改变原list的顺序"
   ]
  },
  {
   "cell_type": "code",
   "execution_count": 103,
   "metadata": {},
   "outputs": [
    {
     "name": "stdout",
     "output_type": "stream",
     "text": [
      "sorted list is: [11, 35, 42, 55, 66, 88]\n",
      "list is: [11, 55, 88, 66, 35, 42]\n",
      "sorted reverse list is: [88, 66, 55, 42, 35, 11]\n"
     ]
    }
   ],
   "source": [
    "list_sample = [11,55,88,66,35,42]\n",
    "# list_sample.sort()\n",
    "# print(\"sort list is: %s\" % list_sample)\n",
    "print(\"sorted list is: %s\" % sorted(list_sample))\n",
    "print(\"list is: %s\" % list_sample)\n",
    "print(\"sorted reverse list is: %s\" % sorted(list_sample, reverse=True))"
   ]
  },
  {
   "cell_type": "markdown",
   "metadata": {},
   "source": [
    "### 列表转换\n",
    "将元组转换成列表"
   ]
  },
  {
   "cell_type": "code",
   "execution_count": 105,
   "metadata": {},
   "outputs": [
    {
     "name": "stdout",
     "output_type": "stream",
     "text": [
      "list tuple is:  [1, 2, 3, 4]\n"
     ]
    }
   ],
   "source": [
    "tuple_sample = (1, 2, 3, 4)\n",
    "print(\"list tuple is: \", list(tuple_sample))"
   ]
  },
  {
   "cell_type": "markdown",
   "metadata": {},
   "source": [
    "字符串转换成列表"
   ]
  },
  {
   "cell_type": "code",
   "execution_count": 106,
   "metadata": {},
   "outputs": [
    {
     "name": "stdout",
     "output_type": "stream",
     "text": [
      "list str is:  ['1', '2', '1', '3', 'a', 'b', 'c']\n"
     ]
    }
   ],
   "source": [
    "str_sample = \"1213abc\"\n",
    "print(\"list str is: \", list(str_sample))"
   ]
  },
  {
   "cell_type": "markdown",
   "metadata": {},
   "source": [
    "## 元组（tuple）\n",
    "与list相似，即为不可修改的list。"
   ]
  },
  {
   "cell_type": "code",
   "execution_count": 117,
   "metadata": {},
   "outputs": [
    {
     "name": "stdout",
     "output_type": "stream",
     "text": [
      "str tuple is:  ('1', '2', '1', '3', '3', '3')\n",
      "list tuple is:  ('1', 'B', 'C')\n",
      "dict tuple is:  ('a', 'b')\n",
      "set tuple is:  ('A', 1, 2, 3)\n",
      "tuple 切片是: 1\n"
     ]
    }
   ],
   "source": [
    "str_sample = \"121333\"\n",
    "list_sample = [\"1\", 'B', 'C']\n",
    "dict_sample = {\"a\":1, \"b\":2}\n",
    "set_sample = set({1, 2, 3, \"A\"})\n",
    "print(\"str tuple is: \", tuple(str_sample))\n",
    "print(\"list tuple is: \", tuple(list_sample))\n",
    "print(\"dict tuple is: \", tuple(dict_sample))\n",
    "print(\"set tuple is: \", tuple(set_sample))\n",
    "\n",
    "tuple_sample = (1,2,3,4,5)\n",
    "print(\"tuple 切片是: %s\" % tuple_sample[0])"
   ]
  },
  {
   "cell_type": "markdown",
   "metadata": {},
   "source": [
    "## 字典\n",
    "    字典是一系列键值对，每个键值对通过逗号分割。特点：\n",
    "        键必须是不可变的，可以是数字、字符串、元组、布尔值；\n",
    "        键是唯一的"
   ]
  },
  {
   "cell_type": "markdown",
   "metadata": {
    "cell_style": "center",
    "deletable": false,
    "editable": false,
    "run_control": {
     "frozen": true
    }
   },
   "source": [
    "### "
   ]
  },
  {
   "cell_type": "code",
   "execution_count": 123,
   "metadata": {
    "code_folding": []
   },
   "outputs": [
    {
     "name": "stdout",
     "output_type": "stream",
     "text": [
      "dict is {('ok',): 1, 'abc': '中文', True: ['abc']}\n",
      "dict 获取字典的键为： dict_keys([('ok',), 'abc', True])\n",
      "dict 获取字典的值为： dict_values([1, '中文', ['abc']])\n",
      "('ok',) 的值为：1\n",
      "abc 的值为：中文\n",
      "True 的值为：['abc']\n"
     ]
    }
   ],
   "source": [
    "str_sample = \"abc123\"\n",
    "int_sample = 12\n",
    "list_sample = [1, 2, 3]\n",
    "# print(\"str dict is,\", dict(str_sample))\n",
    "# print(\"int dict is,\", dict(int_sample))\n",
    "# print(\"list dict is,\", dict(list_sample))\n",
    "\n",
    "dict_sample = {\n",
    "    ('ok', ): 1,\n",
    "    \"abc\": \"中文\",\n",
    "    True: ['abc']\n",
    "}\n",
    "print(\"dict is %s\" % dict_sample)\n",
    "print(\"dict 获取字典的键为：\", dict_sample.keys())\n",
    "print(\"dict 获取字典的值为：\", dict_sample.values())\n",
    "# 遍历字典元素\n",
    "for i in dict_sample:\n",
    "    print(\"%s 的值为：%s\" % (i, dict_sample[i]))"
   ]
  },
  {
   "cell_type": "markdown",
   "metadata": {},
   "source": [
    "## 集合（set）\n",
    "集合是一个无序不重复的元素集，由于集合是不重复的元素，所以可以对字符串、列表、元组进行去重。"
   ]
  },
  {
   "cell_type": "markdown",
   "metadata": {
    "heading_collapsed": true
   },
   "source": [
    "### 创建\n",
    "    set - 创建一个可变的集合\n",
    "    frozenset - 创建一个不可变的集合"
   ]
  },
  {
   "cell_type": "code",
   "execution_count": 54,
   "metadata": {
    "hidden": true
   },
   "outputs": [
    {
     "name": "stdout",
     "output_type": "stream",
     "text": [
      "set_sample_1 is: {True, 'abc', 'ABC', 'test', (12, 3)}\n",
      "set_sample_set is: {True, 'ABC', 'test', 'abc', (12, 3)}\n",
      "frozen_sample is frozenset({True, 'ABC', 'test', 'abc', (12, 3)})\n",
      "{True, 'abc', 'ABC', 'test', (12, 3)} equal {True, 'ABC', 'test', 'abc', (12, 3)} \n",
      "\n",
      "{True, 'ABC', 'test', 'abc', (12, 3)} equal frozenset({True, 'ABC', 'test', 'abc', (12, 3)}) \n",
      "\n"
     ]
    }
   ],
   "source": [
    "# set_sample_error = {\"ABC\", \"abc\", 1, 2, [1,2,3]}\n",
    "# print(\"set_sample_1 is: %s\" % sett_sample_error)\n",
    "set_sample_1 = {\"ABC\", 'abc', \"test\", \"test\", (12, 3), True}\n",
    "print(\"set_sample_1 is: %s\" % set_sample_1)\n",
    "set_sample_set = set({\"ABC\", 'abc', \"test\", \"test\", (12, 3), True})\n",
    "print(\"set_sample_set is: %s\" % set_sample_set)\n",
    "frozenset_sample = frozenset({\"ABC\", 'abc', \"test\", \"test\", (12, 3), True})\n",
    "print(\"frozen_sample is %s\" % frozenset_sample)\n",
    "\n",
    "def compare_set(set_1, set_2):\n",
    "    if set_1 == set_2:\n",
    "        print(\"%s equal %s \\n\" % (set_1, set_2))\n",
    "    else:\n",
    "        print(\"%s not equal %s \\ng\" % (set_1, set_2))\n",
    "compare_set(set_sample_1, set_sample_set)\n",
    "compare_set(set_sample_set, frozenset_sample)"
   ]
  },
  {
   "cell_type": "markdown",
   "metadata": {
    "heading_collapsed": true
   },
   "source": [
    "### 修改（add、update）\n",
    "    add(添加元素) - 添加元素作为整体修改\n",
    "    update(添加元素) - 添加元素分解成单个元素修改"
   ]
  },
  {
   "cell_type": "code",
   "execution_count": 66,
   "metadata": {
    "hidden": true
   },
   "outputs": [
    {
     "name": "stdout",
     "output_type": "stream",
     "text": [
      "set add is: {(1, 2), 'c', 'Hello', 'a', 'b'}\n",
      "set update is: {'D', 'A', 2, 1, 'H', 'B', 'l', 'e', 'o'}\n"
     ]
    }
   ],
   "source": [
    "set_sample = {\"a\", \"b\", \"c\"}\n",
    "set_sample.add(\"Hello\")\n",
    "set_sample.add((1,2))\n",
    "print(\"set add is: %s\" % (set_sample))\n",
    "set_sample_update = {\"A\", \"B\", 1, 2}\n",
    "set_sample_update.update(\"D\")\n",
    "set_sample_update.update(\"Hello\")\n",
    "print(\"set update is: %s\" % set_sample_update)"
   ]
  },
  {
   "cell_type": "markdown",
   "metadata": {
    "heading_collapsed": true
   },
   "source": [
    "### 删除（remove、pop、discard）\n",
    "    remove(要移除的元素) - 删除传入要移除的元素，如果元素不存则报错\n",
    "    pop() - 删除集合中任意一个元素\n",
    "    discard(要移除的元素) - 删除传入要移除的元素，如果元素不存在无视不会保存 "
   ]
  },
  {
   "cell_type": "code",
   "execution_count": 77,
   "metadata": {
    "hidden": true
   },
   "outputs": [
    {
     "name": "stdout",
     "output_type": "stream",
     "text": [
      "set remove is: {'C', 'A', 1, (1, 2, 'C')}\n",
      "e error is: <built-in method with_traceback of KeyError object at 0x7ff9c1c29888>\n",
      "set pop is: {'A', 1, (1, 2, 'C')}\n",
      "set discard is: {'A', 1, (1, 2, 'C')}\n"
     ]
    }
   ],
   "source": [
    "set_sample = set({\"A\", \"B\", \"C\", 1, (1,2,\"C\")})\n",
    "set_sample.remove(\"B\")\n",
    "print(\"set remove is: %s\" % set_sample)\n",
    "try:\n",
    "    set_sample.remove(\"E\")\n",
    "    print(\"set remove is: %s\" % set_sample)\n",
    "except Exception as e:\n",
    "    print(\"e error is: %s\" % e.with_traceback)\n",
    "set_sample.pop()\n",
    "print(\"set pop is: %s\" % set_sample)\n",
    "set_sample.discard(\"E\")\n",
    "print(\"set discard is: %s\" % set_sample)"
   ]
  },
  {
   "cell_type": "markdown",
   "metadata": {
    "heading_collapsed": true
   },
   "source": [
    "### 关系运算（&、|、-、^、子集、父集）\n",
    "    A & B           - 交集，A 和 B 共同有的元素的集合\n",
    "    A | B           - 并集，A 和 B 集合去重后的合集的集合\n",
    "    A - B           - 差集，A 相比 B 中 A 独有的元素\n",
    "    A ^ B           - 补集，A 和 B 中独有的元素\n",
    "    A.issubset(B)   - A 是否是 B 的子集\n",
    "    A.isupperset(B) - A 是否是 B 的父集"
   ]
  },
  {
   "cell_type": "code",
   "execution_count": 96,
   "metadata": {
    "hidden": true
   },
   "outputs": [
    {
     "name": "stdout",
     "output_type": "stream",
     "text": [
      "{(1, 2), True, 'a', 'c', 'E'} & {(1, 2), True, 'a', 'c', 'B', 123} is: {(1, 2), True, 'a', 'c'}\n",
      "{(1, 2), True, 'a', 'c', 'E'} | {(1, 2), True, 'a', 'c', 'B', 123} is: {(1, 2), True, 'c', 'E', 'B', 'a', 123}\n",
      "{(1, 2), True, 'a', 'c', 'E'} - {(1, 2), True, 'a', 'c', 'B', 123} is: {'E'}\n",
      "{(1, 2), True, 'a', 'c', 'B', 123} - {(1, 2), True, 'a', 'c', 'E'} is: {123, 'B'}\n",
      "{(1, 2), True, 'a', 'c', 'E'} ^ {(1, 2), True, 'a', 'c', 'B', 123} is: {'E', 'B', 123}\n",
      "{(1, 2), True, 'a', 'c', 'B', 123} ^ {(1, 2), True, 'a', 'c', 'E'} is: {'E', 'B', 123}\n",
      "{(1, 2), True, 'a', 'c', 'E'} issubset {(1, 2), True, 'a', 'c', 'B', 123} is: False\n",
      "{'a', True, 'c', (1, 2)} issubset {(1, 2), True, 'a', 'c', 'B', 123} is: True\n",
      "{(1, 2), True, 'a', 'c', 'B', 123} isupperset {(1, 2), True, 'a', 'c', 'E'} is: False\n",
      "{(1, 2), True, 'a', 'c', 'B', 123} isupperset {'a', True, 'c', (1, 2)} is: True\n"
     ]
    }
   ],
   "source": [
    "set_sample_1 = set({\"a\", \"c\", (1, 2), True, \"E\"})\n",
    "set_sample_11 = set({\"a\", \"c\", (1, 2), True})\n",
    "set_sample_2 = set({\"a\", \"c\", (1, 2), True, 123, \"a\", \"B\"})\n",
    "print(\"%s & %s is: %s\" % (set_sample_1, set_sample_2, set_sample_1 & set_sample_2))\n",
    "print(\"%s | %s is: %s\" % (set_sample_1, set_sample_2, set_sample_1 | set_sample_2))\n",
    "print(\"%s - %s is: %s\" % (set_sample_1, set_sample_2, set_sample_1 - set_sample_2))\n",
    "print(\"%s - %s is: %s\" % (set_sample_2, set_sample_1, set_sample_2 - set_sample_1))\n",
    "print(\"%s ^ %s is: %s\" % (set_sample_1, set_sample_2, set_sample_1 ^ set_sample_2))\n",
    "print(\"%s ^ %s is: %s\" % (set_sample_2, set_sample_1, set_sample_2 ^ set_sample_1))\n",
    "print(\"%s issubset %s is: %s\" % (set_sample_1, set_sample_2,  set_sample_1.issubset(set_sample_2)))\n",
    "print(\"%s issubset %s is: %s\" % (set_sample_11, set_sample_2,  set_sample_11.issubset(set_sample_2)))\n",
    "print(\"%s isupperset %s is: %s\" % (set_sample_2, set_sample_1,  set_sample_2.issuperset(set_sample_1)))\n",
    "print(\"%s isupperset %s is: %s\" % (set_sample_2, set_sample_11,  set_sample_2.issuperset(set_sample_11)))"
   ]
  },
  {
   "cell_type": "markdown",
   "metadata": {
    "heading_collapsed": true
   },
   "source": [
    "### 栈（stack）"
   ]
  },
  {
   "cell_type": "code",
   "execution_count": 97,
   "metadata": {
    "hidden": true
   },
   "outputs": [],
   "source": [
    "# 稍后"
   ]
  },
  {
   "cell_type": "markdown",
   "metadata": {
    "heading_collapsed": true
   },
   "source": [
    "### 堆（queue）"
   ]
  },
  {
   "cell_type": "code",
   "execution_count": 98,
   "metadata": {
    "hidden": true
   },
   "outputs": [],
   "source": [
    "# 稍后"
   ]
  },
  {
   "cell_type": "markdown",
   "metadata": {
    "heading_collapsed": true
   },
   "source": [
    "# 逻辑控制\n",
    "常用的逻辑控制结构有：顺序结构、选择结构 和 循环结构\n",
    "    \n",
    "    顺序结构：就是按照代码的编写顺序，一行一行进行顺序执行。\n",
    "           "
   ]
  },
  {
   "cell_type": "markdown",
   "metadata": {
    "heading_collapsed": true,
    "hidden": true
   },
   "source": [
    "## 选择结构\n",
    "     选择结构：根据条件判断进行选择性的执行代码分支。\n",
    "        if...elif...else..."
   ]
  },
  {
   "cell_type": "code",
   "execution_count": 104,
   "metadata": {
    "hidden": true
   },
   "outputs": [
    {
     "name": "stdout",
     "output_type": "stream",
     "text": [
      "crisimple is in service, he is a outstanding soldier.\n",
      "17 is not a soldier.\n"
     ]
    }
   ],
   "source": [
    "def judge_people(name, age, score):\n",
    "    if age >= 18:\n",
    "        if name == \"crisimple\":\n",
    "            if score == 100:\n",
    "                print(\"%s is in service, he is a outstanding soldier.\" % name)\n",
    "            else:\n",
    "                print(\"He should go on.\")\n",
    "        else:\n",
    "            print(\"%s is not in service.\" % name)\n",
    "    else:\n",
    "        print(\"%s is not a soldier.\" % age)\n",
    "\n",
    "if __name__ == \"__main__\":\n",
    "    judge_people(\"crisimple\", 25, 100)\n",
    "    judge_people(\"crisimple\", 17, 100)"
   ]
  },
  {
   "cell_type": "markdown",
   "metadata": {
    "hidden": true
   },
   "source": [
    "## 循环结构\n",
    "    循环结构：满足一定条件，重复执行某段代码的一种编码结构。\n",
    "        while循环\n",
    "        for循环 - 常用于遍历字符串、列表、字典等数据结构"
   ]
  },
  {
   "cell_type": "code",
   "execution_count": 133,
   "metadata": {
    "hidden": true
   },
   "outputs": [
    {
     "name": "stdout",
     "output_type": "stream",
     "text": [
      "1*1=1   \n",
      "\n",
      "1*2=2   2*2=4   \n",
      "\n",
      "1*3=3   2*3=6   3*3=9   \n",
      "\n",
      "1*4=4   2*4=8   3*4=12   4*4=16   \n",
      "\n",
      "1*5=5   2*5=10   3*5=15   4*5=20   5*5=25   \n",
      "\n",
      "1*6=6   2*6=12   3*6=18   4*6=24   5*6=30   6*6=36   \n",
      "\n",
      "1*7=7   2*7=14   3*7=21   4*7=28   5*7=35   6*7=42   7*7=49   \n",
      "\n",
      "1*8=8   2*8=16   3*8=24   4*8=32   5*8=40   6*8=48   7*8=56   8*8=64   \n",
      "\n",
      "1*9=9   2*9=18   3*9=27   4*9=36   5*9=45   6*9=54   7*9=63   8*9=72   9*9=81   \n",
      "\n"
     ]
    }
   ],
   "source": [
    "for i in range(1, 10):\n",
    "    for j in range(1, i+1):\n",
    "        print(\"%s*%s=%s\" % (j, i, (i*j)), end=\"   \")\n",
    "    print(\"\\n\")"
   ]
  },
  {
   "cell_type": "markdown",
   "metadata": {},
   "source": [
    "# IO操作\n",
    "读写文件是最常见的IO操作，现代操作系统不允许普通程序直接操作磁盘，读写文件就是请求操作系统打开一个文件操作对象，通过操作系统提供的接口进行对文件的读写操作。\n",
    "\n",
    "本文是以 txt 文件为操作对象进行数据读写操作，更多其他类型文件（csv、json、excel、yaml等），可参考[《Python 文件操作》](../OperateFile/)"
   ]
  },
  {
   "cell_type": "markdown",
   "metadata": {},
   "source": [
    "## 文件读取\n",
    "文件读取三步骤：\n",
    "\n",
    "    （1）创建文件操作句柄 f_read；\n",
    "    （2）使用 f_read.read() 方法读取文件中的内容；\n",
    "    （3）文件读取完关闭文件（不然文件对象会占用操作系统资源）。"
   ]
  },
  {
   "cell_type": "code",
   "execution_count": 18,
   "metadata": {},
   "outputs": [
    {
     "name": "stdout",
     "output_type": "stream",
     "text": [
      "f_read: \n",
      " 《青花瓷》\n",
      "天青色等烟雨\n",
      "而我在等你\n",
      "炊烟袅袅升起\n",
      "隔江千万里\n"
     ]
    }
   ],
   "source": [
    "# codecs模块：读写文件模块，用来解决文件乱码问题\n",
    "import codecs\n",
    "\n",
    "f_read = codecs.open(\"./data/read.txt\", 'rb', encoding=\"utf-8\")\n",
    "print(\"f_read: \\n\", f_read.read())\n",
    "f_read.close()"
   ]
  },
  {
   "cell_type": "markdown",
   "metadata": {},
   "source": [
    "## 文件写入\n",
    "文件写入三步骤：\n",
    "\n",
    "    （1）创建文件操作句柄 f_write；\n",
    "    （2）使用 f_write.write() 方法把内容写入文件；\n",
    "    （3）文件操作完关闭文件（不然文件对象会占用操作系统资源）。"
   ]
  },
  {
   "cell_type": "code",
   "execution_count": 19,
   "metadata": {},
   "outputs": [],
   "source": [
    "import codecs\n",
    "\n",
    "f = codecs.open(\"./data/write.txt\", 'wb', encoding=\"utf-8\")\n",
    "f.write(\"《送别》 \\n\")\n",
    "f.write(\" 长亭外，古道边。 \\n\")\n",
    "f.write(\" 芳草碧连天。 \\n\")\n",
    "f.close()"
   ]
  },
  {
   "cell_type": "markdown",
   "metadata": {},
   "source": [
    "## 文件操作方法\n",
    "    readline() - 读取所有文件，包含特殊字符（\\n、\\t）；如果指定了非负数的整数，则读取整数个字节数。\n",
    "    readlines() - 读取文件中的所有行，返回为列表形式。\n",
    "    __next__() - 返回迭代器的下一个指向\n",
    "    writelines() - 向文件中写入一系列的字符串\n",
    "    tell() - 返回文件的当前位置，即文件当前位置\n",
    "    seek() - 移动文件读取指针到指定位置\n",
    "    name() - 读取文件名\n",
    "    \n",
    "    flush() - 刷新缓冲区，即将缓冲区的数据写入文件，同时清空缓冲区"
   ]
  },
  {
   "cell_type": "code",
   "execution_count": 21,
   "metadata": {
    "lang": "en"
   },
   "outputs": [
    {
     "name": "stdout",
     "output_type": "stream",
     "text": [
      "fr.readlines is:  《\n",
      "fr.__next__() is:  青花瓷》\n",
      "\n",
      "fw.tell() is:  2\n",
      "fw.tell() is:  2\n",
      "fw.name():  ./data/write.txt\n"
     ]
    }
   ],
   "source": [
    "import codecs\n",
    "\n",
    "fr = codecs.open(\"./data/read.txt\", 'rb', encoding=\"utf-8\")\n",
    "# print(\"f.readlines is: \", fr.readlines())\n",
    "print(\"fr.readlines is: \", fr.readline(1))\n",
    "print(\"fr.__next__() is: \", fr.__next__())\n",
    "fr.close()\n",
    "\n",
    "fw = codecs.open('./data/write.txt', 'wb', encoding=\"utf-8\")\n",
    "\n",
    "fw.writelines([\"a\\n\"])\n",
    "\n",
    "print(\"fw.tell() is: \", fw.tell())\n",
    "fw.seek(0)\n",
    "fw.writelines([\"a\\n\"])\n",
    "print(\"fw.tell() is: \", fw.tell())\n",
    "print(\"fw.name(): \", fw.name)\n",
    "fw.close()"
   ]
  },
  {
   "cell_type": "markdown",
   "metadata": {},
   "source": [
    "## 上下文管理\n"
   ]
  },
  {
   "cell_type": "code",
   "execution_count": 25,
   "metadata": {},
   "outputs": [
    {
     "name": "stdout",
     "output_type": "stream",
     "text": [
      "f.read():  《青花瓷》\n",
      "天青色等烟雨\n",
      "而我在等你\n",
      "炊烟袅袅升起\n",
      "隔江千万里\n",
      "f.closed() True\n"
     ]
    }
   ],
   "source": [
    "#  在实际操作中操作完文件经常会忘记关闭文件，上下文管理会避免出现这种问题\n",
    "with codecs.open(\"./data/read.txt\", 'rb', encoding=\"utf-8\") as f:\n",
    "    print(\"f.read(): \", f.read())\n",
    "print(\"f.closed()\", f.closed)"
   ]
  },
  {
   "cell_type": "markdown",
   "metadata": {},
   "source": [
    "# 函数\n",
    "函数 - 一段组织好的，可以多次重复使用的，用来实现单一功能或相关功能的代码段\n",
    "\n",
    "自定义函数语法：\n",
    "```python\n",
    "def custom_func(elem):\n",
    "    print(\"这是我的自定义函数...\")\n",
    "    print(\"我是参数elem: \", elem)\n",
    "```\n",
    "\n",
    "函数调用：custom_func(1)\n"
   ]
  },
  {
   "cell_type": "markdown",
   "metadata": {},
   "source": [
    "## 参数及返回值\n",
    "**函数参数**\n",
    "\n",
    "    （1）位置参数\n",
    "    （2）动态参数\n",
    "             *args -- 接受的是按照位置传参的值，组成一个元组\n",
    "             **kwargs -- 接受的是按关键字传参的值，组成一个字符串\n",
    "参数的传递位置：位置参数、**args、默认参数、***kwargs\n",
    "\n",
    "**函数返回值**：return 用于退出函数，选择性地向调用方法返回一个表达式，不带参数值的 return 语句返回为 None。"
   ]
  },
  {
   "cell_type": "code",
   "execution_count": 28,
   "metadata": {},
   "outputs": [
    {
     "name": "stdout",
     "output_type": "stream",
     "text": [
      "1\n",
      "2\n",
      "(3, 4, 'a')\n",
      "default\n",
      "crisimple\n",
      "25\n",
      "函数内： 3\n"
     ]
    },
    {
     "data": {
      "text/plain": [
       "3"
      ]
     },
     "execution_count": 28,
     "metadata": {},
     "output_type": "execute_result"
    }
   ],
   "source": [
    "def paraeter_func(par1, par2, *args, par_def=\"default\", **kwargs):\n",
    "    print(par1)\n",
    "    print(par2)\n",
    "    print(args)\n",
    "    print(par_def)\n",
    "    print(kwargs[\"name\"])\n",
    "    print(kwargs[\"age\"])\n",
    "paraeter_func(\n",
    "    1, \n",
    "    2,\n",
    "    3, 4, \"a\",\n",
    "    name=\"crisimple\",\n",
    "    age=\"25\"\n",
    ")\n",
    "\n",
    "\n",
    "def return_func(a, b):\n",
    "    total = a + b\n",
    "    print(\"函数内：\", total)\n",
    "    return total\n",
    "return_func(1, 2)"
   ]
  },
  {
   "cell_type": "markdown",
   "metadata": {},
   "source": [
    "## 异常处理\n",
    "异常是程序执行时发生的错误信号，当 Python 解释器检测到错误时，程序就在当前异常处终止。编写特定的异常来处理代码来专门处理代码，如果捕获到异常使程序进行预期分支而不使程序奔溃。在代码中编写异常处理程序机制来提高程序的健壮性和容错性，提升用户体验。\n",
    "\n",
    "Python 中常见的异常：\n",
    "    \n",
    "    AttributeError               访问的对象没有该属性\n",
    "    IOError                          输入/输出异常，基本上是无法打开文件\n",
    "    ImportError                   无法引入模块或包，基本是路径或名称错误\n",
    "    IndentationError           语法错误，代码没有正确对齐\n",
    "    IndexError                     下标索引超出边界\n",
    "    KeyError                        访问的字典里面不存在的键\n",
    "    KeyboardInterrupt        Ctrl + c 被按下\n",
    "    NameError                    访问一个还未被赋予对象的变量\n",
    "    SyntaxError                   Python代码非法，代码不能编译\n",
    "    TypeError                      传入对象类型与要求的不符合\n",
    "    ValueError                     传入一个调用者不期望的值\n",
    "    UnboundLocalError      访问一个还未被设置的局部变量，基本上是由于另有一个同名的全局变量\n",
    "    AssertionError               断言错误，说明断言的条件为假"
   ]
  },
  {
   "cell_type": "markdown",
   "metadata": {},
   "source": [
    "### try...exception...finally"
   ]
  },
  {
   "cell_type": "code",
   "execution_count": 30,
   "metadata": {},
   "outputs": [
    {
     "name": "stdout",
     "output_type": "stream",
     "text": [
      "3\n",
      "e:  list index out of range\n",
      "程序执行结束，不管异常是否被捕获，这里一定始终会执行\n"
     ]
    }
   ],
   "source": [
    "exce_sample = [1,2,3]\n",
    "try:\n",
    "    for i in exce_sample:\n",
    "        print(exce_sample[i+1])\n",
    "except IndexError as e:\n",
    "    print(\"e: \", e)\n",
    "except Exceptione as e:\n",
    "    print(\"e: \", e)\n",
    "finally:\n",
    "    print(\"程序执行结束，不管异常是否被捕获，这里一定始终会执行\")"
   ]
  },
  {
   "cell_type": "markdown",
   "metadata": {},
   "source": [
    "### try...exception...else"
   ]
  },
  {
   "cell_type": "code",
   "execution_count": 31,
   "metadata": {},
   "outputs": [
    {
     "name": "stdout",
     "output_type": "stream",
     "text": [
      "3\n",
      "e:  list index out of range\n"
     ]
    }
   ],
   "source": [
    "exce_sample = [1, 2, 3]\n",
    "try:\n",
    "    for i in exce_sample:\n",
    "        print(exce_sample[i+1])\n",
    "except IndexError as e:\n",
    "    print(\"e: \", e)\n",
    "except Exceptione as e:\n",
    "    print(\"e: \", e)\n",
    "else:\n",
    "    print(\"只有再try语句里面的执行成功的时候，才会执行else里面的内容\")"
   ]
  },
  {
   "cell_type": "markdown",
   "metadata": {},
   "source": [
    "### 断言"
   ]
  },
  {
   "cell_type": "code",
   "execution_count": 37,
   "metadata": {},
   "outputs": [
    {
     "name": "stdout",
     "output_type": "stream",
     "text": [
      "e:  <built-in method with_traceback of AssertionError object at 0x7fbd87725620>\n"
     ]
    }
   ],
   "source": [
    "try:\n",
    "    assert 1 == 2\n",
    "except AssertionError as e:\n",
    "    print(\"e: \", e.with_traceback)"
   ]
  },
  {
   "cell_type": "markdown",
   "metadata": {},
   "source": [
    "## 迭代器\n",
    "**迭代器** - 迭代取值的工具，迭代是每一次结果都是基于上一次结果而进行的。迭代提供了不依赖于索引而进行取值。\n",
    "\n",
    "**可迭代对象**：内置`__iter__` 方法都为可迭代对象（str、list、tuple、set、文件对象）\n",
    "\n",
    "**迭代器对象**：既内置`__iter__` ，又内置`__next__`方法的对象，执行`__iter__`依然是迭代器对象，执行`__next__`可以取值"
   ]
  },
  {
   "cell_type": "code",
   "execution_count": 48,
   "metadata": {},
   "outputs": [
    {
     "name": "stdout",
     "output_type": "stream",
     "text": [
      "string123 是可迭代对象\n",
      "(1, 2, 3, 'A', 'b') 是可迭代对象\n",
      "[1, 2, 3, 'A', 'b', [5]] 是可迭代对象\n",
      "{'a', 2, 'b', 1} 是可迭代对象\n",
      "range(0, 10) 是可迭代对象\n",
      "<range_iterator object at 0x7fbd8c1fb630> 是迭代器\n",
      "0\n",
      "1\n"
     ]
    }
   ],
   "source": [
    "from collections.abc import Iterable, Iterator\n",
    "\n",
    "def judge_type(par):\n",
    "    if isinstance(par, Iterator)  :\n",
    "        print(\"{} 是迭代器\".format(par))\n",
    "    elif isinstance(par, Iterable):\n",
    "         print(\"{} 是可迭代对象\".format(par))\n",
    "    else:\n",
    "        print(\"{} 既不是迭代器，也不是可迭代对象\".format(par))\n",
    "    \n",
    "if __name__ == \"__main__\":\n",
    "    # 可迭代对象\n",
    "    str_sample = \"string123\"\n",
    "    list_sample = [1,2,3,\"A\",\"b\",[5]]\n",
    "    tuple_sample = (1,2,3,\"A\",\"b\")\n",
    "    set_sample = set({\"a\", \"b\", 1, 2})\n",
    "    judge_type(str_sample)\n",
    "    judge_type(tuple_sample)\n",
    "    judge_type(list_sample)\n",
    "    judge_type(set_sample)\n",
    "    \n",
    "    # 迭代器\n",
    "    sample = range(10)\n",
    "    judge_type(sample)\n",
    "    Iterator_sample = iter(sample)\n",
    "    judge_type(Iterator_sample)\n",
    "    print(next(Iterator_sample))\n",
    "    print(next(Iterator_sample))"
   ]
  },
  {
   "cell_type": "markdown",
   "metadata": {},
   "source": [
    "## 生成器\n",
    "**生成器** 是 **迭代器**的一种，使用 yield 返回函数值，每次调用 yield 会暂停，可以使用 next() 和 send() 函数恢复生成器。常用于生成比较大的列表数据时，受制于内存大小的限制，生成器就派上用场了。"
   ]
  },
  {
   "cell_type": "code",
   "execution_count": 55,
   "metadata": {},
   "outputs": [
    {
     "name": "stdout",
     "output_type": "stream",
     "text": [
      "0\n",
      "1\n",
      "4\n",
      "9\n",
      "16\n",
      "e:  <built-in method with_traceback of StopIteration object at 0x7fbd875901c8>\n",
      "1\n",
      "1\n",
      "2\n",
      "3\n",
      "5\n",
      "8\n",
      "13\n",
      "21\n",
      "done.\n",
      "('done.',)\n"
     ]
    }
   ],
   "source": [
    "generate_sample = (x*x for x in range(5))\n",
    "try:\n",
    "    print(next(generate_sample))\n",
    "    print(next(generate_sample))\n",
    "    print(next(generate_sample))\n",
    "    print(next(generate_sample))\n",
    "    print(next(generate_sample))\n",
    "    print(next(generate_sample))\n",
    "except StopIteration as e:\n",
    "    print(\"e: \", e.with_traceback)\n",
    "    \n",
    "# 斐波拉契数列：0 1 1 2 3 5 8 13 21\n",
    "def fib(max):\n",
    "    x, y, z = 0, 0, 1\n",
    "    while x < max:\n",
    "        yield z\n",
    "        y, z = z, y+z\n",
    "        x = x + 1\n",
    "    return \"done.\"\n",
    "\n",
    "g = fib(8)\n",
    "while True:\n",
    "    try:\n",
    "        print(next(g))\n",
    "    except StopIteration as e:\n",
    "        print(e.value)\n",
    "        print(e.args)\n",
    "        break"
   ]
  },
  {
   "cell_type": "markdown",
   "metadata": {},
   "source": [
    "## 装饰器\n",
    "Python的装饰器（decorators）用来拓展（在不改变原函数或类名的情况下，给函数增加新功能）原函数功能的一种函数。\n",
    "\n",
    "**应用背景举例：**\n",
    "\n",
    "    以开发哔哩哔哩为例，前期开发了个人空间、个人关注、钱包等功能，这些功能的访问的必须和个人账号的登录状态是挂钩的。如果不登录直接访问这些功能的话就会收到权限限制的提示。这些不同的功能又是由不同的程序员开发的，权限验证是由公共部门开发的，权限保密权限涉密等级又比较高，不能全员皆知。\n",
    "    装饰器的引入就可以完美的解决这个问题。公共部门开发权限认证装饰器，需要调用权限认证的功能只需调用装饰器即可。\n",
    "  \n",
    "**应用场景：**\n",
    "    \n",
    "    引入日志\n",
    "    函数执行时间统计\n",
    "    执行函数前准备\n",
    "    执行函数后清理数据\n",
    "    权限校验（登录等）\n",
    "    缓存"
   ]
  },
  {
   "cell_type": "code",
   "execution_count": 70,
   "metadata": {},
   "outputs": [
    {
     "name": "stdout",
     "output_type": "stream",
     "text": [
      "输入用户名：crisi\n",
      "输入密码：dsd\n",
      "error，请检查你的用户名或密码...\n"
     ]
    }
   ],
   "source": [
    "# bilibili钱包权限验证\n",
    "def authority(func):\n",
    "    def auth():\n",
    "        username = input(\"输入用户名：\")\n",
    "        password = input(\"输入密码：\")\n",
    "        if username == \"crisimple\" and password == \"passwd\":\n",
    "            print(\"恭喜你登录成功...\")\n",
    "            func()\n",
    "        else:\n",
    "            print(\"error，请检查你的用户名或密码...\")\n",
    "    return auth\n",
    "\n",
    "@authority\n",
    "def wallet():\n",
    "    print(\"这是您的钱包...\")\n",
    "    \n",
    "    \n",
    "if __name__ == \"__main__\":\n",
    "    wallet()"
   ]
  },
  {
   "cell_type": "markdown",
   "metadata": {},
   "source": [
    "### 固定参数"
   ]
  },
  {
   "cell_type": "code",
   "execution_count": 75,
   "metadata": {},
   "outputs": [
    {
     "name": "stdout",
     "output_type": "stream",
     "text": [
      "请输入用户名：crisimple\n",
      "请输入用户密码：123456\n",
      "......认证成功......\n",
      "......您可以查看您的消息了......\n"
     ]
    }
   ],
   "source": [
    "def authority(func):\n",
    "    def auth(user, passwd):\n",
    "        username = input(\"请输入用户名：\")\n",
    "        password = input(\"请输入用户密码：\")\n",
    "        if username == user and password == passwd:\n",
    "            print(\"......认证成功......\")\n",
    "            func(user, passwd)\n",
    "        else:\n",
    "            print(\"......认证失败......\")\n",
    "    return auth\n",
    "\n",
    "@authority\n",
    "def message(user, passwd):\n",
    "    print(\"......您可以查看您的消息了......\")\n",
    "    \n",
    "if __name__ == \"__main__\":\n",
    "    message(\"crisimple\", \"123456\")"
   ]
  },
  {
   "cell_type": "markdown",
   "metadata": {},
   "source": [
    "### 动态参数"
   ]
  },
  {
   "cell_type": "code",
   "execution_count": null,
   "metadata": {},
   "outputs": [],
   "source": [
    "def pay_auth(function_to_decorate):\n",
    "    def auth(*args, **kwargs):\n",
    "        input(\"=====请输入你的动态口令=====: \")\n",
    "        function_to_decorate(*args, **kwargs)\n",
    "    return auth\n",
    "\n",
    "@pay_auth\n",
    "def pay(a, b, c):\n",
    "    print(\"......您的账户余额为动态口令之和：%s\" % (a+b+c))\n",
    "    \n",
    "\n",
    "if __name__ == \"__main__\":\n",
    "    pay(1, 2, 3)"
   ]
  },
  {
   "cell_type": "markdown",
   "metadata": {},
   "source": [
    "### 多个装饰器\n",
    "对于Python中的”@”语法糖，装饰器的调用顺序与使用 @ 语法糖声明的顺序相反。"
   ]
  },
  {
   "cell_type": "code",
   "execution_count": null,
   "metadata": {},
   "outputs": [],
   "source": [
    "def first_decorator(function_to_decorator):\n",
    "    def wrapper():\n",
    "        print(\"This is first decorator01\")\n",
    "        function_to_decorator()\n",
    "        print(\"End of the first decorator01\")\n",
    "    return wrapper\n",
    "\n",
    "def second_decorator(function_to_decorator):\n",
    "    def wrapper():\n",
    "        print(\"This is second decorator02\")\n",
    "        function_to_decorator()\n",
    "        print(\"End of the second decorator02\")\n",
    "    return wrapper\n",
    "\n",
    "@first_decorator\n",
    "@second_decorator\n",
    "def func_decorator():\n",
    "    print(\"...【This is to be decorated function】...\")\n",
    "    \n",
    "if __name__ == \"__main__\":\n",
    "    function_to_decorator()"
   ]
  },
  {
   "cell_type": "markdown",
   "metadata": {},
   "source": [
    "### 内置装饰器\n",
    "    staticmethod --- 静态方法，其跟成员方法的区别是没有 self 参数（相当于普通方法），并且可以在类不进行实例化的情况下调用\n",
    "    classmethod --- 类方法，与成员方法的区别在于所接收的第一个参数不是 self （类实例的指针），而是cls（当前类的具体类型）\n",
    "    property --- 属性，表示可以通过通过类实例直接访问的信息，对于一个类的属性，python的访问是没有限制的，但有时候我们需要对属性的访问加以限制，property可以胜任（它有三个方法，deleter，setter，getter）"
   ]
  },
  {
   "cell_type": "code",
   "execution_count": 72,
   "metadata": {},
   "outputs": [
    {
     "name": "stdout",
     "output_type": "stream",
     "text": [
      "静态方法就相当于普通方法，可不用传self参数，可以在类不进行实例化情况下调用。\n",
      "<class '__main__.Foo'>\n"
     ]
    }
   ],
   "source": [
    "class Foo(object):\n",
    "    def __init__(self):\n",
    "        self.name = \"crisimple\"\n",
    "        self.age = 25\n",
    "    \n",
    "    @staticmethod\n",
    "    def static_method():\n",
    "        print(\"静态方法就相当于普通方法，可不用传self参数，可以在类不进行实例化情况下调用。\")\n",
    "        \n",
    "    @classmethod\n",
    "    def class_method(cls):\n",
    "        print(cls)\n",
    "        \n",
    "    @property\n",
    "    def name(self):\n",
    "        return self.name\n",
    "    \n",
    "    @name.setter\n",
    "    def name(self, set_num):\n",
    "        return self.name == set_num\n",
    "    \n",
    "    @name.getter\n",
    "    def name(self):\n",
    "        return self.name\n",
    "    \n",
    "  \n",
    "\n",
    "if __name__ == \"__main__\":\n",
    "    # 静态方法调用\n",
    "    Foo.static_method()\n",
    "    \n",
    "    # 类方法调用\n",
    "    Foo.class_method()\n",
    "    \n",
    "    # f = Foo()\n",
    "   # f.name"
   ]
  },
  {
   "cell_type": "markdown",
   "metadata": {},
   "source": [
    "### 内建函数"
   ]
  },
  {
   "cell_type": "markdown",
   "metadata": {},
   "source": [
    "#### 数据处理"
   ]
  },
  {
   "cell_type": "markdown",
   "metadata": {},
   "source": [
    "**abs() --- 返回数字的绝对值**"
   ]
  },
  {
   "cell_type": "code",
   "execution_count": 36,
   "metadata": {},
   "outputs": [
    {
     "name": "stdout",
     "output_type": "stream",
     "text": [
      "0 的绝对值为 0\n",
      "-1 的绝对值为 1\n",
      "2 的绝对值为 2\n"
     ]
    }
   ],
   "source": [
    "a = 0\n",
    "b = -1\n",
    "c = 2\n",
    "# d = -a1\n",
    "print(\"%s 的绝对值为 %s\" % (a, abs(a)))\n",
    "print(\"%s 的绝对值为 %s\" % (b, abs(b)))\n",
    "print(\"%s 的绝对值为 %s\" % (c, abs(c)))\n",
    "# print(\"%s 的绝对值为 %s\" % (d, abs(d)))"
   ]
  },
  {
   "cell_type": "markdown",
   "metadata": {},
   "source": [
    "**bin()  --- 返回一个整数 int 或长整型 long int 的二进制表示**"
   ]
  },
  {
   "cell_type": "code",
   "execution_count": 44,
   "metadata": {},
   "outputs": [
    {
     "name": "stdout",
     "output_type": "stream",
     "text": [
      "10 经过bin后返回：0b1010\n",
      "20 经过bin后返回：0b10100\n"
     ]
    }
   ],
   "source": [
    "bin_1 = 10\n",
    "bin_2 = 20\n",
    "print(\"%s 经过bin后返回：%s\" % (bin_1, bin(10)))\n",
    "print(\"%s 经过bin后返回：%s\" % (bin_2, bin(20)))"
   ]
  },
  {
   "cell_type": "markdown",
   "metadata": {},
   "source": [
    "**oct() --- 将整数转换为八进制字符串**"
   ]
  },
  {
   "cell_type": "code",
   "execution_count": 46,
   "metadata": {},
   "outputs": [
    {
     "name": "stdout",
     "output_type": "stream",
     "text": [
      "0o12\n",
      "<class 'str'>\n"
     ]
    }
   ],
   "source": [
    "print(oct(10))\n",
    "print(type(oct(10)))"
   ]
  },
  {
   "cell_type": "markdown",
   "metadata": {},
   "source": [
    "**max() --- 返回给定参数的最大值，参数可以为序列**<br>\n",
    "\n",
    "序列 --- 序列是是Python中最基本的数据结构。序列中的每个元素都分配一个数字 - 它的位置，或索引，第一个索引是0，第二个索引是1，依此类推。每个索引对应一个元素。Python包含 6 中内建的序列，包括列表、元组、字符串、Unicode字符串、buffer对象和xrange对象。"
   ]
  },
  {
   "cell_type": "code",
   "execution_count": 41,
   "metadata": {},
   "outputs": [
    {
     "name": "stdout",
     "output_type": "stream",
     "text": [
      "返回序列的最大值： 3000\n"
     ]
    }
   ],
   "source": [
    "print(\"返回序列的最大值：\", max(100, 200, 3000, 800))"
   ]
  },
  {
   "cell_type": "markdown",
   "metadata": {},
   "source": [
    "**min() --- 返回给定参数的最小值，参数可为序列**"
   ]
  },
  {
   "cell_type": "code",
   "execution_count": 47,
   "metadata": {},
   "outputs": [
    {
     "name": "stdout",
     "output_type": "stream",
     "text": [
      "返回序列的最小值： -10000\n"
     ]
    }
   ],
   "source": [
    "print(\"返回序列的最小值：\", min(-100, 200, 0, -10000))"
   ]
  },
  {
   "cell_type": "markdown",
   "metadata": {},
   "source": [
    "**reversed() --- 对列表进行反向输出**"
   ]
  },
  {
   "cell_type": "code",
   "execution_count": 63,
   "metadata": {},
   "outputs": [
    {
     "name": "stdout",
     "output_type": "stream",
     "text": [
      "reverse list is:  [5, 4, 3, 2, 1]\n"
     ]
    }
   ],
   "source": [
    "list_sample = [1,2,3,4,5]\n",
    "tuple_sample = (1,2,3,4,5)\n",
    "list_sample.reverse()\n",
    "print(\"reverse list is: \", list_sample)"
   ]
  },
  {
   "cell_type": "markdown",
   "metadata": {},
   "source": [
    "**zip() --- 将可迭代的对象作为参数，将对象中对应的元素打包成一个个元组，然后返回由这些元组组成的列表**<br>\n",
    "**如果各个迭代器的元素个数不一致，则返回列表长度与最短的对象相同，利用 * 号操作符，可以将元组解压为列表**"
   ]
  },
  {
   "cell_type": "code",
   "execution_count": 100,
   "metadata": {},
   "outputs": [
    {
     "name": "stdout",
     "output_type": "stream",
     "text": [
      "压缩： <zip object at 0x7f7edf2d4ec8>\n",
      "<class 'zip'>\n",
      "(1, 4)\n",
      "(2, 5)\n",
      "(3, 6)\n",
      "\n",
      "\n",
      "(4, 5, 6)\n",
      "(7, 8, 9)\n"
     ]
    }
   ],
   "source": [
    "zip_1 = [1, 2, 3]\n",
    "zip_2 = [4, 5, 6]\n",
    "zip_3 = [7, 8, 9]\n",
    "zip1 = zip(zip_1, zip_2)\n",
    "zip2 = zip(zip_2, zip_3)\n",
    "# 压缩： <zip object at 0x7f7edf5c75c8>\n",
    "print(\"压缩：\", zip1)\n",
    "# print(\"解压：\", zip(*zip1))\n",
    "print(type(zip1))\n",
    "for i in zip1:\n",
    "    print(i)\n",
    "print(\"\\n\")\n",
    "for j in zip(*zip2):\n",
    "    print(j)"
   ]
  },
  {
   "cell_type": "markdown",
   "metadata": {},
   "source": [
    "**complex([real[, imag]])   创建一个值为 real + imag * j 的复数或者转化一个字符串或数为复数。如果第一个参数为字符串，则不需要指定第二个参数**<br>\n",
    "real -- int, long, float或字符串<br>\n",
    "imag -- int, long, float<br>"
   ]
  },
  {
   "cell_type": "code",
   "execution_count": 75,
   "metadata": {},
   "outputs": [
    {
     "name": "stdout",
     "output_type": "stream",
     "text": [
      "返回一个复数： (1+2j)\n",
      "返回一个复数： (1+2j)\n"
     ]
    }
   ],
   "source": [
    "print(\"返回一个复数：\", complex(1, 2))\n",
    "print(\"返回一个复数：\", complex(\"1+2j\"))"
   ]
  },
  {
   "cell_type": "markdown",
   "metadata": {},
   "source": [
    "#### 数据计算"
   ]
  },
  {
   "cell_type": "markdown",
   "metadata": {},
   "source": [
    " **divmod() --- 返回一个商和余数元组**"
   ]
  },
  {
   "cell_type": "code",
   "execution_count": 78,
   "metadata": {},
   "outputs": [
    {
     "name": "stdout",
     "output_type": "stream",
     "text": [
      "-7 divmod -2 is: (3, -1)\n"
     ]
    }
   ],
   "source": [
    "divmod_1 = -7\n",
    "divmod_2 = -2\n",
    "print(\"%s divmod %s is: %s\" % (divmod_1, divmod_2, divmod(divmod_1, divmod_2)))"
   ]
  },
  {
   "cell_type": "markdown",
   "metadata": {},
   "source": [
    "**pow(x, y) -- 指数运算，x 的 y 次方**"
   ]
  },
  {
   "cell_type": "code",
   "execution_count": 81,
   "metadata": {},
   "outputs": [
    {
     "name": "stdout",
     "output_type": "stream",
     "text": [
      "-3 pow 4 is: 81\n"
     ]
    }
   ],
   "source": [
    "pow_1 = -3\n",
    "pow_2 = 4\n",
    "print(\"%s pow %s is: %s\" % (pow_1, pow_2, pow(pow_1, pow_2)))"
   ]
  },
  {
   "cell_type": "markdown",
   "metadata": {},
   "source": [
    "**sum() -- 对一系列数求和**\n",
    "\n",
    "    iterable --- 可迭代对象：列表、数组、元组、集合\n",
    "    start --- 指定增加的参数，如果没有此值，默认为0"
   ]
  },
  {
   "cell_type": "code",
   "execution_count": 85,
   "metadata": {},
   "outputs": [
    {
     "name": "stdout",
     "output_type": "stream",
     "text": [
      "[1, 2, 3, 4] sum is: 10\n"
     ]
    }
   ],
   "source": [
    "sum_1 = [1, 2, 3, 4]\n",
    "sum_2 = [5, 6, 7, 8]\n",
    "sum_3 = [9, 10, 11, 12]\n",
    "print(\"%s sum is: %s\" % (sum_1, sum(sum_1)))"
   ]
  },
  {
   "cell_type": "markdown",
   "metadata": {},
   "source": [
    "**sorted(iterable, cmp=None, key=None, reverse=False) --- 对可迭代对象进行排序**\n",
    "    \n",
    "    iterable ---可迭代对象（如：列表、元组、集合）\n",
    "    cmp --- 比较的函数有两个参数，参数的值可以从迭代对象中取出，函数必须遵守：大于返回1，小于返回-1，等于返回0\n",
    "    key --- 用来进行比较的元素，只有一个参数，函数的参数取自于可迭代对象中，指定可迭代对象中的一个元素来进行排序\n",
    "    reverse --- 排序规则，reverse = True 降序 ， reverse = False 升序（默认）"
   ]
  },
  {
   "cell_type": "code",
   "execution_count": 86,
   "metadata": {},
   "outputs": [
    {
     "name": "stdout",
     "output_type": "stream",
     "text": [
      "排序结果为： [('john', 'A', 15), ('jane', 'B', 12), ('dave', 'B', 10)]\n"
     ]
    }
   ],
   "source": [
    "sorted_dict = [('john', 'A', 15), ('jane', 'B', 12), ('dave', 'B', 10)]\n",
    "print(\"排序结果为：\", sorted(sorted_dict, key=lambda s: s[2], reverse=True))"
   ]
  },
  {
   "cell_type": "markdown",
   "metadata": {},
   "source": [
    "#### 输入"
   ]
  },
  {
   "cell_type": "markdown",
   "metadata": {},
   "source": [
    "**input() --- 输入的字符串必须引号包起来，否则会引发 SyntaxError**<br>\n",
    "\n",
    "*有时候我们还会看到raw_input()也可以进行用户输入，那么他们的区别是：*<br>\n",
    "    \n",
    "    input() --- 适用于 Python3 和 Python2，输入值必须是：字符串\n",
    "    raw_input() --- 只适用于 Python2，会将输入值强制转换成 str 展示，即使输入为整数"
   ]
  },
  {
   "cell_type": "code",
   "execution_count": 91,
   "metadata": {},
   "outputs": [
    {
     "name": "stdout",
     "output_type": "stream",
     "text": [
      "请输入：测试\n",
      "input:  测试\n",
      "请输入：测试\n",
      "input type is:  <class 'str'>\n"
     ]
    }
   ],
   "source": [
    "print(\"input: \", input(\"请输入：\"))\n",
    "print(\"input type is: \", type(input(\"请输入：\")))"
   ]
  },
  {
   "cell_type": "markdown",
   "metadata": {
    "heading_collapsed": true
   },
   "source": [
    "#### 文件操作\n",
    "    open(file_name, [,access_model][,buffering]) --- 文件操作函数 ；另外也可以用 file() 函数（一样的）进行操作；官方推荐使用open()。\n",
    "           file_name: file_name变量是一个包含了你要访问的文件名称的字符串值。\n",
    "           access_mode：access_mode决定了打开文件的模式：只读，写入，追加等\n",
    "           buffering：如果buffering的值被设为0，就不会有寄存。如果buffering的值取1，访问文件时会寄存行。如果将buffering的值设为大于1的整数，表明了这就是的寄存区的缓冲大小。如果取负值，寄存区的缓冲大小则为系统默认。\n",
    "           \n",
    "      r\t以只读方式打开文件。文件的指针将会放在文件的开头。这是默认模式。\n",
    "     rb\t以二进制格式打开一个文件用于只读。文件指针将会放在文件的开头。这是默认模式。\n",
    "     r+\t打开一个文件用于读写。文件指针将会放在文件的开头。\n",
    "     rb+\t以二进制格式打开一个文件用于读写。文件指针将会放在文件的开头。\n",
    "     w\t打开并只能写入。若文件已存则打开文件并从头开始编辑，原内容会被删除。若该不存在，创建新文件。\n",
    "     wb\t二进制格式打开文件只用于写入。若文件已存在则打开文件并从头开始编辑，即原有内容会被删除。如果该文件不存在，创建新文件。\n",
    "     w+\t打开一个文件用于读写。如果该文件已存在则打开文件，并从开头开始编辑，即原有内容会被删除。如果该文件不存在，创建新文件。\n",
    "     wb+\t以二进制格式打开文件用于读写。如果该文件已存在则打开文件从开头开始编辑原内容会被删除。如果该文件不存在，创建新文件。\n",
    "     a\t打开文件用于追加。若文件已存在，文件指针放在文件的结尾。新的内容会被写入已有内容。若文件不存在，创建新文件进行写入。\n",
    "     ab\t二进制格式打开文件用于追加。若文件已存文件指针放在文件结尾。新内容会写入到已有内容。若文件不存在，创建新文件进行写入。\n",
    "     a+\t打开文件用于读写。若文件已存在文件指针将放在文件的结尾。文件打开时会是追加模式。如果该文件不存在，创建新文件用于读写。\n",
    "     ab+\t以二进制格式打开一个文件用于追加。如果该文件已存在，文件指针将会放在文件的结尾。如果该文件不存在，创建新文件用于读写。\n",
    "     \n",
    "     "
   ]
  },
  {
   "cell_type": "code",
   "execution_count": 95,
   "metadata": {
    "hidden": true
   },
   "outputs": [
    {
     "name": "stdout",
     "output_type": "stream",
     "text": [
      "《青花瓷》\n",
      "\n",
      "\n",
      "\n"
     ]
    }
   ],
   "source": [
    "with open('./data/read.txt', 'r', encoding='utf-8') as f:\n",
    "    content = f.readline()\n",
    "    print(content)\n",
    "print(\"\\n\")"
   ]
  },
  {
   "cell_type": "markdown",
   "metadata": {
    "heading_collapsed": true
   },
   "source": [
    "#### 帮助类函数"
   ]
  },
  {
   "cell_type": "markdown",
   "metadata": {
    "hidden": true
   },
   "source": [
    "help() ---  查看模块或方法用途的详细说明，即帮助文档"
   ]
  },
  {
   "cell_type": "code",
   "execution_count": 30,
   "metadata": {
    "hidden": true
   },
   "outputs": [
    {
     "name": "stdout",
     "output_type": "stream",
     "text": [
      "Help on built-in module sys:\n",
      "\n",
      "NAME\n",
      "    sys\n",
      "\n",
      "MODULE REFERENCE\n",
      "    https://docs.python.org/3.6/library/sys\n",
      "    \n",
      "    The following documentation is automatically generated from the Python\n",
      "    source files.  It may be incomplete, incorrect or include features that\n",
      "    are considered implementation detail and may vary between Python\n",
      "    implementations.  When in doubt, consult the module reference at the\n",
      "    location listed above.\n",
      "\n",
      "DESCRIPTION\n",
      "    This module provides access to some objects used or maintained by the\n",
      "    interpreter and to functions that interact strongly with the interpreter.\n",
      "    \n",
      "    Dynamic objects:\n",
      "    \n",
      "    argv -- command line arguments; argv[0] is the script pathname if known\n",
      "    path -- module search path; path[0] is the script directory, else ''\n",
      "    modules -- dictionary of loaded modules\n",
      "    \n",
      "    displayhook -- called to show results in an interactive session\n",
      "    excepthook -- called to handle any uncaught exception other than SystemExit\n",
      "      To customize printing in an interactive session or to install a custom\n",
      "      top-level exception handler, assign other functions to replace these.\n",
      "    \n",
      "    stdin -- standard input file object; used by input()\n",
      "    stdout -- standard output file object; used by print()\n",
      "    stderr -- standard error object; used for error messages\n",
      "      By assigning other file objects (or objects that behave like files)\n",
      "      to these, it is possible to redirect all of the interpreter's I/O.\n",
      "    \n",
      "    last_type -- type of last uncaught exception\n",
      "    last_value -- value of last uncaught exception\n",
      "    last_traceback -- traceback of last uncaught exception\n",
      "      These three are only available in an interactive session after a\n",
      "      traceback has been printed.\n",
      "    \n",
      "    Static objects:\n",
      "    \n",
      "    builtin_module_names -- tuple of module names built into this interpreter\n",
      "    copyright -- copyright notice pertaining to this interpreter\n",
      "    exec_prefix -- prefix used to find the machine-specific Python library\n",
      "    executable -- absolute path of the executable binary of the Python interpreter\n",
      "    float_info -- a struct sequence with information about the float implementation.\n",
      "    float_repr_style -- string indicating the style of repr() output for floats\n",
      "    hash_info -- a struct sequence with information about the hash algorithm.\n",
      "    hexversion -- version information encoded as a single integer\n",
      "    implementation -- Python implementation information.\n",
      "    int_info -- a struct sequence with information about the int implementation.\n",
      "    maxsize -- the largest supported length of containers.\n",
      "    maxunicode -- the value of the largest Unicode code point\n",
      "    platform -- platform identifier\n",
      "    prefix -- prefix used to find the Python library\n",
      "    thread_info -- a struct sequence with information about the thread implementation.\n",
      "    version -- the version of this interpreter as a string\n",
      "    version_info -- version information as a named tuple\n",
      "    __stdin__ -- the original stdin; don't touch!\n",
      "    __stdout__ -- the original stdout; don't touch!\n",
      "    __stderr__ -- the original stderr; don't touch!\n",
      "    __displayhook__ -- the original displayhook; don't touch!\n",
      "    __excepthook__ -- the original excepthook; don't touch!\n",
      "    \n",
      "    Functions:\n",
      "    \n",
      "    displayhook() -- print an object to the screen, and save it in builtins._\n",
      "    excepthook() -- print an exception and its traceback to sys.stderr\n",
      "    exc_info() -- return thread-safe information about the current exception\n",
      "    exit() -- exit the interpreter by raising SystemExit\n",
      "    getdlopenflags() -- returns flags to be used for dlopen() calls\n",
      "    getprofile() -- get the global profiling function\n",
      "    getrefcount() -- return the reference count for an object (plus one :-)\n",
      "    getrecursionlimit() -- return the max recursion depth for the interpreter\n",
      "    getsizeof() -- return the size of an object in bytes\n",
      "    gettrace() -- get the global debug tracing function\n",
      "    setcheckinterval() -- control how often the interpreter checks for events\n",
      "    setdlopenflags() -- set the flags to be used for dlopen() calls\n",
      "    setprofile() -- set the global profiling function\n",
      "    setrecursionlimit() -- set the max recursion depth for the interpreter\n",
      "    settrace() -- set the global debug tracing function\n",
      "\n",
      "FUNCTIONS\n",
      "    __displayhook__ = displayhook(...)\n",
      "        displayhook(object) -> None\n",
      "        \n",
      "        Print an object to sys.stdout and also save it in builtins._\n",
      "    \n",
      "    __excepthook__ = excepthook(...)\n",
      "        excepthook(exctype, value, traceback) -> None\n",
      "        \n",
      "        Handle an exception by displaying it with a traceback on sys.stderr.\n",
      "    \n",
      "    call_tracing(...)\n",
      "        call_tracing(func, args) -> object\n",
      "        \n",
      "        Call func(*args), while tracing is enabled.  The tracing state is\n",
      "        saved, and restored afterwards.  This is intended to be called from\n",
      "        a debugger from a checkpoint, to recursively debug some other code.\n",
      "    \n",
      "    callstats(...)\n",
      "        callstats() -> tuple of integers\n",
      "        \n",
      "        Return a tuple of function call statistics, if CALL_PROFILE was defined\n",
      "        when Python was built.  Otherwise, return None.\n",
      "        \n",
      "        When enabled, this function returns detailed, implementation-specific\n",
      "        details about the number of function calls executed. The return value is\n",
      "        a 11-tuple where the entries in the tuple are counts of:\n",
      "        0. all function calls\n",
      "        1. calls to PyFunction_Type objects\n",
      "        2. PyFunction calls that do not create an argument tuple\n",
      "        3. PyFunction calls that do not create an argument tuple\n",
      "           and bypass PyEval_EvalCodeEx()\n",
      "        4. PyMethod calls\n",
      "        5. PyMethod calls on bound methods\n",
      "        6. PyType calls\n",
      "        7. PyCFunction calls\n",
      "        8. generator calls\n",
      "        9. All other calls\n",
      "        10. Number of stack pops performed by call_function()\n",
      "    \n",
      "    exc_info(...)\n",
      "        exc_info() -> (type, value, traceback)\n",
      "        \n",
      "        Return information about the most recent exception caught by an except\n",
      "        clause in the current stack frame or in an older stack frame.\n",
      "    \n",
      "    exit(...)\n",
      "        exit([status])\n",
      "        \n",
      "        Exit the interpreter by raising SystemExit(status).\n",
      "        If the status is omitted or None, it defaults to zero (i.e., success).\n",
      "        If the status is an integer, it will be used as the system exit status.\n",
      "        If it is another kind of object, it will be printed and the system\n",
      "        exit status will be one (i.e., failure).\n",
      "    \n",
      "    get_asyncgen_hooks(...)\n",
      "        get_asyncgen_hooks()\n",
      "        \n",
      "        Return a namedtuple of installed asynchronous generators hooks (firstiter, finalizer).\n",
      "    \n",
      "    get_coroutine_wrapper(...)\n",
      "        get_coroutine_wrapper()\n",
      "        \n",
      "        Return the wrapper for coroutine objects set by sys.set_coroutine_wrapper.\n",
      "    \n",
      "    getallocatedblocks(...)\n",
      "        getallocatedblocks() -> integer\n",
      "        \n",
      "        Return the number of memory blocks currently allocated, regardless of their\n",
      "        size.\n",
      "    \n",
      "    getcheckinterval(...)\n",
      "        getcheckinterval() -> current check interval; see setcheckinterval().\n",
      "    \n",
      "    getdefaultencoding(...)\n",
      "        getdefaultencoding() -> string\n",
      "        \n",
      "        Return the current default string encoding used by the Unicode \n",
      "        implementation.\n",
      "    \n",
      "    getdlopenflags(...)\n",
      "        getdlopenflags() -> int\n",
      "        \n",
      "        Return the current value of the flags that are used for dlopen calls.\n",
      "        The flag constants are defined in the os module.\n",
      "    \n",
      "    getfilesystemencodeerrors(...)\n",
      "        getfilesystemencodeerrors() -> string\n",
      "        \n",
      "        Return the error mode used to convert Unicode filenames in\n",
      "        operating system filenames.\n",
      "    \n",
      "    getfilesystemencoding(...)\n",
      "        getfilesystemencoding() -> string\n",
      "        \n",
      "        Return the encoding used to convert Unicode filenames in\n",
      "        operating system filenames.\n",
      "    \n",
      "    getprofile(...)\n",
      "        getprofile()\n",
      "        \n",
      "        Return the profiling function set with sys.setprofile.\n",
      "        See the profiler chapter in the library manual.\n",
      "    \n",
      "    getrecursionlimit(...)\n",
      "        getrecursionlimit()\n",
      "        \n",
      "        Return the current value of the recursion limit, the maximum depth\n",
      "        of the Python interpreter stack.  This limit prevents infinite\n",
      "        recursion from causing an overflow of the C stack and crashing Python.\n",
      "    \n",
      "    getrefcount(...)\n",
      "        getrefcount(object) -> integer\n",
      "        \n",
      "        Return the reference count of object.  The count returned is generally\n",
      "        one higher than you might expect, because it includes the (temporary)\n",
      "        reference as an argument to getrefcount().\n",
      "    \n",
      "    getsizeof(...)\n",
      "        getsizeof(object, default) -> int\n",
      "        \n",
      "        Return the size of object in bytes.\n",
      "    \n",
      "    getswitchinterval(...)\n",
      "        getswitchinterval() -> current thread switch interval; see setswitchinterval().\n",
      "    \n",
      "    gettrace(...)\n",
      "        gettrace()\n",
      "        \n",
      "        Return the global debug tracing function set with sys.settrace.\n",
      "        See the debugger chapter in the library manual.\n",
      "    \n",
      "    intern(...)\n",
      "        intern(string) -> string\n",
      "        \n",
      "        ``Intern'' the given string.  This enters the string in the (global)\n",
      "        table of interned strings whose purpose is to speed up dictionary lookups.\n",
      "        Return the string itself or the previously interned string object with the\n",
      "        same value.\n",
      "    \n",
      "    is_finalizing(...)\n",
      "        is_finalizing()\n",
      "        Return True if Python is exiting.\n",
      "    \n",
      "    set_asyncgen_hooks(...)\n",
      "        set_asyncgen_hooks(*, firstiter=None, finalizer=None)\n",
      "        \n",
      "        Set a finalizer for async generators objects.\n",
      "    \n",
      "    set_coroutine_wrapper(...)\n",
      "        set_coroutine_wrapper(wrapper)\n",
      "        \n",
      "        Set a wrapper for coroutine objects.\n",
      "    \n",
      "    setcheckinterval(...)\n",
      "        setcheckinterval(n)\n",
      "        \n",
      "        Tell the Python interpreter to check for asynchronous events every\n",
      "        n instructions.  This also affects how often thread switches occur.\n",
      "    \n",
      "    setdlopenflags(...)\n",
      "        setdlopenflags(n) -> None\n",
      "        \n",
      "        Set the flags used by the interpreter for dlopen calls, such as when the\n",
      "        interpreter loads extension modules.  Among other things, this will enable\n",
      "        a lazy resolving of symbols when importing a module, if called as\n",
      "        sys.setdlopenflags(0).  To share symbols across extension modules, call as\n",
      "        sys.setdlopenflags(os.RTLD_GLOBAL).  Symbolic names for the flag modules\n",
      "        can be found in the os module (RTLD_xxx constants, e.g. os.RTLD_LAZY).\n",
      "    \n",
      "    setprofile(...)\n",
      "        setprofile(function)\n",
      "        \n",
      "        Set the profiling function.  It will be called on each function call\n",
      "        and return.  See the profiler chapter in the library manual.\n",
      "    \n",
      "    setrecursionlimit(...)\n",
      "        setrecursionlimit(n)\n",
      "        \n",
      "        Set the maximum depth of the Python interpreter stack to n.  This\n",
      "        limit prevents infinite recursion from causing an overflow of the C\n",
      "        stack and crashing Python.  The highest possible limit is platform-\n",
      "        dependent.\n",
      "    \n",
      "    setswitchinterval(...)\n",
      "        setswitchinterval(n)\n",
      "        \n",
      "        Set the ideal thread switching delay inside the Python interpreter\n",
      "        The actual frequency of switching threads can be lower if the\n",
      "        interpreter executes long sequences of uninterruptible code\n",
      "        (this is implementation-specific and workload-dependent).\n",
      "        \n",
      "        The parameter must represent the desired switching delay in seconds\n",
      "        A typical value is 0.005 (5 milliseconds).\n",
      "    \n",
      "    settrace(...)\n",
      "        settrace(function)\n",
      "        \n",
      "        Set the global debug tracing function.  It will be called on each\n",
      "        function call.  See the debugger chapter in the library manual.\n",
      "\n",
      "DATA\n",
      "    __stderr__ = <_io.TextIOWrapper name='<stderr>' mode='w' encoding='UTF...\n",
      "    __stdin__ = <_io.TextIOWrapper name='<stdin>' mode='r' encoding='UTF-8...\n",
      "    __stdout__ = <_io.TextIOWrapper name='<stdout>' mode='w' encoding='UTF...\n",
      "    abiflags = 'm'\n",
      "    api_version = 1013\n",
      "    argv = ['/home/ubuntu/.local/lib/python3.6/site-packages/ipykernel_lau...\n",
      "    base_exec_prefix = '/usr'\n",
      "    base_prefix = '/usr'\n",
      "    builtin_module_names = ('_ast', '_bisect', '_blake2', '_codecs', '_col...\n",
      "    byteorder = 'little'\n",
      "    copyright = 'Copyright (c) 2001-2019 Python Software Foundati...ematis...\n",
      "    displayhook = <ipykernel.displayhook.ZMQShellDisplayHook object>\n",
      "    dont_write_bytecode = False\n",
      "    exec_prefix = '/usr'\n",
      "    executable = '/usr/bin/python3'\n",
      "    flags = sys.flags(debug=0, inspect=0, interactive=0, opt...ing=0, quie...\n",
      "    float_info = sys.float_info(max=1.7976931348623157e+308, max_...epsilo...\n",
      "    float_repr_style = 'short'\n",
      "    hash_info = sys.hash_info(width=64, modulus=2305843009213693...iphash2...\n",
      "    hexversion = 50727408\n",
      "    implementation = namespace(_multiarch='x86_64-linux-gnu', cache_t...in...\n",
      "    int_info = sys.int_info(bits_per_digit=30, sizeof_digit=4)\n",
      "    last_value = NameError(\"name 'sys' is not defined\",)\n",
      "    maxsize = 9223372036854775807\n",
      "    maxunicode = 1114111\n",
      "    meta_path = [<class '_frozen_importlib.BuiltinImporter'>, <class '_fro...\n",
      "    modules = {'IPython': <module 'IPython' from '/home/ubuntu/.local/lib/...\n",
      "    path = ['/usr/lib/python36.zip', '/usr/lib/python3.6', '/usr/lib/pytho...\n",
      "    path_hooks = [<class 'zipimport.zipimporter'>, <function FileFinder.pa...\n",
      "    path_importer_cache = {'/home/ubuntu/.ipython': FileFinder('/home/ubun...\n",
      "    platform = 'linux'\n",
      "    prefix = '/usr'\n",
      "    ps1 = 'In : '\n",
      "    ps2 = '...: '\n",
      "    ps3 = 'Out: '\n",
      "    stderr = <ipykernel.iostream.OutStream object>\n",
      "    stdin = <_io.TextIOWrapper name='<stdin>' mode='r' encoding='UTF-8'>\n",
      "    stdout = <ipykernel.iostream.OutStream object>\n",
      "    thread_info = sys.thread_info(name='pthread', lock='semaphore', versio...\n",
      "    version = '3.6.9 (default, Nov  7 2019, 10:44:02) \\n[GCC 8.3.0]'\n",
      "    version_info = sys.version_info(major=3, minor=6, micro=9, releaseleve...\n",
      "    warnoptions = []\n",
      "\n",
      "FILE\n",
      "    (built-in)\n",
      "\n",
      "\n",
      "sys:  None\n"
     ]
    }
   ],
   "source": [
    "print(\"sys: \", help('sys'))"
   ]
  },
  {
   "cell_type": "markdown",
   "metadata": {
    "hidden": true
   },
   "source": [
    "dir() --- 带参数时，返回当前范围内的变量、方法或定义的类型列表。<br>\n",
    "带参数时，返回参数的属性、方法列表。如果参数包含方法`__dir__()`，该方法将被调用；<br>\n",
    "如果参数不包含`__dir__()`，该方法见最大限度地手机参数信息。"
   ]
  },
  {
   "cell_type": "code",
   "execution_count": 32,
   "metadata": {
    "hidden": true
   },
   "outputs": [
    {
     "name": "stdout",
     "output_type": "stream",
     "text": [
      "dir:  ['Foo', 'In', 'Out', '_', '__', '___', '__builtin__', '__builtins__', '__doc__', '__loader__', '__name__', '__package__', '__spec__', '_dh', '_i', '_i1', '_i10', '_i11', '_i12', '_i13', '_i14', '_i15', '_i16', '_i17', '_i18', '_i19', '_i2', '_i20', '_i21', '_i22', '_i23', '_i24', '_i25', '_i26', '_i27', '_i28', '_i29', '_i3', '_i30', '_i31', '_i32', '_i4', '_i5', '_i6', '_i7', '_i8', '_i9', '_ih', '_ii', '_iii', '_oh', 'a11', 'a12', 'a13', 'a21', 'a22', 'a23', 'autopep8', 'b21', 'b22', 'b23', 'bin_1', 'bin_2', 'c31', 'c32', 'cc31', 'cc32', 'content', 'exit', 'f', 'get_ipython', 'json', 'quit', 'reverse_list', 'reversed_tuple', 'sorted_dict', 'sum_1', 'sum_2', 'sum_3', 'yapf_reformat', 'zip_1', 'zip_2', 'zip_3', 'zipped1', 'zipped2']\n"
     ]
    }
   ],
   "source": [
    "print(\"dir: \", dir())"
   ]
  },
  {
   "cell_type": "markdown",
   "metadata": {
    "hidden": true
   },
   "source": [
    "id() --- 获取对象的内存地址"
   ]
  },
  {
   "cell_type": "code",
   "execution_count": 33,
   "metadata": {
    "hidden": true
   },
   "outputs": [
    {
     "name": "stdout",
     "output_type": "stream",
     "text": [
      "1 的内存 id 为：10914496\n",
      "3 的内存 id 为：10914560\n",
      "7 的内存 id 为：10914688\n"
     ]
    }
   ],
   "source": [
    "a = 1\n",
    "b = 3\n",
    "c = 7\n",
    "print(\"%s 的内存 id 为：%s\" % (a, id(a)))\n",
    "print(\"%s 的内存 id 为：%s\" % (b, id(b)))\n",
    "print(\"%s 的内存 id 为：%s\" % (c, id(c)))"
   ]
  },
  {
   "cell_type": "markdown",
   "metadata": {},
   "source": [
    "#### "
   ]
  },
  {
   "cell_type": "markdown",
   "metadata": {},
   "source": [
    "# 面向对象\n",
    "对象是一个抽象概念，万物皆可对象。对象通常有静态部分（也叫属性）和 动态部分（也叫方法）。在面向对象（对象也叫类的实例）中，将函数和变量进一步封装成类，类是程序的基本组成元素，和数据操作紧密相连，并保护数据不被外界任意改变。"
   ]
  },
  {
   "cell_type": "markdown",
   "metadata": {},
   "source": [
    "## 面向对象术语"
   ]
  },
  {
   "cell_type": "code",
   "execution_count": 131,
   "metadata": {},
   "outputs": [
    {
     "name": "stdout",
     "output_type": "stream",
     "text": [
      "这是一个实例方法 crisimple1\n",
      "这是一个静态方法\n",
      "这是一个方法： crisimple\n",
      "这是一个方法： crisimple\n"
     ]
    }
   ],
   "source": [
    "# 类（ClassSample）：具有相同属性和方法的集合\n",
    "class ClassSample(object):\n",
    "    \n",
    "    # 类变量（user_name）:定义在类中但在方法体之外的变量；类变量是所有实例共有的变量\n",
    "    user_name = \"crisimple\"\n",
    "    pass_word = \"123456\"\n",
    "    \n",
    "    # __init__ 在类实例化的时候会自动调用该方法，并传递对应的参数\n",
    "    def __init__(self, name, age):\n",
    "        # 实例变量（name）：定义在实例中并只作用于当前实例\n",
    "        self.name = name\n",
    "        self.age = age\n",
    "        \n",
    "    # 实例方法（sample_func）:\n",
    "    def sample_func(self):\n",
    "        print(\"这是一个实例方法\", self.name)\n",
    "        \n",
    "    # 静态方法（static_fun）:声明时不需要传参数 self；调用时不需要对类进行实例化，直接可以用类进行调用\n",
    "    @staticmethod\n",
    "    def static_func():\n",
    "        print(\"这是一个静态方法\")\n",
    "        \n",
    "    # 类方法（class_func）:类方法是将类本身作为对象进行操作的方法，采用@classmethod装饰，至少传入一个cls（指类本身，类似于self）参数，行类方法时，自动将调用该方法的类赋值给cls。\n",
    "    # 调用：类名.类方法（或 实例名.类方法）\n",
    "    @classmethod\n",
    "    def class_func(cls):\n",
    "        print(\"这是一个方法：\", cls.user_name)        \n",
    "        \n",
    "\n",
    "if __name__ == \"__main__\":\n",
    "    # 实例化过程\n",
    "    cs1 = ClassSample(\"crisimple1\", \"25\")\n",
    "\n",
    "    # 调用实例化方法\n",
    "    cs1.sample_func()\n",
    "    \n",
    "    # 调用静态方法\n",
    "    # cs1.static_func()\n",
    "    ClassSample.static_func()\n",
    "    \n",
    "    # 调用类方法\n",
    "    cs1.class_func()\n",
    "    ClassSample.class_func()\n",
    "    "
   ]
  },
  {
   "cell_type": "markdown",
   "metadata": {},
   "source": [
    "## 面向对象三大特征"
   ]
  },
  {
   "cell_type": "markdown",
   "metadata": {},
   "source": [
    "### 封装\n",
    "封装是指将 数据 或 具体操作 代码放在某个对象内部，使这些代码的内部细节不被外界所知，外部只能通过接口访问该对象的属性和方法，不能通过任何方法修改对象内部的实现。"
   ]
  },
  {
   "cell_type": "code",
   "execution_count": 158,
   "metadata": {},
   "outputs": [
    {
     "name": "stdout",
     "output_type": "stream",
     "text": [
      "crisimple\n",
      "crisimple2\n",
      "crisimple\n"
     ]
    }
   ],
   "source": [
    "class SampleClass(object):\n",
    "    \n",
    "    user_name = \"crisimple\"\n",
    "    pass_word = \"123456\"\n",
    "    \n",
    "    def __init__(self, name, passwd):\n",
    "        self.name = name\n",
    "        self.passwd = passwd\n",
    "        \n",
    "    def sample_func(self):\n",
    "        print(self.name)\n",
    "        \n",
    "        \n",
    "if __name__ == \"__main__\":\n",
    "    try:\n",
    "        # e:  name 'user_name' is not defined --- 说明外部无法直接访问类内部的属性\n",
    "        # print(user_name)\n",
    "        \n",
    "        # 'set' object is not callable --- 外部无法直接访问类内部的方法\n",
    "        # set_sample()\n",
    "        \n",
    "        # 类.属性，访问类属性；\n",
    "        print(SampleClass.user_name)\n",
    "        # SampleClass.sample_func(\"crisimple2\")\n",
    "        \n",
    "        # 实例化对象.属性；实例化对象.方法。\n",
    "        sc1 = SampleClass(\"crisimple2\", \"123456\")\n",
    "        sc1.sample_func()\n",
    "        print(sc1.user_name)\n",
    "    except Exception as e:\n",
    "        print(\"e: \", e)\n"
   ]
  },
  {
   "cell_type": "markdown",
   "metadata": {},
   "source": [
    "### 继承\n",
    "继承实现了代码的复用，多个类共用的代码可以在一个类中提供，其他类只需要集成这个公共类即可。\n",
    "\n",
    "继承的好处：子类 获得了 父类（也叫超类或基类）的全部变量和方法，还可以根据需要对子类进行修改和扩展。\n",
    "\n",
    "继承分为：实现继承（使用基类的属性和方法无需额外编码）、接口继承（仅使用属性和方法的名称，子类实现属性和方法的具体实现，即子类重构父类方法）。\n",
    "\n",
    "方法的继承分两种：\n",
    "\n",
    "    （1）子类继承父类构造方法：\n",
    "            经典继承写法：FatherClass.__init__(self, user_name, pass_word)\n",
    "            新式继承方法：super(Child, self).__int__(self, user_name, pass_word)\n",
    "    （2）子类继承父类方法：\n",
    "            不重名的方法，子类可以直接访问父类的方法；\n",
    "            重名的方法，子类重写父类的方法"
   ]
  },
  {
   "cell_type": "code",
   "execution_count": 193,
   "metadata": {},
   "outputs": [
    {
     "name": "stdout",
     "output_type": "stream",
     "text": [
      "c1\n",
      "123\n",
      "10.10.10.10\n",
      "property\n",
      "请检查你的账号信息\n",
      "print father func name is:  c2\n",
      "print child func name is:  c2\n",
      "身份验证成功\n"
     ]
    }
   ],
   "source": [
    "class FatherClass(object):\n",
    "    \n",
    "    def __init__(self, user_name, pass_word):\n",
    "        self.user_name = user_name\n",
    "        self.pass_word = pass_word\n",
    "        self.father_property = \"property\"\n",
    "        \n",
    "    def father_func(self):\n",
    "        print(\"print father func name is: \", self.user_name)\n",
    "        \n",
    "    def judge_passwd(self):\n",
    "        if self.pass_word == \"123\":\n",
    "            print(\"身份验证成功\")\n",
    "        else:\n",
    "            print(\"请检查你的账号信息\")\n",
    "    \n",
    "class ChildClass(FatherClass):\n",
    "    #--------------子类对父类构造方法的继承--------------------\n",
    "    # 遵循：先继承再重构\n",
    "    def __init__(self, user_name, pass_word, ip):\n",
    "        # 继承的两种写法：\n",
    "        # 经典继承写法：\n",
    "        # FatherClass.__init__(self, user_name, pass_word)\n",
    "        # 新式继承写法：\n",
    "        super(ChildClass, self).__init__(user_name, pass_word)\n",
    "        # 子类构造构造新的属性\n",
    "        self.ip = ip\n",
    "        \n",
    "    def child_func(self):\n",
    "        print(\"print child func name is: \", self.user_name)\n",
    "            \n",
    "    def judge_passwd(self):\n",
    "        if self.pass_word == \"456\":\n",
    "             print(\"身份验证成功\")\n",
    "        else:\n",
    "            print(\"请检查你的账号信息\")\n",
    "    \n",
    "    \n",
    "if __name__ == \"__main__\":\n",
    "    \n",
    "    # 实例化 子类对父类构造方法的重写\n",
    "    #  实例化对象  ---> 调用子类的构造方法__init__() ---> 子类的构造方法__init__()继承父类的构造方法__init__() ---> 调用父类的构造方法__init__()\n",
    "    cc1 = ChildClass(\"c1\", \"123\", \"10.10.10.10\")\n",
    "    print(cc1.user_name)\n",
    "    print(cc1.pass_word)\n",
    "    print(cc1.ip)\n",
    "    print(cc1.father_property)\n",
    "    \n",
    "    # 实例化，子类对父类方法的重写\n",
    "    cc2 = ChildClass(\"c2\", \"123\", \"11.11.11.11\")\n",
    "    cc2.judge_passwd()\n",
    "    cc2.father_func()\n",
    "    cc2.child_func()\n",
    "    cc3 = ChildClass(\"c3\", \"456\", \"11.11.11.11\")\n",
    "    cc3.judge_passwd()\n",
    "    "
   ]
  },
  {
   "cell_type": "markdown",
   "metadata": {},
   "source": [
    "### 多态\n",
    "多态指一类事务具有多种形态（动物类多种形态老虎、狮子）。Python 的多态是指在不考虑实例类型的情况下使用实例，也就是说不同类型的实例具有相同的调用方法。\n",
    "\n",
    "多态的好处：\n",
    "    \n",
    "    （1）增加了程序的灵活性：以不变应万变，不论对象千变万化，使用同一种形式去调用，如show_say(animal)\n",
    "    （2）增加了程序的可扩展性：通过继承Animal（下面代码例子）类创建了一个新的类，使用者无需更改自己的代码，还是用show_say(animal)方法去调用。"
   ]
  },
  {
   "cell_type": "code",
   "execution_count": 201,
   "metadata": {},
   "outputs": [
    {
     "name": "stdout",
     "output_type": "stream",
     "text": [
      "This is Animal.\n",
      "wang wang~\n",
      "miao miao~\n",
      "mie mie ~\n",
      "wang wang~\n",
      "mie mie ~\n"
     ]
    }
   ],
   "source": [
    "# 一类事物 --- Animal\n",
    "class Animal(object):\n",
    "    def say(self):\n",
    "        print(\"This is Animal.\")\n",
    "        \n",
    "# Animal 的形态之一：Dog\n",
    "class Dog(Animal):\n",
    "    def say(self):\n",
    "        print(\"wang wang~\")\n",
    "        \n",
    "# Animal 的形态之一：Cat\n",
    "class Cat(Animal):\n",
    "    def say(self):\n",
    "        print(\"miao miao~\")\n",
    "        \n",
    "# Animal的形态之一：Sheep\n",
    "class Sheep(Animal):\n",
    "    def say(self):\n",
    "        print(\"mie mie ~\")\n",
    "        \n",
    "def animal_say(Animal):\n",
    "    Animal.say()\n",
    "        \n",
    "if __name__ == \"__main__\":\n",
    "    a = Animal()\n",
    "    d = Dog()\n",
    "    c = Cat()\n",
    "    s = Sheep()\n",
    "    a.say()\n",
    "    d.say()\n",
    "    c.say()\n",
    "    s.say()\n",
    "    \n",
    "    # 统计接口调用动物类的say()方法\n",
    "    animal_say(d)\n",
    "    animal_say(s)"
   ]
  },
  {
   "cell_type": "markdown",
   "metadata": {},
   "source": [
    "## 元类\n",
    "Python中一切皆对象，用 class 关键字定义的类本身也是一个对象，负责产生该对象的类称为元类。\n",
    "\n",
    "元类的目的：控制类产生和对象的产生过程。\n",
    "\n",
    "类对象可以用 class 关键字创建，类对象的类型是 type，也就是说可以用 type（元类）来创建"
   ]
  },
  {
   "cell_type": "code",
   "execution_count": 216,
   "metadata": {},
   "outputs": [
    {
     "name": "stdout",
     "output_type": "stream",
     "text": [
      "int_sample id is:  10918400\n",
      "int_sample type is:  <class 'int'>\n",
      "dict_sample id is:  140182891188088\n",
      "dict_sample type is:  <class 'dict'>\n",
      "My name is : crisimple\n",
      "f id is: 140182849015992\n",
      "f type is: <class '__main__.Foo'>\n",
      "Foo id is: 54855816\n",
      "Foo type is: <class 'type'>\n",
      "Person type is,  <class 'type'>\n",
      "p1 type is, <class '__main__.Person'>\n"
     ]
    }
   ],
   "source": [
    "class Foo(object):\n",
    "    def __init__(self, name, age):\n",
    "        self.name = name\n",
    "        self.age = age\n",
    "        \n",
    "    def introduce(self):\n",
    "        print(\"My name is : %s\" % self.name)\n",
    "        \n",
    "if __name__ == \"__main__\":\n",
    "    \n",
    "    int_sample = 123\n",
    "    print(\"int_sample id is: \", id(int_sample))\n",
    "    print(\"int_sample type is: \", type(int_sample))\n",
    "    \n",
    "    dict_sample = {\n",
    "        \"name\": \"test\",\n",
    "        \"passwd\": 1233\n",
    "    }\n",
    "    print(\"dict_sample id is: \", id(dict_sample))\n",
    "    print(\"dict_sample type is: \", type(dict_sample))\n",
    "    \n",
    "    f = Foo(\"crisimple\", 25)\n",
    "    f.introduce()\n",
    "    print(\"f id is:\", id(f))\n",
    "    print(\"f type is:\", type(f))\n",
    "    print(\"Foo id is:\", id(Foo))\n",
    "    print(\"Foo type is:\", type(Foo))\n",
    "    \n",
    "\n",
    "# 故，用元类创建类\n",
    "Person = type(\"Person\", (object, ), {\"name\": \"crisimple\", \"age\": 25})\n",
    "print(\"Person type is, \", type(Person))\n",
    "p1 = Person()\n",
    "print(\"p1 type is,\", type(p1))"
   ]
  },
  {
   "cell_type": "markdown",
   "metadata": {},
   "source": [
    "# Python高级编程"
   ]
  },
  {
   "cell_type": "markdown",
   "metadata": {},
   "source": [
    "## 多进程\n",
    "**多道技术**：为保证并发能力，可以将一个 cpu 变成多个虚拟的 cpu。时间多路复用和空间多路复用+硬件上支持隔离\n",
    "\n",
    "    空间复用：如内存中同时有多道程序 \n",
    "    时间复用：复用一个CPU的时间片，强调：遇到io切，占用CPU时间过长也切，核心在于切之前将进程的状态保存下来，这样才能保证下次切换回来时，能基于上次切走的位置继续运行\n",
    "    \n",
    "**进程**：正在进行的一个过程或一个任务，负责任务的是CPU；同一程序执行两次，那也就是两个进程，比如打开两个chrome浏览器，一个看学习视频，一个写学习笔记。\n",
    "\n",
    "**并发**：是伪并行，看起来是同时运行，单个CPU+多道技术就可以实现并发。\n",
    "\n",
    "**并行**：同时运行，具有多个CPU才能实现并行。"
   ]
  },
  {
   "cell_type": "markdown",
   "metadata": {},
   "source": [
    "### 开启进程"
   ]
  },
  {
   "cell_type": "markdown",
   "metadata": {},
   "source": [
    "multiprocessing模块\n",
    "\n",
    "multiprocess模块用来开启子进程，并在子进程中执行我们定制的任务（如函数），支持子进程、通信和共享数据，执行不同形式的同步，提供了Process、Queue、Pipe、Lock 等组件；与线程不同，进程没有任何共享状态，进程修改的数据，改动仅限于改进程内。"
   ]
  },
  {
   "cell_type": "code",
   "execution_count": 227,
   "metadata": {},
   "outputs": [
    {
     "name": "stdout",
     "output_type": "stream",
     "text": [
      "主2...... 3792 1853\n",
      "子进程2 20361 is running..., parent id is 3792\n",
      "子进程2 20361 is done-----, parent id is 3792\n"
     ]
    }
   ],
   "source": [
    "from multiprocessing import Process\n",
    "import time\n",
    "import random\n",
    "import os\n",
    "\n",
    "# 开启进程方法一：\n",
    "def task(name):\n",
    "    print(\"%s is running...\" % name)\n",
    "    time.sleep(random.randrange(1, 5))\n",
    "    print(\"%s is done...\" % name)\n",
    "    \n",
    "    \n",
    "# 开启进程方法二：继承 Process 类\n",
    "class ProcessSmaple(Process):\n",
    "    def __init__(self, name):\n",
    "        # 重用父类 Process 的功能\n",
    "        super().__init__()\n",
    "        self.name = name\n",
    "        \n",
    "    # start将调用这个run方法\n",
    "    def run(self):\n",
    "        print(\"%s %s is running..., parent id is %s\" % (self.name, os.getpid(), os.getppid()))\n",
    "        time.sleep(3)\n",
    "        print(\"%s %s is done-----, parent id is %s\" % (self.name, os.getpid(), os.getppid()))\n",
    "    \n",
    "\n",
    "\n",
    "if __name__ == \"__main__\":\n",
    "    # 方式一：\n",
    "    # 只是给操作系统发送了一个信号，由操作系统将父进程地址空间中的数据拷贝给子进程，作为子进程运行的初始状态，开启后再运行task\n",
    "#     p1 = Process(target=task, args=(\"a\", ))\n",
    "#     p2 = Process(target=task, args=(\"b\", ))\n",
    "#     p3 = Process(target=task, args=(\"c\", ))\n",
    "#     p4 = Process(target=task, args=(\"d\", ))\n",
    "#     p1.start()\n",
    "#     p2.start()\n",
    "#     p3.start()\n",
    "#     p4.start()\n",
    "#     print('主1......', os.getpid(), os.getppid())\n",
    "\n",
    "    # 方式二：\n",
    "    p = ProcessSmaple('子进程2')\n",
    "    p.start()\n",
    "    # os.getpid() --- 查看子进程的id\n",
    "    # os.getppid() --- 查看父进程的id\n",
    "    print('主2......', os.getpid(), os.getppid())"
   ]
  },
  {
   "cell_type": "markdown",
   "metadata": {},
   "source": [
    "### 主进程与子进程\n",
    "在主进程运行过程中，想要并发地执行其他任务，我们可以开启一个子进程。\n",
    "\n",
    "主进程和子进程执行分两种情况：\n",
    "\n",
    "    （1）主进程和子进程之间执行彼此独立，主进程执行完毕后会等待子进程执行完毕后，统计回收系统资源。\n",
    "    （2）主进程执行到某一阶段后，需要等待子进程执行完毕后再进行后面主进程的执行，这时候就要用 join 来判断检测子进程什么时候执行完再进行主进程的执行，也是等主进程执行完毕后，统一对主进程和子进程进行系统资源回收。\n",
    "    join --- 实现进程的检测、实现子进程的并发和子进程的串行任务\n",
    "    is_alive --- 判断子进程的存活状态"
   ]
  },
  {
   "cell_type": "code",
   "execution_count": 258,
   "metadata": {},
   "outputs": [
    {
     "name": "stdout",
     "output_type": "stream",
     "text": [
      "task进程 id is: 3792, is's parent id is:1853\n",
      "查看子进程的存活状态：True\n",
      "查看子进程的存活状态：False\n",
      "子进程的 id is: 3792, is's parent id is:1853\n",
      "查看僵尸进程：7292\n",
      "查看子进程的名称：自定义进程名\n",
      " \n",
      "start 并发\n",
      "并发1 id is: 7293, is's parent id is:3792\n",
      "并发2 id is: 7294, is's parent id is:3792\n",
      "并发3 id is: 7295, is's parent id is:3792\n",
      "并发的总耗时长： 5.026923418045044\n",
      " \n",
      "串行\n",
      "串行1 id is: 7311, is's parent id is:3792\n",
      "串行1 id is: 7311, is's parent id is:3792\n",
      "串行2 id is: 7356, is's parent id is:3792\n",
      "串行2 id is: 7356, is's parent id is:3792\n",
      "串行3 id is: 7362, is's parent id is:3792\n",
      "串行3 id is: 7362, is's parent id is:3792\n",
      "串行任务总耗时长:  14.061620712280273\n",
      " \n",
      "进程内的n为： 0\n"
     ]
    }
   ],
   "source": [
    "from multiprocessing import Process\n",
    "import time\n",
    "import os\n",
    "\n",
    "def task(name):\n",
    "    print(\"%s id is: %s, is's parent id is:%s\" % (name, os.getpid(), os.getppid()))\n",
    "    \n",
    "def concurrent_task(name, n):\n",
    "    print(\"%s id is: %s, is's parent id is:%s\" % (name, os.getpid(), os.getppid()))\n",
    "    time.sleep(n)\n",
    "    \n",
    "def serial_task(name, n):\n",
    "    print(\"%s id is: %s, is's parent id is:%s\" % (name, os.getpid(), os.getppid()))\n",
    "    time.sleep(n)\n",
    "    print(\"%s id is: %s, is's parent id is:%s\" % (name, os.getpid(), os.getppid()))\n",
    "    \n",
    "def spatial_isolation():\n",
    "    global n\n",
    "    n = 0\n",
    "    print(\"进程内的n为：\", n)\n",
    "    \n",
    "\n",
    "if __name__ == \"__main__\":\n",
    "    # 创建子进程\n",
    "    p_task = Process(target=task(\"task进程\"), name=\"自定义进程名\")\n",
    "    p_task.start()\n",
    "    print(\"查看子进程的存活状态：%s\" % p_task.is_alive())\n",
    "    # join 检测子进程完毕后再执行主进程\n",
    "    p_task.join()\n",
    "    print(\"查看子进程的存活状态：%s\" % p_task.is_alive())\n",
    "    print(\"子进程的 id is: %s, is's parent id is:%s\" % (os.getpid(), os.getppid()))\n",
    "    print(\"查看僵尸进程：%s\" % p_task.pid)\n",
    "    print(\"查看子进程的名称：%s\" % p_task.name)\n",
    "    print(\" \")\n",
    "    \n",
    "    print(\"start 并发\")\n",
    "    # 并发进程，并发进行，但是得等执行最长的程序执行完毕才算结束\n",
    "    concurrent_start_time = time.time()\n",
    "    p_concurrent_1 = Process(target=concurrent_task, args=('并发1', 5))\n",
    "    p_concurrent_2 = Process(target=concurrent_task, args=('并发2', 3))\n",
    "    p_concurrent_3 = Process(target=concurrent_task, args=('并发3', 1))\n",
    "    p_concurrent_1.start()\n",
    "    p_concurrent_2.start()\n",
    "    p_concurrent_3.start()\n",
    "    p_concurrent_1.join()\n",
    "    p_concurrent_2.join()\n",
    "    p_concurrent_3.join()\n",
    "    concurrent_end_time = time.time()\n",
    "    print(\"并发的总耗时长：\", (concurrent_end_time - concurrent_start_time))\n",
    "    print(\" \")\n",
    "    \n",
    "    print(\"串行\")\n",
    "    serial_start_time = time.time()\n",
    "    p_serial_1 = Process(target=serial_task, args=(\"串行1\", 5))\n",
    "    p_serial_2 = Process(target=serial_task, args=(\"串行2\", 3))\n",
    "    p_serial_3 = Process(target=serial_task, args=(\"串行3\", 6))\n",
    "    p_serial_1.start()\n",
    "    p_serial_1.join()\n",
    "    p_serial_2.start()\n",
    "    p_serial_2.join()\n",
    "    p_serial_3.start()\n",
    "    p_serial_3.join()\n",
    "    serial_end_time = time.time()\n",
    "    print(\"串行任务总耗时长: \", (serial_end_time - serial_start_time))\n",
    "    print(\" \")\n",
    "    \n",
    "    # 进程之间的变量是相互隔离的\n",
    "    p_spatial_isolation = Process(target=spatial_isolation)\n",
    "    p_spatial_isolation.start()\n",
    "    "
   ]
  },
  {
   "cell_type": "markdown",
   "metadata": {},
   "source": [
    "### 守护进程\n",
    "如果有多个任务需要并发执行，如果子进程任务结束后在主进程没有存在的必要了，那么可以改子进程可以被设置成守护进程（子进程执行完后，被设置的守护进程会被立即终止），未设置守护进程的子进程会等待主进程执行完毕后，统一被系统回收。\n",
    "\n",
    "注意：守护进程内无法再开启子进程，否则会抛出异常：AssertionError: daemonic processes are not allowed to have children。"
   ]
  },
  {
   "cell_type": "code",
   "execution_count": 270,
   "metadata": {},
   "outputs": [
    {
     "name": "stdout",
     "output_type": "stream",
     "text": [
      "<Process(Process-96, started daemon)> 是否存活：True\n",
      "<Process(Process-95, started)> 是否存活：True\n",
      "主进程name:  posix\n",
      "task_1_name id is: 4675, it's parent id is: 3792\n",
      "task_2_name id is: 4676, it's parent id is: 3792\n",
      "task_2_name id is: 4676, it's parent id is: 3792\n",
      "task_1_name id is: 4675, it's parent id is: 3792\n"
     ]
    }
   ],
   "source": [
    "from multiprocessing import Process\n",
    "import time\n",
    "import os\n",
    "\n",
    "def task_1(name, n):\n",
    "    print(\"%s id is: %s, it's parent id is: %s\" % (name, os.getpid(), os.getppid()))\n",
    "    time.sleep(n)\n",
    "    print(\"%s id is: %s, it's parent id is: %s\" % (name, os.getpid(), os.getppid()))\n",
    "    \n",
    "def task_2(name, n):\n",
    "    print(\"%s id is: %s, it's parent id is: %s\" % (name, os.getpid(), os.getppid()))\n",
    "    time.sleep(n)\n",
    "    print(\"%s id is: %s, it's parent id is: %s\" % (name, os.getpid(), os.getppid()))\n",
    "    \n",
    "def task_3(name, n):\n",
    "    print(\"%s id is: %s, it's parent id is: %s\" % (name, os.getpid(), os.getppid()))\n",
    "    time.sleep(n)\n",
    "    print(\"%s id is: %s, it's parent id is: %s\" % (name, os.getpid(), os.getppid()))\n",
    "    \n",
    "\n",
    "if __name__ == \"__main__\":\n",
    "    p_task_1 = Process(target=task_1, args=(\"task_1_name\", 5))\n",
    "    p_task_2 = Process(target=task_2, args=(\"task_2_name\", 2))\n",
    "    # 要在p.start()前设置, 设置p为守护进程, 禁止p创建子进程, 并且父进程代码执行结束, p即终止运行\n",
    "    p_task_2.daemon = True\n",
    "    p_task_1.start()\n",
    "    p_task_2.start()\n",
    "    print(\"%s 是否存活：%s\" % (p_task_2, p_task_2.is_alive()))\n",
    "    print(\"%s 是否存活：%s\" % (p_task_1, p_task_1.is_alive()))\n",
    "    print(\"主进程name: \", os.name)"
   ]
  },
  {
   "cell_type": "markdown",
   "metadata": {},
   "source": [
    "### 互斥锁\n",
    "通过添加互斥锁的位置，实现部分程序达到串行的效果，其他程序任然可以并行执行，而添加了 join 只能执行完了之后才能执行下一个。\n",
    "\n",
    "添加互斥锁的目的：保证数据输出不错乱\n",
    "\n",
    "应用场景：12306抢票、微信群抢红包\n",
    "\n",
    "关于 json 处理的几种场景：https://www.cnblogs.com/hjianhui/p/10387057.html"
   ]
  },
  {
   "cell_type": "code",
   "execution_count": null,
   "metadata": {},
   "outputs": [
    {
     "name": "stdout",
     "output_type": "stream",
     "text": [
      "旅客0 查看当前余票有：【10】张\n"
     ]
    },
    {
     "name": "stderr",
     "output_type": "stream",
     "text": [
      "Process Process-1:\n",
      "Traceback (most recent call last):\n",
      "  File \"/usr/lib/python3.6/multiprocessing/process.py\", line 258, in _bootstrap\n",
      "    self.run()\n",
      "  File \"/usr/lib/python3.6/multiprocessing/process.py\", line 93, in run\n",
      "    self._target(*self._args, **self._kwargs)\n",
      "  File \"<ipython-input-1-d3049f62da28>\", line 25, in ticket_task\n",
      "    buy_ticket(name, tickets)\n",
      "  File \"<ipython-input-1-d3049f62da28>\", line 12, in buy_ticket\n",
      "    if nums[\"count\"] > 0:\n",
      "TypeError: '>' not supported between instances of 'str' and 'int'\n"
     ]
    },
    {
     "name": "stdout",
     "output_type": "stream",
     "text": [
      "旅客1 查看当前余票有：【10】张\n"
     ]
    }
   ],
   "source": [
    "from multiprocessing import Process, Lock\n",
    "import time\n",
    "import json\n",
    "\n",
    "# 模拟 12306 抢票\n",
    "def search_ticket(name, tickets):\n",
    "    nums = json.loads(tickets, encoding=\"utf-8\")\n",
    "    print(\"%s 查看当前余票有：【%s】张\" % (name, nums[\"count\"]))\n",
    "        \n",
    "def buy_ticket(name, tickets):\n",
    "    nums = json.loads(tickets, encoding=\"utf-8\")\n",
    "    if nums[\"count\"] > 0:\n",
    "        nums[\"count\"] -= 1\n",
    "        # ******** 这块有问题 *********************\n",
    "        time.sleep(3)\n",
    "        print(\"%s 购票成功，当前余票：【%s】张\" % (name, nums[\"count\"]))\n",
    "    else:\n",
    "        print(\"%s, 抱歉！暂无余票\")\n",
    "        \n",
    "def ticket_task(name, tickets, mutex):\n",
    "    # 每个人都可以同时进行票务查询，是并发操作\n",
    "    search_ticket(name, tickets)\n",
    "    # 添加互斥锁，达到多人同时买票时串行执行，使得一次只能一个人成功买票\n",
    "    mutex.acquire()\n",
    "    buy_ticket(name, tickets)\n",
    "    mutex.release()\n",
    "    \n",
    "\n",
    "if __name__ == \"__main__\":\n",
    "    # 总票仓\n",
    "    tickets_json = '{\"count\": \"10\"}'\n",
    "    \n",
    "    # search_ticket(\"crisimple\", tickets_json)\n",
    "    mutex = Lock()\n",
    "    for i in range(20):\n",
    "        pt = Process(target=ticket_task, args=(\"旅客%s\" % i, tickets_json,mutex))\n",
    "        pt.start()\n",
    "        # 利用互斥锁，可以通过添加互斥锁的位置，实现部分程序执行达到串行的效果，其他程序仍然可以并行执行，而添加了join只能执行完了之后才能执行下一个，若作为每项都添加一个join，则都要串行执行。从而大大降低了效率。\n",
    "        pt.join()"
   ]
  },
  {
   "cell_type": "markdown",
   "metadata": {},
   "source": [
    "### 队列\n",
    "Queue([maxsize]):创建共享的进程队列，Queue是多进程安全的队列，可以使用Queue实现多进程之间的数据传递。\n",
    "\n",
    "    参数：\n",
    "    maxsize---队列中最大的项数，可以放置任意类型的数据，省略则无大小限制。\n",
    "           --- 但是：\n",
    "                    队列内存放的是消息而非大数据\n",
    "                    队列占用的是内存空间，因而maxsize即便是无大小限制也受限于内存大小\n",
    "    方法：\n",
    "    q.put --- 用以插入数据到队列中，数据不宜过大\n",
    "    q.get --- 可以从队列读取并删除一个元素\n",
    "\n",
    "\n",
    "队列的意义：解决大家共享硬盘文件，效率低以及使用内存解决加锁这个繁琐的步骤。multiprocessing模块提供了IPC(internet process communicate)进程之间的通信，队列以及管道，这两种方式都是使用消息传递的，队列就是管道加锁的实现。\n",
    "\n"
   ]
  },
  {
   "cell_type": "code",
   "execution_count": 2,
   "metadata": {},
   "outputs": [
    {
     "name": "stdout",
     "output_type": "stream",
     "text": [
      "当前队列是否已满： False\n",
      "当前队列是否已满： True\n",
      "队列已满，当前队列的深度为：3\n",
      "1\n",
      "2\n",
      "当前队列是否已空：False\n",
      "3\n",
      "当前队列是否已空：True\n",
      "队列已空，当前队列的深度为：0\n"
     ]
    }
   ],
   "source": [
    "from multiprocessing import Process, Queue\n",
    "\n",
    "q = Queue(3)\n",
    "q.put(1)\n",
    "q.put(2)\n",
    "print(\"当前队列是否已满：\", q.full())\n",
    "q.put(3)\n",
    "# 判断队列是否满了\n",
    "print(\"当前队列是否已满：\", q.full())\n",
    "try:\n",
    "    q.put(4, block=True, timeout=3)\n",
    "except:\n",
    "    print(\"队列已满，当前队列的深度为：%s\" % q.qsize())\n",
    "\n",
    "    \n",
    "print(q.get())\n",
    "print(q.get())\n",
    "print(\"当前队列是否已空：%s\" % q.empty())\n",
    "print(q.get())\n",
    "# 判断队列是否为空\n",
    "print(\"当前队列是否已空：%s\" % q.empty())\n",
    "try:\n",
    "    q.get(block=True, timeout=3)\n",
    "except:\n",
    "    print(\"队列已空，当前队列的深度为：%s\" % q.qsize())"
   ]
  },
  {
   "cell_type": "markdown",
   "metadata": {},
   "source": [
    "### 生产者消费者模型\n",
    "**队列阻塞模式的生产者消费者模型**\n",
    "\n",
    "生产者（生产数据的任务），消费者（处理数据的任务）。生产者消费者模式是通过一个容器来解决生产者和消费者的强耦合问题。\n",
    "\n",
    "生产者和消费者之间不直接通讯，而通过阻塞队列来进行通讯，所以生产者生产完数据之后不用等待消费者处理，直接给阻塞队列，消费者直接从阻塞队列里取。阻塞队列就相当于一个缓冲区，平衡了生产者和消费者的处理能力，阻塞队列就是用来给生产者和消费者解耦的"
   ]
  },
  {
   "cell_type": "code",
   "execution_count": 4,
   "metadata": {},
   "outputs": [
    {
     "name": "stdout",
     "output_type": "stream",
     "text": [
      "生产者1 生产了 包子0\n",
      "生产者2 生产了 包子0\n",
      "生产者3 生产了 包子0\n",
      "生产者2 生产了 包子1\n",
      "生产者1 生产了 包子1\n",
      "生产者3 生产了 包子1\n",
      "消费者2 吃了包子0\n",
      "消费者1 吃了包子0\n",
      "生产者3 生产了 包子2\n",
      "生产者2 生产了 包子2\n",
      "生产者1 生产了 包子2\n",
      "主进程\n",
      "消费者2 吃了包子0\n",
      "消费者1 吃了包子1\n",
      "消费者2 吃了包子1\n",
      "消费者1 吃了包子1\n",
      "消费者2 吃了包子2\n",
      "消费者1 吃了包子2\n",
      "消费者2 吃了包子2\n"
     ]
    }
   ],
   "source": [
    "from multiprocessing import Process, Queue\n",
    "import time\n",
    "\n",
    "def producer(q, name):\n",
    "    for i in range(3):\n",
    "        res = \"包子%s\" % i\n",
    "        time.sleep(0.5)\n",
    "        print(\"%s 生产了 %s\" % (name, res))\n",
    "        \n",
    "        q.put(res)\n",
    "        \n",
    "        \n",
    "def consumer(q, name):\n",
    "    while True:\n",
    "        res = q.get()\n",
    "        if res is None:\n",
    "            break\n",
    "        time.sleep(1)\n",
    "        print(\"%s 吃了%s\" % (name, res))\n",
    "\n",
    "\n",
    "if __name__ == \"__main__\":\n",
    "    # 队列容器\n",
    "    q = Queue()\n",
    "\n",
    "    # 生产者们\n",
    "    p1 = Process(target=producer, args=(q, '生产者1'))\n",
    "    p2 = Process(target=producer, args=(q, '生产者2'))\n",
    "    p3 = Process(target=producer, args=(q, '生产者3'))\n",
    "\n",
    "    # 消费者们\n",
    "    c1 = Process(target=consumer, args=(q, '消费者1'))\n",
    "    c2 = Process(target=consumer, args=(q, '消费者2'))\n",
    "\n",
    "    p1.start()\n",
    "    p2.start()\n",
    "    p3.start()\n",
    "    c1.start()\n",
    "    c2.start()\n",
    "\n",
    "    # 生产完了才开始吃\n",
    "    p1.join()\n",
    "    p2.join()\n",
    "    p3.join()\n",
    "    q.put(None)\n",
    "    q.put(None)\n",
    "    print(\"主进程\")\n"
   ]
  },
  {
   "cell_type": "markdown",
   "metadata": {},
   "source": [
    "**共享的信号和条件变量的生产者与消费者**\n",
    "\n",
    "JoinableQueue对象中队列允许羡慕的使用者通知生产者项目已经被成功处理，通知进程是使用共享的信号和条件变量来实现的。\n",
    "\n",
    "    参数\n",
    "        maxsize --- 队列中允许的最大项数，省略则无大小限制；\n",
    "\n",
    "    方法\n",
    "        JoinableQueue的方法共用与Queue的方法\n",
    "        q.task_done() --- 使用者使用此方法发出信号，表示q.get()的返回项目已经被处理。如果调用此方法的次数大于从队列中删除项目的数量，将引发ValueError异常\n",
    "        q.join() --- 生产者调用此方法进行阻塞，直到队列中所有的项目均被处理。阻塞将持续到队列中的每个项目均调q.task_done（）方法为止"
   ]
  },
  {
   "cell_type": "code",
   "execution_count": 5,
   "metadata": {},
   "outputs": [
    {
     "name": "stdout",
     "output_type": "stream",
     "text": [
      "生产者j2 生产了 包子0\n",
      "生产者j1 生产了 包子0\n",
      "生产者j3 生产了 包子0\n",
      "生产者j2 生产了 包子1\n",
      "生产者j3 生产了 包子1\n",
      "生产者j1 生产了 包子1\n",
      "消费者j1 吃了包子0\n",
      "生产者j2 生产了 包子2\n",
      "消费者j2 吃了包子0\n",
      "生产者j3 生产了 包子2\n",
      "生产者j1 生产了 包子2\n",
      "消费者j1 吃了包子0\n",
      "消费者j2 吃了包子1\n",
      "消费者j1 吃了包子1\n",
      "消费者j2 吃了包子1\n",
      "消费者j1 吃了包子2\n",
      "消费者j2 吃了包子2\n",
      "消费者j1 吃了包子2\n",
      "JoinableQueue主进程\n"
     ]
    }
   ],
   "source": [
    "from multiprocessing import Process, Queue, JoinableQueue\n",
    "import time\n",
    "\n",
    "def producer_j(qj, name):\n",
    "   for i in range(3):\n",
    "       res = \"包子%s\" % i\n",
    "       time.sleep(0.5)\n",
    "       print(\"%s 生产了 %s\" % (name, res))\n",
    "       qj.put(res)\n",
    "   qj.join()\n",
    "\n",
    "def consumer_j(qj, name):\n",
    "   while True:\n",
    "       res = qj.get()\n",
    "       if res is None:\n",
    "           break\n",
    "       time.sleep(1)\n",
    "       print(\"%s 吃了%s\" % (name, res))\n",
    "       qj.task_done()\n",
    "\n",
    "\n",
    "if __name__ == \"__main__\":\n",
    "   # ------------------------\n",
    "   qj = JoinableQueue()\n",
    "   # 生产者们\n",
    "   pj1 = Process(target=producer_j, args=(qj, \"生产者j1\"))\n",
    "   pj2 = Process(target=producer_j, args=(qj, \"生产者j2\"))\n",
    "   pj3 = Process(target=producer_j, args=(qj, \"生产者j3\"))\n",
    "   # 消费者们\n",
    "   cj1 = Process(target=consumer_j, args=(qj, \"消费者j1\"))\n",
    "   cj2 = Process(target=consumer_j, args=(qj, \"消费者j2\"))\n",
    "   cj1.daemon = True  # 若不添加守护进程，则会卡在消费者\n",
    "   cj2.daemon = True\n",
    "\n",
    "   pj1.start()\n",
    "   pj2.start()\n",
    "   pj3.start()\n",
    "   cj1.start()\n",
    "   cj2.start()\n",
    "   pj1.join()\n",
    "   pj2.join()\n",
    "   pj3.join()\n",
    "   print('JoinableQueue主进程')\n"
   ]
  },
  {
   "cell_type": "markdown",
   "metadata": {},
   "source": [
    "## 多线程\n",
    "**线程**：把进程当做车间，那么就可以把线程看做是车间里的流水线，这个流水线必须属于一个车间，即一个进程至少得有一个线程，进程负责把线程整合起来。\n",
    "\n",
    "**多线程**：在一个进程中存在多个线程，多个线程共享进程的地址空间（相当于一个车间内有多条流水线，多条流水线共用这个车间的资源）。"
   ]
  },
  {
   "cell_type": "markdown",
   "metadata": {},
   "source": [
    "### 开启线程\n",
    "**开始线程有两种方法**：\n",
    "    \n",
    "    （1）调用 Thread 类的方法；\n",
    "    （2）继承 Thread 类\n",
    "    \n",
    "    \n",
    "**Thread 对象的方法**：\n",
    "\n",
    "    isAlive() --- 返回线程是否运行\n",
    "    getName() --- 返回线程名\n",
    "    setName() --- 设置线程名\n",
    "    \n",
    "    \n",
    "**threading 模块的方法**：\n",
    "\n",
    "    threading.currentThread() --- 返回当前线程的变量\n",
    "    threading.enumerate() --- 返回包含 正在运行（正在运行指线程启动后、结束前，不包含启动前和终止后的线程） 的线程的list。\n",
    "    threading.activeCount() --- 返回正在运行的线程数量，结果 == len(threading.enumerate())\n",
    "    "
   ]
  },
  {
   "cell_type": "code",
   "execution_count": 47,
   "metadata": {},
   "outputs": [
    {
     "name": "stdout",
     "output_type": "stream",
     "text": [
      "<Thread(Thread-47, initial)> 线程名称：MainThread\n",
      "<Thread(Thread-47, initial)> 线程是否存活：False\n",
      "当前存在线程：[<_MainThread(MainThread, started 139789685258048)>, <Thread(Thread-2, started daemon 139789524633344)>, <Heartbeat(Thread-3, started daemon 139789441431296)>, <HistorySavingThread(IPythonHistorySavingThread, started 139789416253184)>, <ParentPollerUnix(Thread-1, started daemon 139789407860480)>, <Thread(QueueFeederThread, started daemon 139789105886976)>, <GarbageCollectorThread(Thread-9, started daemon 139789081761536)>]\n",
      "当前存在线程数：7\n",
      "当前存在线程数：7\n",
      "第一种创建线程的方式... is running<Thread(Thread-47, started 139789056583424)> 线程是否存活：True\n",
      "\n",
      "主线程一\n",
      "<Thread(Thread-47, started 139789056583424)> 线程名称：MainThread\n",
      "\n",
      "第二种创建线程的方式... is running\n",
      "主线程二\n",
      "<ThreadTwo(第二种创建线程的方式..., started 139789064976128)> 线程是否运行1：True\n",
      "<ThreadTwo(第二种创建线程的方式..., started 139789064976128)> 的名称叫：第二种创建线程的方式...\n",
      "<ThreadTwo(这是新的线程名称, started 139789064976128)> 的名称叫：这是新的线程名称\n",
      "这是新的线程名称 线程是否运行2：True\n",
      "当前存在线程：[<_MainThread(MainThread, started 139789685258048)>, <Thread(Thread-2, started daemon 139789524633344)>, <Heartbeat(Thread-3, started daemon 139789441431296)>, <HistorySavingThread(IPythonHistorySavingThread, started 139789416253184)>, <ParentPollerUnix(Thread-1, started daemon 139789407860480)>, <Thread(QueueFeederThread, started daemon 139789105886976)>, <GarbageCollectorThread(Thread-9, started daemon 139789081761536)>, <Thread(Thread-47, started 139789056583424)>, <ThreadTwo(这是新的线程名称, started 139789064976128)>]\n",
      "当前存在线程数：9\n",
      "当前存在线程数：9\n",
      "\n",
      "这是新的线程名称 run end.\n",
      "第一种创建线程的方式... run end.\n"
     ]
    }
   ],
   "source": [
    "from threading import Thread, currentThread, enumerate, activeCount\n",
    "import random\n",
    "import time\n",
    "\n",
    "def thread_one(name):\n",
    "    print(\"%s is running\" % name)\n",
    "    time.sleep(random.randrange(1, 5))\n",
    "    print(\"%s run end.\" % name)\n",
    "    \n",
    "    \n",
    "class ThreadTwo(Thread):\n",
    "    def __init__(self, name):\n",
    "        super().__init__()\n",
    "        self.name = name\n",
    "        \n",
    "    def run(self):\n",
    "        print(\"%s is running\" % self.name)\n",
    "        time.sleep(random.randrange(1, 5))\n",
    "        print(\"%s run end.\" % self.name)\n",
    "        \n",
    "\n",
    "if __name__ == \"__main__\":\n",
    "    # 创建线程第一种方式\n",
    "    to = Thread(target=thread_one, args=(\"第一种创建线程的方式...\", ))\n",
    "    print(\"%s 线程名称：%s\" % (to, currentThread().getName()))\n",
    "    print(\"%s 线程是否存活：%s\" % (to, to.isAlive()))\n",
    "    print(\"当前存在线程：%s\" % enumerate())\n",
    "    print(\"当前存在线程数：%s\" % len(enumerate()))\n",
    "    print(\"当前存在线程数：%s\" % activeCount())\n",
    "    to.start()\n",
    "    print(\"%s 线程是否存活：%s\" % (to, to.isAlive()))\n",
    "    print(\"\\n主线程一\")\n",
    "    print(\"%s 线程名称：%s\" % (to, currentThread().getName()))\n",
    "\n",
    "    # 创建线程第二种方式\n",
    "    tt = ThreadTwo('第二种创建线程的方式...')\n",
    "    tt.start()\n",
    "    print(\"\\n主线程二\")\n",
    "    print(\"%s 线程是否运行1：%s\" % (tt, tt.isAlive()))\n",
    "    # 获取线程的名称\n",
    "    print(\"%s 的名称叫：%s\" % (tt, tt.getName()))\n",
    "    # 设置新的线程名称\n",
    "    tt.setName(\"这是新的线程名称\")\n",
    "    print(\"%s 的名称叫：%s\" % (tt, tt.getName()))\n",
    "    print(\"%s 线程是否运行2：%s\" % (tt.getName(), tt.isAlive()))\n",
    "    print(\"当前存在线程：%s\" % enumerate())\n",
    "    print(\"当前存在线程数：%s\" % len(enumerate()))\n",
    "    print(\"当前存在线程数：%s\" % activeCount())"
   ]
  },
  {
   "cell_type": "markdown",
   "metadata": {},
   "source": [
    "### 多进程与多线程的区别\n",
    "    （1）启动速度：t.start() 的同时，线程就开启了；p.start() 将开启进程的信号发给操作系统后，操作系统要shenqing内存空间，拷贝子进程到父进程的地址空间，开销远大于线程。\n",
    "    （2）PID 不同：同一进程下的多个线程的 pid 和所在进程的 pid 一样；主进程下开启多个进程，每个进程都有自己独立的 pid；\n",
    "    （3）地址空间划分不一样：同一进程内的多个线程共享该进程的地址空间；主进程下的多个进程不共享地址空间，各个进程之间的地址空间是互相隔离的。"
   ]
  },
  {
   "cell_type": "code",
   "execution_count": 79,
   "metadata": {},
   "outputs": [
    {
     "name": "stdout",
     "output_type": "stream",
     "text": [
      "process_1 process is running...\n",
      "process_2 process is running...\n",
      "\n",
      "当前进程名称：<_MainProcess(MainProcess, started)>\n",
      "thread_1 thread is running...\n",
      "thread_2 thread is running...\n",
      "当前线程名称：MainThread\n",
      "\n",
      "address_func_t_1 的 n 的值为：100\n",
      "address_func_t_2 的 n 的值为：200\n",
      "process_2 process run done...\n",
      "process_2 id is: 28236; parent id is: 12740\n",
      "process_1 process run done...\n",
      "process_1 id is: 28235; parent id is: 12740\n",
      "thread_1 thread is run done...\n",
      "thread_1 id is: 12740; parent id is: 1853\n",
      "thread_2 thread is run done...\n",
      "thread_2 id is: 12740; parent id is: 1853\n"
     ]
    }
   ],
   "source": [
    "from threading import Thread, currentThread \n",
    "from multiprocessing import Process, current_process\n",
    "import time\n",
    "import random\n",
    "import os\n",
    "\n",
    "\n",
    "def thread_func(name):\n",
    "    print(\"%s thread is running...\" % name)\n",
    "    time.sleep(random.randrange(1, 3))\n",
    "    print(\"%s thread is run done...\" % name)\n",
    "    print(\"%s id is: %s; parent id is: %s\" % (name, os.getpid(), os.getppid()))\n",
    "    \n",
    "def process_func(name):\n",
    "    print(\"%s process is running...\" % name)\n",
    "    time.sleep(random.randrange(1, 3))\n",
    "    print(\"%s process run done...\" % name)\n",
    "    print(\"%s id is: %s; parent id is: %s\" % (name, os.getpid(), os.getppid()))\n",
    "    \n",
    "n = 100\n",
    "def address_func(name, par):\n",
    "    global n\n",
    "    n = 0\n",
    "    n = n + par\n",
    "    print(\"%s 的 n 的值为：%s\" % (name, n))\n",
    "    \n",
    "    \n",
    "if __name__ == \"__main__\":\n",
    "    # 1、开启速度：通过结果对比明显可以看出线程的开启速度比进程以肉眼可见的速度快\n",
    "    # 2、pid 不同：同一主进程下，多线程中每个线程的 pid 是一样的；同一主进程下，多进程中每个进程的 pid 均不同\n",
    "    # 3、\n",
    "    pf_1 = Process(target=process_func, args=(\"process_1\", ))\n",
    "    pf_2 = Process(target=process_func, args=(\"process_2\", ))\n",
    "    pf_1.start()\n",
    "    pf_2.start()\n",
    "    print(\"\\n当前进程名称：%s\" % current_process())\n",
    "    \n",
    "    \n",
    "    tf_1 = Thread(target=thread_func, args=(\"thread_1\", ))\n",
    "    tf_2 = Thread(target=thread_func, args=(\"thread_2\", ))\n",
    "    tf_1.start()\n",
    "    tf_2.start()\n",
    "    print(\"\\n当前线程名称：%s\" % currentThread().getName())\n",
    "    \n",
    "    p_af_1 = Process(target=address_func, args=(\"address_func_p_1\", 100))\n",
    "    p_af_2 = Process(target=address_func, args=(\"address_func_p_2\", 200))\n",
    "#     p_af_1.start()\n",
    "#     p_af_2.start()\n",
    "    t_af_1 = Thread(target=address_func, args=(\"address_func_t_1\", 100))\n",
    "    t_af_2 = Thread(target=address_func, args=(\"address_func_t_2\", 200))\n",
    "    t_af_1.start()\n",
    "    t_af_2.start()"
   ]
  },
  {
   "cell_type": "markdown",
   "metadata": {},
   "source": [
    "### 守护线程\n",
    "无论是线程还是进程，都遵循：守护 xxx 非等待主 xxx 运行完毕后被销毁\n",
    "\n",
    "    （1）对于主进程来说，运行完毕指的是主进程代码运行完毕，主进程在代码结束后就算运行完毕了（守护进程在此时就被回收了）；然后主进程会一直等待非守护子进程运行完毕后回收子进程的资源，否则非产生僵尸进程，才会结束。\n",
    "    （2）对于主线程来说，运行完指的是主线程所在的进程内所有非守护线程统统运行完毕，主线程才算运行完毕。主线程在其他非守护线程运行完毕才算运行完毕（守护线程在此时会被回收）。因为主线程的结束意味着进程的结束，进程整体的资源都将被回收，而进程保证非守护线程都运行完毕后才结束。"
   ]
  },
  {
   "cell_type": "code",
   "execution_count": 86,
   "metadata": {},
   "outputs": [
    {
     "name": "stdout",
     "output_type": "stream",
     "text": [
      "thread_1 id is: 12740, it's parent id is: 1853\n",
      "thread_2 id is: 12740, it's parent id is: 1853\n",
      "<Thread(Thread-119, started daemon 139789056583424)> 的当前是否运行：True\n",
      "\n",
      "<Thread(Thread-120, started 139789064976128)> 的当前是否运行：True\n",
      "\n",
      "当前主线程名字为：MainThread，id 为：1853\n",
      "\n",
      "<Thread(Thread-119, started daemon 139789056583424)> 的当前是否运行：True\n",
      "\n",
      "<Thread(Thread-120, started 139789064976128)> 的当前是否运行：True\n",
      "\n"
     ]
    }
   ],
   "source": [
    "from threading import Thread, currentThread\n",
    "import time\n",
    "import random\n",
    "import os\n",
    "\n",
    "def thread_func(name):\n",
    "    print(\"%s id is: %s, it's parent id is: %s\" % (name, os.getpid(), os.getppid()))\n",
    "    time.sleep(random.randrange(1, 3))\n",
    "    \n",
    "\n",
    "if __name__ == \"__main__\":\n",
    "    tf_1 = Thread(target=thread_func, args=(\"thread_1\", ))\n",
    "    tf_2 = Thread(target=thread_func, args=(\"thread_2\", ))\n",
    "    tf_1.daemon = True\n",
    "    tf_1.start()\n",
    "    tf_2.start()\n",
    "    print(\"\\n%s 的当前是否运行：%s\" % (tf_1, tf_1.isAlive()))\n",
    "    print(\"\\n%s 的当前是否运行：%s\" % (tf_2, tf_2.isAlive()))\n",
    "    print(\"\\n当前主线程名字为：%s，id 为：%s\" % (currentThread().getName(), os.getppid()))\n",
    "    print(\"\\n%s 的当前是否运行：%s\" % (tf_1, tf_1.isAlive()))\n",
    "    print(\"\\n%s 的当前是否运行：%s\" % (tf_2, tf_2.isAlive()))"
   ]
  },
  {
   "cell_type": "markdown",
   "metadata": {},
   "source": [
    "### 互斥锁\n",
    "线程中的互斥锁的目的：一个进程内的多个线程是共享彼此的地址空间，因此彼此之间数据也是共享的，因此带来的竞争可能将数据改乱。"
   ]
  },
  {
   "cell_type": "code",
   "execution_count": 93,
   "metadata": {},
   "outputs": [
    {
     "name": "stdout",
     "output_type": "stream",
     "text": [
      "n1:  99\n",
      "n1:  99\n",
      "n1:  99\n",
      "n1:  99\n",
      "n1:  99\n",
      "n1:  99\n",
      "n1:  99\n",
      "n1:  99\n",
      "n1:  99\n",
      "n1:  99\n",
      "\n",
      " 加锁以后，变量一次只复制给一个线程\n",
      "\n",
      "n2:  99\n",
      "n2:  98\n",
      "n2:  97\n",
      "n2:  96\n",
      "n2:  95\n",
      "n2:  94\n",
      "n2:  93\n",
      "n2:  92\n",
      "n2:  91\n",
      "n2:  90\n"
     ]
    }
   ],
   "source": [
    "from threading import Thread, Lock\n",
    "import os\n",
    "import time\n",
    "import random\n",
    "\n",
    "n1 = 100\n",
    "n2 = 100\n",
    "\n",
    "def thread_func1(name):\n",
    "    global n1\n",
    "    temp = n1\n",
    "    # 未加锁，多线程们都等在这，此时 temp=99\n",
    "    time.sleep(0.1)\n",
    "    n1 = temp -1\n",
    "    print(\"n1: \", n1)\n",
    "\n",
    "def thread_func2(name, mutex):\n",
    "    global n2\n",
    "    # 加锁\n",
    "    mutex.acquire()\n",
    "    temp = n2\n",
    "    time.sleep(0.1)\n",
    "    n2 = temp - 1\n",
    "    # 解锁\n",
    "    mutex.release()\n",
    "    print(\"n2: \", n2)\n",
    "    \n",
    "    \n",
    "if __name__ == \"__main__\":\n",
    "    tf_1 = []\n",
    "    for i in range(10):\n",
    "        t = Thread(target=thread_func1, args=(\"Thread\", ))\n",
    "        tf_1.append(t)\n",
    "        t.start()\n",
    "    for j in tf_1:\n",
    "        t.join()\n",
    "    \n",
    "    print(\"\\n 加锁以后，变量一次只复制给一个线程\\n\")\n",
    "    mutex = Lock()\n",
    "    tf_2 = []\n",
    "    for i in range(10):\n",
    "        t = Thread(target=thread_func2, args=(\"Thread\", mutex))\n",
    "        tf_1.append(t)\n",
    "        t.start()\n",
    "    for j in tf_2:\n",
    "        t.join()\n",
    "    "
   ]
  },
  {
   "cell_type": "markdown",
   "metadata": {},
   "source": [
    "### GIL 全局解释器锁"
   ]
  },
  {
   "cell_type": "markdown",
   "metadata": {},
   "source": [
    "### 信号量、Event、定时器\n",
    "信号量：信号量也是一把锁，对比互斥锁同一时间只能有一个任务进行加锁执行，信号量同一时间可以指定多个任务进行加锁执行。"
   ]
  },
  {
   "cell_type": "code",
   "execution_count": 101,
   "metadata": {},
   "outputs": [
    {
     "name": "stdout",
     "output_type": "stream",
     "text": [
      "thread's name is: Thread-291, id is: 12740.\n",
      "n =  99\n",
      "thread's name is: Thread-293, id is: 12740.\n",
      "n =  99\n",
      "thread's name is: Thread-292, id is: 12740.\n",
      "n =  99\n",
      "thread's name is: Thread-295, id is: 12740.\n",
      "n =  98\n",
      "thread's name is: Thread-296, id is: 12740.\n",
      "n =  98\n",
      "thread's name is: Thread-294, id is: 12740.\n",
      "n =  98\n",
      "thread's name is: Thread-297, id is: 12740.\n",
      "n =  97\n",
      "thread's name is: Thread-298, id is: 12740.\n",
      "n =  97\n",
      "thread's name is: Thread-299, id is: 12740.\n",
      "n =  97\n",
      "thread's name is: Thread-300, id is: 12740.\n",
      "n =  96\n"
     ]
    }
   ],
   "source": [
    "from threading import Thread, Semaphore, currentThread\n",
    "\n",
    "# 定义信号量的大小，也就是同一时间可以加锁的任务个数\n",
    "sm = Semaphore(3)\n",
    "\n",
    "n = 100\n",
    "def thread_func(name):\n",
    "    # 加锁\n",
    "    global n\n",
    "    sm.acquire()\n",
    "    temp = n\n",
    "    time.sleep(0.1)\n",
    "    n = temp - 1\n",
    "    print(\"%s's name is: %s, id is: %s.\" % (name, currentThread().getName(), os.getpid()))\n",
    "    print(\"n = \", n)\n",
    "    # 解锁\n",
    "    sm.release()\n",
    "    \n",
    "if __name__ == \"__main__\":\n",
    "    for i in range(10):\n",
    "        t = Thread(target=thread_func, args=(\"thread\", ))\n",
    "        t.start()\n",
    "    "
   ]
  },
  {
   "cell_type": "markdown",
   "metadata": {},
   "source": [
    "**Event**: 每个线程都是独立运行且状态不可预测的，如果某些程序需要通过某个线程的状态来确定下一步的操作，那就用Event。初始情况下，Event对象中信号标志被设置为假；如果有线程等待一个Event对象，而这个对象的标志为假，那么这个线程将会被一直阻塞到该标志为真，一个线程如果将Event对象的信号标志设置为真，它将唤醒所有等待这个Event对象的线程。如果一个线程等待一个已经被设置为真的Event对象，则直接忽略这个时间继续执行。\n",
    "**Event对象就像一个红绿灯一样来控制前后车辆（线程）的运行。**\n",
    "\n",
    "应用场景：有多个工作线程尝试链接MySQL，我们想要在连接前确保MySQL服务正常才让那些工作线程去连接MySQL服务器，如果连接不成功，都会去尝试重新连接。那么我们就可以采用threading.Event机制来协调各个工作线程的连接操作\n",
    "\n",
    "    event.isSet()：返回event的状态值；\n",
    "    event.wait()：如果 event.isSet()==False将阻塞线程；\n",
    "    event.set()： 设置event的状态值为True，所有阻塞池的线程激活进入就绪状态， 等待操作系统调度；\n",
    "    event.clear()：恢复event的状态值为False。"
   ]
  },
  {
   "cell_type": "code",
   "execution_count": 103,
   "metadata": {},
   "outputs": [
    {
     "name": "stdout",
     "output_type": "stream",
     "text": [
      "event.is_event:  False\n",
      "Thread-305 try 0\n",
      "event.is_event:  False\n",
      "Thread-306 try 0\n",
      "event.is_event:  False\n",
      "Thread-307 try 0\n",
      "Thread-308 is checking\n",
      "event.is_event:  False\n",
      "Thread-305 try 1\n",
      "event.is_event:  False\n",
      "Thread-306 try 1\n",
      "event.is_event:  False\n",
      "Thread-307 try 1\n",
      "event.is_event:  False\n",
      "Thread-305 try 2\n",
      "event.is_event:  False\n",
      "Thread-306 try 2\n",
      "event.is_event:  False\n",
      "Thread-307 try 2\n",
      "Thread-307 is connected\n",
      "Thread-306 is connected\n",
      "Thread-305 is connected\n"
     ]
    }
   ],
   "source": [
    "from threading import Thread, Event, currentThread\n",
    "\n",
    "event = Event()\n",
    "\n",
    "def connect_mysql():\n",
    "    n = 0 \n",
    "    while not event.is_set():\n",
    "        print(\"event.is_event: \", event.is_set())\n",
    "        if n==3:\n",
    "            print(currentThread().getName())\n",
    "            return\n",
    "        print(\"%s try %s\" % (currentThread().getName(), n))\n",
    "        event.wait(0.5)\n",
    "        n += 1\n",
    "    print(\"%s is connected\" % currentThread().getName())\n",
    "    \n",
    "def check():\n",
    "    print(\"%s is checking\" % currentThread().getName())\n",
    "    time.sleep(1)\n",
    "    event.set()\n",
    "    \n",
    "\n",
    "if __name__ == \"__main__\":\n",
    "    for i2 in range(3):\n",
    "        t = Thread(target=connect_mysql)\n",
    "        t.start()\n",
    "    t = Thread(target=check)\n",
    "    t.start()"
   ]
  },
  {
   "cell_type": "markdown",
   "metadata": {},
   "source": [
    "**Timer**：定时器，指定 n 秒后执行某操作"
   ]
  },
  {
   "cell_type": "code",
   "execution_count": 106,
   "metadata": {},
   "outputs": [
    {
     "name": "stdout",
     "output_type": "stream",
     "text": [
      "定时器，指定 n 秒后执行某操作\n"
     ]
    }
   ],
   "source": [
    "from threading import Timer\n",
    "\n",
    "def timer_func():\n",
    "    print(\"定时器，指定 n 秒后执行某操作\")\n",
    "    \n",
    "\n",
    "if __name__ == \"__main__\":\n",
    "    t = Timer(3, timer_func)\n",
    "    t.start()"
   ]
  },
  {
   "cell_type": "markdown",
   "metadata": {},
   "source": [
    "### 线程队列queue\n",
    "线程队列用在多个线程之间交换信息安全。"
   ]
  },
  {
   "cell_type": "code",
   "execution_count": 107,
   "metadata": {},
   "outputs": [
    {
     "name": "stdout",
     "output_type": "stream",
     "text": [
      "first\n",
      "2\n",
      "third\n",
      "4\n",
      "\n",
      "\n",
      "L3\n",
      "L2\n",
      "L1\n",
      "\n",
      "\n",
      "(10, 'one')\n",
      "(20, 'three')\n",
      "(40, 'two')\n"
     ]
    }
   ],
   "source": [
    "import queue\n",
    "\n",
    "# 1. 先进先出\n",
    "first_in_first_out = queue.Queue(5)\n",
    "first_in_first_out.put('first')\n",
    "first_in_first_out.put(2)\n",
    "first_in_first_out.put('third')\n",
    "# block = True时阻塞，timeout=3，等待三秒后如果还没有从里面取出数据，则阻塞\n",
    "first_in_first_out.put(4, block=True, timeout=3)\n",
    "print(first_in_first_out.get())\n",
    "print(first_in_first_out.get())\n",
    "print(first_in_first_out.get())\n",
    "print(first_in_first_out.get(block=False))\n",
    "print(\"\\n\")\n",
    "\n",
    "\n",
    "# 2. 后进先出\n",
    "last_in_first_out = queue.LifoQueue(3)\n",
    "last_in_first_out.put(\"L1\")\n",
    "last_in_first_out.put(\"L2\")\n",
    "last_in_first_out.put(\"L3\")\n",
    "print(last_in_first_out.get())\n",
    "print(last_in_first_out.get())\n",
    "print(last_in_first_out.get())\n",
    "print(\"\\n\")\n",
    "\n",
    "\n",
    "# 3. 优先级队列（存储数据时可设置优先级的队列）\n",
    "priority = queue.PriorityQueue(3)\n",
    "priority.put((10, 'one'))\n",
    "priority.put((40, 'two'))\n",
    "priority.put((20, 'three'))\n",
    "print(priority.get())\n",
    "print(priority.get())\n",
    "print(priority.get())\n"
   ]
  },
  {
   "cell_type": "markdown",
   "metadata": {},
   "source": [
    "### 进程池与线程池\n",
    "解决多线程或多进程实现并发的套接字通信会使服务的开启的进程或线程数都会随着开发的客户端数增多最后可能因不堪重负而瘫痪，进程池或线程池的用途就是对服务端开启的进程数或线程数加以控制，让程序自己可以在一个可承受的范围内运行。\n",
    "\n",
    "    concurrent.futures  模块提供了高度封装的异步调用接口\n",
    "    ThreadPoolExecutor：线程池，提供异步调用\n",
    "    ProcessPoolExecutor: 进程池，提供异步调用\n",
    "\n",
    "    基本方法：\n",
    "    submit(fn, *args, **kwargs)     --- 异步提交任务\n",
    "    map(func, *iterables, timeout=None, chunksize=1)  --- 取代for循环submit的操作\n",
    "    shutdown(wait=True)     --- 相当于进程池的pool.close()+pool.join()操作\n",
    "                        wait=True，等待池内所有任务执行完毕回收完资源后才继续\n",
    "                        wait=False，立即返回，并不会等待池内的任务执行完毕\n",
    "                    但不管wait参数为何值，整个程序都会等到所有任务执行完毕\n",
    "                    submit和map必须在shutdown之前\n",
    "    result(timeout=None)    --- 取得结果\n",
    "    add_done_callback(fn)   --- 回调函数"
   ]
  },
  {
   "cell_type": "code",
   "execution_count": 110,
   "metadata": {},
   "outputs": [
    {
     "name": "stdout",
     "output_type": "stream",
     "text": [
      "name: 任务 0 pid: 12740 run\n",
      "name: 任务 1 pid: 12740 run\n",
      "name: 任务 2 pid: 12740 run\n",
      "name: 任务 3 pid: 12740 run\n",
      "name: 任务 4 pid: 12740 run\n",
      "name: 任务 5 pid: 12740 run\n",
      "name: 任务 6 pid: 12740 run\n",
      "name: 任务 7 pid: 12740 run\n",
      "name: 任务 8 pid: 12740 run\n",
      "name: 任务 9 pid: 12740 run\n",
      "主进程\n"
     ]
    }
   ],
   "source": [
    "from concurrent.futures import ProcessPoolExecutor, ThreadPoolExecutor\n",
    "import time\n",
    "import os\n",
    "import random\n",
    "\n",
    "def task(name):\n",
    "    print(\"name: %s pid: %s run\" % (name, os.getpid()))\n",
    "    time.sleep(random.randrange(1, 3))\n",
    "\n",
    "\n",
    "if __name__ == \"__main__\":\n",
    "    # 设置最大同时运行的进程数\n",
    "    # p = ProcessPoolExecutor(4)\n",
    "    p = ThreadPoolExecutor(4)\n",
    "    for i in range(10):\n",
    "        # 异步提交任务，提交后不用管进程是否执行\n",
    "        p.submit(task, '任务 %s' % i)\n",
    "    # 将进程池的入口关闭，等待任务提交结束后才执行后面的任务, 默认wait=True\n",
    "    p.shutdown(wait=True)\n",
    "    print(\"主进程\")"
   ]
  },
  {
   "cell_type": "markdown",
   "metadata": {},
   "source": [
    "### 异步调用和回调机制\n",
    "**同步调用**：提交完任务后，就在原地等待任务执行完毕，拿到结果再执行下一行代码，导致程序使串行执行，同步时提交任务的一种方式，不是阻塞的结果\n",
    "\n",
    "**异步调用**：提交完任务后，不等待任务执行完毕。"
   ]
  },
  {
   "cell_type": "code",
   "execution_count": 114,
   "metadata": {},
   "outputs": [
    {
     "name": "stdout",
     "output_type": "stream",
     "text": [
      "A is swimming\n",
      "A 游了 14 km\n",
      "B is swimming\n",
      "B 游了 14 km\n",
      "C is swimming\n",
      "C 游了 13 km\n"
     ]
    }
   ],
   "source": [
    "from concurrent.futures import ThreadPoolExecutor\n",
    "import time\n",
    "import random\n",
    "\n",
    "def swim(name):\n",
    "    print(\"%s is swimming\" % name)\n",
    "    time.sleep(random.randint(1, 5))\n",
    "    swim_len = random.randint(10, 20)\n",
    "    return {\"name\": name, 'swim_len': swim_len}\n",
    "\n",
    "def distance(swim_res):\n",
    "#      swim_res = swim_res.result()\n",
    "    name = swim_res['name']\n",
    "    s_length = swim_res['swim_len']\n",
    "    print(\"%s 游了 %s km\" % (name, s_length))\n",
    "\n",
    "\n",
    "if __name__ == '__main__':\n",
    "    # 1. 同步调用\n",
    "    pool = ThreadPoolExecutor(13)\n",
    "    swim_res1 = pool.submit(swim, 'A').result()\n",
    "    distance(swim_res1)\n",
    "    swim_res2 = pool.submit(swim, 'B').result()  # result取得结果\n",
    "    distance(swim_res2)\n",
    "    swim_res3 = pool.submit(swim, 'C').result()\n",
    "    distance(swim_res3)\n",
    "\n",
    "    # 2. 异步调用\n",
    "#     pool = ThreadPoolExecutor(13)\n",
    "#     pool.submit(swim, 'AA').add_done_callback(distance)\n",
    "#     pool.submit(swim, 'BB').add_done_callback(distance)\n",
    "#     pool.submit(swim, 'CC').add_done_callback(distance)\n"
   ]
  },
  {
   "cell_type": "markdown",
   "metadata": {},
   "source": [
    "## 协程\n",
    "**协程**：协程，又称微线程，纤程。英文名Coroutine。协程其实可以认为是比线程更小的执行单元，他自带CPU上下文。这样只要在合适的时机，我们可以把一个协程切换到另一个协程。只要这个过程中保存或恢CPU上下文那么程序还是可以运行的。\n",
    "\n",
    "**对比线程和进程**:线程和进程都有抢占式特点，线程和进程之间的切换我们是不能参与的。协程是非抢占式的，协程的切换是由用户来控制的，协程主要解决的是IO的操作。\n",
    "\n",
    "**协程的优点**:\n",
    "    \n",
    "    （1）协程的切换是子程序切换，是由程序自身控制，没有线程切换的开销，和多线程比线程的数量越多，协程的性能优势越明显；\n",
    "    （2）不需要多线程锁的机制，因为只有一个线程，也不存在同时写变量的冲突。在协程中共享资源不需要加锁，只需要判断状态就好了。所以执行效率比多线程好。\n",
    "    \n",
    "**如何高效利用多核CPU呢？**:最简单的方法是多进程+协程，既充分利用多核，又充分发挥协程的高效率，可获得极高的性能。"
   ]
  },
  {
   "cell_type": "markdown",
   "metadata": {},
   "source": [
    "### yield\n",
    "这就是生成器中的关键词 yield，生成器中 yield 只有在调用时才执行。"
   ]
  },
  {
   "cell_type": "code",
   "execution_count": 116,
   "metadata": {},
   "outputs": [
    {
     "name": "stdout",
     "output_type": "stream",
     "text": [
      "任务1 is running...0\n",
      "任务2 is running...0\n",
      "任务1 is running...1\n",
      "任务2 is running...1\n",
      "任务1 is running...2\n",
      "任务2 is running...2\n",
      "执行完毕\n"
     ]
    }
   ],
   "source": [
    "import time\n",
    "\n",
    "def task1(name):\n",
    "    for i in range(3):\n",
    "        print(\"%s is running...%s\" % (name, i))\n",
    "        yield\n",
    "        time.sleep(1)\n",
    "\n",
    "def task2(name):\n",
    "    for i in range(3):\n",
    "        print(\"%s is running...%s\" % (name, i))\n",
    "        yield\n",
    "        time.sleep(1)\n",
    "\n",
    "def main():\n",
    "    g1 = task1('任务1')\n",
    "    g2 = task2('任务2')\n",
    "    for i in range(3):\n",
    "        next(g1)\n",
    "        next(g2)\n",
    "    print(\"执行完毕\")\n",
    "\n",
    "\n",
    "if __name__ == \"__main__\":\n",
    "    main()\n"
   ]
  },
  {
   "cell_type": "markdown",
   "metadata": {},
   "source": [
    "# Python的内存管理\n",
    "Python有两种垃圾回收机制：\n",
    "\n",
    "**引用计数**：当数据的引用数变成0的时候，python解释器就认为这个数据是垃圾数据，进行垃圾回收，释放空间\n",
    "\n",
    "**分代回收**：通过对象存在的时间不同，采用不同的算法来回收垃圾，形象的比喻, 三个链表,零代链表上的对象(新创建的对象都加入到零代链表),引用数都是一,每增加一个指针,引用加一,随后python会检测列表中的互相引用的对象,根据规则减掉其引用计数. GC算法对链表一的引用减一,引用为0的,清除,不为0的到链表二,链表二也执行GC算法,链表三一样. 存在时间越长的数据,越是有用的数据.\n"
   ]
  }
 ],
 "metadata": {
  "gist": {
   "data": {
    "description": "MySpace/Python/BasicPython/BasicPython.ipynb",
    "public": true
   },
   "id": ""
  },
  "hide_input": false,
  "kernelspec": {
   "display_name": "Python 3",
   "language": "python",
   "name": "python3"
  },
  "language_info": {
   "codemirror_mode": {
    "name": "ipython",
    "version": 3
   },
   "file_extension": ".py",
   "mimetype": "text/x-python",
   "name": "python",
   "nbconvert_exporter": "python",
   "pygments_lexer": "ipython3",
   "version": "3.6.9"
  },
  "latex_envs": {
   "LaTeX_envs_menu_present": true,
   "autoclose": false,
   "autocomplete": true,
   "bibliofile": "biblio.bib",
   "cite_by": "apalike",
   "current_citInitial": 1,
   "eqLabelWithNumbers": true,
   "eqNumInitial": 1,
   "hotkeys": {
    "equation": "Ctrl-E",
    "itemize": "Ctrl-I"
   },
   "labels_anchors": false,
   "latex_user_defs": false,
   "report_style_numbering": false,
   "user_envs_cfg": false
  },
  "nbTranslate": {
   "displayLangs": [
    "*"
   ],
   "hotkey": "alt-t",
   "langInMainMenu": true,
   "sourceLang": "en",
   "targetLang": "fr",
   "useGoogleTranslate": true
  },
  "toc": {
   "base_numbering": 1,
   "nav_menu": {
    "height": "369.988px",
    "width": "758.99px"
   },
   "number_sections": true,
   "sideBar": true,
   "skip_h1_title": false,
   "title_cell": "XXXXXX",
   "title_sidebar": "BasicPython",
   "toc_cell": false,
   "toc_position": {
    "height": "calc(100% - 180px)",
    "left": "10px",
    "top": "150px",
    "width": "270px"
   },
   "toc_section_display": true,
   "toc_window_display": true
  },
  "varInspector": {
   "cols": {
    "lenName": 16,
    "lenType": 16,
    "lenVar": 40
   },
   "kernels_config": {
    "python": {
     "delete_cmd_postfix": "",
     "delete_cmd_prefix": "del ",
     "library": "var_list.py",
     "varRefreshCmd": "print(var_dic_list())"
    },
    "r": {
     "delete_cmd_postfix": ") ",
     "delete_cmd_prefix": "rm(",
     "library": "var_list.r",
     "varRefreshCmd": "cat(var_dic_list()) "
    }
   },
   "types_to_exclude": [
    "module",
    "function",
    "builtin_function_or_method",
    "instance",
    "_Feature"
   ],
   "window_display": false
  }
 },
 "nbformat": 4,
 "nbformat_minor": 1
}
