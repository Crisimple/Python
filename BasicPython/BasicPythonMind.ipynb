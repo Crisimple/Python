{
 "cells": [
  {
   "cell_type": "markdown",
   "metadata": {},
   "source": [
    "# 数据类型\n",
    "\n",
    "##  数字类型\n",
    "\n",
    "### int 类型\n",
    "\n",
    "&emsp;&emsp; Python 的 int 不同于 Java 的 int，Python 中无论整数的大小长度为多少，统称为 int。"
   ]
  },
  {
   "cell_type": "code",
   "execution_count": 25,
   "metadata": {
    "ExecuteTime": {
     "end_time": "2020-03-20T03:04:27.169133Z",
     "start_time": "2020-03-20T03:04:27.160702Z"
    }
   },
   "outputs": [
    {
     "name": "stdout",
     "output_type": "stream",
     "text": [
      "1125899906842624 的类型为：<class 'int'>\n",
      "123 的类型为：<class 'int'>\n"
     ]
    }
   ],
   "source": [
    "int_sample = 2 ** 50\n",
    "print(\"%s 的类型为：%s\" % (int_sample, type(int_sample)))\n",
    "str_int = int(\"123\")\n",
    "print(\"%s 的类型为：%s\" % (str_int, type(str_int)))"
   ]
  },
  {
   "cell_type": "markdown",
   "metadata": {
    "ExecuteTime": {
     "end_time": "2020-03-20T03:04:27.194925Z",
     "start_time": "2020-03-20T03:04:27.189470Z"
    }
   },
   "source": [
    "### float 类型\n",
    "&emsp;&emsp; float 等会补充"
   ]
  },
  {
   "cell_type": "markdown",
   "metadata": {},
   "source": [
    "### complex 类型\n",
    "&emsp;&emsp;主要用于高级数学计算"
   ]
  },
  {
   "cell_type": "markdown",
   "metadata": {},
   "source": [
    "## 布尔（bool）类型\n",
    "\n",
    "&emsp;&emsp; 对于 bool 型来说，只存在两种值 True 和 False，对应二进制分别为 0 和 1。值为 False 的数有：None、空、[]、{}、()、0。 "
   ]
  },
  {
   "cell_type": "code",
   "execution_count": 26,
   "metadata": {},
   "outputs": [
    {
     "name": "stdout",
     "output_type": "stream",
     "text": [
      "False 的类型为：<class 'bool'>\n",
      "False 的类型为：<class 'bool'>\n",
      "False 的类型为：<class 'bool'>\n",
      "False 的类型为：<class 'bool'>\n"
     ]
    }
   ],
   "source": [
    "bl_none = bool(None)\n",
    "bl_blank = bool()\n",
    "bl_brackets = bool(())\n",
    "bl_0 = bool(0)\n",
    "print(\"%s 的类型为：%s\" %(bl_none, type(bl_none)))\n",
    "print(\"%s 的类型为：%s\" %(bl_blank, type(bl_blank)))\n",
    "print(\"%s 的类型为：%s\" %(bl_brackets, type(bl_brackets)))\n",
    "print(\"%s 的类型为：%s\" %(bl_0, type(bl_0)))"
   ]
  },
  {
   "cell_type": "markdown",
   "metadata": {},
   "source": [
    "## 字符串（str）类型\n",
    "字符串可由单引号或双引号（没区别）来创建，字符串是不可修改的。\n",
    "\n",
    "索引 - index 和 find\n",
    "\n",
    "index 和 find 都可以进行字符串的索引，区别在于索引的数据不存在的时候，index 返回的是 ValueError 错误；而 find 返回的是 -1。"
   ]
  },
  {
   "cell_type": "code",
   "execution_count": 29,
   "metadata": {},
   "outputs": [
    {
     "name": "stdout",
     "output_type": "stream",
     "text": [
      "1234cabdef 的 index 索引是 5\n",
      "1234cabdef 的 index 索引是不存在返回 'str' object is not callable\n",
      ".............................\n",
      "\n",
      "1234cabdef 的 index 索引是 5\n",
      "1234cabdef 的 index 索引是 -1\n"
     ]
    }
   ],
   "source": [
    "str_sample = \"1234cabdef\"\n",
    "index_str1 = str_sample.index(\"a\")\n",
    "print(\"%s 的 index 索引是 %s\" % (str_sample, index_str1))\n",
    "try:\n",
    "    index_str2 = str_sample(\"x\")\n",
    "except Exception as e:\n",
    "    print(\"%s 的 index 索引是不存在返回 %s\" % (str_sample, e))\n",
    "    \n",
    "print(\".............................\\n\")\n",
    "\n",
    "find_str1 = str_sample.find(\"ab\")\n",
    "print(\"%s 的 index 索引是 %s\" % (str_sample, find_str1))\n",
    "find_str2 =  str_sample.find(\"x\")\n",
    "print(\"%s 的 index 索引是 %s\" % (str_sample, find_str2))"
   ]
  },
  {
   "cell_type": "markdown",
   "metadata": {},
   "source": [
    "### 切片 - [start: end: step]"
   ]
  },
  {
   "cell_type": "code",
   "execution_count": 44,
   "metadata": {},
   "outputs": [
    {
     "name": "stdout",
     "output_type": "stream",
     "text": [
      "1234567890abcdef 的切片是：1234\n",
      "1234567890abcdef 的切片是：135\n"
     ]
    }
   ],
   "source": [
    "str_sample = \"1234567890abcdef\"\n",
    "section_str_1 = str_sample[0: 4]\n",
    "section_str_2 = str_sample[0: 6: 2]\n",
    "print(\"%s 的切片是：%s\" % (str_sample, section_str_1))\n",
    "print(\"%s 的切片是：%s\" % (str_sample, section_str_2))"
   ]
  },
  {
   "cell_type": "markdown",
   "metadata": {},
   "source": [
    "### 遍历 - for"
   ]
  },
  {
   "cell_type": "code",
   "execution_count": 53,
   "metadata": {},
   "outputs": [
    {
     "name": "stdout",
     "output_type": "stream",
     "text": [
      "字符串的元素有：1\n",
      "字符串的元素有：2\n",
      "字符串的元素有：3\n",
      "字符串的元素有：4\n",
      "字符串的元素有：5\n",
      "字符串的元素有：6\n",
      "字符串的元素有：7\n",
      "字符串的元素有：8\n",
      "字符串的元素有：9\n",
      "字符串的元素有：0\n",
      "字符串的元素有：a\n",
      "字符串的元素有：b\n",
      "字符串的元素有：c\n",
      "字符串的元素有：d\n",
      "字符串的元素有：e\n",
      "字符串的元素有：f\n"
     ]
    }
   ],
   "source": [
    "str_sample = \"1234567890abcdef\"\n",
    "for i in str_sample:\n",
    "    print(\"字符串的元素有：%s\" % i)\n",
    "# for i in range(len(str_sample)):\n",
    "#    print(\"字符串的元素有：%s\" % str_sample[i])"
   ]
  },
  {
   "cell_type": "markdown",
   "metadata": {},
   "source": [
    "### 删除 - del\n"
   ]
  },
  {
   "cell_type": "code",
   "execution_count": 55,
   "metadata": {},
   "outputs": [
    {
     "name": "stdout",
     "output_type": "stream",
     "text": [
      "del_str: name 'del_str' is not defined\n"
     ]
    }
   ],
   "source": [
    "del_str = \"del none\"\n",
    "del del_str\n",
    "try:\n",
    "    print(\"del_str: \", del_str)\n",
    "except Exception as e:\n",
    "    print(\"del_str: %s\" % e)"
   ]
  },
  {
   "cell_type": "markdown",
   "metadata": {},
   "source": [
    "### 分割 - split + partition\n",
    "partition 指定分隔符，split 指定分隔符分割"
   ]
  },
  {
   "cell_type": "code",
   "execution_count": 65,
   "metadata": {},
   "outputs": [
    {
     "name": "stdout",
     "output_type": "stream",
     "text": [
      "partition str is:   ('This', '-', 'is-a-good work tool.')\n",
      "split str is:  ['This-is-a-good', 'work', 'tool.']\n"
     ]
    }
   ],
   "source": [
    "par_spl_str = \"This-is-a-good work tool.\"\n",
    "par = par_spl_str.partition(\"-\")\n",
    "print(\"partition str is:  \", par)\n",
    "spl = par_spl_str.split(\" \", 2)\n",
    "print(\"split str is:  %s\" % spl)"
   ]
  },
  {
   "cell_type": "markdown",
   "metadata": {},
   "source": [
    "### 替换 - replace、strip、lstrip、rstrip"
   ]
  },
  {
   "cell_type": "code",
   "execution_count": 70,
   "metadata": {},
   "outputs": [
    {
     "name": "stdout",
     "output_type": "stream",
     "text": [
      "replace str is:   This is a bad boy. \n",
      "strip str(去掉字符串两端的空格) is:  This is a good boy.\n",
      "lstrip str(去掉字符串左端的空格) is:  This is a good boy. \n",
      "rstrip str(去掉字符串左端的空格) is:   This is a good boy.\n"
     ]
    }
   ],
   "source": [
    "str_sample = \" This is a good boy. \"\n",
    "print(\"replace str is: \", str_sample.replace(\"good\", \"bad\"))\n",
    "print(\"strip str(去掉字符串两端的空格) is: \", str_sample.strip())\n",
    "print(\"lstrip str(去掉字符串左端的空格) is: \", str_sample.lstrip())\n",
    "print(\"rstrip str(去掉字符串左端的空格) is: \", str_sample.rstrip())"
   ]
  },
  {
   "cell_type": "markdown",
   "metadata": {},
   "source": [
    "### 连接 - join"
   ]
  },
  {
   "cell_type": "code",
   "execution_count": 71,
   "metadata": {},
   "outputs": [
    {
     "name": "stdout",
     "output_type": "stream",
     "text": [
      "a-->b-->c-->d-->e-->f-->g-->h\n"
     ]
    }
   ],
   "source": [
    "str_sample = \"abcdefgh\"\n",
    "print(\"-->\".join(str_sample))"
   ]
  },
  {
   "cell_type": "markdown",
   "metadata": {},
   "source": [
    "### 大小写转化 \n",
    "    capitalize - 第一个单词首字母大写\n",
    "    lower - 所有字符转换为小写字母\n",
    "    upper - 所有字符转换为大写字母\n",
    "    title - 将字符串转换为标题形式\n",
    "    swapcase - 字符串大小写相互转换"
   ]
  },
  {
   "cell_type": "code",
   "execution_count": 20,
   "metadata": {},
   "outputs": [
    {
     "name": "stdout",
     "output_type": "stream",
     "text": [
      "capitalize str is: I am boy.\n",
      "lower str is: i am a boy.\n",
      "upper str is: I AM A BOY.\n",
      "title str is: I Am A Boy.\n",
      "swapcase str is: i aM a bOY.\n"
     ]
    }
   ],
   "source": [
    "capitalize_str = \"i am boy.\"\n",
    "print(\"capitalize str is: %s\" % capitalize_str.capitalize())\n",
    "lower_str = \"I AM A BOY.\"\n",
    "print(\"lower str is: %s\" % lower_str.lower())\n",
    "upper_str = \"i am a boy.\"\n",
    "print(\"upper str is: %s\" % upper_str.upper())\n",
    "title_str = \"i am a boy.\"\n",
    "print(\"title str is: %s\" % title_str.title())\n",
    "swapcase_str = \"I Am A Boy.\"\n",
    "print(\"swapcase str is: %s\" % swapcase_str.swapcase())"
   ]
  },
  {
   "cell_type": "markdown",
   "metadata": {},
   "source": [
    "### 字符串始末 - startswith、endswith"
   ]
  },
  {
   "cell_type": "code",
   "execution_count": 27,
   "metadata": {},
   "outputs": [
    {
     "name": "stdout",
     "output_type": "stream",
     "text": [
      "str_sample startswith is: True\n",
      "str_sample startswith is: False\n",
      "str_sample endswith is: True\n",
      "str_sample endswith is: False\n"
     ]
    }
   ],
   "source": [
    "str_sample = \"We are lovely person.\"\n",
    "print(\"str_sample startswith is: %s\" % str_sample.startswith(\"We\"))\n",
    "print(\"str_sample startswith is: %s\" % str_sample.startswith(\"we\"))\n",
    "print(\"str_sample endswith is: %s\" % str_sample.endswith(\"n.\"))\n",
    "print(\"str_sample endswith is: %s\" % str_sample.endswith(\"n\"))"
   ]
  },
  {
   "cell_type": "markdown",
   "metadata": {},
   "source": [
    "### 判断字符串\n",
    "    isalnum - 字符串是数字或字母的组合\n",
    "    isalpha - 字符串是字母组合\n",
    "    isdigit - 字符串是数字组合"
   ]
  },
  {
   "cell_type": "code",
   "execution_count": 43,
   "metadata": {},
   "outputs": [
    {
     "name": "stdout",
     "output_type": "stream",
     "text": [
      "数字或字母组合\n",
      "字母组合\n",
      "数字组合\n",
      "数字或字母组合\n"
     ]
    }
   ],
   "source": [
    "def judge_str(str_sample):\n",
    "    if str_sample.isdigit() == True:\n",
    "        print(\"数字组合\")\n",
    "    elif str_sample.isalpha() == True:\n",
    "        print(\"字母组合\")\n",
    "    elif str_sample.isalnum() == True:\n",
    "        print(\"数字或字母组合\")\n",
    "    else:\n",
    "        print(\"混杂组合\")\n",
    "        \n",
    "if __name__ == \"__main__\":\n",
    "    str_sample_1 = \"abc123\"\n",
    "    str_sample_2 = \"abc\"\n",
    "    str_sample_3 = \"123\"\n",
    "    str_sample_4 = \"abc123字符串\"\n",
    "    judge_str(str_sample_1)\n",
    "    judge_str(str_sample_2)\n",
    "    judge_str(str_sample_3)\n",
    "    judge_str(str_sample_4)\n"
   ]
  },
  {
   "cell_type": "markdown",
   "metadata": {},
   "source": [
    "### 格式化输出 - %、format、format_map"
   ]
  },
  {
   "cell_type": "code",
   "execution_count": 51,
   "metadata": {},
   "outputs": [
    {
     "name": "stdout",
     "output_type": "stream",
     "text": [
      "My name is A, i am 26 years old.\n",
      "My name is B, i am 25 years old.\n",
      "My name is c, i am 27 years old.\n"
     ]
    }
   ],
   "source": [
    "str_sample = \"My name is {name}, i am {age} years old.\"\n",
    "print(str_sample.format(name=\"A\", age=26))\n",
    "print(str_sample.format_map({\"name\": \"B\", \"age\": 25}))\n",
    "print(\"My name is %s, i am %s years old.\" % (\"c\", 27))"
   ]
  },
  {
   "cell_type": "markdown",
   "metadata": {},
   "source": [
    "### 扩展 - expandtabs"
   ]
  },
  {
   "cell_type": "code",
   "execution_count": 52,
   "metadata": {},
   "outputs": [
    {
     "name": "stdout",
     "output_type": "stream",
     "text": [
      "str_sample expandtabs str is: name    age     sex     A       22      '男'     B       23      '女'\n"
     ]
    }
   ],
   "source": [
    "str_sample = \"name\\tage\\tsex\\tA\\t22\\t'男'\\tB\\t23\\t'女'\"\n",
    "print(\"str_sample expandtabs str is: %s\" % str_sample.expandtabs())"
   ]
  },
  {
   "cell_type": "markdown",
   "metadata": {},
   "source": [
    "## 列表（list）\n",
    "&emsp;&emsp;是由一系列特定元素顺序排列的元素组成，组成元素组成可以是：数字、字符串、列表、元组、布尔值、字典，列表是可以修改的。"
   ]
  },
  {
   "cell_type": "markdown",
   "metadata": {},
   "source": [
    "### "
   ]
  }
 ],
 "metadata": {
  "kernelspec": {
   "display_name": "Python 3",
   "language": "python",
   "name": "python3"
  },
  "language_info": {
   "codemirror_mode": {
    "name": "ipython",
    "version": 3
   },
   "file_extension": ".py",
   "mimetype": "text/x-python",
   "name": "python",
   "nbconvert_exporter": "python",
   "pygments_lexer": "ipython3",
   "version": "3.5.3"
  },
  "latex_envs": {
   "LaTeX_envs_menu_present": true,
   "autoclose": false,
   "autocomplete": true,
   "bibliofile": "biblio.bib",
   "cite_by": "apalike",
   "current_citInitial": 1,
   "eqLabelWithNumbers": true,
   "eqNumInitial": 1,
   "hotkeys": {
    "equation": "Ctrl-E",
    "itemize": "Ctrl-I"
   },
   "labels_anchors": false,
   "latex_user_defs": false,
   "report_style_numbering": false,
   "user_envs_cfg": false
  },
  "toc": {
   "base_numbering": 1,
   "nav_menu": {
    "height": "272.993px",
    "width": "615.998px"
   },
   "number_sections": true,
   "sideBar": true,
   "skip_h1_title": false,
   "title_cell": "XXXXXX",
   "title_sidebar": "BasicPython",
   "toc_cell": false,
   "toc_position": {
    "height": "calc(100% - 180px)",
    "left": "10px",
    "top": "150px",
    "width": "266.635px"
   },
   "toc_section_display": true,
   "toc_window_display": true
  },
  "varInspector": {
   "cols": {
    "lenName": 16,
    "lenType": 16,
    "lenVar": 40
   },
   "kernels_config": {
    "python": {
     "delete_cmd_postfix": "",
     "delete_cmd_prefix": "del ",
     "library": "var_list.py",
     "varRefreshCmd": "print(var_dic_list())"
    },
    "r": {
     "delete_cmd_postfix": ") ",
     "delete_cmd_prefix": "rm(",
     "library": "var_list.r",
     "varRefreshCmd": "cat(var_dic_list()) "
    }
   },
   "types_to_exclude": [
    "module",
    "function",
    "builtin_function_or_method",
    "instance",
    "_Feature"
   ],
   "window_display": false
  }
 },
 "nbformat": 4,
 "nbformat_minor": 1
}
