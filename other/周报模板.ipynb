{
 "cells": [
  {
   "cell_type": "markdown",
   "metadata": {},
   "source": [
    "# 项目\n",
    "\n",
    "## 本周工作\n",
    "\n",
    "### 商城优惠券\n",
    "\n",
    "#### 测试任务\n",
    "#### 测试模块\n",
    "#### 测试版本\n",
    "#### bug统计\n",
    "\n",
    "## 下周计划"
   ]
  },
  {
   "attachments": {},
   "cell_type": "markdown",
   "metadata": {},
   "source": [
    "<table>\n",
    "    <tr>\n",
    "        <td rowspan=\"2\"> 目录 </td>\n",
    "    </tr>\n",
    "     <tr>\n",
    "        <td>  补天2.0 + 众测2.0（2020.03.09 - 2020.03.13） </td>\n",
    "    </tr>\n",
    "    \n",
    "    <tr>\n",
    "        <td rowspan=\"5\"> 本周工作 </td>\n",
    "    </tr>\n",
    "    \n",
    "    <tr>\n",
    "        <td>1、商城优惠券</td>\n",
    "        <td>\n",
    "            项目名称\n",
    "        </td>\n",
    "    </tr>\n",
    "    \n",
    "    <tr>\n",
    "        <td>作    者：</td>\n",
    "        <td></td>\n",
    "    </tr>\n",
    "    <tr>\n",
    "        <td>创建日期：</td>\n",
    "        <td></td>\n",
    "    </tr>\n",
    "    \n",
    "</table>"
   ]
  }
 ],
 "metadata": {
  "kernelspec": {
   "display_name": "Python 3",
   "language": "python",
   "name": "python3"
  },
  "language_info": {
   "codemirror_mode": {
    "name": "ipython",
    "version": 3
   },
   "file_extension": ".py",
   "mimetype": "text/x-python",
   "name": "python",
   "nbconvert_exporter": "python",
   "pygments_lexer": "ipython3",
   "version": "3.8.0rc1"
  },
  "toc": {
   "base_numbering": 1,
   "nav_menu": {},
   "number_sections": true,
   "sideBar": true,
   "skip_h1_title": false,
   "title_cell": "Table of Contents",
   "title_sidebar": "Contents",
   "toc_cell": false,
   "toc_position": {},
   "toc_section_display": true,
   "toc_window_display": false
  }
 },
 "nbformat": 4,
 "nbformat_minor": 1
}