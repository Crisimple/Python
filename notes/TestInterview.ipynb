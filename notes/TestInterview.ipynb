{
 "cells": [
  {
   "cell_type": "markdown",
   "metadata": {
    "collapsed": true
   },
   "source": [
    "# Python篇\n",
    "作为一个测试开发工程师，写代码是必备的技能，这也是很多大厂面试必备的环节。下面对这些常考的问题梳理下，做一下归类：\n",
    "\n",
    "https://www.cnblogs.com/uncleyong/\n",
    "\n",
    "https://www.cnblogs.com/yoyoketang/"
   ]
  },
  {
   "cell_type": "markdown",
   "metadata": {},
   "source": [
    "## 常问考点"
   ]
  },
  {
   "cell_type": "markdown",
   "metadata": {},
   "source": [
    "### Python的深浅拷贝"
   ]
  },
  {
   "cell_type": "code",
   "execution_count": 24,
   "metadata": {},
   "outputs": [
    {
     "name": "stdout",
     "output_type": "stream",
     "text": [
      "list_sample:  [1, 2, 3, [4, 5]]\n",
      "list_copy:  [1, 2, 3, [4, 5]]\n",
      "list_sample:  [1, 2, 3, [4, 5], 6]\n",
      "list_copy:  [1, 2, 3, [4, 5]]\n",
      "list_sample:  [1, 2, 3, [4, 5], 6]\n",
      "list_copy:  [1, 2, 3, [4, 5], 777] \n",
      "\n",
      "list_sample_2:  [1, 2, 3, [4, 5]]\n",
      "list_copy_2:  [1, 2, 3, [4, 5]]\n",
      "list_sample_2:  [1, 2, 3, [4, 5, 222]]\n",
      "list_copy_2:  [1, 2, 3, [4, 5, 222]]\n",
      "list_sample_2:  [1, 2, 3, [4, 5, 222, 222333]]\n",
      "list_copy_2:  [1, 2, 3, [4, 5, 222, 222333]]\n"
     ]
    }
   ],
   "source": [
    "# [浅拷贝] --- copy.copy()只拷贝父对象，不拷贝内部对象的子对象（不管拷贝多复杂，只拷贝第一层）\n",
    "import copy\n",
    "\n",
    "list_sample = [1, 2, 3, [4, 5]]\n",
    "list_copy = copy.copy(list_sample)\n",
    "print(\"list_sample: \", list_sample)\n",
    "print(\"list_copy: \", list_copy)\n",
    "# 第一层源数据改变：源列表 list_sample 数据更改，增加数值；list_sample的值改变，list_copy的值不改变\n",
    "list_sample.append(6)\n",
    "print(\"list_sample: \", list_sample)\n",
    "print(\"list_copy: \", list_copy)\n",
    "# 第一层拷贝数据改变：list_copy 数据更改，增加数值 list_copy.append(66), list_copy 数值改变，而 list_sample 的值不变\n",
    "list_copy.append(777)\n",
    "print(\"list_sample: \", list_sample)\n",
    "print(\"list_copy: \", list_copy, \"\\n\")\n",
    "\n",
    "# 第二层数据改变\n",
    "list_sample_2 =  [1, 2, 3, [4, 5]]\n",
    "list_copy_2 = copy.copy(list_sample_2)\n",
    "print(\"list_sample_2: \", list_sample_2)\n",
    "print(\"list_copy_2: \", list_copy_2)\n",
    "# 第二层源数据改变\n",
    "list_sample_2[3].append(222)\n",
    "print(\"list_sample_2: \", list_sample_2)\n",
    "print(\"list_copy_2: \", list_copy_2)\n",
    "# 第二层拷贝数据改变\n",
    "list_copy_2[3].append(222333)\n",
    "print(\"list_sample_2: \", list_sample_2)\n",
    "print(\"list_copy_2: \", list_copy_2)"
   ]
  },
  {
   "cell_type": "code",
   "execution_count": 45,
   "metadata": {},
   "outputs": [
    {
     "name": "stdout",
     "output_type": "stream",
     "text": [
      "list_deep1:  [1, 2, [3, 4]]\n",
      "list_deep_copy1:  [1, 2, [3, 4]] \n",
      "\n",
      "list_deep1:  [1, 2, [3, 4], 29]\n",
      "list_deep_copy1:  [1, 2, [3, 4]]\n",
      "list_deep1:  [1, 2, [3, 4], 29]\n",
      "list_deep_copy1:  [1, 2, [3, 4], 291] \n",
      "\n",
      "list_deep1:  [1, 2, [3, 4, 291], 29]\n",
      "list_deep_copy1:  [1, 2, [3, 4], 291]\n",
      "list_deep1:  [1, 2, [3, 4, 291], 29]\n",
      "list_deep_copy1:  [1, 2, [3, 4, 2922], 291]\n"
     ]
    }
   ],
   "source": [
    "# 【深拷贝】--- copy.deepcopy 方法，完全拷贝了父对象及其子对象\n",
    "list_deep1 = [1, 2, [3, 4]]\n",
    "list_deep_copy1 = copy.deepcopy(list_deep1)\n",
    "print(\"list_deep1: \", list_deep1)\n",
    "print(\"list_deep_copy1: \", list_deep_copy1, '\\n')\n",
    "\n",
    "# 第一层源数据改变，不会影响拷贝数据\n",
    "list_deep1.append(29)\n",
    "print(\"list_deep1: \", list_deep1)\n",
    "print(\"list_deep_copy1: \", list_deep_copy1)\n",
    "# 第一层拷贝数据改变，不影响源数据\n",
    "list_deep_copy1.append(291)\n",
    "print(\"list_deep1: \", list_deep1)\n",
    "print(\"list_deep_copy1: \", list_deep_copy1, '\\n')\n",
    "\n",
    "# 第二层数据改变，不会影响拷贝数据\n",
    "list_deep1[2].append(291)\n",
    "print(\"list_deep1: \", list_deep1)\n",
    "print(\"list_deep_copy1: \", list_deep_copy1)\n",
    "# 第二层拷贝数据改变，不影响源数据\n",
    "list_deep_copy1[2].append(2922)\n",
    "print(\"list_deep1: \", list_deep1)\n",
    "print(\"list_deep_copy1: \", list_deep_copy1)"
   ]
  },
  {
   "cell_type": "code",
   "execution_count": 46,
   "metadata": {},
   "outputs": [
    {
     "name": "stdout",
     "output_type": "stream",
     "text": [
      "a:  [1, 2, 3, [4, 5, 6]]\n",
      "b:  [1, 2, 3, [4, 5, 6]] \n",
      "\n",
      "a:  [1, 2, 3, [4, 5, 6], 111]\n",
      "b:  [1, 2, 3, [4, 5, 6], 111] \n",
      "\n",
      "a:  [1, 2, 3, [4, 5, 6], 111, 222]\n",
      "b:  [1, 2, 3, [4, 5, 6], 111, 222] \n",
      "\n",
      "a:  [1, 2, 3, [4, 5, 6, 777], 111, 222]\n",
      "b:  [1, 2, 3, [4, 5, 6, 777], 111, 222] \n",
      "\n",
      "a:  [1, 2, 3, [4, 5, 6, 777, 888], 111, 222]\n",
      "b:  [1, 2, 3, [4, 5, 6, 777, 888], 111, 222] \n",
      "\n"
     ]
    }
   ],
   "source": [
    "# 【直接赋值】--- 相当于对象的引用，新起了一个别名；引用和原对象都指向同一对象\n",
    "\n",
    "a = [1, 2, 3, [4, 5, 6]]\n",
    "b = a\n",
    "print(\"a: \", a)\n",
    "print(\"b: \", b, '\\n')\n",
    "\n",
    "# 第一层数据改变\n",
    "a.append(111)\n",
    "print(\"a: \", a)\n",
    "print(\"b: \", b, '\\n')\n",
    "# 第一层赋值数据改变\n",
    "b.append(222)\n",
    "print(\"a: \", a)\n",
    "print(\"b: \", b, '\\n')\n",
    "\n",
    "\n",
    "# 第二层数据改变\n",
    "a[3].append(777)\n",
    "print(\"a: \", a)\n",
    "print(\"b: \", b, '\\n')\n",
    "# 第二层赋值数据改变\n",
    "b[3].append(888)\n",
    "print(\"a: \", a)\n",
    "print(\"b: \", b, '\\n')"
   ]
  },
  {
   "cell_type": "markdown",
   "metadata": {},
   "source": [
    "### sys 和 os的区别"
   ]
  },
  {
   "cell_type": "markdown",
   "metadata": {},
   "source": [
    "+ **os**：使用操作系统函数的方法，负责程序与操作系统的交互，提供了访问系统底层的接口\n",
    "```python\n",
    "os.remove(‘path/filename’) # 删除文件\n",
    "os.rename(oldname, newname)  # 重命名文件\n",
    "os.walk()  # 生成目录树下的所有文件名\n",
    "os.chdir('dirname') #  改变目录\n",
    "os.mkdir/makedirs('dirname') # 创建目录/多层目录\n",
    "os.rmdir/removedirs('dirname')  # 删除目录/多层目录\n",
    "os.listdir('dirname')  # 列出指定目录的文件\n",
    "os.getcwd()  # 取得当前工作目录\n",
    "os.chmod()  # 改变目录权限\n",
    "os.path.basename(‘path/filename’)  # 去掉目录路径，返回文件名\n",
    "os.path.dirname(‘path/filename’)  # 去掉文件名，返回目录路径\n",
    "os.path.join(path1[,path2[,...]])  # 将分离的各部分组合成一个路径名\n",
    "os.path.split('path')  # 返回( dirname(), basename())元组\n",
    "os.path.splitext()  # 返回 (filename, extension) 元组\n",
    "os.path.getatime\\ctime\\mtime  # 分别返回最近访问、创建、修改时间\n",
    "os.path.getsize()  # 返回文件大小\n",
    "os.path.exists()  # 是否存在\n",
    "os.path.isabs()  # 是否为绝对路径\n",
    "os.path.isdir()  # 是否为目录\n",
    "os.path.isfile() #  是否为文件\n",
    "```\n",
    "\n",
    "+ **sys**：负责程序与python解释器的交互，提供了一系列的函数与变量，用于控制python运行时环境\n",
    "```python\n",
    "sys.argv  #  命令行参数List，第一个元素是程序本身路径\n",
    "sys.modules.keys()  #  返回所有已经导入的模块列表\n",
    "sys.exc_info()  #  获取当前正在处理的异常类,exc_type、exc_value、exc_traceback当前处理的异常详细信息\n",
    "sys.exit(n)  #  退出程序，正常退出时exit(0)\n",
    "sys.hexversion  #  获取Python解释程序的版本值，16进制格式如：0x020403F0\n",
    "sys.version  #  获取Python解释程序的版本信息\n",
    "sys.maxint  #  最大的Int值\n",
    "sys.maxunicode  #  最大的Unicode值\n",
    "sys.modules  #  返回系统导入的模块字段，key是模块名，value是模块\n",
    "sys.path  #  返回模块的搜索路径，初始化时使用PYTHONPATH环境变量的值\n",
    "sys.platform  #  返回操作系统平台名称\n",
    "sys.stdout  #  标准输出\n",
    "sys.stdin  #  标准输入\n",
    "sys.stderr #   错误输出\n",
    "sys.exc_clear()  #  用来清除当前线程所出现的当前的或最近的错误信息\n",
    "sys.exec_prefix  #  返回平台独立的python文件安装的位置\n",
    "sys.byteorder  #  本地字节规则的指示器，big-endian平台的值是'big',little-endian平台的值是'little'\n",
    "sys.copyright  #  记录python版权相关的东西\n",
    "sys.api_version  #  解释器的C的API版本\n",
    "# sys.stdin,sys.stdout,sys.stderr变量包含与标准I/O 流对应的流对象. 如果需要更好地控制输出,而print 不能满足要求, 它们就是所需要的. 你也可以替换它们, 这时候你就可以重定向输出和输入到其它设备( device ), 或者以非标准的方式处理它们\n",
    "```"
   ]
  },
  {
   "cell_type": "markdown",
   "metadata": {},
   "source": [
    "### Python 垃圾回收机制"
   ]
  },
  {
   "cell_type": "markdown",
   "metadata": {},
   "source": [
    "Python垃圾回收机制又称（内存管理机制）。写代码的时候主要是关注的业务逻辑，其中的原理不甚了解。出来混迟早要还的，要明白内存的使用机制才能更好的优化代码的性能。\n",
    "\n",
    "[Python垃圾回收主要以引用计数为主，分代回收为辅。](https://blog.csdn.net/xiongchengluo1129/article/details/80462651)\n",
    "\n",
    "+ **引用计数**：原理是每个对象维护一个 ob_ref，用来记录当前对象被引用的次数，也就是多少个引用指向了对象。\n",
    "    + 以下4种情况对象的引用计数+1\n",
    "        - 对象被创建  a = 15\n",
    "        - 对象被引用  b = a\n",
    "        - 对象被作为参数，传到函数  func(a)\n",
    "        - 对象作为一个元素，存储在容器中  List = {1, \"a\", 2}\n",
    "    + 以下4种情况对象的引用计数-1\n",
    "        - 对象名被显式销毁时 del a\n",
    "        - 对象的引用别名被赋予新的对象 a = 26\n",
    "        - 一个对离开它的作用域，例如 func 函数执行完毕时，函数里面的局部变量的引用计数减一，全局变量不会\n",
    "        - 将元素从容器中删除，或者容器被销毁时。\n",
    "    + 引用计数的优缺点：\n",
    "        - 优点：\n",
    "            + 高效\n",
    "            + 运行期没有停顿 可以类比一下Ruby的垃圾回收机制，也就是 实时性：一旦没有引用，内存就直接释放了。不用像其他机制等到特定时机。实时性还带来一个好处：处理回收内存的时间分摊到了平时\n",
    "            + 对象有确定的生命周期\n",
    "            + 易于实现\n",
    "        - 缺点：\n",
    "            - 维护引用计数消耗资源，维护引用计数的次数和引用赋值成正比，而不像mark and sweep等基本与回收的内存数量有关。\n",
    "            - 无法解决循环引用的问题。A和B相互引用而再没有外部引用A与B中的任何一个，它们的引用计数都为1，但显然应该被回收。循环引用的示例：\n",
    "            ```python\n",
    "                list1 = []\n",
    "                list2 = []\n",
    "                list1.append(list2)\n",
    "                list2.append(list1)\n",
    "            ```\n",
    "       \n",
    "       \n",
    "```c\n",
    "# 源码分析\n",
    "# Python里面每一个东西都是对象，他们的核心是一个结构体Py_Object，所有Python对象的头部包含了这样一个结构PyObject\n",
    "# object.h\n",
    "struct _object {\n",
    "    Py_ssize_t ob_refcnt;  # 引用计数值\n",
    "    struct PyTypeObject *ob_type;\n",
    "} PyObject;\n",
    "\n",
    "# 看一个比较具体点的例子，int型对象的定义：\n",
    "// intobject.h\n",
    "typedef struct {\n",
    "        PyObject_HEAD\n",
    "        long ob_ival;\n",
    "} PyIntObject;\n",
    "\n",
    "```\n",
    "\n",
    "+ **分代回收**\n",
    "\n",
    "        （1）分配内存\n",
    "        ---> （2）发现超过阈值了\n",
    "         ---> （3）触发垃圾回收\n",
    "         ---> （4）将所有可收集对象链表放到一起\n",
    "         ---> （5）遍历, 计算有效引用计数\n",
    "         ---> （6）分成 有效引用计数=0 和 有效引用计数 > 0 两个集合\n",
    "         ---> （7）大于0的, 放入到更老一代\n",
    "         ---> （8）=0的, 执行回收\n",
    "         ---> （9）回收遍历容器内的各个元素, 减掉对应元素引用计数(破掉循环引用)\n",
    "         ---> （10）执行-1的逻辑, 若发现对象引用计数=0, 触发内存回收\n",
    "         ---> （11）python底层内存管理机制回收内存\n",
    "    \n",
    "Python中, 引入了分代收集, 总共三个”代”. Python 中, 一个代就是一个链表, 所有属于同一”代”的内存块都链接在同一个链表中用来表示“代”的结构体是gc_generation， 包括了当前代链表表头、对象数量上限、当前对象数量：\n",
    "\n",
    "Python默认定义了三代对象集合，索引数越大，对象存活时间越长\n",
    "\n",
    "新生成的对象会被加入第0代，前面_PyObject_GC_Malloc中省略的部分就是Python GC触发的时机。每新生成一个对象都会检查第0代有没有满，如果满了就开始着手进行垃圾回收.\n",
    "\n",
    "分代回收总结:\n",
    "\n",
    "  分代回收是一种以空间换时间的操作方式，Python将内存根据对象的存活时间划分为不同的集合，每个集合称为一个代，Python将内存分为了3“代”，分别为年轻代（第0代）、中年代（第1代）、老年代（第2代），他们对应的是3个链表，它们的垃圾收集频率与对象的存活时间的增大而减小。新创建的对象都会分配在年轻代，年轻代链表的总数达到上限时，Python垃圾收集机制就会被触发，把那些可以被回收的对象回收掉，而那些不会回收的对象就会被移到中年代去，依此类推，老年代中的对象是存活时间最久的对象，甚至是存活于整个系统的生命周期内。同时，分代回收是建立在标记清除技术基础之上。分代回收同样作为Python的辅助垃圾收集技术处理那些容器对象.\n"
   ]
  },
  {
   "cell_type": "markdown",
   "metadata": {},
   "source": [
    "### 变量与对象\n",
    "\n",
    " 变量通过变量指针引用对象, 变量指针指向具体的内存空间, 取对象的值.\n",
    " \n",
    " 对象，类型已知，每个对象都包含一个头部信息（头部信息：类型标识符和引用计数器）\n",
    " \n",
    "变量名没有类型，类型属于对象（因为变量引用对象，所以类型随对象），变量引用什么类型的对象，变量就是什么类型的\n",
    "\n",
    "通过is进行引用所指判断，is是用来判断两个引用所指的对象是否相同"
   ]
  },
  {
   "cell_type": "code",
   "execution_count": 51,
   "metadata": {},
   "outputs": [
    {
     "name": "stdout",
     "output_type": "stream",
     "text": [
      "True\n",
      "True\n"
     ]
    }
   ],
   "source": [
    "# 整数\n",
    "a = 1 \n",
    "b = 1\n",
    "print(a is b)\n",
    "\n",
    "# 短字符串\n",
    "c = \"good\"\n",
    "d = \"good\"\n",
    "print(c is d)\n",
    "\n",
    "# 总结：Python缓存了整数和短字符串，因此每个对象在内存中只存有一份，引用所指对象就是相同的，即使使用赋值语句，也只是创造新的引用，而不是对象本身"
   ]
  },
  {
   "cell_type": "code",
   "execution_count": 56,
   "metadata": {},
   "outputs": [
    {
     "name": "stdout",
     "output_type": "stream",
     "text": [
      "False\n",
      "False\n"
     ]
    }
   ],
   "source": [
    "# 长字符串\n",
    "e = \"very good\"\n",
    "f = \"very good\"\n",
    "print(e is f)\n",
    "\n",
    "# 列表\n",
    "list_1 = []\n",
    "list_2 = []\n",
    "print(list_1 is list_2)\n",
    "\n",
    "# 总结：\n",
    "# Python没有缓存长字符串、列表及其他对象，可以由多个相同的对象，可以使用赋值语句创建出新的对象。\n",
    "# python中对大于256的整数，会重新分配对象空间地址保存对象；对于字符串来说，如果不包含空格的字符串，则不会重新分配对象空间，对于包含空格的字符串则会重新分配"
   ]
  },
  {
   "cell_type": "markdown",
   "metadata": {},
   "source": [
    "### 迭代器与生成器"
   ]
  },
  {
   "cell_type": "markdown",
   "metadata": {},
   "source": [
    "+ **迭代器** 指的是迭代取值的工具，迭代是一个重复的过程，每一次的重复都是基于上一次的结果而进行的；迭代提供了不依赖于索引而进行取值的方法。\n",
    "    - 可迭代对象 但凡内置 _iter_ 方法的对象，都称之为可迭代对象。Python常见数据类型中，str、list、tuple、dict、set、文件对象都是可迭代对象。\n",
    "    - 迭代器对象 （1）既内置 __next__方法，（2）又有 __iter__方法的对象，执行迭代器的 _iter_ 方法得到的依然是迭代器对象本身，执行 _next_ 方法可以不依赖索引进行取值。\n",
    "    - 总的来说： 迭代器一定是可迭代对象，而可迭代对象不一定是迭代器。\n",
    "\n",
    "+ **生成器**：是 迭代器的一种，使用 yield 返回函数值，每次调用 yield 会暂停，可以使用 next() 和 send() 函数恢复生成器。常用于生成比较大的列表数据时，受制于内存大小的限制，生成器就派上用场了。\n",
    "\n",
    "+ **两者的区别**：生成器能做到迭代器能做的所有事, 而且因为自动创建了\\__iter\\__() 和 \\__next\\__()方法, 生成器显得特别简洁, 而且生成器也是高效的，使用生成器表达式取代列表解析可以同时节省内存。除了创建和保存程序状态的自动方法, 当发生器终结时, 还会自动抛出StopIteration异常。\n",
    "\n",
    "【[详细解说参考](./BasicPython.ipynb)】"
   ]
  },
  {
   "cell_type": "markdown",
   "metadata": {},
   "source": [
    "### 全局解释器锁"
   ]
  },
  {
   "cell_type": "markdown",
   "metadata": {},
   "source": [
    "**全局解释器锁**：Global Interpreter Lock，Python代码的执行由Python虚拟机（也叫解释器主循环），Python 在设计之初就考虑到在主循环中同时只能有一个线程执行，即在任何时候只有一个线程在解释器中运行。对Python 虚拟机的访问由全局解释器锁（GIL）来控制，正是这个锁保证了同一时刻只有一个线程在运行。\n",
    "\n",
    "在多线程环境下，Python的虚拟机按以下方式进行：\n",
    "\n",
    "    （1）设置 GIL；\n",
    "    （2）切换到一个线程去执行；\n",
    "    （3）运行：指定数量的字节指令，或者线程主动让出控制（可以调用time.sleep()）\n",
    "    （4）把线程设置为睡眠状态；\n",
    "    （5）解锁GIL；\n",
    "    （6）再次重复以上的所有执行步骤\n",
    "在调用外部函数时，GIL会被锁定，直到这个函数执行结束为止。"
   ]
  },
  {
   "cell_type": "markdown",
   "metadata": {},
   "source": [
    "### 如何提交Python效率"
   ]
  },
  {
   "cell_type": "markdown",
   "metadata": {},
   "source": [
    "+ 使用生成器\n",
    "+ 关键代码使用外部功能包（Cythpn， pylnlne, pypy, pyrex）\n",
    "+ 针对循环优化，尽量避免在主循环中访问变量的属性"
   ]
  },
  {
   "cell_type": "markdown",
   "metadata": {},
   "source": [
    "## 数据处理"
   ]
  },
  {
   "cell_type": "markdown",
   "metadata": {},
   "source": [
    "### 数据统计"
   ]
  },
  {
   "cell_type": "markdown",
   "metadata": {},
   "source": [
    "**统计一个字符串中每个字符元素出现的次数。**\n",
    "\n",
    "例如：str_sample = \"1122abcdas\", 1 出现了 2 次，2 出现了 2 次......\n",
    "\n",
    "**思路一：** 字典思路，利用字典的键天然去重特性。定义空字典，遍历字符元素并统计元素的个数赋值给字段，字符串元素做key，统计个数做value\n",
    "\n",
    "**思路二：** 利用 Python 的 collections 中的 Counter 方法，进行个数的统计，还可以进行指定文件中某个单词出现的个数的统计"
   ]
  },
  {
   "cell_type": "code",
   "execution_count": null,
   "metadata": {},
   "outputs": [],
   "source": [
    "str_sample = \"we are happy jober.\"\n",
    "str_sample = str_sample.replace(\" \", \"\")\n",
    "\n",
    "print(\"思路一：\")\n",
    "dict_str = {}\n",
    "for i in str_sample:\n",
    "    dict_str[i] = str_sample.count(i)\n",
    "print(dict_str)\n",
    "\n",
    "print(\"\\n思路二：\")\n",
    "from collections import Counter\n",
    "counts = Counter(str_sample)\n",
    "print(counts)\n",
    "# -------------\n",
    "# ---> 改变成统计某段文章中a字母出现的次数\n",
    "with open(\"data/count.txt\", 'r', encoding=\"utf-8\") as fr:\n",
    "    text = fr.read().split(\" \")\n",
    "count_text = Counter(text)\n",
    "print(\"各个单词出现的次数：%s\" % (count_text))\n",
    "print(\"字母 %s 出现的次数：%s\" % (\"are\", count_text[\"are\"]))"
   ]
  },
  {
   "cell_type": "markdown",
   "metadata": {},
   "source": [
    "**统计在一个队列中的数字，有多少个正数，多少个负数**\n",
    "\n",
    "如[1, 3, 5, 7, 0, -1, -9, -4, -5, 8]\n",
    "\n",
    "**思路一**：遍历列表，根据与0的比较，生成正数列表和负数列表，然后分别求两个列表的长度。\n",
    "\n",
    "**思路二**：遍历列表，判断每个元素与0比较，用变量进行数据统计"
   ]
  },
  {
   "cell_type": "code",
   "execution_count": null,
   "metadata": {},
   "outputs": [],
   "source": [
    "list_sample = [1, 3, 5, 7, 0, -1, -9, -4, -5, 8]\n",
    "\n",
    "# 思路一：\n",
    "list_1 = [i for i in list_sample if i > 0]\n",
    "print(\"正数的个数有：%s\" % len(list_1))\n",
    "list_2 = [i for i in list_sample if i < 0]\n",
    "print(\"负数的个数有：%s\" % len(list_2))\n",
    "\n",
    "\n",
    "# 思路二：\n",
    "positive_num = 0\n",
    "negative_num = 0\n",
    "for i in list_sample:\n",
    "    if i > 0:\n",
    "        positive_num += 1\n",
    "    elif i < 0:\n",
    "        negative_num += 1\n",
    "    else:\n",
    "        pass\n",
    "print(\"正数的个数有：%s\" % positive_num)\n",
    "print(\"正数的个数有：%s\" % negative_num)"
   ]
  },
  {
   "cell_type": "markdown",
   "metadata": {},
   "source": [
    "### 切片"
   ]
  },
  {
   "cell_type": "markdown",
   "metadata": {},
   "source": [
    "**字符串切片**\n",
    "\n",
    "用字符串 \"axbyczdj\"，得到 “abcd“ 字符串"
   ]
  },
  {
   "cell_type": "code",
   "execution_count": 55,
   "metadata": {},
   "outputs": [
    {
     "name": "stdout",
     "output_type": "stream",
     "text": [
      "新字符串为：abcd\n",
      "新字符串为： abcd\n"
     ]
    }
   ],
   "source": [
    "str_sample = \"axbyczdj\"\n",
    "print(\"新字符串为：%s\" % str_sample[::2])\n",
    "\n",
    "c = []\n",
    "for i in range(len(str_sample)):\n",
    "    if i % 2 == 0:\n",
    "        c.append(str_sample[i])\n",
    "print(\"新字符串为：\", \"\".join(c))"
   ]
  },
  {
   "cell_type": "markdown",
   "metadata": {},
   "source": [
    "字符串为“hello_world_yoyo”, 如何得到一个队列 [\"hello\",\"world\",\"yoyo\"]"
   ]
  },
  {
   "cell_type": "code",
   "execution_count": null,
   "metadata": {},
   "outputs": [],
   "source": [
    "str_sample = \"Hello_Jupyter_Notebook\"\n",
    "new_sample = str_sample.split(\"_\")\n",
    "print(new_sample)\n",
    "print(type(new_sample))\n",
    "print(\"\".join(new_sample))"
   ]
  },
  {
   "cell_type": "markdown",
   "metadata": {},
   "source": [
    "### 排序\n",
    "排序问题是面试中经常遇到的经典问题，一共有 7 种排序的方法；这里介绍常见的排序方法、时间复杂度及空间复杂度。\n",
    "https://blog.csdn.net/m1090760001/article/details/103217052\n",
    "\n",
    "https://www.cnblogs.com/fwl8888/p/9315730.html"
   ]
  },
  {
   "cell_type": "markdown",
   "metadata": {},
   "source": [
    "**冒泡排序（Bubble Sort）**\n",
    "\n",
    "\n",
    "重复地遍历要排序的数列，一次比较两个元素，如果他们的顺序错误就交换他们的顺序，直到没有需要交换的排序完成。为什么叫冒泡排序呢？越小的元素交换后会慢慢地”浮“到数列的订单。\n",
    "\n",
    "**排序过程**：\n",
    "\n",
    "    （1）比较相邻的元素，如果第一个比第二个大（升序），就交换他们两个；\n",
    "    （2）对每一对相邻的元素做同样的操作，从开第一对到结尾最后一对。做完后，最后的元素会是最大的数；\n",
    "    （3）持续每次对越来越少的元素重复上面的步骤，直到没有任何一对数字需要比较。\n",
    "    \n",
    "**时间复杂度O**:\n",
    "\n",
    "    （1）最优时间复杂度：O(n)\n",
    "    （2）最坏时间复杂度：O(n**2)\n",
    "    （3）稳定性：稳定"
   ]
  },
  {
   "cell_type": "code",
   "execution_count": null,
   "metadata": {},
   "outputs": [],
   "source": [
    "from matplotlib import pyplot as plt \n",
    "\n",
    "LIST_SIZE = 40\n",
    "PAUSE_TIME = 4 / LIST_SIZE\n",
    "\n",
    "def bubble_sort(alist):\n",
    "    for i in range(len(alist)-1):\n",
    "        for j in range(len(alist)-i-1):\n",
    "            if alist[j] > alist[j+1]:\n",
    "                alist[j], alist[j+1] = alist[j+1], alist[j]\n",
    "            # 清除内容\n",
    "            plt.cla()\n",
    "            plt.bar(range(len(alist)), alist, align='center')\n",
    "            plt.bar(j, alist[j], color=\"r\", align=\"center\")\n",
    "            plt.bar(j + 1, alist[j + 1], color=\"r\", align=\"center\")\n",
    "            plt.pause(PAUSE_TIME)\n",
    "    plt.show()\n",
    "\n",
    "\n",
    "if __name__ == \"__main__\":\n",
    "    list_bubble = [54,26,93,17,77,31,44,55,20]\n",
    "    bubble_sort(list_bubble)\n",
    "    print(list_bubble)"
   ]
  },
  {
   "cell_type": "markdown",
   "metadata": {},
   "source": [
    "**选择排序（SelectSort）**\n",
    "\n",
    "首先在未排序序列中找到最小（或最大）元素，存放到排序序列的起始位置，然后再从剩余的未排序元素中继续寻找最小（最大）元素，然后放到已排序序列的末尾。\n",
    "\n",
    "**排序过程**：\n",
    "    \n",
    "    主要优点与数据移动有关。如果某个元素位于正确的最终位置上，则它不会被移动。选择排序每次交换一对元素，它们当中至少有一个将被移到其最终位置上，因此对n个元素的表进行排序总共进行至多n-1次交换。在所有的完全依靠交换去移动元素的排序方法中，选择排序属于非常好的一种。\n",
    "\n",
    "**时间复杂度**：\n",
    "    \n",
    "    （1）最优时间复杂度：O(n^2)\n",
    "    （2）最坏时间复杂度：O(n^2)\n",
    "    （3）稳定性：不稳定（考虑升序每次选择最大的情况）"
   ]
  },
  {
   "cell_type": "code",
   "execution_count": null,
   "metadata": {},
   "outputs": [],
   "source": [
    "from matplotlib import pyplot as plt\n",
    "\n",
    "LIST_SIZE = 40\n",
    "PAUSE_TIME = 4 / LIST_SIZE\n",
    "\n",
    "def selection_sort(nums):\n",
    "    for i in range(0, len(nums)):\n",
    "        min = i\n",
    "        for j in range(i + 1, len(nums)):\n",
    "            if nums[j] < nums[min]:\n",
    "                min = j\n",
    "            plt.cla()  # 清除内容\n",
    "            plt.bar(range(len(nums)), nums, align='center')\n",
    "            plt.bar(i, nums[i], color=\"r\", align=\"center\")\n",
    "            plt.bar(j, nums[j], color=\"r\", align=\"center\")\n",
    "            plt.pause(PAUSE_TIME)\n",
    "        nums[i], nums[min] = nums[min], nums[i]\n",
    "    plt.show()\n",
    "            \n",
    "\n",
    "if __name__ == \"__main__\":\n",
    "    list_sample = [54, 226, 93, 17, 77, 31, 44, 55, 20]\n",
    "    selection_sort(list_sample)\n",
    "    print(list_sample)"
   ]
  },
  {
   "cell_type": "markdown",
   "metadata": {},
   "source": [
    "### 数据判断"
   ]
  },
  {
   "cell_type": "markdown",
   "metadata": {},
   "source": [
    "**水仙花数**：\n",
    "打印 100 - 999 之间所有的 “水仙花数”（水仙花数，是指一个三位数其各位数字立方和等于该数本身）。例如：153 = 1^3 + 5^3 + 3^3 "
   ]
  },
  {
   "cell_type": "code",
   "execution_count": null,
   "metadata": {},
   "outputs": [],
   "source": [
    "def judge_sxh(num):\n",
    "    m = list(str(num))\n",
    "    s = 0\n",
    "    for i in m:\n",
    "        s += int(i) ** len(m)\n",
    "    if num == s:\n",
    "        return num\n",
    "    else:\n",
    "        pass\n",
    "    \n",
    "\n",
    "if __name__ == \"__main__\":\n",
    "    sxh = []\n",
    "    for i in range(100, 1000):\n",
    "        j = judge_sxh(i)\n",
    "        if j is not None:\n",
    "            sxh.append(j)\n",
    "    print(\"100-999之间所有的水仙花数有：\", sxh)"
   ]
  },
  {
   "cell_type": "markdown",
   "metadata": {},
   "source": [
    "**完全数**：如果一个数恰好等于它的因子之和，则称该数为“完全数”，又称为完备数或完美数。例如：6的完备数：1、2、3、6，6 = 1 + 2 + 3.\n",
    "\n",
    "求 1000 以内的完全数有哪些？"
   ]
  },
  {
   "cell_type": "code",
   "execution_count": null,
   "metadata": {},
   "outputs": [],
   "source": [
    "def judge_perfect_num(num):\n",
    "    s = 0\n",
    "    for i in range(1, num):\n",
    "        if num % i == 0  and i < num:\n",
    "            s += i\n",
    "    if s == num:\n",
    "        return num\n",
    "    else:\n",
    "        pass\n",
    "    \n",
    "\n",
    "if __name__ == \"__main__\":\n",
    "    perfect_num = []\n",
    "    for i in range(1, 1000):\n",
    "        j = judge_perfect_num(i)\n",
    "        if j is not None:\n",
    "            perfect_num.append(j)\n",
    "    print(\"1000以内的完全数数有：\", perfect_num)"
   ]
  },
  {
   "cell_type": "markdown",
   "metadata": {},
   "source": [
    "### 递归"
   ]
  },
  {
   "cell_type": "markdown",
   "metadata": {},
   "source": [
    "**计算 n 的阶乘**"
   ]
  },
  {
   "cell_type": "code",
   "execution_count": 9,
   "metadata": {},
   "outputs": [
    {
     "name": "stdout",
     "output_type": "stream",
     "text": [
      "b_1:  3628800\n",
      "b_2:  3628800\n",
      "b_3:  3628800\n",
      "b_4:  3628800\n"
     ]
    }
   ],
   "source": [
    "from functools import reduce\n",
    "\n",
    "a = 10\n",
    "\n",
    "b_1 = reduce(lambda x, y: x * y, range(1, a+1))\n",
    "print(\"b_1: \", b_1)\n",
    "\n",
    "def multiplicate(x, y):\n",
    "    return x * y\n",
    "    \n",
    "b_2 = reduce(multiplicate, range(1, a+1))\n",
    "print(\"b_2: \", b_2)\n",
    "\n",
    "def digui(n):\n",
    "    if n == 1:\n",
    "        return 1\n",
    "    else:\n",
    "        return n*digui(n-1)\n",
    "b_3 = digui(a)\n",
    "print(\"b_3: \", b_3)\n",
    "\n",
    "s = 1\n",
    "for i in range(1, a+1):\n",
    "    s = s * i\n",
    "b_4 = s\n",
    "print(\"b_4: \", b_4)"
   ]
  },
  {
   "cell_type": "markdown",
   "metadata": {},
   "source": [
    "**斐波拉契数列**:"
   ]
  },
  {
   "cell_type": "code",
   "execution_count": null,
   "metadata": {},
   "outputs": [],
   "source": [
    "def fibo(n):\n",
    "    a = 0 \n",
    "    b = 1\n",
    "    while b < 100:\n",
    "        print(b, end=\",\")\n",
    "        a, b = b, a+b\n",
    "        \n",
    "if __name__ == \"__main__\":\n",
    "    n = 10\n",
    "    fibo(n)"
   ]
  },
  {
   "cell_type": "markdown",
   "metadata": {},
   "source": [
    "**幂的递归**：计算 x ** n 次方"
   ]
  },
  {
   "cell_type": "code",
   "execution_count": 68,
   "metadata": {},
   "outputs": [
    {
     "name": "stdout",
     "output_type": "stream",
     "text": [
      "2 的 3 次方的值为：8\n"
     ]
    }
   ],
   "source": [
    "def mi(x, n):\n",
    "    if n == 0:\n",
    "        return 1\n",
    "    else:\n",
    "        return x * mi(x, n-1)\n",
    "\n",
    "if __name__ == \"__main__\":\n",
    "    a = 2\n",
    "    b = 3\n",
    "    print(\"%s 的 %s 次方的值为：%s\" % (a, b, mi(a, b)))"
   ]
  },
  {
   "cell_type": "markdown",
   "metadata": {},
   "source": [
    "汉诺塔"
   ]
  },
  {
   "cell_type": "code",
   "execution_count": 57,
   "metadata": {},
   "outputs": [],
   "source": [
    "pass"
   ]
  },
  {
   "cell_type": "markdown",
   "metadata": {},
   "source": [
    "## 程序设计"
   ]
  },
  {
   "cell_type": "markdown",
   "metadata": {},
   "source": [
    "### 设计微信群抢红包程序"
   ]
  },
  {
   "cell_type": "code",
   "execution_count": 13,
   "metadata": {},
   "outputs": [
    {
     "name": "stdout",
     "output_type": "stream",
     "text": [
      "红包金额：100\n",
      "群总人数：10\n",
      "the 0 player get 9.81 yuan\n",
      "the 1 player get 9.53 yuan\n",
      "the 2 player get 8.65 yuan\n",
      "the 3 player get 20.46 yuan\n",
      "the 4 player get 2.41 yuan\n",
      "the 5 player get 14.83 yuan\n",
      "the 6 player get 13.89 yuan\n",
      "the 7 player get 7.17 yuan\n",
      "the 8 player get 12.81 yuan\n",
      "the 9 player get 0.13 yuan\n"
     ]
    }
   ],
   "source": [
    "import random\n",
    "\n",
    "def grab_red_envelope(total_money, total_people):\n",
    "    each=[]\n",
    "    rest=total*100\n",
    "    restpeople=division\n",
    "    for i in range(0, division):\n",
    "        if rest==0:\n",
    "            print('done')\n",
    "        else:\n",
    "            money=random.randint(1,int((rest/restpeople)*2)-1)\n",
    "            restpeople-=1\n",
    "            rest-=money\n",
    "            each.append(money)\n",
    "            print('the %d player get %.2f yuan'%(i, money/100))\n",
    "    each.append(rest)\n",
    "        \n",
    "if __name__ == \"__main__\":\n",
    "    total = float(input(\"红包金额：\"))\n",
    "    division = int(input(\"群总人数：\"))\n",
    "    grab_red_envelope(total, division)"
   ]
  },
  {
   "cell_type": "markdown",
   "metadata": {},
   "source": [
    "### 找出连续重复最长子串"
   ]
  },
  {
   "cell_type": "code",
   "execution_count": 111,
   "metadata": {},
   "outputs": [
    {
     "name": "stdout",
     "output_type": "stream",
     "text": [
      "请输入字符串：123456abcdddffffffff\n"
     ]
    },
    {
     "data": {
      "text/plain": [
       "('f', 8)"
      ]
     },
     "execution_count": 111,
     "metadata": {},
     "output_type": "execute_result"
    }
   ],
   "source": [
    "def longest_repetition():\n",
    "    chars = input(\"请输入字符串：\")\n",
    "    if len(chars) ==0 or len(chars) == 1:\n",
    "        return(chars, len(chars))\n",
    "    counts = [1]*len(chars)\n",
    "    for i in range(len(chars)):\n",
    "        for j in range(i+1, len(chars)):\n",
    "            if chars[i] == chars[j]:\n",
    "                counts[i] += 1\n",
    "            else:\n",
    "                break\n",
    "    return(chars[counts.index(max(counts))], max(counts))\n",
    "\n",
    "longest_repetition()"
   ]
  },
  {
   "cell_type": "markdown",
   "metadata": {},
   "source": [
    "### 对字符串中不同元素个数进行统计"
   ]
  },
  {
   "cell_type": "code",
   "execution_count": 14,
   "metadata": {},
   "outputs": [
    {
     "name": "stdout",
     "output_type": "stream",
     "text": [
      "string_sample  this is a sample string123012378 788 \n",
      "{' ': 7, 't': 2, 'h': 1, 'i': 3, 's': 4, 'a': 2, 'm': 1, 'p': 1, 'l': 1, 'e': 1, 'r': 1, 'n': 1, 'g': 1, '1': 2, '2': 2, '3': 2, '0': 1, '7': 2, '8': 3}\n",
      "Counter({' ': 7, 's': 4, 'i': 3, '8': 3, 't': 2, 'a': 2, '1': 2, '2': 2, '3': 2, '7': 2, 'h': 1, 'm': 1, 'p': 1, 'l': 1, 'e': 1, 'r': 1, 'n': 1, 'g': 1, '0': 1})\n"
     ]
    }
   ],
   "source": [
    "# 利用字典的key的唯一性，遍历字符串将字符串中每个元素作为key\n",
    "string_sample = \" this is a sample string123012378 788 \"\n",
    "# string_sample = string_sample.replace(\" \", \"\")\n",
    "print(\"string_sample\", string_sample)\n",
    "list_string = list(string_sample)\n",
    "dict_string = {}\n",
    "for i in list_string:\n",
    "    dict_string[i] = list_string.count(i)\n",
    "print(dict_string)\n",
    "\n",
    "\n",
    "\n",
    "# 利用python的第三方库\n",
    "from collections import Counter\n",
    "\n",
    "counts = Counter(string_sample)\n",
    "print(counts)"
   ]
  },
  {
   "cell_type": "markdown",
   "metadata": {},
   "source": [
    "### 寻找列表中差值最大相邻的两个数"
   ]
  },
  {
   "cell_type": "code",
   "execution_count": 25,
   "metadata": {},
   "outputs": [
    {
     "name": "stdout",
     "output_type": "stream",
     "text": [
      "[9, 30, 1, 10, 20]\n",
      "请输入列表元素的个数：5\n",
      "29\n"
     ]
    }
   ],
   "source": [
    "def find_max_diff(A, n):\n",
    "    # 定义最小的负数\n",
    "    minx = -0x3f3f3f3f\n",
    "    for i in range(1, n):\n",
    "        if abs(A[i-1] - A[i]) > minx:\n",
    "            minx = abs(A[i-1] - A[i])\n",
    "    \n",
    "    return minx\n",
    "\n",
    "if __name__ == \"__main__\":\n",
    "    A = [9, 30, 1, 10, 20]\n",
    "    print(A)\n",
    "    n = int(input(\"请输入列表元素的个数：\"))\n",
    "    print(find_max_diff(A, n))"
   ]
  },
  {
   "cell_type": "markdown",
   "metadata": {},
   "source": [
    "### 取两个字符串中最大的公共子序列"
   ]
  },
  {
   "cell_type": "code",
   "execution_count": 42,
   "metadata": {},
   "outputs": [
    {
     "name": "stdout",
     "output_type": "stream",
     "text": [
      "超市\n",
      "很多人\n",
      "因为今天是大减价\n",
      "。\n",
      "也就是说遇\n",
      "冷夏。\n"
     ]
    }
   ],
   "source": [
    "def finxd_max_sub(str1, str2):\n",
    "    # 分别取两个字符串的长度\n",
    "    lstr1 = len(str1)\n",
    "    lstr2 = len(str2)\n",
    "\n",
    "    # 生成0矩阵，为方便后续计算，比字符串长度多了一列\n",
    "    record = [[0 for i in range(lstr2 + 1)] for j in range(lstr1 + 1)]\n",
    "    # print(record)\n",
    "    maxNum = 0  # 最长匹配长度\n",
    "    max_end = 0  # 匹配的终止\n",
    "    max_start = 0  # 匹配的起始位\n",
    "    map_maxstr = {}  # key为开始位置，value为最大匹配字符串\n",
    "\n",
    "    for i in range(lstr1):\n",
    "        for j in range(lstr2):\n",
    "            if str1[i] == str2[j]:\n",
    "                # 相同则累加\n",
    "                record[i + 1][j + 1] = record[i][j] + 1\n",
    "                if record[i + 1][j + 1] > maxNum:\n",
    "                    # 获取最大匹配长度\n",
    "                    maxNum = record[i + 1][j + 1]\n",
    "                    # 记录最大匹配长度的开始位置\n",
    "                    p = i + 1\n",
    "                    max_start = i + 1 - maxNum\n",
    "                    map_maxstr[max_start] = str1[p - maxNum:p]\n",
    "                    maxNum = 0\n",
    "        # return str1[p - maxNum:p], maxNum\n",
    "    return map_maxstr\n",
    "\n",
    "if __name__ == \"__main__\":\n",
    "    str_1 = \"abcdef\"\n",
    "    str_2 = 'cd0123'\n",
    "\n",
    "    s1='超市很多人因为今天是大减价。'\n",
    "    s2='因为今天是大减价，所以超市有很多人。'\n",
    "    s11='也就是说遇冷夏。'\n",
    "    s22='也就是说遇到了冷夏。'\n",
    "\n",
    "    map_maxstr={}\n",
    "    map_maxstr = finxd_max_sub(s1, s2)#返回匹配字符串\n",
    "    for m in map_maxstr:\n",
    "         print(map_maxstr.get(m))\n",
    "\n",
    "\n",
    "    map_maxstr = finxd_max_sub(s22, s11)#返回匹配字符串\n",
    "    for m in map_maxstr:\n",
    "         print(map_maxstr.get(m))\n",
    "            "
   ]
  },
  {
   "cell_type": "markdown",
   "metadata": {},
   "source": [
    "### 判断一个字符串是否是另一个的子字符串"
   ]
  },
  {
   "cell_type": "markdown",
   "metadata": {},
   "source": [
    "### 判断两个json是否相等"
   ]
  },
  {
   "cell_type": "code",
   "execution_count": 41,
   "metadata": {},
   "outputs": [
    {
     "ename": "JSONDecodeError",
     "evalue": "Expecting property name enclosed in double quotes: line 1 column 2 (char 1)",
     "output_type": "error",
     "traceback": [
      "\u001b[0;31m---------------------------------------------------------------------------\u001b[0m",
      "\u001b[0;31mJSONDecodeError\u001b[0m                           Traceback (most recent call last)",
      "\u001b[0;32m<ipython-input-41-3fb210ef4ffa>\u001b[0m in \u001b[0;36m<module>\u001b[0;34m\u001b[0m\n\u001b[1;32m     13\u001b[0m     \u001b[0mjson_1\u001b[0m \u001b[0;34m=\u001b[0m \u001b[0;34m\"{'numbers': [1, 3, 4, 8], 'foo': 'bar'}\"\u001b[0m\u001b[0;34m\u001b[0m\u001b[0;34m\u001b[0m\u001b[0m\n\u001b[1;32m     14\u001b[0m     \u001b[0mjson_2\u001b[0m \u001b[0;34m=\u001b[0m \u001b[0;34m\"{'foo': 'bar', 'numbers': [1, 3, 4]}\"\u001b[0m\u001b[0;34m\u001b[0m\u001b[0;34m\u001b[0m\u001b[0m\n\u001b[0;32m---> 15\u001b[0;31m     \u001b[0mcompare_json\u001b[0m\u001b[0;34m(\u001b[0m\u001b[0mjson_1\u001b[0m\u001b[0;34m,\u001b[0m \u001b[0mjson_2\u001b[0m\u001b[0;34m)\u001b[0m\u001b[0;34m\u001b[0m\u001b[0;34m\u001b[0m\u001b[0m\n\u001b[0m",
      "\u001b[0;32m<ipython-input-41-3fb210ef4ffa>\u001b[0m in \u001b[0;36mcompare_json\u001b[0;34m(json1, json2)\u001b[0m\n\u001b[1;32m      2\u001b[0m \u001b[0;34m\u001b[0m\u001b[0m\n\u001b[1;32m      3\u001b[0m \u001b[0;32mdef\u001b[0m \u001b[0mcompare_json\u001b[0m\u001b[0;34m(\u001b[0m\u001b[0mjson1\u001b[0m\u001b[0;34m,\u001b[0m \u001b[0mjson2\u001b[0m\u001b[0;34m)\u001b[0m\u001b[0;34m:\u001b[0m\u001b[0;34m\u001b[0m\u001b[0;34m\u001b[0m\u001b[0m\n\u001b[0;32m----> 4\u001b[0;31m     \u001b[0mdict1\u001b[0m \u001b[0;34m=\u001b[0m \u001b[0mjson\u001b[0m\u001b[0;34m.\u001b[0m\u001b[0mloads\u001b[0m\u001b[0;34m(\u001b[0m\u001b[0mjson1\u001b[0m\u001b[0;34m)\u001b[0m\u001b[0;34m\u001b[0m\u001b[0;34m\u001b[0m\u001b[0m\n\u001b[0m\u001b[1;32m      5\u001b[0m     \u001b[0mprint\u001b[0m\u001b[0;34m(\u001b[0m\u001b[0mdict1\u001b[0m\u001b[0;34m)\u001b[0m\u001b[0;34m\u001b[0m\u001b[0;34m\u001b[0m\u001b[0m\n\u001b[1;32m      6\u001b[0m     \u001b[0mdict2\u001b[0m \u001b[0;34m=\u001b[0m \u001b[0mjson\u001b[0m\u001b[0;34m.\u001b[0m\u001b[0mloads\u001b[0m\u001b[0;34m(\u001b[0m\u001b[0mjson2\u001b[0m\u001b[0;34m)\u001b[0m\u001b[0;34m\u001b[0m\u001b[0;34m\u001b[0m\u001b[0m\n",
      "\u001b[0;32m/usr/lib/python3.6/json/__init__.py\u001b[0m in \u001b[0;36mloads\u001b[0;34m(s, encoding, cls, object_hook, parse_float, parse_int, parse_constant, object_pairs_hook, **kw)\u001b[0m\n\u001b[1;32m    352\u001b[0m             \u001b[0mparse_int\u001b[0m \u001b[0;32mis\u001b[0m \u001b[0;32mNone\u001b[0m \u001b[0;32mand\u001b[0m \u001b[0mparse_float\u001b[0m \u001b[0;32mis\u001b[0m \u001b[0;32mNone\u001b[0m \u001b[0;32mand\u001b[0m\u001b[0;34m\u001b[0m\u001b[0;34m\u001b[0m\u001b[0m\n\u001b[1;32m    353\u001b[0m             parse_constant is None and object_pairs_hook is None and not kw):\n\u001b[0;32m--> 354\u001b[0;31m         \u001b[0;32mreturn\u001b[0m \u001b[0m_default_decoder\u001b[0m\u001b[0;34m.\u001b[0m\u001b[0mdecode\u001b[0m\u001b[0;34m(\u001b[0m\u001b[0ms\u001b[0m\u001b[0;34m)\u001b[0m\u001b[0;34m\u001b[0m\u001b[0;34m\u001b[0m\u001b[0m\n\u001b[0m\u001b[1;32m    355\u001b[0m     \u001b[0;32mif\u001b[0m \u001b[0mcls\u001b[0m \u001b[0;32mis\u001b[0m \u001b[0;32mNone\u001b[0m\u001b[0;34m:\u001b[0m\u001b[0;34m\u001b[0m\u001b[0;34m\u001b[0m\u001b[0m\n\u001b[1;32m    356\u001b[0m         \u001b[0mcls\u001b[0m \u001b[0;34m=\u001b[0m \u001b[0mJSONDecoder\u001b[0m\u001b[0;34m\u001b[0m\u001b[0;34m\u001b[0m\u001b[0m\n",
      "\u001b[0;32m/usr/lib/python3.6/json/decoder.py\u001b[0m in \u001b[0;36mdecode\u001b[0;34m(self, s, _w)\u001b[0m\n\u001b[1;32m    337\u001b[0m \u001b[0;34m\u001b[0m\u001b[0m\n\u001b[1;32m    338\u001b[0m         \"\"\"\n\u001b[0;32m--> 339\u001b[0;31m         \u001b[0mobj\u001b[0m\u001b[0;34m,\u001b[0m \u001b[0mend\u001b[0m \u001b[0;34m=\u001b[0m \u001b[0mself\u001b[0m\u001b[0;34m.\u001b[0m\u001b[0mraw_decode\u001b[0m\u001b[0;34m(\u001b[0m\u001b[0ms\u001b[0m\u001b[0;34m,\u001b[0m \u001b[0midx\u001b[0m\u001b[0;34m=\u001b[0m\u001b[0m_w\u001b[0m\u001b[0;34m(\u001b[0m\u001b[0ms\u001b[0m\u001b[0;34m,\u001b[0m \u001b[0;36m0\u001b[0m\u001b[0;34m)\u001b[0m\u001b[0;34m.\u001b[0m\u001b[0mend\u001b[0m\u001b[0;34m(\u001b[0m\u001b[0;34m)\u001b[0m\u001b[0;34m)\u001b[0m\u001b[0;34m\u001b[0m\u001b[0;34m\u001b[0m\u001b[0m\n\u001b[0m\u001b[1;32m    340\u001b[0m         \u001b[0mend\u001b[0m \u001b[0;34m=\u001b[0m \u001b[0m_w\u001b[0m\u001b[0;34m(\u001b[0m\u001b[0ms\u001b[0m\u001b[0;34m,\u001b[0m \u001b[0mend\u001b[0m\u001b[0;34m)\u001b[0m\u001b[0;34m.\u001b[0m\u001b[0mend\u001b[0m\u001b[0;34m(\u001b[0m\u001b[0;34m)\u001b[0m\u001b[0;34m\u001b[0m\u001b[0;34m\u001b[0m\u001b[0m\n\u001b[1;32m    341\u001b[0m         \u001b[0;32mif\u001b[0m \u001b[0mend\u001b[0m \u001b[0;34m!=\u001b[0m \u001b[0mlen\u001b[0m\u001b[0;34m(\u001b[0m\u001b[0ms\u001b[0m\u001b[0;34m)\u001b[0m\u001b[0;34m:\u001b[0m\u001b[0;34m\u001b[0m\u001b[0;34m\u001b[0m\u001b[0m\n",
      "\u001b[0;32m/usr/lib/python3.6/json/decoder.py\u001b[0m in \u001b[0;36mraw_decode\u001b[0;34m(self, s, idx)\u001b[0m\n\u001b[1;32m    353\u001b[0m         \"\"\"\n\u001b[1;32m    354\u001b[0m         \u001b[0;32mtry\u001b[0m\u001b[0;34m:\u001b[0m\u001b[0;34m\u001b[0m\u001b[0;34m\u001b[0m\u001b[0m\n\u001b[0;32m--> 355\u001b[0;31m             \u001b[0mobj\u001b[0m\u001b[0;34m,\u001b[0m \u001b[0mend\u001b[0m \u001b[0;34m=\u001b[0m \u001b[0mself\u001b[0m\u001b[0;34m.\u001b[0m\u001b[0mscan_once\u001b[0m\u001b[0;34m(\u001b[0m\u001b[0ms\u001b[0m\u001b[0;34m,\u001b[0m \u001b[0midx\u001b[0m\u001b[0;34m)\u001b[0m\u001b[0;34m\u001b[0m\u001b[0;34m\u001b[0m\u001b[0m\n\u001b[0m\u001b[1;32m    356\u001b[0m         \u001b[0;32mexcept\u001b[0m \u001b[0mStopIteration\u001b[0m \u001b[0;32mas\u001b[0m \u001b[0merr\u001b[0m\u001b[0;34m:\u001b[0m\u001b[0;34m\u001b[0m\u001b[0;34m\u001b[0m\u001b[0m\n\u001b[1;32m    357\u001b[0m             \u001b[0;32mraise\u001b[0m \u001b[0mJSONDecodeError\u001b[0m\u001b[0;34m(\u001b[0m\u001b[0;34m\"Expecting value\"\u001b[0m\u001b[0;34m,\u001b[0m \u001b[0ms\u001b[0m\u001b[0;34m,\u001b[0m \u001b[0merr\u001b[0m\u001b[0;34m.\u001b[0m\u001b[0mvalue\u001b[0m\u001b[0;34m)\u001b[0m \u001b[0;32mfrom\u001b[0m \u001b[0;32mNone\u001b[0m\u001b[0;34m\u001b[0m\u001b[0;34m\u001b[0m\u001b[0m\n",
      "\u001b[0;31mJSONDecodeError\u001b[0m: Expecting property name enclosed in double quotes: line 1 column 2 (char 1)"
     ]
    }
   ],
   "source": [
    "import json\n",
    "\n",
    "def compare_json(json1, json2):\n",
    "    dict1 = json.loads(json1)\n",
    "    print(dict1)\n",
    "    dict2 = json.loads(json2)\n",
    "    print(dict2)\n",
    "    #for key1, key2 in zip(sorted(dict1), sorted(dict2)):\n",
    "    #    if str(dict1[key1]) != str(dict2(key2)):\n",
    "    #        print(key1, dict1[key1], key2, dict2[key2])\n",
    "            \n",
    "if __name__ == \"__main__\":\n",
    "    json_1 = \"{'numbers': [1, 3, 4, 8], 'foo': 'bar'}\"\n",
    "    json_2 = \"{'foo': 'bar', 'numbers': [1, 3, 4]}\"\n",
    "    compare_json(json_1, json_2)"
   ]
  },
  {
   "cell_type": "markdown",
   "metadata": {},
   "source": [
    "### 判断一个json是否是另一个的子json"
   ]
  },
  {
   "cell_type": "markdown",
   "metadata": {},
   "source": [
    "# 接口篇"
   ]
  },
  {
   "cell_type": "markdown",
   "metadata": {},
   "source": [
    "## 网络基础"
   ]
  },
  {
   "cell_type": "markdown",
   "metadata": {},
   "source": [
    "### 浏览器输入 url 按回车背后经历了什么？"
   ]
  },
  {
   "cell_type": "markdown",
   "metadata": {},
   "source": [
    "    （1）检查输入url的合法性：浏览器地址栏输入 url，先解析 url，检测 url 地址是否合法；\n",
    "    \n",
    "    （2）浏览器检查缓存（先查看浏览器缓存-系统缓存-路由器缓存），如果有缓存，会直接在浏览器中显示。\n",
    "        浏览器缓存：浏览器会记录 DNS 记录一段时间，只是第一个地方解析 DNS 请求；\n",
    "        操作系统缓存：如果浏览器缓存中不存在该记录，则会调用操作系统最近的 DNS 查询缓存\n",
    "        浏览器缓存：上述两个步骤未获取到缓存记录，继续进行路由器缓存；\n",
    "        ISP 缓存：若上述均失败，继续向 ISP 搜索。\n",
    "        \n",
    "        【注】缓存相关的知识：https://www.cnblogs.com/slly/p/6732749.html\n",
    "        \n",
    "    （3）对域名进行DNS解析，获取到对应的IP地址；\n",
    "    \n",
    "    （4）浏览器向服务器发起 TCP 连接，建立 TCP 三次握手。\n",
    "        TCP三次握手：SYN：同步序列编号(Synchronize Sequence Numbers)\n",
    "            第一次握手：建立连接，客户端发送 SYN （SYN=j）包到服务端，并进入 SYN_SEND 状态，等待服务端确认；\n",
    "            第二次握手：服务端收到 SYN 包，确认客户端的 SYN（ack=j+1）,同时自己也发送一个 SYN 包（SYN=k），即发送 SYN+ACK 包，服务端进入 SYN_RECV 状态；\n",
    "            第三次握手：客户端收到服务端的 SYN+ACK 包，向服务端发送确认包 ACK（ACK=K+1），此包发送完毕，客户端和服务端进入 ESTABLISHED状态，完成三次握手。\n",
    "    \n",
    "    （5）握手成功后，浏览器向服务器发送 http 请求，请求数据包。\n",
    "    \n",
    "    （6）服务器收到客户端的请求后，将数据返回到浏览器\n",
    "    \n",
    "    （7）浏览器收到 HTTP 响应；\n",
    "    \n",
    "    （8）浏览器解码响应，如果响应可以缓存，则存入缓存；\n",
    "    \n",
    "    （9）浏览器发送请求获取嵌入在HTML中的资源（HTML、CSS、JavaScript、图片、音乐......），对于未知类型，会弹出对话框；\n",
    "    \n",
    "    （10）浏览器发送异步请求。\n",
    "    \n",
    "    （11）页面全部渲染结束。"
   ]
  },
  {
   "cell_type": "markdown",
   "metadata": {},
   "source": [
    "### 浏览器缓存"
   ]
  },
  {
   "cell_type": "markdown",
   "metadata": {},
   "source": [
    "**浏览器缓存资源**：HTML页面、图片、js、数据等；\n",
    "*当再次访问这个URL地址的时候，如果网页没有更新，就不会再次下载网页，而是直接使用本地缓存的网页。只有当网站明确标识资源已经更新，浏览器才会再次下载网页。*"
   ]
  },
  {
   "cell_type": "markdown",
   "metadata": {},
   "source": [
    "**缓存优点**：\n",
    "    \n",
    "    （1）减少网络带宽消耗。当Web缓存副本被使用的时候，只会产生极小的网络流量，可以有效的降低运营成本。\n",
    "    （2）降低服务器压力。对缓存资源设定有效期后，用户可以重复的使用本地缓存，较少对服务器资源的请求，间接降低服务器的压力；同时搜索引擎的爬虫机器人根据过期机制降低爬取的频率，有效降低服务器的压力；\n",
    "    （3）减少网络延迟，加快页面打开速度。加快页面打开速度，达到更好的体验。"
   ]
  },
  {
   "cell_type": "markdown",
   "metadata": {},
   "source": [
    "**缓存机制**：\n",
    "\n",
    "    （1）新鲜度（过期机制）：\n",
    "            A、含有完整的过期时间控制头信息（HTTP协议报头），并且仍在有效期内，浏览器直接从缓存中获取到副本并渲染。\n",
    "            B、浏览器已经使用过这个缓存副本，并且在一个会话中已经检查过新鲜度，浏览器直接从缓存中获取到副本并渲染。\n",
    "    （2）校验值（验证机制）：\n",
    "            服务器返回资源的时候有时在控制头信息带上这个资源的实体标签Etag（Entity Tag），它可以用来作为浏览器再次请求过程的校验标识。如过发现校验标识不匹配，说明资源已经被修改或过期，浏览器需求重新获取资源内容。"
   ]
  },
  {
   "cell_type": "markdown",
   "metadata": {},
   "source": [
    "**缓存实现**：\n",
    "\n",
    "    使用HTML Meta 标签：在HTML页面的<head>节点中加入<meta>标签\n",
    "    `<meta http-equiv=\"Pragma\" content=\"no-cache\">  <!- Pragma是http1.0版本中给客户端设定缓存方式之一 -->`"
   ]
  },
  {
   "cell_type": "markdown",
   "metadata": {},
   "source": [
    "### GET 和 POST 的区别"
   ]
  },
  {
   "cell_type": "markdown",
   "metadata": {},
   "source": [
    "**本质区别**：\n",
    "\n",
    "    GTE 请求产生一个 TCP 数据包，浏览器会把 http header 和 data 一并发出去，服务器响应 200 返回数据；\n",
    "    POST 请求产生两个 TCP 数据包，浏览器先发送 header ，服务器响应 100 continue，浏览器再发送 data，服务器响应 200 返回数据。"
   ]
  },
  {
   "cell_type": "markdown",
   "metadata": {},
   "source": [
    "### cookies 和 session"
   ]
  },
  {
   "cell_type": "markdown",
   "metadata": {},
   "source": [
    "区别：\n",
    "\n",
    "+ cookies 数据保存在客户端，session 数据保存在服务器端；\n",
    "+ cookies 可以减轻服务器压力， 但是不安全，容易进行 cookies 欺骗；\n",
    "+ session 较安全，但占用服务器资源"
   ]
  },
  {
   "cell_type": "markdown",
   "metadata": {},
   "source": [
    "### HTTP 状态码"
   ]
  },
  {
   "cell_type": "markdown",
   "metadata": {},
   "source": [
    "+ 2xx\n",
    "    - 200 请求已成功，请求所希望的响应头或数据体将随此响应返回。\n",
    "    - 201 请求已经被实现，而且有一个新的资源已经依据请求的需要而建立，且其 URI 已经随 Location 头信息返回\n",
    "    - 202 服务器已接受请求，但尚未处理\n",
    "\n",
    "+ 3xx\n",
    "    - 301 （永久移动） 请求的网页已永久移动到新位置。 服务器返回此响应（对 GET 或 HEAD 请求的响应）时，会自动将请求者转到新位置。\n",
    "    - 302 （临时移动） 服务器目前从不同位置的网页响应请求，但请求者应继续使用原有位置来进行以后的请求。\n",
    "    - 303 （查看其他位置） 请求者应当对不同的位置使用单独的 GET 请求来检索响应时，服务器返回此代码。\n",
    "    - 304 （未修改） 自从上次请求后，请求的网页未修改过。 服务器返回此响应时，不会返回网页内容。\n",
    "    - 305 （使用代理） 请求者只能使用代理访问请求的网页。 如果服务器返回此响应，还表示请求者应使用代理。\n",
    "    - 307 （临时重定向） 服务器目前从不同位置的网页响应请求，但请求者应继续使用原有位置来进行以后的请求。\n",
    "    \n",
    "+ 4xx\n",
    "    - 401 当前请求需要用户验证。如果当前请求已经包含了 Authorization 证书，那么 401 响应代表着服务器验证已经拒绝了那些证书\n",
    "    - 403 服务器已经理解请求，但是拒绝执行它。与 401 响应不同的是，身份验证并不能提供任何帮助，而且这个请求也不应该被重复提交\n",
    "    - 404 请求失败，请求所希望得到的资源未被在服务器上发现\n",
    "\n",
    "+ 5xx\n",
    "    - 500 服务器遇到了一个未曾预料的状况，导致了它无法完成对请求的处理。一般来说，这个问题都会在服务器的程序码出错时出现。\n",
    "    - 502 作为网关或者代理工作的服务器尝试执行请求时，从上游服务器接收到无效的响应。\n",
    "    - 503 由于临时的服务器维护或者过载，服务器当前无法处理请求。这个状况是临时的，并且将在一段时间以后恢复。\n"
   ]
  },
  {
   "cell_type": "markdown",
   "metadata": {},
   "source": [
    "### HTTP 和 HTTPS"
   ]
  },
  {
   "cell_type": "markdown",
   "metadata": {},
   "source": [
    "http 协议有哪几种请求方式？\n",
    "    \n",
    "    GET, POST 和 HEAD 方、OPTIONS, PUT, DELETE, TRACE 和 CONNECT 方法。\n",
    "    \n",
    "HTTPS=SSL+HTTP\n",
    "\n",
    "    1、https 协议需要到 ca 申请证书，一般免费证书较少，因而需要一定费用。\n",
    "    2、http 是超文本传输协议，信息是明文传输，https 则是具有安全性的 ssl 加密传输协议。\n",
    "    3、http 和 https 使用的是完全不同的连接方式，用的端口也不一样，前者是 80，后者是 443。\n",
    "    4、http 的连接很简单，是无状态的；HTTPS 协议是由 SSL+HTTP 协议构建的可进行加密传输、身份认证的网络协议，比 http 协议安全。\n",
    "    \n",
    "注：什么是无状态呢？\n",
    "+ 无状态就是对于事务处理没有记忆能力，意味着如果后续处理需要前面的信息无状态协议无法进行处理；\n",
    "+ 不过，集合其他技术可以解决\n",
    "    - cookies 会话保存\n",
    "    - session 会话保存"
   ]
  },
  {
   "cell_type": "markdown",
   "metadata": {},
   "source": [
    "### 报文"
   ]
  },
  {
   "cell_type": "markdown",
   "metadata": {},
   "source": [
    "+ 请求报文\n",
    "    - 请求行：包含请求方法、URL、HTTP版本信息\n",
    "    - 请求头部（headers）字段\n",
    "    - 请求内容实体（body）\n",
    "    \n",
    "+ 响应报文\n",
    "    - 转态行：HTTP版本、状态码、状态码原因信息\n",
    "    - 响应头部（headers）字段\n",
    "    - 响应内容实体（body）\n",
    "    \n",
    "POST请求方式：\n",
    "    - application/x-www-form-urlencoded\n",
    "    - multipart/form-data\n",
    "    - application/json\n",
    "    - text/xml"
   ]
  },
  {
   "cell_type": "markdown",
   "metadata": {},
   "source": [
    "### DNS"
   ]
  },
  {
   "cell_type": "markdown",
   "metadata": {},
   "source": [
    "域名解析服务。将主机名转换为 IP 地址。"
   ]
  },
  {
   "cell_type": "markdown",
   "metadata": {},
   "source": [
    "## 接口基础"
   ]
  },
  {
   "cell_type": "markdown",
   "metadata": {},
   "source": [
    "### 为什么做接口测试？"
   ]
  },
  {
   "cell_type": "markdown",
   "metadata": {},
   "source": [
    "**例子**\n",
    "\n",
    "电子钱包 ：\n",
    "    可提现金额：100元<br>\n",
    "    提现金额：【】元<br>\n",
    "    【提交】\n",
    "\n",
    "-----------\n",
    "**接口测试优势**\n",
    "    \n",
    "    （1）可以发现很多页面上操作发现不了的 bug\n",
    "    （2）检查系统的异常处理能力\n",
    "    （3）检查系统的安全性、稳定性\n",
    "    （4）前端随便变，接口测好了，后端不用变\n",
    "    （5）可以测试并发情况，一个账号，同时（大于 2 个请求）对最后一个商品下单，或不同账号，对最后一个商品下单\n",
    "    （6）可以修改请求参数，突破前端页面输入限制（如金额）"
   ]
  },
  {
   "cell_type": "markdown",
   "metadata": {},
   "source": [
    "### 接口怎么测？"
   ]
  },
  {
   "cell_type": "markdown",
   "metadata": {},
   "source": [
    "+ **业务功能测试**:\n",
    "    - **通过性验证**：按需求和接口文档上的参数正常传入，看是否能返回正确结果。\n",
    "    - **业务相关异常测试**:必传参数+非必传参数、异常参数类型、入参长度不符合规定\n",
    "+ **异常测试**:\n",
    "    - **重复提交**\n",
    "    - **并发测试**\n",
    "    - **事务测试**\n",
    "    - **分布式测试**\n",
    "    - **环境异常测试**\n",
    "    - **大数据量测试**\n",
    "        + **同时处理大批量数据的测试**\n",
    "        + **DB数据量很大时，测试 DB 操作**\n",
    "+ **参数组合**：接口中某些参数的多种选择值的组合传参\n",
    "+ **接口安全**：\n",
    "    - **绕过验证**：比如商品价格改为负数（或其他值），看后端是否有验证；\n",
    "    - **敏感信息是否加密**\n",
    "        - 绕过身份授权：比如商品信息修改接口，本来只能卖家进行修改，传入普通用户后，看是否有验证；\n",
    "        - 参数是否加密：登录接口，用户名和密码是否均加密，如果不加密的话，被拦截到请求；\n",
    "        - 密码安全规则：密码规则的验证（弱口令）\n",
    "    - **SQL注入**\n",
    "+ **异常验证**：必传非必传、参数类型、入参长度\n",
    "+ **性能测试**：\n",
    "    - **接口并发**\n",
    "    - **响应时间**\n",
    "    - **吞吐量**\n",
    "    - **服务器资源使用率**：CPU、IO、内存、NetWork\n",
    "----\n",
    "+ **接口中数据依赖怎么处理**：\n",
    "    - 在手工接口测试或者自动化接口测试的过程中，上下游接口有数据依赖如何处理？\n",
    "    - 用一个全局变量来处理依赖的数据，比如登录后返回 return token,其它接口都需要这个 token,那就用全局变量来传 token 参数\n",
    "    - 不同的接口封装成不同的函数或方法，需要的数据 return 出来，用一个中间变量 a 去接受，后面的接口传 a 就可以了"
   ]
  },
  {
   "cell_type": "markdown",
   "metadata": {},
   "source": [
    "### 没有接口文档怎么测接口？"
   ]
  },
  {
   "cell_type": "markdown",
   "metadata": {},
   "source": [
    "（**情商题**）\n",
    "+ 1.没有接口文档，那就需要先跟开发沟通，然后整理接口文档（本来是开发写的，没办法，自己整理了）\n",
    "\n",
    "+ 2.没有接口文档，可以抓包看接口请求参数，然后不懂的跟开发沟通\n",
    "\n",
    "-- 在做漏洞扫描器的工作时......"
   ]
  },
  {
   "cell_type": "markdown",
   "metadata": {},
   "source": [
    "### 如何判断是前端还是后端bug？"
   ]
  },
  {
   "cell_type": "markdown",
   "metadata": {},
   "source": [
    "先抓包看请求报文，对照接口文档，看请求报文有无问题，有问题就是前端发的数据不对，前端的问题；<br>\n",
    "请求报文没问题的话，看返回报文，返回的数据不对，那就是后端的问题"
   ]
  },
  {
   "cell_type": "markdown",
   "metadata": {},
   "source": [
    "## 接口访问控制策略"
   ]
  },
  {
   "cell_type": "markdown",
   "metadata": {},
   "source": [
    "+ **加Token**：API请求 URL 的后面加上一个AccessToken，作为一个参数传入，缺点就是：一旦别人获取到该 AccessToken 就可以伪装什么使用该接口；\n",
    "+ **接口白名单限制**\n",
    "+ **加了签名的Token**：加入了签名的 TOKEN，通过接口字段设计出一个（ID+timestamp等）签名 Token，服务端进行 Token 身份验证\n",
    "+ **OAUTH**：OAUTH认证，这种需要辅以用户账号系统，通常涉及到服务器，客户端和用户三方的认证，即用户对这次请求进行认证"
   ]
  },
  {
   "cell_type": "markdown",
   "metadata": {},
   "source": [
    "## web请求无反应的原因及如何定位"
   ]
  },
  {
   "cell_type": "markdown",
   "metadata": {},
   "source": [
    "+ 网页分析工具：http://www.mmtrix.com/\n",
    "\n",
    "+ 后端问题：【参考：https://blog.csdn.net/mysouling/article/details/51210297】\n",
    "    - 大量数据库操作。小网站在执行大量数据库操作时，也会影响网站打开速度，这里使asp+access结构的网站尤为明显，尤其是同时有大量用户提交评论时，就操作数据库锁死，导致网站打不开\n",
    "    - 网站本身程序卡死（程序本身的问题）\n",
    "\n",
    "+ 前端问题：【https://zhuanlan.zhihu.com/p/57124680】\n",
    "    - Http请求太多，导致加载资源过多导致占用服务器资源过多，时间越久支持不了并发量，服务器承受不了太多的请求，开始丢弃部分数据，网页无法打开，报错404；解决方法：减少请求次数\n",
    "    - 接受数据时间过长（下载资源过大）:对HTTP传输进行压缩，即在js，css、图片等资源已经压缩的基础上，在HTTP传输过程中的再次压缩。解决方法：客户端可以通过Accept-Encoding头来声明浏览器支持的压缩方式，服务端通过Content-Encoding来启用压缩，配置压缩的文件类型，压缩方式。gzip使用无损压缩，压缩效果最佳，已经成为使用最为普遍、支持的浏览器最多的数据压缩格式。该精灵图的就精灵图，该合并的 CSS 或 JS 就合并。\n",
    "    - JavaScript脚本过大，阻塞了页面的加载。解决方法：将JavaScript脚本放在标签前。script没有async和defer时，JS文件将在下载后立即执行。这种情况下，script放在顶部会阻塞页面呈现，在网速慢的情况下会导致“白屏”，直到脚本下载完毕才继续呈现页面。因此，script放在底部可以让页面尽快呈现。\n",
    "    - CSS、JavaScript、图片等需要重复加载。解决方法：静态资源统一放在一个静态域名上，减轻重复下载静态资源的负担。\n",
    "    - Cookie影响；解决方法：①去除没有必要的cookie，如果网页不需要cookie就完全禁掉；②将cookie的大小减到最小：减小HTTP请求报文的大小，提高响应速度；③设置合适的过期时间：cookie信息将存储到硬盘上，即使浏览器退出cookie还会存在，只要cookie未被清除且还在过期时间内，该cookie就会在访问对应域名时发送给服务器\n",
    "    - 网页资源过多，网络带宽不够导致请求超时，数据量太大，浏览器崩溃；解决方案：使用CDN部署网络以提高下载速度，可以先通过免费的CDN供应商来分发网页资源\n",
    "    - 可能引用了其他其他网站的资源\n",
    "\n",
    "+ 网络问题\n"
   ]
  },
  {
   "cell_type": "markdown",
   "metadata": {},
   "source": [
    "## HTTP请求超时"
   ]
  },
  {
   "cell_type": "markdown",
   "metadata": {},
   "source": [
    "超时分为 **请求超时** 和 **响应超时**，两种情况，底层一般都是抛出一个TimeoutException的异常。\n",
    "\n",
    "+ **请求超时**：客户端发起一个请求，通信层开始请求与服务器建立连接（包括在重试），如果在5S之内还没有连接到服务器，那么认为超时。\n",
    "\n",
    "+ **响应超时**：当服务器接受到请求数据后开始【处理数据->响应】，这个【处理数据->响应】阶段就可能会发生响应超时，比如服务器去执行数据库操作，在5S内还没有对stream做出反馈，那么客户端就认为超时（少部分人对下载有误解，下载则不一样，因为一直有输出数据，也就是对stream做了反馈），主动断开和服务器的连接。\n"
   ]
  },
  {
   "cell_type": "markdown",
   "metadata": {},
   "source": [
    "## 接口自动化"
   ]
  },
  {
   "cell_type": "markdown",
   "metadata": {},
   "source": [
    "### json和dict的区别"
   ]
  },
  {
   "cell_type": "markdown",
   "metadata": {},
   "source": [
    "Python 中的基础数据类型有：int、str、float、list、tuple、dict、set、bool、complex几种数据类型，所以dict是Python的基本数据类型；<br>\n",
    "Json（JavaScript Object Notation，JS对象简谱），是一种轻量级、完全独立于编程语言的文本形式存储的数据交换格式。Json 的本质上是按key:value键值对形式的字符串。"
   ]
  },
  {
   "cell_type": "code",
   "execution_count": null,
   "metadata": {},
   "outputs": [],
   "source": [
    "dict_sample = {\n",
    "    \"a\":1,\n",
    "    \"b\":{\n",
    "        'b1':21,\n",
    "        'b2':22\n",
    "    },\n",
    "    \"c\":3\n",
    "}\n",
    "print(\"dict_sample type is: \", type(dict_sample))\n",
    "\n",
    "json_sample = \"\"\"{\n",
    "    \"a\":1,\n",
    "    \"b\":{\n",
    "        'b1':21,\n",
    "        'b2':22\n",
    "    },\n",
    "    \"c\":3\n",
    "}\"\"\"\n",
    "print(\"json_sample type is: \", type(json_sample))"
   ]
  },
  {
   "cell_type": "markdown",
   "metadata": {},
   "source": [
    "### 测试数据放在哪？"
   ]
  },
  {
   "cell_type": "markdown",
   "metadata": {},
   "source": [
    "+ 对于账号密码这类全局参数，可以单独抽出来写在配置文件中（如ini）\n",
    "+ 对于一些一次性消耗的数据，比如注册，每次注册不一样的数，可以用随机函数生成\n",
    "+ 对于一个接口有多组测试的参数，可以参数化，数据方yaml，text，json，excel都可以\n",
    "+ 对于可以反复使用的数据，如订单的各种状态需要造数据，可以放在数据库中，每次进行数据初始化，用完后再进行清理\n",
    "+ 对于邮箱配置的一些参数，可以用ini配置文件\n",
    "+ 对于全是独立的接口项目，可以用数据驱动方式，用excel、csv管理测试的接口数据\n",
    "+ 对于少量的静态数据，这些数据长期不会变的，可以写在py脚本的开头\n",
    "\n",
    "总之不同的测试数据，可以用不同的文件管理"
   ]
  },
  {
   "cell_type": "markdown",
   "metadata": {},
   "source": [
    "### 测试数据处理"
   ]
  },
  {
   "cell_type": "markdown",
   "metadata": {},
   "source": [
    "**不可逆的操作，如何处理，比如删除一个订单这种接口如何测试**\n",
    "\n",
    "此题考的是造数据的能力，接口的请求数据，很多都是需要依赖前面一个状态的比如工作流这种，流向不同的人状态不一样，操作权限不一样，测试的时候，每种状态都要测到,就需要自己会造数据了。\n",
    "\n",
    "平常手工测试造数据，直接在数据库改字段状态。那么自动化也是一样，造数据可以用 python 连数据库了，做增删改查的操作\n",
    "\n",
    "测试用例前置操作，setUp 做数据准备\n",
    "\n",
    "后置操作，tearDown 做数据清理"
   ]
  },
  {
   "cell_type": "markdown",
   "metadata": {},
   "source": [
    "**接口产生的垃圾数据如何清理**:\n",
    "\n",
    "测试用例前置操作，setUp 做数据准备<br>\n",
    "后置操作，tearDown 做数据清理"
   ]
  },
  {
   "cell_type": "markdown",
   "metadata": {},
   "source": [
    "**一个订单的几种状态如何全部测到？**\n",
    "\n",
    "如：未处理，处理中，处理失败，处理成功<br>\n",
    "跟上面一样，也是考察造数据，修改数据的状态"
   ]
  },
  {
   "cell_type": "markdown",
   "metadata": {},
   "source": [
    "### Mock"
   ]
  },
  {
   "cell_type": "markdown",
   "metadata": {},
   "source": [
    "mock-----后续学习补充"
   ]
  },
  {
   "cell_type": "markdown",
   "metadata": {},
   "source": [
    "# SQL篇"
   ]
  },
  {
   "cell_type": "markdown",
   "metadata": {},
   "source": [
    "## 索引\n",
    "在关系型数据库中，索引是一种单独的、物理的对数据库表中一列或多列的值进行预排序的数据存储结构（相当于图书目录）；通过索引，可以让数据系统不必扫描全表，而直接定位到符合条件的标记，加速了查询速度。"
   ]
  },
  {
   "cell_type": "markdown",
   "metadata": {},
   "source": [
    "### 普通索引\n",
    "最基本的索引，没有任何限制，直接创建\n",
    "\n",
    "```mysql \n",
    "CREATE INDEX index_name ON table(coulumn(length))\n",
    "```"
   ]
  },
  {
   "cell_type": "markdown",
   "metadata": {},
   "source": [
    "### 唯一索引\n",
    "相比普通索引，唯一索引不允许具有相同索引值的行（禁止重复的索引或键值），必须是唯一的，但允许可以有空值。\n",
    "\n",
    "```mysql \n",
    "CREATE UNIQUE index_name ON table(coulum(length))\n",
    "```"
   ]
  },
  {
   "cell_type": "markdown",
   "metadata": {},
   "source": [
    "### 主键索引\n",
    "一个表只能有一个主键，不允许有空值，一般在创建表时创建主键索引\n",
    "\n",
    "```mysql\n",
    "CREATE TABEL 'table'(\n",
    "    'id' INT(11) NOT NULL AUTO_INCREMENT,\n",
    "    'title' CHAR(255) NOT NULL,\n",
    "    PRIMARY KEY('id')\n",
    ")\n",
    "```"
   ]
  },
  {
   "cell_type": "markdown",
   "metadata": {},
   "source": [
    "### 组合索引\n",
    "\n",
    "在表的多个字段上创建索引，只有在查询条件中使用了创建索引的第一个字段，索引才会被使用。使用组合索引是遵循最左前缀原则。\n",
    "\n",
    "```mysql\n",
    "ALTER TABLE table\n",
    "ADD INDEX index_name_city_age(name, city, age)\n",
    "```"
   ]
  },
  {
   "cell_type": "markdown",
   "metadata": {
    "heading_collapsed": true
   },
   "source": [
    "### 全文索引\n",
    "主要用来查找文本中的关键字，而不是直接与索引中的值相比较.fulltext索引跟其它索引大不相同，它更像是一个搜索引擎，而不是简单的where语句的参数匹配。fulltext索引配合match against操作使用，而不是一般的where语句加like。它可以在create table，alter table ，create index使用，不过目前只有char、varchar，text 列上可以创建全文索引。值得一提的是，在数据量较大时候，现将数据放入一个没有全局索引的表中，然后再用CREATE index创建fulltext索引，要比先为一张表建立fulltext然后再将数据写入的速度快很多\n",
    "\n",
    "```mysql\n",
    "CREATE TABLE `table` (\n",
    "        `id` int(11) NOT NULL AUTO_INCREMENT ,\n",
    "        `title` char(255) CHARACTER NOT NULL ,\n",
    "        `content` text CHARACTER NULL ,\n",
    "        `time` int(10) NULL DEFAULT NULL ,\n",
    "        PRIMARY KEY (`id`),\n",
    "        FULLTEXT (content));\n",
    "\n",
    "```"
   ]
  },
  {
   "cell_type": "markdown",
   "metadata": {},
   "source": [
    "## SQL 优化\n",
    "\n",
    "SQL优化原理-->: https://www.jianshu.com/p/d7665192aaaf"
   ]
  },
  {
   "cell_type": "markdown",
   "metadata": {},
   "source": [
    "+ 查询时尽量避免使用 SELECT * FROM table语句\n",
    "+ 尽量不使用 null 字段\n",
    "+ 为字段选择合适的数据类型\n",
    "+ 大数据量的可以进行分库分表，可以根据分库分表公式去查询任意 id 所在的表\n",
    "+ 合理创建索引\n",
    "+ 查询方式优化，查询时用上索引的特性：\n",
    "    - 查询时尽量避免全表扫描，首先在 WHERE 或 ORDER BY 设计的列上建立索引\n",
    "    - 尽量避免在 WHERE 子句中使用 ! 或 <> 操作符，否则导致存储引擎放弃使用索引而进行全表扫描\n",
    "    - 尽量避免在 WHERE 字句中使用 OR 来连接条件，否则导致存储引擎放弃使用索引而进行全表扫描\n",
    "        ```mysql\n",
    "        SELECT * FROM test WHERE id = 10 OR id = 20\n",
    "        -- 上面的查询语句可以优化成下面\n",
    "        SELECT * FROM test WHERE id = 10 UNION ALL SELECT * FROM test WHERE id = 20\n",
    "        ```\n",
    "    - 尽量避免在 WHERE 字句中使用 IN 或 NOT IN，否则导致存储引擎放弃使用索引而进行全表扫描\n",
    "        ```mysql\n",
    "        SELECT * FROM test WHERE id in (1, 2, 3)\n",
    "        -- 上面的查询语句可以优化成下面（如果是连续值的话）\n",
    "        SELECT * FROM test WHERE id BETTWEEN 1 AND 3\n",
    "        ```\n",
    "    - 尽量避免在 WHERE 子句中使用 LIKE “”\"%xx%\"，否则导致引擎放弃使用索引而进行全表扫描\n",
    "    - 在使用索引字段作为条件时，如果该索引是复合索引，那么必须使用到该索引中的第一个字段作为条件时才能保证系统使用该索引，否则该索引将不会被使用，并且应尽可能的让字段顺序与索引顺序相一致。\n",
    "    - 尽量避免在 WHERE 子句中对字段进行 NULL 值判断，否则导致引擎放弃使用索引而进行全表扫描\n",
    "        ```mysql\n",
    "        SELECT * FROM test WHERE id is NULL\n",
    "        -- 上面的查询语句可以优化成下面\n",
    "        SELECT * FROM test WHERE id = 0\n",
    "        ```\n"
   ]
  },
  {
   "cell_type": "markdown",
   "metadata": {},
   "source": [
    "## CHAR 和 VARCHAR 的区别\n",
    "谈到这个问题，首先来说一下存储引擎的事情："
   ]
  },
  {
   "cell_type": "markdown",
   "metadata": {},
   "source": [
    "### 存储引擎"
   ]
  },
  {
   "cell_type": "markdown",
   "metadata": {},
   "source": [
    "+ **概念**：在关系型数据中，数据的存储形式是以表的形式进行存储的，所以存储引擎也称为表类型（即存储和操作表的类型），数据类型跟数据库的存储引擎存在很大的关系\n",
    "\n",
    "+ **分类**：\n",
    "    - Innodb：MySQL5.5 版本以后默认支持的存储引擎，支持事务和行级锁定，比 MyISAM 的处理速度稍慢\n",
    "    - MYISAM：高速引擎，拥有较高的插入和查询速度，但不支持事务\n",
    "    - CSV：csv存储引擎是基于 csv 格式文件的存储引擎"
   ]
  },
  {
   "cell_type": "markdown",
   "metadata": {},
   "source": [
    "### CHAR 和 VARCHAR 的区别\n",
    "\n",
    "+ CHAR：用来存储字符串，属于固定长度的字符类型\n",
    "+ VARCHAR：用来存储字符串，属于可变长的字符类型\n",
    "\n",
    "-- 对于MySQL数据库（Innodb存储引擎）建议使用 VARCHAR，因为对于 InnoDB 数据表，内部的行存储格式没有区分固定长度和可变长度列"
   ]
  },
  {
   "cell_type": "markdown",
   "metadata": {},
   "source": [
    "## SQL计算题"
   ]
  },
  {
   "cell_type": "markdown",
   "metadata": {},
   "source": [
    "### Python连接MySQL"
   ]
  },
  {
   "cell_type": "code",
   "execution_count": null,
   "metadata": {},
   "outputs": [],
   "source": [
    "import pymysql\n",
    "\n",
    "# 打开数据库连接\n",
    "db = pymysql.connect(\"129.28.170.125\", \"root\", \"Root@159357\", \"test_data\")\n",
    "\n",
    "# 获取游标\n",
    "cursor = db.cursor()\n",
    "\n",
    "# 要执行的 sql 语句\n",
    "sql = \" SELECT * FROM user WHERE age > %s \" % (13)\n",
    "\n",
    "# 执行数据处理\n",
    "try:\n",
    "    # 执行 sql 语句\n",
    "    cursor.execute(sql)\n",
    "    \n",
    "    # 获取所有记录列表\n",
    "    results = cursor.fetchall()\n",
    "    for row in results:\n",
    "        print(row)\n",
    "except Exception as e:\n",
    "    print(\"Error: unable to tetch data\")\n",
    "    \n",
    "# 关闭数据库连接\n",
    "db.close()"
   ]
  },
  {
   "cell_type": "markdown",
   "metadata": {},
   "source": [
    "### 数据统计\n",
    "student表\n",
    "\n",
    "|id|name|age|\n",
    "|:--|:--|:--|\n",
    "|1001|张三|18|\n",
    "|1002|张四|19|\n",
    "|1003|张五|20|\n",
    "|1004|张六|21|\n",
    "|1005|张七|22|\n",
    "\n",
    "课程成绩表\n",
    "\n",
    "|no|user_id|subject|score|\n",
    "|:--|:--|:--|:--|\n",
    "|1|1001|语文|85|\n",
    "|2|1001|数学|98|\n",
    "|3|1001|英语|90|\n",
    "|4|1002|语文|99|\n",
    "|5|1002|数学|99|\n",
    "|6|1002|英语|90|\n",
    "|7|1003|语文|88|\n",
    "|8|1003|数学|90|\n",
    "|9|1003|英语|89|\n",
    "|10|1004|语文|90|\n",
    "|11|1004|数学|90|\n",
    "|12|1004|英语|90|\n",
    "|13|1005|语文|88|\n",
    "|14|1005|数学|88|\n",
    "|15|1005|英语|88|\n"
   ]
  },
  {
   "cell_type": "markdown",
   "metadata": {},
   "source": [
    "**排序order by**\n",
    "\n",
    "查询所有学生的数学成绩，显示学生姓名name, 分数，由高到低\n",
    "```mysql\n",
    "SELECT student.name, achievement.score\n",
    "FROM test_data.student, test_data.achievement\n",
    "WHERE student.id = achievement.user_id\n",
    "  AND achievement.subject=\"数学\"\n",
    "ORDER BY achievement.score DESC;\n",
    "```\n",
    "|name|score|\n",
    "|:--|:--|\n",
    "|张四|99|\n",
    "|张三|98|\n",
    "|张五|90|\n",
    "|张六|90|"
   ]
  },
  {
   "cell_type": "markdown",
   "metadata": {},
   "source": [
    "**统计总成绩**\n",
    "\n",
    "统计每个学生的总成绩，返回姓名、总成绩\n",
    "```mysql\n",
    "SELECT student.name, SUM(achievement.score) AS sum_score\n",
    "FROM student, achievement\n",
    "WHERE student.id = achievement.user_id\n",
    "GROUP BY student.name;\n",
    "```\n",
    "\n",
    "|name|sum_score|\n",
    "|:--|:--|\n",
    "|张七|264|\n",
    "|张三|273|\n",
    "|张五|267|\n",
    "|张六|270|"
   ]
  },
  {
   "cell_type": "markdown",
   "metadata": {},
   "source": [
    "**统计总成绩**\n",
    "\n",
    "统计每个学生的总成绩（由于学生可能有重名的），返回显示学生id，姓名，总成绩\n",
    "\n",
    "```mysql\n",
    "SELECT a.id, a.name, b.sum_score\n",
    "FROM student AS a,\n",
    "     (SELECT achievement.user_id, SUM(achievement.score) AS sum_score\n",
    "     FROM achievement GROUP BY achievement.user_id) AS b\n",
    "WHERE a.id = b.user_id\n",
    "```\n",
    "\n",
    "|user_id|name|sum_score|\n",
    "|:--|:--|:--|\n",
    "|1001|张三|273|\n",
    "|1002|张四|288|\n",
    "|1003|张五|267|\n",
    "|1004|张六|270|\n",
    "|1005|张七|264|\n"
   ]
  },
  {
   "cell_type": "markdown",
   "metadata": {},
   "source": [
    "**统计每个学生的单科最好成绩**\n",
    "\n",
    "列出各门课程成绩最好的学生， 要求显示字段: 学号，姓名,科目，成绩\n",
    "\n",
    "```mysql\n",
    "SELECT a.id, a.name, b.subject, b.score\n",
    "FROM student AS a, achievement AS b,\n",
    "     (SELECT a.subject,MAX(a.score) AS max_score\n",
    "      FROM achievement AS a\n",
    "      GROUP BY a.subject) AS c\n",
    "WHERE b.subject = c.subject\n",
    " AND b.score = c.max_score\n",
    " AND a.id = b.user_id;\n",
    "```\n",
    "\n",
    "|id|name|subject|score|\n",
    "|:--|:--|:--|:--|\n",
    "|1001|张三|英语|90|\n",
    "|1002|张四|语文|99|\n",
    "|1002|张四|数学|99|\n",
    "|1002|张四|英语|90|\n",
    "|1004|张六|英语|90|\n",
    "\n"
   ]
  },
  {
   "cell_type": "markdown",
   "metadata": {},
   "source": [
    "**各门课程成绩最好的 2位学生**\n",
    "\n",
    "列出各门课程成绩最好的 2 位学生， 要求显示字段: 学号，姓名, 科目，成绩\n",
    "\n",
    "```sql\n",
    "SELECT t1.user_id, a.name, t1.subject,t1.score\n",
    "FROM achievement t1, student a\n",
    "WHERE (SELECT COUNT(*) FROM achievement t2\n",
    "       WHERE t1.subject=t2.subject \n",
    "       AND t2.score>t1.score\n",
    ")<2\n",
    "AND a.id = t1.user_id\n",
    "ORDER BY t1.subject,t1.score DESC;\n",
    "\n",
    "```"
   ]
  },
  {
   "cell_type": "markdown",
   "metadata": {},
   "source": [
    "### 数据计算"
   ]
  },
  {
   "cell_type": "markdown",
   "metadata": {},
   "source": [
    "**计算每个学生的平均成绩**\n",
    "\n",
    "计算每个人的平均成绩， 要求显示字段: 学号，姓名，平均成绩\n",
    "\n",
    "```mysql\n",
    "SELECT a.id, a.name, c.avg_score\n",
    "FROM student AS a,\n",
    "     (SELECT b.user_id, AVG(b.score) AS avg_score\n",
    "      FROM achievement AS b\n",
    "      GROUP BY b.user_id\n",
    "     ) AS c\n",
    "WHERE a.id = c.user_id;\n",
    "```\n",
    "\n",
    "|id|name|avg_score|\n",
    "|:--|:--|:--|\n",
    "|1001|张三|91.0000|\n",
    "|1002|张四|96.0000|\n",
    "|1003|张五|89.0000|\n",
    "|1004|张六|90.0000|\n",
    "|1005|张七|88.0000|\n"
   ]
  },
  {
   "cell_type": "markdown",
   "metadata": {},
   "source": [
    "**每门课程平均成绩**\n",
    "\n",
    "列出各门课程的平均成绩，要求显示字段：课程，平均成绩\n",
    "\n",
    "```sql\n",
    "SELECT a.subject, AVG(a.score) AS age_score\n",
    "FROM achievement AS a\n",
    "GROUP BY a.subject;\n",
    "```\n",
    "\n",
    "|subject|avg_score|\n",
    "|:--|:--|\n",
    "|数学|93.0000|\n",
    "|英语|89.4000|\n",
    "|语文|90.0000|\n"
   ]
  },
  {
   "cell_type": "markdown",
   "metadata": {},
   "source": [
    "**成绩排名**\n",
    "\n",
    "列出数学成绩的排名， 要求显示字段：学号，姓名，成绩，排名\n",
    "\n",
    "```mysql\n",
    "SELECT c.id, c.name, b.score, @paiming := @paiming+1 AS \"rank\"\n",
    "FROM (\n",
    "SELECT *  FROM achievement AS a\n",
    "WHERE a.subject = \"数学\"\n",
    "ORDER BY a.score DESC ) AS b,\n",
    "(SELECT @paiming := 0) r, student AS c\n",
    "WHERE c.id = b.user_id;\n",
    "\n",
    "```\n",
    "\n",
    "|id|name|score|rank|\n",
    "|:--|:--|:--|:--|\n",
    "|1001|张三|98|1|\n",
    "|1002|张四|99|2|\n",
    "|1003|张五|90|3|\n",
    "|1004|张六|90|4|\n",
    "|1005|张七|88|5|\n"
   ]
  },
  {
   "cell_type": "markdown",
   "metadata": {},
   "source": [
    "**同结果名次相同**\n",
    "\n",
    "由于同一个分数的小伙伴，排名不一样，本着公平、公正、公开的原则，同一分数名次一样\n",
    "\n",
    "```sql\n",
    "SELECT d.id, d.name, d.score,\n",
    "       CASE WHEN @tmp = d.score THEN @paiming\n",
    "            WHEN @tmp := d.score THEN @paiming := @paiming + 1\n",
    "            WHEN @tmp = 0 THEN @paiming := @paiming + 1\n",
    "       END AS num\n",
    "FROM\n",
    "(\n",
    "   SELECT c.id, c.name, b.score\n",
    "   FROM (\n",
    "            SELECT a.user_id, a.score\n",
    "            FROM achievement AS a\n",
    "            WHERE a.subject = \"数学\"\n",
    "            ORDER BY a.score DESC) AS b,\n",
    "        (SELECT @paiming := 0, @tmp := 0) r,\n",
    "        student AS c\n",
    "   WHERE c.id = b.user_id\n",
    ") AS d\n",
    "```\n",
    "\n",
    "|id|name|score|rank|\n",
    "|:--|:--|:--|:--|\n",
    "|1001|张三|98|1|\n",
    "|1002|张四|99|2|\n",
    "|1003|张五|90|3|\n",
    "|1004|张六|90|3|\n",
    "|1005|张七|88|4|\n"
   ]
  },
  {
   "cell_type": "markdown",
   "metadata": {},
   "source": [
    "### 数据范围"
   ]
  },
  {
   "cell_type": "markdown",
   "metadata": {},
   "source": [
    "**查询前 3 名**\n",
    "\n",
    "列出数学成绩前 3 名的学生（要求显示字段：学号，姓名, 科目，成绩）\n",
    "\n",
    "```mysql\n",
    "SELECT b.id, b.name, a.subject, a.score\n",
    "FROM achievement AS a, student as b\n",
    "WHERE a.subject = \"数学\"\n",
    "  AND a.user_id = b.id\n",
    "ORDER BY a.score DESC\n",
    "LIMIT 3;\n",
    "\n",
    "```\n",
    "\n",
    "|id|name|subject|score|\n",
    "|:--|:--|:--|:--|\n",
    "|1002|张四|数学|99|\n",
    "|1001|张三|数学|98|\n",
    "|1003|张五|数学|90|\n"
   ]
  },
  {
   "cell_type": "markdown",
   "metadata": {},
   "source": [
    "**查询第 2-3 名记录**\n",
    "\n",
    "    limit 后面如果只写一个整数 n，那就是查询的前 n 条记录；\n",
    "    如果后面带 2 个整数n 和 m，那么第一个数 n 就是查询出来队列的起点（从 0 开始），第二个是 m是统计的总数目\n",
    "\n",
    "```mysql\n",
    "SELECT b.id, b.name, a.subject, a.score\n",
    "FROM achievement AS a, student as b\n",
    "WHERE a.subject = \"数学\"\n",
    "  AND a.user_id = b.id\n",
    "ORDER BY a.score DESC\n",
    "LIMIT 1, 2;\n",
    "```\n",
    "\n",
    "|id|name|subject|score|\n",
    "|:--|:--|:--|:--|\n",
    "|1001|张三|数学|98|\n",
    "|1003|张五|数学|90|\n"
   ]
  },
  {
   "cell_type": "markdown",
   "metadata": {},
   "source": [
    "**查询第 3 到后面所有的**\n",
    "\n",
    "查询第 3 名到后面所有的学生数学成绩\n",
    "\n",
    "```mysql\n",
    "SELECT b.id, b.name, a.subject, a.score\n",
    "FROM achievement AS a, student as b\n",
    "WHERE a.subject = \"数学\"\n",
    "  AND a.user_id = b.id\n",
    "ORDER BY a.score DESC\n",
    "LIMIT 3, 1000;\n",
    "```\n",
    "\n",
    "|id|name|subject|score|\n",
    "|:--|:--|:--|:--|\n",
    "|1004|张六|数学|90|\n",
    "|1005|张七|数学|88|\n"
   ]
  },
  {
   "cell_type": "markdown",
   "metadata": {},
   "source": [
    "**英语课程少于 80 分的人**\n",
    "\n",
    "统计英语课程少于 80 分的，显示 学号 id, 姓名，科目，分数\n",
    "\n",
    "```mysql\n",
    "SELECT a.id, a.name, b.subject, b.score\n",
    "FROM student AS a, achievement AS b\n",
    "WHERE a.id = b.user_id\n",
    "  AND b.subject = \"英语\"\n",
    "  AND b.score > 80;\n",
    "```\n",
    "\n",
    "|id|name|subject|score|\n",
    "|:--|:--|:--|:--|\n",
    "|1001|张三|英语|90|\n",
    "|1002|张四|英语|90|\n",
    "|1003|张五|英语|89|\n",
    "|1004|张六|英语|90|\n"
   ]
  },
  {
   "cell_type": "markdown",
   "metadata": {},
   "source": [
    "**统计每门课程不及格、一般、优秀**\n",
    "\n",
    "```mysql\n",
    "SELECT at.subject,\n",
    "       (SELECT COUNT(*) FROM achievement AS a WHERE a.score < 60 and a.subject = at.subject) AS '不及格',\n",
    "       (SELECT COUNT(*) FROM achievement AS a WHERE a.score BETWEEN 60 AND 80 AND a.subject = at.subject) AS '一般',\n",
    "       (SELECT COUNT(*) FROM achievement AS a WHERE a.score > 80 and a.subject = at.subject) AS '优秀'\n",
    "FROM achievement as at\n",
    "GROUP BY at.subject;\n",
    "```\n",
    "\n",
    "|subject|不及格|一般|优秀|\n",
    "|:--|:--|:--|:--|\n",
    "|数学|0|0|5|\n",
    "|英语|0|0|5|\n",
    "|语文|0|0|5|\n"
   ]
  },
  {
   "cell_type": "markdown",
   "metadata": {},
   "source": [
    "**查找每科成绩前 2 名**\n",
    "\n",
    "查找每科成绩前 2 名，显示 id, 姓名，科目，分数\n",
    "\n",
    "```mysql\n",
    "SELECT a.user_id, a.subject, a.score\n",
    "FROM achievement AS a, student AS b\n",
    "WHERE (\n",
    "    SELECT COUNT(*) FROM achievement as a1\n",
    "    WHERE a1.subject = a.subject AND a1.score > a.score\n",
    ") < 2\n",
    "AND a.user_id = b.id\n",
    "ORDER BY a.subject, a.score DESC;\n",
    "```\n",
    "\n",
    "|id|name|subject|score|\n",
    "|:--|:--|:--|:--|\n",
    "|1002|数学|99|\n",
    "|1001|数学|98|\n",
    "|1002|英语|90|\n",
    "|1004|英语|90|\n",
    "|1001|英语|90|\n",
    "|1002|语文|99|\n",
    "|1004|语文|90|\n"
   ]
  },
  {
   "cell_type": "markdown",
   "metadata": {},
   "source": [
    "### 模糊统计"
   ]
  },
  {
   "cell_type": "markdown",
   "metadata": {},
   "source": [
    "**having 和 not in**\n",
    "\n",
    "查询 xuesheng 表每门课都大于 80 分的学生\n",
    "\n",
    "```sql\n",
    "SELECT a.user_id\n",
    "FROM achievement AS a, student AS b\n",
    "WHERE a.user_id = b.id\n",
    "GROUP BY a.user_id\n",
    "HAVING MIN(a.score) > 80\n",
    "  AND COUNT(a.subject) > 2;\n",
    "\n",
    "SELECT *\n",
    "FROM student\n",
    "WHERE id NOT IN(\n",
    "    SELECT DISTINCT user_id\n",
    "    FROM achievement AS b\n",
    "    WHERE b.score <= 80\n",
    ");\n",
    "```\n"
   ]
  },
  {
   "cell_type": "markdown",
   "metadata": {},
   "source": [
    "**模糊查询%**\n",
    "\n",
    "用 sql 查询出“张”姓学生中平均成绩大于 75 分的学生信息\n",
    "\n",
    "```mysql\n",
    "SELECT *\n",
    "FROM student AS st\n",
    "WHERE st.id IN (\n",
    "    SELECT at.user_id\n",
    "    FROM achievement AS at\n",
    "    GROUP BY at.user_id\n",
    "    HAVING AVG(at.score) > 90\n",
    ")\n",
    " AND st.name LIKE \"%张%\";\n",
    "```\n",
    "\n",
    "|id|name|age|\n",
    "|:--|:--|:--|\n",
    "|1001|张三|18|\n",
    "|1002|张四|19|\n"
   ]
  },
  {
   "cell_type": "markdown",
   "metadata": {},
   "source": [
    "### SQL 通配符\n",
    "\n",
    "在 SQL 中，通配符与 SQL LIKE 操作符一起使用。SQL 通配符用于搜索表中的数据。在 SQL 中，可使用以下通配符：\n",
    "\n",
    "|通配符|描述|\n",
    "|:--|:--|\n",
    "|% |替代 0 个或多个字符|\n",
    "|_ |替代一个字符|\n",
    "|[charlist] | 字符列中的任何单一字符\n",
    "|[^charlist]或[!charlist]  | 不在字符列中的任何单一字符"
   ]
  },
  {
   "cell_type": "markdown",
   "metadata": {},
   "source": [
    "**MySQL 中使用 REGEXP 或 NOT REGEXP 运算符 (或 RLIKE 和 NOT RLIKE) 来操作正则表达式**\n",
    "\n",
    "```sql\n",
    "SELECT *\n",
    "FROM student AS st\n",
    "WHERE st.id IN (\n",
    "    SELECT at.user_id\n",
    "    FROM achievement AS at\n",
    "    GROUP BY user_id\n",
    "    HAVING AVG(at.score) > 90\n",
    ")\n",
    " AND st.name RLIKE \"[张]\";\n",
    " \n",
    " \n",
    "SELECT *\n",
    "FROM student AS st\n",
    "WHERE st.id IN (\n",
    "    SELECT at.user_id\n",
    "    FROM achievement AS at\n",
    "    GROUP BY user_id\n",
    "    HAVING AVG(at.score) > 90\n",
    ")\n",
    " AND st.name REGEXP \"^[张]\";\n",
    "```\n",
    "\n",
    "|id|name|age|\n",
    "|:--|:--|:--|\n",
    "|1001|张三|18|\n",
    "|1002|张四|19|"
   ]
  },
  {
   "cell_type": "markdown",
   "metadata": {},
   "source": [
    "# Linux篇"
   ]
  },
  {
   "cell_type": "markdown",
   "metadata": {},
   "source": [
    "## 常用的Linux命令"
   ]
  },
  {
   "cell_type": "markdown",
   "metadata": {},
   "source": [
    "+ ls：查看目录中的文件\n",
    "+ cd /home 进入 '/ home' 目录；cd .. 返回上一级目录；cd ../.. 返回上两级目录\n",
    "+ mkdir dir1 创建一个叫做 'dir1' 的目录\n",
    "+ rmdir dir1 删除一个叫做 'dir1' 的目录 （只能删除空目录）\n",
    "+ rm -f file1 删除一个叫做 'file1' 的文件'，-f 参数，忽略不存在的文件，从不给出提示。\n",
    "+ rm -rf /mulu 目录下面文件以及子目录下文件\n",
    "+ cp /test1/file1 /test3/file2 如将/test1 目录下的 file1 复制到 /test3 目录，并将文件名改为 file2\n",
    "+ mv /test1/file1 /test3/file2 如将/test1 目录下的 file1 移动到 /test3 目录，并将文件名改为 file2\n",
    "+ mv * ../ Linux 当前目录所有文件移动到上一级目录\n",
    "+ ps -ef|grep xxx 显示进程 pid\n",
    "+ kill 使用 kill 命令来终结进程。先使用 ps 命令找到进程 id，使用 kill -9 命令，终止进程。\n",
    "+ tar –xvf file.tar 解压 tar 包\n",
    "+ unzip file.zip 解压 zip\n",
    "+ unrar e file.rar 解压 rar\n",
    "+ free -m 查看服务器内存使用情况"
   ]
  },
  {
   "cell_type": "markdown",
   "metadata": {},
   "source": [
    "## 查看进程"
   ]
  },
  {
   "cell_type": "markdown",
   "metadata": {},
   "source": [
    "+ 查看所有 java 进程：ps -ef | grep java\n",
    "+ -aux显示所有状态：ps -aux | grep java\n",
    "\n",
    "Linux下显示系统进程的命令ps，最常用的有ps -ef 和ps aux。这两个到底有什么区别呢？两者没太大差别，讨论这个问题，要追溯到Unix系统中的两种风格，System Ｖ风格和BSD 风格，ps aux最初用到Unix Style中，而ps -ef被用在System V Style中，两者输出略有不同。现在的大部分Linux系统都是可以同时使用这两种方式的。\n",
    "\n",
    "ps -ef 是用标准的格式显示进程的、其格式如下\n",
    "\n",
    "\n",
    "\n",
    "其中各列的内容意思如下\n",
    "    UID    //用户ID、但输出的是用户名\n",
    "    PID    //进程的ID\n",
    "    PPID    //父进程ID\n",
    "    C      //进程占用CPU的百分比\n",
    "    STIME  //进程启动到现在的时间\n",
    "    TTY    //该进程在那个终端上运行，若与终端无关，则显示? 若为pts/0等，则表示由网络连接主机进程。\n",
    "    CMD    //命令的名称和参数\n",
    "    \n",
    "ps aux 是用BSD的格式来显示、其格式如下\n",
    "\n",
    "    同ps -ef 不同的有列有\n",
    "    USER      //用户名\n",
    "    %CPU      //进程占用的CPU百分比\n",
    "    %MEM      //占用内存的百分比\n",
    "    VSZ      //该进程使用的虚拟內存量（KB）\n",
    "    RSS      //该进程占用的固定內存量（KB）（驻留中页的数量）\n",
    "    STAT      //进程的状态\n",
    "    START    //该进程被触发启动时间\n",
    "    TIME      //该进程实际使用CPU运行的时间\n",
    "\n",
    "其中STAT状态位常见的状态字符有\n",
    "\n",
    "    D      //无法中断的休眠状态（通常 IO 的进程）；\n",
    "    R      //正在运行可中在队列中可过行的；\n",
    "    S      //处于休眠状态；\n",
    "    T      //停止或被追踪；\n",
    "    W      //进入内存交换 （从内核2.6开始无效）；\n",
    "    X      //死掉的进程 （基本很少见）；\n",
    "    Z      //僵尸进程；\n",
    "    <      //优先级高的进程\n",
    "    N      //优先级较低的进程\n",
    "    L      //有些页被锁进内存；\n",
    "    s      //进程的领导者（在它之下有子进程）；\n",
    "    l      //多线程，克隆线程（使用 CLONE_THREAD, 类似 NPTL pthreads）；\n",
    "\n",
    "+      //位于后台的进程组；\n",
    "\n",
    "ps -ef 输出结果的具体含义\n",
    "\n",
    "ps [选项]\n",
    "下面对命令选项进行说明：\n",
    "    -e   显示所有进程。\n",
    "    -f    全格式。\n",
    "    -h   不显示标题。\n",
    "    -l    长格式。\n",
    "    -w  宽输出。\n",
    "    a    显示终端上的所有进程，包括其他用户的进程。\n",
    "    r    只显示正在运行的进程。\n",
    "    u 　以用户为主的格式来显示程序状况。\n",
    "    x     显示所有程序，不以终端机来区分。\n",
    "\n",
    "\n",
    "ps -ef 显示出的结果：\n",
    "\n",
    "    1.UID       用户ID\n",
    "    2.PID        进程ID\n",
    "    3.PPID      父进程ID\n",
    "    4.C           CPU占用率\n",
    "    5.STIME     开始时间\n",
    "    6.TTY         开始此进程的TTY----终端设备\n",
    "    7.TIME       此进程运行的总时间\n",
    "    8.CMD       命令名"
   ]
  },
  {
   "cell_type": "markdown",
   "metadata": {},
   "source": [
    "## kill 杀掉进程"
   ]
  },
  {
   "cell_type": "markdown",
   "metadata": {},
   "source": [
    "+ kill 用于终止进程\n",
    "+ -9 强迫进程立即停止\n",
    "\n",
    "```bash\n",
    "kill -9 [PID]\n",
    "\n",
    "# PID获取\n",
    "ps -ef | grep 查询pid\n",
    "```"
   ]
  },
  {
   "cell_type": "markdown",
   "metadata": {},
   "source": [
    "## 查看日志"
   ]
  },
  {
   "cell_type": "markdown",
   "metadata": {},
   "source": [
    "+ 动态实时查看后端日志\n",
    "```bash \n",
    "tail -f log.out\n",
    "```\n",
    "\n",
    "+ 查看最近一百行的日志信息\n",
    "```bash\n",
    "tail -100 log.out\n",
    "```"
   ]
  },
  {
   "cell_type": "markdown",
   "metadata": {},
   "source": [
    "## 查看端口"
   ]
  },
  {
   "cell_type": "markdown",
   "metadata": {},
   "source": [
    "+ 查看某个端口是否被占用\n",
    "```bash\n",
    "# 显示为 LISTEN\n",
    "netstat -anp | grep 8080\n",
    "```\n",
    "\n",
    "        tcp        0      0 0.0.0.0:8888            0.0.0.0:*               LISTEN      1853/python3        \n",
    "        tcp        0      0 172.30.0.8:8888         111.193.254.123:54338   ESTABLISHED 1853/python3        \n",
    "        tcp        0      0 172.30.0.8:8888         111.193.254.123:54690   ESTABLISHED 1853/python3        \n",
    "        tcp6       0      0 :::8888                 :::*                    LISTEN      1853/python3   \n",
    "\n",
    "+ 查看当前所有已经使用的端口情况\n",
    "```bash\n",
    "netstat -nultp\n",
    "```"
   ]
  },
  {
   "cell_type": "markdown",
   "metadata": {},
   "source": [
    "## 查找文件"
   ]
  },
  {
   "cell_type": "markdown",
   "metadata": {},
   "source": [
    "+ 查找一个文件大小超过 5M 的文件\n",
    "```bash\n",
    "find . -type f -size +5M\n",
    "```\n",
    "\n",
    "+ 查看文件所存在的目录\n",
    "```bash\n",
    "find / -name test.name\n",
    "```"
   ]
  },
  {
   "cell_type": "markdown",
   "metadata": {},
   "source": [
    "## 根据进程号PID查找启动程序的全路径"
   ]
  },
  {
   "cell_type": "markdown",
   "metadata": {},
   "source": [
    "+ 方法一：\n",
    "```bash\n",
    "cd /proc/pid\n",
    "ls -ail\n",
    "```\n",
    "\n",
    "+ 方法二：\n",
    "```bash\n",
    "lsof -p pid\n",
    "```"
   ]
  },
  {
   "cell_type": "markdown",
   "metadata": {},
   "source": [
    "# Git篇\n",
    "\n",
    "作为一个测开工程师，Git是必不可少的交流工具。面试的时候也会经常涉及一些Git的使用的问题，来检测你对Git的掌握程度。"
   ]
  },
  {
   "cell_type": "markdown",
   "metadata": {},
   "source": [
    "## Git常用命令\n",
    "\n",
    "+ **初始化Git仓库**：git init\n",
    "+ **删除文件**：git rm file_name\n",
    "+ **添加文件到缓冲区**：\n",
    "    - git add .  添加所有文件，但是不能添加被手动删除的文件\n",
    "    - git add all 添加所有文件，但可以添加被手动删除的文件\n",
    "    - git add file_name  添加指定文件\n",
    "+ **将缓冲区的文件添加到本地仓库**：git commit -m \"note\"\n",
    "+ **查看仓库的状态**：git status（绿色：已经添加到缓存区；红色：未添加到缓存区）\n",
    "+ **查看文件修改前后对比**：git diff file_name\n",
    "+ **查看 git 操作日志**：git log\n",
    "+ **版本回退**：\n",
    "    - 会退到上一个版本：git reset --header HEAD^\n",
    "    - 回退到指定版本：git reset --header 指定版本的前4位\n",
    "+ **查看操作历史**:git reflog\n",
    "+ **查看当前分支**：git branch\n",
    "+ **创建分支**：git branch 分支名称\n",
    "+ **切换到分支**：git checkout -b 分支名称\n",
    "+ **合并分支到当前分支**：git mrege 分支名称\n",
    "+ **删除分支**：git branch -d 分支名称\n",
    "+ **查看分支合并图**：git log --graph\n",
    "+ **查看所有标签**：git tag\n",
    "+ **查看某个标签的详细信息**：git show 标签名\n",
    "+ **将 tag 提交到远程仓库**：\n",
    "    - 推送所有tag：git push origin --tags\n",
    "    - 推送某个tag：git push origin v1.0\n",
    "+ **查看某个时间的代码量**：git log --since=2018-09.01 --until=2018-09.27 --author=\"$(git config --get user.name)\" --pretty=tformat: --numstat | gawk '{ add += $1 ; subs += $2 ; loc += $1 - $2 } END { printf \"added lines: %s removed lines : %s total lines: %s\\n\",add,subs,loc }' -"
   ]
  },
  {
   "cell_type": "markdown",
   "metadata": {},
   "source": [
    "## Git区域介绍"
   ]
  },
  {
   "cell_type": "markdown",
   "metadata": {},
   "source": [
    "开发者工作区（workspace）\n",
    "\n",
    "暂存区（stage）\n",
    "\n",
    "本地仓库（repository）\n",
    "\n",
    "远程仓库（remote）\n",
    "\n",
    "\n",
    "workspace [git add -a/ git add .] ---> stage [git commit -m \"infomation\"] ---> repository [git push origin master] ---> remote"
   ]
  },
  {
   "cell_type": "markdown",
   "metadata": {},
   "source": [
    "## 提交冲突时如何解决？"
   ]
  },
  {
   "cell_type": "markdown",
   "metadata": {},
   "source": [
    "**产生原因**：同一文件的不同位置不同人做了不同的修改，提交时git不知道以那一个文件为准\n",
    "\n",
    "**解决方法**：将远程分支上文件的内容手动修改到本地文件中，然后再提交冲突的文件使其保证远程和分支的文件一致，然后再提交修改部分。\n",
    "    \n",
    "    git stash：将 workspace 中的修改提交到暂存区，目的是保存 workspace 的修改；\n",
    "    git pull: 拉取远程分支上的代码并合并到本地分支，目的是消除冲突；\n",
    "    git stash pop: 把保存在 stage 中的修改合并到最新的工作空间中"
   ]
  },
  {
   "cell_type": "markdown",
   "metadata": {},
   "source": [
    "## 新建 git 功能分支的步骤"
   ]
  },
  {
   "cell_type": "markdown",
   "metadata": {},
   "source": [
    "1. 创建分支：git branch branch_name_dev\n",
    "2. 切换分支: git checkout branch_name_dev\n",
    "3. 远程分支拉取到本地分支: git pull origin remote_branch_name_dev\n",
    "4. 创建并切换到分支: git checkout -b branch_name_dev\n",
    "5. 本地分支同步至远程分支: git push origin remote_branch_name_dev\n"
   ]
  },
  {
   "cell_type": "markdown",
   "metadata": {},
   "source": [
    "## git pull 和 git fetch 、git merge的区别"
   ]
  },
  {
   "cell_type": "markdown",
   "metadata": {},
   "source": [
    "```bash \n",
    "git pull origin master = git fetch(clone) repository + git merge + git checkout branch_name_dev \n",
    "```"
   ]
  },
  {
   "cell_type": "markdown",
   "metadata": {},
   "source": [
    "## 恢复到某一个版本"
   ]
  },
  {
   "cell_type": "markdown",
   "metadata": {},
   "source": [
    " ```bash\n",
    "git log：先查看下提交的历史记录\n",
    "git revert -n \"查看到的commit id\"\n",
    "git reset HEAD --<file_name>    拉取最近一次提交版本到暂存区 stage\n",
    "\n",
    "git log --oneline\n",
    "git reset [oneline 短commit id] --<file_name> \n",
    "```"
   ]
  }
 ],
 "metadata": {
  "kernelspec": {
   "display_name": "Python 3",
   "language": "python",
   "name": "python3"
  },
  "language_info": {
   "codemirror_mode": {
    "name": "ipython",
    "version": 3
   },
   "file_extension": ".py",
   "mimetype": "text/x-python",
   "name": "python",
   "nbconvert_exporter": "python",
   "pygments_lexer": "ipython3",
   "version": "3.6.9"
  },
  "latex_envs": {
   "LaTeX_envs_menu_present": true,
   "autoclose": false,
   "autocomplete": true,
   "bibliofile": "biblio.bib",
   "cite_by": "apalike",
   "current_citInitial": 1,
   "eqLabelWithNumbers": true,
   "eqNumInitial": 1,
   "hotkeys": {
    "equation": "Ctrl-E",
    "itemize": "Ctrl-I"
   },
   "labels_anchors": false,
   "latex_user_defs": false,
   "report_style_numbering": false,
   "user_envs_cfg": false
  },
  "toc": {
   "base_numbering": 1,
   "nav_menu": {
    "height": "99.9866px",
    "width": "487.967px"
   },
   "number_sections": true,
   "sideBar": true,
   "skip_h1_title": false,
   "title_cell": "Table of Contents",
   "title_sidebar": "测开常用题",
   "toc_cell": false,
   "toc_position": {
    "height": "calc(100% - 180px)",
    "left": "10px",
    "top": "150px",
    "width": "379.062px"
   },
   "toc_section_display": true,
   "toc_window_display": true
  },
  "varInspector": {
   "cols": {
    "lenName": 16,
    "lenType": 16,
    "lenVar": 40
   },
   "kernels_config": {
    "python": {
     "delete_cmd_postfix": "",
     "delete_cmd_prefix": "del ",
     "library": "var_list.py",
     "varRefreshCmd": "print(var_dic_list())"
    },
    "r": {
     "delete_cmd_postfix": ") ",
     "delete_cmd_prefix": "rm(",
     "library": "var_list.r",
     "varRefreshCmd": "cat(var_dic_list()) "
    }
   },
   "types_to_exclude": [
    "module",
    "function",
    "builtin_function_or_method",
    "instance",
    "_Feature"
   ],
   "window_display": false
  }
 },
 "nbformat": 4,
 "nbformat_minor": 1
}
